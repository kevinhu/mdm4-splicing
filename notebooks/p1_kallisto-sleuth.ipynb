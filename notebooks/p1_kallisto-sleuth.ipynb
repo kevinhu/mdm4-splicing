{
 "cells": [
  {
   "cell_type": "code",
   "execution_count": 17,
   "metadata": {
    "ExecuteTime": {
     "end_time": "2020-04-07T20:49:49.487481Z",
     "start_time": "2020-04-07T20:49:49.432221Z"
    }
   },
   "outputs": [],
   "source": [
    "import pandas as pd\n",
    "import numpy as np"
   ]
  },
  {
   "cell_type": "markdown",
   "metadata": {},
   "source": [
    "# Make TPM matrix"
   ]
  },
  {
   "cell_type": "markdown",
   "metadata": {},
   "source": [
    "## Experiments list"
   ]
  },
  {
   "cell_type": "code",
   "execution_count": 18,
   "metadata": {
    "ExecuteTime": {
     "end_time": "2020-04-07T20:49:50.493749Z",
     "start_time": "2020-04-07T20:49:50.446768Z"
    }
   },
   "outputs": [],
   "source": [
    "experiments = pd.read_csv(\n",
    "    \"../data/intermediate/experiment_setup.txt\", sep=\"\\t\")\n",
    "\n",
    "experiments[\"kallisto_path\"] = \"../data/intermediate/kallisto_quant/\" + \\\n",
    "    experiments[\"sample\"]+\"/abundance.tsv\"\n",
    "\n",
    "\n",
    "def load_tpms(exp_path, exp_name):\n",
    "    abundances = pd.read_csv(exp_path, sep=\"\\t\", index_col=0)\n",
    "\n",
    "    tpms = abundances[\"tpm\"]\n",
    "    tpms = tpms.rename(exp_name)\n",
    "    tpms = tpms.astype(np.float64)\n",
    "\n",
    "    return tpms"
   ]
  },
  {
   "cell_type": "markdown",
   "metadata": {},
   "source": [
    "## Merge TPMs"
   ]
  },
  {
   "cell_type": "code",
   "execution_count": 19,
   "metadata": {
    "ExecuteTime": {
     "end_time": "2020-04-07T20:50:04.512960Z",
     "start_time": "2020-04-07T20:49:52.107952Z"
    }
   },
   "outputs": [],
   "source": [
    "exps = zip(experiments[\"kallisto_path\"], experiments[\"sample\"])\n",
    "\n",
    "transcript_tpms = [load_tpms(x[0], x[1]) for x in exps]\n",
    "\n",
    "transcript_tpms = pd.concat(transcript_tpms, axis=1)\n",
    "\n",
    "transcript_tpms.to_csv(\"../data/processed/transcript_tpms.txt\", sep=\"\\t\")"
   ]
  },
  {
   "cell_type": "markdown",
   "metadata": {},
   "source": [
    "# Transcripts to genes"
   ]
  },
  {
   "cell_type": "code",
   "execution_count": 20,
   "metadata": {
    "ExecuteTime": {
     "end_time": "2020-04-07T20:50:05.016198Z",
     "start_time": "2020-04-07T20:50:04.516488Z"
    }
   },
   "outputs": [],
   "source": [
    "t2g = pd.read_csv(\"../data/intermediate/sleuth_diff/ensembl_t2g.csv\")\n",
    "\n",
    "transcript_gene_map = dict(zip(t2g[\"target_id\"], t2g[\"ens_gene\"]))"
   ]
  },
  {
   "cell_type": "markdown",
   "metadata": {},
   "source": [
    "## Sum transcripts by genes"
   ]
  },
  {
   "cell_type": "code",
   "execution_count": 21,
   "metadata": {
    "ExecuteTime": {
     "end_time": "2020-04-07T20:50:06.869748Z",
     "start_time": "2020-04-07T20:50:05.019535Z"
    }
   },
   "outputs": [],
   "source": [
    "_, align_ensembl_genes = transcript_tpms.align(t2g.set_index(\n",
    "    \"target_id\")[\"ens_gene\"], axis=0, join=\"inner\")\n",
    "\n",
    "gene_tpms = transcript_tpms.groupby(align_ensembl_genes).sum()\n",
    "\n",
    "gene_tpms.to_csv(\"../data/processed/gene_tpms.txt\", sep=\"\\t\")"
   ]
  },
  {
   "cell_type": "markdown",
   "metadata": {},
   "source": [
    "# Sleuth outputs"
   ]
  },
  {
   "cell_type": "code",
   "execution_count": 23,
   "metadata": {
    "ExecuteTime": {
     "end_time": "2020-04-07T20:50:18.501851Z",
     "start_time": "2020-04-07T20:50:18.493339Z"
    }
   },
   "outputs": [],
   "source": [
    "experiments = {\"rpl22_oe\": [\n",
    "    ['LNCaP_GFP_1',\n",
    "     'LNCaP_GFP_2',\n",
    "     'LNCaP_GFP_3'],\n",
    "    ['LNCaP_RPL22_1',\n",
    "     'LNCaP_RPL22_2',\n",
    "     'LNCaP_RPL22_3']\n",
    "],\n",
    "    \"rpl22l1_oe\": [\n",
    "    ['CAL851_GFP_1',\n",
    "     'CAL851_GFP_2',\n",
    "     'CAL851_GFP_3'],\n",
    "    ['CAL851_RPL22L1_1',\n",
    "     'CAL851_RPL22L1_2',\n",
    "     'CAL851_RPL22L1_3']\n",
    "],\n",
    "    \"sh704\": [\n",
    "    ['LNCaP_shLuc_1',\n",
    "     'LNCaP_shLuc_2',\n",
    "     'LNCaP_shLuc_3'],\n",
    "    ['LNCaP_sh704_1',\n",
    "     'LNCaP_sh704_2',\n",
    "     'LNCaP_sh704_3']\n",
    "],\n",
    "    \"sh705\": [\n",
    "    ['LNCaP_shLuc_1',\n",
    "     'LNCaP_shLuc_2',\n",
    "     'LNCaP_shLuc_3'],\n",
    "    ['LNCaP_sh705_1',\n",
    "     'LNCaP_sh705_2',\n",
    "     'LNCaP_sh705_3']\n",
    "],\n",
    "    \"rpl22_1a1\": [\n",
    "    ['NCIH2110_GFP_1',\n",
    "     'NCIH2110_GFP_2',\n",
    "     'NCIH2110_GFP_3'],\n",
    "    ['NCIH2110_RPL22-1A1_1',\n",
    "     'NCIH2110_RPL22-1A1_2',\n",
    "     'NCIH2110_RPL22-1A1_3']\n",
    "],\n",
    "    \"rpl22_4a1\": [\n",
    "    ['NCIH2110_GFP_1',\n",
    "     'NCIH2110_GFP_2',\n",
    "     'NCIH2110_GFP_3'],\n",
    "    ['NCIH2110_RPL22-4A1_1',\n",
    "     'NCIH2110_RPL22-4A1_2',\n",
    "     'NCIH2110_RPL22-4A1_3']\n",
    "]\n",
    "}\n",
    "\n",
    "experiment_ids = [\"rpl22_oe\", \"rpl22l1_oe\", \"sh704\", \"sh705\", \"rpl22_1a1\", \"rpl22_4a1\"]"
   ]
  },
  {
   "cell_type": "code",
   "execution_count": 24,
   "metadata": {
    "ExecuteTime": {
     "end_time": "2020-04-07T20:50:19.939137Z",
     "start_time": "2020-04-07T20:50:19.932267Z"
    }
   },
   "outputs": [],
   "source": [
    "def compute_medians(sleuth_diff, experiment):\n",
    "    sleuth_diff[\"control_median\"] = sleuth_diff[experiments[experiment][0]].median(axis=1)\n",
    "    sleuth_diff[\"treatment_median\"] = sleuth_diff[experiments[experiment][1]].median(axis=1)\n",
    "    sleuth_diff[\"median_foldchange\"] = sleuth_diff[\"treatment_median\"]/sleuth_diff[\"control_median\"]\n",
    "    \n",
    "def signed_p_rank(sleuth_diff):\n",
    "\n",
    "    sleuth_diff[\"-log_pval\"] = -np.log10(sleuth_diff[\"pval\"])\n",
    "    sleuth_diff[\"-log_pval\"] = sleuth_diff[\"-log_pval\"].replace(np.inf,320)\n",
    "    \n",
    "    sleuth_diff[\"treatment_increase\"] = -1 + 2*(sleuth_diff[\"median_foldchange\"] > 1)\n",
    "    \n",
    "    sleuth_diff[\"signed_pval\"] = sleuth_diff[\"-log_pval\"] * sleuth_diff[\"treatment_increase\"]\n",
    "    \n",
    "    sleuth_diff = sleuth_diff.sort_values(by=\"signed_pval\")"
   ]
  },
  {
   "cell_type": "code",
   "execution_count": 25,
   "metadata": {
    "ExecuteTime": {
     "end_time": "2020-04-07T20:50:20.651884Z",
     "start_time": "2020-04-07T20:50:20.645310Z"
    }
   },
   "outputs": [],
   "source": [
    "def process_sleuth_genes(experiment):\n",
    "    sleuth_diff = pd.read_csv(\"../data/intermediate/sleuth_diff/\"+experiment+\"_genes.csv\",index_col=1)\n",
    "        \n",
    "    controls = experiments[experiment][0]\n",
    "    treatments = experiments[experiment][1]\n",
    "    \n",
    "    sleuth_tpms = gene_tpms.loc[sleuth_diff.index,controls+treatments]\n",
    "    \n",
    "    sleuth_diff = pd.concat([sleuth_diff, sleuth_tpms], axis=1)\n",
    "    \n",
    "    compute_medians(sleuth_diff, experiment)\n",
    "    signed_p_rank(sleuth_diff)\n",
    "    \n",
    "    sleuth_diff = sleuth_diff.dropna(subset=[\"pval\",\"median_foldchange\",\"target_id\"],how=\"any\")\n",
    "    \n",
    "    # format Entrez ID as string\n",
    "    sleuth_diff[\"target_id\"] = sleuth_diff[\"target_id\"].astype(int).astype(str)\n",
    "\n",
    "    sleuth_diff.to_csv(\"../data/processed/kallisto_sleuth_merge/\"+experiment+\"_genes.txt\",sep=\"\\t\")"
   ]
  },
  {
   "cell_type": "code",
   "execution_count": 26,
   "metadata": {
    "ExecuteTime": {
     "end_time": "2020-04-07T20:50:22.072564Z",
     "start_time": "2020-04-07T20:50:22.067091Z"
    }
   },
   "outputs": [],
   "source": [
    "def process_sleuth_transcripts(experiment):\n",
    "    sleuth_diff = pd.read_csv(\"../data/intermediate/sleuth_diff/\"+experiment+\"_transcripts.csv\",index_col=1)\n",
    "        \n",
    "    controls = experiments[experiment][0]\n",
    "    treatments = experiments[experiment][1]\n",
    "    \n",
    "    sleuth_tpms = transcript_tpms.loc[sleuth_diff.index,controls+treatments]\n",
    "    \n",
    "    sleuth_diff = pd.concat([sleuth_diff, sleuth_tpms], axis=1)\n",
    "    \n",
    "    compute_medians(sleuth_diff, experiment)\n",
    "    signed_p_rank(sleuth_diff)\n",
    "    \n",
    "    sleuth_diff = sleuth_diff.dropna(subset=[\"pval\",\"median_foldchange\",\"entrez_gene\"],how=\"any\")\n",
    "    \n",
    "    # format Entrez ID as string\n",
    "    sleuth_diff[\"entrez_gene\"] = sleuth_diff[\"entrez_gene\"].astype(int).astype(str)\n",
    "\n",
    "    sleuth_diff.to_csv(\"../data/processed/kallisto_sleuth_merge/\"+experiment+\"_transcripts.txt\",sep=\"\\t\")    "
   ]
  },
  {
   "cell_type": "code",
   "execution_count": 27,
   "metadata": {
    "ExecuteTime": {
     "end_time": "2020-04-07T20:50:45.982714Z",
     "start_time": "2020-04-07T20:50:22.973376Z"
    }
   },
   "outputs": [
    {
     "name": "stdout",
     "output_type": "stream",
     "text": [
      "rpl22_oe\n"
     ]
    },
    {
     "name": "stderr",
     "output_type": "stream",
     "text": [
      "/Users/khu/anaconda3/envs/cenv/lib/python3.7/site-packages/pandas/core/indexing.py:1418: FutureWarning: \n",
      "Passing list-likes to .loc or [] with any missing label will raise\n",
      "KeyError in the future, you can use .reindex() as an alternative.\n",
      "\n",
      "See the documentation here:\n",
      "https://pandas.pydata.org/pandas-docs/stable/user_guide/indexing.html#deprecate-loc-reindex-listlike\n",
      "  return self._getitem_tuple(key)\n",
      "/Users/khu/anaconda3/envs/cenv/lib/python3.7/site-packages/numpy/lib/nanfunctions.py:1116: RuntimeWarning: All-NaN slice encountered\n",
      "  overwrite_input=overwrite_input)\n",
      "/Users/khu/anaconda3/envs/cenv/lib/python3.7/site-packages/pandas/core/series.py:856: RuntimeWarning: divide by zero encountered in log10\n",
      "  result = getattr(ufunc, method)(*inputs, **kwargs)\n"
     ]
    },
    {
     "name": "stdout",
     "output_type": "stream",
     "text": [
      "rpl22l1_oe\n",
      "sh704\n",
      "sh705\n",
      "rpl22_1a1\n",
      "rpl22_4a1\n"
     ]
    }
   ],
   "source": [
    "for exp_id in experiment_ids:\n",
    "    \n",
    "    print(exp_id)\n",
    "    \n",
    "    process_sleuth_genes(exp_id)\n",
    "    process_sleuth_transcripts(exp_id)"
   ]
  }
 ],
 "metadata": {
  "kernelspec": {
   "display_name": "Python 3",
   "language": "python",
   "name": "python3"
  },
  "language_info": {
   "codemirror_mode": {
    "name": "ipython",
    "version": 3
   },
   "file_extension": ".py",
   "mimetype": "text/x-python",
   "name": "python",
   "nbconvert_exporter": "python",
   "pygments_lexer": "ipython3",
   "version": "3.7.7"
  },
  "toc": {
   "base_numbering": 1,
   "nav_menu": {},
   "number_sections": true,
   "sideBar": true,
   "skip_h1_title": false,
   "title_cell": "Table of Contents",
   "title_sidebar": "Contents",
   "toc_cell": false,
   "toc_position": {},
   "toc_section_display": true,
   "toc_window_display": false
  }
 },
 "nbformat": 4,
 "nbformat_minor": 2
}
