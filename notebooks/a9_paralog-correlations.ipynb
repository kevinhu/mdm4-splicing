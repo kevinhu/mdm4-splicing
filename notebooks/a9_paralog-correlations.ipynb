{
 "cells": [
  {
   "cell_type": "code",
   "execution_count": 1,
   "id": "4de141a4",
   "metadata": {
    "ExecuteTime": {
     "end_time": "2022-01-09T21:57:05.978039Z",
     "start_time": "2022-01-09T21:57:04.586829Z"
    }
   },
   "outputs": [],
   "source": [
    "import pandas as pd\n",
    "import numpy as np\n",
    "\n",
    "import cancer_data\n",
    "\n",
    "from scipy.stats import pearsonr, spearmanr, mannwhitneyu\n",
    "\n",
    "from tqdm.notebook import tqdm_notebook\n",
    "tqdm_notebook.pandas()"
   ]
  },
  {
   "cell_type": "markdown",
   "id": "52c904d0",
   "metadata": {},
   "source": [
    "# Load data"
   ]
  },
  {
   "cell_type": "code",
   "execution_count": 11,
   "id": "2645776f",
   "metadata": {
    "ExecuteTime": {
     "end_time": "2022-01-09T21:58:00.532558Z",
     "start_time": "2022-01-09T21:57:57.557365Z"
    }
   },
   "outputs": [],
   "source": [
    "ensembl_paralogs = pd.read_csv(\"../data/raw/ensembl_paralogs.csv\", index_col=0)\n",
    "ensembl_entrez = pd.read_csv(\"../data/raw/ensembl_entrez.csv\", index_col=0)\n",
    "ensembl_entrez[\"entrezgene_id\"] = ensembl_entrez[\"entrezgene_id\"].astype(\"Int32\")"
   ]
  },
  {
   "cell_type": "code",
   "execution_count": 5,
   "id": "d6cf0c17",
   "metadata": {
    "ExecuteTime": {
     "end_time": "2022-01-09T21:57:34.637560Z",
     "start_time": "2022-01-09T21:57:09.729650Z"
    }
   },
   "outputs": [],
   "source": [
    "avana = cancer_data.load(\"avana\")\n",
    "depmap_damaging = cancer_data.load(\"depmap_damaging\")\n",
    "depmap_hotspot = cancer_data.load(\"depmap_hotspot\")\n",
    "\n",
    "ccle_genex = cancer_data.load(\"ccle_gene_tpm\")\n",
    "ccle_exonusage = cancer_data.load(\"ccle_exonusage\")\n",
    "depmap_cn = cancer_data.load(\"depmap_copy_number\")"
   ]
  },
  {
   "cell_type": "markdown",
   "id": "bca09e6e",
   "metadata": {},
   "source": [
    "# Map IDs"
   ]
  },
  {
   "cell_type": "code",
   "execution_count": 3,
   "id": "774103b2",
   "metadata": {
    "ExecuteTime": {
     "end_time": "2022-01-09T21:57:08.599244Z",
     "start_time": "2022-01-09T21:57:08.589948Z"
    }
   },
   "outputs": [],
   "source": [
    "ensembl_to_entrez = dict(zip(ensembl_entrez[\"ensembl_gene_id\"],ensembl_entrez[\"entrezgene_id\"]))\n",
    "ensembl_to_hgnc = dict(zip(ensembl_entrez[\"ensembl_gene_id\"],ensembl_entrez[\"hgnc_symbol\"]))"
   ]
  },
  {
   "cell_type": "code",
   "execution_count": 6,
   "id": "c5f2fb97",
   "metadata": {
    "ExecuteTime": {
     "end_time": "2022-01-09T21:57:34.833621Z",
     "start_time": "2022-01-09T21:57:34.638845Z"
    }
   },
   "outputs": [],
   "source": [
    "genex_genes = pd.DataFrame(pd.Series(ccle_genex.columns, name=\"id\"))\n",
    "genex_genes[\"ensembl_id\"] = (\n",
    "    genex_genes[\"id\"].apply(lambda x: x.split(\"_\")[-1]).apply(lambda x: x.split(\".\")[0])\n",
    ")\n",
    "\n",
    "exonusage_genes = pd.DataFrame(pd.Series(ccle_exonusage.columns, name=\"id\"))\n",
    "exonusage_genes[\"ensembl_id\"] = (\n",
    "    exonusage_genes[\"id\"].apply(lambda x: x.split(\"_\")[-1]).apply(lambda x: x.split(\".\")[0])\n",
    ")\n",
    "\n",
    "cn_genes = pd.DataFrame(pd.Series(depmap_cn.columns, name=\"id\"))\n",
    "cn_genes[\"entrez_id\"] = (\n",
    "    cn_genes[\"id\"].apply(lambda x: x.split(\"_\")[-1])\n",
    ")\n",
    "\n",
    "ensembl_to_genex = dict(zip(genex_genes[\"ensembl_id\"],genex_genes[\"id\"]))\n",
    "ensembl_to_exonusage = exonusage_genes.groupby(\"ensembl_id\")[\"id\"].apply(list).to_dict()\n",
    "entrez_to_cn = dict(zip(cn_genes[\"entrez_id\"],cn_genes[\"id\"]))"
   ]
  },
  {
   "cell_type": "code",
   "execution_count": 12,
   "id": "a67519ff",
   "metadata": {
    "ExecuteTime": {
     "end_time": "2022-01-09T21:58:02.617312Z",
     "start_time": "2022-01-09T21:58:01.455328Z"
    }
   },
   "outputs": [],
   "source": [
    "ensembl_paralogs[\"entrez_id\"] = ensembl_paralogs[\"ensembl_gene_id\"].apply(\n",
    "    ensembl_to_entrez.get\n",
    ").astype(str)\n",
    "ensembl_paralogs[\"paralog_entrez_id\"] = ensembl_paralogs[\n",
    "    \"hsapiens_paralog_ensembl_gene\"\n",
    "].apply(ensembl_to_entrez.get)\n",
    "\n",
    "ensembl_paralogs[\"hgnc_symbol\"] = ensembl_paralogs[\"ensembl_gene_id\"].apply(\n",
    "    ensembl_to_hgnc.get\n",
    ")\n",
    "ensembl_paralogs[\"paralog_hgnc_symbol\"] = ensembl_paralogs[\n",
    "    \"hsapiens_paralog_ensembl_gene\"\n",
    "].apply(ensembl_to_hgnc.get)"
   ]
  },
  {
   "cell_type": "code",
   "execution_count": 13,
   "id": "ce5d2e06",
   "metadata": {
    "ExecuteTime": {
     "end_time": "2022-01-09T21:58:36.487368Z",
     "start_time": "2022-01-09T21:58:33.423223Z"
    }
   },
   "outputs": [],
   "source": [
    "ensembl_paralogs[\"ccle_gene\"] = ensembl_paralogs[\"ensembl_gene_id\"].apply(\n",
    "    ensembl_to_genex.get\n",
    ")\n",
    "ensembl_paralogs[\"depmap_gene\"] = ensembl_paralogs[\"entrez_id\"].apply(\n",
    "    entrez_to_cn.get\n",
    ")\n",
    "ensembl_paralogs[\"ccle_paralog_exons\"] = ensembl_paralogs[\n",
    "    \"hsapiens_paralog_ensembl_gene\"\n",
    "].apply(ensembl_to_exonusage.get)\n",
    "ensembl_paralogs = ensembl_paralogs.dropna(subset=[\"ccle_paralog_exons\"])\n",
    "ensembl_paralogs = ensembl_paralogs.explode(\"ccle_paralog_exons\")\n",
    "ensembl_paralogs.reset_index(inplace=True)"
   ]
  },
  {
   "cell_type": "code",
   "execution_count": 23,
   "id": "a3089de2",
   "metadata": {
    "ExecuteTime": {
     "end_time": "2022-01-09T22:01:47.933308Z",
     "start_time": "2022-01-09T22:01:47.916958Z"
    }
   },
   "outputs": [],
   "source": [
    "def compute_paralog_cn_correlation(row):\n",
    "\n",
    "    gene = row[\"depmap_gene\"]\n",
    "    exon = row[\"ccle_paralog_exons\"]\n",
    "\n",
    "    if gene is None:\n",
    "        return (np.nan, np.nan, np.nan, np.nan, np.nan)\n",
    "\n",
    "    gene_cn = depmap_cn[gene].dropna()\n",
    "    exon_exonusage = ccle_exonusage[exon].dropna()\n",
    "\n",
    "    gene_cn, exon_exonusage = gene_cn.align(exon_exonusage, join=\"inner\")\n",
    "\n",
    "    intersection_size = gene_cn.size\n",
    "\n",
    "    if intersection_size < 50:\n",
    "        return (np.nan, np.nan, np.nan, np.nan, np.nan)\n",
    "\n",
    "    spearman_r, spearman_pval = spearmanr(gene_cn, exon_exonusage)\n",
    "    pearson_r, pearson_pval = pearsonr(gene_cn, exon_exonusage)\n",
    "\n",
    "    return (intersection_size, spearman_r, spearman_pval, pearson_r, pearson_pval)"
   ]
  },
  {
   "cell_type": "code",
   "execution_count": 24,
   "id": "4d61f58e",
   "metadata": {
    "ExecuteTime": {
     "end_time": "2022-01-09T22:49:39.293522Z",
     "start_time": "2022-01-09T22:01:48.653265Z"
    }
   },
   "outputs": [
    {
     "data": {
      "application/vnd.jupyter.widget-view+json": {
       "model_id": "907389b94668459fa861d752e3c11245",
       "version_major": 2,
       "version_minor": 0
      },
      "text/plain": [
       "  0%|          | 0/3331997 [00:00<?, ?it/s]"
      ]
     },
     "metadata": {},
     "output_type": "display_data"
    }
   ],
   "source": [
    "(\n",
    "    ensembl_paralogs[\"cn_num_samples\"],\n",
    "    ensembl_paralogs[\"cn_spearman_r\"],\n",
    "    ensembl_paralogs[\"cn_spearman_pval\"],\n",
    "    ensembl_paralogs[\"cn_pearson_r\"],\n",
    "    ensembl_paralogs[\"cn_pearson_pval\"],\n",
    ") = zip(*ensembl_paralogs.progress_apply(compute_paralog_cn_correlation, axis=1))"
   ]
  },
  {
   "cell_type": "code",
   "execution_count": 48,
   "id": "ddafff83",
   "metadata": {
    "ExecuteTime": {
     "end_time": "2022-01-10T00:24:22.290196Z",
     "start_time": "2022-01-10T00:24:22.266048Z"
    }
   },
   "outputs": [],
   "source": [
    "def compute_mwu(a, b):\n",
    "    a, b = a.align(b, join=\"inner\")\n",
    "\n",
    "    pos = b[a == True]\n",
    "    neg = b[a == False]\n",
    "\n",
    "    if pos.size < 5 or neg.size < 5:\n",
    "        return (np.nan, np.nan, np.nan, np.nan)\n",
    "\n",
    "    U2, pval = mannwhitneyu(\n",
    "        pos,\n",
    "        neg,\n",
    "        use_continuity=True,\n",
    "        alternative=\"two-sided\",\n",
    "    )\n",
    "\n",
    "    rank_biserial = 2 * U2 / (pos.size * neg.size) - 1\n",
    "\n",
    "    return (pos.size, neg.size, rank_biserial, pval)\n",
    "\n",
    "\n",
    "def compute_paralog_mut_correlation(row):\n",
    "\n",
    "    gene = row[\"hgnc_symbol\"]\n",
    "    exon = row[\"ccle_paralog_exons\"]\n",
    "\n",
    "    if gene is None:\n",
    "        return (np.nan, np.nan, np.nan, np.nan, np.nan, np.nan, np.nan, np.nan)\n",
    "\n",
    "    exon_exonusage = ccle_exonusage[exon].dropna()\n",
    "\n",
    "    if gene not in depmap_hotspot.columns:\n",
    "        hotspot_pos_size = np.nan\n",
    "        hotspot_neg_size = np.nan\n",
    "        hotspot_biserial = np.nan\n",
    "        hotspot_pval = np.nan\n",
    "    else:\n",
    "        gene_hotspot = depmap_hotspot[gene].dropna()\n",
    "        (\n",
    "            hotspot_pos_size,\n",
    "            hotspot_neg_size,\n",
    "            hotspot_biserial,\n",
    "            hotspot_pval,\n",
    "        ) = compute_mwu(gene_hotspot, exon_exonusage)\n",
    "\n",
    "    if gene not in depmap_damaging.columns:\n",
    "        damaging_pos_size = np.nan\n",
    "        damaging_neg_size = np.nan\n",
    "        damaging_biserial = np.nan\n",
    "        damaging_pval = np.nan\n",
    "    else:\n",
    "        gene_damaging = depmap_damaging[gene].dropna()\n",
    "        (\n",
    "            damaging_pos_size,\n",
    "            damaging_neg_size,\n",
    "            damaging_biserial,\n",
    "            damaging_pval,\n",
    "        ) = compute_mwu(gene_damaging, exon_exonusage)\n",
    "\n",
    "    return (\n",
    "        hotspot_pos_size,\n",
    "        hotspot_neg_size,\n",
    "        hotspot_biserial,\n",
    "        hotspot_pval,\n",
    "        damaging_pos_size,\n",
    "        damaging_neg_size,\n",
    "        damaging_biserial,\n",
    "        damaging_pval,\n",
    "    )"
   ]
  },
  {
   "cell_type": "code",
   "execution_count": 49,
   "id": "5766e930",
   "metadata": {
    "ExecuteTime": {
     "end_time": "2022-01-10T01:45:31.302157Z",
     "start_time": "2022-01-10T00:24:25.801335Z"
    }
   },
   "outputs": [
    {
     "data": {
      "application/vnd.jupyter.widget-view+json": {
       "model_id": "eb46021009de49688467c10f85777375",
       "version_major": 2,
       "version_minor": 0
      },
      "text/plain": [
       "  0%|          | 0/3331997 [00:00<?, ?it/s]"
      ]
     },
     "metadata": {},
     "output_type": "display_data"
    }
   ],
   "source": [
    "(\n",
    "    ensembl_paralogs[\"hotspot_pos_size\"],\n",
    "    ensembl_paralogs[\"hotspot_neg_size\"],\n",
    "    ensembl_paralogs[\"hotspot_biserial\"],\n",
    "    ensembl_paralogs[\"hotspot_pval\"],\n",
    "    ensembl_paralogs[\"damaging_pos_size\"],\n",
    "    ensembl_paralogs[\"damaging_neg_size\"],\n",
    "    ensembl_paralogs[\"damaging_biserial\"],\n",
    "    ensembl_paralogs[\"damaging_pval\"],\n",
    ") = zip(*ensembl_paralogs.progress_apply(compute_paralog_mut_correlation, axis=1))"
   ]
  },
  {
   "cell_type": "code",
   "execution_count": 50,
   "id": "4ec5f103",
   "metadata": {
    "ExecuteTime": {
     "end_time": "2022-01-10T01:45:40.103423Z",
     "start_time": "2022-01-10T01:45:31.330772Z"
    },
    "scrolled": true
   },
   "outputs": [],
   "source": [
    "ensembl_paralogs.to_feather(\"../data/intermediate/paralog_mutation_splicing_correlations.feather\")"
   ]
  }
 ],
 "metadata": {
  "kernelspec": {
   "display_name": "Python 3 (ipykernel)",
   "language": "python",
   "name": "python3"
  },
  "language_info": {
   "codemirror_mode": {
    "name": "ipython",
    "version": 3
   },
   "file_extension": ".py",
   "mimetype": "text/x-python",
   "name": "python",
   "nbconvert_exporter": "python",
   "pygments_lexer": "ipython3",
   "version": "3.9.10"
  },
  "toc": {
   "base_numbering": 1,
   "nav_menu": {},
   "number_sections": true,
   "sideBar": true,
   "skip_h1_title": false,
   "title_cell": "Table of Contents",
   "title_sidebar": "Contents",
   "toc_cell": false,
   "toc_position": {},
   "toc_section_display": true,
   "toc_window_display": false
  }
 },
 "nbformat": 4,
 "nbformat_minor": 5
}
