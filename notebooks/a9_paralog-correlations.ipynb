{
 "cells": [
  {
   "cell_type": "code",
   "execution_count": 1,
   "id": "4de141a4",
   "metadata": {
    "ExecuteTime": {
     "end_time": "2022-01-07T02:51:47.061944Z",
     "start_time": "2022-01-07T02:51:45.971064Z"
    }
   },
   "outputs": [],
   "source": [
    "import pandas as pd\n",
    "import numpy\n",
    "import many\n",
    "\n",
    "import seaborn\n",
    "import matplotlib.pyplot as plt\n",
    "import cancer_data\n",
    "\n",
    "from scipy.stats import pearsonr, spearmanr\n",
    "\n",
    "from tqdm.notebook import tqdm_notebook\n",
    "tqdm_notebook.pandas()"
   ]
  },
  {
   "cell_type": "code",
   "execution_count": 2,
   "id": "2645776f",
   "metadata": {
    "ExecuteTime": {
     "end_time": "2022-01-07T02:51:49.629382Z",
     "start_time": "2022-01-07T02:51:47.062735Z"
    }
   },
   "outputs": [],
   "source": [
    "ensembl_paralogs = pd.read_csv(\"../data/raw/ensembl_paralogs.csv\", index_col=0)"
   ]
  },
  {
   "cell_type": "code",
   "execution_count": 3,
   "id": "6081c9d2",
   "metadata": {
    "ExecuteTime": {
     "end_time": "2022-01-07T02:52:11.054232Z",
     "start_time": "2022-01-07T02:51:49.652951Z"
    }
   },
   "outputs": [],
   "source": [
    "ccle_genex = cancer_data.load(\"ccle_gene_tpm\")\n",
    "ccle_exonusage = cancer_data.load(\"ccle_exonusage\")"
   ]
  },
  {
   "cell_type": "code",
   "execution_count": 4,
   "id": "c5f2fb97",
   "metadata": {
    "ExecuteTime": {
     "end_time": "2022-01-07T02:52:11.245099Z",
     "start_time": "2022-01-07T02:52:11.058692Z"
    }
   },
   "outputs": [],
   "source": [
    "genex_genes = pd.DataFrame(pd.Series(ccle_genex.columns, name=\"id\"))\n",
    "genex_genes[\"ensembl_id\"] = (\n",
    "    genex_genes[\"id\"].apply(lambda x: x.split(\"_\")[-1]).apply(lambda x: x.split(\".\")[0])\n",
    ")\n",
    "\n",
    "exonusage_genes = pd.DataFrame(pd.Series(ccle_exonusage.columns, name=\"id\"))\n",
    "exonusage_genes[\"ensembl_id\"] = (\n",
    "    exonusage_genes[\"id\"].apply(lambda x: x.split(\"_\")[-1]).apply(lambda x: x.split(\".\")[0])\n",
    ")"
   ]
  },
  {
   "cell_type": "code",
   "execution_count": 5,
   "id": "dd129e14",
   "metadata": {
    "ExecuteTime": {
     "end_time": "2022-01-07T02:52:11.470589Z",
     "start_time": "2022-01-07T02:52:11.246278Z"
    }
   },
   "outputs": [],
   "source": [
    "ensembl_to_genex = dict(zip(genex_genes[\"ensembl_id\"],genex_genes[\"id\"]))\n",
    "ensembl_to_exonusage = exonusage_genes.groupby(\"ensembl_id\")[\"id\"].apply(list).to_dict()"
   ]
  },
  {
   "cell_type": "code",
   "execution_count": 6,
   "id": "ce5d2e06",
   "metadata": {
    "ExecuteTime": {
     "end_time": "2022-01-07T02:52:13.349579Z",
     "start_time": "2022-01-07T02:52:11.473884Z"
    }
   },
   "outputs": [],
   "source": [
    "ensembl_paralogs[\"ccle_gene\"] = ensembl_paralogs[\"ensembl_gene_id\"].apply(\n",
    "    ensembl_to_genex.get\n",
    ")\n",
    "ensembl_paralogs[\"ccle_paralog_exons\"] = ensembl_paralogs[\n",
    "    \"hsapiens_paralog_ensembl_gene\"\n",
    "].apply(ensembl_to_exonusage.get)\n",
    "ensembl_paralogs = ensembl_paralogs.dropna(subset=[\"ccle_gene\", \"ccle_paralog_exons\"])\n",
    "ensembl_paralogs = ensembl_paralogs.explode(\"ccle_paralog_exons\")\n",
    "ensembl_paralogs.reset_index(inplace=True)"
   ]
  },
  {
   "cell_type": "code",
   "execution_count": 7,
   "id": "ddafff83",
   "metadata": {
    "ExecuteTime": {
     "end_time": "2022-01-07T02:52:13.356620Z",
     "start_time": "2022-01-07T02:52:13.352226Z"
    }
   },
   "outputs": [],
   "source": [
    "def compute_paralog_correlation(row):\n",
    "\n",
    "    gene = row[\"ccle_gene\"]\n",
    "    exon = row[\"ccle_paralog_exons\"]\n",
    "\n",
    "    gene_genex = ccle_genex[gene].dropna()\n",
    "    exon_exonusage = ccle_exonusage[exon].dropna()\n",
    "\n",
    "    gene_genex, exon_exonusage = gene_genex.align(exon_exonusage, join=\"inner\")\n",
    "\n",
    "    intersection_size = gene_genex.size\n",
    "\n",
    "    if intersection_size < 50:\n",
    "        return (np.nan, np.nan, np.nan, np.nan, np.nan)\n",
    "\n",
    "    spearman_r, spearman_pval = spearmanr(gene_genex, exon_exonusage)\n",
    "    pearson_r, pearson_pval = pearsonr(gene_genex, exon_exonusage)\n",
    "\n",
    "    return (intersection_size, spearman_r, spearman_pval, pearson_r, pearson_pval)"
   ]
  },
  {
   "cell_type": "code",
   "execution_count": null,
   "id": "7d30242b",
   "metadata": {
    "ExecuteTime": {
     "start_time": "2022-01-07T02:53:15.674Z"
    }
   },
   "outputs": [],
   "source": [
    "(\n",
    "    ensembl_paralogs[\"num_samples\"],\n",
    "    ensembl_paralogs[\"spearman_r\"],\n",
    "    ensembl_paralogs[\"spearman_pval\"],\n",
    "    ensembl_paralogs[\"pearson_r\"],\n",
    "    ensembl_paralogs[\"pearson_pval\"],\n",
    ") = zip(*ensembl_paralogs.apply(compute_paralog_correlation, axis=1))"
   ]
  },
  {
   "cell_type": "code",
   "execution_count": null,
   "id": "ff2c53f2",
   "metadata": {},
   "outputs": [],
   "source": []
  }
 ],
 "metadata": {
  "kernelspec": {
   "display_name": "Python 3 (ipykernel)",
   "language": "python",
   "name": "python3"
  },
  "language_info": {
   "codemirror_mode": {
    "name": "ipython",
    "version": 3
   },
   "file_extension": ".py",
   "mimetype": "text/x-python",
   "name": "python",
   "nbconvert_exporter": "python",
   "pygments_lexer": "ipython3",
   "version": "3.9.9"
  },
  "toc": {
   "base_numbering": 1,
   "nav_menu": {},
   "number_sections": true,
   "sideBar": true,
   "skip_h1_title": false,
   "title_cell": "Table of Contents",
   "title_sidebar": "Contents",
   "toc_cell": false,
   "toc_position": {},
   "toc_section_display": true,
   "toc_window_display": false
  }
 },
 "nbformat": 4,
 "nbformat_minor": 5
}
