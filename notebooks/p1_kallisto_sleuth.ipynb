{
 "cells": [
  {
   "cell_type": "code",
   "execution_count": 2,
   "metadata": {
    "ExecuteTime": {
     "end_time": "2019-11-02T17:01:22.140845Z",
     "start_time": "2019-11-02T17:01:21.257495Z"
    }
   },
   "outputs": [],
   "source": [
    "import pandas as pd\n",
    "import numpy as np"
   ]
  },
  {
   "cell_type": "markdown",
   "metadata": {},
   "source": [
    "# Make TPM matrix"
   ]
  },
  {
   "cell_type": "markdown",
   "metadata": {},
   "source": [
    "## Experiments list"
   ]
  },
  {
   "cell_type": "code",
   "execution_count": 3,
   "metadata": {
    "ExecuteTime": {
     "end_time": "2019-11-02T17:01:23.132175Z",
     "start_time": "2019-11-02T17:01:23.114819Z"
    }
   },
   "outputs": [],
   "source": [
    "experiments = pd.read_csv(\"../data/intermediate/experiment_setup.txt\",sep=\"\\t\")\n",
    "\n",
    "experiments[\"kallisto_path\"] = \"../data/intermediate/kallisto_quant/\"+experiments[\"sample\"]+\"/abundance.tsv\"\n",
    "\n",
    "def load_tpms(exp_path, exp_name):\n",
    "    abundances = pd.read_csv(exp_path,sep=\"\\t\",index_col=0)\n",
    "    \n",
    "    tpms = abundances[\"tpm\"]\n",
    "    tpms = tpms.rename(exp_name)\n",
    "    tpms = tpms.astype(np.float64)\n",
    "    \n",
    "    return tpms"
   ]
  },
  {
   "cell_type": "markdown",
   "metadata": {},
   "source": [
    "## Merge TPMs"
   ]
  },
  {
   "cell_type": "code",
   "execution_count": 4,
   "metadata": {
    "ExecuteTime": {
     "end_time": "2019-11-02T17:01:32.514825Z",
     "start_time": "2019-11-02T17:01:24.650886Z"
    }
   },
   "outputs": [],
   "source": [
    "exps = zip(experiments[\"kallisto_path\"],experiments[\"sample\"])\n",
    "\n",
    "merged_tpms = [load_tpms(x[0],x[1]) for x in exps]\n",
    "\n",
    "merged_tpms = pd.concat(merged_tpms,axis=1)\n",
    "\n",
    "merged_tpms.to_csv(\"../data/processed/tpm_matrix.txt\",sep=\"\\t\")"
   ]
  },
  {
   "cell_type": "markdown",
   "metadata": {},
   "source": [
    "# Transcripts to genes"
   ]
  },
  {
   "cell_type": "code",
   "execution_count": 29,
   "metadata": {
    "ExecuteTime": {
     "end_time": "2019-11-02T17:10:35.948208Z",
     "start_time": "2019-11-02T17:10:35.081275Z"
    }
   },
   "outputs": [],
   "source": [
    "t2g = pd.read_csv(\"../data/intermediate/sleuth_diff/ensembl_t2g.csv\")\n",
    "\n",
    "t2g[\"format_transcript_id\"] = t2g[\"hgnc_symbol\"] + \\\n",
    "    \"_\" + t2g[\"ensembl_transcript_id\"]\n",
    "t2g[\"format_gene_id\"] = t2g[\"hgnc_symbol\"] + \"_\" + t2g[\"ensembl_gene_id\"]\n",
    "\n",
    "t2g = t2g.drop_duplicates(subset=[\"ensembl_transcript_id\"],keep=\"first\")\n",
    "t2g = t2g.dropna(subset=[\"format_transcript_id\"])\n",
    "\n",
    "transcript_map = dict(zip(t2g[\"ensembl_transcript_id\"], t2g[\"format_transcript_id\"]))\n",
    "gene_name_map = dict(zip(t2g[\"ensembl_transcript_id\"], t2g[\"hgnc_symbol\"]))\n",
    "gene_id_map = dict(zip(t2g[\"ensembl_gene_id\"], t2g[\"format_gene_id\"]))"
   ]
  },
  {
   "cell_type": "code",
   "execution_count": 30,
   "metadata": {
    "ExecuteTime": {
     "end_time": "2019-11-02T17:10:37.189676Z",
     "start_time": "2019-11-02T17:10:36.776893Z"
    }
   },
   "outputs": [],
   "source": [
    "named_tpms = merged_tpms.copy(deep=True)\n",
    "\n",
    "named_tpms.index = named_tpms.index.map(lambda x: transcript_map.get(x,\"unnamed_\"+x))\n",
    "named_tpms = named_tpms.T\n",
    "\n",
    "named_tpms.to_hdf(\"../data/processed/tpm_matrix_named.hdf\",key=\"named_tpms\",mode=\"w\")"
   ]
  },
  {
   "cell_type": "code",
   "execution_count": 32,
   "metadata": {
    "ExecuteTime": {
     "end_time": "2019-11-02T17:10:39.415693Z",
     "start_time": "2019-11-02T17:10:38.968985Z"
    }
   },
   "outputs": [],
   "source": [
    "_, align_ensembl_genes = merged_tpms.align(t2g.set_index(\"ensembl_transcript_id\")[\"ensembl_gene_id\"],axis=0,join=\"inner\")\n",
    "\n",
    "gene_tpms = merged_tpms.groupby(align_ensembl_genes).sum().T\n",
    "gene_tpms.columns = gene_tpms.columns.map(lambda x: gene_id_map[x])\n",
    "\n",
    "gene_tpms.to_hdf(\"../data/processed/tpm_matrix_genes.hdf\",key=\"gene_tpms\",mode=\"w\")"
   ]
  },
  {
   "cell_type": "markdown",
   "metadata": {},
   "source": [
    "# Sleuth outputs"
   ]
  },
  {
   "cell_type": "code",
   "execution_count": 38,
   "metadata": {
    "ExecuteTime": {
     "end_time": "2019-11-02T17:11:22.774676Z",
     "start_time": "2019-11-02T17:11:21.054085Z"
    }
   },
   "outputs": [],
   "source": [
    "rpl22_oe = pd.read_csv(\"../data/intermediate/sleuth_diff/rpl22_oe.csv\",index_col=1)\n",
    "rpl22l1_oe = pd.read_csv(\"../data/intermediate/sleuth_diff/rpl22l1_oe.csv\",index_col=1)\n",
    "sh704 = pd.read_csv(\"../data/intermediate/sleuth_diff/sh704.csv\",index_col=1)\n",
    "sh705 = pd.read_csv(\"../data/intermediate/sleuth_diff/sh705.csv\",index_col=1)\n",
    "\n",
    "rpl22_oe[\"format_transcript_id\"] = rpl22_oe.index.map(lambda x: transcript_map.get(x,\"unnamed_\"+x))\n",
    "rpl22l1_oe[\"format_transcript_id\"] = rpl22l1_oe.index.map(lambda x: transcript_map.get(x,\"unnamed_\"+x))\n",
    "sh704[\"format_transcript_id\"] = sh704.index.map(lambda x: transcript_map.get(x,\"unnamed_\"+x))\n",
    "sh705[\"format_transcript_id\"] = sh705.index.map(lambda x: transcript_map.get(x,\"unnamed_\"+x))"
   ]
  },
  {
   "cell_type": "markdown",
   "metadata": {},
   "source": [
    "## Add control-treatment TPMs"
   ]
  },
  {
   "cell_type": "code",
   "execution_count": 39,
   "metadata": {
    "ExecuteTime": {
     "end_time": "2019-11-02T17:11:23.706826Z",
     "start_time": "2019-11-02T17:11:23.199724Z"
    }
   },
   "outputs": [],
   "source": [
    "rpl22_oe_samples = ['LNCaP_GFP_1',\n",
    "                    'LNCaP_GFP_2',\n",
    "                    'LNCaP_GFP_3',\n",
    "                    'LNCaP_RPL22_1',\n",
    "                    'LNCaP_RPL22_2',\n",
    "                    'LNCaP_RPL22_3']\n",
    "\n",
    "rpl22l1_oe_samples = ['CAL851_GFP_1',\n",
    "                      'CAL851_GFP_2',\n",
    "                      'CAL851_GFP_3',\n",
    "                      'CAL851_RPL22L1_1',\n",
    "                      'CAL851_RPL22L1_2',\n",
    "                      'CAL851_RPL22L1_3']\n",
    "\n",
    "sh704_samples = ['LNCaP_shLuc_1',\n",
    "                 'LNCaP_shLuc_2',\n",
    "                 'LNCaP_shLuc_3',\n",
    "                 'LNCaP_sh704_1',\n",
    "                 'LNCaP_sh704_2',\n",
    "                 'LNCaP_sh704_3']\n",
    "\n",
    "sh705_samples = ['LNCaP_shLuc_1',\n",
    "                 'LNCaP_shLuc_2',\n",
    "                 'LNCaP_shLuc_3',\n",
    "                 'LNCaP_sh705_1',\n",
    "                 'LNCaP_sh705_2',\n",
    "                 'LNCaP_sh705_3']\n",
    "\n",
    "rpl22_oe_tpms = merged_tpms.loc[rpl22_oe.index, rpl22_oe_samples]\n",
    "rpl22l1_oe_tpms = merged_tpms.loc[rpl22l1_oe.index, rpl22l1_oe_samples]\n",
    "sh704_tpms = merged_tpms.loc[sh704.index, sh704_samples]\n",
    "sh705_tpms = merged_tpms.loc[sh705.index, sh705_samples]\n",
    "\n",
    "rpl22_oe = pd.concat([rpl22_oe, rpl22_oe_tpms], axis=1)\n",
    "rpl22l1_oe = pd.concat([rpl22l1_oe, rpl22l1_oe_tpms], axis=1)\n",
    "sh704 = pd.concat([sh704, sh704_tpms], axis=1)\n",
    "sh705 = pd.concat([sh705, sh705_tpms], axis=1)"
   ]
  },
  {
   "cell_type": "markdown",
   "metadata": {},
   "source": [
    "## Add gene names"
   ]
  },
  {
   "cell_type": "code",
   "execution_count": 40,
   "metadata": {
    "ExecuteTime": {
     "end_time": "2019-11-02T17:11:25.087337Z",
     "start_time": "2019-11-02T17:11:24.680146Z"
    }
   },
   "outputs": [],
   "source": [
    "rpl22_oe[\"gene_name\"] = rpl22_oe.index.map(lambda x: gene_name_map.get(x,np.nan))\n",
    "rpl22l1_oe[\"gene_name\"] = rpl22l1_oe.index.map(lambda x: gene_name_map.get(x,np.nan))\n",
    "sh704[\"gene_name\"] = sh704.index.map(lambda x: gene_name_map.get(x,np.nan))\n",
    "sh705[\"gene_name\"] = sh705.index.map(lambda x: gene_name_map.get(x,np.nan))"
   ]
  },
  {
   "cell_type": "markdown",
   "metadata": {},
   "source": [
    "## Export to csv"
   ]
  },
  {
   "cell_type": "code",
   "execution_count": 41,
   "metadata": {
    "ExecuteTime": {
     "end_time": "2019-11-02T17:11:38.616927Z",
     "start_time": "2019-11-02T17:11:25.855295Z"
    }
   },
   "outputs": [],
   "source": [
    "rpl22_oe.to_csv(\"../data/processed/kallisto_sleuth_merge/rpl22_oe.txt\", sep=\"\\t\")\n",
    "rpl22l1_oe.to_csv(\"../data/processed/kallisto_sleuth_merge/rpl22l1_oe.txt\", sep=\"\\t\")\n",
    "sh704.to_csv(\"../data/processed/kallisto_sleuth_merge/sh704.txt\", sep=\"\\t\")\n",
    "sh705.to_csv(\"../data/processed/kallisto_sleuth_merge/sh705.txt\", sep=\"\\t\")"
   ]
  }
 ],
 "metadata": {
  "kernelspec": {
   "display_name": "Python 3",
   "language": "python",
   "name": "python3"
  },
  "language_info": {
   "codemirror_mode": {
    "name": "ipython",
    "version": 3
   },
   "file_extension": ".py",
   "mimetype": "text/x-python",
   "name": "python",
   "nbconvert_exporter": "python",
   "pygments_lexer": "ipython3",
   "version": "3.7.4"
  },
  "toc": {
   "base_numbering": 1,
   "nav_menu": {},
   "number_sections": true,
   "sideBar": true,
   "skip_h1_title": false,
   "title_cell": "Table of Contents",
   "title_sidebar": "Contents",
   "toc_cell": false,
   "toc_position": {},
   "toc_section_display": true,
   "toc_window_display": false
  }
 },
 "nbformat": 4,
 "nbformat_minor": 2
}
