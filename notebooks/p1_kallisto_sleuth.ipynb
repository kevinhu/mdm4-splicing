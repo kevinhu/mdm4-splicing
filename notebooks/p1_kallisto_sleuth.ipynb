{
 "cells": [
  {
   "cell_type": "code",
   "execution_count": 71,
   "metadata": {
    "ExecuteTime": {
     "end_time": "2019-11-08T01:37:56.035894Z",
     "start_time": "2019-11-08T01:37:56.006165Z"
    }
   },
   "outputs": [],
   "source": [
    "import pandas as pd\n",
    "import numpy as np"
   ]
  },
  {
   "cell_type": "markdown",
   "metadata": {},
   "source": [
    "# Make TPM matrix"
   ]
  },
  {
   "cell_type": "markdown",
   "metadata": {},
   "source": [
    "## Experiments list"
   ]
  },
  {
   "cell_type": "code",
   "execution_count": 72,
   "metadata": {
    "ExecuteTime": {
     "end_time": "2019-11-08T01:37:56.733997Z",
     "start_time": "2019-11-08T01:37:56.639840Z"
    }
   },
   "outputs": [],
   "source": [
    "experiments = pd.read_csv(\n",
    "    \"../data/intermediate/experiment_setup.txt\", sep=\"\\t\")\n",
    "\n",
    "experiments[\"kallisto_path\"] = \"../data/intermediate/kallisto_quant/\" + \\\n",
    "    experiments[\"sample\"]+\"/abundance.tsv\"\n",
    "\n",
    "\n",
    "def load_tpms(exp_path, exp_name):\n",
    "    abundances = pd.read_csv(exp_path, sep=\"\\t\", index_col=0)\n",
    "\n",
    "    tpms = abundances[\"tpm\"]\n",
    "    tpms = tpms.rename(exp_name)\n",
    "    tpms = tpms.astype(np.float64)\n",
    "\n",
    "    return tpms"
   ]
  },
  {
   "cell_type": "markdown",
   "metadata": {},
   "source": [
    "## Merge TPMs"
   ]
  },
  {
   "cell_type": "code",
   "execution_count": 73,
   "metadata": {
    "ExecuteTime": {
     "end_time": "2019-11-08T01:38:06.653431Z",
     "start_time": "2019-11-08T01:37:57.880356Z"
    }
   },
   "outputs": [],
   "source": [
    "exps = zip(experiments[\"kallisto_path\"], experiments[\"sample\"])\n",
    "\n",
    "transcript_tpms = [load_tpms(x[0], x[1]) for x in exps]\n",
    "\n",
    "transcript_tpms = pd.concat(transcript_tpms, axis=1)\n",
    "\n",
    "transcript_tpms.to_csv(\"../data/processed/transcript_tpms.txt\", sep=\"\\t\")"
   ]
  },
  {
   "cell_type": "markdown",
   "metadata": {},
   "source": [
    "# Transcripts to genes"
   ]
  },
  {
   "cell_type": "code",
   "execution_count": 80,
   "metadata": {
    "ExecuteTime": {
     "end_time": "2019-11-08T01:38:36.869468Z",
     "start_time": "2019-11-08T01:38:36.532970Z"
    }
   },
   "outputs": [],
   "source": [
    "t2g = pd.read_csv(\"../data/intermediate/sleuth_diff/ensembl_t2g.csv\")\n",
    "\n",
    "transcript_gene_map = dict(zip(t2g[\"target_id\"], t2g[\"ens_gene\"]))"
   ]
  },
  {
   "cell_type": "markdown",
   "metadata": {},
   "source": [
    "## Sum transcripts by genes"
   ]
  },
  {
   "cell_type": "code",
   "execution_count": 81,
   "metadata": {
    "ExecuteTime": {
     "end_time": "2019-11-08T01:38:38.848716Z",
     "start_time": "2019-11-08T01:38:37.601036Z"
    }
   },
   "outputs": [],
   "source": [
    "_, align_ensembl_genes = transcript_tpms.align(t2g.set_index(\n",
    "    \"target_id\")[\"ens_gene\"], axis=0, join=\"inner\")\n",
    "\n",
    "gene_tpms = transcript_tpms.groupby(align_ensembl_genes).sum()\n",
    "\n",
    "gene_tpms.to_csv(\"../data/processed/gene_tpms.txt\", sep=\"\\t\")"
   ]
  },
  {
   "cell_type": "markdown",
   "metadata": {},
   "source": [
    "# Sleuth outputs"
   ]
  },
  {
   "cell_type": "code",
   "execution_count": 82,
   "metadata": {
    "ExecuteTime": {
     "end_time": "2019-11-08T01:38:42.745848Z",
     "start_time": "2019-11-08T01:38:42.740597Z"
    }
   },
   "outputs": [],
   "source": [
    "experiments = {\"rpl22_oe\": [\n",
    "    ['LNCaP_GFP_1',\n",
    "     'LNCaP_GFP_2',\n",
    "     'LNCaP_GFP_3'],\n",
    "    ['LNCaP_RPL22_1',\n",
    "     'LNCaP_RPL22_2',\n",
    "     'LNCaP_RPL22_3']\n",
    "],\n",
    "    \"rpl22l1_oe\": [\n",
    "    ['CAL851_GFP_1',\n",
    "     'CAL851_GFP_2',\n",
    "     'CAL851_GFP_3'],\n",
    "    ['CAL851_RPL22L1_1',\n",
    "     'CAL851_RPL22L1_2',\n",
    "     'CAL851_RPL22L1_3']\n",
    "],\n",
    "    \"sh704\": [\n",
    "    ['LNCaP_shLuc_1',\n",
    "     'LNCaP_shLuc_2',\n",
    "     'LNCaP_shLuc_3'],\n",
    "    ['LNCaP_sh704_1',\n",
    "     'LNCaP_sh704_2',\n",
    "     'LNCaP_sh704_3']\n",
    "],\n",
    "    \"sh705\": [\n",
    "    ['LNCaP_shLuc_1',\n",
    "     'LNCaP_shLuc_2',\n",
    "     'LNCaP_shLuc_3'],\n",
    "    ['LNCaP_sh705_1',\n",
    "     'LNCaP_sh705_2',\n",
    "     'LNCaP_sh705_3']\n",
    "]\n",
    "}\n",
    "\n",
    "experiment_ids = [\"rpl22_oe\",\"rpl22l1_oe\",\"sh704\",\"sh705\"]"
   ]
  },
  {
   "cell_type": "code",
   "execution_count": 83,
   "metadata": {
    "ExecuteTime": {
     "end_time": "2019-11-08T01:38:44.346165Z",
     "start_time": "2019-11-08T01:38:44.305356Z"
    }
   },
   "outputs": [],
   "source": [
    "def compute_medians(sleuth_diff, experiment):\n",
    "    sleuth_diff[\"control_median\"] = sleuth_diff[experiments[experiment][0]].median(axis=1)\n",
    "    sleuth_diff[\"treatment_median\"] = sleuth_diff[experiments[experiment][1]].median(axis=1)\n",
    "    sleuth_diff[\"median_foldchange\"] = sleuth_diff[\"treatment_median\"]/sleuth_diff[\"control_median\"]\n",
    "    \n",
    "def signed_p_rank(sleuth_diff):\n",
    "\n",
    "    sleuth_diff[\"-log_pval\"] = -np.log10(sleuth_diff[\"pval\"])\n",
    "    sleuth_diff[\"-log_pval\"] = sleuth_diff[\"-log_pval\"].replace(np.inf,320)\n",
    "    \n",
    "    sleuth_diff[\"treatment_increase\"] = -1 + 2*(sleuth_diff[\"median_foldchange\"] > 1)\n",
    "    \n",
    "    sleuth_diff[\"signed_pval\"] = sleuth_diff[\"-log_pval\"] * sleuth_diff[\"treatment_increase\"]\n",
    "    \n",
    "    sleuth_diff = sleuth_diff.sort_values(by=\"signed_pval\")"
   ]
  },
  {
   "cell_type": "code",
   "execution_count": 87,
   "metadata": {
    "ExecuteTime": {
     "end_time": "2019-11-08T01:41:23.693951Z",
     "start_time": "2019-11-08T01:41:23.688488Z"
    }
   },
   "outputs": [],
   "source": [
    "def process_sleuth_genes(experiment):\n",
    "    sleuth_diff = pd.read_csv(\"../data/intermediate/sleuth_diff/\"+experiment+\"_genes.csv\",index_col=1)\n",
    "        \n",
    "    controls = experiments[experiment][0]\n",
    "    treatments = experiments[experiment][1]\n",
    "    \n",
    "    sleuth_tpms = gene_tpms.loc[sleuth_diff.index,controls+treatments]\n",
    "    \n",
    "    sleuth_diff = pd.concat([sleuth_diff, sleuth_tpms], axis=1)\n",
    "    \n",
    "    compute_medians(sleuth_diff, experiment)\n",
    "    signed_p_rank(sleuth_diff)\n",
    "    \n",
    "    sleuth_diff = sleuth_diff.dropna(subset=[\"pval\",\"median_foldchange\",\"target_id\"],how=\"any\")\n",
    "    \n",
    "    # format Entrez ID as string\n",
    "    sleuth_diff[\"target_id\"] = sleuth_diff[\"target_id\"].astype(int).astype(str)\n",
    "\n",
    "    sleuth_diff.to_csv(\"../data/processed/kallisto_sleuth_merge/\"+experiment+\"_genes.txt\",sep=\"\\t\")"
   ]
  },
  {
   "cell_type": "code",
   "execution_count": 90,
   "metadata": {
    "ExecuteTime": {
     "end_time": "2019-11-08T01:42:31.368715Z",
     "start_time": "2019-11-08T01:42:31.362999Z"
    }
   },
   "outputs": [],
   "source": [
    "def process_sleuth_transcripts(experiment):\n",
    "    sleuth_diff = pd.read_csv(\"../data/intermediate/sleuth_diff/\"+experiment+\"_transcripts.csv\",index_col=1)\n",
    "        \n",
    "    controls = experiments[experiment][0]\n",
    "    treatments = experiments[experiment][1]\n",
    "    \n",
    "    sleuth_tpms = transcript_tpms.loc[sleuth_diff.index,controls+treatments]\n",
    "    \n",
    "    sleuth_diff = pd.concat([sleuth_diff, sleuth_tpms], axis=1)\n",
    "    \n",
    "    compute_medians(sleuth_diff, experiment)\n",
    "    signed_p_rank(sleuth_diff)\n",
    "    \n",
    "    sleuth_diff = sleuth_diff.dropna(subset=[\"pval\",\"median_foldchange\",\"entrez_gene\"],how=\"any\")\n",
    "    \n",
    "    # format Entrez ID as string\n",
    "    sleuth_diff[\"entrez_gene\"] = sleuth_diff[\"entrez_gene\"].astype(int).astype(str)\n",
    "\n",
    "    sleuth_diff.to_csv(\"../data/processed/kallisto_sleuth_merge/\"+experiment+\"_transcripts.txt\",sep=\"\\t\")    "
   ]
  },
  {
   "cell_type": "code",
   "execution_count": 91,
   "metadata": {
    "ExecuteTime": {
     "end_time": "2019-11-08T01:42:47.132396Z",
     "start_time": "2019-11-08T01:42:32.209911Z"
    }
   },
   "outputs": [],
   "source": [
    "process_sleuth_genes(\"rpl22_oe\")\n",
    "process_sleuth_genes(\"rpl22l1_oe\")\n",
    "process_sleuth_genes(\"sh704\")\n",
    "process_sleuth_genes(\"sh705\")\n",
    "\n",
    "process_sleuth_transcripts(\"rpl22_oe\")\n",
    "process_sleuth_transcripts(\"rpl22l1_oe\")\n",
    "process_sleuth_transcripts(\"sh704\")\n",
    "process_sleuth_transcripts(\"sh705\")"
   ]
  }
 ],
 "metadata": {
  "kernelspec": {
   "display_name": "Python 3",
   "language": "python",
   "name": "python3"
  },
  "language_info": {
   "codemirror_mode": {
    "name": "ipython",
    "version": 3
   },
   "file_extension": ".py",
   "mimetype": "text/x-python",
   "name": "python",
   "nbconvert_exporter": "python",
   "pygments_lexer": "ipython3",
   "version": "3.7.4"
  },
  "toc": {
   "base_numbering": 1,
   "nav_menu": {},
   "number_sections": true,
   "sideBar": true,
   "skip_h1_title": false,
   "title_cell": "Table of Contents",
   "title_sidebar": "Contents",
   "toc_cell": false,
   "toc_position": {},
   "toc_section_display": true,
   "toc_window_display": false
  }
 },
 "nbformat": 4,
 "nbformat_minor": 2
}
