{
 "cells": [
  {
   "cell_type": "code",
   "execution_count": 1,
   "metadata": {
    "ExecuteTime": {
     "end_time": "2019-11-06T20:26:39.348908Z",
     "start_time": "2019-11-06T20:26:38.369772Z"
    }
   },
   "outputs": [],
   "source": [
    "import pandas as pd\n",
    "import numpy as np"
   ]
  },
  {
   "cell_type": "markdown",
   "metadata": {},
   "source": [
    "# Make TPM matrix"
   ]
  },
  {
   "cell_type": "markdown",
   "metadata": {},
   "source": [
    "## Experiments list"
   ]
  },
  {
   "cell_type": "code",
   "execution_count": 2,
   "metadata": {
    "ExecuteTime": {
     "end_time": "2019-11-06T20:26:39.843963Z",
     "start_time": "2019-11-06T20:26:39.823615Z"
    }
   },
   "outputs": [],
   "source": [
    "experiments = pd.read_csv(\n",
    "    \"../data/intermediate/experiment_setup.txt\", sep=\"\\t\")\n",
    "\n",
    "experiments[\"kallisto_path\"] = \"../data/intermediate/kallisto_quant/\" + \\\n",
    "    experiments[\"sample\"]+\"/abundance.tsv\"\n",
    "\n",
    "\n",
    "def load_tpms(exp_path, exp_name):\n",
    "    abundances = pd.read_csv(exp_path, sep=\"\\t\", index_col=0)\n",
    "\n",
    "    tpms = abundances[\"tpm\"]\n",
    "    tpms = tpms.rename(exp_name)\n",
    "    tpms = tpms.astype(np.float64)\n",
    "\n",
    "    return tpms"
   ]
  },
  {
   "cell_type": "markdown",
   "metadata": {},
   "source": [
    "## Merge TPMs"
   ]
  },
  {
   "cell_type": "code",
   "execution_count": 3,
   "metadata": {
    "ExecuteTime": {
     "end_time": "2019-11-06T20:26:48.773293Z",
     "start_time": "2019-11-06T20:26:41.152338Z"
    }
   },
   "outputs": [],
   "source": [
    "exps = zip(experiments[\"kallisto_path\"], experiments[\"sample\"])\n",
    "\n",
    "transcript_tpms = [load_tpms(x[0], x[1]) for x in exps]\n",
    "\n",
    "transcript_tpms = pd.concat(transcript_tpms, axis=1)\n",
    "\n",
    "transcript_tpms.to_csv(\"../data/processed/transcript_tpms.txt\", sep=\"\\t\")"
   ]
  },
  {
   "cell_type": "markdown",
   "metadata": {},
   "source": [
    "# Transcripts to genes"
   ]
  },
  {
   "cell_type": "code",
   "execution_count": 4,
   "metadata": {
    "ExecuteTime": {
     "end_time": "2019-11-06T20:26:50.045243Z",
     "start_time": "2019-11-06T20:26:49.305750Z"
    }
   },
   "outputs": [],
   "source": [
    "t2g = pd.read_csv(\"../data/intermediate/sleuth_diff/ensembl_t2g.csv\")\n",
    "\n",
    "t2g[\"format_transcript_id\"] = t2g[\"ext_gene\"] + \\\n",
    "    \"_\" + t2g[\"target_id\"]\n",
    "t2g[\"format_gene_id\"] = t2g[\"ext_gene\"].fillna(\"unnamed\") + \"_\" + t2g[\"ens_gene\"]\n",
    "\n",
    "t2g = t2g.drop_duplicates(subset=[\"target_id\"], keep=\"first\")\n",
    "t2g = t2g.dropna(subset=[\"format_transcript_id\"])\n",
    "\n",
    "transcript_map = dict(\n",
    "    zip(t2g[\"target_id\"], t2g[\"format_transcript_id\"]))\n",
    "gene_name_map = dict(zip(t2g[\"target_id\"], t2g[\"ext_gene\"]))\n",
    "gene_id_map = dict(zip(t2g[\"ens_gene\"], t2g[\"format_gene_id\"]))"
   ]
  },
  {
   "cell_type": "markdown",
   "metadata": {},
   "source": [
    "## Sum transcripts by genes"
   ]
  },
  {
   "cell_type": "code",
   "execution_count": 6,
   "metadata": {
    "ExecuteTime": {
     "end_time": "2019-11-06T20:27:05.090127Z",
     "start_time": "2019-11-06T20:27:03.998969Z"
    }
   },
   "outputs": [],
   "source": [
    "_, align_ensembl_genes = transcript_tpms.align(t2g.set_index(\n",
    "    \"target_id\")[\"ens_gene\"], axis=0, join=\"inner\")\n",
    "\n",
    "gene_tpms = transcript_tpms.groupby(align_ensembl_genes).sum()\n",
    "\n",
    "gene_tpms.to_csv(\"../data/processed/gene_tpms.txt\", sep=\"\\t\")"
   ]
  },
  {
   "cell_type": "markdown",
   "metadata": {},
   "source": [
    "# Sleuth outputs"
   ]
  },
  {
   "cell_type": "code",
   "execution_count": 7,
   "metadata": {
    "ExecuteTime": {
     "end_time": "2019-11-06T20:27:06.555656Z",
     "start_time": "2019-11-06T20:27:06.550489Z"
    }
   },
   "outputs": [],
   "source": [
    "experiments = {\"rpl22_oe\": [\n",
    "    ['LNCaP_GFP_1',\n",
    "     'LNCaP_GFP_2',\n",
    "     'LNCaP_GFP_3'],\n",
    "    ['LNCaP_RPL22_1',\n",
    "     'LNCaP_RPL22_2',\n",
    "     'LNCaP_RPL22_3']\n",
    "],\n",
    "    \"rpl22l1_oe\": [\n",
    "    ['CAL851_GFP_1',\n",
    "     'CAL851_GFP_2',\n",
    "     'CAL851_GFP_3'],\n",
    "    ['CAL851_RPL22L1_1',\n",
    "     'CAL851_RPL22L1_2',\n",
    "     'CAL851_RPL22L1_3']\n",
    "],\n",
    "    \"sh704\": [\n",
    "    ['LNCaP_shLuc_1',\n",
    "     'LNCaP_shLuc_2',\n",
    "     'LNCaP_shLuc_3'],\n",
    "    ['LNCaP_sh704_1',\n",
    "     'LNCaP_sh704_2',\n",
    "     'LNCaP_sh704_3']\n",
    "],\n",
    "    \"sh705\": [\n",
    "    ['LNCaP_shLuc_1',\n",
    "     'LNCaP_shLuc_2',\n",
    "     'LNCaP_shLuc_3'],\n",
    "    ['LNCaP_sh705_1',\n",
    "     'LNCaP_sh705_2',\n",
    "     'LNCaP_sh705_3']\n",
    "]\n",
    "}\n",
    "\n",
    "experiment_ids = [\"rpl22_oe\",\"rpl22l1_oe\",\"sh704\",\"sh705\"]"
   ]
  },
  {
   "cell_type": "code",
   "execution_count": 33,
   "metadata": {
    "ExecuteTime": {
     "end_time": "2019-11-06T20:31:38.083192Z",
     "start_time": "2019-11-06T20:31:38.078676Z"
    }
   },
   "outputs": [],
   "source": [
    "def process_sleuth_genes(experiment):\n",
    "    sleuth_diff = pd.read_csv(\"../data/intermediate/sleuth_diff/\"+experiment+\"_genes.csv\",index_col=1)\n",
    "        \n",
    "    controls = experiments[experiment][0]\n",
    "    treatments = experiments[experiment][1]\n",
    "    \n",
    "    sleuth_tpms = gene_tpms.loc[sleuth_diff.index,controls+treatments]\n",
    "    \n",
    "    sleuth_diff = pd.concat([sleuth_diff, sleuth_tpms], axis=1)\n",
    "\n",
    "    sleuth_diff.to_csv(\"../data/processed/kallisto_sleuth_merge/\"+experiment+\"_genes.txt\",sep=\"\\t\")"
   ]
  },
  {
   "cell_type": "code",
   "execution_count": 34,
   "metadata": {
    "ExecuteTime": {
     "end_time": "2019-11-06T20:31:39.506751Z",
     "start_time": "2019-11-06T20:31:39.502206Z"
    }
   },
   "outputs": [],
   "source": [
    "def process_sleuth_transcripts(experiment):\n",
    "    sleuth_diff = pd.read_csv(\"../data/intermediate/sleuth_diff/\"+experiment+\"_transcripts.csv\",index_col=1)\n",
    "        \n",
    "    controls = experiments[experiment][0]\n",
    "    treatments = experiments[experiment][1]\n",
    "    \n",
    "    sleuth_tpms = transcript_tpms.loc[sleuth_diff.index,controls+treatments]\n",
    "    \n",
    "    sleuth_diff = pd.concat([sleuth_diff, sleuth_tpms], axis=1)\n",
    "\n",
    "    sleuth_diff.to_csv(\"../data/processed/kallisto_sleuth_merge/\"+experiment+\"_transcripts.txt\",sep=\"\\t\")    "
   ]
  },
  {
   "cell_type": "code",
   "execution_count": 35,
   "metadata": {
    "ExecuteTime": {
     "end_time": "2019-11-06T20:31:59.338042Z",
     "start_time": "2019-11-06T20:31:40.341585Z"
    }
   },
   "outputs": [
    {
     "name": "stderr",
     "output_type": "stream",
     "text": [
      "/Users/khu/anaconda3/envs/cenv/lib/python3.7/site-packages/pandas/core/indexing.py:1404: FutureWarning: \n",
      "Passing list-likes to .loc or [] with any missing label will raise\n",
      "KeyError in the future, you can use .reindex() as an alternative.\n",
      "\n",
      "See the documentation here:\n",
      "https://pandas.pydata.org/pandas-docs/stable/user_guide/indexing.html#deprecate-loc-reindex-listlike\n",
      "  return self._getitem_tuple(key)\n"
     ]
    }
   ],
   "source": [
    "rpl22_oe_genes = process_sleuth_genes(\"rpl22_oe\")\n",
    "rpl22l1_oe_genes = process_sleuth_genes(\"rpl22l1_oe\")\n",
    "sh704_genes = process_sleuth_genes(\"sh704\")\n",
    "sh705_genes = process_sleuth_genes(\"sh705\")\n",
    "\n",
    "rpl22_oe_transcripts = process_sleuth_transcripts(\"rpl22_oe\")\n",
    "rpl22l1_oe_transcripts = process_sleuth_transcripts(\"rpl22l1_oe\")\n",
    "sh704_transcripts = process_sleuth_transcripts(\"sh704\")\n",
    "sh705_transcripts = process_sleuth_transcripts(\"sh705\")"
   ]
  }
 ],
 "metadata": {
  "kernelspec": {
   "display_name": "Python 3",
   "language": "python",
   "name": "python3"
  },
  "language_info": {
   "codemirror_mode": {
    "name": "ipython",
    "version": 3
   },
   "file_extension": ".py",
   "mimetype": "text/x-python",
   "name": "python",
   "nbconvert_exporter": "python",
   "pygments_lexer": "ipython3",
   "version": "3.7.4"
  },
  "toc": {
   "base_numbering": 1,
   "nav_menu": {},
   "number_sections": true,
   "sideBar": true,
   "skip_h1_title": false,
   "title_cell": "Table of Contents",
   "title_sidebar": "Contents",
   "toc_cell": false,
   "toc_position": {},
   "toc_section_display": true,
   "toc_window_display": false
  }
 },
 "nbformat": 4,
 "nbformat_minor": 2
}
