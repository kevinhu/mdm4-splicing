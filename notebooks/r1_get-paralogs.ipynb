{
 "cells": [
  {
   "cell_type": "code",
   "execution_count": 22,
   "id": "b8ad0913",
   "metadata": {
    "ExecuteTime": {
     "end_time": "2022-01-07T17:00:09.156234Z",
     "start_time": "2022-01-07T17:00:03.608Z"
    }
   },
   "outputs": [],
   "source": [
    "library(biomaRt)\n",
    "ens_human = useMart(biomart=\"ENSEMBL_MART_ENSEMBL\",\n",
    "                    host=\"https://useast.ensembl.org\",\n",
    "                    path=\"/biomart/martservice\",\n",
    "                    dataset=\"hsapiens_gene_ensembl\")\n",
    "\n",
    "write.csv(listAttributes(mart=ens_human),\"../data/raw/ensembl_attributes.csv\")"
   ]
  },
  {
   "cell_type": "code",
   "execution_count": 23,
   "id": "416b4537",
   "metadata": {
    "ExecuteTime": {
     "end_time": "2022-01-07T17:00:10.744002Z",
     "start_time": "2022-01-07T17:00:08.972Z"
    }
   },
   "outputs": [],
   "source": [
    "hgid <- getBM(attributes = \"ensembl_gene_id\",\n",
    "              filters    = \"with_hsapiens_paralog\",\n",
    "              values     = TRUE,\n",
    "              mart       = ens_human)"
   ]
  },
  {
   "cell_type": "code",
   "execution_count": 35,
   "id": "de4057d1",
   "metadata": {
    "ExecuteTime": {
     "end_time": "2022-01-07T17:04:18.569150Z",
     "start_time": "2022-01-07T17:04:17.063Z"
    }
   },
   "outputs": [
    {
     "ename": "ERROR",
     "evalue": "Error in .processResults(postRes, mart = mart, hostURLsep = sep, fullXmlQuery = fullXmlQuery, : Query ERROR: caught BioMart::Exception::Usage: Attributes from multiple attribute pages are not allowed\n",
     "output_type": "error",
     "traceback": [
      "Error in .processResults(postRes, mart = mart, hostURLsep = sep, fullXmlQuery = fullXmlQuery, : Query ERROR: caught BioMart::Exception::Usage: Attributes from multiple attribute pages are not allowed\nTraceback:\n",
      "1. getBM(attributes = c(\"ensembl_gene_id\", \"external_gene_name\", \n .     \"entrezgene_id\", \"hsapiens_paralog_ensembl_gene\", \"hsapiens_paralog_associated_gene_name\"), \n .     filters = \"ensembl_gene_id\", values = hgid, mart = ens_human)",
      "2. .processResults(postRes, mart = mart, hostURLsep = sep, fullXmlQuery = fullXmlQuery, \n .     quote = quote, numAttributes = length(attributes))",
      "3. stop(postRes)"
     ]
    }
   ],
   "source": [
    "para <- getBM(attributes = c(\"ensembl_gene_id\", \n",
    "                             \"external_gene_name\",\n",
    "                             \"entrezgene_id\",\n",
    "                             \"hsapiens_paralog_ensembl_gene\", \n",
    "                             \"hsapiens_paralog_associated_gene_name\"\n",
    "                            ),\n",
    "              filters    = \"ensembl_gene_id\",\n",
    "              values     = hgid,\n",
    "              mart       = ens_human)"
   ]
  },
  {
   "cell_type": "code",
   "execution_count": 43,
   "id": "813255fe",
   "metadata": {
    "ExecuteTime": {
     "end_time": "2022-01-07T17:11:15.978950Z",
     "start_time": "2022-01-07T17:11:00.142Z"
    }
   },
   "outputs": [
    {
     "name": "stderr",
     "output_type": "stream",
     "text": [
      "\n",
      "Batch submitting query [=====>-------------------------]  20% eta: 12s\n",
      "\n",
      "Batch submitting query [===========>-------------------]  40% eta:  9s\n",
      "\n",
      "Batch submitting query [==================>------------]  60% eta:  6s\n",
      "\n",
      "Batch submitting query [========================>------]  80% eta:  3s\n",
      "                                                                      \n",
      "\n"
     ]
    }
   ],
   "source": [
    "entrez <- getBM(attributes = c(\"ensembl_gene_id\", \n",
    "                               \"entrezgene_id\",\n",
    "                               \"hgnc_id\",\n",
    "                               \"hgnc_symbol\"\n",
    "                            ),\n",
    "              filters    = \"ensembl_gene_id\",\n",
    "              values     = hgid,\n",
    "              mart       = ens_human)"
   ]
  },
  {
   "cell_type": "code",
   "execution_count": 45,
   "id": "70b7b394",
   "metadata": {
    "ExecuteTime": {
     "end_time": "2022-01-07T17:11:48.799117Z",
     "start_time": "2022-01-07T17:11:40.625Z"
    }
   },
   "outputs": [],
   "source": [
    "write.csv(para,\"../data/raw/ensembl_paralogs.csv\", row.names = TRUE)\n",
    "write.csv(entrez,\"../data/raw/ensembl_entrez.csv\", row.names = TRUE)"
   ]
  }
 ],
 "metadata": {
  "kernelspec": {
   "display_name": "R",
   "language": "R",
   "name": "ir"
  },
  "language_info": {
   "codemirror_mode": "r",
   "file_extension": ".r",
   "mimetype": "text/x-r-source",
   "name": "R",
   "pygments_lexer": "r",
   "version": "4.1.2"
  },
  "toc": {
   "base_numbering": 1,
   "nav_menu": {},
   "number_sections": true,
   "sideBar": true,
   "skip_h1_title": false,
   "title_cell": "Table of Contents",
   "title_sidebar": "Contents",
   "toc_cell": false,
   "toc_position": {},
   "toc_section_display": true,
   "toc_window_display": false
  }
 },
 "nbformat": 4,
 "nbformat_minor": 5
}
