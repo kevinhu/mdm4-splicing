{
 "cells": [
  {
   "cell_type": "code",
   "execution_count": 17,
   "id": "b8ad0913",
   "metadata": {
    "ExecuteTime": {
     "end_time": "2022-01-06T22:04:30.395070Z",
     "start_time": "2022-01-06T22:04:26.262Z"
    }
   },
   "outputs": [],
   "source": [
    "library(biomaRt)\n",
    "ens_human = useMart(biomart=\"ENSEMBL_MART_ENSEMBL\",\n",
    "                    host=\"https://useast.ensembl.org\",\n",
    "                    path=\"/biomart/martservice\",\n",
    "                    dataset=\"hsapiens_gene_ensembl\")"
   ]
  },
  {
   "cell_type": "code",
   "execution_count": 18,
   "id": "416b4537",
   "metadata": {
    "ExecuteTime": {
     "end_time": "2022-01-06T22:04:32.870222Z",
     "start_time": "2022-01-06T22:04:31.626Z"
    }
   },
   "outputs": [],
   "source": [
    "hgid <- getBM(attributes = \"ensembl_gene_id\",\n",
    "              filters    = \"with_hsapiens_paralog\",\n",
    "              values     = TRUE,\n",
    "              mart       = ens_human)"
   ]
  },
  {
   "cell_type": "code",
   "execution_count": 19,
   "id": "de4057d1",
   "metadata": {
    "ExecuteTime": {
     "end_time": "2022-01-06T22:10:41.705936Z",
     "start_time": "2022-01-06T22:04:35.352Z"
    }
   },
   "outputs": [
    {
     "name": "stderr",
     "output_type": "stream",
     "text": [
      "\n",
      "Batch submitting query [=====>-------------------------]  20% eta:  4m\n",
      "\n",
      "Batch submitting query [===========>-------------------]  40% eta:  4m\n",
      "\n",
      "Batch submitting query [==================>------------]  60% eta:  2m\n",
      "\n",
      "Batch submitting query [========================>------]  80% eta:  1m\n",
      "                                                                      \n",
      "\n"
     ]
    }
   ],
   "source": [
    "para <- getBM(attributes = c(\"ensembl_gene_id\", \n",
    "                                \"external_gene_name\",\n",
    "                                \"hsapiens_paralog_ensembl_gene\", \n",
    "                                \"hsapiens_paralog_associated_gene_name\"),\n",
    "              filters    = \"ensembl_gene_id\",\n",
    "              values     = hgid,\n",
    "              mart       = ens_human)"
   ]
  },
  {
   "cell_type": "code",
   "execution_count": 21,
   "id": "70b7b394",
   "metadata": {
    "ExecuteTime": {
     "end_time": "2022-01-07T01:51:05.851118Z",
     "start_time": "2022-01-07T01:50:57.869Z"
    }
   },
   "outputs": [],
   "source": [
    "write.csv(para,\"../data/raw/ensembl_paralogs.csv\", row.names = TRUE)"
   ]
  }
 ],
 "metadata": {
  "kernelspec": {
   "display_name": "R",
   "language": "R",
   "name": "ir"
  },
  "language_info": {
   "codemirror_mode": "r",
   "file_extension": ".r",
   "mimetype": "text/x-r-source",
   "name": "R",
   "pygments_lexer": "r",
   "version": "4.1.2"
  },
  "toc": {
   "base_numbering": 1,
   "nav_menu": {},
   "number_sections": true,
   "sideBar": true,
   "skip_h1_title": false,
   "title_cell": "Table of Contents",
   "title_sidebar": "Contents",
   "toc_cell": false,
   "toc_position": {},
   "toc_section_display": true,
   "toc_window_display": false
  }
 },
 "nbformat": 4,
 "nbformat_minor": 5
}
