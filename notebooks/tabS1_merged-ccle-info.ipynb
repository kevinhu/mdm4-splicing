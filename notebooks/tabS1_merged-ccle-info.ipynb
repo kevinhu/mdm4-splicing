{
 "cells": [
  {
   "cell_type": "code",
   "execution_count": 1,
   "metadata": {
    "ExecuteTime": {
     "end_time": "2020-10-03T02:12:30.810886Z",
     "start_time": "2020-10-03T02:12:29.577233Z"
    }
   },
   "outputs": [],
   "source": [
    "import numpy as np\n",
    "import pandas as pd\n",
    "\n",
    "import matplotlib.pyplot as plt\n",
    "import matplotlib as mpl\n",
    "import seaborn as sns\n",
    "\n",
    "import cancer_data"
   ]
  },
  {
   "cell_type": "markdown",
   "metadata": {},
   "source": [
    "# Overview"
   ]
  },
  {
   "cell_type": "markdown",
   "metadata": {},
   "source": [
    "# Aggregate attributes"
   ]
  },
  {
   "cell_type": "markdown",
   "metadata": {},
   "source": [
    "## Cell line metadata"
   ]
  },
  {
   "cell_type": "code",
   "execution_count": 2,
   "metadata": {
    "ExecuteTime": {
     "end_time": "2020-10-03T02:12:31.030837Z",
     "start_time": "2020-10-03T02:12:30.813628Z"
    }
   },
   "outputs": [
    {
     "name": "stderr",
     "output_type": "stream",
     "text": [
      "INFO:numexpr.utils:NumExpr defaulting to 8 threads.\n"
     ]
    }
   ],
   "source": [
    "# cell line characteristics\n",
    "cell_line_info = cancer_data.load(\"depmap_annotations\")\n",
    "cell_line_info[\"COSMIC_ID\"] = (\n",
    "    cell_line_info[\"COSMICID\"].astype(float).fillna(0).astype(int).astype(str).replace(\"0\", \"\")\n",
    ")\n",
    "\n",
    "cell_line_info[\"CCLE_name\"] = cell_line_info[\"CCLE_Name\"]\n",
    "cell_line_info[\"Sanger_ID\"] = cell_line_info[\"Sanger_Model_ID\"]\n",
    "cell_line_info[\"disease\"] = cell_line_info[\"primary_disease\"]\n",
    "\n",
    "select_cell_line_info = cell_line_info[\n",
    "    [\"CCLE_name\", \"COSMIC_ID\", \"Sanger_ID\", \"disease\"]\n",
    "]\n",
    "\n",
    "select_cell_line_info.columns = [\n",
    "    \"CCLE_name\",\n",
    "    \"COSMIC_ID\",\n",
    "    \"Sanger_ID\",\n",
    "    \"Primary_disease\",\n",
    "]"
   ]
  },
  {
   "cell_type": "markdown",
   "metadata": {},
   "source": [
    "## Mutation calls"
   ]
  },
  {
   "cell_type": "code",
   "execution_count": 3,
   "metadata": {
    "ExecuteTime": {
     "end_time": "2020-10-03T02:12:44.750118Z",
     "start_time": "2020-10-03T02:12:31.033219Z"
    }
   },
   "outputs": [],
   "source": [
    "mutation_calls = cancer_data.load(\"depmap_mutations\")\n",
    "mutation_calls[\"Change\"] = \"chr\" + mutation_calls[\"Chromosome\"].astype(str)\n",
    "mutation_calls[\"Change\"] = (\n",
    "    mutation_calls[\"Change\"] + \"_\" + mutation_calls[\"Start_position\"].astype(str)\n",
    ")\n",
    "mutation_calls[\"Change\"] = (\n",
    "    mutation_calls[\"Change\"] + \"-\" + mutation_calls[\"End_position\"].astype(str)\n",
    ")\n",
    "mutation_calls[\"Change\"] = (\n",
    "    mutation_calls[\"Change\"] + \"_\" + mutation_calls[\"Reference_Allele\"].astype(str)\n",
    ")\n",
    "mutation_calls[\"Change\"] = (\n",
    "    mutation_calls[\"Change\"] + \">\" + mutation_calls[\"Tumor_Seq_Allele1\"].astype(str)\n",
    ")\n",
    "\n",
    "# list of all cell lines with mutation data\n",
    "all_mut_lines = sorted(list(set(mutation_calls[\"DepMap_ID\"])))\n",
    "\n",
    "\n",
    "def collapse_mutation(mutation_classes):\n",
    "    if \"damaging\" in mutation_classes:\n",
    "        return \"damaging\"\n",
    "    if \"other non-conserving\" in mutation_classes:\n",
    "        return \"non-conserving\"\n",
    "    if \"silent\" in mutation_classes:\n",
    "        return \"silent\"\n",
    "    if \"WT\" in mutation_classes:\n",
    "        return \"wild-type\"\n",
    "\n",
    "    return np.nan\n",
    "\n",
    "\n",
    "def get_mutations(gene):\n",
    "\n",
    "    # fetch mutations for gene\n",
    "    matched_muts = mutation_calls[mutation_calls[\"Hugo_Symbol\"] == gene]\n",
    "\n",
    "    # group by the cell line and convert to a list of mutations\n",
    "    mutation_ids = matched_muts.groupby(\"DepMap_ID\")[\"Change\"].apply(list)\n",
    "    mutation_ids = mutation_ids.apply(lambda x: \",\".join([str(y) for y in x]))\n",
    "    mutation_ids = mutation_ids.rename(gene + \"_mutation\")\n",
    "    mutation_ids[mutation_ids.isna()] = \"\"\n",
    "\n",
    "    # group by the type of mutation\n",
    "    mutation_classes = matched_muts.groupby(\"DepMap_ID\")[\"Variant_annotation\"]\n",
    "\n",
    "    # list the mutation classes\n",
    "    mutation_classes = mutation_classes.apply(list)\n",
    "    mutation_classes = mutation_classes.apply(lambda x: [str(y) for y in x])\n",
    "    mutation_classes = mutation_classes.apply(lambda x: \",\".join(x))\n",
    "    mutation_classes = mutation_classes.rename(gene + \"_mutation_classification\")\n",
    "\n",
    "    mutation_classes_collapsed = mutation_classes.apply(\n",
    "        lambda x: collapse_mutation(x)\n",
    "    ).rename(gene + \"_mutation_classification_collapsed\")\n",
    "\n",
    "    # return mutation IDs and classes\n",
    "    return pd.concat(\n",
    "        [mutation_ids, mutation_classes, mutation_classes_collapsed], axis=1\n",
    "    )"
   ]
  },
  {
   "cell_type": "code",
   "execution_count": 4,
   "metadata": {
    "ExecuteTime": {
     "end_time": "2020-10-03T02:12:46.490774Z",
     "start_time": "2020-10-03T02:12:44.752215Z"
    }
   },
   "outputs": [
    {
     "name": "stderr",
     "output_type": "stream",
     "text": [
      "<ipython-input-4-031f22552e32>:8: DeprecationWarning: The default dtype for empty Series will be 'object' instead of 'float64' in a future version. Specify a dtype explicitly to silence this warning.\n",
      "  pd.Series(index=all_mut_lines), join=\"outer\", axis=0\n"
     ]
    }
   ],
   "source": [
    "mut_genes = [\"TP53\", \"RPL22\"]\n",
    "\n",
    "select_muts = [get_mutations(gene) for gene in mut_genes]\n",
    "\n",
    "merged_mutations = pd.concat(select_muts, axis=1, sort=False, join=\"outer\")\n",
    "\n",
    "merged_mutations, _ = merged_mutations.align(\n",
    "    pd.Series(index=all_mut_lines), join=\"outer\", axis=0\n",
    ")\n",
    "\n",
    "merged_mutations = merged_mutations.fillna(\"WT\")"
   ]
  },
  {
   "cell_type": "markdown",
   "metadata": {},
   "source": [
    "## MSI"
   ]
  },
  {
   "cell_type": "code",
   "execution_count": 5,
   "metadata": {
    "ExecuteTime": {
     "end_time": "2020-10-03T02:12:46.518921Z",
     "start_time": "2020-10-03T02:12:46.492647Z"
    }
   },
   "outputs": [],
   "source": [
    "is_msi = cancer_data.load(\"ccle_msi\")\n",
    "\n",
    "select_msi = is_msi[\"MSI\"]"
   ]
  },
  {
   "cell_type": "markdown",
   "metadata": {},
   "source": [
    "## Splicing"
   ]
  },
  {
   "cell_type": "code",
   "execution_count": 6,
   "metadata": {
    "ExecuteTime": {
     "end_time": "2020-10-03T02:13:13.602638Z",
     "start_time": "2020-10-03T02:12:46.520917Z"
    }
   },
   "outputs": [],
   "source": [
    "exonusage = cancer_data.load(\"ccle_exonusage\")\n",
    "\n",
    "select_exons = [\n",
    "    \"UBAP2L_5p_chr1_154242676_154243329_ENSG00000143569.14\",\n",
    "    \"RPL22L1_5p_chr3_170585990_170585802_ENSG00000163584.13\",\n",
    "    \"MDM4_3p_chr1_204506558_204506625_ENSG00000198625.8\",\n",
    "    \"MDM4_5p_chr1_204506558_204506625_ENSG00000198625.8\",\n",
    "]\n",
    "\n",
    "select_exonusage = exonusage[select_exons]\n",
    "select_exonusage.columns = [x + \"_exonusage\" for x in select_exonusage.columns]"
   ]
  },
  {
   "cell_type": "markdown",
   "metadata": {},
   "source": [
    "## mRNA expression"
   ]
  },
  {
   "cell_type": "code",
   "execution_count": 7,
   "metadata": {
    "ExecuteTime": {
     "end_time": "2020-10-03T02:13:19.363337Z",
     "start_time": "2020-10-03T02:13:13.604850Z"
    }
   },
   "outputs": [],
   "source": [
    "ccle_genex = cancer_data.load(\"ccle_gene_tpm\")\n",
    "\n",
    "select_genex_genes = [\n",
    "    \"MDM2_ENSG00000135679.17\",\n",
    "    \"MDM4_ENSG00000198625.8\",\n",
    "    \"RPL22_ENSG00000116251.5\",\n",
    "    \"RPL22L1_ENSG00000163584.13\",\n",
    "]\n",
    "\n",
    "select_genex = ccle_genex[select_genex_genes]\n",
    "\n",
    "select_genex.columns = [x + \"_mRNA\" for x in select_genex.columns]"
   ]
  },
  {
   "cell_type": "markdown",
   "metadata": {},
   "source": [
    "## Proteomics"
   ]
  },
  {
   "cell_type": "code",
   "execution_count": 8,
   "metadata": {
    "ExecuteTime": {
     "end_time": "2020-10-03T02:13:20.067047Z",
     "start_time": "2020-10-03T02:13:19.365213Z"
    }
   },
   "outputs": [],
   "source": [
    "ms_prot = cancer_data.load(\"ccle_proteomics\")\n",
    "rppa = cancer_data.load(\"ccle_rppa\")\n",
    "\n",
    "select_ms_proteins = [\n",
    "    \"TP53_P04637\",\n",
    "    \"MDM2_Q00987-11\",\n",
    "    \"MDM4_O15151\",\n",
    "    \"RPL22_P35268\",\n",
    "    \"RPL22L1_Q6P5R6\",\n",
    "]\n",
    "\n",
    "select_ms_prot = ms_prot[select_ms_proteins]\n",
    "select_ms_prot.columns = [\n",
    "    \"TP53_MS_protein\",\n",
    "    \"MDM2_MS_protein\",\n",
    "    \"MDM4_MS_protein\",\n",
    "    \"RPL22_MS_protein\",\n",
    "    \"RPL22L1_MS_protein\",\n",
    "]\n",
    "\n",
    "select_rppa_proteins = [\"MDM2_MDM2_pS166\", \"MDM4_MDMX_MDM4(BetIHC-00108)_Caution\"]\n",
    "\n",
    "select_rppa = rppa[select_rppa_proteins]\n",
    "\n",
    "select_rppa.columns = [\"MDM2_RPPA_protein\", \"MDM4_RPPA_protein\"]"
   ]
  },
  {
   "cell_type": "markdown",
   "metadata": {},
   "source": [
    "## Copy number"
   ]
  },
  {
   "cell_type": "code",
   "execution_count": 9,
   "metadata": {
    "ExecuteTime": {
     "end_time": "2020-10-03T02:13:24.825349Z",
     "start_time": "2020-10-03T02:13:20.068982Z"
    }
   },
   "outputs": [],
   "source": [
    "copynumber = cancer_data.load(\"depmap_copy_number\")\n",
    "\n",
    "select_copynumber_genes = [\"TP53_7157\", \"RPL22_6146\"]\n",
    "\n",
    "select_copynumber = copynumber[select_copynumber_genes]\n",
    "select_copynumber.columns = [\"TP53_copynumber\", \"RPL22_copynumber\"]"
   ]
  },
  {
   "cell_type": "markdown",
   "metadata": {},
   "source": [
    "## Gene sensitivities"
   ]
  },
  {
   "cell_type": "code",
   "execution_count": 10,
   "metadata": {
    "ExecuteTime": {
     "end_time": "2020-10-03T02:13:26.775783Z",
     "start_time": "2020-10-03T02:13:24.827472Z"
    }
   },
   "outputs": [],
   "source": [
    "avana = cancer_data.load(\"avana\")\n",
    "drive = cancer_data.load(\"drive\")\n",
    "\n",
    "select_avana_genes = [\n",
    "    \"TP53_7157\",\n",
    "    \"MDM4_4194\",\n",
    "    \"MDM2_4193\",\n",
    "    \"RPL22_6146\",\n",
    "    \"RPL22L1_200916\",\n",
    "]\n",
    "\n",
    "select_drive_genes = [\n",
    "    \"TP53_7157\",\n",
    "    \"MDM4_4194\",\n",
    "    \"MDM2_4193\",\n",
    "    \"RPL22_6146\",\n",
    "    \"RPL22L1_200916\",\n",
    "]\n",
    "\n",
    "select_avana = avana[select_avana_genes]\n",
    "select_drive = drive[select_drive_genes]\n",
    "\n",
    "select_avana.columns = [\n",
    "    x.split(\"_\")[0] + \"_Avana_dependency\" for x in select_avana.columns\n",
    "]\n",
    "select_drive.columns = [\n",
    "    x.split(\"_\")[0] + \"_DRIVE_dependency\" for x in select_drive.columns\n",
    "]"
   ]
  },
  {
   "cell_type": "markdown",
   "metadata": {},
   "source": [
    "## Drug sensitivities"
   ]
  },
  {
   "cell_type": "code",
   "execution_count": 11,
   "metadata": {
    "ExecuteTime": {
     "end_time": "2020-10-03T02:13:27.844713Z",
     "start_time": "2020-10-03T02:13:26.777657Z"
    }
   },
   "outputs": [],
   "source": [
    "prism_primary_logfold = cancer_data.load(\"prism_primary_logfold\")\n",
    "prism_secondary_logfold = cancer_data.load(\"prism_secondary_logfold\")\n",
    "\n",
    "select_prism_primary = prism_primary_logfold[[\"nutlin-3_BRD-A12230535-001-06-7::2.5::HTS\"]]\n",
    "\n",
    "select_prism_primary.columns = [\"nutlin-3_PRISM_primary_2.5\"]"
   ]
  },
  {
   "cell_type": "markdown",
   "metadata": {},
   "source": [
    "## Merge"
   ]
  },
  {
   "cell_type": "code",
   "execution_count": 12,
   "metadata": {
    "ExecuteTime": {
     "end_time": "2020-10-03T02:13:27.864912Z",
     "start_time": "2020-10-03T02:13:27.846851Z"
    }
   },
   "outputs": [],
   "source": [
    "merged_ccle_info = pd.concat(\n",
    "    [\n",
    "        select_cell_line_info,\n",
    "        merged_mutations,\n",
    "        select_msi,\n",
    "        select_exonusage,\n",
    "        select_genex,\n",
    "        select_ms_prot,\n",
    "        select_rppa,\n",
    "        select_copynumber,\n",
    "        select_avana,\n",
    "        select_drive,\n",
    "        select_prism_primary\n",
    "    ],\n",
    "    join=\"outer\",\n",
    "    axis=1,\n",
    "    sort=True,\n",
    ")\n",
    "\n",
    "merged_ccle_info = merged_ccle_info.dropna(how=\"all\")\n",
    "merged_ccle_info.index.name = \"Achilles_ID\""
   ]
  },
  {
   "cell_type": "code",
   "execution_count": 13,
   "metadata": {
    "ExecuteTime": {
     "end_time": "2020-10-03T02:13:27.931031Z",
     "start_time": "2020-10-03T02:13:27.866793Z"
    }
   },
   "outputs": [],
   "source": [
    "merged_ccle_info.to_csv(\"../data/supplementary/S1_merged-ccle-info.txt\", sep=\"\\t\")"
   ]
  }
 ],
 "metadata": {
  "kernelspec": {
   "display_name": "Python 3",
   "language": "python",
   "name": "python3"
  },
  "language_info": {
   "codemirror_mode": {
    "name": "ipython",
    "version": 3
   },
   "file_extension": ".py",
   "mimetype": "text/x-python",
   "name": "python",
   "nbconvert_exporter": "python",
   "pygments_lexer": "ipython3",
   "version": "3.8.6"
  },
  "toc": {
   "base_numbering": 1,
   "nav_menu": {},
   "number_sections": true,
   "sideBar": true,
   "skip_h1_title": false,
   "title_cell": "Table of Contents",
   "title_sidebar": "Contents",
   "toc_cell": false,
   "toc_position": {},
   "toc_section_display": true,
   "toc_window_display": true
  }
 },
 "nbformat": 4,
 "nbformat_minor": 4
}
