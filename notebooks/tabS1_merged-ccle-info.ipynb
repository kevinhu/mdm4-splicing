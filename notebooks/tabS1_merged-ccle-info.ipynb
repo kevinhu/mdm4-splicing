{
 "cells": [
  {
   "cell_type": "code",
   "execution_count": 1,
   "metadata": {
    "ExecuteTime": {
     "end_time": "2020-05-29T22:08:37.767541Z",
     "start_time": "2020-05-29T22:08:36.160130Z"
    }
   },
   "outputs": [],
   "source": [
    "import numpy as np\n",
    "import pandas as pd\n",
    "\n",
    "import matplotlib.pyplot as plt\n",
    "import matplotlib as mpl\n",
    "import seaborn as sns\n",
    "\n",
    "import sys\n",
    "import os\n",
    "\n",
    "sys.path.append(os.path.relpath(\"../../huygens\"))\n",
    "sys.path.append(os.path.relpath(\"../../galileo\"))\n",
    "\n",
    "import galileo as gal\n",
    "import huygens as huy"
   ]
  },
  {
   "cell_type": "markdown",
   "metadata": {},
   "source": [
    "# Overview"
   ]
  },
  {
   "cell_type": "markdown",
   "metadata": {},
   "source": [
    "# Aggregate attributes"
   ]
  },
  {
   "cell_type": "markdown",
   "metadata": {},
   "source": [
    "## Cell line metadata"
   ]
  },
  {
   "cell_type": "code",
   "execution_count": 32,
   "metadata": {
    "ExecuteTime": {
     "end_time": "2020-05-29T23:08:17.833607Z",
     "start_time": "2020-05-29T23:08:17.814484Z"
    }
   },
   "outputs": [],
   "source": [
    "# cell line characteristics\n",
    "cell_line_info = pd.read_csv(\"../../data/processed/depmap/sample_info.csv\", index_col=0)\n",
    "cell_line_info[\"COSMIC_ID\"] = (\n",
    "    cell_line_info[\"COSMIC_ID\"].fillna(0).astype(int).astype(str).replace(\"0\", \"\")\n",
    ")\n",
    "\n",
    "select_cell_line_info = cell_line_info[\n",
    "    [\"CCLE_name\", \"COSMIC_ID\", \"Sanger_ID\", \"disease\"]\n",
    "]\n",
    "\n",
    "select_cell_line_info.columns = [\n",
    "    \"CCLE_name\",\n",
    "    \"COSMIC_ID\",\n",
    "    \"Sanger_ID\",\n",
    "    \"Primary_disease\",\n",
    "]"
   ]
  },
  {
   "cell_type": "markdown",
   "metadata": {},
   "source": [
    "## Mutation calls"
   ]
  },
  {
   "cell_type": "code",
   "execution_count": 44,
   "metadata": {
    "ExecuteTime": {
     "end_time": "2020-05-29T23:22:27.222986Z",
     "start_time": "2020-05-29T23:22:16.958050Z"
    }
   },
   "outputs": [],
   "source": [
    "mutation_calls = pd.read_csv(\n",
    "    \"../../data/raw/depmap/CCLE_mutations_19q4.csv\", index_col=0\n",
    ")\n",
    "mutation_calls[\"Change\"] = \"chr\" + mutation_calls[\"Chromosome\"].astype(str)\n",
    "mutation_calls[\"Change\"] = (\n",
    "    mutation_calls[\"Change\"] + \"_\" + mutation_calls[\"Start_position\"].astype(str)\n",
    ")\n",
    "mutation_calls[\"Change\"] = (\n",
    "    mutation_calls[\"Change\"] + \"-\" + mutation_calls[\"End_position\"].astype(str)\n",
    ")\n",
    "mutation_calls[\"Change\"] = (\n",
    "    mutation_calls[\"Change\"] + \"_\" + mutation_calls[\"Reference_Allele\"].astype(str)\n",
    ")\n",
    "mutation_calls[\"Change\"] = (\n",
    "    mutation_calls[\"Change\"] + \">\" + mutation_calls[\"Tumor_Seq_Allele1\"].astype(str)\n",
    ")\n",
    "\n",
    "# list of all cell lines with mutation data\n",
    "all_mut_lines = sorted(list(set(mutation_calls[\"DepMap_ID\"])))\n",
    "\n",
    "\n",
    "def collapse_mutation(mutation_classes):\n",
    "    if \"damaging\" in mutation_classes:\n",
    "        return \"damaging\"\n",
    "    if \"other non-conserving\" in mutation_classes:\n",
    "        return \"non-conserving\"\n",
    "    if \"silent\" in mutation_classes:\n",
    "        return \"silent\"\n",
    "    if \"WT\" in mutation_classes:\n",
    "        return \"wild-type\"\n",
    "\n",
    "    return np.nan\n",
    "\n",
    "\n",
    "def get_mutations(gene):\n",
    "\n",
    "    # fetch mutations for gene\n",
    "    matched_muts = mutation_calls[mutation_calls[\"Hugo_Symbol\"] == gene]\n",
    "\n",
    "    # group by the cell line and convert to a list of mutations\n",
    "    mutation_ids = matched_muts.groupby(\"DepMap_ID\")[\"Change\"].apply(list)\n",
    "    mutation_ids = mutation_ids.apply(lambda x: \",\".join([str(y) for y in x]))\n",
    "    mutation_ids = mutation_ids.rename(gene + \"_mutation\")\n",
    "    mutation_ids[mutation_ids.isna()] = \"\"\n",
    "\n",
    "    # group by the type of mutation\n",
    "    mutation_classes = matched_muts.groupby(\"DepMap_ID\")[\"Variant_annotation\"]\n",
    "\n",
    "    # list the mutation classes\n",
    "    mutation_classes = mutation_classes.apply(list)\n",
    "    mutation_classes = mutation_classes.apply(lambda x: [str(y) for y in x])\n",
    "    mutation_classes = mutation_classes.apply(lambda x: \",\".join(x))\n",
    "    mutation_classes = mutation_classes.rename(gene + \"_mutation_classification\")\n",
    "\n",
    "    mutation_classes_collapsed = mutation_classes.apply(\n",
    "        lambda x: collapse_mutation(x)\n",
    "    ).rename(gene + \"_mutation_classification_collapsed\")\n",
    "\n",
    "    # return mutation IDs and classes\n",
    "    return pd.concat(\n",
    "        [mutation_ids, mutation_classes, mutation_classes_collapsed], axis=1\n",
    "    )"
   ]
  },
  {
   "cell_type": "code",
   "execution_count": 45,
   "metadata": {
    "ExecuteTime": {
     "end_time": "2020-05-29T23:22:28.831592Z",
     "start_time": "2020-05-29T23:22:27.699225Z"
    }
   },
   "outputs": [],
   "source": [
    "mut_genes = [\"TP53\", \"RPL22\"]\n",
    "\n",
    "select_muts = [get_mutations(gene) for gene in mut_genes]\n",
    "\n",
    "merged_mutations = pd.concat(select_muts, axis=1, sort=False, join=\"outer\")\n",
    "\n",
    "merged_mutations, _ = merged_mutations.align(\n",
    "    pd.Series(index=all_mut_lines), join=\"outer\", axis=0\n",
    ")\n",
    "\n",
    "merged_mutations = merged_mutations.fillna(\"WT\")"
   ]
  },
  {
   "cell_type": "markdown",
   "metadata": {},
   "source": [
    "## MSI"
   ]
  },
  {
   "cell_type": "code",
   "execution_count": 14,
   "metadata": {
    "ExecuteTime": {
     "end_time": "2020-05-29T22:48:08.902776Z",
     "start_time": "2020-05-29T22:48:08.882838Z"
    }
   },
   "outputs": [],
   "source": [
    "is_msi = pd.read_hdf(\"../../data/processed/depmap/CCLE_MSI.h5\", key=\"is_msi\")\n",
    "\n",
    "select_msi = is_msi[\"MSI\"]"
   ]
  },
  {
   "cell_type": "markdown",
   "metadata": {},
   "source": [
    "## Splicing"
   ]
  },
  {
   "cell_type": "code",
   "execution_count": 17,
   "metadata": {
    "ExecuteTime": {
     "end_time": "2020-05-29T22:51:19.498931Z",
     "start_time": "2020-05-29T22:51:17.702096Z"
    }
   },
   "outputs": [],
   "source": [
    "exonusage = pd.read_hdf(\n",
    "    \"../../data/processed/ccle/CCLE_RNAseq_ExonUsageRatio_20180929.hdf\", key=\"exonusage\"\n",
    ")\n",
    "\n",
    "select_exons = [\n",
    "    \"UBAP2L_5p_chr1_154242676_154243329_ENSG00000143569.14\",\n",
    "    \"RPL22L1_5p_chr3_170585990_170585802_ENSG00000163584.13\",\n",
    "    \"MDM4_3p_chr1_204506558_204506625_ENSG00000198625.8\",\n",
    "    \"MDM4_5p_chr1_204506558_204506625_ENSG00000198625.8\",\n",
    "]\n",
    "\n",
    "select_exonusage = exonusage[select_exons]\n",
    "select_exonusage.columns = [x + \"_exonusage\" for x in select_exonusage.columns]"
   ]
  },
  {
   "cell_type": "markdown",
   "metadata": {},
   "source": [
    "## mRNA expression"
   ]
  },
  {
   "cell_type": "code",
   "execution_count": 52,
   "metadata": {
    "ExecuteTime": {
     "end_time": "2020-05-29T23:36:13.697961Z",
     "start_time": "2020-05-29T23:36:13.259820Z"
    }
   },
   "outputs": [],
   "source": [
    "ccle_genex = pd.read_hdf(\n",
    "    \"../../data/processed/ccle/CCLE_RNAseq_rsem_genes_tpm_20180929.hdf\",\n",
    "    key=\"ccle_genex\",\n",
    ")\n",
    "\n",
    "select_genex_genes = [\n",
    "    \"MDM2_ENSG00000135679.17\",\n",
    "    \"MDM4_ENSG00000198625.8\",\n",
    "    \"RPL22_ENSG00000116251.5\",\n",
    "    \"RPL22L1_ENSG00000163584.13\",\n",
    "]\n",
    "\n",
    "select_genex = ccle_genex[select_genex_genes]\n",
    "\n",
    "select_genex.columns = [x + \"_mRNA\" for x in select_genex.columns]"
   ]
  },
  {
   "cell_type": "markdown",
   "metadata": {},
   "source": [
    "## Proteomics"
   ]
  },
  {
   "cell_type": "code",
   "execution_count": 19,
   "metadata": {
    "ExecuteTime": {
     "end_time": "2020-05-29T22:55:19.798848Z",
     "start_time": "2020-05-29T22:55:19.733193Z"
    }
   },
   "outputs": [],
   "source": [
    "ms_prot = pd.read_hdf(\"../../data/processed/ccle/ms_prot.h5\", key=\"ms_prot\")\n",
    "rppa = pd.read_hdf(\"../../data/processed/ccle/CCLE_RPPA_20181003.hdf\", key=\"rppa\")\n",
    "\n",
    "select_ms_proteins = [\n",
    "    \"P53_HUMAN_P04637\",\n",
    "    \"MDM2_HUMAN_Q00987-11\",\n",
    "    \"MDM4_HUMAN_O15151\",\n",
    "    \"RL22_HUMAN_P35268\",\n",
    "    \"RL22L_HUMAN_Q6P5R6\",\n",
    "]\n",
    "\n",
    "select_ms_prot = ms_prot[select_ms_proteins]\n",
    "select_ms_prot.columns = [\n",
    "    \"TP53_MS_protein\",\n",
    "    \"MDM2_MS_protein\",\n",
    "    \"MDM4_MS_protein\",\n",
    "    \"RPL22_MS_protein\",\n",
    "    \"RPL22L1_MS_protein\",\n",
    "]\n",
    "\n",
    "select_rppa_proteins = [\"MDM2_pS166\", \"MDMX_MDM4(BetIHC-00108)_Caution\"]\n",
    "\n",
    "select_rppa = rppa[select_rppa_proteins]\n",
    "\n",
    "select_rppa.columns = [\"MDM2_RPPA_protein\", \"MDM4_RPPA_protein\"]"
   ]
  },
  {
   "cell_type": "markdown",
   "metadata": {},
   "source": [
    "## Copy number"
   ]
  },
  {
   "cell_type": "code",
   "execution_count": 20,
   "metadata": {
    "ExecuteTime": {
     "end_time": "2020-05-29T22:56:31.590430Z",
     "start_time": "2020-05-29T22:56:31.268759Z"
    }
   },
   "outputs": [],
   "source": [
    "copynumber = pd.read_hdf(\n",
    "    \"../../data/processed/depmap/CCLE_gene_cn_19q4_public.hdf\", key=\"copynumber\"\n",
    ")\n",
    "\n",
    "select_copynumber_genes = [\"TP53 (7157)\", \"RPL22 (6146)\"]\n",
    "\n",
    "select_copynumber = copynumber[select_copynumber_genes]\n",
    "select_copynumber.columns = [\"TP53_copynumber\", \"RPL22_copynumber\"]"
   ]
  },
  {
   "cell_type": "markdown",
   "metadata": {},
   "source": [
    "## Sensitivities"
   ]
  },
  {
   "cell_type": "code",
   "execution_count": 21,
   "metadata": {
    "ExecuteTime": {
     "end_time": "2020-05-29T22:58:17.353746Z",
     "start_time": "2020-05-29T22:58:17.182925Z"
    }
   },
   "outputs": [],
   "source": [
    "avana = pd.read_hdf(\"../../data/processed/depmap/avana.hdf\", key=\"avana\")\n",
    "drive = pd.read_hdf(\n",
    "    \"../../data/processed/depmap/demeter2-drive_v12-gene-effect.hdf\", key=\"drive\"\n",
    ")\n",
    "\n",
    "select_avana_genes = [\n",
    "    \"TP53_7157\",\n",
    "    \"MDM4_4194\",\n",
    "    \"MDM2_4193\",\n",
    "    \"RPL22_6146\",\n",
    "    \"RPL22L1_200916\",\n",
    "]\n",
    "\n",
    "select_drive_genes = [\n",
    "    \"TP53_7157\",\n",
    "    \"MDM4_4194\",\n",
    "    \"MDM2_4193\",\n",
    "    \"RPL22_6146\",\n",
    "    \"RPL22L1_200916\",\n",
    "]\n",
    "\n",
    "select_avana = avana[select_avana_genes]\n",
    "select_drive = drive[select_drive_genes]\n",
    "\n",
    "select_avana.columns = [\n",
    "    x.split(\"_\")[0] + \"_Avana_dependency\" for x in select_avana.columns\n",
    "]\n",
    "select_drive.columns = [\n",
    "    x.split(\"_\")[0] + \"_DRIVE_dependency\" for x in select_drive.columns\n",
    "]"
   ]
  },
  {
   "cell_type": "markdown",
   "metadata": {},
   "source": [
    "## Merge"
   ]
  },
  {
   "cell_type": "code",
   "execution_count": 55,
   "metadata": {
    "ExecuteTime": {
     "end_time": "2020-05-30T00:20:19.260999Z",
     "start_time": "2020-05-30T00:20:19.231714Z"
    }
   },
   "outputs": [],
   "source": [
    "merged_ccle_info = pd.concat(\n",
    "    [\n",
    "        select_cell_line_info,\n",
    "        merged_mutations,\n",
    "        select_msi,\n",
    "        select_exonusage,\n",
    "        select_genex,\n",
    "        select_ms_prot,\n",
    "        select_rppa,\n",
    "        select_copynumber,\n",
    "        select_avana,\n",
    "        select_drive,\n",
    "    ],\n",
    "    join=\"outer\",\n",
    "    axis=1,\n",
    "    sort=True,\n",
    ")\n",
    "\n",
    "merged_ccle_info = merged_ccle_info.dropna(how=\"all\")\n",
    "merged_ccle_info.index.name = \"Achilles_ID\""
   ]
  },
  {
   "cell_type": "code",
   "execution_count": 56,
   "metadata": {
    "ExecuteTime": {
     "end_time": "2020-05-30T00:20:20.558212Z",
     "start_time": "2020-05-30T00:20:20.478879Z"
    }
   },
   "outputs": [],
   "source": [
    "merged_ccle_info.to_csv(\"../data/supplementary/S1_merged-ccle-info.txt\", sep=\"\\t\")"
   ]
  }
 ],
 "metadata": {
  "kernelspec": {
   "display_name": "Python 3",
   "language": "python",
   "name": "python3"
  },
  "language_info": {
   "codemirror_mode": {
    "name": "ipython",
    "version": 3
   },
   "file_extension": ".py",
   "mimetype": "text/x-python",
   "name": "python",
   "nbconvert_exporter": "python",
   "pygments_lexer": "ipython3",
   "version": "3.7.7"
  },
  "toc": {
   "base_numbering": 1,
   "nav_menu": {},
   "number_sections": true,
   "sideBar": true,
   "skip_h1_title": false,
   "title_cell": "Table of Contents",
   "title_sidebar": "Contents",
   "toc_cell": false,
   "toc_position": {},
   "toc_section_display": true,
   "toc_window_display": true
  }
 },
 "nbformat": 4,
 "nbformat_minor": 4
}
