{
 "cells": [
  {
   "cell_type": "code",
   "execution_count": 319,
   "metadata": {
    "ExecuteTime": {
     "end_time": "2019-11-09T03:16:02.864519Z",
     "start_time": "2019-11-09T03:16:02.857162Z"
    }
   },
   "outputs": [],
   "source": [
    "import numpy as np\n",
    "import pandas as pd\n",
    "\n",
    "import matplotlib.pyplot as plt\n",
    "import matplotlib as mpl\n",
    "import seaborn as sns\n",
    "\n",
    "from scipy.stats import kruskal\n",
    "\n",
    "import sys\n",
    "import os\n",
    "\n",
    "sys.path.append(os.path.relpath(\"../../huygens\"))\n",
    "sys.path.append(os.path.relpath(\"../../galileo\"))\n",
    "\n",
    "plt.rcParams['ps.useafm'] = True\n",
    "plt.rcParams['font.family'] = 'Arial'\n",
    "plt.rcParams['pdf.fonttype'] = 42\n",
    "plt.rcParams['ps.fonttype'] = 42\n",
    "\n",
    "import galileo as gal\n",
    "import huygens as huy"
   ]
  },
  {
   "cell_type": "markdown",
   "metadata": {},
   "source": [
    "# Transcripts to genes"
   ]
  },
  {
   "cell_type": "code",
   "execution_count": 232,
   "metadata": {
    "ExecuteTime": {
     "end_time": "2019-11-09T02:12:33.461589Z",
     "start_time": "2019-11-09T02:12:32.942464Z"
    }
   },
   "outputs": [],
   "source": [
    "t2g = pd.read_csv(\"../data/intermediate/sleuth_diff/ensembl_t2g.csv\")\n",
    "t2g[\"format_gene_id\"] = t2g[\"hgnc_gene\"].fillna(\"\") + \"_\" + t2g[\"ens_gene\"]\n",
    "\n",
    "format_gene_map = dict(zip(t2g[\"ens_gene\"],t2g[\"format_gene_id\"]))"
   ]
  },
  {
   "cell_type": "markdown",
   "metadata": {},
   "source": [
    "# Proprocess TCGA"
   ]
  },
  {
   "cell_type": "code",
   "execution_count": 233,
   "metadata": {
    "ExecuteTime": {
     "end_time": "2019-11-09T02:12:49.086374Z",
     "start_time": "2019-11-09T02:12:33.815026Z"
    }
   },
   "outputs": [],
   "source": [
    "tcga_a3ss = pd.read_hdf(\"../data/processed/tcga/tcga_a3ss.hdf\",key=\"tcga_a3ss\")\n",
    "tcga_se = pd.read_hdf(\"../data/processed/tcga/tcga_se.hdf\",key=\"tcga_se\")\n",
    "tcga_genex = pd.read_hdf(\"../data/processed/tcga/tcga_genex.hdf\",key=\"tcga_genex\")\n",
    "tcga_cn = pd.read_hdf(\"../data/processed/tcga/tcga_cn.hdf\",key=\"tcga_cn\")\n",
    "tcga_muts = pd.read_hdf(\"../data/processed/tcga/tcga_muts.hdf\",key=\"tcga_muts\")\n",
    "tcga_sample_info = pd.read_hdf(\"../data/processed/tcga/tcga_sample_info.hdf\",\n",
    "                               key=\"tcga_sample_info\")"
   ]
  },
  {
   "cell_type": "code",
   "execution_count": 234,
   "metadata": {
    "ExecuteTime": {
     "end_time": "2019-11-09T02:12:51.553902Z",
     "start_time": "2019-11-09T02:12:49.091412Z"
    }
   },
   "outputs": [],
   "source": [
    "tcga_a3ss.index = tcga_a3ss.index.map(lambda x: x[:15])\n",
    "tcga_se.index = tcga_se.index.map(lambda x: x[:15])\n",
    "\n",
    "tcga_a3ss = tcga_a3ss[~tcga_a3ss.index.duplicated(keep=\"first\")]\n",
    "tcga_se = tcga_se[~tcga_se.index.duplicated(keep=\"first\")]\n",
    "\n",
    "tcga_genex.columns = [format_gene_map.get(x.split(\".\")[0],\"unnamed\")+\"_\"+x for x in tcga_genex.columns]\n",
    "tcga_a3ss.columns = [format_gene_map.get(x.split(\".\")[0],\"unnamed\")+\"_\"+x for x in tcga_a3ss.columns]\n",
    "tcga_se.columns = [format_gene_map.get(x.split(\".\")[0],\"unnamed\")+\"_\"+x for x in tcga_se.columns]"
   ]
  },
  {
   "cell_type": "markdown",
   "metadata": {},
   "source": [
    "## RPL22 mutants"
   ]
  },
  {
   "cell_type": "code",
   "execution_count": 235,
   "metadata": {
    "ExecuteTime": {
     "end_time": "2019-11-09T02:12:54.667410Z",
     "start_time": "2019-11-09T02:12:54.062988Z"
    }
   },
   "outputs": [],
   "source": [
    "rpl22_mut = pd.Series(index=sorted(set(tcga_muts.index)))\n",
    "\n",
    "damaging_effects = [\"Frame_Shift_Del\",\n",
    "                    \"Frame_Shift_Ins\",\n",
    "                    \"Nonsense_Mutation\",\n",
    "                    \"Nonstop_Mutation\",\n",
    "                    \"Splice_Site\",\n",
    "                    \"Translation_Start_Site\",\n",
    "                    \"large deletion\"\n",
    "                    ]\n",
    "\n",
    "truncated = tcga_muts[(tcga_muts[\"gene\"] == \"RPL22\")]\n",
    "truncated = truncated[truncated[\"effect\"].isin(damaging_effects)].index\n",
    "truncated = set(truncated)\n",
    "\n",
    "rpl22_mut = pd.Series(rpl22_mut.index.map(\n",
    "    lambda x: x in truncated), index=rpl22_mut.index)\n",
    "rpl22_mut.name = \"RPL22_trunc\""
   ]
  },
  {
   "cell_type": "code",
   "execution_count": 236,
   "metadata": {
    "ExecuteTime": {
     "end_time": "2019-11-09T02:12:55.147222Z",
     "start_time": "2019-11-09T02:12:55.094596Z"
    }
   },
   "outputs": [],
   "source": [
    "rpl22_info = pd.concat([rpl22_mut,\n",
    "                        tcga_cn[\"RPL22\"].rename(\"RPL22_cn\")],\n",
    "                       axis=1,\n",
    "                       sort=True,\n",
    "                       join=\"inner\"\n",
    "                      )"
   ]
  },
  {
   "cell_type": "markdown",
   "metadata": {},
   "source": [
    "# Boxplots"
   ]
  },
  {
   "cell_type": "code",
   "execution_count": 237,
   "metadata": {
    "ExecuteTime": {
     "end_time": "2019-11-09T02:12:55.895812Z",
     "start_time": "2019-11-09T02:12:55.709751Z"
    }
   },
   "outputs": [],
   "source": [
    "def rpl22_status(row):\n",
    "    if row[\"RPL22_trunc\"]:\n",
    "        return \"Truncating\\nmutation\"\n",
    "    \n",
    "    else:\n",
    "        return \"ΔCN = \" + str(int(row[\"RPL22_cn\"]))\n",
    "\n",
    "rpl22_info[\"RPL22_status\"] = rpl22_info.apply(rpl22_status, axis=1)\n",
    "\n",
    "rpl22_order = [\"Truncating\\nmutation\",\n",
    "               \"ΔCN = -2\", \n",
    "               \"ΔCN = -1\", \n",
    "               \"ΔCN = 0\",\n",
    "               \"ΔCN = 1\",\n",
    "               \"ΔCN = 2\"\n",
    "              ]\n",
    "\n",
    "mut_hue = \"#e23e57\"\n",
    "wt_hue = \"#eaeaea\"\n",
    "\n",
    "rpl22_hues = dict(zip(rpl22_order, [mut_hue]+[wt_hue]*5))"
   ]
  },
  {
   "cell_type": "code",
   "execution_count": 244,
   "metadata": {
    "ExecuteTime": {
     "end_time": "2019-11-09T02:13:16.879059Z",
     "start_time": "2019-11-09T02:13:16.869577Z"
    }
   },
   "outputs": [],
   "source": [
    "def plot_rpl22(y, ylabel=\"y\"):\n",
    "\n",
    "    plt.figure(figsize=(5,3))\n",
    "\n",
    "    ax = plt.subplot(111)\n",
    "    \n",
    "    rpl22_info_join = rpl22_info.join(y.dropna(),how=\"inner\")\n",
    "    \n",
    "    rpl22_counts = rpl22_info_join[\"RPL22_status\"].value_counts()\n",
    "    \n",
    "    grouped_y = rpl22_info_join.groupby(\"RPL22_status\")[y.name].apply(list)\n",
    "    grouped_y = list(grouped_y)\n",
    "    \n",
    "    pval = kruskal(*grouped_y)[1]\n",
    "\n",
    "    sns.boxplot(\n",
    "        rpl22_info[\"RPL22_status\"],\n",
    "        y,\n",
    "        notch=True,\n",
    "        order = rpl22_order,\n",
    "        bootstrap = 1000,\n",
    "        palette = rpl22_hues,\n",
    "        flierprops = dict(marker='o', markersize=2, alpha=0.5)\n",
    "    )\n",
    "\n",
    "    plt.xlabel(\"RPL22 status\")\n",
    "    plt.ylabel(ylabel)\n",
    "    \n",
    "    if pval == 0:\n",
    "        plt.text(0.05,1.025,\n",
    "                 \"p < \" + huy.as_si(10**(-320), 2),\n",
    "                 transform=ax.transAxes\n",
    "                )\n",
    "    \n",
    "    else:\n",
    "        plt.text(0.05,1.025,\n",
    "                 \"p = \" + huy.as_si(pval, 2),\n",
    "                 transform=ax.transAxes\n",
    "                )\n",
    "\n",
    "    xticks = [x + \"\\n (\"+str(int(rpl22_counts.loc[x]))+\")\" for x in rpl22_order]\n",
    "\n",
    "    ax.set_xticklabels(xticks)\n",
    "\n",
    "    ax.spines[\"top\"].set_visible(False)\n",
    "    ax.spines[\"right\"].set_visible(False)\n",
    "    \n",
    "    ax.spines['left'].set_position(('axes', -0.025))\n",
    "    ax.spines['bottom'].set_position(('axes', -0.025))"
   ]
  },
  {
   "cell_type": "code",
   "execution_count": 245,
   "metadata": {
    "ExecuteTime": {
     "end_time": "2019-11-09T02:13:18.592499Z",
     "start_time": "2019-11-09T02:13:18.045221Z"
    }
   },
   "outputs": [
    {
     "data": {
      "image/png": "[encoded data removed]",
      "text/plain": [
       "<Figure size 360x216 with 1 Axes>"
      ]
     },
     "metadata": {
      "needs_background": "light"
     },
     "output_type": "display_data"
    }
   ],
   "source": [
    "plot_rpl22(tcga_genex[\"MDM2_ENSG00000135679_ENSG00000135679.21\"],\n",
    "           \"MDM2 mRNA expression\"\n",
    "          )"
   ]
  },
  {
   "cell_type": "code",
   "execution_count": 246,
   "metadata": {
    "ExecuteTime": {
     "end_time": "2019-11-09T02:13:20.598393Z",
     "start_time": "2019-11-09T02:13:20.046356Z"
    }
   },
   "outputs": [
    {
     "data": {
      "image/png": "[encoded data removed]",
      "text/plain": [
       "<Figure size 360x216 with 1 Axes>"
      ]
     },
     "metadata": {
      "needs_background": "light"
     },
     "output_type": "display_data"
    }
   ],
   "source": [
    "plot_rpl22(tcga_genex[\"MDM4_ENSG00000198625_ENSG00000198625.12\"],\n",
    "           \"MDM4 mRNA expression\"\n",
    "          )"
   ]
  },
  {
   "cell_type": "code",
   "execution_count": 247,
   "metadata": {
    "ExecuteTime": {
     "end_time": "2019-11-09T02:13:22.049589Z",
     "start_time": "2019-11-09T02:13:21.429507Z"
    }
   },
   "outputs": [
    {
     "data": {
      "image/png": "[encoded data removed]",
      "text/plain": [
       "<Figure size 360x216 with 1 Axes>"
      ]
     },
     "metadata": {
      "needs_background": "light"
     },
     "output_type": "display_data"
    }
   ],
   "source": [
    "plot_rpl22(tcga_genex[\"RPL22L1_ENSG00000163584_ENSG00000163584.17\"],\n",
    "           \"RPL22L1 mRNA expression\"\n",
    "          )"
   ]
  },
  {
   "cell_type": "code",
   "execution_count": 248,
   "metadata": {
    "ExecuteTime": {
     "end_time": "2019-11-09T02:13:24.278821Z",
     "start_time": "2019-11-09T02:13:23.404070Z"
    }
   },
   "outputs": [
    {
     "data": {
      "image/png": "[encoded data removed]",
      "text/plain": [
       "<Figure size 360x216 with 1 Axes>"
      ]
     },
     "metadata": {
      "needs_background": "light"
     },
     "output_type": "display_data"
    }
   ],
   "source": [
    "plot_rpl22(1-tcga_a3ss[\"RPL22L1_ENSG00000163584_ENSG00000163584.13_A3_3_170586086:170586168:170585801:170585923:170585801:170585990_170585923:170585990\"],\n",
    "          \"RPL22L1 exon 3A inclusion\"\n",
    "          )\n",
    "\n",
    "plt.savefig(\"../plots/rpl22l1-exon-3a_rpl22_tcga.pdf\",bbox_inches=\"tight\",background=\"transparent\")"
   ]
  },
  {
   "cell_type": "code",
   "execution_count": 257,
   "metadata": {
    "ExecuteTime": {
     "end_time": "2019-11-09T02:14:39.829346Z",
     "start_time": "2019-11-09T02:14:39.147021Z"
    }
   },
   "outputs": [
    {
     "data": {
      "image/png": "[encoded data removed]",
      "text/plain": [
       "<Figure size 360x216 with 1 Axes>"
      ]
     },
     "metadata": {
      "needs_background": "light"
     },
     "output_type": "display_data"
    }
   ],
   "source": [
    "plot_rpl22(tcga_se[\"MDM4_ENSG00000198625_ENSG00000198625.8_ES_1_204501318:204501374:204506557:204506625:204507336:204507436_204506557:204506625\"],\n",
    "          \"MDM4 exon 6 inclusion\",\n",
    "          )\n",
    "\n",
    "plt.savefig(\"../plots/mdm4-exon-6_rpl22_tcga.pdf\",bbox_inches=\"tight\",background=\"transparent\")"
   ]
  },
  {
   "cell_type": "markdown",
   "metadata": {},
   "source": [
    "# RPL22 alterations by primary site"
   ]
  },
  {
   "cell_type": "code",
   "execution_count": 261,
   "metadata": {
    "ExecuteTime": {
     "end_time": "2019-11-09T02:56:23.451270Z",
     "start_time": "2019-11-09T02:56:23.418651Z"
    }
   },
   "outputs": [],
   "source": [
    "tcga_map = {\n",
    "    'acute myeloid leukemia': \"LAML\",\n",
    "    'adrenocortical cancer': \"ACC\",\n",
    "    'bladder urothelial carcinoma': \"BLCA\",\n",
    "    'brain lower grade glioma': \"LGG\",\n",
    "    'breast invasive carcinoma': \"BRCA\",\n",
    "    'cervical & endocervical cancer': \"CESC\",\n",
    "    'cholangiocarcinoma': \"CHOL\",\n",
    "    'colon adenocarcinoma': \"COAD\",\n",
    "    'diffuse large B-cell lymphoma': \"DLBC\",\n",
    "    'esophageal carcinoma': \"ESCA\",\n",
    "    'glioblastoma multiforme': \"GBM\",\n",
    "    'head & neck squamous cell carcinoma': \"HNSC\",\n",
    "    'kidney chromophobe': \"KICH\",\n",
    "    'kidney clear cell carcinoma': \"KIRC\",\n",
    "    'kidney papillary cell carcinoma': \"KIRP\",\n",
    "    'liver hepatocellular carcinoma': \"LIHC\",\n",
    "    'lung adenocarcinoma': \"LUAD\",\n",
    "    'lung squamous cell carcinoma': \"LUSC\",\n",
    "    'mesothelioma': \"MESO\",\n",
    "    'ovarian serous cystadenocarcinoma': \"OV\",\n",
    "    'pancreatic adenocarcinoma': \"PAAD\",\n",
    "    'pheochromocytoma & paraganglioma': \"PCPG\",\n",
    "    'prostate adenocarcinoma': \"PRAD\",\n",
    "    'rectum adenocarcinoma': \"READ\",\n",
    "    'sarcoma': \"SARC\",\n",
    "    'skin cutaneous melanoma': \"SKCM\",\n",
    "    'stomach adenocarcinoma': \"STAD\",\n",
    "    'testicular germ cell tumor': \"TGCT\",\n",
    "    'thymoma': \"THYM\",\n",
    "    'thyroid carcinoma': \"THCA\",\n",
    "    'uterine carcinosarcoma': \"UCS\",\n",
    "    'uterine corpus endometrioid carcinoma': \"UCEC\",\n",
    "    'uveal melanoma': \"UVM\"\n",
    "}\n",
    "\n",
    "tcga_sample_info[\"abbreviated_disease\"] = tcga_sample_info[\"_primary_disease\"].apply(lambda x: tcga_map[x])"
   ]
  },
  {
   "cell_type": "code",
   "execution_count": 266,
   "metadata": {
    "ExecuteTime": {
     "end_time": "2019-11-09T02:57:34.331262Z",
     "start_time": "2019-11-09T02:57:34.291209Z"
    }
   },
   "outputs": [],
   "source": [
    "rpl22_subtype_info = rpl22_info.join(tcga_sample_info[\"abbreviated_disease\"],how=\"inner\")"
   ]
  },
  {
   "cell_type": "code",
   "execution_count": 274,
   "metadata": {
    "ExecuteTime": {
     "end_time": "2019-11-09T03:02:53.257589Z",
     "start_time": "2019-11-09T03:02:53.247986Z"
    }
   },
   "outputs": [
    {
     "data": {
      "text/html": [
       "<div>\n",
       "<style scoped>\n",
       "    .dataframe tbody tr th:only-of-type {\n",
       "        vertical-align: middle;\n",
       "    }\n",
       "\n",
       "    .dataframe tbody tr th {\n",
       "        vertical-align: top;\n",
       "    }\n",
       "\n",
       "    .dataframe thead th {\n",
       "        text-align: right;\n",
       "    }\n",
       "</style>\n",
       "<table border=\"1\" class=\"dataframe\">\n",
       "  <thead>\n",
       "    <tr style=\"text-align: right;\">\n",
       "      <th></th>\n",
       "      <th>RPL22_trunc</th>\n",
       "      <th>RPL22_cn</th>\n",
       "      <th>RPL22_status</th>\n",
       "      <th>abbreviated_disease</th>\n",
       "      <th>CN_-2</th>\n",
       "      <th>CN_-1</th>\n",
       "    </tr>\n",
       "  </thead>\n",
       "  <tbody>\n",
       "    <tr>\n",
       "      <th>TCGA-02-0003-01</th>\n",
       "      <td>False</td>\n",
       "      <td>0.0</td>\n",
       "      <td>ΔCN = 0</td>\n",
       "      <td>GBM</td>\n",
       "      <td>False</td>\n",
       "      <td>False</td>\n",
       "    </tr>\n",
       "    <tr>\n",
       "      <th>TCGA-02-0033-01</th>\n",
       "      <td>False</td>\n",
       "      <td>0.0</td>\n",
       "      <td>ΔCN = 0</td>\n",
       "      <td>GBM</td>\n",
       "      <td>False</td>\n",
       "      <td>False</td>\n",
       "    </tr>\n",
       "    <tr>\n",
       "      <th>TCGA-02-0047-01</th>\n",
       "      <td>False</td>\n",
       "      <td>-1.0</td>\n",
       "      <td>ΔCN = -1</td>\n",
       "      <td>GBM</td>\n",
       "      <td>False</td>\n",
       "      <td>True</td>\n",
       "    </tr>\n",
       "    <tr>\n",
       "      <th>TCGA-02-0055-01</th>\n",
       "      <td>False</td>\n",
       "      <td>1.0</td>\n",
       "      <td>ΔCN = 1</td>\n",
       "      <td>GBM</td>\n",
       "      <td>False</td>\n",
       "      <td>False</td>\n",
       "    </tr>\n",
       "    <tr>\n",
       "      <th>TCGA-02-2470-01</th>\n",
       "      <td>False</td>\n",
       "      <td>0.0</td>\n",
       "      <td>ΔCN = 0</td>\n",
       "      <td>GBM</td>\n",
       "      <td>False</td>\n",
       "      <td>False</td>\n",
       "    </tr>\n",
       "  </tbody>\n",
       "</table>\n",
       "</div>"
      ],
      "text/plain": [
       "                RPL22_trunc  RPL22_cn RPL22_status abbreviated_disease  CN_-2  \\\n",
       "TCGA-02-0003-01       False       0.0      ΔCN = 0                 GBM  False   \n",
       "TCGA-02-0033-01       False       0.0      ΔCN = 0                 GBM  False   \n",
       "TCGA-02-0047-01       False      -1.0     ΔCN = -1                 GBM  False   \n",
       "TCGA-02-0055-01       False       1.0      ΔCN = 1                 GBM  False   \n",
       "TCGA-02-2470-01       False       0.0      ΔCN = 0                 GBM  False   \n",
       "\n",
       "                 CN_-1  \n",
       "TCGA-02-0003-01  False  \n",
       "TCGA-02-0033-01  False  \n",
       "TCGA-02-0047-01   True  \n",
       "TCGA-02-0055-01  False  \n",
       "TCGA-02-2470-01  False  "
      ]
     },
     "execution_count": 274,
     "metadata": {},
     "output_type": "execute_result"
    }
   ],
   "source": [
    "rpl22_subtype_info.head()"
   ]
  },
  {
   "cell_type": "code",
   "execution_count": 268,
   "metadata": {
    "ExecuteTime": {
     "end_time": "2019-11-09T03:00:18.569507Z",
     "start_time": "2019-11-09T03:00:18.564596Z"
    }
   },
   "outputs": [],
   "source": [
    "rpl22_subtype_info[\"CN_-2\"] = rpl22_subtype_info[\"RPL22_cn\"] == -2\n",
    "rpl22_subtype_info[\"CN_-1\"] = rpl22_subtype_info[\"RPL22_cn\"] == -1"
   ]
  },
  {
   "cell_type": "code",
   "execution_count": 341,
   "metadata": {
    "ExecuteTime": {
     "end_time": "2019-11-09T03:23:22.977282Z",
     "start_time": "2019-11-09T03:23:22.960299Z"
    }
   },
   "outputs": [],
   "source": [
    "subtype_proportions = rpl22_subtype_info.groupby([\"abbreviated_disease\"])[\n",
    "    \"RPL22_status\"].value_counts()\n",
    "subtype_proportions = subtype_proportions.unstack().fillna(0)\n",
    "\n",
    "subtype_totals = subtype_proportions.sum(axis=1)\n",
    "\n",
    "subtype_proportions = subtype_proportions.div(subtype_totals, axis=0)*100\n",
    "subtype_proportions[\"total\"] = subtype_totals.astype(int)\n",
    "\n",
    "altered_classes = [\n",
    "    \"ΔCN = -1\",\n",
    "    \"ΔCN = -2\",\n",
    "    \"Truncating\\nmutation\",\n",
    "]\n",
    "\n",
    "subtype_proportions[\"altered_proportion\"] = subtype_proportions[altered_classes].sum(\n",
    "    axis=1)\n",
    "subtype_proportions = subtype_proportions.sort_values(\n",
    "    by=\"altered_proportion\", ascending=False)"
   ]
  },
  {
   "cell_type": "code",
   "execution_count": 343,
   "metadata": {
    "ExecuteTime": {
     "end_time": "2019-11-09T03:24:27.270252Z",
     "start_time": "2019-11-09T03:24:27.265910Z"
    }
   },
   "outputs": [],
   "source": [
    "subtype_proportions[\"display_disease\"] = subtype_proportions.index\n",
    "subtype_proportions[\"display_disease\"] = subtype_proportions[\"display_disease\"] + \" (\"+ subtype_proportions[\"total\"].astype(str) + \")\"\n"
   ]
  },
  {
   "cell_type": "code",
   "execution_count": 364,
   "metadata": {
    "ExecuteTime": {
     "end_time": "2019-11-09T03:30:15.132359Z",
     "start_time": "2019-11-09T03:30:14.057229Z"
    }
   },
   "outputs": [
    {
     "data": {
      "image/png": "[encoded data removed]",
      "text/plain": [
       "<Figure size 648x288 with 1 Axes>"
      ]
     },
     "metadata": {
      "needs_background": "light"
     },
     "output_type": "display_data"
    }
   ],
   "source": [
    "plt.figure(figsize=(9,4))\n",
    "\n",
    "ax = plt.subplot(111)\n",
    "\n",
    "subtype_proportions.plot(x = \"display_disease\",\n",
    "                         y=altered_classes,\n",
    "                         kind=\"bar\",\n",
    "                         stacked=True,\n",
    "                         cmap=mpl.colors.ListedColormap(\n",
    "                             [\"#ebd5d5\", \"#fab57a\", \"#b83b5e\"]),\n",
    "                         ax = ax,\n",
    "                         width=0.75\n",
    "                         )\n",
    "\n",
    "plt.xlabel(\"Subtype disease\")\n",
    "\n",
    "ax.spines[\"top\"].set_visible(False)\n",
    "ax.spines[\"right\"].set_visible(False)\n",
    "\n",
    "plt.xticks(rotation=45,ha=\"right\")\n",
    "\n",
    "plt.ylabel(\"% affected\")\n",
    "\n",
    "plt.savefig(\"../plots/rpl22_subtype_distribution.pdf\",bbox_inches=\"tight\",background=\"transparent\")"
   ]
  }
 ],
 "metadata": {
  "kernelspec": {
   "display_name": "Python 3",
   "language": "python",
   "name": "python3"
  },
  "language_info": {
   "codemirror_mode": {
    "name": "ipython",
    "version": 3
   },
   "file_extension": ".py",
   "mimetype": "text/x-python",
   "name": "python",
   "nbconvert_exporter": "python",
   "pygments_lexer": "ipython3",
   "version": "3.7.4"
  },
  "toc": {
   "base_numbering": 1,
   "nav_menu": {},
   "number_sections": true,
   "sideBar": true,
   "skip_h1_title": false,
   "title_cell": "Table of Contents",
   "title_sidebar": "Contents",
   "toc_cell": false,
   "toc_position": {},
   "toc_section_display": true,
   "toc_window_display": false
  }
 },
 "nbformat": 4,
 "nbformat_minor": 2
}
