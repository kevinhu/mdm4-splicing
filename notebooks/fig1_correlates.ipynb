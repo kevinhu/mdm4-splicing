{
 "cells": [
  {
   "cell_type": "code",
   "execution_count": 2,
   "metadata": {
    "ExecuteTime": {
     "end_time": "2019-11-08T22:44:12.328583Z",
     "start_time": "2019-11-08T22:44:10.823513Z"
    }
   },
   "outputs": [],
   "source": [
    "import numpy as np\n",
    "import pandas as pd\n",
    "\n",
    "import matplotlib.pyplot as plt\n",
    "import seaborn as sns\n",
    "\n",
    "import sys\n",
    "import os\n",
    "\n",
    "sys.path.append(os.path.relpath(\"../../huygens\"))\n",
    "sys.path.append(os.path.relpath(\"../../galileo\"))\n",
    "\n",
    "import galileo as gal\n",
    "import huygens as huy"
   ]
  },
  {
   "cell_type": "markdown",
   "metadata": {},
   "source": [
    "# Transcripts to genes"
   ]
  },
  {
   "cell_type": "code",
   "execution_count": 3,
   "metadata": {
    "ExecuteTime": {
     "end_time": "2019-11-08T22:44:12.744911Z",
     "start_time": "2019-11-08T22:44:12.331342Z"
    }
   },
   "outputs": [],
   "source": [
    "t2g = pd.read_csv(\"../data/intermediate/sleuth_diff/ensembl_t2g.csv\")\n",
    "t2g[\"format_gene_id\"] = t2g[\"hgnc_gene\"].fillna(\"\") + \"_\" + t2g[\"ens_gene\"]\n",
    "\n",
    "format_gene_map = dict(zip(t2g[\"ens_gene\"],t2g[\"format_gene_id\"]))"
   ]
  },
  {
   "cell_type": "markdown",
   "metadata": {},
   "source": [
    "# Proprocess TCGA"
   ]
  },
  {
   "cell_type": "code",
   "execution_count": 4,
   "metadata": {
    "ExecuteTime": {
     "end_time": "2019-11-08T22:44:23.962356Z",
     "start_time": "2019-11-08T22:44:13.169670Z"
    }
   },
   "outputs": [],
   "source": [
    "tcga_a3ss = pd.read_hdf(\"../data/processed/tcga/tcga_a3ss.hdf\",key=\"tcga_a3ss\")\n",
    "tcga_se = pd.read_hdf(\"../data/processed/tcga/tcga_se.hdf\",key=\"tcga_se\")\n",
    "tcga_genex = pd.read_hdf(\"../data/processed/tcga/tcga_genex.hdf\",key=\"tcga_genex\")\n",
    "tcga_cn = pd.read_hdf(\"../data/processed/tcga/tcga_cn.hdf\",key=\"tcga_cn\")\n",
    "tcga_muts = pd.read_hdf(\"../data/processed/tcga/tcga_muts.hdf\",key=\"tcga_muts\")"
   ]
  },
  {
   "cell_type": "code",
   "execution_count": 5,
   "metadata": {
    "ExecuteTime": {
     "end_time": "2019-11-08T22:44:24.945048Z",
     "start_time": "2019-11-08T22:44:23.964567Z"
    }
   },
   "outputs": [],
   "source": [
    "tcga_a3ss.index = tcga_a3ss.index.map(lambda x: x[:15])\n",
    "tcga_se.index = tcga_se.index.map(lambda x: x[:15])\n",
    "\n",
    "tcga_a3ss = tcga_a3ss[~tcga_a3ss.index.duplicated(keep=\"first\")]\n",
    "tcga_se = tcga_se[~tcga_se.index.duplicated(keep=\"first\")]\n",
    "\n",
    "tcga_genex.columns = [format_gene_map.get(x.split(\".\")[0],\"unnamed\")+\"_\"+x for x in tcga_genex.columns]\n",
    "tcga_a3ss.columns = [format_gene_map.get(x.split(\".\")[0],\"unnamed\")+\"_\"+x for x in tcga_a3ss.columns]\n",
    "tcga_se.columns = [format_gene_map.get(x.split(\".\")[0],\"unnamed\")+\"_\"+x for x in tcga_se.columns]"
   ]
  },
  {
   "cell_type": "markdown",
   "metadata": {},
   "source": [
    "## RPL22 mutants"
   ]
  },
  {
   "cell_type": "code",
   "execution_count": 22,
   "metadata": {
    "ExecuteTime": {
     "end_time": "2019-11-08T22:51:29.941349Z",
     "start_time": "2019-11-08T22:51:29.442685Z"
    }
   },
   "outputs": [],
   "source": [
    "rpl22_mut = pd.Series(index = sorted(set(tcga_muts.index)))\n",
    "\n",
    "damaging_effects = [\"Frame_Shift_Del\",\n",
    "                    \"Frame_Shift_Ins\",\n",
    "                    \"Nonsense_Mutation\",\n",
    "                    \"Nonstop_Mutation\",\n",
    "                    \"Splice_Site\",\n",
    "                    \"Translation_Start_Site\",\n",
    "                    \"large deletion\"\n",
    "                    ]\n",
    "\n",
    "truncated = tcga_muts[(tcga_muts[\"gene\"] == \"RPL22\")]\n",
    "truncated = truncated[truncated[\"effect\"].isin(damaging_effects)].index\n",
    "truncated = set(truncated)\n",
    "\n",
    "rpl22_mut = pd.Series(rpl22_mut.index.map(lambda x: x in truncated), index=rpl22_mut.index)\n",
    "rpl22_mut.name = \"RPL22_trunc\""
   ]
  },
  {
   "cell_type": "code",
   "execution_count": 24,
   "metadata": {
    "ExecuteTime": {
     "end_time": "2019-11-08T22:51:53.451430Z",
     "start_time": "2019-11-08T22:51:53.434019Z"
    }
   },
   "outputs": [],
   "source": [
    "rpl22_info = pd.concat([rpl22_mut,\n",
    "                        tcga_cn[\"RPL22\"].rename(\"RPL22_cn\")],\n",
    "                       axis=1,\n",
    "                       sort=True,\n",
    "                       join=\"inner\"\n",
    "                      )"
   ]
  },
  {
   "cell_type": "code",
   "execution_count": 84,
   "metadata": {
    "ExecuteTime": {
     "end_time": "2019-11-08T23:14:08.356020Z",
     "start_time": "2019-11-08T23:14:08.176660Z"
    }
   },
   "outputs": [],
   "source": [
    "def rpl22_status(row):\n",
    "    if row[\"RPL22_trunc\"]:\n",
    "        return \"Truncating\\nmutation\"\n",
    "    \n",
    "    else:\n",
    "        return \"CN = \" + str(int(row[\"RPL22_cn\"]))\n",
    "\n",
    "rpl22_info[\"RPL22_status\"] = rpl22_info.apply(rpl22_status, axis=1)\n",
    "\n",
    "rpl22_order = [\"Truncating\\nmutation\",\"CN = -2\", \"CN = -1\", \"CN = 0\", \"CN = 1\", \"CN = 2\"]\n",
    "\n",
    "mut_hue = \"#e23e57\"\n",
    "wt_hue = \"#eaeaea\"\n",
    "\n",
    "rpl22_hues = {\n",
    "    \"Truncating\\nmutation\" : mut_hue,\n",
    "    \"CN = -2\" : wt_hue, \n",
    "    \"CN = -1\" : wt_hue, \n",
    "    \"CN = 0\" : wt_hue, \n",
    "    \"CN = 1\" : wt_hue, \n",
    "    \"CN = 2\" : wt_hue\n",
    "}"
   ]
  },
  {
   "cell_type": "code",
   "execution_count": 85,
   "metadata": {
    "ExecuteTime": {
     "end_time": "2019-11-08T23:14:08.477038Z",
     "start_time": "2019-11-08T23:14:08.470791Z"
    }
   },
   "outputs": [],
   "source": [
    "def plot_rpl22(y, ylabel=\"y\"):\n",
    "\n",
    "    plt.figure(figsize=(6,4))\n",
    "\n",
    "    ax = plt.subplot(111)\n",
    "    \n",
    "    rpl22_info_join = rpl22_info.join(y.dropna(),how=\"inner\")\n",
    "    \n",
    "    rpl22_counts = rpl22_info_join[\"RPL22_status\"].value_counts()\n",
    "\n",
    "    sns.boxplot(\n",
    "        rpl22_info[\"RPL22_status\"],\n",
    "        y,\n",
    "        notch=True,\n",
    "        order = rpl22_order,\n",
    "        bootstrap = 1000,\n",
    "        palette = rpl22_hues\n",
    "    )\n",
    "\n",
    "    plt.xlabel(\"RPL22 status\")\n",
    "    plt.ylabel(ylabel)\n",
    "\n",
    "    xticks = [x + \"\\n (\"+str(int(rpl22_counts.loc[x]))+\")\" for x in rpl22_order]\n",
    "\n",
    "    ax.set_xticklabels(xticks)\n",
    "\n",
    "    ax.spines[\"top\"].set_visible(False)\n",
    "    ax.spines[\"right\"].set_visible(False)"
   ]
  },
  {
   "cell_type": "code",
   "execution_count": 86,
   "metadata": {
    "ExecuteTime": {
     "end_time": "2019-11-08T23:14:09.315593Z",
     "start_time": "2019-11-08T23:14:08.823939Z"
    }
   },
   "outputs": [
    {
     "data": {
      "image/png": "[encoded data removed]",
      "text/plain": [
       "<Figure size 432x288 with 1 Axes>"
      ]
     },
     "metadata": {
      "needs_background": "light"
     },
     "output_type": "display_data"
    }
   ],
   "source": [
    "plot_rpl22(tcga_genex[\"RPL22L1_ENSG00000163584_ENSG00000163584.17\"],\n",
    "           \"RPL22L1 mRNA expression\"\n",
    "          )"
   ]
  },
  {
   "cell_type": "code",
   "execution_count": 87,
   "metadata": {
    "ExecuteTime": {
     "end_time": "2019-11-08T23:14:10.168422Z",
     "start_time": "2019-11-08T23:14:09.680355Z"
    }
   },
   "outputs": [
    {
     "data": {
      "image/png": "[encoded data removed]",
      "text/plain": [
       "<Figure size 432x288 with 1 Axes>"
      ]
     },
     "metadata": {
      "needs_background": "light"
     },
     "output_type": "display_data"
    }
   ],
   "source": [
    "plot_rpl22(tcga_a3ss[\"RPL22L1_ENSG00000163584_ENSG00000163584.13_A3_3_170586086:170586168:170585801:170585923:170585801:170585990_170585923:170585990\"],\n",
    "          \"RPL22L1 exon 3A inclusion\"\n",
    "          )"
   ]
  },
  {
   "cell_type": "code",
   "execution_count": 88,
   "metadata": {
    "ExecuteTime": {
     "end_time": "2019-11-08T23:14:10.947208Z",
     "start_time": "2019-11-08T23:14:10.662993Z"
    }
   },
   "outputs": [
    {
     "data": {
      "image/png": "[encoded data removed]",
      "text/plain": [
       "<Figure size 432x288 with 1 Axes>"
      ]
     },
     "metadata": {
      "needs_background": "light"
     },
     "output_type": "display_data"
    }
   ],
   "source": [
    "plot_rpl22(tcga_se[\"MDM4_ENSG00000198625_ENSG00000198625.8_ES_1_204501318:204501374:204506557:204506625:204507336:204507436_204506557:204506625\"],\n",
    "          \"MDM4 exon 6 inclusion\",\n",
    "          )"
   ]
  }
 ],
 "metadata": {
  "kernelspec": {
   "display_name": "Python 3",
   "language": "python",
   "name": "python3"
  },
  "language_info": {
   "codemirror_mode": {
    "name": "ipython",
    "version": 3
   },
   "file_extension": ".py",
   "mimetype": "text/x-python",
   "name": "python",
   "nbconvert_exporter": "python",
   "pygments_lexer": "ipython3",
   "version": "3.7.4"
  },
  "toc": {
   "base_numbering": 1,
   "nav_menu": {},
   "number_sections": true,
   "sideBar": true,
   "skip_h1_title": false,
   "title_cell": "Table of Contents",
   "title_sidebar": "Contents",
   "toc_cell": false,
   "toc_position": {},
   "toc_section_display": true,
   "toc_window_display": false
  }
 },
 "nbformat": 4,
 "nbformat_minor": 2
}
