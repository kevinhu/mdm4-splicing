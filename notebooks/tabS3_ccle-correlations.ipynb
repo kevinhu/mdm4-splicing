{
 "cells": [
  {
   "cell_type": "code",
   "execution_count": 1,
   "metadata": {
    "ExecuteTime": {
     "end_time": "2022-02-26T19:09:33.892143Z",
     "start_time": "2022-02-26T19:09:32.920455Z"
    }
   },
   "outputs": [],
   "source": [
    "import numpy as np\n",
    "import pandas as pd\n",
    "\n",
    "import matplotlib.pyplot as plt\n",
    "import matplotlib as mpl\n",
    "import seaborn as sns\n",
    "\n",
    "import cancer_data\n",
    "import many\n",
    "\n",
    "import config\n",
    "config.config_visuals()\n",
    "\n",
    "import stackprinter\n",
    "stackprinter.set_excepthook(style='lightbg')"
   ]
  },
  {
   "cell_type": "markdown",
   "metadata": {},
   "source": [
    "# Load data"
   ]
  },
  {
   "cell_type": "markdown",
   "metadata": {},
   "source": [
    "## Merged CCLE info"
   ]
  },
  {
   "cell_type": "code",
   "execution_count": 2,
   "metadata": {
    "ExecuteTime": {
     "end_time": "2022-02-26T19:09:33.901821Z",
     "start_time": "2022-02-26T19:09:33.893195Z"
    }
   },
   "outputs": [],
   "source": [
    "merged_ccle_info = pd.read_csv(\n",
    "    \"../data/supplementary/S1_merged-ccle-info.txt\", sep=\"\\t\", index_col=0\n",
    ")\n",
    "\n",
    "merged_ccle_info[\"MDM4_6_mean\"] = (\n",
    "    merged_ccle_info[\"MDM4_3p_chr1_204506558_204506625_ENSG00000198625.8_exonusage\"]\n",
    "    + merged_ccle_info[\"MDM4_5p_chr1_204506558_204506625_ENSG00000198625.8_exonusage\"]\n",
    ")/2\n",
    "\n",
    "# subset\n",
    "rpl22_cn_normal = np.abs(1 - merged_ccle_info[\"RPL22_copynumber\"]) < 0.125\n",
    "rpl22_mut_wt = merged_ccle_info[\"RPL22_mutation_classification_collapsed\"] == \"WT\"\n",
    "\n",
    "rpl22_wt_subset = merged_ccle_info[rpl22_cn_normal & rpl22_mut_wt]"
   ]
  },
  {
   "cell_type": "markdown",
   "metadata": {
    "ExecuteTime": {
     "end_time": "2020-12-18T18:42:10.875690Z",
     "start_time": "2020-12-18T18:42:10.844553Z"
    }
   },
   "source": [
    "## CCLE gene expression and splicing"
   ]
  },
  {
   "cell_type": "code",
   "execution_count": 3,
   "metadata": {
    "ExecuteTime": {
     "end_time": "2022-02-26T19:09:54.266468Z",
     "start_time": "2022-02-26T19:09:35.194291Z"
    }
   },
   "outputs": [],
   "source": [
    "ccle_genex = cancer_data.load(\"ccle_gene_tpm\")\n",
    "ccle_exonusage = cancer_data.load(\"ccle_exonusage\")"
   ]
  },
  {
   "cell_type": "markdown",
   "metadata": {
    "ExecuteTime": {
     "end_time": "2020-12-18T18:44:24.823375Z",
     "start_time": "2020-12-18T18:44:24.723837Z"
    }
   },
   "source": [
    "# Compute correlations"
   ]
  },
  {
   "cell_type": "markdown",
   "metadata": {},
   "source": [
    "## Splicing vs gene expression and splicing"
   ]
  },
  {
   "cell_type": "code",
   "execution_count": 5,
   "metadata": {
    "ExecuteTime": {
     "end_time": "2022-02-26T19:22:39.009816Z",
     "start_time": "2022-02-26T19:15:47.115147Z"
    }
   },
   "outputs": [
    {
     "data": {
      "application/vnd.jupyter.widget-view+json": {
       "model_id": "46deaa444d5c4a868e097d6ea03bb338",
       "version_major": 2,
       "version_minor": 0
      },
      "text/plain": [
       "  0%|          | 0/57820 [00:00<?, ?it/s]"
      ]
     },
     "metadata": {},
     "output_type": "display_data"
    },
    {
     "data": {
      "application/vnd.jupyter.widget-view+json": {
       "model_id": "906528e49ebc470d918d1117a9f4912d",
       "version_major": 2,
       "version_minor": 0
      },
      "text/plain": [
       "  0%|          | 0/310754 [00:00<?, ?it/s]"
      ]
     },
     "metadata": {},
     "output_type": "display_data"
    },
    {
     "data": {
      "application/vnd.jupyter.widget-view+json": {
       "model_id": "34525d4956a84388a161572d3fb8640b",
       "version_major": 2,
       "version_minor": 0
      },
      "text/plain": [
       "  0%|          | 0/57820 [00:00<?, ?it/s]"
      ]
     },
     "metadata": {},
     "output_type": "display_data"
    },
    {
     "data": {
      "application/vnd.jupyter.widget-view+json": {
       "model_id": "a252201e67f8465090d131ca0e620031",
       "version_major": 2,
       "version_minor": 0
      },
      "text/plain": [
       "  0%|          | 0/310754 [00:00<?, ?it/s]"
      ]
     },
     "metadata": {},
     "output_type": "display_data"
    }
   ],
   "source": [
    "compare_sets = [ccle_genex, ccle_exonusage]\n",
    "\n",
    "corr_kwargs = {\"melt\": True, \"method\": \"spearman\", \"pbar\": True}\n",
    "\n",
    "(rpl22l1_3a_genex_overall_corrs, rpl22l1_3a_exonusage_overall_corrs,) = [\n",
    "    many.stats.mat_corr_naive(\n",
    "        merged_ccle_info[\n",
    "            \"RPL22L1_5p_chr3_170585990_170585802_ENSG00000163584.13_exonusage\"\n",
    "        ],\n",
    "        df,\n",
    "        **corr_kwargs\n",
    "    )\n",
    "    for df in compare_sets\n",
    "]\n",
    "\n",
    "(mdm4_6_genex_overall_corrs, mdm4_6_exonusage_overall_corrs,) = [\n",
    "    many.stats.mat_corr_naive(merged_ccle_info[\"MDM4_6_mean\"], df, **corr_kwargs)\n",
    "    for df in compare_sets\n",
    "]"
   ]
  },
  {
   "cell_type": "code",
   "execution_count": 6,
   "metadata": {
    "ExecuteTime": {
     "end_time": "2022-02-26T19:22:51.213269Z",
     "start_time": "2022-02-26T19:22:49.765209Z"
    }
   },
   "outputs": [],
   "source": [
    "csv_kwargs = {\"sep\": \"\\t\"}\n",
    "\n",
    "outputs = [\n",
    "    [rpl22l1_3a_genex_overall_corrs, \"S3-a_rpl22l1-3a-genex-overall-corrs\"],\n",
    "    [rpl22l1_3a_exonusage_overall_corrs, \"S3-b_rpl22l1-3a-exonusage-overall-corrs\"],\n",
    "]\n",
    "\n",
    "for table, stem in outputs:\n",
    "\n",
    "    table.to_csv(f\"../data/supplementary/{stem}.txt\", **csv_kwargs)"
   ]
  }
 ],
 "metadata": {
  "kernelspec": {
   "display_name": "Python 3 (ipykernel)",
   "language": "python",
   "name": "python3"
  },
  "language_info": {
   "codemirror_mode": {
    "name": "ipython",
    "version": 3
   },
   "file_extension": ".py",
   "mimetype": "text/x-python",
   "name": "python",
   "nbconvert_exporter": "python",
   "pygments_lexer": "ipython3",
   "version": "3.9.9"
  },
  "toc": {
   "base_numbering": 1,
   "nav_menu": {},
   "number_sections": true,
   "sideBar": true,
   "skip_h1_title": false,
   "title_cell": "Table of Contents",
   "title_sidebar": "Contents",
   "toc_cell": false,
   "toc_position": {},
   "toc_section_display": true,
   "toc_window_display": false
  }
 },
 "nbformat": 4,
 "nbformat_minor": 4
}
