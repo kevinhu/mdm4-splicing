{
 "cells": [
  {
   "cell_type": "code",
   "execution_count": 1,
   "metadata": {
    "ExecuteTime": {
     "end_time": "2020-12-18T18:36:58.184422Z",
     "start_time": "2020-12-18T18:36:52.570640Z"
    }
   },
   "outputs": [],
   "source": [
    "import numpy as np\n",
    "import pandas as pd\n",
    "\n",
    "import matplotlib.pyplot as plt\n",
    "import matplotlib as mpl\n",
    "import seaborn as sns\n",
    "\n",
    "import cancer_data\n",
    "import many\n",
    "\n",
    "import config\n",
    "config.config_visuals()\n",
    "\n",
    "import stackprinter\n",
    "stackprinter.set_excepthook(style='lightbg')"
   ]
  },
  {
   "cell_type": "markdown",
   "metadata": {},
   "source": [
    "# Load data"
   ]
  },
  {
   "cell_type": "markdown",
   "metadata": {},
   "source": [
    "## Merged CCLE info"
   ]
  },
  {
   "cell_type": "code",
   "execution_count": 15,
   "metadata": {
    "ExecuteTime": {
     "end_time": "2020-12-18T18:48:17.480185Z",
     "start_time": "2020-12-18T18:48:17.458667Z"
    }
   },
   "outputs": [],
   "source": [
    "merged_ccle_info = pd.read_csv(\n",
    "    \"../data/supplementary/S1_merged-ccle-info.txt\", sep=\"\\t\", index_col=0\n",
    ")\n",
    "\n",
    "merged_ccle_info[\"MDM4_6_mean\"] = (\n",
    "    merged_ccle_info[\"MDM4_3p_chr1_204506558_204506625_ENSG00000198625.8_exonusage\"]\n",
    "    + merged_ccle_info[\"MDM4_5p_chr1_204506558_204506625_ENSG00000198625.8_exonusage\"]\n",
    ")/2\n",
    "\n",
    "# subset\n",
    "rpl22_cn_normal = np.abs(1 - merged_ccle_info[\"RPL22_copynumber\"]) < 0.125\n",
    "rpl22_mut_wt = merged_ccle_info[\"RPL22_mutation_classification_collapsed\"] == \"WT\"\n",
    "\n",
    "rpl22_wt_subset = merged_ccle_info[rpl22_cn_normal & rpl22_mut_wt]"
   ]
  },
  {
   "cell_type": "markdown",
   "metadata": {
    "ExecuteTime": {
     "end_time": "2020-12-18T18:42:10.875690Z",
     "start_time": "2020-12-18T18:42:10.844553Z"
    }
   },
   "source": [
    "## CCLE gene expression and splicing"
   ]
  },
  {
   "cell_type": "code",
   "execution_count": 10,
   "metadata": {
    "ExecuteTime": {
     "end_time": "2020-12-18T18:44:15.299200Z",
     "start_time": "2020-12-18T18:43:37.383842Z"
    }
   },
   "outputs": [],
   "source": [
    "ccle_genex = cancer_data.load(\"ccle_gene_tpm\")\n",
    "ccle_exonusage = cancer_data.load(\"ccle_exonusage\")"
   ]
  },
  {
   "cell_type": "markdown",
   "metadata": {
    "ExecuteTime": {
     "end_time": "2020-12-18T18:44:24.823375Z",
     "start_time": "2020-12-18T18:44:24.723837Z"
    }
   },
   "source": [
    "# Compute correlations"
   ]
  },
  {
   "cell_type": "markdown",
   "metadata": {},
   "source": [
    "## Splicing vs gene expression and splicing"
   ]
  },
  {
   "cell_type": "code",
   "execution_count": 16,
   "metadata": {
    "ExecuteTime": {
     "end_time": "2020-12-18T19:46:19.844237Z",
     "start_time": "2020-12-18T18:49:35.551947Z"
    }
   },
   "outputs": [
    {
     "data": {
      "application/vnd.jupyter.widget-view+json": {
       "model_id": "f43a6336e215499085f4e61be4035e7f",
       "version_major": 2,
       "version_minor": 0
      },
      "text/plain": [
       "HBox(children=(HTML(value=''), FloatProgress(value=0.0, max=57820.0), HTML(value='')))"
      ]
     },
     "metadata": {},
     "output_type": "display_data"
    },
    {
     "name": "stdout",
     "output_type": "stream",
     "text": [
      "\n"
     ]
    },
    {
     "data": {
      "application/vnd.jupyter.widget-view+json": {
       "model_id": "339d131d96174df59823e02c00d8ba9d",
       "version_major": 2,
       "version_minor": 0
      },
      "text/plain": [
       "HBox(children=(HTML(value=''), FloatProgress(value=0.0, max=310754.0), HTML(value='')))"
      ]
     },
     "metadata": {},
     "output_type": "display_data"
    },
    {
     "name": "stdout",
     "output_type": "stream",
     "text": [
      "\n"
     ]
    },
    {
     "data": {
      "application/vnd.jupyter.widget-view+json": {
       "model_id": "92e73227322943f08d1421ffb86e6075",
       "version_major": 2,
       "version_minor": 0
      },
      "text/plain": [
       "HBox(children=(HTML(value=''), FloatProgress(value=0.0, max=57820.0), HTML(value='')))"
      ]
     },
     "metadata": {},
     "output_type": "display_data"
    },
    {
     "name": "stdout",
     "output_type": "stream",
     "text": [
      "\n"
     ]
    },
    {
     "data": {
      "application/vnd.jupyter.widget-view+json": {
       "model_id": "81fe53ff28c94884b6252fa11454340b",
       "version_major": 2,
       "version_minor": 0
      },
      "text/plain": [
       "HBox(children=(HTML(value=''), FloatProgress(value=0.0, max=310754.0), HTML(value='')))"
      ]
     },
     "metadata": {},
     "output_type": "display_data"
    },
    {
     "name": "stdout",
     "output_type": "stream",
     "text": [
      "\n"
     ]
    },
    {
     "data": {
      "application/vnd.jupyter.widget-view+json": {
       "model_id": "39081a39678940c0bddc223244ab7383",
       "version_major": 2,
       "version_minor": 0
      },
      "text/plain": [
       "HBox(children=(HTML(value=''), FloatProgress(value=0.0, max=57820.0), HTML(value='')))"
      ]
     },
     "metadata": {},
     "output_type": "display_data"
    },
    {
     "name": "stdout",
     "output_type": "stream",
     "text": [
      "\n"
     ]
    },
    {
     "data": {
      "application/vnd.jupyter.widget-view+json": {
       "model_id": "7f24b30072314efcb92ba355b77515a9",
       "version_major": 2,
       "version_minor": 0
      },
      "text/plain": [
       "HBox(children=(HTML(value=''), FloatProgress(value=0.0, max=310754.0), HTML(value='')))"
      ]
     },
     "metadata": {},
     "output_type": "display_data"
    },
    {
     "name": "stdout",
     "output_type": "stream",
     "text": [
      "\n"
     ]
    },
    {
     "data": {
      "application/vnd.jupyter.widget-view+json": {
       "model_id": "dad89565fc014e67acb7027f1a5da45a",
       "version_major": 2,
       "version_minor": 0
      },
      "text/plain": [
       "HBox(children=(HTML(value=''), FloatProgress(value=0.0, max=57820.0), HTML(value='')))"
      ]
     },
     "metadata": {},
     "output_type": "display_data"
    },
    {
     "name": "stdout",
     "output_type": "stream",
     "text": [
      "\n"
     ]
    },
    {
     "data": {
      "application/vnd.jupyter.widget-view+json": {
       "model_id": "5f66ad2207ca4067b5878984ca7eac20",
       "version_major": 2,
       "version_minor": 0
      },
      "text/plain": [
       "HBox(children=(HTML(value=''), FloatProgress(value=0.0, max=310754.0), HTML(value='')))"
      ]
     },
     "metadata": {},
     "output_type": "display_data"
    },
    {
     "name": "stdout",
     "output_type": "stream",
     "text": [
      "\n"
     ]
    },
    {
     "data": {
      "application/vnd.jupyter.widget-view+json": {
       "model_id": "94bc885cdc6a4019bbe46a6a83417256",
       "version_major": 2,
       "version_minor": 0
      },
      "text/plain": [
       "HBox(children=(HTML(value=''), FloatProgress(value=0.0, max=57820.0), HTML(value='')))"
      ]
     },
     "metadata": {},
     "output_type": "display_data"
    },
    {
     "name": "stdout",
     "output_type": "stream",
     "text": [
      "\n"
     ]
    },
    {
     "data": {
      "application/vnd.jupyter.widget-view+json": {
       "model_id": "1240464fbbc146a6826c172d650de5b4",
       "version_major": 2,
       "version_minor": 0
      },
      "text/plain": [
       "HBox(children=(HTML(value=''), FloatProgress(value=0.0, max=310754.0), HTML(value='')))"
      ]
     },
     "metadata": {},
     "output_type": "display_data"
    },
    {
     "name": "stdout",
     "output_type": "stream",
     "text": [
      "\n"
     ]
    },
    {
     "data": {
      "application/vnd.jupyter.widget-view+json": {
       "model_id": "9e37767dae544dbd850313ae5d25f000",
       "version_major": 2,
       "version_minor": 0
      },
      "text/plain": [
       "HBox(children=(HTML(value=''), FloatProgress(value=0.0, max=57820.0), HTML(value='')))"
      ]
     },
     "metadata": {},
     "output_type": "display_data"
    },
    {
     "name": "stdout",
     "output_type": "stream",
     "text": [
      "\n"
     ]
    },
    {
     "data": {
      "application/vnd.jupyter.widget-view+json": {
       "model_id": "8d2dd3100f7b480a9675480f0be05648",
       "version_major": 2,
       "version_minor": 0
      },
      "text/plain": [
       "HBox(children=(HTML(value=''), FloatProgress(value=0.0, max=310754.0), HTML(value='')))"
      ]
     },
     "metadata": {},
     "output_type": "display_data"
    },
    {
     "name": "stdout",
     "output_type": "stream",
     "text": [
      "\n"
     ]
    }
   ],
   "source": [
    "compare_sets = [ccle_genex, ccle_exonusage]\n",
    "\n",
    "corr_kwargs = {\"melt\": True, \"method\": \"spearman\", \"pbar\": True}\n",
    "\n",
    "(rpl22l1_3a_genex_overall_corrs, rpl22l1_3a_exonusage_overall_corrs,) = [\n",
    "    many.stats.mat_corr_naive(\n",
    "        merged_ccle_info[\n",
    "            \"RPL22L1_5p_chr3_170585990_170585802_ENSG00000163584.13_exonusage\"\n",
    "        ],\n",
    "        df,\n",
    "        **corr_kwargs\n",
    "    )\n",
    "    for df in compare_sets\n",
    "]\n",
    "\n",
    "(rpl22l1_3a_genex_wt_corrs, rpl22l1_3a_exonusage_wt_corrs,) = [\n",
    "    many.stats.mat_corr_naive(\n",
    "        rpl22_wt_subset[\n",
    "            \"RPL22L1_5p_chr3_170585990_170585802_ENSG00000163584.13_exonusage\"\n",
    "        ],\n",
    "        df,\n",
    "        **corr_kwargs\n",
    "    )\n",
    "    for df in compare_sets\n",
    "]\n",
    "\n",
    "(mdm4_6_genex_overall_corrs, mdm4_6_exonusage_overall_corrs,) = [\n",
    "    many.stats.mat_corr_naive(merged_ccle_info[\"MDM4_6_mean\"], df, **corr_kwargs)\n",
    "    for df in compare_sets\n",
    "]\n",
    "\n",
    "(mdm4_6_genex_wt_corrs, mdm4_6_exonusage_wt_corrs,) = [\n",
    "    many.stats.mat_corr_naive(rpl22_wt_subset[\"MDM4_6_mean\"], df, **corr_kwargs)\n",
    "    for df in compare_sets\n",
    "]\n",
    "\n",
    "(ubap2l_30_genex_overall_corrs, ubap2l_30_exonusage_overall_corrs,) = [\n",
    "    many.stats.mat_corr_naive(\n",
    "        merged_ccle_info[\n",
    "            \"UBAP2L_5p_chr1_154242676_154243329_ENSG00000143569.14_exonusage\"\n",
    "        ],\n",
    "        df,\n",
    "        **corr_kwargs\n",
    "    )\n",
    "    for df in compare_sets\n",
    "]\n",
    "\n",
    "(ubap2l_30_genex_wt_corrs, ubap2l_30_exonusage_wt_corrs,) = [\n",
    "    many.stats.mat_corr_naive(\n",
    "        rpl22_wt_subset[\n",
    "            \"UBAP2L_5p_chr1_154242676_154243329_ENSG00000143569.14_exonusage\"\n",
    "        ],\n",
    "        df,\n",
    "        **corr_kwargs\n",
    "    )\n",
    "    for df in compare_sets\n",
    "]"
   ]
  },
  {
   "cell_type": "code",
   "execution_count": 47,
   "metadata": {
    "ExecuteTime": {
     "end_time": "2020-12-18T21:19:42.982059Z",
     "start_time": "2020-12-18T21:19:21.591812Z"
    }
   },
   "outputs": [],
   "source": [
    "csv_kwargs = {\"sep\": \"\\t\"}\n",
    "\n",
    "outputs = [\n",
    "    [rpl22l1_3a_genex_overall_corrs, \"S3-a_rpl22l1-3a-genex-overall-corrs\"],\n",
    "    [rpl22l1_3a_exonusage_overall_corrs, \"S3-b_rpl22l1-3a-exonusage-overall-corrs\"],\n",
    "    [rpl22l1_3a_genex_wt_corrs, \"S3-c_rpl22l1-3a-genex-wt-corrs\"],\n",
    "    [rpl22l1_3a_exonusage_wt_corrs, \"S3-d_rpl22l1-3a-exonusage-wt-corrs\"],\n",
    "    [mdm4_6_genex_overall_corrs, \"S3-e_mdm4-6-genex-overall-corrs\"],\n",
    "    [mdm4_6_exonusage_overall_corrs, \"S3-f_mdm4-6-exonusage-overall-corrs\"],\n",
    "    [mdm4_6_genex_wt_corrs, \"S3-g_mdm4-6-genex-wt-corrs\"],\n",
    "    [mdm4_6_exonusage_wt_corrs, \"S3-h_mdm4-6-exonusage-wt-corrs\"],\n",
    "    [ubap2l_30_genex_overall_corrs, \"S3-i_ubap2l-29-genex-overall-corrs\"],\n",
    "    [ubap2l_30_exonusage_overall_corrs, \"S3-j_ubap2l-29-exonusage-overall-corrs\"],\n",
    "    [ubap2l_30_genex_wt_corrs, \"S3-k_ubap2l-29-genex-wt-corrs\"],\n",
    "    [ubap2l_30_exonusage_wt_corrs, \"S3-l_ubap2l-29-exonusage-wt-corrs\"],\n",
    "]\n",
    "\n",
    "for table, stem in outputs:\n",
    "\n",
    "    table.to_csv(f\"../data/supplementary/{stem}.txt\", **csv_kwargs)"
   ]
  }
 ],
 "metadata": {
  "kernelspec": {
   "display_name": "Python 3",
   "language": "python",
   "name": "python3"
  },
  "language_info": {
   "codemirror_mode": {
    "name": "ipython",
    "version": 3
   },
   "file_extension": ".py",
   "mimetype": "text/x-python",
   "name": "python",
   "nbconvert_exporter": "python",
   "pygments_lexer": "ipython3",
   "version": "3.8.7"
  },
  "toc": {
   "base_numbering": 1,
   "nav_menu": {},
   "number_sections": true,
   "sideBar": true,
   "skip_h1_title": false,
   "title_cell": "Table of Contents",
   "title_sidebar": "Contents",
   "toc_cell": false,
   "toc_position": {},
   "toc_section_display": true,
   "toc_window_display": false
  }
 },
 "nbformat": 4,
 "nbformat_minor": 4
}
