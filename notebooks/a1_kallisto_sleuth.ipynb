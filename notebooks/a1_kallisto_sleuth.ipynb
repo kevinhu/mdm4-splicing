{
 "cells": [
  {
   "cell_type": "code",
   "execution_count": 1,
   "metadata": {
    "ExecuteTime": {
     "end_time": "2019-10-30T17:37:08.594669Z",
     "start_time": "2019-10-30T17:37:07.678241Z"
    }
   },
   "outputs": [],
   "source": [
    "import pandas as pd\n",
    "import numpy as np"
   ]
  },
  {
   "cell_type": "markdown",
   "metadata": {},
   "source": [
    "# Make TPM matrix"
   ]
  },
  {
   "cell_type": "markdown",
   "metadata": {},
   "source": [
    "## Experiments list"
   ]
  },
  {
   "cell_type": "code",
   "execution_count": 2,
   "metadata": {
    "ExecuteTime": {
     "end_time": "2019-10-30T17:37:12.707784Z",
     "start_time": "2019-10-30T17:37:12.687779Z"
    }
   },
   "outputs": [],
   "source": [
    "experiments = pd.read_csv(\"../data/intermediate/experiment_setup.txt\",sep=\"\\t\")\n",
    "\n",
    "experiments[\"kallisto_path\"] = \"../data/intermediate/kallisto_quant/\"+experiments[\"sample\"]+\"/abundance.tsv\"\n",
    "\n",
    "def load_tpms(exp_path, exp_name):\n",
    "    abundances = pd.read_csv(exp_path,sep=\"\\t\",index_col=0)\n",
    "    \n",
    "    tpms = abundances[\"tpm\"]\n",
    "    tpms = tpms.rename(exp_name)\n",
    "    tpms = tpms.astype(np.float64)\n",
    "    \n",
    "    return tpms"
   ]
  },
  {
   "cell_type": "markdown",
   "metadata": {},
   "source": [
    "## Merge TPMs"
   ]
  },
  {
   "cell_type": "code",
   "execution_count": 3,
   "metadata": {
    "ExecuteTime": {
     "end_time": "2019-10-30T17:37:36.788376Z",
     "start_time": "2019-10-30T17:37:27.919441Z"
    }
   },
   "outputs": [],
   "source": [
    "exps = zip(experiments[\"kallisto_path\"],experiments[\"sample\"])\n",
    "\n",
    "merged_tpms = [load_tpms(x[0],x[1]) for x in exps]\n",
    "\n",
    "merged_tpms = pd.concat(merged_tpms,axis=1)\n",
    "\n",
    "merged_tpms.to_csv(\"../data/processed/tpm_matrix.txt\",sep=\"\\t\")"
   ]
  },
  {
   "cell_type": "markdown",
   "metadata": {},
   "source": [
    "## Format for SUPPA"
   ]
  },
  {
   "cell_type": "code",
   "execution_count": 62,
   "metadata": {
    "ExecuteTime": {
     "end_time": "2019-10-12T19:42:10.663865Z",
     "start_time": "2019-10-12T19:42:06.644364Z"
    }
   },
   "outputs": [],
   "source": [
    "suppa_tpms = merged_tpms.copy(deep=True)\n",
    "\n",
    "suppa_tpms.index = suppa_tpms.index.map(lambda x: x.split(\".\")[0])\n",
    "\n",
    "suppa_tpms.to_csv(\"../data/processed/tpm_matrix_suppa.txt\",sep=\"\\t\",index_label=False)"
   ]
  },
  {
   "cell_type": "markdown",
   "metadata": {},
   "source": [
    "# Transcripts to genes"
   ]
  },
  {
   "cell_type": "code",
   "execution_count": 27,
   "metadata": {
    "ExecuteTime": {
     "end_time": "2019-10-30T17:45:16.817309Z",
     "start_time": "2019-10-30T17:45:16.308741Z"
    }
   },
   "outputs": [],
   "source": [
    "t2g = pd.read_csv(\"../data/raw/kallisto_homo_sapiens/transcripts_to_genes.txt\",\n",
    "                  sep=\"\\t\",\n",
    "                  names=[\"transcript_id\", \"gene_id\", \"gene_name\"]\n",
    "                  )\n",
    "\n",
    "t2g[\"format_transcript_id\"] = t2g[\"gene_name\"] + \"_\" + t2g[\"transcript_id\"]\n",
    "t2g[\"format_gene_id\"] = t2g[\"gene_name\"] + \"_\" + t2g[\"gene_id\"]\n",
    "\n",
    "transcript_map = dict(zip(t2g[\"transcript_id\"], t2g[\"format_transcript_id\"]))\n",
    "\n",
    "gene_id_map = dict(zip(t2g[\"gene_id\"],t2g[\"format_gene_id\"]))"
   ]
  },
  {
   "cell_type": "code",
   "execution_count": 46,
   "metadata": {
    "ExecuteTime": {
     "end_time": "2019-10-30T18:09:23.085437Z",
     "start_time": "2019-10-30T18:09:22.517724Z"
    }
   },
   "outputs": [],
   "source": [
    "named_tpms = merged_tpms.copy(deep=True)\n",
    "\n",
    "named_tpms.index = named_tpms.index.map(lambda x: transcript_map.get(x,\"unnamed_\"+x))\n",
    "named_tpms = named_tpms.T\n",
    "\n",
    "named_tpms.to_hdf(\"../data/processed/tpm_matrix_named.hdf\",key=\"named_tpms\",mode=\"w\")"
   ]
  },
  {
   "cell_type": "code",
   "execution_count": 45,
   "metadata": {
    "ExecuteTime": {
     "end_time": "2019-10-30T18:09:22.017383Z",
     "start_time": "2019-10-30T18:09:21.422158Z"
    }
   },
   "outputs": [],
   "source": [
    "_, align_ensembl_genes = merged_tpms.align(t2g.set_index(\"transcript_id\")[\"gene_id\"],axis=0,join=\"inner\")\n",
    "\n",
    "gene_tpms = merged_tpms.groupby(align_ensembl_genes).sum().T\n",
    "gene_tpms.columns = gene_tpms.columns.map(lambda x: gene_id_map[x])\n",
    "\n",
    "gene_tpms.to_hdf(\"../data/processed/tpm_matrix_genes.hdf\",key=\"gene_tpms\",mode=\"w\")"
   ]
  },
  {
   "cell_type": "markdown",
   "metadata": {},
   "source": [
    "# Sleuth outputs"
   ]
  },
  {
   "cell_type": "code",
   "execution_count": 39,
   "metadata": {
    "ExecuteTime": {
     "end_time": "2019-10-30T18:02:56.705476Z",
     "start_time": "2019-10-30T18:02:54.943268Z"
    }
   },
   "outputs": [],
   "source": [
    "rpl22_oe = pd.read_csv(\"../data/intermediate/kallisto_sleuth/RPL22_oe.csv\",index_col=1)\n",
    "rpl22l1_oe = pd.read_csv(\"../data/intermediate/kallisto_sleuth/RPL22L1_oe.csv\",index_col=1)\n",
    "sh704 = pd.read_csv(\"../data/intermediate/kallisto_sleuth/sh704.csv\",index_col=1)\n",
    "sh705 = pd.read_csv(\"../data/intermediate/kallisto_sleuth/sh705.csv\",index_col=1)\n",
    "\n",
    "rpl22_oe[\"format_transcript_id\"] = rpl22_oe.index.map(lambda x: transcript_map.get(x,\"unnamed_\"+x))\n",
    "rpl22l1_oe[\"format_transcript_id\"] = rpl22l1_oe.index.map(lambda x: transcript_map.get(x,\"unnamed_\"+x))\n",
    "sh704[\"format_transcript_id\"] = sh704.index.map(lambda x: transcript_map.get(x,\"unnamed_\"+x))\n",
    "sh705[\"format_transcript_id\"] = sh705.index.map(lambda x: transcript_map.get(x,\"unnamed_\"+x))"
   ]
  },
  {
   "cell_type": "code",
   "execution_count": null,
   "metadata": {},
   "outputs": [],
   "source": [
    "'LNCaP_GFP_1',\n",
    "'LNCaP_GFP_2',\n",
    "'LNCaP_GFP_3',\n",
    "'LNCaP_RPL22_1',\n",
    "'LNCaP_RPL22_2',\n",
    "'LNCaP_RPL22_3',\n",
    "'CAL851_GFP_1',\n",
    "'CAL851_GFP_2',\n",
    "'CAL851_GFP_3',\n",
    "'CAL851_RPL22L1_1',\n",
    "'CAL851_RPL22L1_2',\n",
    "'CAL851_RPL22L1_3',\n",
    "'LNCaP_shLuc_1',\n",
    "'LNCaP_shLuc_2',\n",
    "'LNCaP_shLuc_3',\n",
    "'LNCaP_sh704_1',\n",
    "'LNCaP_sh704_2',\n",
    "'LNCaP_sh704_3',\n",
    "'LNCaP_sh705_1',\n",
    "'LNCaP_sh705_2',\n",
    "'LNCaP_sh705_3'"
   ]
  },
  {
   "cell_type": "code",
   "execution_count": 51,
   "metadata": {
    "ExecuteTime": {
     "end_time": "2019-10-30T20:27:21.475712Z",
     "start_time": "2019-10-30T20:27:20.810390Z"
    }
   },
   "outputs": [],
   "source": [
    "rpl22_oe_samples = ['LNCaP_GFP_1',\n",
    "                    'LNCaP_GFP_2',\n",
    "                    'LNCaP_GFP_3',\n",
    "                    'LNCaP_RPL22_1',\n",
    "                    'LNCaP_RPL22_2',\n",
    "                    'LNCaP_RPL22_3']\n",
    "\n",
    "rpl22l1_oe_samples = ['CAL851_GFP_1',\n",
    "                      'CAL851_GFP_2',\n",
    "                      'CAL851_GFP_3',\n",
    "                      'CAL851_RPL22L1_1',\n",
    "                      'CAL851_RPL22L1_2',\n",
    "                      'CAL851_RPL22L1_3']\n",
    "\n",
    "sh704_samples = ['LNCaP_shLuc_1',\n",
    "                 'LNCaP_shLuc_2',\n",
    "                 'LNCaP_shLuc_3',\n",
    "                 'LNCaP_sh704_1',\n",
    "                 'LNCaP_sh704_2',\n",
    "                 'LNCaP_sh704_3']\n",
    "\n",
    "sh705_samples = ['LNCaP_shLuc_1',\n",
    "                 'LNCaP_shLuc_2',\n",
    "                 'LNCaP_shLuc_3',\n",
    "                 'LNCaP_sh705_1',\n",
    "                 'LNCaP_sh705_2',\n",
    "                 'LNCaP_sh705_3']\n",
    "\n",
    "rpl22_oe_tpms = merged_tpms.loc[rpl22_oe.index, rpl22_oe_samples]\n",
    "rpl22l1_oe_tpms = merged_tpms.loc[rpl22l1_oe.index, rpl22l1_oe_samples]\n",
    "sh704_tpms = merged_tpms.loc[sh704.index, sh704_samples]\n",
    "sh705_tpms = merged_tpms.loc[sh705.index, sh705_samples]"
   ]
  },
  {
   "cell_type": "code",
   "execution_count": 53,
   "metadata": {
    "ExecuteTime": {
     "end_time": "2019-10-30T20:28:12.208431Z",
     "start_time": "2019-10-30T20:28:12.163397Z"
    }
   },
   "outputs": [],
   "source": [
    "rpl22_oe = pd.concat([rpl22_oe,rpl22_oe_tpms],axis=1)\n",
    "rpl22l1_oe = pd.concat([rpl22l1_oe,rpl22l1_oe_tpms],axis=1)\n",
    "sh704 = pd.concat([sh704,sh704_tpms],axis=1)\n",
    "sh705 = pd.concat([sh705,sh705_tpms],axis=1)"
   ]
  },
  {
   "cell_type": "code",
   "execution_count": 43,
   "metadata": {
    "ExecuteTime": {
     "end_time": "2019-10-30T18:05:05.629931Z",
     "start_time": "2019-10-30T18:05:04.372763Z"
    }
   },
   "outputs": [],
   "source": [
    "rpl22_oe.to_hdf(\"../data/intermediate/kallisto_sleuth/RPL22_oe.hdf\", key=\"rpl22_oe\", mode=\"w\")\n",
    "rpl22l1_oe.to_hdf(\"../data/intermediate/kallisto_sleuth/RPL22L1_oe.hdf\", key=\"rpl22l1_oe\", mode=\"w\")\n",
    "sh704.to_hdf(\"../data/intermediate/kallisto_sleuth/sh704.hdf\", key=\"sh704\", mode=\"w\")\n",
    "sh705.to_hdf(\"../data/intermediate/kallisto_sleuth/sh705.hdf\", key=\"sh705\", mode=\"w\")"
   ]
  }
 ],
 "metadata": {
  "kernelspec": {
   "display_name": "Python 3",
   "language": "python",
   "name": "python3"
  },
  "language_info": {
   "codemirror_mode": {
    "name": "ipython",
    "version": 3
   },
   "file_extension": ".py",
   "mimetype": "text/x-python",
   "name": "python",
   "nbconvert_exporter": "python",
   "pygments_lexer": "ipython3",
   "version": "3.7.4"
  },
  "toc": {
   "base_numbering": 1,
   "nav_menu": {},
   "number_sections": true,
   "sideBar": true,
   "skip_h1_title": false,
   "title_cell": "Table of Contents",
   "title_sidebar": "Contents",
   "toc_cell": false,
   "toc_position": {},
   "toc_section_display": true,
   "toc_window_display": false
  }
 },
 "nbformat": 4,
 "nbformat_minor": 2
}
