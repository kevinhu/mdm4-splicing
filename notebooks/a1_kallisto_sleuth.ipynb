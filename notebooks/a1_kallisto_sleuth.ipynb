{
 "cells": [
  {
   "cell_type": "code",
   "execution_count": null,
   "metadata": {},
   "outputs": [],
   "source": [
    "import pandas as pd\n",
    "import numpy as np"
   ]
  },
  {
   "cell_type": "markdown",
   "metadata": {},
   "source": [
    "# Make TPM matrix"
   ]
  },
  {
   "cell_type": "code",
   "execution_count": null,
   "metadata": {},
   "outputs": [],
   "source": [
    "experiments = pd.read_csv(\"../data/intermediate/experiment_setup.txt\",sep=\"\\t\")\n",
    "\n",
    "experiments[\"kallisto_path\"] = \"../data/intermediate/kallisto_quant/\"+experiments[\"sample\"]+\"/abundance.tsv\"\n",
    "\n",
    "def load_tpms(exp_path, exp_name):\n",
    "    abundances = pd.read_csv(exp_path,sep=\"\\t\",index_col=0)\n",
    "    \n",
    "    tpms = abundances[\"tpm\"]\n",
    "    tpms = tpms.rename(exp_name)\n",
    "    tpms = tpms.astype(np.float64)\n",
    "    \n",
    "    return tpms"
   ]
  },
  {
   "cell_type": "code",
   "execution_count": null,
   "metadata": {},
   "outputs": [],
   "source": [
    "exps = zip(experiments[\"kallisto_path\"],experiments[\"sample\"])\n",
    "\n",
    "merged_tpms = [load_tpms(x[0],x[1]) for x in exps]\n",
    "\n",
    "merged_tpms = pd.concat(merged_tpms,axis=1)\n",
    "\n",
    "merged_tpms.to_csv(\"../data/processed/tpm_matrix.txt\",sep=\"\\t\")"
   ]
  }
 ],
 "metadata": {
  "kernelspec": {
   "display_name": "Python 3",
   "language": "python",
   "name": "python3"
  },
  "language_info": {
   "codemirror_mode": {
    "name": "ipython",
    "version": 3
   },
   "file_extension": ".py",
   "mimetype": "text/x-python",
   "name": "python",
   "nbconvert_exporter": "python",
   "pygments_lexer": "ipython3",
   "version": "3.7.4"
  },
  "toc": {
   "base_numbering": 1,
   "nav_menu": {},
   "number_sections": true,
   "sideBar": true,
   "skip_h1_title": false,
   "title_cell": "Table of Contents",
   "title_sidebar": "Contents",
   "toc_cell": false,
   "toc_position": {},
   "toc_section_display": true,
   "toc_window_display": false
  }
 },
 "nbformat": 4,
 "nbformat_minor": 2
}
