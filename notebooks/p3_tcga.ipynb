{
 "cells": [
  {
   "cell_type": "code",
   "execution_count": 21,
   "metadata": {
    "ExecuteTime": {
     "end_time": "2019-11-08T20:10:17.660709Z",
     "start_time": "2019-11-08T20:10:17.657449Z"
    }
   },
   "outputs": [],
   "source": [
    "import pandas as pd\n",
    "import numpy as np\n",
    "from functools import reduce\n",
    "\n",
    "import seaborn as sns"
   ]
  },
  {
   "cell_type": "code",
   "execution_count": 7,
   "metadata": {
    "ExecuteTime": {
     "end_time": "2019-11-08T20:07:14.219387Z",
     "start_time": "2019-11-08T20:07:14.215679Z"
    }
   },
   "outputs": [],
   "source": [
    "def concat_cols(df, cols, delim):\n",
    "    cols_str = [df[x].astype(str) for x in cols]\n",
    "\n",
    "    return reduce(lambda a, b: a + delim + b, cols_str)"
   ]
  },
  {
   "cell_type": "markdown",
   "metadata": {},
   "source": [
    "# Splicing (Kahles et al.)"
   ]
  },
  {
   "cell_type": "markdown",
   "metadata": {},
   "source": [
    "## A3SS"
   ]
  },
  {
   "cell_type": "code",
   "execution_count": 30,
   "metadata": {
    "ExecuteTime": {
     "end_time": "2019-11-08T20:31:29.058533Z",
     "start_time": "2019-11-08T20:13:22.896609Z"
    }
   },
   "outputs": [
    {
     "name": "stdout",
     "output_type": "stream",
     "text": [
      "0 1 2 3 4 5 6 7 8 9 10 11 12 13 14 15 16 17 18 19 20 21 22 23 24 25 26 27 28 29 30 31 32 33 34 35 36 37 38 39 40 41 42 43 44 45 46 47 48 49 50 51 52 53 54 55 56 57 58 59 60 61 62 63 64 65 66 67 68 69 70 71 72 73 74 75 76 77 78 79 80 81 82 83 84 85 86 87 88 89 90 91 92 93 94 95 96 97 98 99 100 101 102 103 104 105 106 107 108 109 110 111 112 113 114 115 116 117 118 119 120 121 122 123 124 125 126 127 128 129 130 131 132 133 134 135 136 137 138 139 140 141 142 143 144 145 146 147 148 149 150 151 152 153 154 155 156 157 158 159 160 161 162 163 164 165 166 167 168 169 170 171 172 173 174 175 176 "
     ]
    },
    {
     "name": "stderr",
     "output_type": "stream",
     "text": [
      "/Users/khu/anaconda3/envs/cenv/lib/python3.7/site-packages/IPython/core/interactiveshell.py:3058: DtypeWarning: Columns (2) have mixed types. Specify dtype option on import or set low_memory=False.\n",
      "  interactivity=interactivity, compiler=compiler, result=result)\n"
     ]
    },
    {
     "name": "stdout",
     "output_type": "stream",
     "text": [
      "177 178 179 180 181 "
     ]
    }
   ],
   "source": [
    "tcga_a3ss_chunks = pd.read_csv(\"../data/raw/tcga/kahles/merge_graphs_alt_3prime_C2.confirmed.txt.gz\",\n",
    "                        sep=\"\\t\", chunksize=1000)\n",
    "\n",
    "chunk_count = 0\n",
    "\n",
    "tcga_a3ss = []\n",
    "\n",
    "for chunk in tcga_a3ss_chunks:\n",
    "    \n",
    "    print(chunk_count, end=\" \")\n",
    "    \n",
    "    chunk[\"exon_id\"] = concat_cols(chunk, [\"gene_name\",\n",
    "                                           \"event_type\",\n",
    "                                           \"event_chr\",\n",
    "                                           \"event_coordinates\",\n",
    "                                           \"alt_region_coordinates\"],\n",
    "                                   \"_\"\n",
    "                                  )\n",
    "    \n",
    "    chunk = chunk.drop([\"event_id\",\n",
    "                        \"event_type\",\n",
    "                        \"event_chr\",\n",
    "                        \"event_coordinates\",\n",
    "                        \"alt_region_coordinates\",\n",
    "                        \"gene_name\"\n",
    "                       ],axis=1)\n",
    "    \n",
    "    chunk = chunk.set_index(\"exon_id\")\n",
    "    chunk = chunk.dropna(axis=0,thresh=len(chunk.columns)/10)\n",
    "    \n",
    "    chunk = chunk[chunk.std(axis=1)>0.1]\n",
    "    \n",
    "    tcga_a3ss.append(chunk)\n",
    "    \n",
    "    chunk_count += 1"
   ]
  },
  {
   "cell_type": "code",
   "execution_count": 33,
   "metadata": {
    "ExecuteTime": {
     "end_time": "2019-11-08T20:32:42.747021Z",
     "start_time": "2019-11-08T20:32:41.910152Z"
    }
   },
   "outputs": [],
   "source": [
    "tcga_a3ss = pd.concat(tcga_a3ss,axis=0)\n",
    "tcga_a3ss = tcga_a3ss.astype(np.float32)\n",
    "tcga_a3ss = tcga_a3ss.T\n",
    "\n",
    "tcga_a3ss.to_hdf(\"../data/processed/tcga/tcga_a3ss.hdf\",key=\"tcga_a3ss\",mode=\"w\")"
   ]
  },
  {
   "cell_type": "markdown",
   "metadata": {},
   "source": [
    "## SE"
   ]
  },
  {
   "cell_type": "code",
   "execution_count": 45,
   "metadata": {
    "ExecuteTime": {
     "end_time": "2019-11-08T21:09:56.439758Z",
     "start_time": "2019-11-08T20:38:12.719116Z"
    }
   },
   "outputs": [
    {
     "name": "stdout",
     "output_type": "stream",
     "text": [
      "0 1 2 3 4 5 6 7 8 9 10 11 12 13 14 15 16 17 18 19 20 21 22 23 24 25 26 27 28 29 30 31 32 33 34 35 36 37 38 39 40 41 42 43 44 45 46 47 48 49 50 51 52 53 54 55 56 57 58 59 60 61 62 63 64 65 66 67 68 69 70 71 72 73 74 75 76 77 78 79 80 81 82 83 84 85 86 87 88 89 90 91 92 93 94 95 96 97 98 99 100 101 102 103 104 105 106 107 108 109 110 111 112 113 114 115 116 117 118 119 120 121 122 123 124 125 126 127 128 129 130 131 132 133 134 135 136 137 138 139 140 141 142 143 144 145 146 147 148 149 150 151 152 153 154 155 156 157 158 159 160 161 162 163 164 165 166 167 168 169 170 171 172 173 174 175 176 177 178 179 180 181 182 183 184 185 186 187 188 189 190 191 192 193 194 195 196 197 198 199 200 201 202 203 204 205 206 207 208 209 210 211 212 213 214 215 216 217 218 219 220 221 222 223 224 225 226 227 228 229 230 231 232 233 234 235 236 237 238 239 240 241 242 243 244 245 246 247 248 249 250 251 252 253 254 255 256 257 258 259 260 261 262 263 264 265 266 267 268 269 270 271 272 273 274 275 276 277 278 279 280 281 282 283 284 285 286 287 288 289 290 291 292 293 294 295 296 297 298 299 300 301 302 303 304 305 306 307 308 309 310 311 312 313 314 315 316 317 318 319 320 321 322 323 324 325 326 327 328 329 330 331 "
     ]
    },
    {
     "name": "stderr",
     "output_type": "stream",
     "text": [
      "/Users/khu/anaconda3/envs/cenv/lib/python3.7/site-packages/IPython/core/interactiveshell.py:3058: DtypeWarning: Columns (2) have mixed types. Specify dtype option on import or set low_memory=False.\n",
      "  interactivity=interactivity, compiler=compiler, result=result)\n"
     ]
    },
    {
     "name": "stdout",
     "output_type": "stream",
     "text": [
      "332 333 334 335 336 337 338 339 "
     ]
    }
   ],
   "source": [
    "tcga_se_chunks = pd.read_csv(\"../data/raw/tcga/kahles/merge_graphs_exon_skip_C2.confirmed.txt.gz\",\n",
    "                        sep=\"\\t\", chunksize=1000)\n",
    "\n",
    "chunk_count = 0\n",
    "\n",
    "tcga_se = []\n",
    "\n",
    "for chunk in tcga_se_chunks:\n",
    "    \n",
    "    print(chunk_count, end=\" \")\n",
    "    \n",
    "    chunk[\"exon_id\"] = concat_cols(chunk, [\"gene_name\",\n",
    "                                           \"event_type\",\n",
    "                                           \"event_chr\",\n",
    "                                           \"event_coordinates\",\n",
    "                                           \"alt_region_coordinates\"],\n",
    "                                   \"_\"\n",
    "                                  )\n",
    "    \n",
    "    chunk = chunk.drop([\"event_id\",\n",
    "                        \"event_type\",\n",
    "                        \"event_chr\",\n",
    "                        \"event_coordinates\",\n",
    "                        \"alt_region_coordinates\",\n",
    "                        \"gene_name\"\n",
    "                       ],axis=1)\n",
    "    \n",
    "    chunk = chunk.set_index(\"exon_id\")\n",
    "    chunk = chunk.dropna(axis=0,thresh=len(chunk.columns)/10)\n",
    "    \n",
    "    chunk = chunk[chunk.std(axis=1)>0.1]\n",
    "    \n",
    "    tcga_se.append(chunk)\n",
    "    \n",
    "    chunk_count += 1"
   ]
  },
  {
   "cell_type": "code",
   "execution_count": 46,
   "metadata": {
    "ExecuteTime": {
     "end_time": "2019-11-08T21:10:30.020256Z",
     "start_time": "2019-11-08T21:10:23.765906Z"
    }
   },
   "outputs": [],
   "source": [
    "tcga_se = pd.concat(tcga_se,axis=0)\n",
    "tcga_se = tcga_se.astype(np.float32)\n",
    "tcga_se = tcga_se.T\n",
    "\n",
    "tcga_se.to_hdf(\"../data/processed/tcga/tcga_se.hdf\",key=\"tcga_se\",mode=\"w\")"
   ]
  },
  {
   "cell_type": "markdown",
   "metadata": {},
   "source": [
    "# Xena"
   ]
  },
  {
   "cell_type": "markdown",
   "metadata": {},
   "source": [
    "## Gene expression"
   ]
  },
  {
   "cell_type": "code",
   "execution_count": 68,
   "metadata": {
    "ExecuteTime": {
     "end_time": "2019-11-08T21:31:54.912674Z",
     "start_time": "2019-11-08T21:26:18.950343Z"
    }
   },
   "outputs": [],
   "source": [
    "tcga_genex = pd.read_csv(\"../data/raw/tcga/xena/tcga_RSEM_gene_tpm.gz\",\n",
    "                         sep=\"\\t\",\n",
    "                         index_col=0)\n",
    "\n",
    "tcga_genex = tcga_genex.T\n",
    "tcga_genex = tcga_genex.astype(np.float32)\n",
    "tcga_genex.to_hdf(\"../data/processed/tcga/tcga_genex.hdf\",key=\"tcga_genex\",mode=\"w\")"
   ]
  },
  {
   "cell_type": "markdown",
   "metadata": {
    "ExecuteTime": {
     "end_time": "2019-11-08T21:39:43.349182Z",
     "start_time": "2019-11-08T21:39:02.934072Z"
    }
   },
   "source": [
    "## Copy number"
   ]
  },
  {
   "cell_type": "code",
   "execution_count": 88,
   "metadata": {
    "ExecuteTime": {
     "end_time": "2019-11-08T22:37:16.344511Z",
     "start_time": "2019-11-08T22:35:07.273074Z"
    }
   },
   "outputs": [],
   "source": [
    "tcga_cn = pd.read_csv(\"../data/raw/tcga/xena/Gistic2_CopyNumber_Gistic2_all_thresholded.by_genes.gz\",\n",
    "                         sep=\"\\t\",\n",
    "                         index_col=0)\n",
    "\n",
    "tcga_cn = tcga_cn.T\n",
    "tcga_cn = tcga_cn.astype(np.float32)\n",
    "tcga_cn.to_hdf(\"../data/processed/tcga/tcga_cn.hdf\",key=\"tcga_cn\",mode=\"w\")"
   ]
  },
  {
   "cell_type": "markdown",
   "metadata": {},
   "source": [
    "## Phenotypes"
   ]
  },
  {
   "cell_type": "code",
   "execution_count": 81,
   "metadata": {
    "ExecuteTime": {
     "end_time": "2019-11-08T21:47:31.825768Z",
     "start_time": "2019-11-08T21:47:31.747050Z"
    }
   },
   "outputs": [
    {
     "name": "stderr",
     "output_type": "stream",
     "text": [
      "/Users/khu/anaconda3/envs/cenv/lib/python3.7/site-packages/pandas/core/generic.py:2531: PerformanceWarning: \n",
      "your performance may suffer as PyTables will pickle object types that it cannot\n",
      "map directly to c-types [inferred_type->mixed,key->block1_values] [items->['sample_type', '_primary_disease']]\n",
      "\n",
      "  pytables.to_hdf(path_or_buf, key, self, **kwargs)\n"
     ]
    }
   ],
   "source": [
    "tcga_sample_info = pd.read_csv(\"../data/raw/tcga/xena/TCGA_phenotype_denseDataOnlyDownload.tsv.gz\",\n",
    "                               sep=\"\\t\",\n",
    "                               index_col=0\n",
    "                              )\n",
    "tcga_sample_info.to_hdf(\"../data/processed/tcga/tcga_sample_info.hdf\",key=\"tcga_sample_info\",mode=\"w\")"
   ]
  },
  {
   "cell_type": "markdown",
   "metadata": {},
   "source": [
    "## Mutations"
   ]
  },
  {
   "cell_type": "code",
   "execution_count": 82,
   "metadata": {
    "ExecuteTime": {
     "end_time": "2019-11-08T21:48:08.195501Z",
     "start_time": "2019-11-08T21:48:01.614364Z"
    }
   },
   "outputs": [],
   "source": [
    "tcga_muts = pd.read_csv(\"../data/raw/tcga/xena/mc3.v0.2.8.PUBLIC.xena.gz\",\n",
    "                               sep=\"\\t\",\n",
    "                               index_col=0\n",
    "                              )\n",
    "tcga_muts.to_hdf(\"../data/processed/tcga/tcga_muts.hdf\",key=\"tcga_muts\",mode=\"w\")"
   ]
  }
 ],
 "metadata": {
  "kernelspec": {
   "display_name": "Python 3",
   "language": "python",
   "name": "python3"
  },
  "language_info": {
   "codemirror_mode": {
    "name": "ipython",
    "version": 3
   },
   "file_extension": ".py",
   "mimetype": "text/x-python",
   "name": "python",
   "nbconvert_exporter": "python",
   "pygments_lexer": "ipython3",
   "version": "3.7.4"
  },
  "toc": {
   "base_numbering": 1,
   "nav_menu": {},
   "number_sections": true,
   "sideBar": true,
   "skip_h1_title": false,
   "title_cell": "Table of Contents",
   "title_sidebar": "Contents",
   "toc_cell": false,
   "toc_position": {},
   "toc_section_display": true,
   "toc_window_display": true
  }
 },
 "nbformat": 4,
 "nbformat_minor": 2
}
