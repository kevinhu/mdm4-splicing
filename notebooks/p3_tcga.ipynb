{
 "cells": [
  {
   "cell_type": "code",
   "execution_count": 2,
   "metadata": {
    "ExecuteTime": {
     "end_time": "2020-06-25T04:23:54.130998Z",
     "start_time": "2020-06-25T04:23:52.632326Z"
    }
   },
   "outputs": [],
   "source": [
    "import pandas as pd\n",
    "import numpy as np\n",
    "from functools import reduce\n",
    "\n",
    "import seaborn as sns\n",
    "\n",
    "import sys\n",
    "import os\n",
    "\n",
    "sys.path.append(os.path.relpath(\"../../huygens\"))\n",
    "sys.path.append(os.path.relpath(\"../../galileo\"))\n",
    "\n",
    "import galileo as gal\n",
    "import huygens as huy"
   ]
  },
  {
   "cell_type": "markdown",
   "metadata": {},
   "source": [
    "# Load annotations"
   ]
  },
  {
   "cell_type": "code",
   "execution_count": 3,
   "metadata": {
    "ExecuteTime": {
     "end_time": "2020-06-25T04:23:54.187305Z",
     "start_time": "2020-06-25T04:23:54.132977Z"
    }
   },
   "outputs": [],
   "source": [
    "merged_tcga_info = pd.read_csv(\n",
    "    \"../data/supplementary/S2_merged-tcga-info.txt\", sep=\"\\t\", index_col=0\n",
    ")"
   ]
  },
  {
   "cell_type": "code",
   "execution_count": 4,
   "metadata": {
    "ExecuteTime": {
     "end_time": "2020-06-25T04:25:10.243360Z",
     "start_time": "2020-06-25T04:23:54.528653Z"
    }
   },
   "outputs": [],
   "source": [
    "tcga_genex = pd.read_hdf(\n",
    "    \"../../data/processed/TCGA/TCGA_genex_norm.h5\", key=\"tcga_genex\"\n",
    ")\n",
    "\n",
    "normal_genex = tcga_genex[tcga_genex.index.map(lambda x: x[-2:] == \"11\")]\n",
    "tcga_genex = tcga_genex[tcga_genex.index.map(lambda x: x[-2:] != \"11\")]\n",
    "\n",
    "tcga_splicing = pd.read_hdf(\"../../data/processed/TCGA/merged.h5\", key=\"tcga_splicing\")\n",
    "tcga_splicing.index = tcga_splicing.index.map(lambda x: x[:15])\n",
    "tcga_splicing = tcga_splicing[~tcga_splicing.index.duplicated(keep=\"first\")]\n",
    "tcga_splicing = tcga_splicing[tcga_splicing.index.map(lambda x: x[-2:] != \"11\")]\n",
    "\n",
    "tcga_cn = pd.read_hdf(\n",
    "    \"../../data/processed/TCGA/tcga_cn_whitelisted.hdf\", key=\"tcga_cn\"\n",
    ")\n",
    "tcga_cn = tcga_cn[tcga_cn.index.map(lambda x: x[-2:] != \"11\")]\n",
    "\n",
    "tcga_mut_mat = pd.read_hdf(\n",
    "    \"../../data/processed/TCGA/tcga_mut_mat.hdf\", key=\"tcga_mut_mat\"\n",
    ")\n",
    "tcga_mut_mat = tcga_mut_mat[tcga_mut_mat.index.map(lambda x: x[-2:] != \"11\")]"
   ]
  },
  {
   "cell_type": "code",
   "execution_count": 9,
   "metadata": {
    "ExecuteTime": {
     "end_time": "2020-06-09T18:19:29.072053Z",
     "start_time": "2020-06-09T18:19:28.827871Z"
    }
   },
   "outputs": [],
   "source": [
    "rpl22_tcga = pd.read_csv(\"../data/raw/rpl22.tcga.data.csv\")\n",
    "\n",
    "rpl22_tcga = rpl22_tcga.dropna(subset=[\"sampleid\"])\n",
    "rpl22_tcga = rpl22_tcga.set_index(\"sampleid\")\n",
    "rpl22_tcga.index = rpl22_tcga.index.map(lambda x: x[:15])\n",
    "\n",
    "rpl22_mut = rpl22_tcga[\"rpl22mut.mc3.k15\"].dropna()\n",
    "\n",
    "tcga_mut_mat[\"RPL22_chr1_6257785_6257785_T_-\"] = rpl22_mut"
   ]
  },
  {
   "cell_type": "markdown",
   "metadata": {},
   "source": [
    "# MDM4 splicing vs copynumber"
   ]
  },
  {
   "cell_type": "code",
   "execution_count": null,
   "metadata": {
    "ExecuteTime": {
     "end_time": "2020-06-02T19:24:27.718916Z",
     "start_time": "2020-06-02T19:23:10.004067Z"
    }
   },
   "outputs": [],
   "source": [
    "mdm4_splicing_cn = gal.mat_corrs_naive(\n",
    "    tcga_splicing[\n",
    "        \"MDM4_ENSG00000198625_ENSG00000198625.8_ES_1_204501318:204501374:204506557:204506625:204507336:204507436_204506557:204506625\"\n",
    "    ],\n",
    "    tcga_cn,\n",
    "    method=\"spearman\",\n",
    "    pbar=True,\n",
    ")\n",
    "\n",
    "mdm4_splicing_cn.to_hdf(\n",
    "    \"../data/intermediate/mdm4_splicing_cn.h5\", key=\"mdm4_splicing_cn\", mode=\"w\"\n",
    ")"
   ]
  },
  {
   "cell_type": "markdown",
   "metadata": {},
   "source": [
    "# RPL22 CN vs splicing"
   ]
  },
  {
   "cell_type": "code",
   "execution_count": null,
   "metadata": {
    "ExecuteTime": {
     "end_time": "2020-05-10T03:40:59.315303Z",
     "start_time": "2020-05-10T03:21:42.132470Z"
    }
   },
   "outputs": [],
   "source": [
    "rpl22_cn_splicing = gal.mat_corrs_naive(\n",
    "    tcga_cn[\"RPL22\"], tcga_splicing, method=\"spearman\", pbar=True\n",
    ")\n",
    "\n",
    "rpl22_cn_splicing.to_hdf(\n",
    "    \"../data/intermediate/rpl22_cn_splicing.h5\", key=\"rpl22_cn_splicing\", mode=\"w\"\n",
    ")"
   ]
  },
  {
   "cell_type": "markdown",
   "metadata": {},
   "source": [
    "# Splicing and expression correlations"
   ]
  },
  {
   "cell_type": "markdown",
   "metadata": {},
   "source": [
    "## RPL22L1 expression vs splicing"
   ]
  },
  {
   "cell_type": "code",
   "execution_count": null,
   "metadata": {
    "ExecuteTime": {
     "end_time": "2020-05-10T04:00:53.525814Z",
     "start_time": "2020-05-10T03:40:59.322347Z"
    }
   },
   "outputs": [],
   "source": [
    "rpl22l1_genex_splicing = gal.mat_corrs_naive(\n",
    "    tcga_genex[\"RPL22L1_15209\"], tcga_splicing, method=\"spearman\", pbar=True\n",
    ")\n",
    "\n",
    "rpl22l1_genex_splicing.to_hdf(\n",
    "    \"../data/intermediate/rpl22l1_genex_splicing.h5\",\n",
    "    key=\"rpl22l1_genex_splicing\",\n",
    "    mode=\"w\",\n",
    ")"
   ]
  },
  {
   "cell_type": "code",
   "execution_count": null,
   "metadata": {
    "ExecuteTime": {
     "end_time": "2020-05-10T06:27:20.306793Z",
     "start_time": "2020-05-10T04:00:53.534797Z"
    }
   },
   "outputs": [],
   "source": [
    "rpl22l1_genex_splicing_subtyped = gal.mat_corrs_subtyped(\n",
    "    tcga_genex[\"RPL22L1_15209\"],\n",
    "    tcga_splicing,\n",
    "    tcga_sample_info[\"abbreviated_disease\"],\n",
    "    pbar=True,\n",
    "    stack=True,\n",
    "    min_count=50,\n",
    "    method=\"spearman\",\n",
    ")\n",
    "\n",
    "rpl22l1_genex_splicing_subtyped.to_hdf(\n",
    "    \"../data/intermediate/rpl22l1_genex_splicing_subtyped.h5\",\n",
    "    key=\"rpl22l1_genex_splicing_subtyped\",\n",
    "    mode=\"w\",\n",
    ")"
   ]
  },
  {
   "cell_type": "markdown",
   "metadata": {},
   "source": [
    "## Splicing vs gene expression"
   ]
  },
  {
   "cell_type": "code",
   "execution_count": null,
   "metadata": {
    "ExecuteTime": {
     "end_time": "2020-05-10T06:29:59.449706Z",
     "start_time": "2020-05-10T06:27:20.310332Z"
    }
   },
   "outputs": [],
   "source": [
    "mdm4_splicing_genex = gal.mat_corrs_naive(\n",
    "    tcga_splicing[\n",
    "        \"MDM4_ENSG00000198625_ENSG00000198625.8_ES_1_204501318:204501374:204506557:204506625:204507336:204507436_204506557:204506625\"\n",
    "    ],\n",
    "    tcga_genex,\n",
    "    pbar=True,\n",
    "    method=\"spearman\",\n",
    ")\n",
    "\n",
    "rpl22l1_splicing_genex = gal.mat_corrs_naive(\n",
    "    tcga_splicing[\n",
    "        \"RPL22L1_ENSG00000163584_ENSG00000163584.13_A3_3_170586086:170586168:170585801:170585923:170585801:170585990_170585923:170585990\"\n",
    "    ],\n",
    "    tcga_genex,\n",
    "    pbar=True,\n",
    "    method=\"spearman\",\n",
    ")\n",
    "\n",
    "mdm4_splicing_genex.to_hdf(\n",
    "    \"../data/intermediate/mdm4_splicing_genex.h5\", key=\"mdm4_splicing_genex\", mode=\"w\"\n",
    ")\n",
    "\n",
    "rpl22l1_splicing_genex.to_hdf(\n",
    "    \"../data/intermediate/rpl22l1_splicing_genex.h5\",\n",
    "    key=\"rpl22l1_splicing_genex\",\n",
    "    mode=\"w\",\n",
    ")"
   ]
  },
  {
   "cell_type": "code",
   "execution_count": null,
   "metadata": {
    "ExecuteTime": {
     "end_time": "2020-05-10T06:55:26.182175Z",
     "start_time": "2020-05-10T06:29:59.452650Z"
    }
   },
   "outputs": [],
   "source": [
    "mdm4_splicing_genex_subtyped = gal.mat_corrs_subtyped(\n",
    "    tcga_splicing[\n",
    "        \"MDM4_ENSG00000198625_ENSG00000198625.8_ES_1_204501318:204501374:204506557:204506625:204507336:204507436_204506557:204506625\"\n",
    "    ],\n",
    "    tcga_genex,\n",
    "    tcga_sample_info[\"abbreviated_disease\"],\n",
    "    pbar=True,\n",
    "    stack=True,\n",
    "    min_count=50,\n",
    "    method=\"spearman\",\n",
    ")\n",
    "\n",
    "rpl22l1_splicing_genex_subtyped = gal.mat_corrs_subtyped(\n",
    "    tcga_splicing[\n",
    "        \"RPL22L1_ENSG00000163584_ENSG00000163584.13_A3_3_170586086:170586168:170585801:170585923:170585801:170585990_170585923:170585990\"\n",
    "    ],\n",
    "    tcga_genex,\n",
    "    tcga_sample_info[\"abbreviated_disease\"],\n",
    "    pbar=True,\n",
    "    stack=True,\n",
    "    min_count=50,\n",
    "    method=\"spearman\",\n",
    ")\n",
    "\n",
    "mdm4_splicing_genex_subtyped.to_hdf(\n",
    "    \"../data/intermediate/mdm4_splicing_genex_subtyped.h5\",\n",
    "    key=\"mdm4_splicing_genex_subtyped\",\n",
    "    mode=\"w\",\n",
    ")\n",
    "rpl22l1_splicing_genex_subtyped.to_hdf(\n",
    "    \"../data/intermediate/rpl22l1_splicing_genex_subtyped.h5\",\n",
    "    key=\"rpl22l1_splicing_genex_subtyped\",\n",
    "    mode=\"w\",\n",
    ")"
   ]
  },
  {
   "cell_type": "markdown",
   "metadata": {},
   "source": [
    "# Co-splicing correlations"
   ]
  },
  {
   "cell_type": "code",
   "execution_count": null,
   "metadata": {
    "ExecuteTime": {
     "end_time": "2020-05-10T07:24:36.881725Z",
     "start_time": "2020-05-10T06:55:26.184500Z"
    }
   },
   "outputs": [],
   "source": [
    "mdm4_cosplicing = gal.mat_corrs_naive(\n",
    "    tcga_splicing[\n",
    "        \"MDM4_ENSG00000198625_ENSG00000198625.8_ES_1_204501318:204501374:204506557:204506625:204507336:204507436_204506557:204506625\"\n",
    "    ],\n",
    "    tcga_splicing,\n",
    "    pbar=True,\n",
    "    method=\"spearman\",\n",
    ")\n",
    "\n",
    "rpl22l1_cosplicing = gal.mat_corrs_naive(\n",
    "    tcga_splicing[\n",
    "        \"RPL22L1_ENSG00000163584_ENSG00000163584.13_A3_3_170586086:170586168:170585801:170585923:170585801:170585990_170585923:170585990\"\n",
    "    ],\n",
    "    tcga_splicing,\n",
    "    pbar=True,\n",
    "    method=\"spearman\",\n",
    ")\n",
    "\n",
    "mdm4_cosplicing.to_hdf(\n",
    "    \"../data/intermediate/mdm4_cosplicing.h5\", key=\"mdm4_cosplicing\", mode=\"w\"\n",
    ")\n",
    "\n",
    "rpl22l1_cosplicing.to_hdf(\n",
    "    \"../data/intermediate/rpl22l1_cosplicing.h5\", key=\"rpl22l1_cosplicing\", mode=\"w\"\n",
    ")"
   ]
  },
  {
   "cell_type": "code",
   "execution_count": null,
   "metadata": {
    "ExecuteTime": {
     "end_time": "2020-05-10T10:45:53.402250Z",
     "start_time": "2020-05-10T07:24:36.888107Z"
    }
   },
   "outputs": [],
   "source": [
    "mdm4_cosplicing_subtyped = gal.mat_corrs_subtyped(\n",
    "    tcga_splicing[\n",
    "        \"MDM4_ENSG00000198625_ENSG00000198625.8_ES_1_204501318:204501374:204506557:204506625:204507336:204507436_204506557:204506625\"\n",
    "    ],\n",
    "    tcga_splicing,\n",
    "    tcga_sample_info[\"abbreviated_disease\"],\n",
    "    pbar=True,\n",
    "    stack=True,\n",
    "    min_count=50,\n",
    "    method=\"spearman\",\n",
    ")\n",
    "\n",
    "rpl22l1_cosplicing_subtyped = gal.mat_corrs_subtyped(\n",
    "    tcga_splicing[\n",
    "        \"RPL22L1_ENSG00000163584_ENSG00000163584.13_A3_3_170586086:170586168:170585801:170585923:170585801:170585990_170585923:170585990\"\n",
    "    ],\n",
    "    tcga_splicing,\n",
    "    tcga_sample_info[\"abbreviated_disease\"],\n",
    "    pbar=True,\n",
    "    stack=True,\n",
    "    min_count=50,\n",
    "    method=\"spearman\",\n",
    ")\n",
    "\n",
    "mdm4_cosplicing_subtyped.to_hdf(\n",
    "    \"../data/intermediate/mdm4_cosplicing_subtyped.h5\",\n",
    "    key=\"mdm4_cosplicing_subtyped\",\n",
    "    mode=\"w\",\n",
    ")\n",
    "rpl22l1_cosplicing_subtyped.to_hdf(\n",
    "    \"../data/intermediate/rpl22l1_cosplicing_subtyped.h5\",\n",
    "    key=\"rpl22l1_cosplicing_subtyped\",\n",
    "    mode=\"w\",\n",
    ")"
   ]
  },
  {
   "cell_type": "markdown",
   "metadata": {},
   "source": [
    "# Mutation correlations"
   ]
  },
  {
   "cell_type": "markdown",
   "metadata": {},
   "source": [
    "## Mutations vs MDM4 splicing"
   ]
  },
  {
   "cell_type": "code",
   "execution_count": 10,
   "metadata": {
    "ExecuteTime": {
     "end_time": "2020-06-09T18:19:47.174259Z",
     "start_time": "2020-06-09T18:19:32.169360Z"
    }
   },
   "outputs": [
    {
     "data": {
      "application/vnd.jupyter.widget-view+json": {
       "model_id": "42995f3c26004bf2a1ead450c7fdeb9a",
       "version_major": 2,
       "version_minor": 0
      },
      "text/plain": [
       "HBox(children=(FloatProgress(value=0.0, max=6507.0), HTML(value='')))"
      ]
     },
     "metadata": {},
     "output_type": "display_data"
    },
    {
     "name": "stdout",
     "output_type": "stream",
     "text": [
      "\n"
     ]
    }
   ],
   "source": [
    "mdm4_splicing_mutations = gal.mat_mwus_naive(\n",
    "    tcga_splicing[\n",
    "        \"MDM4_ENSG00000198625_ENSG00000198625.8_ES_1_204501318:204501374:204506557:204506625:204507336:204507436_204506557:204506625\"\n",
    "    ],\n",
    "    tcga_mut_mat,\n",
    "    pbar=True,\n",
    ")\n",
    "\n",
    "mdm4_splicing_mutations.to_hdf(\n",
    "    \"../data/intermediate/mdm4_splicing_mutations.h5\",\n",
    "    key=\"mdm4_splicing_mutations\",\n",
    "    mode=\"w\",\n",
    ")"
   ]
  },
  {
   "cell_type": "markdown",
   "metadata": {},
   "source": [
    "# RPL22 mutation correlations"
   ]
  },
  {
   "cell_type": "markdown",
   "metadata": {},
   "source": [
    "## Overall"
   ]
  },
  {
   "cell_type": "code",
   "execution_count": null,
   "metadata": {
    "ExecuteTime": {
     "end_time": "2020-05-13T20:26:29.961976Z",
     "start_time": "2020-05-13T20:16:45.154366Z"
    }
   },
   "outputs": [],
   "source": [
    "rpl22_msi_splicing = gal.mat_mwus_naive(\n",
    "    tcga_splicing, msi_pos[\"rpl22mut.mc3.k15\"], pbar=True\n",
    ")"
   ]
  },
  {
   "cell_type": "code",
   "execution_count": null,
   "metadata": {
    "ExecuteTime": {
     "end_time": "2020-05-13T20:28:13.434994Z",
     "start_time": "2020-05-13T20:28:12.459927Z"
    }
   },
   "outputs": [],
   "source": [
    "subset = rpl22_msi_splicing[rpl22_msi_splicing[\"pos_n\"] >= 10]\n",
    "subset = subset[subset[\"neg_n\"] >= 10]\n",
    "\n",
    "plt.scatter(subset[\"corr\"], subset[\"qval\"])"
   ]
  },
  {
   "cell_type": "code",
   "execution_count": null,
   "metadata": {
    "ExecuteTime": {
     "end_time": "2020-05-13T20:36:41.934592Z",
     "start_time": "2020-05-13T20:36:39.093429Z"
    }
   },
   "outputs": [],
   "source": [
    "labels = pd.Series(subset.index.map(lambda x: x.split(\"_\")[0]), index=subset.index)\n",
    "\n",
    "plt.figure(figsize=(3, 4))\n",
    "ax = plt.subplot(111)\n",
    "\n",
    "huy.dense_plot(\n",
    "    subset[\"corr\"],\n",
    "    subset[\"qval\"],\n",
    "    labels_mask=subset[\"qval\"] > 3,\n",
    "    labels=labels,\n",
    "    adjust=False,\n",
    "    ax=ax,\n",
    "    c=\"black\",\n",
    ")\n",
    "\n",
    "plt.xlabel(\"Correlation with RPL22 k15fs\")\n",
    "plt.ylabel(\"-log10(q-value)\")\n",
    "\n",
    "plt.savefig(\n",
    "    \"../plots/TCGA-MSI_RPL22_truncated_splicing.pdf\",\n",
    "    dpi=512,\n",
    "    transparent=True,\n",
    "    bbox_inches=\"tight\",\n",
    ")"
   ]
  },
  {
   "cell_type": "code",
   "execution_count": null,
   "metadata": {
    "ExecuteTime": {
     "end_time": "2020-05-13T21:06:48.706360Z",
     "start_time": "2020-05-13T21:06:48.678481Z"
    }
   },
   "outputs": [],
   "source": [
    "tcga_sample_info = pd.read_hdf(\n",
    "    \"../../data/processed/TCGA/tcga_sample_info.hdf\", key=\"tcga_sample_info\"\n",
    ")"
   ]
  },
  {
   "cell_type": "markdown",
   "metadata": {},
   "source": [
    "## MSI-only"
   ]
  },
  {
   "cell_type": "code",
   "execution_count": 6,
   "metadata": {
    "ExecuteTime": {
     "end_time": "2020-06-25T04:25:34.954437Z",
     "start_time": "2020-06-25T04:25:34.941484Z"
    }
   },
   "outputs": [],
   "source": [
    "msi_pos = merged_tcga_info[merged_tcga_info[\"MSI\"] == True]"
   ]
  },
  {
   "cell_type": "code",
   "execution_count": 7,
   "metadata": {
    "ExecuteTime": {
     "end_time": "2020-06-25T04:42:04.153194Z",
     "start_time": "2020-06-25T04:25:52.039686Z"
    }
   },
   "outputs": [
    {
     "data": {
      "application/vnd.jupyter.widget-view+json": {
       "model_id": "d4ad702552ad4233b4fac94126b9e712",
       "version_major": 2,
       "version_minor": 0
      },
      "text/plain": [
       "HBox(children=(FloatProgress(value=0.0, max=146647.0), HTML(value='')))"
      ]
     },
     "metadata": {},
     "output_type": "display_data"
    },
    {
     "name": "stdout",
     "output_type": "stream",
     "text": [
      "\n"
     ]
    }
   ],
   "source": [
    "rpl22_msi_splicing = gal.mat_mwus_naive(\n",
    "    tcga_splicing, msi_pos[\"RPL22_k15fs_mutation\"], pbar=True\n",
    ")"
   ]
  },
  {
   "cell_type": "code",
   "execution_count": 10,
   "metadata": {
    "ExecuteTime": {
     "end_time": "2020-06-25T04:42:40.031217Z",
     "start_time": "2020-06-25T04:42:38.919442Z"
    }
   },
   "outputs": [
    {
     "data": {
      "text/plain": [
       "<matplotlib.collections.PathCollection at 0x7f97861b7e50>"
      ]
     },
     "execution_count": 10,
     "metadata": {},
     "output_type": "execute_result"
    },
    {
     "data": {
      "image/png": "[encoded data removed]",
      "text/plain": [
       "<Figure size 432x288 with 1 Axes>"
      ]
     },
     "metadata": {
      "needs_background": "light"
     },
     "output_type": "display_data"
    }
   ],
   "source": [
    "import matplotlib.pyplot as plt\n",
    "\n",
    "plt.scatter(rpl22_msi_splicing[\"corr\"], rpl22_msi_splicing[\"qval\"])"
   ]
  }
 ],
 "metadata": {
  "kernelspec": {
   "display_name": "Python 3",
   "language": "python",
   "name": "python3"
  },
  "language_info": {
   "codemirror_mode": {
    "name": "ipython",
    "version": 3
   },
   "file_extension": ".py",
   "mimetype": "text/x-python",
   "name": "python",
   "nbconvert_exporter": "python",
   "pygments_lexer": "ipython3",
   "version": "3.7.3"
  },
  "toc": {
   "base_numbering": 1,
   "nav_menu": {},
   "number_sections": true,
   "sideBar": true,
   "skip_h1_title": false,
   "title_cell": "Table of Contents",
   "title_sidebar": "Contents",
   "toc_cell": false,
   "toc_position": {},
   "toc_section_display": true,
   "toc_window_display": true
  }
 },
 "nbformat": 4,
 "nbformat_minor": 2
}
