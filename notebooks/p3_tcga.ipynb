{
 "cells": [
  {
   "cell_type": "code",
   "execution_count": null,
   "metadata": {
    "ExecuteTime": {
     "end_time": "2020-06-09T18:06:41.647403Z",
     "start_time": "2020-06-09T18:06:40.133529Z"
    }
   },
   "outputs": [],
   "source": [
    "import pandas as pd\n",
    "import numpy as np\n",
    "from functools import reduce\n",
    "\n",
    "import seaborn as sns\n",
    "\n",
    "import sys\n",
    "import os\n",
    "\n",
    "sys.path.append(os.path.relpath(\"../../huygens\"))\n",
    "sys.path.append(os.path.relpath(\"../../galileo\"))\n",
    "\n",
    "import galileo as gal\n",
    "import huygens as huy"
   ]
  },
  {
   "cell_type": "markdown",
   "metadata": {},
   "source": [
    "# Load annotations"
   ]
  },
  {
   "cell_type": "code",
   "execution_count": null,
   "metadata": {
    "ExecuteTime": {
     "end_time": "2020-06-09T18:07:59.119692Z",
     "start_time": "2020-06-09T18:06:47.059103Z"
    }
   },
   "outputs": [],
   "source": [
    "tcga_genex = pd.read_hdf(\"../../data/processed/TCGA/TCGA_genex_norm.h5\",key=\"tcga_genex\")\n",
    "\n",
    "normal_genex = tcga_genex[tcga_genex.index.map(lambda x: x[-2:] == \"11\")]\n",
    "tcga_genex = tcga_genex[tcga_genex.index.map(lambda x: x[-2:] != \"11\")]\n",
    "\n",
    "tcga_splicing = pd.read_hdf(\"../../data/processed/TCGA/merged.h5\",key=\"tcga_splicing\")\n",
    "tcga_splicing.index = tcga_splicing.index.map(lambda x: x[:15])\n",
    "tcga_splicing = tcga_splicing[~tcga_splicing.index.duplicated(keep=\"first\")]\n",
    "tcga_splicing = tcga_splicing[tcga_splicing.index.map(lambda x: x[-2:] != \"11\")]\n",
    "\n",
    "tcga_cn = pd.read_hdf(\"../../data/processed/TCGA/tcga_cn_whitelisted.hdf\", key=\"tcga_cn\")\n",
    "tcga_cn = tcga_cn[tcga_cn.index.map(lambda x: x[-2:] != \"11\")]\n",
    "\n",
    "tcga_mut_mat = pd.read_hdf(\"../../data/processed/TCGA/tcga_mut_mat.hdf\", key=\"tcga_mut_mat\")\n",
    "tcga_mut_mat = tcga_mut_mat[tcga_mut_mat.index.map(lambda x: x[-2:] != \"11\")]"
   ]
  },
  {
   "cell_type": "code",
   "execution_count": 9,
   "metadata": {
    "ExecuteTime": {
     "end_time": "2020-06-09T18:19:29.072053Z",
     "start_time": "2020-06-09T18:19:28.827871Z"
    }
   },
   "outputs": [],
   "source": [
    "rpl22_tcga = pd.read_csv(\"../data/raw/rpl22.tcga.data.csv\")\n",
    "\n",
    "rpl22_tcga = rpl22_tcga.dropna(subset=[\"sampleid\"])\n",
    "rpl22_tcga = rpl22_tcga.set_index(\"sampleid\")\n",
    "rpl22_tcga.index = rpl22_tcga.index.map(lambda x: x[:15])\n",
    "\n",
    "rpl22_mut = rpl22_tcga[\"rpl22mut.mc3.k15\"].dropna()\n",
    "\n",
    "tcga_mut_mat[\"RPL22_chr1_6257785_6257785_T_-\"] = rpl22_mut"
   ]
  },
  {
   "cell_type": "markdown",
   "metadata": {},
   "source": [
    "# MDM4 splicing vs copynumber"
   ]
  },
  {
   "cell_type": "code",
   "execution_count": null,
   "metadata": {
    "ExecuteTime": {
     "end_time": "2020-06-02T19:24:27.718916Z",
     "start_time": "2020-06-02T19:23:10.004067Z"
    }
   },
   "outputs": [],
   "source": [
    "mdm4_splicing_cn = gal.mat_corrs_naive(\n",
    "    tcga_splicing[\"MDM4_ENSG00000198625_ENSG00000198625.8_ES_1_204501318:204501374:204506557:204506625:204507336:204507436_204506557:204506625\"],\n",
    "    tcga_cn, method=\"spearman\", pbar=True)\n",
    "\n",
    "mdm4_splicing_cn.to_hdf(\n",
    "    \"../data/intermediate/mdm4_splicing_cn.h5\", key=\"mdm4_splicing_cn\", mode=\"w\")"
   ]
  },
  {
   "cell_type": "markdown",
   "metadata": {},
   "source": [
    "# RPL22 CN vs splicing"
   ]
  },
  {
   "cell_type": "code",
   "execution_count": null,
   "metadata": {
    "ExecuteTime": {
     "end_time": "2020-05-10T03:40:59.315303Z",
     "start_time": "2020-05-10T03:21:42.132470Z"
    }
   },
   "outputs": [],
   "source": [
    "rpl22_cn_splicing = gal.mat_corrs_naive(\n",
    "    tcga_cn[\"RPL22\"], tcga_splicing, method=\"spearman\",pbar=True)\n",
    "\n",
    "rpl22_cn_splicing.to_hdf(\n",
    "    \"../data/intermediate/rpl22_cn_splicing.h5\", key=\"rpl22_cn_splicing\", mode=\"w\")"
   ]
  },
  {
   "cell_type": "markdown",
   "metadata": {},
   "source": [
    "# Splicing and expression correlations"
   ]
  },
  {
   "cell_type": "markdown",
   "metadata": {},
   "source": [
    "## RPL22L1 expression vs splicing"
   ]
  },
  {
   "cell_type": "code",
   "execution_count": null,
   "metadata": {
    "ExecuteTime": {
     "end_time": "2020-05-10T04:00:53.525814Z",
     "start_time": "2020-05-10T03:40:59.322347Z"
    }
   },
   "outputs": [],
   "source": [
    "rpl22l1_genex_splicing = gal.mat_corrs_naive(tcga_genex[\"RPL22L1_15209\"],\n",
    "                                           tcga_splicing,\n",
    "                                           method=\"spearman\",\n",
    "                                           pbar=True\n",
    "                                          )\n",
    "\n",
    "rpl22l1_genex_splicing.to_hdf(\"../data/intermediate/rpl22l1_genex_splicing.h5\",key=\"rpl22l1_genex_splicing\",mode=\"w\")"
   ]
  },
  {
   "cell_type": "code",
   "execution_count": null,
   "metadata": {
    "ExecuteTime": {
     "end_time": "2020-05-10T06:27:20.306793Z",
     "start_time": "2020-05-10T04:00:53.534797Z"
    }
   },
   "outputs": [],
   "source": [
    "rpl22l1_genex_splicing_subtyped = gal.mat_corrs_subtyped(tcga_genex[\"RPL22L1_15209\"],\n",
    "                                                         tcga_splicing,\n",
    "                                                         tcga_sample_info[\"abbreviated_disease\"],\n",
    "                                                         pbar=True,\n",
    "                                                         stack=True,\n",
    "                                                         min_count=50,\n",
    "                                                         method=\"spearman\"\n",
    "                                                         )\n",
    "\n",
    "rpl22l1_genex_splicing_subtyped.to_hdf(\"../data/intermediate/rpl22l1_genex_splicing_subtyped.h5\",\n",
    "                                       key=\"rpl22l1_genex_splicing_subtyped\",\n",
    "                                       mode=\"w\")"
   ]
  },
  {
   "cell_type": "markdown",
   "metadata": {},
   "source": [
    "## Splicing vs gene expression"
   ]
  },
  {
   "cell_type": "code",
   "execution_count": null,
   "metadata": {
    "ExecuteTime": {
     "end_time": "2020-05-10T06:29:59.449706Z",
     "start_time": "2020-05-10T06:27:20.310332Z"
    }
   },
   "outputs": [],
   "source": [
    "mdm4_splicing_genex = gal.mat_corrs_naive(tcga_splicing[\"MDM4_ENSG00000198625_ENSG00000198625.8_ES_1_204501318:204501374:204506557:204506625:204507336:204507436_204506557:204506625\"],\n",
    "                                          tcga_genex,\n",
    "                                          pbar=True,\n",
    "                                          method=\"spearman\"\n",
    "                                          )\n",
    "\n",
    "rpl22l1_splicing_genex = gal.mat_corrs_naive(tcga_splicing[\"RPL22L1_ENSG00000163584_ENSG00000163584.13_A3_3_170586086:170586168:170585801:170585923:170585801:170585990_170585923:170585990\"],\n",
    "                                             tcga_genex,\n",
    "                                             pbar=True,\n",
    "                                             method=\"spearman\"\n",
    "                                             )\n",
    "\n",
    "mdm4_splicing_genex.to_hdf(\n",
    "    \"../data/intermediate/mdm4_splicing_genex.h5\", key=\"mdm4_splicing_genex\", mode=\"w\")\n",
    "\n",
    "rpl22l1_splicing_genex.to_hdf(\n",
    "    \"../data/intermediate/rpl22l1_splicing_genex.h5\", key=\"rpl22l1_splicing_genex\", mode=\"w\")\n"
   ]
  },
  {
   "cell_type": "code",
   "execution_count": null,
   "metadata": {
    "ExecuteTime": {
     "end_time": "2020-05-10T06:55:26.182175Z",
     "start_time": "2020-05-10T06:29:59.452650Z"
    }
   },
   "outputs": [],
   "source": [
    "mdm4_splicing_genex_subtyped = gal.mat_corrs_subtyped(tcga_splicing[\"MDM4_ENSG00000198625_ENSG00000198625.8_ES_1_204501318:204501374:204506557:204506625:204507336:204507436_204506557:204506625\"],\n",
    "                                               tcga_genex,\n",
    "                                               tcga_sample_info[\"abbreviated_disease\"],\n",
    "                                               pbar=True,\n",
    "                                               stack=True,\n",
    "                                               min_count=50,\n",
    "                                               method=\"spearman\"\n",
    "                                               )\n",
    "\n",
    "rpl22l1_splicing_genex_subtyped = gal.mat_corrs_subtyped(tcga_splicing[\"RPL22L1_ENSG00000163584_ENSG00000163584.13_A3_3_170586086:170586168:170585801:170585923:170585801:170585990_170585923:170585990\"],\n",
    "                                                  tcga_genex,\n",
    "                                                  tcga_sample_info[\"abbreviated_disease\"],\n",
    "                                                  pbar=True,\n",
    "                                                  stack=True,\n",
    "                                                  min_count=50,\n",
    "                                                  method=\"spearman\"\n",
    "                                                  )\n",
    "\n",
    "mdm4_splicing_genex_subtyped.to_hdf(\n",
    "    \"../data/intermediate/mdm4_splicing_genex_subtyped.h5\", key=\"mdm4_splicing_genex_subtyped\", mode=\"w\")\n",
    "rpl22l1_splicing_genex_subtyped.to_hdf(\n",
    "    \"../data/intermediate/rpl22l1_splicing_genex_subtyped.h5\", key=\"rpl22l1_splicing_genex_subtyped\", mode=\"w\")\n"
   ]
  },
  {
   "cell_type": "markdown",
   "metadata": {},
   "source": [
    "# Co-splicing correlations"
   ]
  },
  {
   "cell_type": "code",
   "execution_count": null,
   "metadata": {
    "ExecuteTime": {
     "end_time": "2020-05-10T07:24:36.881725Z",
     "start_time": "2020-05-10T06:55:26.184500Z"
    }
   },
   "outputs": [],
   "source": [
    "mdm4_cosplicing = gal.mat_corrs_naive(tcga_splicing[\"MDM4_ENSG00000198625_ENSG00000198625.8_ES_1_204501318:204501374:204506557:204506625:204507336:204507436_204506557:204506625\"],\n",
    "                                      tcga_splicing,\n",
    "                                      pbar=True,\n",
    "                                      method=\"spearman\"\n",
    "                                      )\n",
    "\n",
    "rpl22l1_cosplicing = gal.mat_corrs_naive(tcga_splicing[\"RPL22L1_ENSG00000163584_ENSG00000163584.13_A3_3_170586086:170586168:170585801:170585923:170585801:170585990_170585923:170585990\"],\n",
    "                                         tcga_splicing,\n",
    "                                         pbar=True,\n",
    "                                         method=\"spearman\"\n",
    "                                         )\n",
    "\n",
    "mdm4_cosplicing.to_hdf(\n",
    "    \"../data/intermediate/mdm4_cosplicing.h5\", key=\"mdm4_cosplicing\", mode=\"w\")\n",
    "\n",
    "rpl22l1_cosplicing.to_hdf(\n",
    "    \"../data/intermediate/rpl22l1_cosplicing.h5\", key=\"rpl22l1_cosplicing\", mode=\"w\")"
   ]
  },
  {
   "cell_type": "code",
   "execution_count": null,
   "metadata": {
    "ExecuteTime": {
     "end_time": "2020-05-10T10:45:53.402250Z",
     "start_time": "2020-05-10T07:24:36.888107Z"
    }
   },
   "outputs": [],
   "source": [
    "mdm4_cosplicing_subtyped = gal.mat_corrs_subtyped(tcga_splicing[\"MDM4_ENSG00000198625_ENSG00000198625.8_ES_1_204501318:204501374:204506557:204506625:204507336:204507436_204506557:204506625\"],\n",
    "                                                  tcga_splicing,\n",
    "                                                  tcga_sample_info[\"abbreviated_disease\"],\n",
    "                                                  pbar=True,\n",
    "                                                  stack=True,\n",
    "                                                  min_count=50,\n",
    "                                                  method=\"spearman\"\n",
    "                                                  )\n",
    "\n",
    "rpl22l1_cosplicing_subtyped = gal.mat_corrs_subtyped(tcga_splicing[\"RPL22L1_ENSG00000163584_ENSG00000163584.13_A3_3_170586086:170586168:170585801:170585923:170585801:170585990_170585923:170585990\"],\n",
    "                                                     tcga_splicing,\n",
    "                                                     tcga_sample_info[\"abbreviated_disease\"],\n",
    "                                                     pbar=True,\n",
    "                                                     stack=True,\n",
    "                                                     min_count=50,\n",
    "                                                     method=\"spearman\"\n",
    "                                                     )\n",
    "\n",
    "mdm4_cosplicing_subtyped.to_hdf(\n",
    "    \"../data/intermediate/mdm4_cosplicing_subtyped.h5\", key=\"mdm4_cosplicing_subtyped\", mode=\"w\")\n",
    "rpl22l1_cosplicing_subtyped.to_hdf(\n",
    "    \"../data/intermediate/rpl22l1_cosplicing_subtyped.h5\", key=\"rpl22l1_cosplicing_subtyped\", mode=\"w\")"
   ]
  },
  {
   "cell_type": "markdown",
   "metadata": {},
   "source": [
    "# Mutation correlations"
   ]
  },
  {
   "cell_type": "markdown",
   "metadata": {},
   "source": [
    "## Mutations vs MDM4 splicing"
   ]
  },
  {
   "cell_type": "code",
   "execution_count": 10,
   "metadata": {
    "ExecuteTime": {
     "end_time": "2020-06-09T18:19:47.174259Z",
     "start_time": "2020-06-09T18:19:32.169360Z"
    }
   },
   "outputs": [
    {
     "data": {
      "application/vnd.jupyter.widget-view+json": {
       "model_id": "42995f3c26004bf2a1ead450c7fdeb9a",
       "version_major": 2,
       "version_minor": 0
      },
      "text/plain": [
       "HBox(children=(FloatProgress(value=0.0, max=6507.0), HTML(value='')))"
      ]
     },
     "metadata": {},
     "output_type": "display_data"
    },
    {
     "name": "stdout",
     "output_type": "stream",
     "text": [
      "\n"
     ]
    }
   ],
   "source": [
    "mdm4_splicing_mutations = gal.mat_mwus_naive(tcga_splicing[\"MDM4_ENSG00000198625_ENSG00000198625.8_ES_1_204501318:204501374:204506557:204506625:204507336:204507436_204506557:204506625\"],\n",
    "                                             tcga_mut_mat,\n",
    "                                             pbar=True\n",
    "                                             )\n",
    "\n",
    "mdm4_splicing_mutations.to_hdf(\n",
    "    \"../data/intermediate/mdm4_splicing_mutations.h5\", key=\"mdm4_splicing_mutations\", mode=\"w\")"
   ]
  },
  {
   "cell_type": "markdown",
   "metadata": {},
   "source": [
    "# RPL22 mutation correlations"
   ]
  },
  {
   "cell_type": "markdown",
   "metadata": {},
   "source": [
    "## Overall"
   ]
  },
  {
   "cell_type": "code",
   "execution_count": null,
   "metadata": {
    "ExecuteTime": {
     "end_time": "2020-05-13T20:26:29.961976Z",
     "start_time": "2020-05-13T20:16:45.154366Z"
    }
   },
   "outputs": [],
   "source": [
    "rpl22_msi_splicing = gal.mat_mwus_naive(tcga_splicing, msi_pos[\"rpl22mut.mc3.k15\"], pbar=True)"
   ]
  },
  {
   "cell_type": "code",
   "execution_count": null,
   "metadata": {
    "ExecuteTime": {
     "end_time": "2020-05-13T20:28:13.434994Z",
     "start_time": "2020-05-13T20:28:12.459927Z"
    }
   },
   "outputs": [],
   "source": [
    "subset = rpl22_msi_splicing[rpl22_msi_splicing[\"pos_n\"]>=10]\n",
    "subset = subset[subset[\"neg_n\"]>=10]\n",
    "\n",
    "plt.scatter(subset[\"corr\"],subset[\"qval\"])"
   ]
  },
  {
   "cell_type": "code",
   "execution_count": null,
   "metadata": {
    "ExecuteTime": {
     "end_time": "2020-05-13T20:36:41.934592Z",
     "start_time": "2020-05-13T20:36:39.093429Z"
    }
   },
   "outputs": [],
   "source": [
    "labels = pd.Series(subset.index.map(\n",
    "            lambda x: x.split(\"_\")[0]), index=subset.index)\n",
    "\n",
    "plt.figure(figsize=(3,4))\n",
    "ax = plt.subplot(111)\n",
    "\n",
    "huy.dense_plot(subset[\"corr\"],\n",
    "               subset[\"qval\"],\n",
    "               labels_mask=subset[\"qval\"] > 3,\n",
    "               labels=labels,\n",
    "               adjust=False,\n",
    "               ax=ax,\n",
    "               c=\"black\"\n",
    "               )\n",
    "\n",
    "plt.xlabel(\"Correlation with RPL22 k15fs\")\n",
    "plt.ylabel(\"-log10(q-value)\")\n",
    "\n",
    "plt.savefig(\"../plots/TCGA-MSI_RPL22_truncated_splicing.pdf\",dpi=512,transparent=True,bbox_inches=\"tight\")"
   ]
  },
  {
   "cell_type": "code",
   "execution_count": null,
   "metadata": {
    "ExecuteTime": {
     "end_time": "2020-05-13T21:06:48.706360Z",
     "start_time": "2020-05-13T21:06:48.678481Z"
    }
   },
   "outputs": [],
   "source": [
    "tcga_sample_info = pd.read_hdf(\"../../data/processed/TCGA/tcga_sample_info.hdf\",key=\"tcga_sample_info\")"
   ]
  },
  {
   "cell_type": "code",
   "execution_count": null,
   "metadata": {
    "ExecuteTime": {
     "end_time": "2020-05-13T19:57:11.550208Z",
     "start_time": "2020-05-13T19:57:11.144501Z"
    }
   },
   "outputs": [],
   "source": [
    "t2g = pd.read_csv(\"../data/intermediate/sleuth_diff/ensembl_t2g.csv\")\n",
    "t2g[\"format_gene_id\"] = t2g[\"hgnc_gene\"].fillna(\"\") + \"_\" + t2g[\"ens_gene\"]\n",
    "\n",
    "format_gene_map = dict(zip(t2g[\"ens_gene\"],t2g[\"format_gene_id\"]))"
   ]
  },
  {
   "cell_type": "code",
   "execution_count": null,
   "metadata": {
    "ExecuteTime": {
     "end_time": "2020-05-13T19:58:39.314317Z",
     "start_time": "2020-05-13T19:58:38.245702Z"
    }
   },
   "outputs": [],
   "source": [
    "import matplotlib.pyplot as plt\n",
    "plt.scatter(rpl22_mut_splicing[\"corr\"],rpl22_mut_splicing[\"qval\"])"
   ]
  }
 ],
 "metadata": {
  "kernelspec": {
   "display_name": "Python 3",
   "language": "python",
   "name": "python3"
  },
  "language_info": {
   "codemirror_mode": {
    "name": "ipython",
    "version": 3
   },
   "file_extension": ".py",
   "mimetype": "text/x-python",
   "name": "python",
   "nbconvert_exporter": "python",
   "pygments_lexer": "ipython3",
   "version": "3.7.7"
  },
  "toc": {
   "base_numbering": 1,
   "nav_menu": {},
   "number_sections": true,
   "sideBar": true,
   "skip_h1_title": false,
   "title_cell": "Table of Contents",
   "title_sidebar": "Contents",
   "toc_cell": false,
   "toc_position": {},
   "toc_section_display": true,
   "toc_window_display": true
  }
 },
 "nbformat": 4,
 "nbformat_minor": 2
}
