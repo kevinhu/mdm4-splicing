{
 "cells": [
  {
   "cell_type": "code",
   "execution_count": 2,
   "metadata": {
    "ExecuteTime": {
     "end_time": "2020-05-13T19:31:39.569208Z",
     "start_time": "2020-05-13T19:31:38.317686Z"
    }
   },
   "outputs": [],
   "source": [
    "import pandas as pd\n",
    "import numpy as np\n",
    "from functools import reduce\n",
    "\n",
    "import seaborn as sns\n",
    "\n",
    "import sys\n",
    "import os\n",
    "\n",
    "sys.path.append(os.path.relpath(\"../../huygens\"))\n",
    "sys.path.append(os.path.relpath(\"../../galileo\"))\n",
    "\n",
    "import galileo as gal\n",
    "import huygens as huy"
   ]
  },
  {
   "cell_type": "code",
   "execution_count": 3,
   "metadata": {
    "ExecuteTime": {
     "end_time": "2020-05-13T19:31:43.324248Z",
     "start_time": "2020-05-13T19:31:43.320353Z"
    }
   },
   "outputs": [],
   "source": [
    "def concat_cols(df, cols, delim):\n",
    "    cols_str = [df[x].astype(str) for x in cols]\n",
    "\n",
    "    return reduce(lambda a, b: a + delim + b, cols_str)"
   ]
  },
  {
   "cell_type": "code",
   "execution_count": 4,
   "metadata": {
    "ExecuteTime": {
     "end_time": "2020-05-13T19:31:45.659683Z",
     "start_time": "2020-05-13T19:31:44.064728Z"
    }
   },
   "outputs": [],
   "source": [
    "tcga_genex = pd.read_hdf(\"../../data/processed/TCGA/TCGA_genex_norm.h5\",key=\"tcga_genex\")\n",
    "\n",
    "normal_genex = tcga_genex[tcga_genex.index.map(lambda x: x[-2:] == \"11\")]\n",
    "\n",
    "tcga_genex = tcga_genex[tcga_genex.index.map(lambda x: x[-2:] != \"11\")]"
   ]
  },
  {
   "cell_type": "code",
   "execution_count": 33,
   "metadata": {
    "ExecuteTime": {
     "end_time": "2020-05-13T20:15:15.720199Z",
     "start_time": "2020-05-13T20:14:53.660419Z"
    }
   },
   "outputs": [],
   "source": [
    "tcga_splicing = pd.read_hdf(\"../../data/processed/TCGA/merged.h5\",key=\"tcga_splicing\")\n",
    "\n",
    "\n",
    "tcga_splicing.index = tcga_splicing.index.map(lambda x: x[:15])\n",
    "\n",
    "tcga_splicing = tcga_splicing[~tcga_splicing.index.duplicated(keep=\"first\")]\n",
    "\n",
    "tcga_splicing = tcga_splicing[tcga_splicing.index.map(lambda x: x[-2:] != \"11\")]"
   ]
  },
  {
   "cell_type": "markdown",
   "metadata": {},
   "source": [
    "# RPL22 CN vs splicing"
   ]
  },
  {
   "cell_type": "code",
   "execution_count": 20,
   "metadata": {
    "ExecuteTime": {
     "end_time": "2020-05-10T03:12:20.660308Z",
     "start_time": "2020-05-10T03:12:18.438976Z"
    }
   },
   "outputs": [],
   "source": [
    "tcga_cn = pd.read_hdf(\"../../data/processed/TCGA/tcga_cn.hdf\", key=\"tcga_cn\")\n",
    "tcga_cn = tcga_cn[tcga_cn.index.map(lambda x: x[-2:] != \"11\")]"
   ]
  },
  {
   "cell_type": "code",
   "execution_count": 26,
   "metadata": {
    "ExecuteTime": {
     "end_time": "2020-05-10T03:40:59.315303Z",
     "start_time": "2020-05-10T03:21:42.132470Z"
    }
   },
   "outputs": [
    {
     "data": {
      "application/vnd.jupyter.widget-view+json": {
       "model_id": "7ffce2d34840442eaec2f1e1e6ec39f9",
       "version_major": 2,
       "version_minor": 0
      },
      "text/plain": [
       "HBox(children=(IntProgress(value=0, max=146647), HTML(value='')))"
      ]
     },
     "metadata": {},
     "output_type": "display_data"
    },
    {
     "name": "stderr",
     "output_type": "stream",
     "text": [
      "/Users/khu/anaconda3/envs/cenv/lib/python3.7/site-packages/numpy/lib/function_base.py:2534: RuntimeWarning: invalid value encountered in true_divide\n",
      "  c /= stddev[:, None]\n",
      "/Users/khu/anaconda3/envs/cenv/lib/python3.7/site-packages/numpy/lib/function_base.py:2535: RuntimeWarning: invalid value encountered in true_divide\n",
      "  c /= stddev[None, :]\n",
      "/Users/khu/anaconda3/envs/cenv/lib/python3.7/site-packages/scipy/stats/_distn_infrastructure.py:903: RuntimeWarning: invalid value encountered in greater\n",
      "  return (a < x) & (x < b)\n",
      "/Users/khu/anaconda3/envs/cenv/lib/python3.7/site-packages/scipy/stats/_distn_infrastructure.py:903: RuntimeWarning: invalid value encountered in less\n",
      "  return (a < x) & (x < b)\n",
      "/Users/khu/anaconda3/envs/cenv/lib/python3.7/site-packages/scipy/stats/_distn_infrastructure.py:1912: RuntimeWarning: invalid value encountered in less_equal\n",
      "  cond2 = cond0 & (x <= _a)\n"
     ]
    },
    {
     "name": "stdout",
     "output_type": "stream",
     "text": [
      "\n"
     ]
    }
   ],
   "source": [
    "rpl22_cn_splicing = gal.mat_corrs_naive(\n",
    "    tcga_cn[\"RPL22\"], tcga_splicing, method=\"spearman\",pbar=True)\n",
    "\n",
    "rpl22_cn_splicing.to_hdf(\n",
    "    \"../data/intermediate/rpl22_cn_splicing.h5\", key=\"rpl22_cn_splicing\", mode=\"w\")"
   ]
  },
  {
   "cell_type": "markdown",
   "metadata": {},
   "source": [
    "# Splicing and expression correlations"
   ]
  },
  {
   "cell_type": "markdown",
   "metadata": {},
   "source": [
    "## RPL22L1 expression vs splicing"
   ]
  },
  {
   "cell_type": "code",
   "execution_count": 27,
   "metadata": {
    "ExecuteTime": {
     "end_time": "2020-05-10T04:00:53.525814Z",
     "start_time": "2020-05-10T03:40:59.322347Z"
    }
   },
   "outputs": [
    {
     "data": {
      "application/vnd.jupyter.widget-view+json": {
       "model_id": "e617639c4bda46fa9c71b48cb8664196",
       "version_major": 2,
       "version_minor": 0
      },
      "text/plain": [
       "HBox(children=(IntProgress(value=0, max=146647), HTML(value='')))"
      ]
     },
     "metadata": {},
     "output_type": "display_data"
    },
    {
     "name": "stdout",
     "output_type": "stream",
     "text": [
      "\n"
     ]
    }
   ],
   "source": [
    "rpl22l1_genex_splicing = gal.mat_corrs_naive(tcga_genex[\"RPL22L1_15209\"],\n",
    "                                           tcga_splicing,\n",
    "                                           method=\"spearman\",\n",
    "                                           pbar=True\n",
    "                                          )\n",
    "\n",
    "rpl22l1_genex_splicing.to_hdf(\"../data/intermediate/rpl22l1_genex_splicing.h5\",key=\"rpl22l1_genex_splicing\",mode=\"w\")"
   ]
  },
  {
   "cell_type": "code",
   "execution_count": 28,
   "metadata": {
    "ExecuteTime": {
     "end_time": "2020-05-10T06:27:20.306793Z",
     "start_time": "2020-05-10T04:00:53.534797Z"
    }
   },
   "outputs": [
    {
     "data": {
      "application/vnd.jupyter.widget-view+json": {
       "model_id": "c43bfe7815a34a129560ac1031ee1bfa",
       "version_major": 2,
       "version_minor": 0
      },
      "text/plain": [
       "HBox(children=(IntProgress(value=0, max=30), HTML(value='')))"
      ]
     },
     "metadata": {},
     "output_type": "display_data"
    },
    {
     "name": "stdout",
     "output_type": "stream",
     "text": [
      "\n"
     ]
    }
   ],
   "source": [
    "rpl22l1_genex_splicing_subtyped = gal.mat_corrs_subtyped(tcga_genex[\"RPL22L1_15209\"],\n",
    "                                                         tcga_splicing,\n",
    "                                                         tcga_sample_info[\"abbreviated_disease\"],\n",
    "                                                         pbar=True,\n",
    "                                                         stack=True,\n",
    "                                                         min_count=50,\n",
    "                                                         method=\"spearman\"\n",
    "                                                         )\n",
    "\n",
    "rpl22l1_genex_splicing_subtyped.to_hdf(\"../data/intermediate/rpl22l1_genex_splicing_subtyped.h5\",\n",
    "                                       key=\"rpl22l1_genex_splicing_subtyped\",\n",
    "                                       mode=\"w\")"
   ]
  },
  {
   "cell_type": "markdown",
   "metadata": {},
   "source": [
    "## Splicing vs gene expression"
   ]
  },
  {
   "cell_type": "code",
   "execution_count": 29,
   "metadata": {
    "ExecuteTime": {
     "end_time": "2020-05-10T06:29:59.449706Z",
     "start_time": "2020-05-10T06:27:20.310332Z"
    }
   },
   "outputs": [
    {
     "data": {
      "application/vnd.jupyter.widget-view+json": {
       "model_id": "cb52c0b3092642f2bc7c3ce476eb55b5",
       "version_major": 2,
       "version_minor": 0
      },
      "text/plain": [
       "HBox(children=(IntProgress(value=0, max=20531), HTML(value='')))"
      ]
     },
     "metadata": {},
     "output_type": "display_data"
    },
    {
     "name": "stdout",
     "output_type": "stream",
     "text": [
      "\n"
     ]
    },
    {
     "data": {
      "application/vnd.jupyter.widget-view+json": {
       "model_id": "eacbb2d721e646ccb64e66c6baf4817b",
       "version_major": 2,
       "version_minor": 0
      },
      "text/plain": [
       "HBox(children=(IntProgress(value=0, max=20531), HTML(value='')))"
      ]
     },
     "metadata": {},
     "output_type": "display_data"
    },
    {
     "name": "stdout",
     "output_type": "stream",
     "text": [
      "\n"
     ]
    }
   ],
   "source": [
    "mdm4_splicing_genex = gal.mat_corrs_naive(tcga_splicing[\"MDM4_ENSG00000198625_ENSG00000198625.8_ES_1_204501318:204501374:204506557:204506625:204507336:204507436_204506557:204506625\"],\n",
    "                                          tcga_genex,\n",
    "                                          pbar=True,\n",
    "                                          method=\"spearman\"\n",
    "                                          )\n",
    "\n",
    "rpl22l1_splicing_genex = gal.mat_corrs_naive(tcga_splicing[\"RPL22L1_ENSG00000163584_ENSG00000163584.13_A3_3_170586086:170586168:170585801:170585923:170585801:170585990_170585923:170585990\"],\n",
    "                                             tcga_genex,\n",
    "                                             pbar=True,\n",
    "                                             method=\"spearman\"\n",
    "                                             )\n",
    "\n",
    "mdm4_splicing_genex.to_hdf(\n",
    "    \"../data/intermediate/mdm4_splicing_genex.h5\", key=\"mdm4_splicing_genex\", mode=\"w\")\n",
    "\n",
    "rpl22l1_splicing_genex.to_hdf(\n",
    "    \"../data/intermediate/rpl22l1_splicing_genex.h5\", key=\"rpl22l1_splicing_genex\", mode=\"w\")\n"
   ]
  },
  {
   "cell_type": "code",
   "execution_count": 30,
   "metadata": {
    "ExecuteTime": {
     "end_time": "2020-05-10T06:55:26.182175Z",
     "start_time": "2020-05-10T06:29:59.452650Z"
    }
   },
   "outputs": [
    {
     "data": {
      "application/vnd.jupyter.widget-view+json": {
       "model_id": "bd7a1ba365c0419284ed59ff26c8b906",
       "version_major": 2,
       "version_minor": 0
      },
      "text/plain": [
       "HBox(children=(IntProgress(value=0, max=13), HTML(value='')))"
      ]
     },
     "metadata": {},
     "output_type": "display_data"
    },
    {
     "name": "stdout",
     "output_type": "stream",
     "text": [
      "\n"
     ]
    },
    {
     "data": {
      "application/vnd.jupyter.widget-view+json": {
       "model_id": "ee293f47debc40c6b9cec479eb1e98d8",
       "version_major": 2,
       "version_minor": 0
      },
      "text/plain": [
       "HBox(children=(IntProgress(value=0, max=30), HTML(value='')))"
      ]
     },
     "metadata": {},
     "output_type": "display_data"
    },
    {
     "name": "stdout",
     "output_type": "stream",
     "text": [
      "\n"
     ]
    }
   ],
   "source": [
    "mdm4_splicing_genex_subtyped = gal.mat_corrs_subtyped(tcga_splicing[\"MDM4_ENSG00000198625_ENSG00000198625.8_ES_1_204501318:204501374:204506557:204506625:204507336:204507436_204506557:204506625\"],\n",
    "                                               tcga_genex,\n",
    "                                               tcga_sample_info[\"abbreviated_disease\"],\n",
    "                                               pbar=True,\n",
    "                                               stack=True,\n",
    "                                               min_count=50,\n",
    "                                               method=\"spearman\"\n",
    "                                               )\n",
    "\n",
    "rpl22l1_splicing_genex_subtyped = gal.mat_corrs_subtyped(tcga_splicing[\"RPL22L1_ENSG00000163584_ENSG00000163584.13_A3_3_170586086:170586168:170585801:170585923:170585801:170585990_170585923:170585990\"],\n",
    "                                                  tcga_genex,\n",
    "                                                  tcga_sample_info[\"abbreviated_disease\"],\n",
    "                                                  pbar=True,\n",
    "                                                  stack=True,\n",
    "                                                  min_count=50,\n",
    "                                                  method=\"spearman\"\n",
    "                                                  )\n",
    "\n",
    "mdm4_splicing_genex_subtyped.to_hdf(\n",
    "    \"../data/intermediate/mdm4_splicing_genex_subtyped.h5\", key=\"mdm4_splicing_genex_subtyped\", mode=\"w\")\n",
    "rpl22l1_splicing_genex_subtyped.to_hdf(\n",
    "    \"../data/intermediate/rpl22l1_splicing_genex_subtyped.h5\", key=\"rpl22l1_splicing_genex_subtyped\", mode=\"w\")\n"
   ]
  },
  {
   "cell_type": "markdown",
   "metadata": {},
   "source": [
    "# Co-splicing correlations"
   ]
  },
  {
   "cell_type": "code",
   "execution_count": 31,
   "metadata": {
    "ExecuteTime": {
     "end_time": "2020-05-10T07:24:36.881725Z",
     "start_time": "2020-05-10T06:55:26.184500Z"
    }
   },
   "outputs": [
    {
     "data": {
      "application/vnd.jupyter.widget-view+json": {
       "model_id": "fa8a9807f3064270a0689225877f22b6",
       "version_major": 2,
       "version_minor": 0
      },
      "text/plain": [
       "HBox(children=(IntProgress(value=0, max=146647), HTML(value='')))"
      ]
     },
     "metadata": {},
     "output_type": "display_data"
    },
    {
     "name": "stdout",
     "output_type": "stream",
     "text": [
      "\n"
     ]
    },
    {
     "data": {
      "application/vnd.jupyter.widget-view+json": {
       "model_id": "499f2b21984146f488ae5a0b9fcd66d2",
       "version_major": 2,
       "version_minor": 0
      },
      "text/plain": [
       "HBox(children=(IntProgress(value=0, max=146647), HTML(value='')))"
      ]
     },
     "metadata": {},
     "output_type": "display_data"
    },
    {
     "name": "stdout",
     "output_type": "stream",
     "text": [
      "\n"
     ]
    }
   ],
   "source": [
    "mdm4_cosplicing = gal.mat_corrs_naive(tcga_splicing[\"MDM4_ENSG00000198625_ENSG00000198625.8_ES_1_204501318:204501374:204506557:204506625:204507336:204507436_204506557:204506625\"],\n",
    "                                      tcga_splicing,\n",
    "                                      pbar=True,\n",
    "                                      method=\"spearman\"\n",
    "                                      )\n",
    "\n",
    "rpl22l1_cosplicing = gal.mat_corrs_naive(tcga_splicing[\"RPL22L1_ENSG00000163584_ENSG00000163584.13_A3_3_170586086:170586168:170585801:170585923:170585801:170585990_170585923:170585990\"],\n",
    "                                         tcga_splicing,\n",
    "                                         pbar=True,\n",
    "                                         method=\"spearman\"\n",
    "                                         )\n",
    "\n",
    "mdm4_cosplicing.to_hdf(\n",
    "    \"../data/intermediate/mdm4_cosplicing.h5\", key=\"mdm4_cosplicing\", mode=\"w\")\n",
    "\n",
    "rpl22l1_cosplicing.to_hdf(\n",
    "    \"../data/intermediate/rpl22l1_cosplicing.h5\", key=\"rpl22l1_cosplicing\", mode=\"w\")"
   ]
  },
  {
   "cell_type": "code",
   "execution_count": 32,
   "metadata": {
    "ExecuteTime": {
     "end_time": "2020-05-10T10:45:53.402250Z",
     "start_time": "2020-05-10T07:24:36.888107Z"
    }
   },
   "outputs": [
    {
     "data": {
      "application/vnd.jupyter.widget-view+json": {
       "model_id": "f3a01dbd9327400aaacb9ee86e926ade",
       "version_major": 2,
       "version_minor": 0
      },
      "text/plain": [
       "HBox(children=(IntProgress(value=0, max=13), HTML(value='')))"
      ]
     },
     "metadata": {},
     "output_type": "display_data"
    },
    {
     "name": "stdout",
     "output_type": "stream",
     "text": [
      "\n"
     ]
    },
    {
     "data": {
      "application/vnd.jupyter.widget-view+json": {
       "model_id": "7b6825024bea473aa482bf22ea235c1b",
       "version_major": 2,
       "version_minor": 0
      },
      "text/plain": [
       "HBox(children=(IntProgress(value=0, max=30), HTML(value='')))"
      ]
     },
     "metadata": {},
     "output_type": "display_data"
    },
    {
     "name": "stdout",
     "output_type": "stream",
     "text": [
      "\n"
     ]
    }
   ],
   "source": [
    "mdm4_cosplicing_subtyped = gal.mat_corrs_subtyped(tcga_splicing[\"MDM4_ENSG00000198625_ENSG00000198625.8_ES_1_204501318:204501374:204506557:204506625:204507336:204507436_204506557:204506625\"],\n",
    "                                                  tcga_splicing,\n",
    "                                                  tcga_sample_info[\"abbreviated_disease\"],\n",
    "                                                  pbar=True,\n",
    "                                                  stack=True,\n",
    "                                                  min_count=50,\n",
    "                                                  method=\"spearman\"\n",
    "                                                  )\n",
    "\n",
    "rpl22l1_cosplicing_subtyped = gal.mat_corrs_subtyped(tcga_splicing[\"RPL22L1_ENSG00000163584_ENSG00000163584.13_A3_3_170586086:170586168:170585801:170585923:170585801:170585990_170585923:170585990\"],\n",
    "                                                     tcga_splicing,\n",
    "                                                     tcga_sample_info[\"abbreviated_disease\"],\n",
    "                                                     pbar=True,\n",
    "                                                     stack=True,\n",
    "                                                     min_count=50,\n",
    "                                                     method=\"spearman\"\n",
    "                                                     )\n",
    "\n",
    "mdm4_cosplicing_subtyped.to_hdf(\n",
    "    \"../data/intermediate/mdm4_cosplicing_subtyped.h5\", key=\"mdm4_cosplicing_subtyped\", mode=\"w\")\n",
    "rpl22l1_cosplicing_subtyped.to_hdf(\n",
    "    \"../data/intermediate/rpl22l1_cosplicing_subtyped.h5\", key=\"rpl22l1_cosplicing_subtyped\", mode=\"w\")"
   ]
  },
  {
   "cell_type": "markdown",
   "metadata": {},
   "source": [
    "# RPL22 mutation correlations"
   ]
  },
  {
   "cell_type": "code",
   "execution_count": 6,
   "metadata": {
    "ExecuteTime": {
     "end_time": "2020-05-13T19:32:23.474951Z",
     "start_time": "2020-05-13T19:32:23.416143Z"
    }
   },
   "outputs": [],
   "source": [
    "rpl22_tcga = pd.read_csv(\"../data/raw/rpl22.tcga.data.csv\")\n",
    "\n",
    "rpl22_tcga = rpl22_tcga.dropna(subset=[\"sampleid\"])\n",
    "rpl22_tcga = rpl22_tcga.set_index(\"sampleid\")\n",
    "rpl22_tcga.index = rpl22_tcga.index.map(lambda x: x[:15])\n",
    "\n",
    "rpl22_mut = rpl22_tcga[\"rpl22mut.mc3.k15\"].dropna()"
   ]
  },
  {
   "cell_type": "code",
   "execution_count": 43,
   "metadata": {
    "ExecuteTime": {
     "end_time": "2020-05-13T20:32:15.835280Z",
     "start_time": "2020-05-13T20:32:15.686431Z"
    }
   },
   "outputs": [
    {
     "name": "stdout",
     "output_type": "stream",
     "text": [
      "Odds ratio: 471.5365579302587\n",
      "P-value: 2.8051187737877797e-277\n"
     ]
    },
    {
     "data": {
      "text/plain": [
       "<matplotlib.axes._subplots.AxesSubplot at 0x12b9d91d0>"
      ]
     },
     "execution_count": 43,
     "metadata": {},
     "output_type": "execute_result"
    },
    {
     "data": {
      "image/png": "[encoded data removed]",
      "text/plain": [
       "<Figure size 288x288 with 1 Axes>"
      ]
     },
     "metadata": {
      "needs_background": "light"
     },
     "output_type": "display_data"
    }
   ],
   "source": [
    "huy.binary_contingency(rpl22_tcga[\"msi_inferred\"],rpl22_tcga[\"rpl22mut.mc3.k15\"])"
   ]
  },
  {
   "cell_type": "markdown",
   "metadata": {},
   "source": [
    "## Overall"
   ]
  },
  {
   "cell_type": "code",
   "execution_count": 36,
   "metadata": {
    "ExecuteTime": {
     "end_time": "2020-05-13T20:26:29.961976Z",
     "start_time": "2020-05-13T20:16:45.154366Z"
    }
   },
   "outputs": [
    {
     "data": {
      "application/vnd.jupyter.widget-view+json": {
       "model_id": "8cbd948431ea46dcaa60439361184981",
       "version_major": 2,
       "version_minor": 0
      },
      "text/plain": [
       "HBox(children=(IntProgress(value=0, max=146647), HTML(value='')))"
      ]
     },
     "metadata": {},
     "output_type": "display_data"
    },
    {
     "name": "stdout",
     "output_type": "stream",
     "text": [
      "\n"
     ]
    }
   ],
   "source": [
    "rpl22_msi_splicing = gal.mat_mwus_naive(tcga_splicing, msi_pos[\"rpl22mut.mc3.k15\"], pbar=True)"
   ]
  },
  {
   "cell_type": "code",
   "execution_count": 40,
   "metadata": {
    "ExecuteTime": {
     "end_time": "2020-05-13T20:28:13.434994Z",
     "start_time": "2020-05-13T20:28:12.459927Z"
    }
   },
   "outputs": [
    {
     "data": {
      "text/plain": [
       "<matplotlib.collections.PathCollection at 0x12b0fc0d0>"
      ]
     },
     "execution_count": 40,
     "metadata": {},
     "output_type": "execute_result"
    },
    {
     "data": {
      "image/png": "[encoded data removed]",
      "text/plain": [
       "<Figure size 432x288 with 1 Axes>"
      ]
     },
     "metadata": {
      "needs_background": "light"
     },
     "output_type": "display_data"
    }
   ],
   "source": [
    "subset = rpl22_msi_splicing[rpl22_msi_splicing[\"pos_n\"]>=10]\n",
    "subset = subset[subset[\"neg_n\"]>=10]\n",
    "\n",
    "plt.scatter(subset[\"corr\"],subset[\"qval\"])"
   ]
  },
  {
   "cell_type": "code",
   "execution_count": 49,
   "metadata": {
    "ExecuteTime": {
     "end_time": "2020-05-13T20:36:41.934592Z",
     "start_time": "2020-05-13T20:36:39.093429Z"
    }
   },
   "outputs": [
    {
     "data": {
      "image/png": "[encoded data removed]",
      "text/plain": [
       "<Figure size 216x288 with 1 Axes>"
      ]
     },
     "metadata": {
      "needs_background": "light"
     },
     "output_type": "display_data"
    }
   ],
   "source": [
    "labels = pd.Series(subset.index.map(\n",
    "            lambda x: x.split(\"_\")[0]), index=subset.index)\n",
    "\n",
    "plt.figure(figsize=(3,4))\n",
    "ax = plt.subplot(111)\n",
    "\n",
    "huy.dense_plot(subset[\"corr\"],\n",
    "               subset[\"qval\"],\n",
    "               labels_mask=subset[\"qval\"] > 3,\n",
    "               labels=labels,\n",
    "               adjust=False,\n",
    "               ax=ax,\n",
    "               c=\"black\"\n",
    "               )\n",
    "\n",
    "plt.xlabel(\"Correlation with RPL22 k15fs\")\n",
    "plt.ylabel(\"-log10(q-value)\")\n",
    "\n",
    "plt.savefig(\"../plots/TCGA-MSI_RPL22_truncated_splicing.pdf\",dpi=512,transparent=True,bbox_inches=\"tight\")"
   ]
  },
  {
   "cell_type": "code",
   "execution_count": 52,
   "metadata": {
    "ExecuteTime": {
     "end_time": "2020-05-13T21:06:48.706360Z",
     "start_time": "2020-05-13T21:06:48.678481Z"
    }
   },
   "outputs": [],
   "source": [
    "tcga_sample_info = pd.read_hdf(\"../../data/processed/TCGA/tcga_sample_info.hdf\",key=\"tcga_sample_info\")"
   ]
  },
  {
   "cell_type": "code",
   "execution_count": 41,
   "metadata": {
    "ExecuteTime": {
     "end_time": "2020-05-13T20:29:05.867072Z",
     "start_time": "2020-05-13T20:29:05.847622Z"
    }
   },
   "outputs": [
    {
     "data": {
      "text/html": [
       "<div>\n",
       "<style scoped>\n",
       "    .dataframe tbody tr th:only-of-type {\n",
       "        vertical-align: middle;\n",
       "    }\n",
       "\n",
       "    .dataframe tbody tr th {\n",
       "        vertical-align: top;\n",
       "    }\n",
       "\n",
       "    .dataframe thead th {\n",
       "        text-align: right;\n",
       "    }\n",
       "</style>\n",
       "<table border=\"1\" class=\"dataframe\">\n",
       "  <thead>\n",
       "    <tr style=\"text-align: right;\">\n",
       "      <th></th>\n",
       "      <th>corr</th>\n",
       "      <th>pval</th>\n",
       "      <th>pos_n</th>\n",
       "      <th>neg_n</th>\n",
       "      <th>qval</th>\n",
       "    </tr>\n",
       "  </thead>\n",
       "  <tbody>\n",
       "    <tr>\n",
       "      <th>RPL22L1_ENSG00000163584_ENSG00000163584.13_A3_3_170586086:170586168:170585801:170585923:170585801:170585990_170585923:170585990</th>\n",
       "      <td>0.696643</td>\n",
       "      <td>17.013234</td>\n",
       "      <td>124.0</td>\n",
       "      <td>86.0</td>\n",
       "      <td>11.848304</td>\n",
       "    </tr>\n",
       "    <tr>\n",
       "      <th>MDM4_ENSG00000198625_ENSG00000198625.8_ES_1_204501318:204501374:204506557:204506625:204507336:204507436_204506557:204506625</th>\n",
       "      <td>0.775063</td>\n",
       "      <td>8.126172</td>\n",
       "      <td>57.0</td>\n",
       "      <td>28.0</td>\n",
       "      <td>3.262273</td>\n",
       "    </tr>\n",
       "    <tr>\n",
       "      <th>LIN37_ENSG00000267796_ENSG00000267796.3_A5_19_36244917:36245058:36243987:36244094:36243987:36244154_36244094:36244154</th>\n",
       "      <td>-0.429450</td>\n",
       "      <td>6.794241</td>\n",
       "      <td>122.0</td>\n",
       "      <td>84.0</td>\n",
       "      <td>2.106433</td>\n",
       "    </tr>\n",
       "    <tr>\n",
       "      <th>HNRNPH1_ENSG00000169045_ENSG00000169045.13_A5_5_179050144:179050165:179050636:179050647:179050595:179050647_179050595:179050636</th>\n",
       "      <td>0.416043</td>\n",
       "      <td>6.419333</td>\n",
       "      <td>121.0</td>\n",
       "      <td>85.0</td>\n",
       "      <td>1.961030</td>\n",
       "    </tr>\n",
       "    <tr>\n",
       "      <th>RECQL4_ENSG00000160957_ENSG00000160957.8_IR_8_145736666:145738521:145738799:145738864_145738521:145738799</th>\n",
       "      <td>-0.421178</td>\n",
       "      <td>6.351965</td>\n",
       "      <td>121.0</td>\n",
       "      <td>80.0</td>\n",
       "      <td>1.961030</td>\n",
       "    </tr>\n",
       "    <tr>\n",
       "      <th>PRKDC_ENSG00000253729_ENSG00000253729.3_IR_8_48805699:48805814:48805816:48805947_48805814:48805816</th>\n",
       "      <td>0.502767</td>\n",
       "      <td>6.257374</td>\n",
       "      <td>87.0</td>\n",
       "      <td>54.0</td>\n",
       "      <td>1.961030</td>\n",
       "    </tr>\n",
       "    <tr>\n",
       "      <th>CSDE1_ENSG00000009307_ENSG00000009307.11_ES_1_115279378:115279476:115280091:115280184:115280583:115280675_115280091:115280184</th>\n",
       "      <td>-0.413929</td>\n",
       "      <td>6.238967</td>\n",
       "      <td>121.0</td>\n",
       "      <td>82.0</td>\n",
       "      <td>1.961030</td>\n",
       "    </tr>\n",
       "    <tr>\n",
       "      <th>MRPL4_ENSG00000105364_ENSG00000105364.9_IR_19_10369088:10369198:10369284:10369343_10369198:10369284</th>\n",
       "      <td>-0.405476</td>\n",
       "      <td>6.222870</td>\n",
       "      <td>124.0</td>\n",
       "      <td>86.0</td>\n",
       "      <td>1.961030</td>\n",
       "    </tr>\n",
       "    <tr>\n",
       "      <th>ALDOA_ENSG00000149925_ENSG00000149925.12_A5_16_30078770:30078786:30078554:30078654:30078554:30078687_30078654:30078687</th>\n",
       "      <td>-0.400225</td>\n",
       "      <td>6.078321</td>\n",
       "      <td>124.0</td>\n",
       "      <td>86.0</td>\n",
       "      <td>1.868455</td>\n",
       "    </tr>\n",
       "    <tr>\n",
       "      <th>UBAP2L_ENSG00000143569_ENSG00000143569.14_ES_1_154241382:154241430:154241837:154241888:154242675:154243040_154241837:154241888</th>\n",
       "      <td>-0.398457</td>\n",
       "      <td>5.956511</td>\n",
       "      <td>122.0</td>\n",
       "      <td>85.0</td>\n",
       "      <td>1.868455</td>\n",
       "    </tr>\n",
       "    <tr>\n",
       "      <th>TMEM30B_ENSG00000182107_ENSG00000182107.5_IR_14_61746589:61747673:61748015:61748194_61747673:61748015</th>\n",
       "      <td>-0.541317</td>\n",
       "      <td>5.955592</td>\n",
       "      <td>68.0</td>\n",
       "      <td>42.0</td>\n",
       "      <td>1.868455</td>\n",
       "    </tr>\n",
       "    <tr>\n",
       "      <th>TRADD_ENSG00000102871_ENSG00000102871.11_ES_16_67189279:67189557:67190412:67190571:67193740:67193801_67190412:67190571</th>\n",
       "      <td>-0.358811</td>\n",
       "      <td>5.935062</td>\n",
       "      <td>122.0</td>\n",
       "      <td>80.0</td>\n",
       "      <td>1.868455</td>\n",
       "    </tr>\n",
       "    <tr>\n",
       "      <th>KRTCAP3_ENSG00000157992_ENSG00000157992.8_IR_2_27666264:27666928:27667052:27667164_27666928:27667052</th>\n",
       "      <td>-0.411110</td>\n",
       "      <td>5.919441</td>\n",
       "      <td>119.0</td>\n",
       "      <td>77.0</td>\n",
       "      <td>1.868455</td>\n",
       "    </tr>\n",
       "    <tr>\n",
       "      <th>NUP214_ENSG00000126883_ENSG00000126883.12_ES_9_134021515:134021691:134022876:134022971:134025710:134025797_134022876:134022971</th>\n",
       "      <td>0.430412</td>\n",
       "      <td>5.862025</td>\n",
       "      <td>97.0</td>\n",
       "      <td>60.0</td>\n",
       "      <td>1.865757</td>\n",
       "    </tr>\n",
       "    <tr>\n",
       "      <th>MECR_ENSG00000116353_ENSG00000116353.11_ES_1_29543112:29543324:29547349:29547433:29557242:29557403_29547349:29547433</th>\n",
       "      <td>0.729517</td>\n",
       "      <td>5.854595</td>\n",
       "      <td>33.0</td>\n",
       "      <td>27.0</td>\n",
       "      <td>1.865757</td>\n",
       "    </tr>\n",
       "    <tr>\n",
       "      <th>MRPL4_ENSG00000105364_ENSG00000105364.9_IR_19_10369088:10369361:10370292:10370454_10369361:10370292</th>\n",
       "      <td>-0.390660</td>\n",
       "      <td>5.819549</td>\n",
       "      <td>124.0</td>\n",
       "      <td>86.0</td>\n",
       "      <td>1.858739</td>\n",
       "    </tr>\n",
       "    <tr>\n",
       "      <th>NDRG1_ENSG00000104419_ENSG00000104419.10_A5_8_134266781:134266838:134268968:134269041:134267512:134269041_134267512:134268968</th>\n",
       "      <td>-0.477944</td>\n",
       "      <td>5.758123</td>\n",
       "      <td>89.0</td>\n",
       "      <td>54.0</td>\n",
       "      <td>1.841011</td>\n",
       "    </tr>\n",
       "    <tr>\n",
       "      <th>DHCR7_ENSG00000172893_ENSG00000172893.11_A5_11_71158655:71158780:71159335:71159402:71159358:71159402_71159335:71159358</th>\n",
       "      <td>-0.403303</td>\n",
       "      <td>5.750668</td>\n",
       "      <td>118.0</td>\n",
       "      <td>78.0</td>\n",
       "      <td>1.841011</td>\n",
       "    </tr>\n",
       "    <tr>\n",
       "      <th>USP33_ENSG00000077254_ENSG00000077254.10_ES_1_78207301:78207433:78211105:78211284:78225327:78225374_78211105:78211284</th>\n",
       "      <td>0.446182</td>\n",
       "      <td>5.684327</td>\n",
       "      <td>98.0</td>\n",
       "      <td>62.0</td>\n",
       "      <td>1.825299</td>\n",
       "    </tr>\n",
       "    <tr>\n",
       "      <th>PLD3_ENSG00000105223_ENSG00000105223.14_A5_19_40871459:40871492:40854584:40854675:40854584:40854631_40854631:40854675</th>\n",
       "      <td>-0.390476</td>\n",
       "      <td>5.673164</td>\n",
       "      <td>120.0</td>\n",
       "      <td>84.0</td>\n",
       "      <td>1.825299</td>\n",
       "    </tr>\n",
       "    <tr>\n",
       "      <th>CCNK_ENSG00000090061_ENSG00000090061.13_A5_14_99958962:99959211:99947748:99947816:99947748:99947951_99947816:99947951</th>\n",
       "      <td>0.399005</td>\n",
       "      <td>5.654395</td>\n",
       "      <td>117.0</td>\n",
       "      <td>79.0</td>\n",
       "      <td>1.825299</td>\n",
       "    </tr>\n",
       "    <tr>\n",
       "      <th>TRADD_ENSG00000102871_ENSG00000102871.11_A5_16_67189279:67189557:67193740:67193801:67190412:67193801_67190412:67193740</th>\n",
       "      <td>0.348310</td>\n",
       "      <td>5.644545</td>\n",
       "      <td>122.0</td>\n",
       "      <td>81.0</td>\n",
       "      <td>1.825299</td>\n",
       "    </tr>\n",
       "    <tr>\n",
       "      <th>EEF1B2_ENSG00000114942_ENSG00000114942.9_IR_2_207024308:207024408:207024636:207024783_207024408:207024636</th>\n",
       "      <td>-0.384099</td>\n",
       "      <td>5.628501</td>\n",
       "      <td>123.0</td>\n",
       "      <td>86.0</td>\n",
       "      <td>1.825299</td>\n",
       "    </tr>\n",
       "    <tr>\n",
       "      <th>SRRM2_ENSG00000167978_ENSG00000167978.12_IR_16_2820911:2821050:2821121:2821413_2821050:2821121</th>\n",
       "      <td>0.381658</td>\n",
       "      <td>5.581338</td>\n",
       "      <td>124.0</td>\n",
       "      <td>86.0</td>\n",
       "      <td>1.796620</td>\n",
       "    </tr>\n",
       "    <tr>\n",
       "      <th>ALDOA_ENSG00000149925_ENSG00000149925.12_IR_16_30078554:30078654:30078770:30078786_30078654:30078770</th>\n",
       "      <td>0.380626</td>\n",
       "      <td>5.554485</td>\n",
       "      <td>124.0</td>\n",
       "      <td>86.0</td>\n",
       "      <td>1.787495</td>\n",
       "    </tr>\n",
       "    <tr>\n",
       "      <th>ST3GAL5_ENSG00000115525_ENSG00000115525.12_A3_2_86088303:86088415:86075007:86075207:86075007:86075327_86075207:86075327</th>\n",
       "      <td>-0.453476</td>\n",
       "      <td>5.472497</td>\n",
       "      <td>55.0</td>\n",
       "      <td>34.0</td>\n",
       "      <td>1.731632</td>\n",
       "    </tr>\n",
       "    <tr>\n",
       "      <th>PITPNA_ENSG00000174238_ENSG00000174238.10_ES_17_1456297:1456443:1461822:1461853:1465834:1465924_1461822:1461853</th>\n",
       "      <td>0.386317</td>\n",
       "      <td>5.465198</td>\n",
       "      <td>120.0</td>\n",
       "      <td>81.0</td>\n",
       "      <td>1.731632</td>\n",
       "    </tr>\n",
       "    <tr>\n",
       "      <th>PTOV1_ENSG00000104960_ENSG00000104960.11_IR_19_50358226:50358334:50360231:50360366_50358334:50360231</th>\n",
       "      <td>-0.376219</td>\n",
       "      <td>5.439865</td>\n",
       "      <td>124.0</td>\n",
       "      <td>86.0</td>\n",
       "      <td>1.727689</td>\n",
       "    </tr>\n",
       "    <tr>\n",
       "      <th>MAP4_ENSG00000047849_ENSG00000047849.17_A3_3_47894652:47894842:47892184:47894428:47892184:47894529_47894428:47894529</th>\n",
       "      <td>-0.379113</td>\n",
       "      <td>5.430220</td>\n",
       "      <td>123.0</td>\n",
       "      <td>84.0</td>\n",
       "      <td>1.727689</td>\n",
       "    </tr>\n",
       "    <tr>\n",
       "      <th>EEF1B2_ENSG00000114942_ENSG00000114942.9_A3_2_207024359:207024408:207024682:207024783:207024636:207024783_207024636:207024682</th>\n",
       "      <td>-0.374719</td>\n",
       "      <td>5.401183</td>\n",
       "      <td>124.0</td>\n",
       "      <td>86.0</td>\n",
       "      <td>1.725387</td>\n",
       "    </tr>\n",
       "    <tr>\n",
       "      <th>...</th>\n",
       "      <td>...</td>\n",
       "      <td>...</td>\n",
       "      <td>...</td>\n",
       "      <td>...</td>\n",
       "      <td>...</td>\n",
       "    </tr>\n",
       "    <tr>\n",
       "      <th>AATF_ENSG00000108270_ENSG00000108270.6_A3_17_35388910:35388982:35413931:35414158:35413905:35414158_35413905:35413931</th>\n",
       "      <td>0.000000</td>\n",
       "      <td>-0.000000</td>\n",
       "      <td>42.0</td>\n",
       "      <td>28.0</td>\n",
       "      <td>-0.000000</td>\n",
       "    </tr>\n",
       "    <tr>\n",
       "      <th>TNFRSF12A_ENSG00000006327_ENSG00000006327.9_ES_16_3070379:3070492:3070998:3071320:3071555:3071690_3070998:3071320</th>\n",
       "      <td>-0.001189</td>\n",
       "      <td>-0.000000</td>\n",
       "      <td>29.0</td>\n",
       "      <td>29.0</td>\n",
       "      <td>-0.000000</td>\n",
       "    </tr>\n",
       "    <tr>\n",
       "      <th>RPL19_ENSG00000108298_ENSG00000108298.5_A3_17_37356594:37356996:37357465:37357479:37357474:37357479_37357465:37357474</th>\n",
       "      <td>0.000000</td>\n",
       "      <td>-0.000000</td>\n",
       "      <td>123.0</td>\n",
       "      <td>85.0</td>\n",
       "      <td>-0.000000</td>\n",
       "    </tr>\n",
       "    <tr>\n",
       "      <th>VEGFA_ENSG00000112715_ENSG00000112715.16_IR_6_43740908:43744732:43745205:43745402_43744732:43745205</th>\n",
       "      <td>0.000000</td>\n",
       "      <td>-0.000000</td>\n",
       "      <td>13.0</td>\n",
       "      <td>11.0</td>\n",
       "      <td>-0.000000</td>\n",
       "    </tr>\n",
       "    <tr>\n",
       "      <th>TAF1C_ENSG00000103168_ENSG00000103168.12_IR_16_84213775:84214110:84214648:84214792_84214110:84214648</th>\n",
       "      <td>0.000294</td>\n",
       "      <td>-0.000000</td>\n",
       "      <td>68.0</td>\n",
       "      <td>50.0</td>\n",
       "      <td>-0.000000</td>\n",
       "    </tr>\n",
       "    <tr>\n",
       "      <th>POMK_ENSG00000185900_ENSG00000185900.5_A3_8_42948660:42948706:42952672:42952758:42952666:42952758_42952666:42952672</th>\n",
       "      <td>0.000000</td>\n",
       "      <td>-0.000000</td>\n",
       "      <td>60.0</td>\n",
       "      <td>21.0</td>\n",
       "      <td>-0.000000</td>\n",
       "    </tr>\n",
       "    <tr>\n",
       "      <th>POLR1C_ENSG00000171453_ENSG00000171453.13_IR_6_43487443:43487576:43487812:43487923_43487576:43487812</th>\n",
       "      <td>0.000000</td>\n",
       "      <td>-0.000000</td>\n",
       "      <td>112.0</td>\n",
       "      <td>76.0</td>\n",
       "      <td>-0.000000</td>\n",
       "    </tr>\n",
       "    <tr>\n",
       "      <th>RAD23A_ENSG00000179262_ENSG00000179262.5_ES_19_13058667:13058823:13058990:13059172:13059499:13059627_13058990:13059172</th>\n",
       "      <td>0.005952</td>\n",
       "      <td>-0.000000</td>\n",
       "      <td>14.0</td>\n",
       "      <td>12.0</td>\n",
       "      <td>-0.000000</td>\n",
       "    </tr>\n",
       "    <tr>\n",
       "      <th>CUL9_ENSG00000112659_ENSG00000112659.9_IR_6_43190516:43190634:43190921:43191906_43190634:43190921</th>\n",
       "      <td>-0.005102</td>\n",
       "      <td>-0.000000</td>\n",
       "      <td>14.0</td>\n",
       "      <td>14.0</td>\n",
       "      <td>-0.000000</td>\n",
       "    </tr>\n",
       "    <tr>\n",
       "      <th>ANKRD11_ENSG00000167522_ENSG00000167522.10_IR_16_89365283:89365870:89366014:89366104_89365870:89366014</th>\n",
       "      <td>0.000000</td>\n",
       "      <td>-0.000000</td>\n",
       "      <td>120.0</td>\n",
       "      <td>81.0</td>\n",
       "      <td>-0.000000</td>\n",
       "    </tr>\n",
       "    <tr>\n",
       "      <th>VPS9D1_ENSG00000075399_ENSG00000075399.8_IR_16_89785434:89785738:89787170:89787293_89785738:89787170</th>\n",
       "      <td>0.000000</td>\n",
       "      <td>-0.000000</td>\n",
       "      <td>37.0</td>\n",
       "      <td>20.0</td>\n",
       "      <td>-0.000000</td>\n",
       "    </tr>\n",
       "    <tr>\n",
       "      <th>ATP5G1_ENSG00000159199_ENSG00000159199.9_A3_17_46970770:46970818:46972517:46972571:46972528:46972571_46972517:46972528</th>\n",
       "      <td>0.000000</td>\n",
       "      <td>-0.000000</td>\n",
       "      <td>47.0</td>\n",
       "      <td>43.0</td>\n",
       "      <td>-0.000000</td>\n",
       "    </tr>\n",
       "    <tr>\n",
       "      <th>FBXO25_ENSG00000147364_ENSG00000147364.12_A3_8_408509:408551:413075:413150:413014:413150_413014:413075</th>\n",
       "      <td>0.000000</td>\n",
       "      <td>-0.000000</td>\n",
       "      <td>32.0</td>\n",
       "      <td>26.0</td>\n",
       "      <td>-0.000000</td>\n",
       "    </tr>\n",
       "    <tr>\n",
       "      <th>ILF3_ENSG00000129351_ENSG00000129351.13_ES_19_10777167:10777325:10780295:10780394:10781191:10781284_10780295:10780394</th>\n",
       "      <td>0.000000</td>\n",
       "      <td>-0.000000</td>\n",
       "      <td>22.0</td>\n",
       "      <td>13.0</td>\n",
       "      <td>-0.000000</td>\n",
       "    </tr>\n",
       "    <tr>\n",
       "      <th>CTNS_ENSG00000040531_ENSG00000040531.10_IR_17_3561614:3561814:3563151:3563269_3561814:3563151</th>\n",
       "      <td>0.000000</td>\n",
       "      <td>-0.000000</td>\n",
       "      <td>22.0</td>\n",
       "      <td>15.0</td>\n",
       "      <td>-0.000000</td>\n",
       "    </tr>\n",
       "    <tr>\n",
       "      <th>LST1_ENSG00000204482_ENSG00000204482.6_IR_6_31555417:31555510:31556300:31556453_31555510:31556300</th>\n",
       "      <td>0.000000</td>\n",
       "      <td>-0.000000</td>\n",
       "      <td>11.0</td>\n",
       "      <td>16.0</td>\n",
       "      <td>-0.000000</td>\n",
       "    </tr>\n",
       "    <tr>\n",
       "      <th>MINK1_ENSG00000141503_ENSG00000141503.11_IR_17_4796728:4796892:4797123:4797323_4796892:4797123</th>\n",
       "      <td>0.000000</td>\n",
       "      <td>-0.000000</td>\n",
       "      <td>35.0</td>\n",
       "      <td>17.0</td>\n",
       "      <td>-0.000000</td>\n",
       "    </tr>\n",
       "    <tr>\n",
       "      <th>NDUFA6_ENSG00000184983_ENSG00000184983.5_ES_22_42482119:42482318:42483063:42483179:42486655:42486783_42483063:42483179</th>\n",
       "      <td>0.000000</td>\n",
       "      <td>-0.000000</td>\n",
       "      <td>38.0</td>\n",
       "      <td>19.0</td>\n",
       "      <td>-0.000000</td>\n",
       "    </tr>\n",
       "    <tr>\n",
       "      <th>SNX29_ENSG00000048471_ENSG00000048471.9_ES_16_12121176:12121301:12136753:12136934:12140240:12140311_12136753:12136934</th>\n",
       "      <td>0.001698</td>\n",
       "      <td>-0.000000</td>\n",
       "      <td>31.0</td>\n",
       "      <td>19.0</td>\n",
       "      <td>-0.000000</td>\n",
       "    </tr>\n",
       "    <tr>\n",
       "      <th>MICA_ENSG00000204520_ENSG00000204520.8_IR_6_31371355:31371479:31378848:31379136_31371479:31378848</th>\n",
       "      <td>0.000000</td>\n",
       "      <td>-0.000000</td>\n",
       "      <td>18.0</td>\n",
       "      <td>10.0</td>\n",
       "      <td>-0.000000</td>\n",
       "    </tr>\n",
       "    <tr>\n",
       "      <th>FAM64A_ENSG00000129195_ENSG00000129195.11_IR_17_6353347:6353392:6353664:6353864_6353392:6353664</th>\n",
       "      <td>0.000000</td>\n",
       "      <td>-0.000000</td>\n",
       "      <td>25.0</td>\n",
       "      <td>22.0</td>\n",
       "      <td>-0.000000</td>\n",
       "    </tr>\n",
       "    <tr>\n",
       "      <th>SERPINF1_ENSG00000132386_ENSG00000132386.6_IR_17_1678351:1678494:1679834:1680034_1678494:1679834</th>\n",
       "      <td>0.000000</td>\n",
       "      <td>-0.000000</td>\n",
       "      <td>18.0</td>\n",
       "      <td>18.0</td>\n",
       "      <td>-0.000000</td>\n",
       "    </tr>\n",
       "    <tr>\n",
       "      <th>HMGA1_ENSG00000137309_ENSG00000137309.15_IR_6_34211244:34211489:34212610:34212928_34211489:34212610</th>\n",
       "      <td>0.000000</td>\n",
       "      <td>-0.000000</td>\n",
       "      <td>62.0</td>\n",
       "      <td>25.0</td>\n",
       "      <td>-0.000000</td>\n",
       "    </tr>\n",
       "    <tr>\n",
       "      <th>ESYT2_ENSG00000117868_ENSG00000117868.11_ES_7_158529738:158529870:158531713:158531812:158532665:158532865_158531713:158531812</th>\n",
       "      <td>0.000000</td>\n",
       "      <td>-0.000000</td>\n",
       "      <td>16.0</td>\n",
       "      <td>15.0</td>\n",
       "      <td>-0.000000</td>\n",
       "    </tr>\n",
       "    <tr>\n",
       "      <th>C17orf97_ENSG00000187624_ENSG00000187624.7_IR_17_262938:263474:263714:264096_263474:263714</th>\n",
       "      <td>0.000000</td>\n",
       "      <td>-0.000000</td>\n",
       "      <td>85.0</td>\n",
       "      <td>47.0</td>\n",
       "      <td>-0.000000</td>\n",
       "    </tr>\n",
       "    <tr>\n",
       "      <th>C17orf97_ENSG00000187624_ENSG00000187624.7_IR_17_262938:263504:263714:264096_263504:263714</th>\n",
       "      <td>0.000000</td>\n",
       "      <td>-0.000000</td>\n",
       "      <td>83.0</td>\n",
       "      <td>48.0</td>\n",
       "      <td>-0.000000</td>\n",
       "    </tr>\n",
       "    <tr>\n",
       "      <th>CCAR2_ENSG00000158941_ENSG00000158941.12_A3_8_22477150:22477262:22477521:22477981:22477516:22477981_22477516:22477521</th>\n",
       "      <td>-0.001122</td>\n",
       "      <td>-0.000000</td>\n",
       "      <td>33.0</td>\n",
       "      <td>27.0</td>\n",
       "      <td>-0.000000</td>\n",
       "    </tr>\n",
       "    <tr>\n",
       "      <th>WDR81_ENSG00000167716_ENSG00000167716.14_IR_17_1635959:1636241:1636820:1636831_1636241:1636820</th>\n",
       "      <td>0.000000</td>\n",
       "      <td>-0.000000</td>\n",
       "      <td>16.0</td>\n",
       "      <td>10.0</td>\n",
       "      <td>-0.000000</td>\n",
       "    </tr>\n",
       "    <tr>\n",
       "      <th>CDK5RAP3_ENSG00000108465_ENSG00000108465.10_A3_17_46051946:46052054:46052583:46052632:46052580:46052632_46052580:46052583</th>\n",
       "      <td>0.000000</td>\n",
       "      <td>-0.000000</td>\n",
       "      <td>34.0</td>\n",
       "      <td>23.0</td>\n",
       "      <td>-0.000000</td>\n",
       "    </tr>\n",
       "    <tr>\n",
       "      <th>CDK5RAP3_ENSG00000108465_ENSG00000108465.10_A3_17_46052879:46053004:46053247:46053379:46053234:46053379_46053234:46053247</th>\n",
       "      <td>0.000000</td>\n",
       "      <td>-0.000000</td>\n",
       "      <td>74.0</td>\n",
       "      <td>59.0</td>\n",
       "      <td>-0.000000</td>\n",
       "    </tr>\n",
       "  </tbody>\n",
       "</table>\n",
       "<p>128098 rows × 5 columns</p>\n",
       "</div>"
      ],
      "text/plain": [
       "                                                        corr       pval  \\\n",
       "RPL22L1_ENSG00000163584_ENSG00000163584.13_A3_3...  0.696643  17.013234   \n",
       "MDM4_ENSG00000198625_ENSG00000198625.8_ES_1_204...  0.775063   8.126172   \n",
       "LIN37_ENSG00000267796_ENSG00000267796.3_A5_19_3... -0.429450   6.794241   \n",
       "HNRNPH1_ENSG00000169045_ENSG00000169045.13_A5_5...  0.416043   6.419333   \n",
       "RECQL4_ENSG00000160957_ENSG00000160957.8_IR_8_1... -0.421178   6.351965   \n",
       "PRKDC_ENSG00000253729_ENSG00000253729.3_IR_8_48...  0.502767   6.257374   \n",
       "CSDE1_ENSG00000009307_ENSG00000009307.11_ES_1_1... -0.413929   6.238967   \n",
       "MRPL4_ENSG00000105364_ENSG00000105364.9_IR_19_1... -0.405476   6.222870   \n",
       "ALDOA_ENSG00000149925_ENSG00000149925.12_A5_16_... -0.400225   6.078321   \n",
       "UBAP2L_ENSG00000143569_ENSG00000143569.14_ES_1_... -0.398457   5.956511   \n",
       "TMEM30B_ENSG00000182107_ENSG00000182107.5_IR_14... -0.541317   5.955592   \n",
       "TRADD_ENSG00000102871_ENSG00000102871.11_ES_16_... -0.358811   5.935062   \n",
       "KRTCAP3_ENSG00000157992_ENSG00000157992.8_IR_2_... -0.411110   5.919441   \n",
       "NUP214_ENSG00000126883_ENSG00000126883.12_ES_9_...  0.430412   5.862025   \n",
       "MECR_ENSG00000116353_ENSG00000116353.11_ES_1_29...  0.729517   5.854595   \n",
       "MRPL4_ENSG00000105364_ENSG00000105364.9_IR_19_1... -0.390660   5.819549   \n",
       "NDRG1_ENSG00000104419_ENSG00000104419.10_A5_8_1... -0.477944   5.758123   \n",
       "DHCR7_ENSG00000172893_ENSG00000172893.11_A5_11_... -0.403303   5.750668   \n",
       "USP33_ENSG00000077254_ENSG00000077254.10_ES_1_7...  0.446182   5.684327   \n",
       "PLD3_ENSG00000105223_ENSG00000105223.14_A5_19_4... -0.390476   5.673164   \n",
       "CCNK_ENSG00000090061_ENSG00000090061.13_A5_14_9...  0.399005   5.654395   \n",
       "TRADD_ENSG00000102871_ENSG00000102871.11_A5_16_...  0.348310   5.644545   \n",
       "EEF1B2_ENSG00000114942_ENSG00000114942.9_IR_2_2... -0.384099   5.628501   \n",
       "SRRM2_ENSG00000167978_ENSG00000167978.12_IR_16_...  0.381658   5.581338   \n",
       "ALDOA_ENSG00000149925_ENSG00000149925.12_IR_16_...  0.380626   5.554485   \n",
       "ST3GAL5_ENSG00000115525_ENSG00000115525.12_A3_2... -0.453476   5.472497   \n",
       "PITPNA_ENSG00000174238_ENSG00000174238.10_ES_17...  0.386317   5.465198   \n",
       "PTOV1_ENSG00000104960_ENSG00000104960.11_IR_19_... -0.376219   5.439865   \n",
       "MAP4_ENSG00000047849_ENSG00000047849.17_A3_3_47... -0.379113   5.430220   \n",
       "EEF1B2_ENSG00000114942_ENSG00000114942.9_A3_2_2... -0.374719   5.401183   \n",
       "...                                                      ...        ...   \n",
       "AATF_ENSG00000108270_ENSG00000108270.6_A3_17_35...  0.000000  -0.000000   \n",
       "TNFRSF12A_ENSG00000006327_ENSG00000006327.9_ES_... -0.001189  -0.000000   \n",
       "RPL19_ENSG00000108298_ENSG00000108298.5_A3_17_3...  0.000000  -0.000000   \n",
       "VEGFA_ENSG00000112715_ENSG00000112715.16_IR_6_4...  0.000000  -0.000000   \n",
       "TAF1C_ENSG00000103168_ENSG00000103168.12_IR_16_...  0.000294  -0.000000   \n",
       "POMK_ENSG00000185900_ENSG00000185900.5_A3_8_429...  0.000000  -0.000000   \n",
       "POLR1C_ENSG00000171453_ENSG00000171453.13_IR_6_...  0.000000  -0.000000   \n",
       "RAD23A_ENSG00000179262_ENSG00000179262.5_ES_19_...  0.005952  -0.000000   \n",
       "CUL9_ENSG00000112659_ENSG00000112659.9_IR_6_431... -0.005102  -0.000000   \n",
       "ANKRD11_ENSG00000167522_ENSG00000167522.10_IR_1...  0.000000  -0.000000   \n",
       "VPS9D1_ENSG00000075399_ENSG00000075399.8_IR_16_...  0.000000  -0.000000   \n",
       "ATP5G1_ENSG00000159199_ENSG00000159199.9_A3_17_...  0.000000  -0.000000   \n",
       "FBXO25_ENSG00000147364_ENSG00000147364.12_A3_8_...  0.000000  -0.000000   \n",
       "ILF3_ENSG00000129351_ENSG00000129351.13_ES_19_1...  0.000000  -0.000000   \n",
       "CTNS_ENSG00000040531_ENSG00000040531.10_IR_17_3...  0.000000  -0.000000   \n",
       "LST1_ENSG00000204482_ENSG00000204482.6_IR_6_315...  0.000000  -0.000000   \n",
       "MINK1_ENSG00000141503_ENSG00000141503.11_IR_17_...  0.000000  -0.000000   \n",
       "NDUFA6_ENSG00000184983_ENSG00000184983.5_ES_22_...  0.000000  -0.000000   \n",
       "SNX29_ENSG00000048471_ENSG00000048471.9_ES_16_1...  0.001698  -0.000000   \n",
       "MICA_ENSG00000204520_ENSG00000204520.8_IR_6_313...  0.000000  -0.000000   \n",
       "FAM64A_ENSG00000129195_ENSG00000129195.11_IR_17...  0.000000  -0.000000   \n",
       "SERPINF1_ENSG00000132386_ENSG00000132386.6_IR_1...  0.000000  -0.000000   \n",
       "HMGA1_ENSG00000137309_ENSG00000137309.15_IR_6_3...  0.000000  -0.000000   \n",
       "ESYT2_ENSG00000117868_ENSG00000117868.11_ES_7_1...  0.000000  -0.000000   \n",
       "C17orf97_ENSG00000187624_ENSG00000187624.7_IR_1...  0.000000  -0.000000   \n",
       "C17orf97_ENSG00000187624_ENSG00000187624.7_IR_1...  0.000000  -0.000000   \n",
       "CCAR2_ENSG00000158941_ENSG00000158941.12_A3_8_2... -0.001122  -0.000000   \n",
       "WDR81_ENSG00000167716_ENSG00000167716.14_IR_17_...  0.000000  -0.000000   \n",
       "CDK5RAP3_ENSG00000108465_ENSG00000108465.10_A3_...  0.000000  -0.000000   \n",
       "CDK5RAP3_ENSG00000108465_ENSG00000108465.10_A3_...  0.000000  -0.000000   \n",
       "\n",
       "                                                    pos_n  neg_n       qval  \n",
       "RPL22L1_ENSG00000163584_ENSG00000163584.13_A3_3...  124.0   86.0  11.848304  \n",
       "MDM4_ENSG00000198625_ENSG00000198625.8_ES_1_204...   57.0   28.0   3.262273  \n",
       "LIN37_ENSG00000267796_ENSG00000267796.3_A5_19_3...  122.0   84.0   2.106433  \n",
       "HNRNPH1_ENSG00000169045_ENSG00000169045.13_A5_5...  121.0   85.0   1.961030  \n",
       "RECQL4_ENSG00000160957_ENSG00000160957.8_IR_8_1...  121.0   80.0   1.961030  \n",
       "PRKDC_ENSG00000253729_ENSG00000253729.3_IR_8_48...   87.0   54.0   1.961030  \n",
       "CSDE1_ENSG00000009307_ENSG00000009307.11_ES_1_1...  121.0   82.0   1.961030  \n",
       "MRPL4_ENSG00000105364_ENSG00000105364.9_IR_19_1...  124.0   86.0   1.961030  \n",
       "ALDOA_ENSG00000149925_ENSG00000149925.12_A5_16_...  124.0   86.0   1.868455  \n",
       "UBAP2L_ENSG00000143569_ENSG00000143569.14_ES_1_...  122.0   85.0   1.868455  \n",
       "TMEM30B_ENSG00000182107_ENSG00000182107.5_IR_14...   68.0   42.0   1.868455  \n",
       "TRADD_ENSG00000102871_ENSG00000102871.11_ES_16_...  122.0   80.0   1.868455  \n",
       "KRTCAP3_ENSG00000157992_ENSG00000157992.8_IR_2_...  119.0   77.0   1.868455  \n",
       "NUP214_ENSG00000126883_ENSG00000126883.12_ES_9_...   97.0   60.0   1.865757  \n",
       "MECR_ENSG00000116353_ENSG00000116353.11_ES_1_29...   33.0   27.0   1.865757  \n",
       "MRPL4_ENSG00000105364_ENSG00000105364.9_IR_19_1...  124.0   86.0   1.858739  \n",
       "NDRG1_ENSG00000104419_ENSG00000104419.10_A5_8_1...   89.0   54.0   1.841011  \n",
       "DHCR7_ENSG00000172893_ENSG00000172893.11_A5_11_...  118.0   78.0   1.841011  \n",
       "USP33_ENSG00000077254_ENSG00000077254.10_ES_1_7...   98.0   62.0   1.825299  \n",
       "PLD3_ENSG00000105223_ENSG00000105223.14_A5_19_4...  120.0   84.0   1.825299  \n",
       "CCNK_ENSG00000090061_ENSG00000090061.13_A5_14_9...  117.0   79.0   1.825299  \n",
       "TRADD_ENSG00000102871_ENSG00000102871.11_A5_16_...  122.0   81.0   1.825299  \n",
       "EEF1B2_ENSG00000114942_ENSG00000114942.9_IR_2_2...  123.0   86.0   1.825299  \n",
       "SRRM2_ENSG00000167978_ENSG00000167978.12_IR_16_...  124.0   86.0   1.796620  \n",
       "ALDOA_ENSG00000149925_ENSG00000149925.12_IR_16_...  124.0   86.0   1.787495  \n",
       "ST3GAL5_ENSG00000115525_ENSG00000115525.12_A3_2...   55.0   34.0   1.731632  \n",
       "PITPNA_ENSG00000174238_ENSG00000174238.10_ES_17...  120.0   81.0   1.731632  \n",
       "PTOV1_ENSG00000104960_ENSG00000104960.11_IR_19_...  124.0   86.0   1.727689  \n",
       "MAP4_ENSG00000047849_ENSG00000047849.17_A3_3_47...  123.0   84.0   1.727689  \n",
       "EEF1B2_ENSG00000114942_ENSG00000114942.9_A3_2_2...  124.0   86.0   1.725387  \n",
       "...                                                   ...    ...        ...  \n",
       "AATF_ENSG00000108270_ENSG00000108270.6_A3_17_35...   42.0   28.0  -0.000000  \n",
       "TNFRSF12A_ENSG00000006327_ENSG00000006327.9_ES_...   29.0   29.0  -0.000000  \n",
       "RPL19_ENSG00000108298_ENSG00000108298.5_A3_17_3...  123.0   85.0  -0.000000  \n",
       "VEGFA_ENSG00000112715_ENSG00000112715.16_IR_6_4...   13.0   11.0  -0.000000  \n",
       "TAF1C_ENSG00000103168_ENSG00000103168.12_IR_16_...   68.0   50.0  -0.000000  \n",
       "POMK_ENSG00000185900_ENSG00000185900.5_A3_8_429...   60.0   21.0  -0.000000  \n",
       "POLR1C_ENSG00000171453_ENSG00000171453.13_IR_6_...  112.0   76.0  -0.000000  \n",
       "RAD23A_ENSG00000179262_ENSG00000179262.5_ES_19_...   14.0   12.0  -0.000000  \n",
       "CUL9_ENSG00000112659_ENSG00000112659.9_IR_6_431...   14.0   14.0  -0.000000  \n",
       "ANKRD11_ENSG00000167522_ENSG00000167522.10_IR_1...  120.0   81.0  -0.000000  \n",
       "VPS9D1_ENSG00000075399_ENSG00000075399.8_IR_16_...   37.0   20.0  -0.000000  \n",
       "ATP5G1_ENSG00000159199_ENSG00000159199.9_A3_17_...   47.0   43.0  -0.000000  \n",
       "FBXO25_ENSG00000147364_ENSG00000147364.12_A3_8_...   32.0   26.0  -0.000000  \n",
       "ILF3_ENSG00000129351_ENSG00000129351.13_ES_19_1...   22.0   13.0  -0.000000  \n",
       "CTNS_ENSG00000040531_ENSG00000040531.10_IR_17_3...   22.0   15.0  -0.000000  \n",
       "LST1_ENSG00000204482_ENSG00000204482.6_IR_6_315...   11.0   16.0  -0.000000  \n",
       "MINK1_ENSG00000141503_ENSG00000141503.11_IR_17_...   35.0   17.0  -0.000000  \n",
       "NDUFA6_ENSG00000184983_ENSG00000184983.5_ES_22_...   38.0   19.0  -0.000000  \n",
       "SNX29_ENSG00000048471_ENSG00000048471.9_ES_16_1...   31.0   19.0  -0.000000  \n",
       "MICA_ENSG00000204520_ENSG00000204520.8_IR_6_313...   18.0   10.0  -0.000000  \n",
       "FAM64A_ENSG00000129195_ENSG00000129195.11_IR_17...   25.0   22.0  -0.000000  \n",
       "SERPINF1_ENSG00000132386_ENSG00000132386.6_IR_1...   18.0   18.0  -0.000000  \n",
       "HMGA1_ENSG00000137309_ENSG00000137309.15_IR_6_3...   62.0   25.0  -0.000000  \n",
       "ESYT2_ENSG00000117868_ENSG00000117868.11_ES_7_1...   16.0   15.0  -0.000000  \n",
       "C17orf97_ENSG00000187624_ENSG00000187624.7_IR_1...   85.0   47.0  -0.000000  \n",
       "C17orf97_ENSG00000187624_ENSG00000187624.7_IR_1...   83.0   48.0  -0.000000  \n",
       "CCAR2_ENSG00000158941_ENSG00000158941.12_A3_8_2...   33.0   27.0  -0.000000  \n",
       "WDR81_ENSG00000167716_ENSG00000167716.14_IR_17_...   16.0   10.0  -0.000000  \n",
       "CDK5RAP3_ENSG00000108465_ENSG00000108465.10_A3_...   34.0   23.0  -0.000000  \n",
       "CDK5RAP3_ENSG00000108465_ENSG00000108465.10_A3_...   74.0   59.0  -0.000000  \n",
       "\n",
       "[128098 rows x 5 columns]"
      ]
     },
     "execution_count": 41,
     "metadata": {},
     "output_type": "execute_result"
    }
   ],
   "source": [
    "subtype_labels = pd.Series(subtype_corrs.index.map(\n",
    "            lambda x: x.split(\"_\")[0]), index=subtype_corrs.index)"
   ]
  },
  {
   "cell_type": "code",
   "execution_count": 11,
   "metadata": {
    "ExecuteTime": {
     "end_time": "2020-05-13T19:57:11.550208Z",
     "start_time": "2020-05-13T19:57:11.144501Z"
    }
   },
   "outputs": [],
   "source": [
    "t2g = pd.read_csv(\"../data/intermediate/sleuth_diff/ensembl_t2g.csv\")\n",
    "t2g[\"format_gene_id\"] = t2g[\"hgnc_gene\"].fillna(\"\") + \"_\" + t2g[\"ens_gene\"]\n",
    "\n",
    "format_gene_map = dict(zip(t2g[\"ens_gene\"],t2g[\"format_gene_id\"]))"
   ]
  },
  {
   "cell_type": "code",
   "execution_count": 17,
   "metadata": {
    "ExecuteTime": {
     "end_time": "2020-05-13T19:58:39.314317Z",
     "start_time": "2020-05-13T19:58:38.245702Z"
    }
   },
   "outputs": [
    {
     "data": {
      "text/plain": [
       "<matplotlib.collections.PathCollection at 0x1296bd390>"
      ]
     },
     "execution_count": 17,
     "metadata": {},
     "output_type": "execute_result"
    },
    {
     "data": {
      "image/png": "[encoded data removed]",
      "text/plain": [
       "<Figure size 432x288 with 1 Axes>"
      ]
     },
     "metadata": {
      "needs_background": "light"
     },
     "output_type": "display_data"
    }
   ],
   "source": [
    "import matplotlib.pyplot as plt\n",
    "plt.scatter(rpl22_mut_splicing[\"corr\"],rpl22_mut_splicing[\"qval\"])"
   ]
  }
 ],
 "metadata": {
  "kernelspec": {
   "display_name": "Python 3",
   "language": "python",
   "name": "python3"
  },
  "language_info": {
   "codemirror_mode": {
    "name": "ipython",
    "version": 3
   },
   "file_extension": ".py",
   "mimetype": "text/x-python",
   "name": "python",
   "nbconvert_exporter": "python",
   "pygments_lexer": "ipython3",
   "version": "3.7.7"
  },
  "toc": {
   "base_numbering": 1,
   "nav_menu": {},
   "number_sections": true,
   "sideBar": true,
   "skip_h1_title": false,
   "title_cell": "Table of Contents",
   "title_sidebar": "Contents",
   "toc_cell": false,
   "toc_position": {},
   "toc_section_display": true,
   "toc_window_display": true
  }
 },
 "nbformat": 4,
 "nbformat_minor": 2
}
