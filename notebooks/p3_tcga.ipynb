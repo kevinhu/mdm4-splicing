{
 "cells": [
  {
   "cell_type": "code",
   "execution_count": 14,
   "metadata": {
    "ExecuteTime": {
     "end_time": "2020-05-10T00:04:09.926891Z",
     "start_time": "2020-05-10T00:04:09.884424Z"
    }
   },
   "outputs": [],
   "source": [
    "import pandas as pd\n",
    "import numpy as np\n",
    "from functools import reduce\n",
    "\n",
    "import seaborn as sns\n",
    "\n",
    "import sys\n",
    "import os\n",
    "\n",
    "sys.path.append(os.path.relpath(\"../../huygens\"))\n",
    "sys.path.append(os.path.relpath(\"../../galileo\"))\n",
    "\n",
    "import galileo as gal\n",
    "import huygens as huy"
   ]
  },
  {
   "cell_type": "code",
   "execution_count": 3,
   "metadata": {
    "ExecuteTime": {
     "end_time": "2020-05-09T23:58:11.951608Z",
     "start_time": "2020-05-09T23:58:11.947909Z"
    }
   },
   "outputs": [],
   "source": [
    "def concat_cols(df, cols, delim):\n",
    "    cols_str = [df[x].astype(str) for x in cols]\n",
    "\n",
    "    return reduce(lambda a, b: a + delim + b, cols_str)"
   ]
  },
  {
   "cell_type": "code",
   "execution_count": 10,
   "metadata": {
    "ExecuteTime": {
     "end_time": "2020-05-10T00:02:37.693481Z",
     "start_time": "2020-05-10T00:02:36.388044Z"
    }
   },
   "outputs": [],
   "source": [
    "tcga_genex = pd.read_hdf(\"../../data/processed/TCGA/TCGA_genex_norm.h5\",key=\"tcga_genex\")\n",
    "\n",
    "normal_genex = tcga_genex[tcga_genex.index.map(lambda x: x[-2:] == \"11\")]\n",
    "\n",
    "tcga_genex = tcga_genex[tcga_genex.index.map(lambda x: x[-2:] != \"11\")]"
   ]
  },
  {
   "cell_type": "code",
   "execution_count": 8,
   "metadata": {
    "ExecuteTime": {
     "end_time": "2020-05-10T00:00:01.148412Z",
     "start_time": "2020-05-09T23:59:43.642805Z"
    }
   },
   "outputs": [],
   "source": [
    "tcga_splicing = pd.read_hdf(\"../../data/processed/TCGA/merged.h5\",key=\"tcga_splicing\")\n",
    "\n",
    "\n",
    "tcga_splicing.index = tcga_splicing.index.map(lambda x: x[:15])\n",
    "\n",
    "tcga_splicing = tcga_splicing[~tcga_splicing.index.duplicated(keep=\"first\")]\n",
    "\n",
    "tcga_splicing = tcga_splicing[tcga_splicing.index.map(lambda x: x[-2:] != \"11\")]"
   ]
  },
  {
   "cell_type": "markdown",
   "metadata": {},
   "source": [
    "# RPL22 CN vs splicing"
   ]
  },
  {
   "cell_type": "code",
   "execution_count": 20,
   "metadata": {
    "ExecuteTime": {
     "end_time": "2020-05-10T03:12:20.660308Z",
     "start_time": "2020-05-10T03:12:18.438976Z"
    }
   },
   "outputs": [],
   "source": [
    "tcga_cn = pd.read_hdf(\"../../data/processed/TCGA/tcga_cn.hdf\", key=\"tcga_cn\")\n",
    "tcga_cn = tcga_cn[tcga_cn.index.map(lambda x: x[-2:] != \"11\")]"
   ]
  },
  {
   "cell_type": "code",
   "execution_count": 26,
   "metadata": {
    "ExecuteTime": {
     "end_time": "2020-05-10T03:40:59.315303Z",
     "start_time": "2020-05-10T03:21:42.132470Z"
    }
   },
   "outputs": [
    {
     "data": {
      "application/vnd.jupyter.widget-view+json": {
       "model_id": "7ffce2d34840442eaec2f1e1e6ec39f9",
       "version_major": 2,
       "version_minor": 0
      },
      "text/plain": [
       "HBox(children=(IntProgress(value=0, max=146647), HTML(value='')))"
      ]
     },
     "metadata": {},
     "output_type": "display_data"
    },
    {
     "name": "stderr",
     "output_type": "stream",
     "text": [
      "/Users/khu/anaconda3/envs/cenv/lib/python3.7/site-packages/numpy/lib/function_base.py:2534: RuntimeWarning: invalid value encountered in true_divide\n",
      "  c /= stddev[:, None]\n",
      "/Users/khu/anaconda3/envs/cenv/lib/python3.7/site-packages/numpy/lib/function_base.py:2535: RuntimeWarning: invalid value encountered in true_divide\n",
      "  c /= stddev[None, :]\n",
      "/Users/khu/anaconda3/envs/cenv/lib/python3.7/site-packages/scipy/stats/_distn_infrastructure.py:903: RuntimeWarning: invalid value encountered in greater\n",
      "  return (a < x) & (x < b)\n",
      "/Users/khu/anaconda3/envs/cenv/lib/python3.7/site-packages/scipy/stats/_distn_infrastructure.py:903: RuntimeWarning: invalid value encountered in less\n",
      "  return (a < x) & (x < b)\n",
      "/Users/khu/anaconda3/envs/cenv/lib/python3.7/site-packages/scipy/stats/_distn_infrastructure.py:1912: RuntimeWarning: invalid value encountered in less_equal\n",
      "  cond2 = cond0 & (x <= _a)\n"
     ]
    },
    {
     "name": "stdout",
     "output_type": "stream",
     "text": [
      "\n"
     ]
    }
   ],
   "source": [
    "rpl22_cn_splicing = gal.mat_corrs_naive(\n",
    "    tcga_cn[\"RPL22\"], tcga_splicing, method=\"spearman\",pbar=True)\n",
    "\n",
    "rpl22_cn_splicing.to_hdf(\n",
    "    \"../data/intermediate/rpl22_cn_splicing.h5\", key=\"rpl22_cn_splicing\", mode=\"w\")"
   ]
  },
  {
   "cell_type": "markdown",
   "metadata": {},
   "source": [
    "# Splicing and expression correlations"
   ]
  },
  {
   "cell_type": "markdown",
   "metadata": {},
   "source": [
    "## RPL22L1 expression vs splicing"
   ]
  },
  {
   "cell_type": "code",
   "execution_count": 27,
   "metadata": {
    "ExecuteTime": {
     "end_time": "2020-05-10T04:00:53.525814Z",
     "start_time": "2020-05-10T03:40:59.322347Z"
    }
   },
   "outputs": [
    {
     "data": {
      "application/vnd.jupyter.widget-view+json": {
       "model_id": "e617639c4bda46fa9c71b48cb8664196",
       "version_major": 2,
       "version_minor": 0
      },
      "text/plain": [
       "HBox(children=(IntProgress(value=0, max=146647), HTML(value='')))"
      ]
     },
     "metadata": {},
     "output_type": "display_data"
    },
    {
     "name": "stdout",
     "output_type": "stream",
     "text": [
      "\n"
     ]
    }
   ],
   "source": [
    "rpl22l1_genex_splicing = gal.mat_corrs_naive(tcga_genex[\"RPL22L1_15209\"],\n",
    "                                           tcga_splicing,\n",
    "                                           method=\"spearman\",\n",
    "                                           pbar=True\n",
    "                                          )\n",
    "\n",
    "rpl22l1_genex_splicing.to_hdf(\"../data/intermediate/rpl22l1_genex_splicing.h5\",key=\"rpl22l1_genex_splicing\",mode=\"w\")"
   ]
  },
  {
   "cell_type": "code",
   "execution_count": 28,
   "metadata": {
    "ExecuteTime": {
     "end_time": "2020-05-10T06:27:20.306793Z",
     "start_time": "2020-05-10T04:00:53.534797Z"
    }
   },
   "outputs": [
    {
     "data": {
      "application/vnd.jupyter.widget-view+json": {
       "model_id": "c43bfe7815a34a129560ac1031ee1bfa",
       "version_major": 2,
       "version_minor": 0
      },
      "text/plain": [
       "HBox(children=(IntProgress(value=0, max=30), HTML(value='')))"
      ]
     },
     "metadata": {},
     "output_type": "display_data"
    },
    {
     "name": "stdout",
     "output_type": "stream",
     "text": [
      "\n"
     ]
    }
   ],
   "source": [
    "rpl22l1_genex_splicing_subtyped = gal.mat_corrs_subtyped(tcga_genex[\"RPL22L1_15209\"],\n",
    "                                                         tcga_splicing,\n",
    "                                                         tcga_sample_info[\"abbreviated_disease\"],\n",
    "                                                         pbar=True,\n",
    "                                                         stack=True,\n",
    "                                                         min_count=50,\n",
    "                                                         method=\"spearman\"\n",
    "                                                         )\n",
    "\n",
    "rpl22l1_genex_splicing_subtyped.to_hdf(\"../data/intermediate/rpl22l1_genex_splicing_subtyped.h5\",\n",
    "                                       key=\"rpl22l1_genex_splicing_subtyped\",\n",
    "                                       mode=\"w\")"
   ]
  },
  {
   "cell_type": "markdown",
   "metadata": {},
   "source": [
    "## Splicing vs gene expression"
   ]
  },
  {
   "cell_type": "code",
   "execution_count": 29,
   "metadata": {
    "ExecuteTime": {
     "end_time": "2020-05-10T06:29:59.449706Z",
     "start_time": "2020-05-10T06:27:20.310332Z"
    }
   },
   "outputs": [
    {
     "data": {
      "application/vnd.jupyter.widget-view+json": {
       "model_id": "cb52c0b3092642f2bc7c3ce476eb55b5",
       "version_major": 2,
       "version_minor": 0
      },
      "text/plain": [
       "HBox(children=(IntProgress(value=0, max=20531), HTML(value='')))"
      ]
     },
     "metadata": {},
     "output_type": "display_data"
    },
    {
     "name": "stdout",
     "output_type": "stream",
     "text": [
      "\n"
     ]
    },
    {
     "data": {
      "application/vnd.jupyter.widget-view+json": {
       "model_id": "eacbb2d721e646ccb64e66c6baf4817b",
       "version_major": 2,
       "version_minor": 0
      },
      "text/plain": [
       "HBox(children=(IntProgress(value=0, max=20531), HTML(value='')))"
      ]
     },
     "metadata": {},
     "output_type": "display_data"
    },
    {
     "name": "stdout",
     "output_type": "stream",
     "text": [
      "\n"
     ]
    }
   ],
   "source": [
    "mdm4_splicing_genex = gal.mat_corrs_naive(tcga_splicing[\"MDM4_ENSG00000198625_ENSG00000198625.8_ES_1_204501318:204501374:204506557:204506625:204507336:204507436_204506557:204506625\"],\n",
    "                                          tcga_genex,\n",
    "                                          pbar=True,\n",
    "                                          method=\"spearman\"\n",
    "                                          )\n",
    "\n",
    "rpl22l1_splicing_genex = gal.mat_corrs_naive(tcga_splicing[\"RPL22L1_ENSG00000163584_ENSG00000163584.13_A3_3_170586086:170586168:170585801:170585923:170585801:170585990_170585923:170585990\"],\n",
    "                                             tcga_genex,\n",
    "                                             pbar=True,\n",
    "                                             method=\"spearman\"\n",
    "                                             )\n",
    "\n",
    "mdm4_splicing_genex.to_hdf(\n",
    "    \"../data/intermediate/mdm4_splicing_genex.h5\", key=\"mdm4_splicing_genex\", mode=\"w\")\n",
    "\n",
    "rpl22l1_splicing_genex.to_hdf(\n",
    "    \"../data/intermediate/rpl22l1_splicing_genex.h5\", key=\"rpl22l1_splicing_genex\", mode=\"w\")\n"
   ]
  },
  {
   "cell_type": "code",
   "execution_count": 30,
   "metadata": {
    "ExecuteTime": {
     "end_time": "2020-05-10T06:55:26.182175Z",
     "start_time": "2020-05-10T06:29:59.452650Z"
    }
   },
   "outputs": [
    {
     "data": {
      "application/vnd.jupyter.widget-view+json": {
       "model_id": "bd7a1ba365c0419284ed59ff26c8b906",
       "version_major": 2,
       "version_minor": 0
      },
      "text/plain": [
       "HBox(children=(IntProgress(value=0, max=13), HTML(value='')))"
      ]
     },
     "metadata": {},
     "output_type": "display_data"
    },
    {
     "name": "stdout",
     "output_type": "stream",
     "text": [
      "\n"
     ]
    },
    {
     "data": {
      "application/vnd.jupyter.widget-view+json": {
       "model_id": "ee293f47debc40c6b9cec479eb1e98d8",
       "version_major": 2,
       "version_minor": 0
      },
      "text/plain": [
       "HBox(children=(IntProgress(value=0, max=30), HTML(value='')))"
      ]
     },
     "metadata": {},
     "output_type": "display_data"
    },
    {
     "name": "stdout",
     "output_type": "stream",
     "text": [
      "\n"
     ]
    }
   ],
   "source": [
    "mdm4_splicing_genex_subtyped = gal.mat_corrs_subtyped(tcga_splicing[\"MDM4_ENSG00000198625_ENSG00000198625.8_ES_1_204501318:204501374:204506557:204506625:204507336:204507436_204506557:204506625\"],\n",
    "                                               tcga_genex,\n",
    "                                               tcga_sample_info[\"abbreviated_disease\"],\n",
    "                                               pbar=True,\n",
    "                                               stack=True,\n",
    "                                               min_count=50,\n",
    "                                               method=\"spearman\"\n",
    "                                               )\n",
    "\n",
    "rpl22l1_splicing_genex_subtyped = gal.mat_corrs_subtyped(tcga_splicing[\"RPL22L1_ENSG00000163584_ENSG00000163584.13_A3_3_170586086:170586168:170585801:170585923:170585801:170585990_170585923:170585990\"],\n",
    "                                                  tcga_genex,\n",
    "                                                  tcga_sample_info[\"abbreviated_disease\"],\n",
    "                                                  pbar=True,\n",
    "                                                  stack=True,\n",
    "                                                  min_count=50,\n",
    "                                                  method=\"spearman\"\n",
    "                                                  )\n",
    "\n",
    "mdm4_splicing_genex_subtyped.to_hdf(\n",
    "    \"../data/intermediate/mdm4_splicing_genex_subtyped.h5\", key=\"mdm4_splicing_genex_subtyped\", mode=\"w\")\n",
    "rpl22l1_splicing_genex_subtyped.to_hdf(\n",
    "    \"../data/intermediate/rpl22l1_splicing_genex_subtyped.h5\", key=\"rpl22l1_splicing_genex_subtyped\", mode=\"w\")\n"
   ]
  },
  {
   "cell_type": "markdown",
   "metadata": {},
   "source": [
    "# Co-splicing correlations"
   ]
  },
  {
   "cell_type": "code",
   "execution_count": 31,
   "metadata": {
    "ExecuteTime": {
     "end_time": "2020-05-10T07:24:36.881725Z",
     "start_time": "2020-05-10T06:55:26.184500Z"
    }
   },
   "outputs": [
    {
     "data": {
      "application/vnd.jupyter.widget-view+json": {
       "model_id": "fa8a9807f3064270a0689225877f22b6",
       "version_major": 2,
       "version_minor": 0
      },
      "text/plain": [
       "HBox(children=(IntProgress(value=0, max=146647), HTML(value='')))"
      ]
     },
     "metadata": {},
     "output_type": "display_data"
    },
    {
     "name": "stdout",
     "output_type": "stream",
     "text": [
      "\n"
     ]
    },
    {
     "data": {
      "application/vnd.jupyter.widget-view+json": {
       "model_id": "499f2b21984146f488ae5a0b9fcd66d2",
       "version_major": 2,
       "version_minor": 0
      },
      "text/plain": [
       "HBox(children=(IntProgress(value=0, max=146647), HTML(value='')))"
      ]
     },
     "metadata": {},
     "output_type": "display_data"
    },
    {
     "name": "stdout",
     "output_type": "stream",
     "text": [
      "\n"
     ]
    }
   ],
   "source": [
    "mdm4_cosplicing = gal.mat_corrs_naive(tcga_splicing[\"MDM4_ENSG00000198625_ENSG00000198625.8_ES_1_204501318:204501374:204506557:204506625:204507336:204507436_204506557:204506625\"],\n",
    "                                      tcga_splicing,\n",
    "                                      pbar=True,\n",
    "                                      method=\"spearman\"\n",
    "                                      )\n",
    "\n",
    "rpl22l1_cosplicing = gal.mat_corrs_naive(tcga_splicing[\"RPL22L1_ENSG00000163584_ENSG00000163584.13_A3_3_170586086:170586168:170585801:170585923:170585801:170585990_170585923:170585990\"],\n",
    "                                         tcga_splicing,\n",
    "                                         pbar=True,\n",
    "                                         method=\"spearman\"\n",
    "                                         )\n",
    "\n",
    "mdm4_cosplicing.to_hdf(\n",
    "    \"../data/intermediate/mdm4_cosplicing.h5\", key=\"mdm4_cosplicing\", mode=\"w\")\n",
    "\n",
    "rpl22l1_cosplicing.to_hdf(\n",
    "    \"../data/intermediate/rpl22l1_cosplicing.h5\", key=\"rpl22l1_cosplicing\", mode=\"w\")"
   ]
  },
  {
   "cell_type": "code",
   "execution_count": 32,
   "metadata": {
    "ExecuteTime": {
     "end_time": "2020-05-10T10:45:53.402250Z",
     "start_time": "2020-05-10T07:24:36.888107Z"
    }
   },
   "outputs": [
    {
     "data": {
      "application/vnd.jupyter.widget-view+json": {
       "model_id": "f3a01dbd9327400aaacb9ee86e926ade",
       "version_major": 2,
       "version_minor": 0
      },
      "text/plain": [
       "HBox(children=(IntProgress(value=0, max=13), HTML(value='')))"
      ]
     },
     "metadata": {},
     "output_type": "display_data"
    },
    {
     "name": "stdout",
     "output_type": "stream",
     "text": [
      "\n"
     ]
    },
    {
     "data": {
      "application/vnd.jupyter.widget-view+json": {
       "model_id": "7b6825024bea473aa482bf22ea235c1b",
       "version_major": 2,
       "version_minor": 0
      },
      "text/plain": [
       "HBox(children=(IntProgress(value=0, max=30), HTML(value='')))"
      ]
     },
     "metadata": {},
     "output_type": "display_data"
    },
    {
     "name": "stdout",
     "output_type": "stream",
     "text": [
      "\n"
     ]
    }
   ],
   "source": [
    "mdm4_cosplicing_subtyped = gal.mat_corrs_subtyped(tcga_splicing[\"MDM4_ENSG00000198625_ENSG00000198625.8_ES_1_204501318:204501374:204506557:204506625:204507336:204507436_204506557:204506625\"],\n",
    "                                                  tcga_splicing,\n",
    "                                                  tcga_sample_info[\"abbreviated_disease\"],\n",
    "                                                  pbar=True,\n",
    "                                                  stack=True,\n",
    "                                                  min_count=50,\n",
    "                                                  method=\"spearman\"\n",
    "                                                  )\n",
    "\n",
    "rpl22l1_cosplicing_subtyped = gal.mat_corrs_subtyped(tcga_splicing[\"RPL22L1_ENSG00000163584_ENSG00000163584.13_A3_3_170586086:170586168:170585801:170585923:170585801:170585990_170585923:170585990\"],\n",
    "                                                     tcga_splicing,\n",
    "                                                     tcga_sample_info[\"abbreviated_disease\"],\n",
    "                                                     pbar=True,\n",
    "                                                     stack=True,\n",
    "                                                     min_count=50,\n",
    "                                                     method=\"spearman\"\n",
    "                                                     )\n",
    "\n",
    "mdm4_cosplicing_subtyped.to_hdf(\n",
    "    \"../data/intermediate/mdm4_cosplicing_subtyped.h5\", key=\"mdm4_cosplicing_subtyped\", mode=\"w\")\n",
    "rpl22l1_cosplicing_subtyped.to_hdf(\n",
    "    \"../data/intermediate/rpl22l1_cosplicing_subtyped.h5\", key=\"rpl22l1_cosplicing_subtyped\", mode=\"w\")"
   ]
  }
 ],
 "metadata": {
  "kernelspec": {
   "display_name": "Python 3",
   "language": "python",
   "name": "python3"
  },
  "toc": {
   "base_numbering": 1,
   "nav_menu": {},
   "number_sections": true,
   "sideBar": true,
   "skip_h1_title": false,
   "title_cell": "Table of Contents",
   "title_sidebar": "Contents",
   "toc_cell": false,
   "toc_position": {},
   "toc_section_display": true,
   "toc_window_display": true
  }
 },
 "nbformat": 4,
 "nbformat_minor": 2
}
