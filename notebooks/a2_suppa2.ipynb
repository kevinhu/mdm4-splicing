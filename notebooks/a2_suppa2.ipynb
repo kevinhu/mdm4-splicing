{
 "cells": [
  {
   "cell_type": "code",
   "execution_count": 77,
   "metadata": {
    "ExecuteTime": {
     "end_time": "2019-10-12T20:53:03.796606Z",
     "start_time": "2019-10-12T20:53:03.794360Z"
    }
   },
   "outputs": [],
   "source": [
    "import pandas as pd\n",
    "import numpy as np"
   ]
  },
  {
   "cell_type": "code",
   "execution_count": 78,
   "metadata": {
    "ExecuteTime": {
     "end_time": "2019-10-12T20:53:04.844886Z",
     "start_time": "2019-10-12T20:53:04.056190Z"
    }
   },
   "outputs": [],
   "source": [
    "splice_types = [\"A3\",\"A5\",\"AF\",\"AL\",\"MX\",\"RI\",\"SE\"]\n",
    "\n",
    "psis = [pd.read_csv(\"../data/intermediate/suppa_exon_psis/\"+x+\".psi\",sep=\"\\t\") for x in splice_types]"
   ]
  },
  {
   "cell_type": "code",
   "execution_count": 79,
   "metadata": {
    "ExecuteTime": {
     "end_time": "2019-10-12T20:53:04.856435Z",
     "start_time": "2019-10-12T20:53:04.846887Z"
    }
   },
   "outputs": [],
   "source": [
    "experiments = pd.read_csv(\"../data/intermediate/experiment_setup.txt\",sep=\"\\t\")\n",
    "samples = list(experiments[\"sample\"])\n",
    "\n",
    "sample_groups = [samples[0:3],\n",
    "                 samples[3:6],\n",
    "                 samples[6:9],\n",
    "                 samples[9:12],\n",
    "                 samples[12:15],\n",
    "                 samples[15:18],\n",
    "                 samples[18:21],\n",
    "                ]\n",
    "sample_names = [\"RPL22_oe_c\",\n",
    "                \"RPL22_oe_t\",\n",
    "                \"RPL22L1_oe_c\",\n",
    "                \"RPL22L1_oe_t\",\n",
    "                \"shluc\",\n",
    "                \"sh704\",\n",
    "                \"sh705\"]"
   ]
  },
  {
   "cell_type": "code",
   "execution_count": 80,
   "metadata": {
    "ExecuteTime": {
     "end_time": "2019-10-12T20:53:12.563171Z",
     "start_time": "2019-10-12T20:53:04.858203Z"
    }
   },
   "outputs": [],
   "source": [
    "for splice_type, splice_psis in zip(splice_types, psis):\n",
    "    \n",
    "    for sample_name, sample_group in zip(sample_names, sample_groups):\n",
    "        \n",
    "        sample_psis = splice_psis[sample_group]\n",
    "        \n",
    "        sample_psis.to_csv(\"../data/intermediate/suppa_exon_psis_grouped/\"+splice_type+\"_\"+sample_name+\".psi\",\n",
    "                           sep=\"\\t\",\n",
    "                           index_label=False\n",
    "                          )\n",
    "        "
   ]
  },
  {
   "cell_type": "code",
   "execution_count": 81,
   "metadata": {
    "ExecuteTime": {
     "end_time": "2019-10-12T20:53:13.105731Z",
     "start_time": "2019-10-12T20:53:12.565399Z"
    }
   },
   "outputs": [],
   "source": [
    "suppa_tpms = pd.read_csv(\"../data/processed/tpm_matrix_suppa.txt\",sep=\"\\t\")"
   ]
  },
  {
   "cell_type": "code",
   "execution_count": null,
   "metadata": {
    "ExecuteTime": {
     "start_time": "2019-10-12T20:53:06.259Z"
    }
   },
   "outputs": [],
   "source": [
    "for sample_name, sample_group in zip(sample_names, sample_groups):\n",
    "        \n",
    "        sample_tpms = suppa_tpms[sample_group]\n",
    "        \n",
    "        sample_tpms.to_csv(\"../data/processed/grouped_tpms/\"+sample_name+\".txt\",\n",
    "                           sep=\"\\t\",\n",
    "                           index_label=False)\n",
    "        "
   ]
  }
 ],
 "metadata": {
  "kernelspec": {
   "display_name": "Python 3",
   "language": "python",
   "name": "python3"
  },
  "language_info": {
   "codemirror_mode": {
    "name": "ipython",
    "version": 3
   },
   "file_extension": ".py",
   "mimetype": "text/x-python",
   "name": "python",
   "nbconvert_exporter": "python",
   "pygments_lexer": "ipython3",
   "version": "3.7.4"
  },
  "toc": {
   "base_numbering": 1,
   "nav_menu": {},
   "number_sections": true,
   "sideBar": true,
   "skip_h1_title": false,
   "title_cell": "Table of Contents",
   "title_sidebar": "Contents",
   "toc_cell": false,
   "toc_position": {},
   "toc_section_display": true,
   "toc_window_display": false
  }
 },
 "nbformat": 4,
 "nbformat_minor": 2
}
