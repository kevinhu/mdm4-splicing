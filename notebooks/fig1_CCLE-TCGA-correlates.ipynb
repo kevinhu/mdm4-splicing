{
 "cells": [
  {
   "cell_type": "code",
   "execution_count": 1,
   "metadata": {
    "ExecuteTime": {
     "end_time": "2021-05-28T05:22:31.510869Z",
     "start_time": "2021-05-28T05:22:29.465924Z"
    }
   },
   "outputs": [],
   "source": [
    "import numpy as np\n",
    "import pandas as pd\n",
    "\n",
    "import matplotlib.pyplot as plt\n",
    "import matplotlib as mpl\n",
    "import seaborn as sns\n",
    "\n",
    "from scipy.stats import kruskal\n",
    "from scipy.stats import gaussian_kde\n",
    "\n",
    "from statsmodels.stats.multitest import multipletests\n",
    "\n",
    "import cancer_data \n",
    "import many\n",
    "\n",
    "from adjustText import adjust_text\n",
    "\n",
    "import config\n",
    "config.config_visuals()"
   ]
  },
  {
   "cell_type": "markdown",
   "metadata": {},
   "source": [
    "# Load data"
   ]
  },
  {
   "cell_type": "code",
   "execution_count": 2,
   "metadata": {
    "ExecuteTime": {
     "end_time": "2021-05-28T05:22:31.581373Z",
     "start_time": "2021-05-28T05:22:31.512690Z"
    }
   },
   "outputs": [],
   "source": [
    "merged_ccle_info = pd.read_csv(\n",
    "    \"../data/supplementary/S1_merged-ccle-info.txt\", sep=\"\\t\", index_col=0\n",
    ")\n",
    "merged_tcga_info = pd.read_csv(\n",
    "    \"../data/supplementary/S2_merged-tcga-info.txt\", sep=\"\\t\", index_col=0\n",
    ")"
   ]
  },
  {
   "cell_type": "code",
   "execution_count": 10,
   "metadata": {
    "ExecuteTime": {
     "end_time": "2021-05-28T05:23:44.598761Z",
     "start_time": "2021-05-28T05:23:44.591420Z"
    }
   },
   "outputs": [
    {
     "data": {
      "text/plain": [
       "UCEC    170\n",
       "COAD     85\n",
       "STAD     84\n",
       "BRCA     16\n",
       "DLBC     11\n",
       "CESC      8\n",
       "READ      7\n",
       "OV        7\n",
       "KIRC      5\n",
       "HNSC      4\n",
       "ACC       4\n",
       "PRAD      3\n",
       "LUSC      3\n",
       "LUAD      3\n",
       "LIHC      3\n",
       "SKCM      3\n",
       "ESCA      3\n",
       "UCS       2\n",
       "BLCA      2\n",
       "SARC      2\n",
       "MESO      2\n",
       "LGG       2\n",
       "GBM       1\n",
       "THYM      1\n",
       "Name: Abbreviated_disease, dtype: int64"
      ]
     },
     "execution_count": 10,
     "metadata": {},
     "output_type": "execute_result"
    }
   ],
   "source": [
    "merged_tcga_info[merged_tcga_info[\"MSI\"]==True][\"Abbreviated_disease\"].value_counts()"
   ]
  },
  {
   "cell_type": "markdown",
   "metadata": {},
   "source": [
    "# MSI occurrence"
   ]
  },
  {
   "cell_type": "code",
   "execution_count": 11,
   "metadata": {
    "ExecuteTime": {
     "end_time": "2021-05-28T05:23:48.709605Z",
     "start_time": "2021-05-28T05:23:48.696119Z"
    }
   },
   "outputs": [],
   "source": [
    "tcga_msi_types = [\"COAD\", \"STAD\", \"UCEC\"]\n",
    "ccle_msi_types = [\n",
    "    \"Colon/Colorectal Cancer\",\n",
    "    \"Endometrial/Uterine Cancer\",\n",
    "    \"Ovarian Cancer\",\n",
    "    \"Gastric Cancer\",\n",
    "]\n",
    "\n",
    "merged_ccle_info[\"RPL22_k15\"] = (\n",
    "    merged_ccle_info[\"RPL22_mutation\"]\n",
    "    .dropna()\n",
    "    .apply(lambda x: \"chr1_6257785-6257785_T>-\" in x)\n",
    ")\n",
    "\n",
    "tcga_msi_type_filtered = merged_tcga_info[\n",
    "    merged_tcga_info[\"Abbreviated_disease\"].isin(tcga_msi_types)\n",
    "]\n",
    "ccle_msi_type_filtered = merged_ccle_info[\n",
    "    merged_ccle_info[\"Primary_disease\"].isin(ccle_msi_types)\n",
    "]\n",
    "\n",
    "tcga_msi_type_filtered = tcga_msi_type_filtered.dropna(\n",
    "    subset=[\"MSI\", \"RPL22_k15fs_mutation\"], axis=0\n",
    ")\n",
    "ccle_msi_type_filtered = ccle_msi_type_filtered.dropna(\n",
    "    subset=[\"MSI\", \"RPL22_k15\"], axis=0\n",
    ")\n",
    "\n",
    "tcga_msi_type_filtered = tcga_msi_type_filtered[tcga_msi_type_filtered[\"MSI\"]==True]\n",
    "ccle_msi_type_filtered = ccle_msi_type_filtered[ccle_msi_type_filtered[\"MSI\"]==True]\n",
    "\n",
    "ccle_msi_type_filtered[\"Primary_disease\"] = ccle_msi_type_filtered[\n",
    "    \"Primary_disease\"\n",
    "].replace(\n",
    "    {\n",
    "        \"Colon/Colorectal Cancer\": \"Colon\",\n",
    "        \"Endometrial/Uterine Cancer\": \"Endometrial\",\n",
    "        \"Ovarian Cancer\": \"Ovarian\",\n",
    "        \"Gastric Cancer\": \"Gastric\",\n",
    "    }\n",
    ")"
   ]
  },
  {
   "cell_type": "code",
   "execution_count": 12,
   "metadata": {
    "ExecuteTime": {
     "end_time": "2021-05-28T05:23:51.433107Z",
     "start_time": "2021-05-28T05:23:51.145200Z"
    }
   },
   "outputs": [
    {
     "data": {
      "image/png": "[encoded data removed]",
      "text/plain": [
       "<Figure size 288x288 with 2 Axes>"
      ]
     },
     "metadata": {},
     "output_type": "display_data"
    }
   ],
   "source": [
    "fig, axes = plt.subplots(2, 1, figsize=(4, 4))\n",
    "\n",
    "ax = axes[0]\n",
    "\n",
    "ccle_msi_type_filtered.groupby([\"Primary_disease\", \"RPL22_k15\"]).size().unstack(\n",
    "    -1\n",
    ").plot(\n",
    "    kind=\"bar\",\n",
    "    stacked=True,\n",
    "    ax=ax,\n",
    "    legend=False,\n",
    "    cmap=mpl.colors.ListedColormap([\"#e1e5ea\", \"#b83b5e\"]),\n",
    ")\n",
    "\n",
    "ax.spines[\"top\"].set_visible(False)\n",
    "ax.spines[\"right\"].set_visible(False)\n",
    "\n",
    "ax.set_xlabel(\"\")\n",
    "ax.set_ylabel(\"Count\")\n",
    "ax.set_xticklabels(\n",
    "    ax.get_xticklabels(),\n",
    "    rotation=45,\n",
    "    horizontalalignment=\"right\",\n",
    ")\n",
    "ax.set_title(\"CCLE\")\n",
    "\n",
    "ax = axes[1]\n",
    "\n",
    "tcga_msi_type_filtered.groupby(\n",
    "    [\"Abbreviated_disease\", \"RPL22_k15fs_mutation\"]\n",
    ").size().unstack(-1).plot(\n",
    "    kind=\"bar\",\n",
    "    stacked=True,\n",
    "    ax=ax,\n",
    "    legend=False,\n",
    "    cmap=mpl.colors.ListedColormap([\"#e1e5ea\", \"#b83b5e\"]),\n",
    ")\n",
    "\n",
    "ax.spines[\"top\"].set_visible(False)\n",
    "ax.spines[\"right\"].set_visible(False)\n",
    "\n",
    "ax.set_xlabel(\"\")\n",
    "ax.set_ylabel(\"Count\")\n",
    "ax.set_xticklabels(\n",
    "    ax.get_xticklabels(),\n",
    "    rotation=45,\n",
    "    horizontalalignment=\"right\",\n",
    ")\n",
    "ax.set_title(\"TCGA\")\n",
    "\n",
    "plt.subplots_adjust(hspace=1)\n",
    "\n",
    "plt.savefig(\"../plots/1_msi-totals.pdf\", transparent=True, bbox_inches=\"tight\")"
   ]
  },
  {
   "cell_type": "markdown",
   "metadata": {},
   "source": [
    "# Boxplots"
   ]
  },
  {
   "cell_type": "code",
   "execution_count": 3,
   "metadata": {
    "ExecuteTime": {
     "end_time": "2021-05-13T16:03:58.232740Z",
     "start_time": "2021-05-13T16:03:58.033794Z"
    }
   },
   "outputs": [],
   "source": [
    "def tcga_rpl22_status(row):\n",
    "    if row[\"RPL22_k15fs_mutation\"] == True:\n",
    "        return \"K15.fs\"\n",
    "\n",
    "    else:\n",
    "        if not np.isnan(row[\"RPL22_copy_number_thresholded\"]):\n",
    "            return \"ΔCN=\" + str(int(row[\"RPL22_copy_number_thresholded\"]))\n",
    "        \n",
    "        return np.nan\n",
    "\n",
    "\n",
    "merged_tcga_info[\"RPL22_status\"] = merged_tcga_info.apply(tcga_rpl22_status, axis=1)\n",
    "\n",
    "rpl22_order = [\"K15.fs\", \"ΔCN=-2\", \"ΔCN=-1\", \"ΔCN=0\", \"ΔCN=1\", \"ΔCN=2\"]\n",
    "\n",
    "mut_hue = \"#e23e57\"\n",
    "wt_hue = \"#eaeaea\"\n",
    "\n",
    "rpl22_hues = dict(zip(rpl22_order, [mut_hue] + [wt_hue] * 5))"
   ]
  },
  {
   "cell_type": "code",
   "execution_count": 4,
   "metadata": {
    "ExecuteTime": {
     "end_time": "2021-05-13T16:03:58.240483Z",
     "start_time": "2021-05-13T16:03:58.234396Z"
    }
   },
   "outputs": [],
   "source": [
    "def plot_rpl22(rpl22_info, y, ylabel=\"y\"):\n",
    "\n",
    "    plt.figure(figsize=(4, 3))\n",
    "\n",
    "    ax = plt.subplot(111)\n",
    "\n",
    "    rpl22_info_join = rpl22_info.join(y.dropna(), how=\"inner\")\n",
    "\n",
    "    rpl22_counts = rpl22_info_join[\"RPL22_status\"].value_counts()\n",
    "\n",
    "    grouped_y = rpl22_info_join.groupby(\"RPL22_status\")[y.name].apply(list)\n",
    "    grouped_y = list(grouped_y)\n",
    "\n",
    "    pval = kruskal(*grouped_y)[1]\n",
    "\n",
    "    flierprops = dict(\n",
    "        marker=\".\",\n",
    "        markersize=8,\n",
    "        markerfacecolor=(0, 0, 0, 0),\n",
    "        markeredgecolor=\"black\",\n",
    "        markeredgewidth=0.5,\n",
    "    )\n",
    "\n",
    "    sns.boxplot(\n",
    "        rpl22_info[\"RPL22_status\"],\n",
    "        y,\n",
    "        notch=True,\n",
    "        order=rpl22_order,\n",
    "        bootstrap=1000,\n",
    "        palette=rpl22_hues,\n",
    "        flierprops=flierprops,\n",
    "    )\n",
    "\n",
    "    plt.xlabel(\"RPL22 status\")\n",
    "    plt.ylabel(ylabel)\n",
    "\n",
    "    if pval == 0:\n",
    "        plt.text(\n",
    "            0.05, 1.025, \"P < \" + many.visuals.as_si(10 ** (-320), 2), transform=ax.transAxes\n",
    "        )\n",
    "\n",
    "    else:\n",
    "        plt.text(0.05, 1.025, \"P = \" + many.visuals.as_si(pval, 2), transform=ax.transAxes)\n",
    "\n",
    "    xticks = [x + \"\\n (\" + str(int(rpl22_counts.loc[x])) + \")\" for x in rpl22_order]\n",
    "\n",
    "    ax.set_xticklabels(xticks)\n",
    "\n",
    "    ax.spines[\"top\"].set_visible(False)\n",
    "    ax.spines[\"right\"].set_visible(False)\n",
    "\n",
    "    ax.spines[\"left\"].set_position((\"axes\", -0.025))\n",
    "    ax.spines[\"bottom\"].set_position((\"axes\", -0.025))"
   ]
  },
  {
   "cell_type": "code",
   "execution_count": 5,
   "metadata": {
    "ExecuteTime": {
     "end_time": "2021-05-13T16:03:58.882445Z",
     "start_time": "2021-05-13T16:03:58.241940Z"
    }
   },
   "outputs": [
    {
     "name": "stderr",
     "output_type": "stream",
     "text": [
      "/Users/kevinhu/Library/Caches/pypoetry/virtualenvs/kevinhu-Rgu4vvcg-py3.9/lib/python3.9/site-packages/seaborn/_decorators.py:36: FutureWarning: Pass the following variables as keyword args: x, y. From version 0.12, the only valid positional argument will be `data`, and passing other arguments without an explicit keyword will result in an error or misinterpretation.\n",
      "  warnings.warn(\n"
     ]
    },
    {
     "data": {
      "image/png": "[encoded data removed]",
      "text/plain": [
       "<Figure size 288x216 with 1 Axes>"
      ]
     },
     "metadata": {},
     "output_type": "display_data"
    }
   ],
   "source": [
    "plot_rpl22(merged_tcga_info[[\"RPL22_status\"]], merged_tcga_info[\"MDM2_mRNA\"], \"MDM2 mRNA expression\")"
   ]
  },
  {
   "cell_type": "code",
   "execution_count": 6,
   "metadata": {
    "ExecuteTime": {
     "end_time": "2021-05-13T16:03:59.308904Z",
     "start_time": "2021-05-13T16:03:58.884896Z"
    }
   },
   "outputs": [
    {
     "name": "stderr",
     "output_type": "stream",
     "text": [
      "/Users/kevinhu/Library/Caches/pypoetry/virtualenvs/kevinhu-Rgu4vvcg-py3.9/lib/python3.9/site-packages/seaborn/_decorators.py:36: FutureWarning: Pass the following variables as keyword args: x, y. From version 0.12, the only valid positional argument will be `data`, and passing other arguments without an explicit keyword will result in an error or misinterpretation.\n",
      "  warnings.warn(\n"
     ]
    },
    {
     "data": {
      "image/png": "[encoded data removed]",
      "text/plain": [
       "<Figure size 288x216 with 1 Axes>"
      ]
     },
     "metadata": {},
     "output_type": "display_data"
    }
   ],
   "source": [
    "plot_rpl22(merged_tcga_info[[\"RPL22_status\"]], merged_tcga_info[\"MDM4_mRNA\"], \"MDM2 mRNA expression\")"
   ]
  },
  {
   "cell_type": "code",
   "execution_count": 7,
   "metadata": {
    "ExecuteTime": {
     "end_time": "2021-05-13T16:03:59.760142Z",
     "start_time": "2021-05-13T16:03:59.312693Z"
    }
   },
   "outputs": [
    {
     "name": "stderr",
     "output_type": "stream",
     "text": [
      "/Users/kevinhu/Library/Caches/pypoetry/virtualenvs/kevinhu-Rgu4vvcg-py3.9/lib/python3.9/site-packages/seaborn/_decorators.py:36: FutureWarning: Pass the following variables as keyword args: x, y. From version 0.12, the only valid positional argument will be `data`, and passing other arguments without an explicit keyword will result in an error or misinterpretation.\n",
      "  warnings.warn(\n"
     ]
    },
    {
     "data": {
      "image/png": "[encoded data removed]",
      "text/plain": [
       "<Figure size 288x216 with 1 Axes>"
      ]
     },
     "metadata": {},
     "output_type": "display_data"
    }
   ],
   "source": [
    "plot_rpl22(merged_tcga_info[[\"RPL22_status\"]], merged_tcga_info[\"RPL22L1_mRNA\"], \"MDM2 mRNA expression\")"
   ]
  },
  {
   "cell_type": "code",
   "execution_count": 8,
   "metadata": {
    "ExecuteTime": {
     "end_time": "2021-05-13T16:04:00.369400Z",
     "start_time": "2021-05-13T16:03:59.763162Z"
    }
   },
   "outputs": [
    {
     "name": "stderr",
     "output_type": "stream",
     "text": [
      "/Users/kevinhu/Library/Caches/pypoetry/virtualenvs/kevinhu-Rgu4vvcg-py3.9/lib/python3.9/site-packages/seaborn/_decorators.py:36: FutureWarning: Pass the following variables as keyword args: x, y. From version 0.12, the only valid positional argument will be `data`, and passing other arguments without an explicit keyword will result in an error or misinterpretation.\n",
      "  warnings.warn(\n"
     ]
    },
    {
     "data": {
      "image/png": "[encoded data removed]",
      "text/plain": [
       "<Figure size 288x216 with 1 Axes>"
      ]
     },
     "metadata": {},
     "output_type": "display_data"
    }
   ],
   "source": [
    "plot_rpl22(merged_tcga_info[[\"RPL22_status\"]], merged_tcga_info[\"RPL22L1_exon_3A_inclusion\"], \"MDM2 mRNA expression\")\n",
    "\n",
    "plt.savefig(\n",
    "    \"../plots/rpl22l1-exon-3a_rpl22_tcga.pdf\", bbox_inches=\"tight\", transparent=True\n",
    ")"
   ]
  },
  {
   "cell_type": "code",
   "execution_count": 16,
   "metadata": {
    "ExecuteTime": {
     "end_time": "2021-05-14T05:35:42.503506Z",
     "start_time": "2021-05-14T05:35:41.967001Z"
    }
   },
   "outputs": [
    {
     "name": "stderr",
     "output_type": "stream",
     "text": [
      "/Users/kevinhu/Library/Caches/pypoetry/virtualenvs/kevinhu-Rgu4vvcg-py3.9/lib/python3.9/site-packages/seaborn/_decorators.py:36: FutureWarning: Pass the following variables as keyword args: x, y. From version 0.12, the only valid positional argument will be `data`, and passing other arguments without an explicit keyword will result in an error or misinterpretation.\n",
      "  warnings.warn(\n"
     ]
    },
    {
     "data": {
      "image/png": "[encoded data removed]",
      "text/plain": [
       "<Figure size 288x216 with 1 Axes>"
      ]
     },
     "metadata": {},
     "output_type": "display_data"
    }
   ],
   "source": [
    "plot_rpl22(merged_tcga_info[[\"RPL22_status\"]], merged_tcga_info[\"MDM4_exon_6_inclusion\"], \"MDM4 exon 6 inclusion\")\n",
    "\n",
    "plt.savefig(\n",
    "    \"../plots/1e_rpl22l1-exon-3a_rpl22-tcga.pdf\", bbox_inches=\"tight\", transparent=True\n",
    ")"
   ]
  },
  {
   "cell_type": "markdown",
   "metadata": {},
   "source": [
    "# TCGA correlations"
   ]
  },
  {
   "cell_type": "code",
   "execution_count": 10,
   "metadata": {
    "ExecuteTime": {
     "end_time": "2021-05-13T16:04:05.849850Z",
     "start_time": "2021-05-13T16:04:00.791062Z"
    }
   },
   "outputs": [
    {
     "name": "stderr",
     "output_type": "stream",
     "text": [
      "/Users/kevinhu/Library/Caches/pypoetry/virtualenvs/kevinhu-Rgu4vvcg-py3.9/lib/python3.9/site-packages/numpy/lib/arraysetops.py:583: FutureWarning: elementwise comparison failed; returning scalar instead, but in the future will perform elementwise comparison\n",
      "  mask |= (ar1 == a)\n",
      "INFO:numexpr.utils:Note: NumExpr detected 16 cores but \"NUMEXPR_MAX_THREADS\" not set, so enforcing safe limit of 8.\n",
      "INFO:numexpr.utils:NumExpr defaulting to 8 threads.\n"
     ]
    }
   ],
   "source": [
    "tcga_mdm4_cosplicing = pd.read_csv(\n",
    "    \"../data/supplementary/S4-a_tcga-mdm4-cosplicing.txt\", sep=\"\\t\", index_col=0\n",
    ")\n",
    "tcga_rpl22l1_cosplicing = pd.read_csv(\n",
    "    \"../data/supplementary/S4-b_tcga-rpl22l1-cosplicing.txt\", sep=\"\\t\", index_col=0\n",
    ")\n",
    "\n",
    "tcga_mdm4_cosplicing = tcga_mdm4_cosplicing[np.abs(tcga_mdm4_cosplicing[\"spearman\"]) < 0.99]\n",
    "tcga_rpl22l1_cosplicing = tcga_rpl22l1_cosplicing[np.abs(tcga_rpl22l1_cosplicing[\"spearman\"]) < 0.99]"
   ]
  },
  {
   "cell_type": "code",
   "execution_count": 11,
   "metadata": {
    "ExecuteTime": {
     "end_time": "2021-05-13T16:04:11.421729Z",
     "start_time": "2021-05-13T16:04:05.852369Z"
    }
   },
   "outputs": [],
   "source": [
    "g19_7_definitions = cancer_data.load(\"g19_7_definitions\")\n",
    "ensg_id_to_name = dict(zip(g19_7_definitions[\"gene_id\"],g19_7_definitions[\"gene_name\"]))\n",
    "\n",
    "tcga_mdm4_cosplicing[\"label\"] = tcga_mdm4_cosplicing[\"first_splicing_event\"].apply(\n",
    "    lambda x: f\"{ensg_id_to_name.get(x.split('_')[0],'unnamed')}_{x.split('_')[1]}_{x.split('_')[2]}_{x.split('_')[-1]}\"\n",
    ")\n",
    "tcga_rpl22l1_cosplicing[\"label\"] = tcga_rpl22l1_cosplicing[\"first_splicing_event\"].apply(\n",
    "    lambda x: f\"{ensg_id_to_name.get(x.split('_')[0],'unnamed')}_{x.split('_')[1]}_{x.split('_')[2]}_{x.split('_')[-1]}\"\n",
    ")"
   ]
  },
  {
   "cell_type": "code",
   "execution_count": 15,
   "metadata": {
    "ExecuteTime": {
     "end_time": "2021-05-14T05:28:54.515363Z",
     "start_time": "2021-05-14T05:28:46.901978Z"
    }
   },
   "outputs": [
    {
     "data": {
      "image/png": "[encoded data removed]",
      "text/plain": [
       "<Figure size 216x288 with 1 Axes>"
      ]
     },
     "metadata": {},
     "output_type": "display_data"
    }
   ],
   "source": [
    "plt.figure(figsize=(3, 4))\n",
    "\n",
    "labels_mask = tcga_mdm4_cosplicing[\"-log10(Q value)\"] > 100\n",
    "\n",
    "labels_mask = labels_mask | (\n",
    "    (tcga_mdm4_cosplicing[\"spearman\"] < 0)\n",
    "    & (tcga_mdm4_cosplicing[\"-log10(Q value)\"] > 65)\n",
    ")\n",
    "labels_mask = labels_mask | (\n",
    "    (tcga_mdm4_cosplicing[\"-log10(Q value)\"] > 25)\n",
    "    & (tcga_mdm4_cosplicing[\"spearman\"] < -0.5)\n",
    ")\n",
    "\n",
    "many.visuals.dense_plot(\n",
    "    tcga_mdm4_cosplicing[\"spearman\"],\n",
    "    tcga_mdm4_cosplicing[\"-log10(Q value)\"],\n",
    "    text_adjust=True,\n",
    "    labels_mask=labels_mask,\n",
    "    labels=tcga_mdm4_cosplicing[\"label\"],\n",
    "    colormap=None,\n",
    ")\n",
    "\n",
    "plt.xlabel(\"Spearman correlation\")\n",
    "plt.ylabel(\"-log10(Q value)\")\n",
    "\n",
    "plt.savefig(\n",
    "    \"../plots/1c_mdm4-cosplicing.pdf\", dpi=512, bbox_inches=\"tight\", transparent=True\n",
    ")"
   ]
  },
  {
   "cell_type": "code",
   "execution_count": 13,
   "metadata": {
    "ExecuteTime": {
     "end_time": "2021-05-13T16:04:14.497119Z",
     "start_time": "2021-05-13T16:04:12.988537Z"
    }
   },
   "outputs": [
    {
     "data": {
      "text/plain": [
       "Text(-2.125, 0.5, '-log10(Q value)')"
      ]
     },
     "execution_count": 13,
     "metadata": {},
     "output_type": "execute_result"
    },
    {
     "data": {
      "image/png": "[encoded data removed]",
      "text/plain": [
       "<Figure size 216x288 with 1 Axes>"
      ]
     },
     "metadata": {},
     "output_type": "display_data"
    }
   ],
   "source": [
    "plt.figure(figsize=(3, 4))\n",
    "\n",
    "labels_mask = tcga_rpl22l1_cosplicing[\"-log10(Q value)\"] > 150\n",
    "\n",
    "many.visuals.dense_plot(\n",
    "    tcga_rpl22l1_cosplicing[\"spearman\"],\n",
    "    tcga_rpl22l1_cosplicing[\"-log10(Q value)\"],\n",
    "    text_adjust=True,\n",
    "    labels_mask=labels_mask,\n",
    "    labels=tcga_rpl22l1_cosplicing[\"label\"],\n",
    "    colormap=None,\n",
    ")\n",
    "\n",
    "plt.xlabel(\"Spearman correlation\")\n",
    "plt.ylabel(\"-log10(Q value)\")"
   ]
  },
  {
   "cell_type": "markdown",
   "metadata": {},
   "source": [
    "# RPL22 alterations by primary site"
   ]
  },
  {
   "cell_type": "code",
   "execution_count": 14,
   "metadata": {
    "ExecuteTime": {
     "end_time": "2021-05-13T16:04:14.747610Z",
     "start_time": "2021-05-13T16:04:14.498963Z"
    }
   },
   "outputs": [
    {
     "ename": "NameError",
     "evalue": "name 'rpl22_info' is not defined",
     "output_type": "error",
     "traceback": [
      "\u001b[0;31m---------------------------------------------------------------------------\u001b[0m",
      "\u001b[0;31mNameError\u001b[0m                                 Traceback (most recent call last)",
      "\u001b[0;32m<ipython-input-14-4ab97d486d4f>\u001b[0m in \u001b[0;36m<module>\u001b[0;34m\u001b[0m\n\u001b[0;32m----> 1\u001b[0;31m rpl22_subtype_info = rpl22_info.join(\n\u001b[0m\u001b[1;32m      2\u001b[0m     \u001b[0mtcga_sample_info\u001b[0m\u001b[0;34m[\u001b[0m\u001b[0;34m\"abbreviated_disease\"\u001b[0m\u001b[0;34m]\u001b[0m\u001b[0;34m,\u001b[0m \u001b[0mhow\u001b[0m\u001b[0;34m=\u001b[0m\u001b[0;34m\"inner\"\u001b[0m\u001b[0;34m\u001b[0m\u001b[0;34m\u001b[0m\u001b[0m\n\u001b[1;32m      3\u001b[0m )\n\u001b[1;32m      4\u001b[0m \u001b[0;34m\u001b[0m\u001b[0m\n\u001b[1;32m      5\u001b[0m subtype_proportions = rpl22_subtype_info.groupby([\"abbreviated_disease\"])[\n",
      "\u001b[0;31mNameError\u001b[0m: name 'rpl22_info' is not defined"
     ]
    }
   ],
   "source": [
    "rpl22_subtype_info = rpl22_info.join(\n",
    "    tcga_sample_info[\"abbreviated_disease\"], how=\"inner\"\n",
    ")\n",
    "\n",
    "subtype_proportions = rpl22_subtype_info.groupby([\"abbreviated_disease\"])[\n",
    "    \"RPL22_status\"\n",
    "].value_counts()\n",
    "subtype_proportions = subtype_proportions.unstack().fillna(0)\n",
    "\n",
    "subtype_totals = subtype_proportions.sum(axis=1)\n",
    "\n",
    "subtype_proportions = subtype_proportions.div(subtype_totals, axis=0) * 100\n",
    "subtype_proportions[\"total\"] = subtype_totals.astype(int)\n",
    "\n",
    "altered_classes = [\n",
    "    \"ΔCN=-1\",\n",
    "    \"ΔCN=-2\",\n",
    "    \"K15.fs\",\n",
    "]\n",
    "\n",
    "subtype_proportions[\"altered_proportion\"] = subtype_proportions[altered_classes].sum(\n",
    "    axis=1\n",
    ")\n",
    "subtype_proportions = subtype_proportions.sort_values(\n",
    "    by=\"altered_proportion\", ascending=False\n",
    ")\n",
    "\n",
    "subtype_proportions[\"display_disease\"] = subtype_proportions.index\n",
    "subtype_proportions[\"display_disease\"] = (\n",
    "    subtype_proportions[\"display_disease\"]\n",
    "    + \" (\"\n",
    "    + subtype_proportions[\"total\"].astype(str)\n",
    "    + \")\"\n",
    ")\n",
    "\n",
    "subtype_proportions = subtype_proportions[subtype_proportions[\"total\"] >= 50]"
   ]
  },
  {
   "cell_type": "code",
   "execution_count": null,
   "metadata": {
    "ExecuteTime": {
     "end_time": "2021-05-13T16:04:14.749948Z",
     "start_time": "2021-05-13T16:03:57.026Z"
    }
   },
   "outputs": [],
   "source": [
    "plt.figure(figsize=(7, 3))\n",
    "\n",
    "ax = plt.subplot(111)\n",
    "\n",
    "subtype_proportions.plot(\n",
    "    x=\"display_disease\",\n",
    "    y=altered_classes,\n",
    "    kind=\"bar\",\n",
    "    stacked=True,\n",
    "    cmap=mpl.colors.ListedColormap([\"#ebd5d5\", \"#fab57a\", \"#b83b5e\"]),\n",
    "    ax=ax,\n",
    "    width=0.75,\n",
    ")\n",
    "\n",
    "plt.xlabel(\"Subtype disease\")\n",
    "\n",
    "ax.spines[\"top\"].set_visible(False)\n",
    "ax.spines[\"right\"].set_visible(False)\n",
    "ax.spines[\"left\"].set_position((\"axes\", -0.025))\n",
    "\n",
    "plt.xticks(rotation=45, ha=\"right\")\n",
    "\n",
    "plt.ylabel(\"% affected\")\n",
    "\n",
    "plt.savefig(\n",
    "    \"../plots/rpl22_subtype_distribution.pdf\", bbox_inches=\"tight\", transparent=True\n",
    ")"
   ]
  },
  {
   "cell_type": "markdown",
   "metadata": {},
   "source": [
    "# CCLE"
   ]
  },
  {
   "cell_type": "markdown",
   "metadata": {},
   "source": [
    "## RPPA correlations"
   ]
  },
  {
   "cell_type": "code",
   "execution_count": null,
   "metadata": {
    "ExecuteTime": {
     "end_time": "2021-05-13T16:04:14.751514Z",
     "start_time": "2021-05-13T16:03:57.029Z"
    }
   },
   "outputs": [],
   "source": [
    "mdm4_rppa = pd.concat(\n",
    "    [\n",
    "        merged_ccle_info[\"MDM4_ENSG00000198625.8_mRNA\"].rename(\"MDM4_genex\"),\n",
    "        merged_ccle_info[\"MDM4_mean_chr1_204506558_204506625_ENSG00000198625.8_exonusage\"].rename(\"MDM4_exon_6\"),\n",
    "        merged_ccle_info[\"MDM4_RPPA_protein\"].rename(\"MDM4_protein\"),\n",
    "    ],\n",
    "    axis=1,\n",
    "    sort=True,\n",
    ")"
   ]
  },
  {
   "cell_type": "code",
   "execution_count": null,
   "metadata": {
    "ExecuteTime": {
     "end_time": "2021-05-13T16:04:14.752725Z",
     "start_time": "2021-05-13T16:03:57.032Z"
    }
   },
   "outputs": [],
   "source": [
    "fig, axes = plt.subplots(1, 3, figsize=(7, 7 / 3), sharey=True)\n",
    "\n",
    "text_pos = (0.075, 0.925)\n",
    "\n",
    "ax = axes[0]\n",
    "many.visuals.dense_regression(\n",
    "    mdm4_rppa[\"MDM4_genex\"],\n",
    "    mdm4_rppa[\"MDM4_protein\"],\n",
    "    \"pearson\",\n",
    "    ax=ax,\n",
    "    text_pos=text_pos,\n",
    "    colormap=\"Blues\",\n",
    "    cmap_offset=0.5,\n",
    ")\n",
    "ax.set_ylabel(\"MDM4 protein (RPPA)\")\n",
    "ax.set_xlabel(\"MDM4 mRNA\")\n",
    "\n",
    "ax = axes[1]\n",
    "many.visuals.dense_regression(\n",
    "    mdm4_rppa[\"MDM4_exon_6\"],\n",
    "    mdm4_rppa[\"MDM4_protein\"],\n",
    "    \"pearson\",\n",
    "    ax=ax,\n",
    "    text_pos=text_pos,\n",
    "    colormap=\"Blues\",\n",
    "    cmap_offset=0.5,\n",
    ")\n",
    "ax.set_xlabel(\"MDM4 exon 6 inclusion\")\n",
    "\n",
    "mult = np.log2(2 ** mdm4_rppa[\"MDM4_genex\"] * mdm4_rppa[\"MDM4_exon_6\"] + 1)\n",
    "\n",
    "ax = axes[2]\n",
    "many.visuals.dense_regression(\n",
    "    mult,\n",
    "    mdm4_rppa[\"MDM4_protein\"],\n",
    "    \"pearson\",\n",
    "    ax=ax,\n",
    "    text_pos=text_pos,\n",
    "    colormap=\"Blues\",\n",
    "    cmap_offset=0.5,\n",
    ")\n",
    "\n",
    "ax.set_xlabel(\"MDM4 mRNA × exon 6\")\n",
    "\n",
    "plt.savefig(\n",
    "    \"../plots/MDM4_RPPA_correlations.pdf\",\n",
    "    bbox_inches=\"tight\",\n",
    "    transparent=True,\n",
    "    dpi=512,\n",
    ")"
   ]
  },
  {
   "cell_type": "markdown",
   "metadata": {},
   "source": [
    "## Mass-spec correlations"
   ]
  },
  {
   "cell_type": "code",
   "execution_count": null,
   "metadata": {
    "ExecuteTime": {
     "end_time": "2021-05-13T16:04:14.754637Z",
     "start_time": "2021-05-13T16:03:57.034Z"
    }
   },
   "outputs": [],
   "source": [
    "mdm4_ms = pd.concat(\n",
    "    [\n",
    "        merged_ccle_info[\"MDM4_ENSG00000198625.8_mRNA\"].rename(\"MDM4_genex\"),\n",
    "        merged_ccle_info[\"MDM4_mean_chr1_204506558_204506625_ENSG00000198625.8_exonusage\"].rename(\"MDM4_exon_6\"),\n",
    "        merged_ccle_info[\"MDM4_MS_protein\"].rename(\"MDM4_protein\"),\n",
    "    ],\n",
    "    axis=1,\n",
    "    sort=True,\n",
    ")"
   ]
  },
  {
   "cell_type": "code",
   "execution_count": null,
   "metadata": {
    "ExecuteTime": {
     "end_time": "2021-05-13T16:04:14.755856Z",
     "start_time": "2021-05-13T16:03:57.036Z"
    }
   },
   "outputs": [],
   "source": [
    "fig, axes = plt.subplots(1, 3, figsize=(7, 7 / 3), sharey=True)\n",
    "\n",
    "text_pos = (0.075, 0.925)\n",
    "\n",
    "ax = axes[0]\n",
    "many.visuals.dense_regression(\n",
    "    mdm4_ms[\"MDM4_genex\"],\n",
    "    mdm4_ms[\"MDM4_protein\"],\n",
    "    \"pearson\",\n",
    "    ax=ax,\n",
    "    text_pos=text_pos,\n",
    "    colormap=\"Blues\",\n",
    "    cmap_offset=0.5,\n",
    ")\n",
    "ax.set_ylabel(\"MDM4 protein (MS)\")\n",
    "ax.set_xlabel(\"MDM4 mRNA\")\n",
    "\n",
    "ax = axes[1]\n",
    "many.visuals.dense_regression(\n",
    "    mdm4_ms[\"MDM4_exon_6\"],\n",
    "    mdm4_ms[\"MDM4_protein\"],\n",
    "    \"pearson\",\n",
    "    ax=ax,\n",
    "    text_pos=text_pos,\n",
    "    colormap=\"Blues\",\n",
    "    cmap_offset=0.5,\n",
    ")\n",
    "ax.set_xlabel(\"MDM4 exon 6 inclusion\")\n",
    "\n",
    "mult = np.log2(2 ** mdm4_rppa[\"MDM4_genex\"] * mdm4_rppa[\"MDM4_exon_6\"] + 1)\n",
    "\n",
    "ax = axes[2]\n",
    "many.visuals.dense_regression(\n",
    "    mult,\n",
    "    mdm4_ms[\"MDM4_protein\"],\n",
    "    \"pearson\",\n",
    "    ax=ax,\n",
    "    text_pos=text_pos,\n",
    "    colormap=\"Blues\",\n",
    "    cmap_offset=0.5,\n",
    ")\n",
    "\n",
    "ax.set_xlabel(\"MDM4 mRNA × exon 6\")\n",
    "\n",
    "plt.savefig(\n",
    "    \"../plots/MDM4_MS_correlations.pdf\",\n",
    "    bbox_inches=\"tight\",\n",
    "    transparent=True,\n",
    "    dpi=512,\n",
    ")"
   ]
  }
 ],
 "metadata": {
  "kernelspec": {
   "display_name": "Python 3",
   "language": "python",
   "name": "python3"
  },
  "language_info": {
   "codemirror_mode": {
    "name": "ipython",
    "version": 3
   },
   "file_extension": ".py",
   "mimetype": "text/x-python",
   "name": "python",
   "nbconvert_exporter": "python",
   "pygments_lexer": "ipython3",
   "version": "3.9.4"
  },
  "toc": {
   "base_numbering": 1,
   "nav_menu": {},
   "number_sections": true,
   "sideBar": true,
   "skip_h1_title": false,
   "title_cell": "Table of Contents",
   "title_sidebar": "Contents",
   "toc_cell": false,
   "toc_position": {
    "height": "295.583px",
    "left": "24px",
    "top": "111.567px",
    "width": "282px"
   },
   "toc_section_display": true,
   "toc_window_display": true
  }
 },
 "nbformat": 4,
 "nbformat_minor": 2
}
