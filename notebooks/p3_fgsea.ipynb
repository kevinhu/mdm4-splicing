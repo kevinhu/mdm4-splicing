{
 "cells": [
  {
   "cell_type": "code",
   "execution_count": 1,
   "metadata": {
    "ExecuteTime": {
     "end_time": "2020-10-27T04:39:20.079569Z",
     "start_time": "2020-10-27T04:39:18.626Z"
    },
    "vscode": {
     "languageId": "r"
    }
   },
   "outputs": [
    {
     "name": "stderr",
     "output_type": "stream",
     "text": [
      "Warning message:\n",
      "“package ‘fgsea’ was built under R version 3.6.1”\n",
      "Loading required package: Rcpp\n",
      "\n"
     ]
    }
   ],
   "source": [
    "library(data.table)\n",
    "library(fgsea)\n",
    "library(ggplot2)\n",
    "\n",
    "setwd(\"../data/processed/kallisto_sleuth_merge/\")"
   ]
  },
  {
   "cell_type": "code",
   "execution_count": 2,
   "metadata": {
    "ExecuteTime": {
     "end_time": "2020-10-27T04:39:23.269987Z",
     "start_time": "2020-10-27T04:39:20.846Z"
    },
    "vscode": {
     "languageId": "r"
    }
   },
   "outputs": [],
   "source": [
    "pathways.hallmark <- gmtPathways(\"../../raw/msigdb/h.all.v7.0.entrez.gmt\")\n",
    "pathways.curated <- gmtPathways(\"../../raw/msigdb/c2.all.v7.0.entrez.gmt\")\n",
    "pathways.motif  <- gmtPathways(\"../../raw/msigdb/c3.all.v7.0.entrez.gmt\")\n",
    "pathways.go  <- gmtPathways(\"../../raw/msigdb/c5.all.v7.0.entrez.gmt\")\n",
    "pathways.oncogenic  <- gmtPathways(\"../../raw/msigdb/c6.all.v7.0.entrez.gmt\")\n",
    "\n",
    "# select pathways for analysis\n",
    "all_pathways <- c(pathways.hallmark,pathways.go)"
   ]
  },
  {
   "cell_type": "code",
   "execution_count": 3,
   "metadata": {
    "ExecuteTime": {
     "end_time": "2020-10-27T04:40:10.956011Z",
     "start_time": "2020-10-27T04:40:06.886Z"
    },
    "vscode": {
     "languageId": "r"
    }
   },
   "outputs": [],
   "source": [
    "# load sleuth outputs\n",
    "rpl22_oe <- read.table(\"rpl22_oe_genes.txt\",sep=\"\\t\", header=TRUE)\n",
    "rpl22l1_oe <- read.table(\"rpl22l1_oe_genes.txt\",sep=\"\\t\", header=TRUE)\n",
    "rpl22l1_kd1 <- read.table(\"rpl22l1_kd1_genes.txt\",sep=\"\\t\", header=TRUE)\n",
    "rpl22l1_kd2 <- read.table(\"rpl22l1_kd2_genes.txt\",sep=\"\\t\", header=TRUE)\n",
    "rpl22_a_ko1 <- read.table(\"rpl22_a_ko1_genes.txt\",sep=\"\\t\", header=TRUE)\n",
    "rpl22_a_ko2 <- read.table(\"rpl22_a_ko2_genes.txt\",sep=\"\\t\", header=TRUE)\n",
    "rpl22_b_ko1 <- read.table(\"rpl22_b_ko1_genes.txt\",sep=\"\\t\", header=TRUE)\n",
    "rpl22_b_ko2 <- read.table(\"rpl22_b_ko2_genes.txt\",sep=\"\\t\", header=TRUE)\n",
    "\n",
    "# drop Entrez duplicates, keep most significant\n",
    "drop_entrez_duplicates <- function(sleuth_diff){\n",
    "  sleuth_diff <- sleuth_diff[order(sleuth_diff$pval),]\n",
    "  sleuth_diff <- sleuth_diff[!duplicated(sleuth_diff$target_id),]\n",
    "  sleuth_diff <- sleuth_diff[order(-sleuth_diff$signed_pval),]\n",
    "  \n",
    "  return(sleuth_diff)\n",
    "}\n",
    "\n",
    "rpl22_oe <- drop_entrez_duplicates(rpl22_oe)\n",
    "rpl22l1_oe <- drop_entrez_duplicates(rpl22l1_oe)\n",
    "rpl22l1_kd1 <- drop_entrez_duplicates(rpl22l1_kd1)\n",
    "rpl22l1_kd2 <- drop_entrez_duplicates(rpl22l1_kd2)\n",
    "rpl22_a_ko1 <- drop_entrez_duplicates(rpl22_a_ko1)\n",
    "rpl22_a_ko2 <- drop_entrez_duplicates(rpl22_a_ko2)\n",
    "rpl22_b_ko1 <- drop_entrez_duplicates(rpl22_b_ko1)\n",
    "rpl22_b_ko2 <- drop_entrez_duplicates(rpl22_b_ko2)"
   ]
  },
  {
   "cell_type": "code",
   "execution_count": 6,
   "metadata": {
    "ExecuteTime": {
     "end_time": "2020-10-27T04:40:35.359070Z",
     "start_time": "2020-10-27T04:40:35.340Z"
    },
    "vscode": {
     "languageId": "r"
    }
   },
   "outputs": [],
   "source": [
    "# put sets into a list for iteration\n",
    "rank_sets = list(rpl22_oe,\n",
    "                 rpl22l1_oe,\n",
    "                 rpl22l1_kd1,\n",
    "                 rpl22l1_kd2,\n",
    "                 rpl22_a_ko1,\n",
    "                 rpl22_a_ko2,\n",
    "                 rpl22_b_ko1,\n",
    "                 rpl22_b_ko2)\n",
    "\n",
    "rank_set_names = list(\"rpl22_oe\",\n",
    "                      \"rpl22l1_oe\",\n",
    "                      \"rpl22l1_kd1\",\n",
    "                      \"rpl22l1_kd2\",\n",
    "                      \"rpl22_a_ko1\",\n",
    "                      \"rpl22_a_ko2\",\n",
    "                      \"rpl22_b_ko1\",\n",
    "                      \"rpl22_b_ko2\")"
   ]
  },
  {
   "cell_type": "code",
   "execution_count": 7,
   "metadata": {
    "ExecuteTime": {
     "end_time": "2020-10-27T04:41:02.012032Z",
     "start_time": "2020-10-27T04:41:01.994Z"
    },
    "vscode": {
     "languageId": "r"
    }
   },
   "outputs": [],
   "source": [
    "# helper function for running fgsea\n",
    "run_fgsea <- function(rank_set, results_file){\n",
    "\n",
    "  ranks <- setNames(rank_set$signed_pval, rank_set$target_id)\n",
    "  fgseaRes <- fgseaMultilevel(pathways = all_pathways, \n",
    "                              stats = ranks,\n",
    "                              minSize=5,\n",
    "                              maxSize=500)\n",
    "  \n",
    "  fgseaRes$leadingEdge <- vapply(fgseaRes$leadingEdge, paste, collapse = \",\", character(1L))\n",
    "  \n",
    "  write.table(fgseaRes, \n",
    "              file = paste(\"../../processed/fgsea_results/\",results_file,sep=\"\"), \n",
    "              sep=\"\\t\",\n",
    "              col.names=TRUE, \n",
    "              row.names=TRUE)\n",
    "}"
   ]
  },
  {
   "cell_type": "code",
   "execution_count": 8,
   "metadata": {
    "ExecuteTime": {
     "end_time": "2020-10-27T04:42:24.030360Z",
     "start_time": "2020-10-27T04:41:20.530Z"
    },
    "vscode": {
     "languageId": "r"
    }
   },
   "outputs": [],
   "source": [
    "# execute fgsea for each set\n",
    "for(rank_set_idx in 1:length(rank_sets)){\n",
    "    \n",
    "  rank_set = rank_sets[[rank_set_idx]]\n",
    "  rank_set_name = rank_set_names[[rank_set_idx]]\n",
    "  \n",
    "  run_fgsea(rank_set,paste(rank_set_name,\".txt\",sep=\"\"))\n",
    "    \n",
    "}"
   ]
  }
 ],
 "metadata": {
  "kernelspec": {
   "display_name": "R",
   "language": "R",
   "name": "ir"
  },
  "language_info": {
   "codemirror_mode": "r",
   "file_extension": ".r",
   "mimetype": "text/x-r-source",
   "name": "R",
   "pygments_lexer": "r",
   "version": "3.6.0"
  },
  "toc": {
   "base_numbering": 1,
   "nav_menu": {},
   "number_sections": true,
   "sideBar": true,
   "skip_h1_title": false,
   "title_cell": "Table of Contents",
   "title_sidebar": "Contents",
   "toc_cell": false,
   "toc_position": {},
   "toc_section_display": true,
   "toc_window_display": false
  }
 },
 "nbformat": 4,
 "nbformat_minor": 4
}
