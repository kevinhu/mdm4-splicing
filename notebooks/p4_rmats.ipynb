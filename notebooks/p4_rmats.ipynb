{
 "cells": [
  {
   "cell_type": "code",
   "execution_count": 1,
   "metadata": {
    "ExecuteTime": {
     "end_time": "2020-11-01T04:02:33.435011Z",
     "start_time": "2020-11-01T04:02:32.873131Z"
    }
   },
   "outputs": [],
   "source": [
    "import pandas as pd\n",
    "import numpy as np\n",
    "\n",
    "import matplotlib.pyplot as plt\n",
    "\n",
    "from functools import reduce"
   ]
  },
  {
   "cell_type": "markdown",
   "metadata": {},
   "source": [
    "# Experimental setup"
   ]
  },
  {
   "cell_type": "code",
   "execution_count": 2,
   "metadata": {
    "ExecuteTime": {
     "end_time": "2020-11-01T04:02:33.441854Z",
     "start_time": "2020-11-01T04:02:33.437944Z"
    }
   },
   "outputs": [],
   "source": [
    "with open(\"experiments.json\", \"r\") as f:\n",
    "    exp = json.load(f)\n",
    "\n",
    "    experiments = exp[\"experiments\"]\n",
    "    experiment_ids = exp[\"experiment_ids\"]\n",
    "\n",
    "splice_types = [\"A3SS\", \"A5SS\", \"MXE\", \"RI\", \"SE\"]"
   ]
  },
  {
   "cell_type": "markdown",
   "metadata": {},
   "source": [
    "# Transcripts to genes"
   ]
  },
  {
   "cell_type": "code",
   "execution_count": 3,
   "metadata": {
    "ExecuteTime": {
     "end_time": "2020-11-01T04:02:34.306554Z",
     "start_time": "2020-11-01T04:02:33.444379Z"
    }
   },
   "outputs": [
    {
     "name": "stderr",
     "output_type": "stream",
     "text": [
      "/Users/khu/Library/Caches/pypoetry/virtualenvs/khu-bJ_CKhNZ-py3.8/lib/python3.8/site-packages/IPython/core/interactiveshell.py:3071: DtypeWarning: Columns (0,4) have mixed types.Specify dtype option on import or set low_memory=False.\n",
      "  has_raised = await self.run_ast_nodes(code_ast.body, cell_name,\n"
     ]
    }
   ],
   "source": [
    "t2g = pd.read_csv(\n",
    "    \"../data/intermediate/sleuth_diff/ensembl_t2g.csv\",\n",
    "    names=[\"transcript_id\", \"gene_id\", \"gene_name\", \"entrez_id\", \"duplicate\"],\n",
    ")\n",
    "t2g = t2g.dropna()\n",
    "t2g = t2g.astype(str)\n",
    "\n",
    "t2g[\"format_transcript_id\"] = t2g[\"gene_name\"] + \"_\" + t2g[\"transcript_id\"]\n",
    "t2g[\"format_gene_id\"] = t2g[\"gene_name\"] + \"_\" + t2g[\"gene_id\"]\n",
    "t2g[\"gene_id_stable\"] = t2g[\"gene_id\"].str.split(\".\").str[0]\n",
    "\n",
    "gene_name_map = dict(zip(t2g[\"gene_id_stable\"], t2g[\"gene_name\"]))"
   ]
  },
  {
   "cell_type": "markdown",
   "metadata": {},
   "source": [
    "# Merge splice types"
   ]
  },
  {
   "cell_type": "code",
   "execution_count": 4,
   "metadata": {
    "ExecuteTime": {
     "end_time": "2020-11-01T04:02:34.331038Z",
     "start_time": "2020-11-01T04:02:34.308563Z"
    }
   },
   "outputs": [],
   "source": [
    "def compute_medians(splices, experiment):\n",
    "    splices[\"control_median\"] = splices[experiments[experiment][0]].median(axis=1)\n",
    "    splices[\"treatment_median\"] = splices[experiments[experiment][1]].median(axis=1)\n",
    "    splices[\"median_foldchange\"] = (\n",
    "        splices[\"treatment_median\"] / splices[\"control_median\"]\n",
    "    )\n",
    "\n",
    "\n",
    "def concat_cols(df, cols, delim):\n",
    "    cols_str = [df[x].astype(str) for x in cols]\n",
    "\n",
    "    return reduce(lambda a, b: a + delim + b, cols_str)\n",
    "\n",
    "\n",
    "def load_splices(experiment):\n",
    "\n",
    "    controls = experiments[experiment][0]\n",
    "    treatments = experiments[experiment][1]\n",
    "\n",
    "    A3SS = pd.read_csv(\n",
    "        \"../data/raw/rmats_output/\" + experiment + \"/A3SS.MATS.JC.txt\",\n",
    "        sep=\"\\t\",\n",
    "        index_col=0,\n",
    "    )\n",
    "    A5SS = pd.read_csv(\n",
    "        \"../data/raw/rmats_output/\" + experiment + \"/A5SS.MATS.JC.txt\",\n",
    "        sep=\"\\t\",\n",
    "        index_col=0,\n",
    "    )\n",
    "    MXE = pd.read_csv(\n",
    "        \"../data/raw/rmats_output/\" + experiment + \"/MXE.MATS.JC.txt\",\n",
    "        sep=\"\\t\",\n",
    "        index_col=0,\n",
    "    )\n",
    "    RI = pd.read_csv(\n",
    "        \"../data/raw/rmats_output/\" + experiment + \"/RI.MATS.JC.txt\",\n",
    "        sep=\"\\t\",\n",
    "        index_col=0,\n",
    "    )\n",
    "    SE = pd.read_csv(\n",
    "        \"../data/raw/rmats_output/\" + experiment + \"/SE.MATS.JC.txt\",\n",
    "        sep=\"\\t\",\n",
    "        index_col=0,\n",
    "    )\n",
    "\n",
    "    A3SS[\"gene_id\"] = A3SS[\"geneSymbol\"] + \"_\" + A3SS[\"GeneID\"]\n",
    "    A5SS[\"gene_id\"] = A5SS[\"geneSymbol\"] + \"_\" + A5SS[\"GeneID\"]\n",
    "    MXE[\"gene_id\"] = MXE[\"geneSymbol\"] + \"_\" + MXE[\"GeneID\"]\n",
    "    RI[\"gene_id\"] = RI[\"geneSymbol\"] + \"_\" + RI[\"GeneID\"]\n",
    "    SE[\"gene_id\"] = SE[\"geneSymbol\"] + \"_\" + SE[\"GeneID\"]\n",
    "\n",
    "    A3SS[\"exon_id\"] = concat_cols(\n",
    "        A3SS,\n",
    "        [\n",
    "            \"chr\",\n",
    "            \"longExonStart_0base\",\n",
    "            \"longExonEnd\",\n",
    "            \"shortES\",\n",
    "            \"shortEE\",\n",
    "            \"flankingES\",\n",
    "            \"flankingEE\",\n",
    "        ],\n",
    "        \"_\",\n",
    "    )\n",
    "    A5SS[\"exon_id\"] = concat_cols(\n",
    "        A5SS,\n",
    "        [\n",
    "            \"chr\",\n",
    "            \"longExonStart_0base\",\n",
    "            \"longExonEnd\",\n",
    "            \"shortES\",\n",
    "            \"shortEE\",\n",
    "            \"flankingES\",\n",
    "            \"flankingEE\",\n",
    "        ],\n",
    "        \"_\",\n",
    "    )\n",
    "    MXE[\"exon_id\"] = concat_cols(\n",
    "        MXE,\n",
    "        [\n",
    "            \"chr\",\n",
    "            \"1stExonStart_0base\",\n",
    "            \"1stExonEnd\",\n",
    "            \"2ndExonStart_0base\",\n",
    "            \"2ndExonEnd\",\n",
    "            \"upstreamES\",\n",
    "            \"upstreamEE\",\n",
    "            \"downstreamES\",\n",
    "            \"downstreamEE\",\n",
    "        ],\n",
    "        \"_\",\n",
    "    )\n",
    "    RI[\"exon_id\"] = concat_cols(\n",
    "        RI,\n",
    "        [\n",
    "            \"chr\",\n",
    "            \"riExonStart_0base\",\n",
    "            \"riExonEnd\",\n",
    "            \"upstreamES\",\n",
    "            \"upstreamEE\",\n",
    "            \"downstreamES\",\n",
    "            \"downstreamEE\",\n",
    "        ],\n",
    "        \"_\",\n",
    "    )\n",
    "    SE[\"exon_id\"] = concat_cols(\n",
    "        SE,\n",
    "        [\n",
    "            \"chr\",\n",
    "            \"exonStart_0base\",\n",
    "            \"exonEnd\",\n",
    "            \"upstreamES\",\n",
    "            \"upstreamEE\",\n",
    "            \"downstreamES\",\n",
    "            \"downstreamEE\",\n",
    "        ],\n",
    "        \"_\",\n",
    "    )\n",
    "\n",
    "    A3SS[\"exon_gene_id\"] = A3SS[\"gene_id\"] + \"_\" + A3SS[\"exon_id\"]\n",
    "    A5SS[\"exon_gene_id\"] = A5SS[\"gene_id\"] + \"_\" + A5SS[\"exon_id\"]\n",
    "    MXE[\"exon_gene_id\"] = MXE[\"gene_id\"] + \"_\" + MXE[\"exon_id\"]\n",
    "    RI[\"exon_gene_id\"] = RI[\"gene_id\"] + \"_\" + RI[\"exon_id\"]\n",
    "    SE[\"exon_gene_id\"] = SE[\"gene_id\"] + \"_\" + SE[\"exon_id\"]\n",
    "\n",
    "    A3SS = A3SS.set_index(\"exon_gene_id\")\n",
    "    A5SS = A5SS.set_index(\"exon_gene_id\")\n",
    "    MXE = MXE.set_index(\"exon_gene_id\")\n",
    "    RI = RI.set_index(\"exon_gene_id\")\n",
    "    SE = SE.set_index(\"exon_gene_id\")\n",
    "\n",
    "    A3SS[\"splice_type\"] = \"A3SS\"\n",
    "    A5SS[\"splice_type\"] = \"A5SS\"\n",
    "    MXE[\"splice_type\"] = \"MXE\"\n",
    "    RI[\"splice_type\"] = \"RI\"\n",
    "    SE[\"splice_type\"] = \"SE\"\n",
    "\n",
    "    merged_cols = [\n",
    "        \"splice_type\",\n",
    "        \"GeneID\",\n",
    "        \"geneSymbol\",\n",
    "        \"PValue\",\n",
    "        \"FDR\",\n",
    "        \"IncLevel1\",\n",
    "        \"IncLevel2\",\n",
    "        \"gene_id\",\n",
    "    ]\n",
    "\n",
    "    merged_splices = pd.concat(\n",
    "        [\n",
    "            A3SS[merged_cols],\n",
    "            A5SS[merged_cols],\n",
    "            MXE[merged_cols],\n",
    "            RI[merged_cols],\n",
    "            SE[merged_cols],\n",
    "        ],\n",
    "        axis=0,\n",
    "    )\n",
    "\n",
    "    def nan_replace(x):\n",
    "        return x.replace(\"NA\", \"nan\")\n",
    "\n",
    "    merged_splices[\"IncLevel1\"] = merged_splices[\"IncLevel1\"].apply(nan_replace)\n",
    "    merged_splices[\"IncLevel2\"] = merged_splices[\"IncLevel2\"].apply(nan_replace)\n",
    "\n",
    "    control_split = merged_splices[\"IncLevel1\"].str.split(\",\").str\n",
    "    treatment_split = merged_splices[\"IncLevel2\"].str.split(\",\").str\n",
    "\n",
    "    for i in range(len(controls)):\n",
    "        merged_splices[controls[i]] = control_split[i].astype(np.float32)\n",
    "\n",
    "    for i in range(len(treatments)):\n",
    "        merged_splices[treatments[i]] = treatment_split[i].astype(np.float32)\n",
    "\n",
    "    merged_splices = merged_splices.drop([\"IncLevel1\", \"IncLevel2\"], axis=1)\n",
    "\n",
    "    compute_medians(merged_splices, experiment)\n",
    "\n",
    "    merged_splices = merged_splices.sort_values(by=\"FDR\")\n",
    "\n",
    "    return merged_splices"
   ]
  },
  {
   "cell_type": "code",
   "execution_count": 5,
   "metadata": {
    "ExecuteTime": {
     "end_time": "2020-11-01T04:02:45.040080Z",
     "start_time": "2020-11-01T04:02:34.332996Z"
    }
   },
   "outputs": [],
   "source": [
    "rpl22_oe_rmats = load_splices(\"rpl22_oe\")\n",
    "rpl22l1_oe_rmats = load_splices(\"rpl22l1_oe\")\n",
    "rpl22l1_kd1_rmats = load_splices(\"rpl22l1_kd1\")\n",
    "rpl22l1_kd2_rmats = load_splices(\"rpl22l1_kd2\")\n",
    "rpl22_a_ko1_rmats = load_splices(\"rpl22_a_ko1\")\n",
    "rpl22_a_ko2_rmats = load_splices(\"rpl22_a_ko2\")\n",
    "rpl22_b_ko1_rmats = load_splices(\"rpl22_b_ko1\")\n",
    "rpl22_b_ko2_rmats = load_splices(\"rpl22_b_ko2\")"
   ]
  },
  {
   "cell_type": "code",
   "execution_count": 6,
   "metadata": {
    "ExecuteTime": {
     "end_time": "2020-11-01T04:02:54.494212Z",
     "start_time": "2020-11-01T04:02:45.043250Z"
    }
   },
   "outputs": [],
   "source": [
    "rpl22_oe_rmats.to_csv(\"../data/processed/rmats_merge/rpl22_oe.txt\", sep=\"\\t\")\n",
    "rpl22l1_oe_rmats.to_csv(\"../data/processed/rmats_merge/rpl22l1_oe.txt\", sep=\"\\t\")\n",
    "rpl22l1_kd1_rmats.to_csv(\"../data/processed/rmats_merge/rpl22l1_kd1.txt\", sep=\"\\t\")\n",
    "rpl22l1_kd2_rmats.to_csv(\"../data/processed/rmats_merge/rpl22l1_kd2.txt\", sep=\"\\t\")\n",
    "rpl22_a_ko1_rmats.to_csv(\"../data/processed/rmats_merge/rpl22_a_ko1.txt\", sep=\"\\t\")\n",
    "rpl22_a_ko2_rmats.to_csv(\"../data/processed/rmats_merge/rpl22_a_ko2.txt\", sep=\"\\t\")\n",
    "rpl22_b_ko1_rmats.to_csv(\"../data/processed/rmats_merge/rpl22_b_ko1.txt\", sep=\"\\t\")\n",
    "rpl22_b_ko2_rmats.to_csv(\"../data/processed/rmats_merge/rpl22_b_ko2.txt\", sep=\"\\t\")\n",
    "\n",
    "rpl22_oe_rmats.to_hdf(\n",
    "    \"../data/processed/rmats_merge/rpl22_oe.h5\", key=\"rmats\", mode=\"w\"\n",
    ")\n",
    "rpl22l1_oe_rmats.to_hdf(\n",
    "    \"../data/processed/rmats_merge/rpl22l1_oe.h5\", key=\"rmats\", mode=\"w\"\n",
    ")\n",
    "rpl22l1_kd1_rmats.to_hdf(\n",
    "    \"../data/processed/rmats_merge/rpl22l1_kd1.h5\", key=\"rmats\", mode=\"w\"\n",
    ")\n",
    "rpl22l1_kd2_rmats.to_hdf(\n",
    "    \"../data/processed/rmats_merge/rpl22l1_kd2.h5\", key=\"rmats\", mode=\"w\"\n",
    ")\n",
    "rpl22_a_ko1_rmats.to_hdf(\n",
    "    \"../data/processed/rmats_merge/rpl22_a_ko1.h5\", key=\"rmats\", mode=\"w\"\n",
    ")\n",
    "rpl22_a_ko2_rmats.to_hdf(\n",
    "    \"../data/processed/rmats_merge/rpl22_a_ko2.h5\", key=\"rmats\", mode=\"w\"\n",
    ")\n",
    "rpl22_b_ko1_rmats.to_hdf(\n",
    "    \"../data/processed/rmats_merge/rpl22_b_ko1.h5\", key=\"rmats\", mode=\"w\"\n",
    ")\n",
    "rpl22_b_ko2_rmats.to_hdf(\n",
    "    \"../data/processed/rmats_merge/rpl22_b_ko2.h5\", key=\"rmats\", mode=\"w\"\n",
    ")"
   ]
  }
 ],
 "metadata": {
  "kernelspec": {
   "display_name": "Python 3 (ipykernel)",
   "language": "python",
   "name": "python3"
  },
  "language_info": {
   "codemirror_mode": {
    "name": "ipython",
    "version": 3
   },
   "file_extension": ".py",
   "mimetype": "text/x-python",
   "name": "python",
   "nbconvert_exporter": "python",
   "pygments_lexer": "ipython3",
   "version": "3.9.9"
  },
  "toc": {
   "base_numbering": 1,
   "nav_menu": {},
   "number_sections": true,
   "sideBar": true,
   "skip_h1_title": false,
   "title_cell": "Table of Contents",
   "title_sidebar": "Contents",
   "toc_cell": false,
   "toc_position": {},
   "toc_section_display": true,
   "toc_window_display": true
  }
 },
 "nbformat": 4,
 "nbformat_minor": 2
}
