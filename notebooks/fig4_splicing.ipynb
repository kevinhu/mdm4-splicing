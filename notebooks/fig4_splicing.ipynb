{
 "cells": [
  {
   "cell_type": "code",
   "execution_count": 3,
   "metadata": {
    "ExecuteTime": {
     "end_time": "2020-05-01T18:08:07.302942Z",
     "start_time": "2020-05-01T18:08:07.295114Z"
    }
   },
   "outputs": [],
   "source": [
    "import numpy as np\n",
    "import pandas as pd\n",
    "\n",
    "import seaborn as sns\n",
    "import matplotlib.pyplot as plt\n",
    "import matplotlib as mpl\n",
    "from matplotlib.collections import PatchCollection\n",
    "from matplotlib.patches import Rectangle\n",
    "import matplotlib.font_manager as fm\n",
    "from textwrap import wrap\n",
    "\n",
    "\n",
    "prop = fm.FontProperties(fname='../plots/arial.ttf')\n",
    "\n",
    "plt.rcParams['ps.useafm'] = True\n",
    "plt.rcParams['font.family'] = 'Arial'\n",
    "plt.rcParams['pdf.fonttype'] = 42\n",
    "plt.rcParams['ps.fonttype'] = 42\n",
    "\n",
    "from statsmodels.stats.multitest import multipletests\n",
    "\n",
    "import sys\n",
    "import os\n",
    "\n",
    "sys.path.append(os.path.relpath(\"../../huygens\"))\n",
    "sys.path.append(os.path.relpath(\"../../galileo\"))\n",
    "import galileo as gal\n",
    "import huygens as huy\n",
    "\n",
    "import json\n",
    "\n",
    "import helper"
   ]
  },
  {
   "cell_type": "markdown",
   "metadata": {},
   "source": [
    "# Load rMATS outputs"
   ]
  },
  {
   "cell_type": "code",
   "execution_count": 4,
   "metadata": {
    "ExecuteTime": {
     "end_time": "2020-05-01T18:08:08.015055Z",
     "start_time": "2020-05-01T18:08:08.009181Z"
    }
   },
   "outputs": [],
   "source": [
    "with open(\"experiments.json\",\"r\") as f:\n",
    "    exp = json.load(f)\n",
    "    \n",
    "    experiments = exp[\"experiments\"]\n",
    "    experiment_ids = exp[\"experiment_ids\"]\n",
    "    display_names = exp[\"display_names\"]\n",
    "    display_groups = exp[\"display_groups\"]\n",
    "    contexts = exp[\"contexts\"]\n"
   ]
  },
  {
   "cell_type": "code",
   "execution_count": 5,
   "metadata": {
    "ExecuteTime": {
     "end_time": "2020-05-01T18:08:10.710856Z",
     "start_time": "2020-05-01T18:08:09.800116Z"
    }
   },
   "outputs": [],
   "source": [
    "rpl22_oe_rmats = pd.read_hdf(\"../data/processed/rmats_merge/rpl22_oe.h5\",key=\"rmats\")\n",
    "rpl22l1_oe_rmats = pd.read_hdf(\"../data/processed/rmats_merge/rpl22l1_oe.h5\",key=\"rmats\")\n",
    "rpl22l1_kd1_rmats = pd.read_hdf(\"../data/processed/rmats_merge/rpl22l1_kd1.h5\",key=\"rmats\")\n",
    "rpl22l1_kd2_rmats = pd.read_hdf(\"../data/processed/rmats_merge/rpl22l1_kd2.h5\",key=\"rmats\")\n",
    "rpl22_a_ko1_rmats = pd.read_hdf(\"../data/processed/rmats_merge/rpl22_a_ko1.h5\",key=\"rmats\")\n",
    "rpl22_a_ko2_rmats = pd.read_hdf(\"../data/processed/rmats_merge/rpl22_a_ko2.h5\",key=\"rmats\")\n",
    "rpl22_b_ko1_rmats = pd.read_hdf(\"../data/processed/rmats_merge/rpl22_b_ko1.h5\",key=\"rmats\")\n",
    "rpl22_b_ko2_rmats = pd.read_hdf(\"../data/processed/rmats_merge/rpl22_b_ko2.h5\",key=\"rmats\")\n",
    "\n",
    "rpl22_oe_rmats = rpl22_oe_rmats.rename({\"PValue\":\"pval\",\"FDR\":\"qval\"},axis=1)\n",
    "rpl22l1_oe_rmats = rpl22l1_oe_rmats.rename({\"PValue\":\"pval\",\"FDR\":\"qval\"},axis=1)\n",
    "rpl22l1_kd1_rmats = rpl22l1_kd1_rmats.rename({\"PValue\":\"pval\",\"FDR\":\"qval\"},axis=1)\n",
    "rpl22l1_kd2_rmats = rpl22l1_kd2_rmats.rename({\"PValue\":\"pval\",\"FDR\":\"qval\"},axis=1)\n",
    "rpl22_a_ko1_rmats = rpl22_a_ko1_rmats.rename({\"PValue\":\"pval\",\"FDR\":\"qval\"},axis=1)\n",
    "rpl22_a_ko2_rmats = rpl22_a_ko2_rmats.rename({\"PValue\":\"pval\",\"FDR\":\"qval\"},axis=1)\n",
    "rpl22_b_ko1_rmats = rpl22_b_ko1_rmats.rename({\"PValue\":\"pval\",\"FDR\":\"qval\"},axis=1)\n",
    "rpl22_b_ko2_rmats = rpl22_b_ko2_rmats.rename({\"PValue\":\"pval\",\"FDR\":\"qval\"},axis=1)\n",
    "\n",
    "splice_types = [\"A3SS\",\"A5SS\",\"MXE\",\"RI\",\"SE\"]"
   ]
  },
  {
   "cell_type": "markdown",
   "metadata": {},
   "source": [
    "# Differential splicing"
   ]
  },
  {
   "cell_type": "code",
   "execution_count": 6,
   "metadata": {
    "ExecuteTime": {
     "end_time": "2020-05-01T18:08:13.081379Z",
     "start_time": "2020-05-01T18:08:11.432705Z"
    }
   },
   "outputs": [
    {
     "data": {
      "image/png": "[encoded data removed]",
      "text/plain": [
       "<Figure size 288x180 with 10 Axes>"
      ]
     },
     "metadata": {
      "needs_background": "light"
     },
     "output_type": "display_data"
    }
   ],
   "source": [
    "axes = helper.all_bars(\"RPL22L1_ENSG00000163584_170585801_170585990_170585801_170585923_170586086_170586176\", \n",
    "     \"splicing\")\n",
    "plt.suptitle(\"RPL22L1 exon 3A\")\n",
    "\n",
    "plt.savefig(\"../plots/RPL22L1_3A_splicing.pdf\",bbox_inches=\"tight\",transparent=True)"
   ]
  },
  {
   "cell_type": "code",
   "execution_count": 7,
   "metadata": {
    "ExecuteTime": {
     "end_time": "2020-05-01T18:08:16.573151Z",
     "start_time": "2020-05-01T18:08:15.313424Z"
    }
   },
   "outputs": [
    {
     "data": {
      "image/png": "[encoded data removed]",
      "text/plain": [
       "<Figure size 288x180 with 10 Axes>"
      ]
     },
     "metadata": {
      "needs_background": "light"
     },
     "output_type": "display_data"
    }
   ],
   "source": [
    "axes = helper.all_bars(\"MDM4_ENSG00000198625_204506557_204506625_204501318_204501374_204507336_204507436\", \n",
    "     \"splicing\")\n",
    "\n",
    "plt.suptitle(\"MDM4 exon 6\")\n",
    "plt.savefig(\"../plots/MDM4_6_splicing.pdf\",bbox_inches=\"tight\",transparent=True)"
   ]
  },
  {
   "cell_type": "markdown",
   "metadata": {},
   "source": [
    "# Splicing types"
   ]
  },
  {
   "cell_type": "code",
   "execution_count": 8,
   "metadata": {
    "ExecuteTime": {
     "end_time": "2020-05-01T00:09:50.242226Z",
     "start_time": "2020-05-01T00:09:50.233350Z"
    }
   },
   "outputs": [],
   "source": [
    "def plot_splice_types(rmats_diffs, qval_cutoff=0.01, ax=None,legend=False):\n",
    "    \n",
    "    if ax is None:\n",
    "        ax = plt.subplot(111)\n",
    "\n",
    "    significants = rmats_diffs.copy(\n",
    "        deep=True)[rmats_diffs[\"qval\"] < qval_cutoff]\n",
    "\n",
    "    significants[\"treatment_increase\"] = significants[\"treatment_median\"] > significants[\"control_median\"]\n",
    "\n",
    "    significants[\"treatment_increase\"] = significants[\"treatment_increase\"].replace({True: \"Inclusion\",\n",
    "                                                                                     False: \"Exclusion\"})\n",
    "\n",
    "    significants = significants.groupby(\n",
    "        \"splice_type\")[\"treatment_increase\"].value_counts()\n",
    "    significants = significants.unstack()\n",
    "\n",
    "    significants, _ = significants.align(\n",
    "        pd.Series(index=splice_types), join=\"right\", axis=0)\n",
    "    significants = significants.fillna(0)\n",
    "\n",
    "    significants[\"splice_type\"] = significants.index\n",
    "    \n",
    "    significants.columns.name = \"\"\n",
    "    \n",
    "    significants.plot(x=\"splice_type\",\n",
    "                      y=[\"Exclusion\", \"Inclusion\"],\n",
    "                      kind=\"bar\",\n",
    "                      cmap=mpl.colors.ListedColormap(\n",
    "                          [\"#dbe2ef\", \"#3f72af\"]),\n",
    "                      ax=ax,\n",
    "                      stacked=True,\n",
    "                      width=0.8,\n",
    "                      legend=legend\n",
    "                      )\n",
    "    \n",
    "    plt.ylabel(\"Frequency\")\n",
    "    plt.xlabel(\"Splice type\")\n",
    "    \n",
    "    plt.xticks(rotation=45,ha=\"right\")\n",
    "\n",
    "    ax.spines[\"top\"].set_visible(False)\n",
    "    ax.spines[\"right\"].set_visible(False)\n",
    "    ax.spines['left'].set_position(('axes', -0.05))"
   ]
  },
  {
   "cell_type": "code",
   "execution_count": 11,
   "metadata": {
    "ExecuteTime": {
     "end_time": "2020-05-01T00:10:16.281904Z",
     "start_time": "2020-05-01T00:10:14.311607Z"
    }
   },
   "outputs": [
    {
     "data": {
      "image/png": "[encoded data removed]",
      "text/plain": [
       "<Figure size 864x144 with 8 Axes>"
      ]
     },
     "metadata": {
      "needs_background": "light"
     },
     "output_type": "display_data"
    }
   ],
   "source": [
    "plt.figure(figsize=(12,2))\n",
    "    \n",
    "for experiment_idx, experiment in enumerate([rpl22_oe_rmats,\n",
    "                                             rpl22l1_oe_rmats,\n",
    "                                             rpl22l1_kd1_rmats,\n",
    "                                             rpl22l1_kd1_rmats,\n",
    "                                             rpl22_a_ko1_rmats,\n",
    "                                             rpl22_a_ko2_rmats,\n",
    "                                             rpl22_b_ko1_rmats,\n",
    "                                             rpl22_b_ko2_rmats\n",
    "                                            ]):\n",
    "\n",
    "    ax = plt.subplot(1,8,experiment_idx+1)\n",
    "    plot_splice_types(experiment,ax=ax,legend=experiment_idx<1)\n",
    "    \n",
    "    if experiment_idx > 0:\n",
    "        plt.ylabel(\"\")\n",
    "        \n",
    "    ax.set_title(display_names[experiment_idx])\n",
    "        \n",
    "plt.subplots_adjust(wspace=0.5)\n",
    "\n",
    "plt.savefig(\"../plots/significant_splice_types.pdf\",bbox_inches=\"tight\",transparent=True)"
   ]
  },
  {
   "cell_type": "markdown",
   "metadata": {},
   "source": [
    "# Overlaps"
   ]
  },
  {
   "cell_type": "code",
   "execution_count": 56,
   "metadata": {
    "ExecuteTime": {
     "end_time": "2020-05-01T00:24:46.683606Z",
     "start_time": "2020-05-01T00:24:46.676785Z"
    }
   },
   "outputs": [],
   "source": [
    "def get_overlaps(diffs,cutoff=0.01, direction=None, entity=\"exon\"):\n",
    "\n",
    "    significants = []\n",
    "    \n",
    "    for diff in diffs:\n",
    "        \n",
    "        if direction == None:\n",
    "        \n",
    "            significant = diff.copy(deep=True)[diff[\"qval\"]<cutoff]\n",
    "            \n",
    "        if direction == \"pos\":\n",
    "            \n",
    "            significant = diff.copy(deep=True)[diff[\"qval\"]<cutoff]\n",
    "            significant = significant[significant[\"median_foldchange\"]>=1]\n",
    "            \n",
    "        elif direction == \"neg\":\n",
    "            \n",
    "            significant = diff.copy(deep=True)[diff[\"qval\"]<cutoff]\n",
    "            significant = significant[significant[\"median_foldchange\"]<1]\n",
    "        \n",
    "        if entity == \"gene\":\n",
    "        \n",
    "            significant_entities = set(significant[\"gene_id\"])\n",
    "            \n",
    "        elif entity == \"exon\":\n",
    "        \n",
    "            significant_entities = set(significant.index)\n",
    "        \n",
    "        significants.append(significant_entities)\n",
    "        \n",
    "    return set.intersection(*significants)"
   ]
  },
  {
   "cell_type": "markdown",
   "metadata": {},
   "source": [
    "## Between RPL22L1 shRNAs"
   ]
  },
  {
   "cell_type": "code",
   "execution_count": 30,
   "metadata": {
    "ExecuteTime": {
     "end_time": "2020-05-01T00:17:34.267632Z",
     "start_time": "2020-05-01T00:17:34.252494Z"
    }
   },
   "outputs": [
    {
     "data": {
      "text/plain": [
       "['EIF4A2_ENSG00000156976_186506098_186506209_186505591_186505671_186506913_186507080',\n",
       " 'ZNF256_ENSG00000152454_58455301_58455428_58452200_58454015_58458809_58459039',\n",
       " 'NPAS1_ENSG00000130751_47544282_47544383_47543701_47543808_47546067_47546162',\n",
       " 'HNRNPK_ENSG00000165119_86588816_86588888_86588200_86588314_86589431_86589504',\n",
       " 'TNK2_ENSG00000061938_195594039_195594129_195593759_195593887_195594231_195595580',\n",
       " 'CTIF_ENSG00000134030_46066128_46066202_46065528_46065683_46145908_46146116',\n",
       " 'SLC25A19_ENSG00000125454_73284468_73284672_73282713_73282883_73285434_73285487',\n",
       " 'HOTAIRM1_ENSG00000233429_27138716_27138985_27135742_27136007_27139397_27139585',\n",
       " 'DCST2_ENSG00000163354_155001708_155001873_154999023_154999191_155002559_155002717',\n",
       " 'DVL1_ENSG00000107404_1274666_1274819_1274741_1274819_1273901_1274033',\n",
       " 'ENTPD6_ENSG00000197586_25187157_25187226_25176336_25176503_25187711_25188033',\n",
       " 'SNED1_ENSG00000162804_242002207_242002321_241992569_241992743_242003003_242003117',\n",
       " 'PPIA_ENSG00000196262_44838346_44838413_44836279_44836392_44838845_44838876',\n",
       " 'CTD-3018O17.3_ENSG00000269834_52898043_52898100_52892271_52892556_52898850_52899003',\n",
       " 'MARK3_ENSG00000075413_103964838_103964865_103957875_103958371_103966492_103966537',\n",
       " 'ASH1L_ENSG00000116539_155385534_155385714_155365249_155365344_155408117_155408859',\n",
       " 'TRPM8_ENSG00000144481_234878853_234879070_234875253_234875399_234888831_234888923',\n",
       " 'SEPT2_ENSG00000168385_242256913_242257014_242255358_242255397_242265407_242265466',\n",
       " 'ZNF561_ENSG00000171469_9727724_9727847_9728296_9728434_9724696_9724779_9728766_9728855',\n",
       " 'SEC11A_ENSG00000140612_85257961_85258097_85234765_85234875_85259255_85259394',\n",
       " 'STARD10_ENSG00000214530_72492106_72492339_72492157_72492339_72470278_72470426',\n",
       " 'THEM4_ENSG00000159445_151862458_151862690_151861689_151861849_151867483_151867670',\n",
       " 'EIF4G2_ENSG00000110321_10823207_10823321_10822508_10822634_10823595_10823756',\n",
       " 'FAM13B_ENSG00000031003_137355569_137355666_137354167_137354203_137356719_137356886',\n",
       " 'HMGN1_ENSG00000205581_40717755_40717884_40717071_40717200_40720217_40720265',\n",
       " 'UBE3A_ENSG00000114062_25650607_25650649_25620611_25620910_25683635_25683688',\n",
       " 'POLM_ENSG00000122678_44116107_44116228_44113381_44114129_44118354_44118410',\n",
       " 'QKI_ENSG00000112531_163986977_163987827_163987752_163987827_163984451_163984751',\n",
       " 'PFN2_ENSG00000070087_149682690_149684373_149682690_149684051_149686144_149686337',\n",
       " 'BSG_ENSG00000172270_577773_578121_572564_572701_579499_579629',\n",
       " 'RASAL2_ENSG00000075391_178425834_178426034_178425855_178426034_178423581_178423783',\n",
       " 'PCK2_ENSG00000100889_24569203_24569422_24568766_24568929_24571961_24572039',\n",
       " 'MGAT1_ENSG00000131446_180222837_180222875_180219372_180220097_180229679_180229794',\n",
       " 'CENPK_ENSG00000123219_64857289_64857391_64857323_64857391_64850623_64850773',\n",
       " 'KLHL42_ENSG00000087448_27950179_27950282_27944640_27944834_27950647_27951089',\n",
       " 'IL6ST_ENSG00000134352_55265377_55265683_55259973_55260140_55272042_55272106',\n",
       " 'RASSF8-AS1_ENSG00000246695_26109159_26109280_26107737_26108174_26109571_26109694',\n",
       " 'PPP1R7_ENSG00000115685_242092890_242093019_242089436_242089962_242097221_242097277',\n",
       " 'IFI35_ENSG00000068079_41165283_41165396_41165283_41165390_41165492_41165679',\n",
       " 'POFUT1_ENSG00000101346_30797873_30797995_30795682_30795868_30803071_30803254',\n",
       " 'TRIQK_ENSG00000205133_93933730_93933888_93929156_93929238_93966633_93966792',\n",
       " 'SUPT7L_ENSG00000119760_27883850_27885148_27885045_27885148_27880211_27880536',\n",
       " 'SEPT2_ENSG00000168385_242263823_242264077_242255360_242255397_242265407_242265528',\n",
       " 'ARL16_ENSG00000214087_79649520_79649705_79649063_79649179_79650042_79650156',\n",
       " 'ANKRD28_ENSG00000206560_15855746_15855816_15836729_15836813_15900883_15900976',\n",
       " 'KLHDC8B_ENSG00000185909_49210068_49210578_49210068_49210234_49211671_49211836',\n",
       " 'SOS1_ENSG00000115904_39216410_39216455_39214613_39214732_39222263_39222528',\n",
       " 'NDUFA11_ENSG00000174886_5901345_5901465_5896915_5897008_5903622_5903765',\n",
       " 'HUS1_ENSG00000136273_48019006_48019150_48019017_48019150_48018285_48018413',\n",
       " 'ZNF418_ENSG00000196724_58436990_58439415_58439344_58439415_58434559_58434657',\n",
       " 'C14orf159_ENSG00000133943_91671049_91671211_91666100_91666249_91681748_91682137',\n",
       " 'TBC1D15_ENSG00000121749_72288104_72288155_72287001_72287104_72288465_72288663',\n",
       " 'PPIP5K1_ENSG00000168781_43856300_43856363_43850992_43851130_43857064_43857190',\n",
       " 'NFIC_ENSG00000141905_3453760_3453914_3452479_3452664_3462749_3462905',\n",
       " 'ALG2_ENSG00000119523_101983260_101983419_101978707_101981118_101983828_101984224',\n",
       " 'NIN_ENSG00000100503_51223209_51225348_51221459_51221585_51226574_51227077',\n",
       " 'NBPF3_ENSG00000142794_21793488_21793802_21793674_21793802_21792579_21792649',\n",
       " 'MYO6_ENSG00000196586_76621388_76621415_76618212_76618344_76623779_76623998',\n",
       " 'VPS29_ENSG00000111237_110937261_110937351_110933816_110934008_110939853_110939916',\n",
       " 'MUS81_ENSG00000172732_65632190_65632616_65632190_65632286_65632585_65632616',\n",
       " 'CAPRIN2_ENSG00000110888_30867892_30868075_30867892_30868015_30869441_30869610',\n",
       " 'EIF4A2_ENSG00000156976_186506098_186506205_186505591_186505671_186506913_186507670',\n",
       " 'IP6K2_ENSG00000068745_48752747_48752960_48730953_48732854_48754589_48754621',\n",
       " 'CGREF1_ENSG00000138028_27323283_27323410_27321756_27322708_27324964_27325089',\n",
       " 'C2CD5_ENSG00000111731_22611417_22611519_22609904_22610095_22612425_22612476',\n",
       " 'IMPA1_ENSG00000133731_82597997_82598198_82593732_82593819_82598486_82598518',\n",
       " 'SNX25_ENSG00000109762_186272598_186272763_186267690_186267804_186274638_186274756',\n",
       " 'DIAPH3_ENSG00000139734_60707090_60707123_60686143_60686320_60737720_60737900',\n",
       " 'ICA1_ENSG00000003147_8267267_8267481_8260904_8261028_8268230_8268303',\n",
       " 'IMPDH1_ENSG00000106348_128049342_128049406_128045820_128045919_128049809_128050036',\n",
       " 'GALNT1_ENSG00000141429_33239821_33239894_33234619_33234765_33243591_33243766',\n",
       " 'RHOC_ENSG00000155366_113247721_113247790_113246114_113246428_113249699_113249736',\n",
       " 'PIGQ_ENSG00000007541_630182_630263_629068_629180_630857_630972',\n",
       " 'SNAP47_ENSG00000143740_227919285_227919448_227916239_227916487_227946695_227947186',\n",
       " 'OTUD5_ENSG00000068308_48793461_48793629_48792226_48792291_48801450_48801544',\n",
       " 'ZNF561_ENSG00000171469_9728296_9728444_9727727_9727847_9728766_9728855',\n",
       " 'GNB2L1_ENSG00000204628_180668491_180668639_180668491_180668563_180669169_180669345',\n",
       " 'CSNK1G3_ENSG00000151292_122941032_122941056_122940417_122940524_122950035_122950149',\n",
       " 'SEC31A_ENSG00000138674_83782783_83782861_83778841_83778917_83783686_83783725',\n",
       " 'ASPH_ENSG00000198363_62556503_62556560_62555944_62555992_62557158_62557191',\n",
       " 'XRRA1_ENSG00000166435_74638435_74638533_74632258_74632392_74641344_74641417',\n",
       " 'SEMA3C_ENSG00000075223_80535144_80535232_80457900_80458061_80545994_80546135',\n",
       " 'VPS39_ENSG00000166887_42484263_42484296_42483693_42483758_42492093_42492159',\n",
       " 'OS9_ENSG00000135506_58111928_58112204_58111928_58112159_58112775_58112965',\n",
       " 'MAP4_ENSG00000047849_47908735_47908828_47898920_47899002_47912302_47912595',\n",
       " 'RYR2_ENSG00000198626_237889572_237889608_237886427_237886562_237890386_237890499',\n",
       " 'SRSF6_ENSG00000124193_42087792_42088060_42087000_42087149_42088410_42088535',\n",
       " 'HOTAIRM1_ENSG00000233429_27138692_27138985_27135851_27136007_27139397_27139585',\n",
       " 'IMPDH1_ENSG00000106348_128049342_128049538_128045820_128045919_128049809_128050036',\n",
       " 'FAM211A-AS1_ENSG00000175061_16342640_16343017_16342640_16342728_16343498_16343567',\n",
       " 'TBX3_ENSG00000135111_115117717_115117777_115117309_115117456_115118683_115118951',\n",
       " 'SMPD4_ENSG00000136699_130918758_130918845_130914823_130914969_130921946_130922018',\n",
       " 'DNMT3B_ENSG00000088305_31393143_31393213_31390190_31390276_31395567_31397161',\n",
       " 'NSMCE1_ENSG00000169189_27252673_27252805_27246498_27246620_27253119_27253210',\n",
       " 'DENND4C_ENSG00000137145_19336683_19336830_19336267_19336412_19340989_19341112',\n",
       " 'CIRBP_ENSG00000099622_1270865_1271035_1270926_1271035_1269329_1269409',\n",
       " 'IZUMO4_ENSG00000099840_2098785_2098803_2098434_2098449_2099253_2099586',\n",
       " 'PRRC2B_ENSG00000130723_134349840_134351922_134348894_134349111_134353130_134353336',\n",
       " 'ESYT2_ENSG00000117868_158540884_158540971_158542339_158542414_158536219_158536369_158552176_158552272',\n",
       " 'ZNF202_ENSG00000166261_123611100_123611244_123601194_123601693_123612256_123612322',\n",
       " 'MAP4_ENSG00000047849_47910703_47910817_47898920_47899002_47912302_47912595',\n",
       " 'MAL2_ENSG00000147676_120233826_120233997_120220609_120220844_120252404_120252560',\n",
       " 'CLEC7A_ENSG00000172243_10275843_10275962_10277685_10277772_10269375_10271189_10277895_10278047',\n",
       " 'KDM6A_ENSG00000147050_44965786_44965894_44950061_44950109_44966654_44966781',\n",
       " 'C2CD5_ENSG00000111731_22611417_22611489_22609904_22610095_22612425_22612476',\n",
       " 'SDHAP1_ENSG00000185485_195690170_195690292_195686791_195686957_195692299_195692413',\n",
       " 'MYH14_ENSG00000105357_50727410_50727434_50726503_50726606_50728841_50728934',\n",
       " 'TBC1D5_ENSG00000131374_17617905_17618041_17549965_17550097_17627844_17627958',\n",
       " 'ANKMY1_ENSG00000144504_241468453_241468926_241465101_241465266_241492330_241492474',\n",
       " 'PRUNE2_ENSG00000106772_79239938_79239974_79229365_79229516_79244107_79244206',\n",
       " 'SENP6_ENSG00000112701_76332466_76332574_76311939_76312292_76333615_76333676',\n",
       " 'COPB2_ENSG00000184432_139103845_139104042_139102139_139102277_139108389_139108402',\n",
       " 'CTBP2_ENSG00000175029_126811225_126811437_126799565_126799662_126848425_126848526',\n",
       " 'WAC_ENSG00000095787_28823162_28823275_28822926_28822963_28824490_28824686',\n",
       " 'GNAS_ENSG00000087460_57473995_57474040_57470217_57470739_57478585_57478611',\n",
       " 'IL15RA_ENSG00000134470_6005705_6005804_6002329_6002530_6008107_6008302',\n",
       " 'PRMT2_ENSG00000160310_48056350_48056459_48055078_48055675_48056807_48056902',\n",
       " 'SETD5-AS1_ENSG00000206573_9437189_9437263_9432995_9433510_9439107_9439123',\n",
       " 'FAM211A-AS1_ENSG00000175061_16342841_16343017_16342376_16342728_16343498_16343567',\n",
       " 'PAPOLA_ENSG00000090060_97026985_97027048_97022511_97022750_97029155_97029230',\n",
       " 'AVL9_ENSG00000105778_32619830_32619884_32615566_32615684_32620413_32620502',\n",
       " 'RP11-473M20.14_ENSG00000263072_3182850_3183195_3181757_3182104_3184630_3184857',\n",
       " 'CHTF8_ENSG00000168802_69155338_69155396_69153855_69154552_69166386_69166470',\n",
       " 'TMEM39B_ENSG00000121775_32542764_32542919_32542363_32542447_32557275_32557345',\n",
       " 'SRSF2_ENSG00000161547_74731853_74731957_74730228_74731240_74732235_74732546',\n",
       " 'STXBP5_ENSG00000164506_147660314_147660374_147655292_147655358_147674458_147674509',\n",
       " 'CDK16_ENSG00000102225_47081659_47081741_47078108_47078504_47082950_47083158',\n",
       " 'TCIRG1_ENSG00000110719_67807258_67807429_67806572_67806586_67808734_67808855',\n",
       " 'TBCK_ENSG00000145348_107176103_107176204_107173022_107173164_107181593_107181667',\n",
       " 'GPR126_ENSG00000112414_142762044_142762090_142759348_142759501_142764473_142767385',\n",
       " 'CCDC41_ENSG00000173588_94806093_94806367_94806292_94806367_94805472_94805623',\n",
       " 'POLR3C_ENSG00000186141_145608403_145608659_145608403_145608507_145608620_145608659',\n",
       " 'ZNF207_ENSG00000010244_30693683_30693776_30692348_30692506_30694790_30695033',\n",
       " 'PFDN5_ENSG00000123349_53690213_53690335_53690213_53690251_53691633_53691708',\n",
       " 'ZNF559_ENSG00000188321_9452370_9454521_9453976_9454521_9451777_9451860',\n",
       " 'ZNF266_ENSG00000174652_9529437_9529571_9529180_9529307_9529726_9529975',\n",
       " 'MYO6_ENSG00000196586_76604947_76604977_76608089_76608128_76602246_76602407_76617321_76617425',\n",
       " 'TRIM16_ENSG00000221926_15586174_15586265_15584178_15584267_15586349_15586471',\n",
       " 'VAPA_ENSG00000101558_9944920_9945055_9936982_9937063_9950391_9950565',\n",
       " 'LRRC8D_ENSG00000171492_90395366_90395437_90309196_90309341_90398625_90398719',\n",
       " 'MED15_ENSG00000099917_20873164_20873282_20861868_20862033_20891403_20891470',\n",
       " 'ZNF568_ENSG00000198453_37416101_37416160_37408480_37408550_37427647_37427774',\n",
       " 'SLC25A6_ENSG00000169100_1509084_1509183_1508133_1508620_1510791_1510996',\n",
       " 'PRUNE2_ENSG00000106772_79256887_79256896_79253101_79253204_79259654_79259825',\n",
       " 'MLLT4_ENSG00000130396_168314082_168314103_168311963_168312169_168314847_168314993',\n",
       " 'PMS2CL_ENSG00000187953_6779804_6779955_6777265_6777567_6781315_6781483',\n",
       " 'EPB41_ENSG00000159023_29385100_29385157_29379615_29379824_29386933_29386996',\n",
       " 'HIST1H2BJ_ENSG00000124635_27095042_27095180_27094057_27094241_27100145_27100541',\n",
       " 'FUS_ENSG00000089280_31198122_31198157_31196259_31196500_31199645_31199678',\n",
       " 'NCOR1_ENSG00000141027_15990485_15990659_15989712_15989756_15995176_15995232',\n",
       " 'ABHD14B_ENSG00000114779_52005475_52005714_52003099_52004200_52007980_52008037',\n",
       " 'SLCO4A1_ENSG00000101187_61299506_61299536_61299092_61299262_61299828_61299893',\n",
       " 'ESYT2_ENSG00000117868_158545471_158545534_158542339_158542414_158552176_158552272',\n",
       " 'PPM1A_ENSG00000100614_60717097_60717199_60716158_60716395_60749401_60750255',\n",
       " 'CTA-292E10.6_ENSG00000226471_29240114_29240187_29217959_29218167_29244378_29244547',\n",
       " 'H2AFY_ENSG00000113648_134686512_134686603_134688635_134688735_134681657_134681747_134696186_134696297',\n",
       " 'AKAP13_ENSG00000170776_86201767_86201821_86198647_86199018_86207793_86207986',\n",
       " 'FAM135A_ENSG00000082269_71195869_71195947_71191703_71191857_71200736_71200786',\n",
       " 'GAPVD1_ENSG00000165219_128025829_128025979_128024109_128024238_128050040_128050162',\n",
       " 'BSCL2_ENSG00000168000_62472939_62473089_62469939_62470021_62473387_62473692',\n",
       " 'BANF1_ENSG00000175334_65770314_65770541_65769726_65769984_65770705_65770806',\n",
       " 'ARL16_ENSG00000214087_79649063_79649705_79649063_79649179_79650042_79650156',\n",
       " 'PIKFYVE_ENSG00000115020_209212582_209212747_209210773_209210871_209214747_209214807',\n",
       " 'LRRFIP2_ENSG00000093167_37132957_37133029_37125126_37125297_37136282_37136399',\n",
       " 'ZNF667_ENSG00000198046_56985380_56985493_56973706_56973798_56988640_56988699',\n",
       " 'GLYR1_ENSG00000140632_4871547_4871598_4871204_4871454_4872875_4872932',\n",
       " 'DLEU1_ENSG00000176124_51066786_51066897_51007548_51007686_51102001_51102200',\n",
       " 'BRD8_ENSG00000112983_137493330_137493583_137492570_137492956_137495243_137495288',\n",
       " 'MUS81_ENSG00000172732_65632487_65632616_65632585_65632616_65632190_65632286',\n",
       " 'FN1_ENSG00000115414_216236831_216237098_216236631_216236738_216238044_216238134',\n",
       " 'PRDM4_ENSG00000110851_108134722_108135037_108133159_108133328_108135997_108136125',\n",
       " 'NEK1_ENSG00000137601_170429919_170430003_170429398_170429482_170458959_170459062',\n",
       " 'EVC_ENSG00000072840_5819937_5819981_5812679_5815889_5825343_5825547',\n",
       " 'DAP3_ENSG00000132676_155658881_155659034_155658881_155658965_155679563_155679615',\n",
       " 'MTMR1_ENSG00000063601_149880813_149880837_149867667_149867773_149887096_149887172',\n",
       " 'TRIQK_ENSG00000205133_93933730_93933888_93929156_93929235_93966633_93966792',\n",
       " 'PCBP2_ENSG00000197111_53861588_53861627_53861004_53861077_53862560_53862616',\n",
       " 'HNRNPC_ENSG00000092199_21731469_21731741_21702189_21702388_21737456_21737584',\n",
       " 'COX20_ENSG00000203667_245005245_245005360_244998623_244999058_245005496_245005560',\n",
       " 'KCTD17_ENSG00000100379_37456862_37456962_37455352_37455478_37457578_37457604',\n",
       " 'SMARCAD1_ENSG00000163104_95134185_95134303_95129496_95129735_95147269_95147447',\n",
       " 'DBI_ENSG00000155368_120125134_120125220_120124564_120124636_120125763_120125881',\n",
       " 'MYO6_ENSG00000196586_76608089_76608128_76602246_76602407_76617321_76617425',\n",
       " 'FAM208B_ENSG00000108021_5751492_5751626_5726904_5727138_5754356_5754502',\n",
       " 'UTRN_ENSG00000152818_145148483_145148522_145142017_145142154_145148746_145148812',\n",
       " 'ENAH_ENSG00000154380_225692692_225692755_225688693_225688772_225695652_225695719',\n",
       " 'MACF1_ENSG00000127603_39844132_39844195_39838150_39838268_39844874_39845116',\n",
       " 'LRRC7_ENSG00000033122_70181824_70181901_70144063_70144161_70225873_70226076',\n",
       " 'USMG5_ENSG00000173915_105155502_105155789_105152127_105152223_105156165_105156198',\n",
       " 'REPIN1_ENSG00000214022_150067802_150067973_150066732_150066957_150068316_150068744',\n",
       " 'ARHGAP33_ENSG00000004777_36277314_36277974_36277797_36277974_36276310_36276385',\n",
       " 'PIGT_ENSG00000124155_44045156_44045334_44045156_44045294_44047934_44048035',\n",
       " 'ZNF681_ENSG00000196172_23937624_23937720_23921996_23928125_23941548_23941642',\n",
       " 'PLD3_ENSG00000105223_40871459_40871837_40871459_40871492_40872325_40872417',\n",
       " 'DERL2_ENSG00000072849_5383706_5383779_5383373_5383464_5384420_5384462',\n",
       " 'SLC25A45_ENSG00000162241_65148004_65148103_65147602_65147705_65149345_65149440',\n",
       " 'ZIM2_ENSG00000269699_57337755_57337831_57335629_57335882_57347385_57347446',\n",
       " 'C2orf43_ENSG00000118961_21001069_21001225_20990014_20990158_21022796_21022830',\n",
       " 'PFKL_ENSG00000141959_45725682_45725818_45725139_45725300_45726563_45726637',\n",
       " 'SNRPN_ENSG00000128739_25212175_25212387_25207260_25207356_25213078_25213229',\n",
       " 'NUP62CL_ENSG00000198088_106394085_106394197_106390972_106391039_106396401_106396536',\n",
       " 'RHOC_ENSG00000155366_113247721_113247823_113246265_113246428_113249699_113249724',\n",
       " 'MYO5A_ENSG00000197535_52635313_52635394_52632392_52632591_52638557_52638658',\n",
       " 'CCDC115_ENSG00000136710_131097132_131097335_131095815_131096805_131098480_131098612',\n",
       " 'VPS29_ENSG00000111237_110937339_110937351_110933816_110934008_110939853_110939904',\n",
       " 'DENND2C_ENSG00000175984_115197125_115197382_115188068_115188180_115212603_115212656',\n",
       " 'SCRIB_ENSG00000180900_144873835_144873910_144873558_144873610_144874045_144874083',\n",
       " 'CHTF8_ENSG00000168802_69154955_69155073_69151912_69154552_69166386_69166476',\n",
       " 'CPNE3_ENSG00000085719_87527689_87527727_87526655_87526769_87540763_87540905',\n",
       " 'UBE2J2_ENSG00000160087_1197648_1197770_1192587_1192690_1198725_1198766',\n",
       " 'ZNF507_ENSG00000168813_32838150_32838244_32836530_32836689_32843734_32845863',\n",
       " 'ZWINT_ENSG00000122952_58118565_58118708_58118669_58118708_58118316_58118448',\n",
       " 'DAK_ENSG00000149476_61103311_61103409_61101020_61102203_61105412_61105555',\n",
       " 'ZNF266_ENSG00000174652_9529437_9529975_9529726_9529975_9529180_9529307',\n",
       " 'MPST_ENSG00000128309_37419792_37419968_37415736_37415815_37420232_37420851',\n",
       " 'RPS24_ENSG00000138326_79799961_79799983_79796951_79797062_79800372_79800428',\n",
       " 'SNHG14_ENSG00000224078_25360445_25360803_25356911_25357041_25362556_25362662',\n",
       " 'SETD5_ENSG00000168137_9495688_9495785_9495422_9495552_9506108_9506638',\n",
       " 'HIGD1A_ENSG00000181061_42835648_42835791_42827519_42827654_42845927_42845980',\n",
       " 'SEPT5_ENSG00000184702_19709344_19709480_19709355_19709480_19709162_19709259',\n",
       " 'HKR1_ENSG00000181666_37838091_37838218_37838133_37838218_37837324_37837394',\n",
       " 'ZNF28_ENSG00000198538_53311259_53311386_53300661_53304955_53321196_53321284',\n",
       " 'RPS24_ENSG00000138326_79799958_79799983_79796951_79797062_79800372_79800471',\n",
       " 'ARID1B_ENSG00000049618_157471858_157471987_157469923_157470085_157488173_157488319',\n",
       " 'C17orf61-PLSCR3_ENSG00000262481_7296462_7296683_7296109_7296271_7296785_7296828',\n",
       " 'TPP2_ENSG00000134900_103320107_103320233_103317144_103317286_103326632_103326761',\n",
       " 'SARS_ENSG00000031698_109779426_109779492_109779012_109779170_109779865_109779995',\n",
       " 'APOO_ENSG00000184831_23898961_23899069_23897031_23897151_23925810_23926020',\n",
       " 'MYO6_ENSG00000196586_76608089_76608128_76604947_76604977_76617321_76617425',\n",
       " 'CLEC7A_ENSG00000172243_10277685_10277772_10275843_10275962_10277895_10278047',\n",
       " 'PICALM_ENSG00000073921_85701292_85701421_85694908_85695016_85707868_85707972',\n",
       " 'RP11-1023L17.1_ENSG00000215158_34200925_34201026_34182931_34182972_34218399_34218555',\n",
       " 'FAM211A-AS1_ENSG00000175061_16342973_16343017_16342358_16342728_16343498_16343567',\n",
       " 'TP53INP1_ENSG00000164938_95944297_95944335_95938199_95942956_95952087_95952448',\n",
       " 'NDUFV3_ENSG00000160194_44323291_44324386_44317036_44317157_44328973_44329215',\n",
       " 'RBCK1_ENSG00000125826_390524_390669_388693_389423_391055_391408',\n",
       " 'EIF4G2_ENSG00000110321_10823207_10823756_10823595_10823756_10822508_10822634',\n",
       " 'MEAF6_ENSG00000163875_37962147_37962205_37961474_37961519_37967404_37967597',\n",
       " 'CCDC91_ENSG00000123106_28378727_28378794_28343378_28343574_28408513_28408595',\n",
       " 'ZNF681_ENSG00000196172_23937624_23937699_23926159_23928125_23941548_23941639',\n",
       " 'RHOC_ENSG00000155366_113247721_113247745_113246265_113246428_113249699_113249724',\n",
       " 'GPR126_ENSG00000112414_142704896_142704980_142703087_142703156_142711394_142711480',\n",
       " 'SLC2A8_ENSG00000136856_130164835_130165032_130162185_130162285_130166016_130166070',\n",
       " 'CCNDBP1_ENSG00000166946_43486278_43486335_43484940_43485001_43486612_43486659',\n",
       " 'SEPT2_ENSG00000168385_242255836_242255955_242255296_242255397_242263630_242263656',\n",
       " 'PLEKHA1_ENSG00000107679_124187791_124187832_124186457_124186547_124189139_124191861',\n",
       " 'PPFIA2_ENSG00000139220_81676788_81676818_81675035_81675211_81678019_81678082',\n",
       " 'CCDC41_ENSG00000173588_94806093_94806205_94805472_94805623_94806292_94806367',\n",
       " 'MED12_ENSG00000184634_70345512_70345563_70345200_70345345_70345885_70346004',\n",
       " 'SFMBT1_ENSG00000163935_53077151_53077270_53003116_53003274_53080475_53080766',\n",
       " 'LCOR_ENSG00000196233_98714709_98715591_98711859_98711953_98718168_98724188',\n",
       " 'CNOT2_ENSG00000111596_70688016_70688074_70679179_70679366_70704674_70704797',\n",
       " 'LINC01155_ENSG00000232593_53123581_53123656_53123326_53123466_53128653_53128790',\n",
       " 'CTNND1_ENSG00000198561_57583386_57583473_57582865_57582972_57583768_57586650',\n",
       " 'MTRR_ENSG00000124275_7886727_7886816_7885813_7885967_7889207_7889276',\n",
       " 'EIF4A2_ENSG00000156976_186502750_186502890_186502352_186502485_186503671_186503702',\n",
       " 'ITGAE_ENSG00000083457_3626581_3626677_3623600_3623696_3626981_3627038',\n",
       " 'DERL2_ENSG00000072849_5384420_5384709_5384420_5384462_5384615_5384709',\n",
       " 'WDR52_ENSG00000206530_113052252_113052430_113049014_113049515_113060590_113060765',\n",
       " 'RBM39_ENSG00000131051_34317383_34317449_34317233_34317287_34319862_34320057',\n",
       " 'RIMS1_ENSG00000079841_73000381_73000564_72993749_72993821_73001636_73001749',\n",
       " 'ZNF528_ENSG00000167555_52904937_52905006_52901619_52901872_52905199_52905270',\n",
       " 'CDK16_ENSG00000102225_47081659_47081779_47078089_47078504_47082950_47083158',\n",
       " 'LCMT1_ENSG00000205629_25137284_25137447_25123051_25123317_25139795_25139887',\n",
       " 'LIPT1_ENSG00000144182_99772763_99772889_99771944_99772007_99778419_99778738',\n",
       " 'RP11-51F16.8_ENSG00000125695_61800657_61800686_61791365_61791468_61803997_61804055',\n",
       " 'TRIM46_ENSG00000163462_155151284_155151322_155150967_155151089_155152107_155152410',\n",
       " 'LRBA_ENSG00000198589_151518234_151518267_151511864_151512011_151520158_151520283',\n",
       " 'ALDOA_ENSG00000149925_30077196_30077248_30075744_30075826_30078554_30078687',\n",
       " 'ACYP2_ENSG00000170634_54284375_54284497_54200849_54200947_54362589_54362606',\n",
       " 'WBP1_ENSG00000239779_74685958_74686244_74685958_74686046_74686769_74686872',\n",
       " 'HNRNPH1_ENSG00000169045_179043869_179044111_179044021_179044111_179043126_179043219',\n",
       " 'EEF1D_ENSG00000104529_144674816_144675112_144671999_144672251_144679517_144679585',\n",
       " 'PIGF_ENSG00000151665_46815213_46815318_46808423_46808730_46819613_46819722',\n",
       " 'LIPT1_ENSG00000144182_99771944_99772007_99771417_99771514_99778419_99779174',\n",
       " 'ADNP_ENSG00000101126_49545187_49545362_49520425_49520538_49547362_49547750',\n",
       " 'AFTPH_ENSG00000119844_64806619_64808407_64806619_64806680_64812555_64812679',\n",
       " 'B4GALNT1_ENSG00000135454_58021400_58021674_58021400_58021641_58021904_58022045',\n",
       " 'TMEM66_ENSG00000133872_29931392_29931567_29927157_29927575_29940362_29940640',\n",
       " 'ZBED3-AS1_ENSG00000250802_76401480_76401514_76394479_76394572_76414144_76414200',\n",
       " 'PPAP2A_ENSG00000067113_54771126_54771278_54763696_54763977_54830399_54830878',\n",
       " 'FN1_ENSG00000115414_216236631_216237098_216236631_216236738_216238044_216238134',\n",
       " 'C7orf55-LUC7L2_ENSG00000146963_139059146_139059217_139044657_139045068_139060807_139060902',\n",
       " 'GTSE1_ENSG00000075218_46704046_46704104_46693276_46693376_46704215_46704840',\n",
       " 'PPP2R2A_ENSG00000221914_26191001_26191086_26151181_26151256_26196405_26196503',\n",
       " 'FOLH1_ENSG00000086205_49207220_49207407_49204700_49204794_49208195_49208321',\n",
       " 'KAT6B_ENSG00000156650_76735156_76736088_76735156_76735539_76737073_76737195',\n",
       " 'ARL16_ENSG00000214087_79649472_79649705_79649063_79649179_79650042_79650156',\n",
       " 'PPP1R7_ENSG00000115685_242092897_242093019_242089881_242089962_242097221_242097277',\n",
       " 'TCEB1_ENSG00000154582_74868145_74868289_74871999_74872053_74857353_74859055_74884479_74884522',\n",
       " 'SLC25A19_ENSG00000125454_73284582_73284672_73282713_73282883_73285434_73285471',\n",
       " 'PPP2R4_ENSG00000119383_131890242_131890347_131885330_131885417_131891263_131891389',\n",
       " 'BRE_ENSG00000158019_28115249_28115315_28113658_28113709_28117399_28117551',\n",
       " 'GBAP1_ENSG00000160766_155185353_155185578_155185353_155185442_155185552_155185578',\n",
       " 'AFTPH_ENSG00000119844_64808323_64808407_64806619_64806680_64812555_64812679',\n",
       " 'WDFY3_ENSG00000163625_85729486_85729570_85724442_85724620_85731039_85731497',\n",
       " 'MYO6_ENSG00000196586_76604530_76604557_76602246_76602407_76617321_76617425',\n",
       " 'SEPT2_ENSG00000168385_242256913_242257014_242263630_242263656_242255417_242255955_242265407_242265466',\n",
       " 'DDR1_ENSG00000204580_30863180_30863291_30862282_30862448_30864397_30864642',\n",
       " 'NAA35_ENSG00000135040_88627960_88628059_88624779_88624846_88628633_88628812',\n",
       " 'CCDC24_ENSG00000159214_44457824_44458059_44458194_44458311_44457518_44457676_44459561_44460834',\n",
       " 'CCDC66_ENSG00000180376_56606364_56606456_56605208_56605330_56626997_56627089',\n",
       " 'DNAJC21_ENSG00000168724_34949647_34949782_34945865_34945908_34950274_34950447',\n",
       " 'MAP4_ENSG00000047849_47950527_47953911_47918906_47919013_47956306_47956429',\n",
       " 'SUPT7L_ENSG00000119760_27883850_27884468_27880211_27880536_27885045_27885148',\n",
       " 'PSMA2_ENSG00000106588_42970694_42970754_42966981_42967058_42971716_42971753',\n",
       " 'RP11-378J18.3_ENSG00000225265_222763599_222763749_222763272_222763304_222765507_222766075',\n",
       " 'TMEM198_ENSG00000188760_220412227_220412803_220409410_220409615_220413873_220414076',\n",
       " 'ZNF561_ENSG00000171469_9728296_9728434_9727720_9727847_9728766_9728855',\n",
       " 'BAIAP2_ENSG00000175866_79084713_79084759_79082274_79082309_79089569_79090024',\n",
       " 'BLNK_ENSG00000095585_97975076_97975145_97969593_97969663_97976408_97976490',\n",
       " 'LMX1B_ENSG00000136944_129458117_129458282_129458117_129458261_129458572_129458828',\n",
       " 'RAD9A_ENSG00000172613_67161161_67161261_67161193_67161261_67160966_67161081',\n",
       " 'ANKMY1_ENSG00000144504_241448764_241448872_241451277_241451418_241446976_241447108_241452218_241452359',\n",
       " 'KIAA0232_ENSG00000170871_6806249_6806333_6784466_6784568_6825911_6826411',\n",
       " 'RFESD_ENSG00000175449_94988820_94988918_94987840_94988035_94989764_94989940',\n",
       " 'SUPT7L_ENSG00000119760_27883850_27884255_27880211_27880536_27885045_27885148',\n",
       " 'EEF1D_ENSG00000104529_144674816_144674830_144671160_144672251_144679517_144679845',\n",
       " 'ALAS1_ENSG00000023330_52233225_52233456_52233236_52233456_52232687_52232864',\n",
       " 'LPIN1_ENSG00000134324_11916211_11916319_11913745_11913871_11919644_11919771',\n",
       " 'TMEM69_ENSG00000159596_46156645_46156782_46152885_46153947_46158875_46160115',\n",
       " 'KMT2E_ENSG00000005483_104748990_104749105_104748346_104748372_104749388_104749675',\n",
       " 'PPFIA2_ENSG00000139220_81678019_81678082_81675035_81675229_81688613_81688814',\n",
       " 'C5orf38_ENSG00000186493_2753398_2753469_2752735_2752868_2755142_2755195',\n",
       " 'ATXN2_ENSG00000204842_111891480_111891649_111890017_111890644_111893832_111894060',\n",
       " 'SLC25A19_ENSG00000125454_73284468_73284542_73282713_73282883_73285434_73285467',\n",
       " 'TMEM66_ENSG00000133872_29931392_29931544_29927389_29927575_29940362_29940590',\n",
       " 'SNRPN_ENSG00000128739_25212175_25212299_25207260_25207356_25213078_25213229',\n",
       " 'SAMD4A_ENSG00000020577_55203741_55204005_55168779_55169298_55215532_55215642',\n",
       " 'PFDN5_ENSG00000123349_53690213_53691708_53690213_53690251_53691633_53691708',\n",
       " 'C5orf38_ENSG00000186493_2753398_2753484_2752735_2752868_2755142_2755195',\n",
       " 'PRUNE2_ENSG00000106772_79234255_79234303_79226291_79229516_79244107_79244206',\n",
       " 'TMEM66_ENSG00000133872_29931392_29931571_29927157_29927575_29940362_29940464',\n",
       " 'CCDC64_ENSG00000135127_120510314_120510533_120509425_120509605_120518690_120518821',\n",
       " 'TRIM16_ENSG00000221926_15586167_15586278_15584178_15584267_15586349_15586471',\n",
       " 'HNRNPH3_ENSG00000096746_70097614_70097753_70096955_70097090_70098259_70098399',\n",
       " 'RYR2_ENSG00000198626_237841347_237841412_237838030_237838146_237862264_237862325',\n",
       " 'SEPT2_ENSG00000168385_242255836_242255970_242255319_242255397_242263630_242263656',\n",
       " 'PYCR1_ENSG00000183010_79892201_79892365_79890259_79891252_79892528_79892621',\n",
       " 'LARP1B_ENSG00000138709_129098026_129098062_129083348_129083472_129099585_129099797',\n",
       " 'RCC1_ENSG00000180198_28857034_28857127_28857034_28857085_28858314_28858502',\n",
       " 'ASPH_ENSG00000198363_62594997_62595042_62593526_62593595_62596597_62596747',\n",
       " 'SEL1L_ENSG00000071537_81958823_81958892_81956731_81956809_81961424_81961481',\n",
       " 'DERL2_ENSG00000072849_5383706_5383863_5383373_5383464_5384420_5384462',\n",
       " 'E2F6_ENSG00000169016_11595467_11595600_11593707_11593924_11605897_11606005',\n",
       " 'CANT1_ENSG00000171302_76996181_76996352_76993474_76994045_77001453_77001563',\n",
       " 'IP6K2_ENSG00000068745_48732522_48732854_48732522_48732851_48752747_48752960',\n",
       " 'EFCAB14_ENSG00000159658_47154024_47154216_47152455_47152542_47155258_47155363',\n",
       " 'USP10_ENSG00000103194_84766658_84766711_84733591_84733717_84767040_84767109',\n",
       " 'ZBED3-AS1_ENSG00000250802_76394479_76394572_76383261_76383444_76414144_76414346',\n",
       " 'LMF1_ENSG00000103227_905106_906055_904499_904706_918943_918968',\n",
       " 'ADD3_ENSG00000148700_111892062_111892158_111890120_111890244_111893083_111893969',\n",
       " 'GOLGA4_ENSG00000144674_37402733_37402796_37396591_37396678_37407570_37408242',\n",
       " 'APBB2_ENSG00000163697_40937093_40937156_40936630_40936716_40946881_40947087',\n",
       " 'PPP2R2A_ENSG00000221914_26197418_26197489_26196405_26196503_26211983_26212149',\n",
       " 'LINC00893_ENSG00000241769_148619164_148619310_148617704_148617787_148619646_148619704',\n",
       " 'RP11-176H8.1_ENSG00000203546_31897349_31897394_31872055_31872255_31922480_31922550',\n",
       " 'VDR_ENSG00000111424_48293619_48293741_48272750_48272898_48298737_48298799',\n",
       " 'TBC1D5_ENSG00000131374_17664139_17664257_17627844_17628049_17665340_17665405',\n",
       " 'USO1_ENSG00000138768_76716488_76716509_76714842_76715054_76720774_76720885',\n",
       " 'KCTD15_ENSG00000153885_34289168_34289295_34287750_34287892_34289575_34289671',\n",
       " 'PARP8_ENSG00000151883_50052952_50053049_50045984_50046022_50055476_50055566',\n",
       " 'YWHAB_ENSG00000166913_43516288_43516383_43514351_43514527_43530171_43530397',\n",
       " 'SLC15A4_ENSG00000139370_129294487_129294656_129293940_129294018_129299319_129299615',\n",
       " 'PDXK_ENSG00000160209_45152019_45152323_45148797_45148891_45153949_45154004',\n",
       " 'ABCC4_ENSG00000125257_95918365_95918518_95899896_95900007_95953494_95953589',\n",
       " 'NDE1_ENSG00000072864_15745787_15745907_15744103_15744151_15758592_15758718',\n",
       " 'DROSHA_ENSG00000113360_31521229_31521322_31515560_31515671_31526185_31527019',\n",
       " 'ABHD14B_ENSG00000114779_52005475_52005908_52003958_52004200_52007980_52008047',\n",
       " 'TNRC6C_ENSG00000078687_76008083_76008141_76001138_76001160_76027596_76027923',\n",
       " 'XRCC4_ENSG00000152422_82648943_82649530_82648949_82649530_82554348_82554496',\n",
       " 'C12orf73_ENSG00000204954_104349483_104349549_104348652_104348746_104350408_104350516',\n",
       " 'WRNIP1_ENSG00000124535_2770353_2770595_2770428_2770595_2768924_2769116',\n",
       " 'PAPOLA_ENSG00000090060_97029155_97029230_97022511_97022750_97031291_97031325',\n",
       " 'FN1_ENSG00000115414_216236831_216237023_216236631_216236738_216238044_216238134',\n",
       " 'PFKM_ENSG00000152556_48512264_48512360_48501854_48501977_48516549_48516624',\n",
       " 'SLCO4A1_ENSG00000101187_61299509_61299536_61299221_61299262_61299828_61299893',\n",
       " 'ANKAR_ENSG00000151687_190569748_190569950_190560875_190561095_190571663_190571872',\n",
       " 'PLEKHA3_ENSG00000116095_179353694_179353741_179350367_179350484_179355385_179355541',\n",
       " 'OPTN_ENSG00000123240_13160887_13161040_13160905_13161040_13158266_13158340',\n",
       " 'RP11-220I1.1_ENSG00000233137_37084195_37084289_37080009_37080533_37086664_37087004',\n",
       " 'METTL25_ENSG00000127720_82832496_82832570_82828473_82828503_82870422_82870497',\n",
       " 'ATP6AP1L_ENSG00000205464_81591311_81591363_81576778_81576830_81599305_81599346',\n",
       " 'PPP3CA_ENSG00000138814_101950322_101950352_101944565_101947218_101953423_101953521',\n",
       " 'TUBGCP6_ENSG00000128159_50658385_50660303_50658385_50658444_50658620_50660303',\n",
       " 'ATG4A_ENSG00000101844_107370022_107370324_107369306_107369417_107372010_107372082',\n",
       " 'NFIC_ENSG00000141905_3453760_3453914_3452479_3452664_3456547_3456633',\n",
       " 'FAM168A_ENSG00000054965_73136066_73136093_73130918_73131044_73141734_73141815',\n",
       " 'NPAS1_ENSG00000130751_47544235_47544383_47543701_47543808_47546067_47546135',\n",
       " 'HNRNPC_ENSG00000092199_21731469_21731495_21702111_21702388_21737456_21737562',\n",
       " 'TMEM126B_ENSG00000171204_85342188_85342360_85339636_85339732_85342730_85342835',\n",
       " 'LONP2_ENSG00000102910_48290520_48290652_48286041_48286276_48292528_48292651',\n",
       " 'RHOC_ENSG00000155366_113247721_113248874_113246265_113246428_113249699_113249749',\n",
       " 'WNK2_ENSG00000165238_96062332_96062431_96061351_96061543_96070609_96070866',\n",
       " 'IL15RA_ENSG00000134470_6005705_6005801_6002357_6002530_6008107_6008302',\n",
       " 'PTPRF_ENSG00000142949_44067741_44067768_44064390_44064584_44069086_44069204',\n",
       " 'MPRIP_ENSG00000133030_17067422_17071229_17064553_17064670_17075031_17075179',\n",
       " 'ZFAND1_ENSG00000104231_82629483_82629523_82627221_82627349_82630416_82630459',\n",
       " 'CCDC24_ENSG00000159214_44458194_44458311_44457473_44458059_44459561_44459636',\n",
       " 'LPAR2_ENSG00000064547_19738562_19738778_19738205_19738313_19738900_19738976',\n",
       " 'RBM3_ENSG00000102317_48434202_48434471_48433948_48434055_48434701_48434807',\n",
       " 'UBE2D1_ENSG00000072401_60121254_60121286_60121097_60121161_60123368_60123446',\n",
       " 'RANBP3_ENSG00000031823_5957928_5957984_5933422_5933490_5978071_5978096',\n",
       " 'NEB_ENSG00000183091_152371331_152371442_152370831_152370942_152372972_152373077',\n",
       " 'BNIP2_ENSG00000140299_59960301_59960337_59955577_59956319_59961090_59961148',\n",
       " 'CFDP1_ENSG00000153774_75425277_75425406_75406188_75406466_75428987_75429034',\n",
       " 'RASSF7_ENSG00000099849_563395_563478_563188_563317_563557_563645',\n",
       " 'HIPK2_ENSG00000064393_139299031_139299239_139299031_139299158_139305146_139305309',\n",
       " 'UBE2J2_ENSG00000160087_1197549_1197770_1192587_1192690_1198725_1198766',\n",
       " 'ZSCAN23_ENSG00000187987_28403635_28404120_28403236_28403384_28411175_28411244',\n",
       " 'KRIT1_ENSG00000001631_91874740_91874909_91874215_91874485_91875219_91875373',\n",
       " 'ATG13_ENSG00000175224_46652446_46652541_46653872_46654009_46651594_46651650_46665828_46665910',\n",
       " 'TRNT1_ENSG00000072756_3169629_3169702_3168663_3168973_3170697_3170872',\n",
       " 'FLNB_ENSG00000136068_58117653_58117746_58116467_58116635_58118534_58118658',\n",
       " 'TMCC1_ENSG00000172765_129546645_129547351_129546645_129546920_129551616_129551669',\n",
       " 'HSCB_ENSG00000100209_29139869_29139966_29138018_29138319_29147228_29147276',\n",
       " 'MED31_ENSG00000108590_6553301_6553398_6546634_6547979_6553675_6553753',\n",
       " 'TTC21B_ENSG00000123607_166719453_166719575_166714724_166714914_166727306_166727501',\n",
       " 'ZNF217_ENSG00000171940_52188259_52188392_52183603_52185803_52192265_52193819',\n",
       " 'RFFL_ENSG00000092871_33341758_33341782_33333008_33339168_33343388_33343599',\n",
       " 'MAP2K3_ENSG00000034152_21199397_21199522_21198986_21199081_21201724_21201756',\n",
       " 'STEAP2_ENSG00000157214_89841589_89841650_89841173_89841248_89859185_89859350',\n",
       " 'DERL2_ENSG00000072849_5383706_5383863_5383706_5383779_5384420_5384462',\n",
       " 'CSNK2A1_ENSG00000101266_489094_489304_485761_485873_524315_524340',\n",
       " 'STAU2_ENSG00000040341_74621266_74621397_74600885_74601048_74650518_74650579',\n",
       " 'CHD3_ENSG00000170004_7812460_7812702_7812460_7812656_7813745_7813909',\n",
       " 'TCF7L2_ENSG00000148737_114724314_114724383_114711241_114711366_114799783_114799885',\n",
       " 'PICALM_ENSG00000073921_85701292_85701442_85694908_85695016_85707868_85707972',\n",
       " 'FAM211A-AS1_ENSG00000175061_16342894_16343017_16342640_16342728_16343498_16343567',\n",
       " 'CTBP2_ENSG00000175029_126776759_126776888_126727614_126727724_126799558_126799662',\n",
       " 'FAM211A-AS1_ENSG00000175061_16342894_16343567_16343498_16343567_16342640_16342728',\n",
       " 'TRNT1_ENSG00000072756_3168703_3169702_3168703_3168973_3170697_3170872']"
      ]
     },
     "execution_count": 30,
     "metadata": {},
     "output_type": "execute_result"
    }
   ],
   "source": [
    "get_overlaps([rpl22l1_kd1_rmats,rpl22l1_kd1_rmats])"
   ]
  },
  {
   "cell_type": "markdown",
   "metadata": {},
   "source": [
    "## Between RPL22 sgRNAs"
   ]
  },
  {
   "cell_type": "code",
   "execution_count": 25,
   "metadata": {
    "ExecuteTime": {
     "end_time": "2020-05-01T00:16:35.389790Z",
     "start_time": "2020-05-01T00:16:35.373104Z"
    }
   },
   "outputs": [
    {
     "data": {
      "text/plain": [
       "['PEX6_ENSG00000124587_42936611_42936723_42936027_42936236_42937405_42937539',\n",
       " 'MOK_ENSG00000080823_102718092_102718141_102717148_102717327_102718253_102718332',\n",
       " 'GPR133_ENSG00000111452_131484927_131484987_131478701_131478812_131488730_131488841',\n",
       " 'STYXL1_ENSG00000127952_75651168_75651310_75657959_75658021_75634576_75634722_75677129_75677301',\n",
       " 'ECHDC2_ENSG00000121310_53363108_53363156_53361655_53362269_53370317_53370505',\n",
       " 'CDC34_ENSG00000099804_541342_541585_541345_541585_537012_537147',\n",
       " 'PCID2_ENSG00000126226_113852504_113852578_113852504_113852575_113854740_113854830',\n",
       " 'KIAA1191_ENSG00000122203_175779624_175779751_175775252_175775359_175782573_175782752',\n",
       " 'DPY19L4_ENSG00000156162_95746857_95746982_95738558_95738669_95751640_95751762',\n",
       " 'CENPK_ENSG00000123219_64857289_64857391_64857323_64857391_64838628_64838675',\n",
       " 'PLSCR4_ENSG00000114698_145968343_145968424_145939851_145939879_145968746_145968912',\n",
       " 'GSDMD_ENSG00000104518_144640531_144640621_144640547_144640621_144637228_144637366',\n",
       " 'TOP3B_ENSG00000100038_22330352_22330559_22330011_22330179_22336810_22336846',\n",
       " 'TMEM241_ENSG00000134490_21001330_21001408_20979529_20979611_21010594_21010641',\n",
       " 'BCL2L13_ENSG00000099968_18178906_18178976_18171751_18171908_18209442_18211465',\n",
       " 'RPGRIP1L_ENSG00000103494_53679536_53679915_53675196_53675387_53682875_53683027',\n",
       " 'YY1AP1_ENSG00000163374_155646338_155646537_155649199_155649303_155640110_155640255_155657861_155657992',\n",
       " 'SLC25A36_ENSG00000114120_140685841_140685878_140681968_140682069_140689768_140689835',\n",
       " 'DHRS4L2_ENSG00000187630_24464240_24464342_24459390_24459568_24470071_24470142',\n",
       " 'TMUB2_ENSG00000168591_42266302_42266667_42266302_42266459_42267868_42269079',\n",
       " 'GPR56_ENSG00000205336_57675498_57675620_57675502_57675620_57653957_57654048',\n",
       " 'CEP78_ENSG00000148019_80861584_80861698_80858377_80858552_80863206_80863271',\n",
       " 'TTLL4_ENSG00000135912_219591991_219592070_219575571_219575760_219602301_219603886',\n",
       " 'ZNF559_ENSG00000188321_9452370_9454521_9453976_9454521_9451777_9451860',\n",
       " 'RTFDC1_ENSG00000022277_55091990_55092045_55088370_55088484_55092161_55092257',\n",
       " 'DCXR_ENSG00000169738_79994066_79994639_79994066_79994324_79994596_79994639',\n",
       " 'RNF181_ENSG00000168894_85824075_85824301_85823641_85823772_85824567_85824736',\n",
       " 'DHRS4L2_ENSG00000187630_24464240_24464342_24459390_24459568_24473545_24473601',\n",
       " 'TMEM161B-AS1_ENSG00000247828_87578531_87578683_87577858_87577923_87583252_87583474',\n",
       " 'SCYL3_ENSG00000000457_169833509_169833649_169831753_169831938_169836036_169836114',\n",
       " 'METTL2B_ENSG00000165055_128133857_128133997_128120700_128120750_128138089_128138196',\n",
       " 'ESPL1_ENSG00000135476_53668600_53668794_53666504_53666641_53670403_53670643',\n",
       " 'EP400NL_ENSG00000185684_132575939_132576061_132575393_132575488_132588541_132588715',\n",
       " 'MTIF3_ENSG00000122033_28011252_28011410_28009775_28010030_28014125_28014586',\n",
       " 'TSPAN9_ENSG00000011105_3315445_3315584_3310342_3310422_3387586_3387778',\n",
       " 'MDM4_ENSG00000198625_204506586_204506625_204501318_204501374_204507336_204507436',\n",
       " 'ATXN1_ENSG00000124788_16753463_16753578_16658006_16658132_16761528_16761691',\n",
       " 'TMEM241_ENSG00000134490_20979529_20979611_21001330_21001408_20957609_20957635_21010594_21010641',\n",
       " 'PDP2_ENSG00000172840_66916917_66917005_66914421_66914543_66918133_66918497',\n",
       " 'FAM135A_ENSG00000082269_71233669_71233824_71232215_71232289_71234045_71234302',\n",
       " 'C17orf75_ENSG00000108666_30666831_30666981_30666831_30666943_30668222_30668303',\n",
       " 'DENND6B_ENSG00000205593_50754453_50754904_50754453_50754516_50754798_50754904',\n",
       " 'RAD17_ENSG00000152942_68666861_68666998_68665638_68665760_68669656_68669914',\n",
       " 'RP11-468E2.4_ENSG00000259529_24633822_24634164_24633271_24633343_24635055_24635171',\n",
       " 'FAM86C1_ENSG00000158483_71502784_71502865_71504425_71504527_71500828_71500891_71507062_71507212',\n",
       " 'ZNF346_ENSG00000113761_176468778_176468871_176471389_176471534_176468126_176468230_176477703_176477937',\n",
       " 'BNIP1_ENSG00000113734_172578568_172578697_172573868_172573961_172581324_172581416',\n",
       " 'PAPLN_ENSG00000100767_73718725_73718849_73718371_73718544_73719356_73719483',\n",
       " 'ZNF696_ENSG00000185730_144377548_144377640_144375141_144375235_144377909_144377982',\n",
       " 'BRMS1_ENSG00000174744_66105713_66105753_66104803_66105278_66106191_66106256',\n",
       " 'HSF4_ENSG00000102878_67203181_67203251_67202938_67203004_67203538_67203844',\n",
       " 'EXPH5_ENSG00000110723_108398862_108398911_108388961_108389100_108409750_108409913',\n",
       " 'RAB1A_ENSG00000138069_65316072_65316204_65313988_65315824_65325104_65325200',\n",
       " 'MFF_ENSG00000168958_228207460_228207535_228205007_228205096_228220392_228220477',\n",
       " 'NPRL2_ENSG00000114388_50387095_50387259_50386816_50386921_50387361_50387453',\n",
       " 'COL4A3_ENSG00000169031_228175491_228175664_228173919_228174034_228176501_228176586',\n",
       " 'ACTR3B_ENSG00000133627_152497615_152497740_152480271_152480327_152498705_152498816',\n",
       " 'PEX11G_ENSG00000104883_7543199_7543262_7541760_7542322_7546918_7547097',\n",
       " 'C18orf8_ENSG00000141452_21086933_21087018_21084334_21084411_21087948_21088005',\n",
       " 'FUBP1_ENSG00000162613_78413137_78413237_78412166_78412261_78414839_78414952',\n",
       " 'SEC16A_ENSG00000148396_139351895_139352036_139350504_139350618_139353585_139353691',\n",
       " 'CTD-2583A14.10_ENSG00000268750_58367474_58367601_58331098_58331313_58369943_58370181',\n",
       " 'FBXL13_ENSG00000161040_102495223_102495307_102473286_102473421_102517913_102518040',\n",
       " 'CCDC163P_ENSG00000236624_45961089_45961217_45961089_45961145_45962227_45962295',\n",
       " 'GALC_ENSG00000054983_88411896_88412077_88407738_88407902_88414071_88414222',\n",
       " 'MTFP1_ENSG00000242114_30823226_30823390_30822704_30822832_30824448_30824938',\n",
       " 'PPP1R16A_ENSG00000160972_145725478_145725774_145725478_145725582_145725649_145725774',\n",
       " 'BAP1_ENSG00000163930_52440268_52440392_52440268_52440338_52440844_52440923',\n",
       " 'POLR2J4_ENSG00000214783_44027684_44027846_44026199_44026276_44053191_44053278',\n",
       " 'CRTC1_ENSG00000105662_18885709_18885796_18882251_18882356_18886450_18886631',\n",
       " 'GOLGA1_ENSG00000136935_127670655_127670751_127662419_127662826_127674179_127674198',\n",
       " 'EP400NL_ENSG00000185684_132575393_132575488_132569024_132569861_132588541_132588715',\n",
       " 'CLN3_ENSG00000188603_28498776_28498862_28495326_28495439_28500610_28500707',\n",
       " 'TMEM241_ENSG00000134490_20964953_20965031_20979529_20979611_20957609_20957635_21010594_21010641',\n",
       " 'NPRL2_ENSG00000114388_50386816_50386925_50386816_50386921_50387361_50387453',\n",
       " 'CBWD3_ENSG00000196873_70881135_70881222_70879383_70879430_70883849_70883894',\n",
       " 'PSMD6_ENSG00000163636_64008318_64008477_64008414_64008477_64007993_64008199',\n",
       " 'NCS1_ENSG00000107130_132982003_132982082_132980110_132980249_132984928_132985017',\n",
       " 'APITD1_ENSG00000175279_10494713_10494747_10490158_10490625_10500403_10500470',\n",
       " 'APOPT1_ENSG00000256053_104053610_104053701_104040443_104040507_104056517_104056571',\n",
       " 'SSBP2_ENSG00000145687_80946085_80946158_80910874_80911376_81046799_81046835',\n",
       " 'TFDP1_ENSG00000198176_114277494_114277601_114265310_114265377_114285937_114286059',\n",
       " 'ESRP1_ENSG00000104413_95690430_95690599_95680176_95680478_95718152_95719694',\n",
       " 'RP11-752G15.6_ENSG00000250988_83425481_83425537_83423380_83423536_83425655_83425691',\n",
       " 'TOM1_ENSG00000100284_35729167_35729490_35728973_35729007_35730320_35730441',\n",
       " 'NDUFAF1_ENSG00000137806_41686302_41686556_41680645_41680720_41687056_41687242',\n",
       " 'PGAP2_ENSG00000148985_3832479_3832654_3829523_3829545_3844138_3844223',\n",
       " 'SARNP_ENSG00000205323_56194637_56194684_56194345_56194413_56197412_56197512',\n",
       " 'SPEN_ENSG00000065526_16242622_16242774_16237595_16237796_16245420_16245546',\n",
       " 'SSR3_ENSG00000114850_156266654_156266792_156271443_156271570_156262096_156262228_156272745_156272938',\n",
       " 'RAD51B_ENSG00000182185_68331504_68331602_68301796_68301913_68331719_68331856',\n",
       " 'ANAPC4_ENSG00000053900_25381995_25382101_25381995_25382067_25384882_25385015',\n",
       " 'BRCA2_ENSG00000139618_32918694_32918790_32910401_32915333_32920963_32921033',\n",
       " 'DNAJC10_ENSG00000077232_183604271_183604436_183600975_183601113_183605025_183605111',\n",
       " 'TTC33_ENSG00000113638_40730363_40730445_40716246_40716600_40746899_40747121',\n",
       " 'ANKRD36_ENSG00000135976_97830133_97830206_97830019_97830048_97833313_97833342',\n",
       " 'ASAP1_ENSG00000153317_131373915_131374017_131370262_131370389_131414130_131414161',\n",
       " 'DDX11_ENSG00000013573_31241977_31243028_31241977_31242085_31242819_31243028',\n",
       " 'DPY19L4_ENSG00000156162_95750596_95750687_95738558_95738669_95751640_95751762',\n",
       " 'GSDMD_ENSG00000104518_144638103_144638200_144637228_144637366_144640547_144640621',\n",
       " 'FUBP1_ENSG00000162613_78413137_78413232_78412214_78412261_78414839_78414985',\n",
       " 'NDUFB6_ENSG00000165264_32558907_32558952_32552996_32553942_32570957_32571050',\n",
       " 'UNC5CL_ENSG00000124602_41000622_41000885_40999774_40999876_41001619_41001920',\n",
       " 'UBAP2L_ENSG00000143569_154241837_154241888_154241232_154241430_154242675_154243040',\n",
       " 'IKZF3_ENSG00000161405_37948925_37949186_37985639_37985741_37947668_37947836_37988350_37988404',\n",
       " 'POLL_ENSG00000166169_103344634_103344676_103343264_103343438_103345072_103345235',\n",
       " 'REPIN1_ENSG00000214022_150066759_150066957_150065878_150066030_150067848_150067973',\n",
       " 'RNF181_ENSG00000168894_85824226_85824704_85824567_85824704_85823641_85823772',\n",
       " 'CWC27_ENSG00000153015_64272961_64273065_64267529_64267639_64313985_64314418',\n",
       " 'RNF181_ENSG00000168894_85824226_85824301_85823641_85823772_85824567_85824704',\n",
       " 'TTC33_ENSG00000113638_40728446_40728578_40714576_40716600_40746899_40747121',\n",
       " 'RAP1GAP_ENSG00000076864_21934705_21934843_21932558_21932690_21935342_21935429',\n",
       " 'OCIAD1_ENSG00000109180_48833243_48833415_48833243_48833266_48834636_48834699',\n",
       " 'ITGB4_ENSG00000132470_73751781_73751931_73750656_73750896_73752509_73752698',\n",
       " 'OGFOD3_ENSG00000181396_80373281_80373503_80369330_80369406_80376287_80376513',\n",
       " 'SLC16A5_ENSG00000170190_73096101_73096911_73094132_73094276_73100064_73100275',\n",
       " 'POLK_ENSG00000122008_74889790_74889874_74886168_74886265_74892046_74893003',\n",
       " 'RPS3_ENSG00000149273_75112683_75112769_75112683_75112749_75113423_75113490',\n",
       " 'ECHDC2_ENSG00000121310_53370705_53372283_53370317_53370505_53373539_53373626',\n",
       " 'CDC16_ENSG00000130177_115004464_115004503_115002273_115002371_115004824_115004965',\n",
       " 'RPL22L1_ENSG00000163584_170585801_170585990_170585801_170585923_170586086_170586176',\n",
       " 'ARIH2_ENSG00000177479_48964894_48965246_48960180_48960244_48982568_48982614',\n",
       " 'GAPVD1_ENSG00000165219_128094204_128094339_128094204_128094296_128094788_128094908',\n",
       " 'MCTP1_ENSG00000175471_94259666_94259726_94248510_94248681_94267657_94267696',\n",
       " 'PARN_ENSG00000140694_14711446_14711507_14704500_14704666_14720962_14720993',\n",
       " 'GAPVD1_ENSG00000165219_128031214_128031263_128024088_128024238_128061168_128061385',\n",
       " 'DNHD1_ENSG00000179532_6591238_6591626_6591238_6591330_6591476_6591626',\n",
       " 'BCL2L13_ENSG00000099968_18165979_18166087_18171751_18171908_18138427_18138598_18209442_18213388',\n",
       " 'YY1AP1_ENSG00000163374_155646338_155646537_155650206_155650247_155644800_155644887_155657861_155657992',\n",
       " 'TBCK_ENSG00000145348_107173022_107173164_107173139_107173164_107171574_107171635',\n",
       " 'SPINT1_ENSG00000166145_41146257_41146284_41145908_41146079_41146594_41146720',\n",
       " 'BTBD3_ENSG00000132640_11898425_11898659_11871464_11871602_11898981_11899111',\n",
       " 'ATG16L2_ENSG00000168010_72536346_72536452_72536393_72536452_72535778_72535887',\n",
       " 'GNPDA1_ENSG00000113552_141391852_141391942_141391476_141391606_141392233_141392538',\n",
       " 'SPTLC1_ENSG00000090054_94841715_94841848_94830247_94830380_94842297_94842370',\n",
       " 'HSD11B1L_ENSG00000167733_5684829_5685130_5684829_5684916_5684999_5685130',\n",
       " 'TAX1BP1_ENSG00000106052_27855967_27856013_27835734_27835838_27867356_27867439',\n",
       " 'TMEM161B-AS1_ENSG00000247828_87578573_87578683_87577858_87577923_87583252_87583473',\n",
       " 'WASH2P_ENSG00000146556_114353644_114353780_114352945_114353092_114353957_114354159',\n",
       " 'MTFP1_ENSG00000242114_30823108_30823390_30822704_30822832_30824448_30824630',\n",
       " 'WNK2_ENSG00000165238_96061351_96061543_96060134_96060349_96079801_96079913',\n",
       " 'GALNT7_ENSG00000109586_174169130_174169591_174089903_174090112_174213258_174213425',\n",
       " 'SLC26A11_ENSG00000181045_78215569_78215620_78211320_78211393_78218994_78219044',\n",
       " 'PPP1R3E_ENSG00000235194_23767501_23768126_23767501_23767756_23768609_23768750',\n",
       " 'ERMAP_ENSG00000164010_43301402_43301435_43301402_43301431_43302828_43302861',\n",
       " 'CNTD2_ENSG00000105219_40730394_40730550_40729294_40729453_40730628_40730718',\n",
       " 'NCOA1_ENSG00000084676_24990947_24991004_24980841_24981025_24991089_24991186',\n",
       " 'MOCOS_ENSG00000075643_33800017_33800180_33767481_33767644_33828884_33828963',\n",
       " 'TM9SF4_ENSG00000101337_30729299_30729468_30729343_30729468_30724679_30724800',\n",
       " 'PFDN2_ENSG00000143256_161071837_161071961_161070345_161070649_161087741_161087901',\n",
       " 'THTPA_ENSG00000259431_24025951_24026248_24025479_24025552_24027903_24028068',\n",
       " 'MAPK3_ENSG00000102882_30128474_30128606_30127956_30128324_30128990_30129105',\n",
       " 'ZFC3H1_ENSG00000133858_72008613_72008718_72008314_72008480_72008985_72009096',\n",
       " 'QSER1_ENSG00000060749_32949507_32949669_32948254_32948815_32953288_32953383',\n",
       " 'NPRL2_ENSG00000114388_50386816_50387259_50386816_50386921_50387361_50387453',\n",
       " 'SS18_ENSG00000141380_23662326_23662492_23660268_23660387_23667464_23667541',\n",
       " 'RAB1A_ENSG00000138069_65318116_65318212_65313988_65315824_65325104_65325200',\n",
       " 'SMPD4_ENSG00000136699_130917085_130917207_130914823_130914969_130918758_130918845',\n",
       " 'SPATS2_ENSG00000123352_49765010_49765073_49760638_49760702_49854552_49854820',\n",
       " 'HSD17B7P2_ENSG00000099251_38650207_38650250_38647239_38647443_38651167_38651266',\n",
       " 'ARFGAP3_ENSG00000242247_43227554_43227642_43230247_43230331_43222945_43223005_43236949_43237022',\n",
       " 'EPB41_ENSG00000159023_29323726_29323831_29313942_29314417_29338376_29338419',\n",
       " 'SYT7_ENSG00000011347_61309682_61310051_61300460_61300596_61314648_61314780',\n",
       " 'PPIP5K1_ENSG00000168781_43876555_43876819_43876555_43876730_43882369_43882399',\n",
       " 'CTD-2410N18.4_ENSG00000273345_133647982_133648071_133644264_133644418_133655048_133655188',\n",
       " 'UNC119B_ENSG00000175970_121149392_121149548_121148319_121148521_121151076_121151190',\n",
       " 'IRF9_ENSG00000213928_24633271_24634164_24633271_24633343_24635055_24635171',\n",
       " 'SEPT6_ENSG00000125354_118759297_118759342_118750910_118754014_118763280_118763471',\n",
       " 'ZNF544_ENSG00000198131_58741759_58741863_58741759_58741828_58755330_58755422',\n",
       " 'CROCCP2_ENSG00000215908_16946339_16946533_16944750_16945598_16952269_16952500',\n",
       " 'CNTD2_ENSG00000105219_40730394_40730550_40730628_40730718_40729294_40729453_40732281_40732597',\n",
       " 'CSNK1D_ENSG00000141551_80210309_80210480_80210309_80210403_80210891_80211120',\n",
       " 'GIGYF2_ENSG00000204120_233599126_233599196_233568133_233568199_233599864_233599948',\n",
       " 'SGSM2_ENSG00000141258_2276624_2276807_2276246_2276375_2278785_2279169',\n",
       " 'MED23_ENSG00000112282_131913527_131914311_131914145_131914311_131912452_131912667',\n",
       " 'EPB41_ENSG00000159023_29319841_29320054_29313942_29314417_29338376_29338419',\n",
       " 'PADI1_ENSG00000142623_17563808_17563953_17559313_17559465_17565110_17565204',\n",
       " 'OSBPL1A_ENSG00000141447_21948330_21948336_21921510_21921622_21957376_21957499',\n",
       " 'RNF181_ENSG00000168894_85823979_85824054_85823641_85823772_85824567_85824727',\n",
       " 'KCTD13_ENSG00000174943_29934510_29934680_29923280_29923370_29937110_29937156',\n",
       " 'OCIAD1_ENSG00000109180_48835417_48835498_48833075_48833266_48844652_48844706',\n",
       " 'RPS3_ENSG00000149273_75112683_75113490_75112683_75112749_75113423_75113490',\n",
       " 'REV3L_ENSG00000009413_111632271_111632462_111634554_111634692_111631055_111631302_111636469_111636584',\n",
       " 'NCOA3_ENSG00000124151_46211926_46212005_46130600_46130763_46250972_46251074',\n",
       " 'ZNF346_ENSG00000113761_176477703_176477937_176477751_176477937_176471389_176471534',\n",
       " 'FNTA_ENSG00000168522_42914234_42914320_42911295_42911689_42924697_42924726',\n",
       " 'NOL8_ENSG00000198000_95085517_95085633_95083949_95084028_95085722_95085785',\n",
       " 'LETMD1_ENSG00000050426_51449926_51450028_51442083_51442261_51450132_51450211',\n",
       " 'MTOR_ENSG00000198793_11307681_11307790_11303170_11303357_11307875_11308151',\n",
       " 'DHRS4L2_ENSG00000187630_24470592_24470726_24459390_24459568_24473545_24473601',\n",
       " 'BCAS3_ENSG00000141376_59465978_59466069_59457866_59457932_59469337_59469634',\n",
       " 'MDM4_ENSG00000198625_204506557_204506625_204501318_204501374_204507336_204507436',\n",
       " 'COX11_ENSG00000166260_53031021_53031120_53029266_53029473_53038479_53038626',\n",
       " 'PRPF39_ENSG00000185246_45579096_45579196_45578818_45578983_45579296_45579379',\n",
       " 'EHF_ENSG00000135373_34673283_34673352_34673088_34673157_34678454_34678517',\n",
       " 'FGD3_ENSG00000127084_95782112_95782143_95780417_95780497_95782598_95782706',\n",
       " 'LCMT1_ENSG00000205629_25186257_25186355_25182034_25182126_25189321_25189344',\n",
       " 'TIMMDC1_ENSG00000113845_119232487_119232566_119222800_119222868_119236051_119236162',\n",
       " 'SYCP2L_ENSG00000153157_10942691_10942762_10935290_10935420_10942909_10942979',\n",
       " 'TSC22D2_ENSG00000196428_150140835_150140907_150126121_150129095_150174862_150174914',\n",
       " 'RBM3_ENSG00000102317_48434202_48434471_48434309_48434471_48433948_48434055',\n",
       " 'MTDH_ENSG00000147649_98711981_98712080_98703179_98703416_98718853_98718978',\n",
       " 'TATDN1_ENSG00000147687_125516080_125516192_125507712_125507783_125516511_125516588',\n",
       " 'GRAMD1C_ENSG00000178075_113619877_113619993_113616316_113616660_113622986_113623119',\n",
       " 'POLL_ENSG00000166169_103344358_103344676_103342846_103343438_103345072_103345235',\n",
       " 'BCL2L13_ENSG00000099968_18185008_18185152_18171839_18171908_18209442_18210428',\n",
       " 'FAM208B_ENSG00000108021_5754785_5754881_5726800_5727138_5759621_5759713',\n",
       " 'RP11-349A22.5_ENSG00000257621_58740696_58740853_58740696_58740728_58758352_58758425',\n",
       " 'ZNF638_ENSG00000075292_71575556_71577401_71558893_71558995_71582848_71582910',\n",
       " 'TFEC_ENSG00000105967_115614223_115614310_115596732_115596847_115624315_115624567',\n",
       " 'IDS_ENSG00000241489_148579637_148579838_148577876_148578047_148582479_148582568',\n",
       " 'BAP1_ENSG00000163930_52440268_52440923_52440268_52440338_52440844_52440923',\n",
       " 'TSACC_ENSG00000163467_156314370_156314499_156309424_156309582_156316558_156316781',\n",
       " 'POLB_ENSG00000070501_42226788_42226853_42218812_42218883_42229080_42229270']"
      ]
     },
     "execution_count": 25,
     "metadata": {},
     "output_type": "execute_result"
    }
   ],
   "source": [
    "get_overlaps([rpl22_a_ko1_rmats,rpl22_a_ko2_rmats])"
   ]
  },
  {
   "cell_type": "code",
   "execution_count": 26,
   "metadata": {
    "ExecuteTime": {
     "end_time": "2020-05-01T00:16:43.901189Z",
     "start_time": "2020-05-01T00:16:43.884785Z"
    }
   },
   "outputs": [
    {
     "data": {
      "text/plain": [
       "['PEX6_ENSG00000124587_42936611_42936723_42936027_42936236_42937405_42937539',\n",
       " 'MOK_ENSG00000080823_102718092_102718141_102717148_102717327_102718253_102718332',\n",
       " 'GPR133_ENSG00000111452_131484927_131484987_131478701_131478812_131488730_131488841',\n",
       " 'STYXL1_ENSG00000127952_75651168_75651310_75657959_75658021_75634576_75634722_75677129_75677301',\n",
       " 'ECHDC2_ENSG00000121310_53363108_53363156_53361655_53362269_53370317_53370505',\n",
       " 'CDC34_ENSG00000099804_541342_541585_541345_541585_537012_537147',\n",
       " 'PCID2_ENSG00000126226_113852504_113852578_113852504_113852575_113854740_113854830',\n",
       " 'KIAA1191_ENSG00000122203_175779624_175779751_175775252_175775359_175782573_175782752',\n",
       " 'DPY19L4_ENSG00000156162_95746857_95746982_95738558_95738669_95751640_95751762',\n",
       " 'CENPK_ENSG00000123219_64857289_64857391_64857323_64857391_64838628_64838675',\n",
       " 'PLSCR4_ENSG00000114698_145968343_145968424_145939851_145939879_145968746_145968912',\n",
       " 'GSDMD_ENSG00000104518_144640531_144640621_144640547_144640621_144637228_144637366',\n",
       " 'TOP3B_ENSG00000100038_22330352_22330559_22330011_22330179_22336810_22336846',\n",
       " 'TMEM241_ENSG00000134490_21001330_21001408_20979529_20979611_21010594_21010641',\n",
       " 'BCL2L13_ENSG00000099968_18178906_18178976_18171751_18171908_18209442_18211465',\n",
       " 'RPGRIP1L_ENSG00000103494_53679536_53679915_53675196_53675387_53682875_53683027',\n",
       " 'YY1AP1_ENSG00000163374_155646338_155646537_155649199_155649303_155640110_155640255_155657861_155657992',\n",
       " 'SLC25A36_ENSG00000114120_140685841_140685878_140681968_140682069_140689768_140689835',\n",
       " 'DHRS4L2_ENSG00000187630_24464240_24464342_24459390_24459568_24470071_24470142',\n",
       " 'TMUB2_ENSG00000168591_42266302_42266667_42266302_42266459_42267868_42269079',\n",
       " 'GPR56_ENSG00000205336_57675498_57675620_57675502_57675620_57653957_57654048',\n",
       " 'CEP78_ENSG00000148019_80861584_80861698_80858377_80858552_80863206_80863271',\n",
       " 'TTLL4_ENSG00000135912_219591991_219592070_219575571_219575760_219602301_219603886',\n",
       " 'ZNF559_ENSG00000188321_9452370_9454521_9453976_9454521_9451777_9451860',\n",
       " 'RTFDC1_ENSG00000022277_55091990_55092045_55088370_55088484_55092161_55092257',\n",
       " 'DCXR_ENSG00000169738_79994066_79994639_79994066_79994324_79994596_79994639',\n",
       " 'RNF181_ENSG00000168894_85824075_85824301_85823641_85823772_85824567_85824736',\n",
       " 'DHRS4L2_ENSG00000187630_24464240_24464342_24459390_24459568_24473545_24473601',\n",
       " 'TMEM161B-AS1_ENSG00000247828_87578531_87578683_87577858_87577923_87583252_87583474',\n",
       " 'SCYL3_ENSG00000000457_169833509_169833649_169831753_169831938_169836036_169836114',\n",
       " 'METTL2B_ENSG00000165055_128133857_128133997_128120700_128120750_128138089_128138196',\n",
       " 'ESPL1_ENSG00000135476_53668600_53668794_53666504_53666641_53670403_53670643',\n",
       " 'EP400NL_ENSG00000185684_132575939_132576061_132575393_132575488_132588541_132588715',\n",
       " 'MTIF3_ENSG00000122033_28011252_28011410_28009775_28010030_28014125_28014586',\n",
       " 'TSPAN9_ENSG00000011105_3315445_3315584_3310342_3310422_3387586_3387778',\n",
       " 'MDM4_ENSG00000198625_204506586_204506625_204501318_204501374_204507336_204507436',\n",
       " 'ATXN1_ENSG00000124788_16753463_16753578_16658006_16658132_16761528_16761691',\n",
       " 'TMEM241_ENSG00000134490_20979529_20979611_21001330_21001408_20957609_20957635_21010594_21010641',\n",
       " 'PDP2_ENSG00000172840_66916917_66917005_66914421_66914543_66918133_66918497',\n",
       " 'FAM135A_ENSG00000082269_71233669_71233824_71232215_71232289_71234045_71234302',\n",
       " 'C17orf75_ENSG00000108666_30666831_30666981_30666831_30666943_30668222_30668303',\n",
       " 'DENND6B_ENSG00000205593_50754453_50754904_50754453_50754516_50754798_50754904',\n",
       " 'RAD17_ENSG00000152942_68666861_68666998_68665638_68665760_68669656_68669914',\n",
       " 'RP11-468E2.4_ENSG00000259529_24633822_24634164_24633271_24633343_24635055_24635171',\n",
       " 'FAM86C1_ENSG00000158483_71502784_71502865_71504425_71504527_71500828_71500891_71507062_71507212',\n",
       " 'ZNF346_ENSG00000113761_176468778_176468871_176471389_176471534_176468126_176468230_176477703_176477937',\n",
       " 'BNIP1_ENSG00000113734_172578568_172578697_172573868_172573961_172581324_172581416',\n",
       " 'PAPLN_ENSG00000100767_73718725_73718849_73718371_73718544_73719356_73719483',\n",
       " 'ZNF696_ENSG00000185730_144377548_144377640_144375141_144375235_144377909_144377982',\n",
       " 'BRMS1_ENSG00000174744_66105713_66105753_66104803_66105278_66106191_66106256',\n",
       " 'HSF4_ENSG00000102878_67203181_67203251_67202938_67203004_67203538_67203844',\n",
       " 'EXPH5_ENSG00000110723_108398862_108398911_108388961_108389100_108409750_108409913',\n",
       " 'RAB1A_ENSG00000138069_65316072_65316204_65313988_65315824_65325104_65325200',\n",
       " 'MFF_ENSG00000168958_228207460_228207535_228205007_228205096_228220392_228220477',\n",
       " 'NPRL2_ENSG00000114388_50387095_50387259_50386816_50386921_50387361_50387453',\n",
       " 'COL4A3_ENSG00000169031_228175491_228175664_228173919_228174034_228176501_228176586',\n",
       " 'ACTR3B_ENSG00000133627_152497615_152497740_152480271_152480327_152498705_152498816',\n",
       " 'PEX11G_ENSG00000104883_7543199_7543262_7541760_7542322_7546918_7547097',\n",
       " 'C18orf8_ENSG00000141452_21086933_21087018_21084334_21084411_21087948_21088005',\n",
       " 'FUBP1_ENSG00000162613_78413137_78413237_78412166_78412261_78414839_78414952',\n",
       " 'SEC16A_ENSG00000148396_139351895_139352036_139350504_139350618_139353585_139353691',\n",
       " 'CTD-2583A14.10_ENSG00000268750_58367474_58367601_58331098_58331313_58369943_58370181',\n",
       " 'FBXL13_ENSG00000161040_102495223_102495307_102473286_102473421_102517913_102518040',\n",
       " 'CCDC163P_ENSG00000236624_45961089_45961217_45961089_45961145_45962227_45962295',\n",
       " 'GALC_ENSG00000054983_88411896_88412077_88407738_88407902_88414071_88414222',\n",
       " 'MTFP1_ENSG00000242114_30823226_30823390_30822704_30822832_30824448_30824938',\n",
       " 'PPP1R16A_ENSG00000160972_145725478_145725774_145725478_145725582_145725649_145725774',\n",
       " 'BAP1_ENSG00000163930_52440268_52440392_52440268_52440338_52440844_52440923',\n",
       " 'POLR2J4_ENSG00000214783_44027684_44027846_44026199_44026276_44053191_44053278',\n",
       " 'CRTC1_ENSG00000105662_18885709_18885796_18882251_18882356_18886450_18886631',\n",
       " 'GOLGA1_ENSG00000136935_127670655_127670751_127662419_127662826_127674179_127674198',\n",
       " 'EP400NL_ENSG00000185684_132575393_132575488_132569024_132569861_132588541_132588715',\n",
       " 'CLN3_ENSG00000188603_28498776_28498862_28495326_28495439_28500610_28500707',\n",
       " 'TMEM241_ENSG00000134490_20964953_20965031_20979529_20979611_20957609_20957635_21010594_21010641',\n",
       " 'NPRL2_ENSG00000114388_50386816_50386925_50386816_50386921_50387361_50387453',\n",
       " 'CBWD3_ENSG00000196873_70881135_70881222_70879383_70879430_70883849_70883894',\n",
       " 'PSMD6_ENSG00000163636_64008318_64008477_64008414_64008477_64007993_64008199',\n",
       " 'NCS1_ENSG00000107130_132982003_132982082_132980110_132980249_132984928_132985017',\n",
       " 'APITD1_ENSG00000175279_10494713_10494747_10490158_10490625_10500403_10500470',\n",
       " 'APOPT1_ENSG00000256053_104053610_104053701_104040443_104040507_104056517_104056571',\n",
       " 'SSBP2_ENSG00000145687_80946085_80946158_80910874_80911376_81046799_81046835',\n",
       " 'TFDP1_ENSG00000198176_114277494_114277601_114265310_114265377_114285937_114286059',\n",
       " 'ESRP1_ENSG00000104413_95690430_95690599_95680176_95680478_95718152_95719694',\n",
       " 'RP11-752G15.6_ENSG00000250988_83425481_83425537_83423380_83423536_83425655_83425691',\n",
       " 'TOM1_ENSG00000100284_35729167_35729490_35728973_35729007_35730320_35730441',\n",
       " 'NDUFAF1_ENSG00000137806_41686302_41686556_41680645_41680720_41687056_41687242',\n",
       " 'PGAP2_ENSG00000148985_3832479_3832654_3829523_3829545_3844138_3844223',\n",
       " 'SARNP_ENSG00000205323_56194637_56194684_56194345_56194413_56197412_56197512',\n",
       " 'SPEN_ENSG00000065526_16242622_16242774_16237595_16237796_16245420_16245546',\n",
       " 'SSR3_ENSG00000114850_156266654_156266792_156271443_156271570_156262096_156262228_156272745_156272938',\n",
       " 'RAD51B_ENSG00000182185_68331504_68331602_68301796_68301913_68331719_68331856',\n",
       " 'ANAPC4_ENSG00000053900_25381995_25382101_25381995_25382067_25384882_25385015',\n",
       " 'BRCA2_ENSG00000139618_32918694_32918790_32910401_32915333_32920963_32921033',\n",
       " 'DNAJC10_ENSG00000077232_183604271_183604436_183600975_183601113_183605025_183605111',\n",
       " 'TTC33_ENSG00000113638_40730363_40730445_40716246_40716600_40746899_40747121',\n",
       " 'ANKRD36_ENSG00000135976_97830133_97830206_97830019_97830048_97833313_97833342',\n",
       " 'ASAP1_ENSG00000153317_131373915_131374017_131370262_131370389_131414130_131414161',\n",
       " 'DDX11_ENSG00000013573_31241977_31243028_31241977_31242085_31242819_31243028',\n",
       " 'DPY19L4_ENSG00000156162_95750596_95750687_95738558_95738669_95751640_95751762',\n",
       " 'GSDMD_ENSG00000104518_144638103_144638200_144637228_144637366_144640547_144640621',\n",
       " 'FUBP1_ENSG00000162613_78413137_78413232_78412214_78412261_78414839_78414985',\n",
       " 'NDUFB6_ENSG00000165264_32558907_32558952_32552996_32553942_32570957_32571050',\n",
       " 'UNC5CL_ENSG00000124602_41000622_41000885_40999774_40999876_41001619_41001920',\n",
       " 'UBAP2L_ENSG00000143569_154241837_154241888_154241232_154241430_154242675_154243040',\n",
       " 'IKZF3_ENSG00000161405_37948925_37949186_37985639_37985741_37947668_37947836_37988350_37988404',\n",
       " 'POLL_ENSG00000166169_103344634_103344676_103343264_103343438_103345072_103345235',\n",
       " 'REPIN1_ENSG00000214022_150066759_150066957_150065878_150066030_150067848_150067973',\n",
       " 'RNF181_ENSG00000168894_85824226_85824704_85824567_85824704_85823641_85823772',\n",
       " 'CWC27_ENSG00000153015_64272961_64273065_64267529_64267639_64313985_64314418',\n",
       " 'RNF181_ENSG00000168894_85824226_85824301_85823641_85823772_85824567_85824704',\n",
       " 'TTC33_ENSG00000113638_40728446_40728578_40714576_40716600_40746899_40747121',\n",
       " 'RAP1GAP_ENSG00000076864_21934705_21934843_21932558_21932690_21935342_21935429',\n",
       " 'OCIAD1_ENSG00000109180_48833243_48833415_48833243_48833266_48834636_48834699',\n",
       " 'ITGB4_ENSG00000132470_73751781_73751931_73750656_73750896_73752509_73752698',\n",
       " 'OGFOD3_ENSG00000181396_80373281_80373503_80369330_80369406_80376287_80376513',\n",
       " 'SLC16A5_ENSG00000170190_73096101_73096911_73094132_73094276_73100064_73100275',\n",
       " 'POLK_ENSG00000122008_74889790_74889874_74886168_74886265_74892046_74893003',\n",
       " 'RPS3_ENSG00000149273_75112683_75112769_75112683_75112749_75113423_75113490',\n",
       " 'ECHDC2_ENSG00000121310_53370705_53372283_53370317_53370505_53373539_53373626',\n",
       " 'CDC16_ENSG00000130177_115004464_115004503_115002273_115002371_115004824_115004965',\n",
       " 'RPL22L1_ENSG00000163584_170585801_170585990_170585801_170585923_170586086_170586176',\n",
       " 'ARIH2_ENSG00000177479_48964894_48965246_48960180_48960244_48982568_48982614',\n",
       " 'GAPVD1_ENSG00000165219_128094204_128094339_128094204_128094296_128094788_128094908',\n",
       " 'MCTP1_ENSG00000175471_94259666_94259726_94248510_94248681_94267657_94267696',\n",
       " 'PARN_ENSG00000140694_14711446_14711507_14704500_14704666_14720962_14720993',\n",
       " 'GAPVD1_ENSG00000165219_128031214_128031263_128024088_128024238_128061168_128061385',\n",
       " 'DNHD1_ENSG00000179532_6591238_6591626_6591238_6591330_6591476_6591626',\n",
       " 'BCL2L13_ENSG00000099968_18165979_18166087_18171751_18171908_18138427_18138598_18209442_18213388',\n",
       " 'YY1AP1_ENSG00000163374_155646338_155646537_155650206_155650247_155644800_155644887_155657861_155657992',\n",
       " 'TBCK_ENSG00000145348_107173022_107173164_107173139_107173164_107171574_107171635',\n",
       " 'SPINT1_ENSG00000166145_41146257_41146284_41145908_41146079_41146594_41146720',\n",
       " 'BTBD3_ENSG00000132640_11898425_11898659_11871464_11871602_11898981_11899111',\n",
       " 'ATG16L2_ENSG00000168010_72536346_72536452_72536393_72536452_72535778_72535887',\n",
       " 'GNPDA1_ENSG00000113552_141391852_141391942_141391476_141391606_141392233_141392538',\n",
       " 'SPTLC1_ENSG00000090054_94841715_94841848_94830247_94830380_94842297_94842370',\n",
       " 'HSD11B1L_ENSG00000167733_5684829_5685130_5684829_5684916_5684999_5685130',\n",
       " 'TAX1BP1_ENSG00000106052_27855967_27856013_27835734_27835838_27867356_27867439',\n",
       " 'TMEM161B-AS1_ENSG00000247828_87578573_87578683_87577858_87577923_87583252_87583473',\n",
       " 'WASH2P_ENSG00000146556_114353644_114353780_114352945_114353092_114353957_114354159',\n",
       " 'MTFP1_ENSG00000242114_30823108_30823390_30822704_30822832_30824448_30824630',\n",
       " 'WNK2_ENSG00000165238_96061351_96061543_96060134_96060349_96079801_96079913',\n",
       " 'GALNT7_ENSG00000109586_174169130_174169591_174089903_174090112_174213258_174213425',\n",
       " 'SLC26A11_ENSG00000181045_78215569_78215620_78211320_78211393_78218994_78219044',\n",
       " 'PPP1R3E_ENSG00000235194_23767501_23768126_23767501_23767756_23768609_23768750',\n",
       " 'ERMAP_ENSG00000164010_43301402_43301435_43301402_43301431_43302828_43302861',\n",
       " 'CNTD2_ENSG00000105219_40730394_40730550_40729294_40729453_40730628_40730718',\n",
       " 'NCOA1_ENSG00000084676_24990947_24991004_24980841_24981025_24991089_24991186',\n",
       " 'MOCOS_ENSG00000075643_33800017_33800180_33767481_33767644_33828884_33828963',\n",
       " 'TM9SF4_ENSG00000101337_30729299_30729468_30729343_30729468_30724679_30724800',\n",
       " 'PFDN2_ENSG00000143256_161071837_161071961_161070345_161070649_161087741_161087901',\n",
       " 'THTPA_ENSG00000259431_24025951_24026248_24025479_24025552_24027903_24028068',\n",
       " 'MAPK3_ENSG00000102882_30128474_30128606_30127956_30128324_30128990_30129105',\n",
       " 'ZFC3H1_ENSG00000133858_72008613_72008718_72008314_72008480_72008985_72009096',\n",
       " 'QSER1_ENSG00000060749_32949507_32949669_32948254_32948815_32953288_32953383',\n",
       " 'NPRL2_ENSG00000114388_50386816_50387259_50386816_50386921_50387361_50387453',\n",
       " 'SS18_ENSG00000141380_23662326_23662492_23660268_23660387_23667464_23667541',\n",
       " 'RAB1A_ENSG00000138069_65318116_65318212_65313988_65315824_65325104_65325200',\n",
       " 'SMPD4_ENSG00000136699_130917085_130917207_130914823_130914969_130918758_130918845',\n",
       " 'SPATS2_ENSG00000123352_49765010_49765073_49760638_49760702_49854552_49854820',\n",
       " 'HSD17B7P2_ENSG00000099251_38650207_38650250_38647239_38647443_38651167_38651266',\n",
       " 'ARFGAP3_ENSG00000242247_43227554_43227642_43230247_43230331_43222945_43223005_43236949_43237022',\n",
       " 'EPB41_ENSG00000159023_29323726_29323831_29313942_29314417_29338376_29338419',\n",
       " 'SYT7_ENSG00000011347_61309682_61310051_61300460_61300596_61314648_61314780',\n",
       " 'PPIP5K1_ENSG00000168781_43876555_43876819_43876555_43876730_43882369_43882399',\n",
       " 'CTD-2410N18.4_ENSG00000273345_133647982_133648071_133644264_133644418_133655048_133655188',\n",
       " 'UNC119B_ENSG00000175970_121149392_121149548_121148319_121148521_121151076_121151190',\n",
       " 'IRF9_ENSG00000213928_24633271_24634164_24633271_24633343_24635055_24635171',\n",
       " 'SEPT6_ENSG00000125354_118759297_118759342_118750910_118754014_118763280_118763471',\n",
       " 'ZNF544_ENSG00000198131_58741759_58741863_58741759_58741828_58755330_58755422',\n",
       " 'CROCCP2_ENSG00000215908_16946339_16946533_16944750_16945598_16952269_16952500',\n",
       " 'CNTD2_ENSG00000105219_40730394_40730550_40730628_40730718_40729294_40729453_40732281_40732597',\n",
       " 'CSNK1D_ENSG00000141551_80210309_80210480_80210309_80210403_80210891_80211120',\n",
       " 'GIGYF2_ENSG00000204120_233599126_233599196_233568133_233568199_233599864_233599948',\n",
       " 'SGSM2_ENSG00000141258_2276624_2276807_2276246_2276375_2278785_2279169',\n",
       " 'MED23_ENSG00000112282_131913527_131914311_131914145_131914311_131912452_131912667',\n",
       " 'EPB41_ENSG00000159023_29319841_29320054_29313942_29314417_29338376_29338419',\n",
       " 'PADI1_ENSG00000142623_17563808_17563953_17559313_17559465_17565110_17565204',\n",
       " 'OSBPL1A_ENSG00000141447_21948330_21948336_21921510_21921622_21957376_21957499',\n",
       " 'RNF181_ENSG00000168894_85823979_85824054_85823641_85823772_85824567_85824727',\n",
       " 'KCTD13_ENSG00000174943_29934510_29934680_29923280_29923370_29937110_29937156',\n",
       " 'OCIAD1_ENSG00000109180_48835417_48835498_48833075_48833266_48844652_48844706',\n",
       " 'RPS3_ENSG00000149273_75112683_75113490_75112683_75112749_75113423_75113490',\n",
       " 'REV3L_ENSG00000009413_111632271_111632462_111634554_111634692_111631055_111631302_111636469_111636584',\n",
       " 'NCOA3_ENSG00000124151_46211926_46212005_46130600_46130763_46250972_46251074',\n",
       " 'ZNF346_ENSG00000113761_176477703_176477937_176477751_176477937_176471389_176471534',\n",
       " 'FNTA_ENSG00000168522_42914234_42914320_42911295_42911689_42924697_42924726',\n",
       " 'NOL8_ENSG00000198000_95085517_95085633_95083949_95084028_95085722_95085785',\n",
       " 'LETMD1_ENSG00000050426_51449926_51450028_51442083_51442261_51450132_51450211',\n",
       " 'MTOR_ENSG00000198793_11307681_11307790_11303170_11303357_11307875_11308151',\n",
       " 'DHRS4L2_ENSG00000187630_24470592_24470726_24459390_24459568_24473545_24473601',\n",
       " 'BCAS3_ENSG00000141376_59465978_59466069_59457866_59457932_59469337_59469634',\n",
       " 'MDM4_ENSG00000198625_204506557_204506625_204501318_204501374_204507336_204507436',\n",
       " 'COX11_ENSG00000166260_53031021_53031120_53029266_53029473_53038479_53038626',\n",
       " 'PRPF39_ENSG00000185246_45579096_45579196_45578818_45578983_45579296_45579379',\n",
       " 'EHF_ENSG00000135373_34673283_34673352_34673088_34673157_34678454_34678517',\n",
       " 'FGD3_ENSG00000127084_95782112_95782143_95780417_95780497_95782598_95782706',\n",
       " 'LCMT1_ENSG00000205629_25186257_25186355_25182034_25182126_25189321_25189344',\n",
       " 'TIMMDC1_ENSG00000113845_119232487_119232566_119222800_119222868_119236051_119236162',\n",
       " 'SYCP2L_ENSG00000153157_10942691_10942762_10935290_10935420_10942909_10942979',\n",
       " 'TSC22D2_ENSG00000196428_150140835_150140907_150126121_150129095_150174862_150174914',\n",
       " 'RBM3_ENSG00000102317_48434202_48434471_48434309_48434471_48433948_48434055',\n",
       " 'MTDH_ENSG00000147649_98711981_98712080_98703179_98703416_98718853_98718978',\n",
       " 'TATDN1_ENSG00000147687_125516080_125516192_125507712_125507783_125516511_125516588',\n",
       " 'GRAMD1C_ENSG00000178075_113619877_113619993_113616316_113616660_113622986_113623119',\n",
       " 'POLL_ENSG00000166169_103344358_103344676_103342846_103343438_103345072_103345235',\n",
       " 'BCL2L13_ENSG00000099968_18185008_18185152_18171839_18171908_18209442_18210428',\n",
       " 'FAM208B_ENSG00000108021_5754785_5754881_5726800_5727138_5759621_5759713',\n",
       " 'RP11-349A22.5_ENSG00000257621_58740696_58740853_58740696_58740728_58758352_58758425',\n",
       " 'ZNF638_ENSG00000075292_71575556_71577401_71558893_71558995_71582848_71582910',\n",
       " 'TFEC_ENSG00000105967_115614223_115614310_115596732_115596847_115624315_115624567',\n",
       " 'IDS_ENSG00000241489_148579637_148579838_148577876_148578047_148582479_148582568',\n",
       " 'BAP1_ENSG00000163930_52440268_52440923_52440268_52440338_52440844_52440923',\n",
       " 'TSACC_ENSG00000163467_156314370_156314499_156309424_156309582_156316558_156316781',\n",
       " 'POLB_ENSG00000070501_42226788_42226853_42218812_42218883_42229080_42229270']"
      ]
     },
     "execution_count": 26,
     "metadata": {},
     "output_type": "execute_result"
    }
   ],
   "source": [
    "get_overlaps([rpl22_a_ko1_rmats,rpl22_a_ko2_rmats])"
   ]
  },
  {
   "cell_type": "code",
   "execution_count": 27,
   "metadata": {
    "ExecuteTime": {
     "end_time": "2020-05-01T00:16:45.657360Z",
     "start_time": "2020-05-01T00:16:45.643871Z"
    }
   },
   "outputs": [
    {
     "data": {
      "text/plain": [
       "['MRPL48_ENSG00000175581_73528867_73528992_73534057_73534115_73516071_73516124_73536752_73536841',\n",
       " 'NUDT16L1_ENSG00000168101_4743978_4744309_4743978_4744239_4744958_4745860',\n",
       " 'MUC19_ENSG00000205592_40925830_40925884_40925010_40925064_40926030_40926084',\n",
       " 'TTC7A_ENSG00000068724_47144322_47144416_47143295_47143716_47177501_47177665',\n",
       " 'NCOA7_ENSG00000111912_126117825_126117943_126112085_126112213_126136436_126136550',\n",
       " 'GAS5_ENSG00000234741_173833621_173833842_173833394_173833442_173834608_173834685',\n",
       " 'RCOR3_ENSG00000117625_211486061_211486177_211462519_211462738_211486765_211487014',\n",
       " 'FAM53B_ENSG00000189319_126395204_126395456_126384726_126384781_126432581_126432619',\n",
       " 'OGFOD2_ENSG00000111325_123461130_123461314_123461200_123461314_123460799_123460948',\n",
       " 'ANAPC11_ENSG00000141552_79852342_79852500_79849598_79849709_79857795_79857980',\n",
       " 'CARS_ENSG00000110619_3023199_3023830_3023199_3023404_3023770_3023830',\n",
       " 'ZC3H11A_ENSG00000058673_203764781_203764922_203764781_203764903_203786053_203786252',\n",
       " 'RP11-445H22.4_ENSG00000244558_43345265_43345434_43323532_43324148_43367460_43367537',\n",
       " 'DEPDC5_ENSG00000100150_32272142_32272251_32269959_32270391_32275510_32275682',\n",
       " 'GAS5_ENSG00000234741_173833621_173833644_173833039_173833442_173834608_173834685',\n",
       " 'PKM_ENSG00000067225_72495362_72495529_72492814_72492996_72499068_72499221',\n",
       " 'RP4-717I23.3_ENSG00000223745_93791325_93791452_93776725_93777165_93804913_93804931',\n",
       " 'AUP1_ENSG00000115307_74755543_74755616_74755066_74755133_74756258_74756409',\n",
       " 'FOXP3_ENSG00000049768_49111889_49111970_49110377_49110528_49112175_49112263',\n",
       " 'CATSPER2_ENSG00000166762_43939247_43939316_43931619_43932694_43939491_43939665',\n",
       " 'DEDD2_ENSG00000160570_42720831_42721197_42713851_42713992_42724225_42724275',\n",
       " 'MDM4_ENSG00000198625_204506586_204506625_204501318_204501374_204507336_204507436',\n",
       " 'GAS5_ENSG00000234741_173833394_173834420_173833394_173833442_173834608_173834685',\n",
       " 'RPL37A_ENSG00000197756_217384054_217384113_217364671_217364754_217393992_217394174',\n",
       " 'RCOR3_ENSG00000117625_211477424_211477482_211462519_211462738_211486765_211487933',\n",
       " 'ZMYM4_ENSG00000146463_35761527_35761589_35734633_35734686_35824525_35824830',\n",
       " 'MIPOL1_ENSG00000151338_37688757_37688896_37667292_37667309_37736142_37736374',\n",
       " 'PARK2_ENSG00000185345_162683556_162683797_162864341_162864505_162622162_162622284_163148693_163148700',\n",
       " 'VPS13B_ENSG00000132549_100515063_100515178_100513914_100514086_100523331_100523740',\n",
       " 'NSD1_ENSG00000165671_176675181_176675325_176673678_176673797_176678730_176678854',\n",
       " 'BOC_ENSG00000144857_113004218_113004412_113004285_113004412_113003628_113003705',\n",
       " 'GAS5_ENSG00000234741_173835898_173835934_173833768_173834685_173836128_173836168',\n",
       " 'RABGAP1_ENSG00000011454_125707610_125707711_125703311_125703367_125719289_125719488',\n",
       " 'ZBED3-AS1_ENSG00000250802_76396060_76396216_76394479_76394572_76414144_76414346',\n",
       " 'RAD51AP1_ENSG00000111247_4655474_4655584_4652928_4653077_4657257_4657341',\n",
       " 'NEK7_ENSG00000151414_198190128_198190240_198126123_198126406_198201682_198201767',\n",
       " 'FNIP2_ENSG00000052795_159754952_159755042_159754679_159754780_159756556_159756628',\n",
       " 'PDE9A_ENSG00000160191_44151879_44152059_44119077_44119121_44152179_44152234',\n",
       " 'HAUS1_ENSG00000152240_43702432_43702556_43685159_43685334_43704787_43704859',\n",
       " 'RASSF8_ENSG00000123094_26147969_26148063_26111961_26112081_26208168_26208379',\n",
       " 'TRIM45_ENSG00000134253_117660655_117661389_117660709_117661389_117659237_117659367',\n",
       " 'EWSR1_ENSG00000182944_29694722_29695270_29694722_29694885_29695184_29695270',\n",
       " 'HAGHL_ENSG00000103253_778793_779715_778793_778895_779287_779715',\n",
       " 'ATG7_ENSG00000197548_11322679_11322788_11314033_11314116_11323878_11324124',\n",
       " 'GOLGA8A_ENSG00000175265_34727583_34727672_34699724_34699936_34729598_34729667',\n",
       " 'CDKN3_ENSG00000100526_54878201_54878424_54875462_54875507_54882616_54882648',\n",
       " 'SETD9_ENSG00000155542_56206868_56206938_56205913_56206221_56208837_56208961',\n",
       " 'FAM179B_ENSG00000198718_45478115_45478348_45475210_45475470_45481177_45481278',\n",
       " 'AGPAT6_ENSG00000158669_41455810_41456823_41455810_41455995_41456752_41456823',\n",
       " 'PHF20L1_ENSG00000129292_133811328_133811418_133811340_133811418_133811017_133811106',\n",
       " 'INPP5B_ENSG00000204084_38397344_38397725_38397584_38397725_38357029_38357126',\n",
       " 'BTRC_ENSG00000166167_103221720_103221815_103190101_103190209_103239124_103239214',\n",
       " 'PSAT1_ENSG00000135069_80942966_80943104_80932591_80932720_80943896_80945009',\n",
       " 'UBAP2L_ENSG00000143569_154241837_154241888_154241232_154241430_154242675_154243040',\n",
       " 'NREP_ENSG00000134986_111091466_111091623_111071126_111071204_111092832_111092876',\n",
       " 'APEX1_ENSG00000100823_20923736_20923932_20923736_20923862_20924826_20925019',\n",
       " 'BAI2_ENSG00000121753_32208438_32208603_32207653_32207818_32210248_32210332',\n",
       " 'ZNF841_ENSG00000197608_52580210_52580337_52567718_52570863_52588039_52588131',\n",
       " 'GAS5_ENSG00000234741_173834366_173834420_173833038_173833442_173834608_173834685',\n",
       " 'RLTPR_ENSG00000159753_67690703_67690784_67690326_67690548_67691141_67691219',\n",
       " 'RPL22L1_ENSG00000163584_170585801_170585990_170585801_170585923_170586086_170586176',\n",
       " 'MIPOL1_ENSG00000151338_37717033_37717112_37667214_37667309_37736142_37736374',\n",
       " 'RAD51D_ENSG00000185379_33445519_33445638_33434384_33434466_33446129_33446176',\n",
       " 'SERPINH1_ENSG00000149257_75274771_75274815_75273877_75273929_75277360_75277846',\n",
       " 'KLHL2P1_ENSG00000250412_120265312_120265419_120255483_120255608_120275264_120275386',\n",
       " 'TAF1C_ENSG00000103168_84218456_84218595_84217302_84217384_84220506_84220651',\n",
       " 'DNAJC4_ENSG00000110011_63999342_63999436_63997903_63998412_64001365_64001656',\n",
       " 'CSGALNACT2_ENSG00000169826_43659313_43659492_43655941_43656043_43671398_43671480',\n",
       " 'BTRC_ENSG00000166167_103221737_103221815_103190101_103190209_103239124_103239214',\n",
       " 'MBTPS1_ENSG00000140943_84144317_84144430_84143060_84143188_84150339_84150423',\n",
       " 'EIF4E_ENSG00000151247_99807604_99807697_99802048_99802293_99808229_99808343',\n",
       " 'ANKRD11_ENSG00000167522_89353070_89355078_89353070_89353521_89354935_89355078',\n",
       " 'BTBD10_ENSG00000148925_13484168_13484344_13443288_13443385_13484638_13484823',\n",
       " 'HERC2P3_ENSG00000180229_20671447_20671623_20688655_20688770_20668083_20668254_20710643_20710746',\n",
       " 'CDK11A_ENSG00000008128_1640917_1641079_1640956_1641079_1640476_1640572',\n",
       " 'TAF1C_ENSG00000103168_84218456_84218666_84217302_84217384_84220506_84220587',\n",
       " 'MTG1_ENSG00000148824_135215032_135215749_135215032_135215094_135215652_135215749',\n",
       " 'MRPL55_ENSG00000162910_228296137_228296209_228296141_228296209_228295935_228296019',\n",
       " 'BIVM_ENSG00000134897_103457656_103457740_103451398_103451871_103459495_103459750',\n",
       " 'EPG5_ENSG00000152223_43456200_43456307_43450531_43450707_43458340_43458413',\n",
       " 'BTBD10_ENSG00000148925_13484168_13484344_13466570_13466728_13484638_13484823',\n",
       " 'CCNI_ENSG00000118816_77977401_77977476_77976302_77976533_77987401_77987558',\n",
       " 'ZNF484_ENSG00000127081_95637296_95637341_95618473_95618600_95640171_95640290',\n",
       " 'ZBTB7C_ENSG00000184828_45691501_45691628_45567403_45567494_45711694_45711826',\n",
       " 'CSGALNACT2_ENSG00000169826_43662451_43662546_43655941_43656043_43671398_43671480',\n",
       " 'BBIP1_ENSG00000214413_112660783_112660880_112659995_112660284_112661295_112661370',\n",
       " 'MICAL2_ENSG00000133816_12159936_12160011_12159936_12160007_12183625_12183966',\n",
       " 'RSRC2_ENSG00000111011_122998313_122998421_122995655_122995735_122999651_122999774',\n",
       " 'POC1B_ENSG00000139323_89885712_89885892_89865944_89866052_89918896_89918981',\n",
       " 'FTH1_ENSG00000167996_61732458_61732987_61732458_61732584_61732840_61732987',\n",
       " 'PDE9A_ENSG00000160191_44151879_44152059_44152179_44152234_44119077_44119121_44153465_44153536',\n",
       " 'PMEL_ENSG00000185664_56359719_56359846_56355405_56355516_56360461_56360498',\n",
       " 'PTPN21_ENSG00000070778_88967126_88967215_88963546_88963634_88967624_88967712',\n",
       " 'TMEM241_ENSG00000134490_20979529_20979611_20964953_20965031_21017744_21017817',\n",
       " 'PHB2_ENSG00000215021_7079118_7079231_7079118_7079226_7079358_7079443',\n",
       " 'CEP290_ENSG00000198707_88508196_88508339_88505470_88505635_88508874_88508959',\n",
       " 'PVT1_ENSG00000249859_128808139_128808254_128806802_128806980_128867400_128867565',\n",
       " 'PTCD3_ENSG00000132300_86346666_86346737_86346043_86346167_86348601_86348714',\n",
       " 'SERAC1_ENSG00000122335_158569896_158569986_158566951_158567945_158579304_158579396',\n",
       " 'MDM4_ENSG00000198625_204506557_204506625_204501318_204501374_204507336_204507436',\n",
       " 'DAP3_ENSG00000132676_155695172_155695202_155691307_155691409_155695782_155695810',\n",
       " 'DCTN3_ENSG00000137100_34614706_34617968_34614706_34614765_34617881_34617968',\n",
       " 'HMGA1_ENSG00000137309_34204980_34205094_34204649_34204740_34208513_34208659',\n",
       " 'RP11-159G9.5_ENSG00000229729_88177958_88178161_88162264_88162346_88178836_88178976',\n",
       " 'RP11-452F19.3_ENSG00000228106_223010264_223010726_223010560_223010726_223008460_223008557',\n",
       " 'HSD17B4_ENSG00000133835_118866960_118867099_118865588_118865675_118872117_118872245',\n",
       " 'TMEM241_ENSG00000134490_21010594_21010641_20964953_20965031_21017744_21017817',\n",
       " 'TPST2_ENSG00000128294_26940569_26940641_26936754_26937684_26986016_26986089',\n",
       " 'LARP4_ENSG00000161813_50806187_50806236_50796457_50796596_50821544_50821692',\n",
       " 'CHEK2_ENSG00000183765_29126407_29126536_29126443_29126536_29121230_29121355']"
      ]
     },
     "execution_count": 27,
     "metadata": {},
     "output_type": "execute_result"
    }
   ],
   "source": [
    "get_overlaps([rpl22_b_ko1_rmats,rpl22_b_ko2_rmats])"
   ]
  },
  {
   "cell_type": "code",
   "execution_count": 29,
   "metadata": {
    "ExecuteTime": {
     "end_time": "2020-05-01T00:16:50.977166Z",
     "start_time": "2020-05-01T00:16:50.954872Z"
    }
   },
   "outputs": [
    {
     "data": {
      "text/plain": [
       "['MDM4_ENSG00000198625_204506586_204506625_204501318_204501374_204507336_204507436',\n",
       " 'UBAP2L_ENSG00000143569_154241837_154241888_154241232_154241430_154242675_154243040',\n",
       " 'RPL22L1_ENSG00000163584_170585801_170585990_170585801_170585923_170586086_170586176',\n",
       " 'MDM4_ENSG00000198625_204506557_204506625_204501318_204501374_204507336_204507436']"
      ]
     },
     "execution_count": 29,
     "metadata": {},
     "output_type": "execute_result"
    }
   ],
   "source": [
    "get_overlaps([rpl22_a_ko1_rmats,rpl22_a_ko2_rmats,rpl22_b_ko1_rmats,rpl22_b_ko2_rmats])"
   ]
  },
  {
   "cell_type": "code",
   "execution_count": null,
   "metadata": {},
   "outputs": [],
   "source": [
    "get_overlaps([rpl22_a_ko1_rmats,rpl22_a_ko2_rmats,rpl22_b_ko1_rmats,rpl22_b_ko2_rmats])"
   ]
  },
  {
   "cell_type": "markdown",
   "metadata": {},
   "source": [
    "## Between RPL22L1 oe MXE and others"
   ]
  },
  {
   "cell_type": "code",
   "execution_count": 58,
   "metadata": {
    "ExecuteTime": {
     "end_time": "2020-05-01T00:24:49.640789Z",
     "start_time": "2020-05-01T00:24:49.533875Z"
    }
   },
   "outputs": [
    {
     "name": "stdout",
     "output_type": "stream",
     "text": [
      "rpl22l1_oe_mxe_genes 996\n"
     ]
    }
   ],
   "source": [
    "rpl22l1_oe_rmats_mxe = rpl22l1_oe_rmats[rpl22l1_oe_rmats[\"splice_type\"]==\"MXE\"]\n",
    "\n",
    "rpl22_oe_rmats_se = rpl22_oe_rmats[rpl22_oe_rmats[\"splice_type\"]==\"SE\"]\n",
    "rpl22l1_kd1_rmats_se = rpl22l1_kd1_rmats[rpl22l1_kd1_rmats[\"splice_type\"]==\"SE\"]\n",
    "rpl22l1_kd2_rmats_se = rpl22l1_kd2_rmats[rpl22l1_kd2_rmats[\"splice_type\"]==\"SE\"]\n",
    "rpl22_a_ko1_rmats_se = rpl22_a_ko1_rmats[rpl22_a_ko1_rmats[\"splice_type\"]==\"SE\"]\n",
    "rpl22_a_ko2_rmats_se = rpl22_a_ko2_rmats[rpl22_a_ko2_rmats[\"splice_type\"]==\"SE\"]\n",
    "rpl22_b_ko1_rmats_se = rpl22_b_ko1_rmats[rpl22_b_ko1_rmats[\"splice_type\"]==\"SE\"]\n",
    "rpl22_b_ko2_rmats_se = rpl22_b_ko2_rmats[rpl22_b_ko2_rmats[\"splice_type\"]==\"SE\"]\n",
    "\n",
    "rpl22l1_oe_mxe_genes = get_overlaps([rpl22l1_oe_rmats_mxe],entity=\"gene\")\n",
    "\n",
    "rpl22_oe_se_genes = get_overlaps([rpl22_oe_rmats_se],entity=\"gene\")\n",
    "rpl22l1_kd1_se_genes = get_overlaps([rpl22l1_kd1_rmats_se],entity=\"gene\")\n",
    "rpl22l1_kd2_se_genes = get_overlaps([rpl22l1_kd2_rmats_se],entity=\"gene\")\n",
    "rpl22_a_ko1_se_genes = get_overlaps([rpl22_a_ko1_rmats_se],entity=\"gene\")\n",
    "rpl22_a_ko2_se_genes = get_overlaps([rpl22_a_ko2_rmats_se],entity=\"gene\")\n",
    "rpl22_b_ko1_se_genes = get_overlaps([rpl22_b_ko1_rmats_se],entity=\"gene\")\n",
    "rpl22_b_ko2_se_genes = get_overlaps([rpl22_b_ko2_rmats_se],entity=\"gene\")\n",
    "\n",
    "\n",
    "print(\"rpl22l1_oe_mxe_genes\",len(rpl22l1_oe_mxe_genes))"
   ]
  },
  {
   "cell_type": "code",
   "execution_count": 66,
   "metadata": {
    "ExecuteTime": {
     "end_time": "2020-05-01T02:50:39.101846Z",
     "start_time": "2020-05-01T02:50:39.098615Z"
    }
   },
   "outputs": [],
   "source": [
    "others = set.union(rpl22_oe_se_genes,\n",
    "                   rpl22l1_kd1_se_genes,\n",
    "                   rpl22l1_kd2_se_genes,\n",
    "                   rpl22_a_ko1_se_genes,\n",
    "                   rpl22_a_ko2_se_genes,\n",
    "                   rpl22_b_ko1_se_genes,\n",
    "                   rpl22_b_ko2_se_genes\n",
    "                  )"
   ]
  },
  {
   "cell_type": "code",
   "execution_count": 65,
   "metadata": {
    "ExecuteTime": {
     "end_time": "2020-05-01T02:50:34.920705Z",
     "start_time": "2020-05-01T02:50:34.916651Z"
    }
   },
   "outputs": [
    {
     "data": {
      "text/plain": [
       "0"
      ]
     },
     "execution_count": 65,
     "metadata": {},
     "output_type": "execute_result"
    }
   ],
   "source": [
    "len(others)"
   ]
  },
  {
   "cell_type": "code",
   "execution_count": 63,
   "metadata": {
    "ExecuteTime": {
     "end_time": "2020-05-01T00:25:12.496639Z",
     "start_time": "2020-05-01T00:25:12.492741Z"
    }
   },
   "outputs": [
    {
     "data": {
      "text/plain": [
       "273"
      ]
     },
     "execution_count": 63,
     "metadata": {},
     "output_type": "execute_result"
    }
   ],
   "source": [
    "len(rpl22l1_oe_mxe_genes&others)"
   ]
  },
  {
   "cell_type": "markdown",
   "metadata": {},
   "source": [
    "## Between RPL22L1 oe and RPL22L1 shRNAs"
   ]
  },
  {
   "cell_type": "code",
   "execution_count": 67,
   "metadata": {
    "ExecuteTime": {
     "end_time": "2020-05-01T02:52:38.103016Z",
     "start_time": "2020-05-01T02:52:38.088788Z"
    }
   },
   "outputs": [
    {
     "data": {
      "text/plain": [
       "{'ASPH_ENSG00000198363_62556503_62556560_62555944_62555992_62557158_62557191',\n",
       " 'ATXN2_ENSG00000204842_111891480_111891649_111890017_111890644_111893832_111894060',\n",
       " 'DERL2_ENSG00000072849_5383706_5383779_5383373_5383464_5384420_5384462',\n",
       " 'DERL2_ENSG00000072849_5383706_5383863_5383373_5383464_5384420_5384462',\n",
       " 'EEF1D_ENSG00000104529_144674816_144675112_144671999_144672251_144679517_144679585',\n",
       " 'FN1_ENSG00000115414_216236631_216237098_216236631_216236738_216238044_216238134',\n",
       " 'FN1_ENSG00000115414_216236831_216237098_216236631_216236738_216238044_216238134',\n",
       " 'H2AFY_ENSG00000113648_134686512_134686603_134688635_134688735_134681657_134681747_134696186_134696297',\n",
       " 'MYO5A_ENSG00000197535_52635313_52635394_52632392_52632591_52638557_52638658',\n",
       " 'RPS24_ENSG00000138326_79799958_79799983_79796951_79797062_79800372_79800471',\n",
       " 'RPS24_ENSG00000138326_79799961_79799983_79796951_79797062_79800372_79800428',\n",
       " 'SCRIB_ENSG00000180900_144873835_144873910_144873558_144873610_144874045_144874083',\n",
       " 'SMPD4_ENSG00000136699_130918758_130918845_130914823_130914969_130921946_130922018',\n",
       " 'USMG5_ENSG00000173915_105155502_105155789_105152127_105152223_105156165_105156198'}"
      ]
     },
     "execution_count": 67,
     "metadata": {},
     "output_type": "execute_result"
    }
   ],
   "source": [
    "get_overlaps([rpl22l1_oe_rmats,rpl22l1_kd1_rmats, rpl22l1_kd2_rmats])"
   ]
  },
  {
   "cell_type": "markdown",
   "metadata": {},
   "source": [
    "## Between RPL22 oe and RPL22 sgRNAs"
   ]
  },
  {
   "cell_type": "code",
   "execution_count": 72,
   "metadata": {
    "ExecuteTime": {
     "end_time": "2020-05-01T02:54:16.331108Z",
     "start_time": "2020-05-01T02:54:16.319665Z"
    }
   },
   "outputs": [
    {
     "data": {
      "text/plain": [
       "{'GTF2H1_ENSG00000110768_18347493_18347700_18345782_18345843_18354606_18354730',\n",
       " 'MAPK3_ENSG00000102882_30128474_30128606_30127956_30128324_30128990_30129105',\n",
       " 'MDM4_ENSG00000198625_204506557_204506625_204501318_204501374_204507336_204507436',\n",
       " 'MDM4_ENSG00000198625_204506586_204506625_204501318_204501374_204507336_204507436',\n",
       " 'RPL22L1_ENSG00000163584_170585801_170585990_170585801_170585923_170586086_170586176',\n",
       " 'UBAP2L_ENSG00000143569_154241837_154241888_154241232_154241430_154242675_154243040'}"
      ]
     },
     "execution_count": 72,
     "metadata": {},
     "output_type": "execute_result"
    }
   ],
   "source": [
    "get_overlaps([rpl22_oe_rmats,rpl22_a_ko1_rmats])"
   ]
  },
  {
   "cell_type": "code",
   "execution_count": 73,
   "metadata": {
    "ExecuteTime": {
     "end_time": "2020-05-01T02:54:27.400832Z",
     "start_time": "2020-05-01T02:54:27.389126Z"
    }
   },
   "outputs": [
    {
     "data": {
      "text/plain": [
       "{'MAGI1_ENSG00000151276_65361419_65361623_65361419_65361620_65364935_65365229',\n",
       " 'MAPK3_ENSG00000102882_30128457_30128606_30128214_30128324_30128990_30129105',\n",
       " 'MAPK3_ENSG00000102882_30128474_30128606_30127956_30128324_30128990_30129105',\n",
       " 'MDM4_ENSG00000198625_204506557_204506625_204501318_204501374_204507336_204507436',\n",
       " 'MDM4_ENSG00000198625_204506586_204506625_204501318_204501374_204507336_204507436',\n",
       " 'RPL22L1_ENSG00000163584_170585801_170585990_170585801_170585923_170586086_170586176',\n",
       " 'UBAP2L_ENSG00000143569_154241837_154241888_154241232_154241430_154242675_154243040',\n",
       " 'ZNF692_ENSG00000171163_249151432_249151696_249151432_249151635_249152026_249152058'}"
      ]
     },
     "execution_count": 73,
     "metadata": {},
     "output_type": "execute_result"
    }
   ],
   "source": [
    "get_overlaps([rpl22_oe_rmats,rpl22_a_ko2_rmats])"
   ]
  },
  {
   "cell_type": "code",
   "execution_count": 74,
   "metadata": {
    "ExecuteTime": {
     "end_time": "2020-05-01T02:54:30.551903Z",
     "start_time": "2020-05-01T02:54:30.540874Z"
    }
   },
   "outputs": [
    {
     "data": {
      "text/plain": [
       "{'MAPK3_ENSG00000102882_30128457_30128606_30128214_30128324_30128990_30129105',\n",
       " 'MAPK3_ENSG00000102882_30128474_30128606_30127956_30128324_30128990_30129105',\n",
       " 'MDM4_ENSG00000198625_204506557_204506625_204501318_204501374_204507336_204507436',\n",
       " 'MDM4_ENSG00000198625_204506586_204506625_204501318_204501374_204507336_204507436',\n",
       " 'RPL22L1_ENSG00000163584_170585801_170585990_170585801_170585923_170586086_170586176',\n",
       " 'RYK_ENSG00000163785_133896784_133896917_133894773_133894883_133901845_133901877',\n",
       " 'UBAP2L_ENSG00000143569_154241837_154241888_154241232_154241430_154242675_154243040'}"
      ]
     },
     "execution_count": 74,
     "metadata": {},
     "output_type": "execute_result"
    }
   ],
   "source": [
    "get_overlaps([rpl22_oe_rmats,rpl22_b_ko1_rmats])"
   ]
  },
  {
   "cell_type": "code",
   "execution_count": 76,
   "metadata": {
    "ExecuteTime": {
     "end_time": "2020-05-01T02:54:39.792598Z",
     "start_time": "2020-05-01T02:54:39.781024Z"
    }
   },
   "outputs": [
    {
     "data": {
      "text/plain": [
       "{'LEF1_ENSG00000138795_108984778_108984819_108968700_108969907_108985491_108985540',\n",
       " 'MAGI1_ENSG00000151276_65361419_65361623_65361419_65361620_65364935_65365229',\n",
       " 'MDM4_ENSG00000198625_204506557_204506625_204501318_204501374_204507336_204507436',\n",
       " 'MDM4_ENSG00000198625_204506586_204506625_204501318_204501374_204507336_204507436',\n",
       " 'RPL22L1_ENSG00000163584_170585801_170585990_170585801_170585923_170586086_170586176',\n",
       " 'STRADA_ENSG00000266173_61805693_61805773_61805717_61805773_61803997_61804055',\n",
       " 'UBAP2L_ENSG00000143569_154241837_154241888_154241232_154241430_154242675_154243040',\n",
       " 'XPNPEP3_ENSG00000196236_41256681_41256797_41253100_41253249_41257621_41258774'}"
      ]
     },
     "execution_count": 76,
     "metadata": {},
     "output_type": "execute_result"
    }
   ],
   "source": [
    "get_overlaps([rpl22_oe_rmats,rpl22_b_ko2_rmats])"
   ]
  },
  {
   "cell_type": "code",
   "execution_count": 78,
   "metadata": {
    "ExecuteTime": {
     "end_time": "2020-05-01T02:55:15.444752Z",
     "start_time": "2020-05-01T02:55:15.419658Z"
    }
   },
   "outputs": [
    {
     "data": {
      "text/plain": [
       "{'MDM4_ENSG00000198625_204506557_204506625_204501318_204501374_204507336_204507436',\n",
       " 'MDM4_ENSG00000198625_204506586_204506625_204501318_204501374_204507336_204507436',\n",
       " 'RPL22L1_ENSG00000163584_170585801_170585990_170585801_170585923_170586086_170586176',\n",
       " 'UBAP2L_ENSG00000143569_154241837_154241888_154241232_154241430_154242675_154243040'}"
      ]
     },
     "execution_count": 78,
     "metadata": {},
     "output_type": "execute_result"
    }
   ],
   "source": [
    "get_overlaps([rpl22_oe_rmats,rpl22_a_ko1_rmats,rpl22_a_ko2_rmats,rpl22_b_ko1_rmats,rpl22_b_ko2_rmats])"
   ]
  },
  {
   "cell_type": "markdown",
   "metadata": {},
   "source": [
    "## Between RPL22L1 oe and RPL22 oe"
   ]
  },
  {
   "cell_type": "code",
   "execution_count": 79,
   "metadata": {
    "ExecuteTime": {
     "end_time": "2020-05-01T02:55:46.076134Z",
     "start_time": "2020-05-01T02:55:46.065436Z"
    }
   },
   "outputs": [
    {
     "data": {
      "text/plain": [
       "{'ANKRD10_ENSG00000088448_111552876_111553041_111552876_111553008_111558379_111558471',\n",
       " 'ATG10_ENSG00000152348_81548380_81548478_81474308_81474406_81571963_81572116',\n",
       " 'CARD8_ENSG00000105483_48726975_48727125_48724986_48725112_48733694_48733755',\n",
       " 'CELF1_ENSG00000149187_47521004_47521156_47510388_47510576_47522412_47522484',\n",
       " 'HPS5_ENSG00000110756_18343492_18343721_18343679_18343721_18333460_18333571',\n",
       " 'MAP4_ENSG00000047849_47950527_47953911_47918906_47919013_47956306_47956429',\n",
       " 'PGS1_ENSG00000087157_76410959_76411108_76411032_76411108_76399648_76400170',\n",
       " 'PMS2P3_ENSG00000127957_75141632_75141747_75140252_75140436_75141912_75141999',\n",
       " 'RPL22L1_ENSG00000163584_170585801_170585990_170585801_170585923_170586086_170586176',\n",
       " 'SCAI_ENSG00000173611_127828268_127828337_127818154_127818286_127904911_127904956',\n",
       " 'SEMA3F_ENSG00000001617_50212528_50212621_50211663_50211783_50214200_50214294',\n",
       " 'ZFX_ENSG00000005889_24170836_24170947_24167845_24167911_24190831_24190917'}"
      ]
     },
     "execution_count": 79,
     "metadata": {},
     "output_type": "execute_result"
    }
   ],
   "source": [
    "get_overlaps([rpl22_oe_rmats,rpl22l1_oe_rmats])"
   ]
  }
 ],
 "metadata": {
  "kernelspec": {
   "display_name": "Python 3",
   "language": "python",
   "name": "python3"
  },
  "language_info": {
   "codemirror_mode": {
    "name": "ipython",
    "version": 3
   },
   "file_extension": ".py",
   "mimetype": "text/x-python",
   "name": "python",
   "nbconvert_exporter": "python",
   "pygments_lexer": "ipython3",
   "version": "3.7.7"
  },
  "toc": {
   "base_numbering": 1,
   "nav_menu": {},
   "number_sections": true,
   "sideBar": true,
   "skip_h1_title": false,
   "title_cell": "Table of Contents",
   "title_sidebar": "Contents",
   "toc_cell": false,
   "toc_position": {},
   "toc_section_display": true,
   "toc_window_display": true
  }
 },
 "nbformat": 4,
 "nbformat_minor": 4
}
