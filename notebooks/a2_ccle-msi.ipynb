{
 "cells": [
  {
   "cell_type": "code",
   "execution_count": 1,
   "metadata": {
    "ExecuteTime": {
     "end_time": "2020-05-12T18:58:31.071459Z",
     "start_time": "2020-05-12T18:58:29.968723Z"
    }
   },
   "outputs": [],
   "source": [
    "import numpy as np\n",
    "import pandas as pd\n",
    "\n",
    "import matplotlib.pyplot as plt\n",
    "import matplotlib as mpl\n",
    "import seaborn as sns\n",
    "\n",
    "import sys\n",
    "import os\n",
    "\n",
    "sys.path.append(os.path.relpath(\"../../huygens\"))\n",
    "sys.path.append(os.path.relpath(\"../../galileo\"))\n",
    "\n",
    "import galileo as gal\n",
    "import huygens as huy"
   ]
  },
  {
   "cell_type": "markdown",
   "metadata": {},
   "source": [
    "# Load annotations"
   ]
  },
  {
   "cell_type": "code",
   "execution_count": 9,
   "metadata": {
    "ExecuteTime": {
     "end_time": "2020-05-09T13:02:53.241327Z",
     "start_time": "2020-05-09T13:02:47.086706Z"
    }
   },
   "outputs": [],
   "source": [
    "ccle_genex = pd.read_hdf(\n",
    "    \"../../data/processed/ccle/CCLE_RNAseq_rsem_genes_tpm_20180929.hdf\", key=\"ccle_genex\")\n",
    "ccle_transcripts = pd.read_hdf(\"../../data/processed/ccle/CCLE_RNAseq_rsem_transcripts_tpm_20180929.hdf\",\n",
    "                        key=\"ccle_transcripts\")\n",
    "exonusage = pd.read_hdf(\n",
    "    \"../../data/processed/ccle/CCLE_RNAseq_ExonUsageRatio_20180929.hdf\", key=\"exonusage\")\n",
    "\n",
    "ms_prot = pd.read_hdf(\"../../data/processed/ccle/ms_prot.h5\",key=\"ms_prot\")\n",
    "rppa = pd.read_hdf(\"../../data/processed/ccle/CCLE_RPPA_20181003.hdf\",key=\"rppa\")"
   ]
  },
  {
   "cell_type": "code",
   "execution_count": 32,
   "metadata": {
    "ExecuteTime": {
     "end_time": "2020-05-12T19:48:02.146361Z",
     "start_time": "2020-05-12T19:48:01.890329Z"
    }
   },
   "outputs": [],
   "source": [
    "msi = pd.read_excel(\"../data/external/ccle2/41586_2019_1186_MOESM10_ESM.xlsx\",sheet_name=\"MSI calls\")\n",
    "msi = msi.set_index(\"depMapID\")\n",
    "msi[\"GDSC_msi\"] = msi[\"GDSC.msi.call\"].replace({\"MSI-H\":True,\"MSS/MSI-L\":False})\n",
    "msi[\"CCLE_msi\"] = msi[\"CCLE.MSI.call\"].replace({\"inferred-MSI\":True,\"inferred-MSS\":False,\"undetermined\":np.nan})\n",
    "\n",
    "msi = msi.dropna(subset=[\"GDSC_msi\",\"CCLE_msi\"],how=\"all\")\n",
    "\n",
    "msi[\"MSI\"] = msi[\"GDSC_msi\"] | msi[\"CCLE_msi\"]\n",
    "name_map = dict(zip(msi[\"CCLE_ID\"],msi.index))\n",
    "name_map[\"HS294T_SKIN\"] = \"ACH-000014\""
   ]
  },
  {
   "cell_type": "markdown",
   "metadata": {},
   "source": [
    "# Compute differences"
   ]
  },
  {
   "cell_type": "code",
   "execution_count": null,
   "metadata": {
    "ExecuteTime": {
     "end_time": "2020-05-07T17:54:41.424788Z",
     "start_time": "2020-05-07T17:53:20.862980Z"
    }
   },
   "outputs": [],
   "source": [
    "msi_prot_diffs = gal.mat_mwus_naive(ms_prot,msi[\"MSI\"],pbar=True)\n",
    "msi_prot_diffs.to_csv(\"../data/intermediate/msi_prot_diffs.txt\",sep=\"\\t\")\n",
    "\n",
    "msi_exon_diffs = gal.mat_mwus_naive(exonusage,msi[\"MSI\"],pbar=True,effect=\"mean\")\n",
    "msi_exon_diffs.to_csv(\"../data/intermediate/msi_exon_diffs.txt\",sep=\"\\t\")"
   ]
  },
  {
   "cell_type": "markdown",
   "metadata": {},
   "source": [
    "# Mutations"
   ]
  },
  {
   "cell_type": "code",
   "execution_count": 2,
   "metadata": {
    "ExecuteTime": {
     "end_time": "2020-05-12T18:58:32.151641Z",
     "start_time": "2020-05-12T18:58:31.438440Z"
    }
   },
   "outputs": [],
   "source": [
    "msi_prot_diffs = pd.read_csv(\"../data/intermediate/msi_prot_diffs.txt\",sep=\"\\t\")\n",
    "msi_exon_diffs = pd.read_csv(\"../data/intermediate/msi_exon_diffs.txt\",sep=\"\\t\",index_col=0)"
   ]
  },
  {
   "cell_type": "markdown",
   "metadata": {},
   "source": [
    "## SRA info"
   ]
  },
  {
   "cell_type": "code",
   "execution_count": 33,
   "metadata": {
    "ExecuteTime": {
     "end_time": "2020-05-12T19:48:03.796278Z",
     "start_time": "2020-05-12T19:48:03.785848Z"
    }
   },
   "outputs": [],
   "source": [
    "ccle_wgs_sra = pd.read_csv(\"../data/raw/SRA_info/CCLE_WGS_accessions.txt\")\n",
    "ccle_wgs_sra[\"ach_id\"] = ccle_wgs_sra[\"Sample Name\"].apply(lambda x: name_map[x])"
   ]
  },
  {
   "cell_type": "markdown",
   "metadata": {},
   "source": [
    "## Gene intervals"
   ]
  },
  {
   "cell_type": "code",
   "execution_count": 15,
   "metadata": {
    "ExecuteTime": {
     "end_time": "2020-05-12T19:28:04.354866Z",
     "start_time": "2020-05-12T19:28:03.663944Z"
    }
   },
   "outputs": [],
   "source": [
    "g19_definitions = pd.read_hdf(\"../../data/processed/ccle/gencode.v19.genes.v7_model.patched_contigs.h5\",\n",
    "                       key=\"g19_definitions\")\n",
    "\n",
    "g19_genes = g19_definitions[g19_definitions[\"feature\"]==\"gene\"]\n",
    "\n",
    "g19_genes = g19_genes.set_index(\"gene_id\")"
   ]
  },
  {
   "cell_type": "code",
   "execution_count": 76,
   "metadata": {
    "ExecuteTime": {
     "end_time": "2020-05-12T20:19:12.181453Z",
     "start_time": "2020-05-12T20:19:12.120441Z"
    }
   },
   "outputs": [],
   "source": [
    "msi_exons = msi_exon_diffs.copy()[msi_exon_diffs[\"qval\"]>4]\n",
    "\n",
    "msi_exons[\"gene\"] = msi_exons.index.map(lambda x: x.split(\"_\")[-1])\n",
    "msi_exons[\"exon_chrom\"] = msi_exons.index.map(lambda x: x.split(\"_\")[-4])\n",
    "msi_exons[\"exon_start\"] = msi_exons.index.map(lambda x: x.split(\"_\")[-3])\n",
    "msi_exons[\"exon_end\"] = msi_exons.index.map(lambda x: x.split(\"_\")[-2])\n",
    "\n",
    "msi_exons[\"exon\"] = msi_exons[\"exon_chrom\"] + \"_\" + msi_exons[\"exon_start\"] + \"_\" + msi_exons[\"exon_end\"]\n",
    "\n",
    "msi_exons[\"exon_start\"] = msi_exons[\"exon_start\"].astype(int)\n",
    "msi_exons[\"exon_end\"] = msi_exons[\"exon_end\"].astype(int)\n",
    "\n",
    "msi_exons = msi_exons.drop_duplicates(subset=[\"exon\"])"
   ]
  },
  {
   "cell_type": "code",
   "execution_count": 84,
   "metadata": {
    "ExecuteTime": {
     "end_time": "2020-05-12T20:21:37.320321Z",
     "start_time": "2020-05-12T20:21:37.291084Z"
    }
   },
   "outputs": [],
   "source": [
    "def get_exon_slices(row,padding=1000):\n",
    "    if row[\"exon_start\"] < row[\"exon_end\"]:\n",
    "        return row[\"exon_chrom\"][3:]+\":\"+str(row[\"exon_start\"]-padding) + \"-\" + str(row[\"exon_end\"]+padding)\n",
    "    \n",
    "    elif row[\"exon_start\"] > row[\"exon_end\"]:\n",
    "        return row[\"exon_chrom\"][3:]+\":\"+str(row[\"exon_end\"]-padding) + \"-\" + str(row[\"exon_start\"]+padding)\n",
    "    \n",
    "exon_slices = msi_exons.apply(get_exon_slices,axis=1)"
   ]
  },
  {
   "cell_type": "code",
   "execution_count": 89,
   "metadata": {
    "ExecuteTime": {
     "end_time": "2020-05-12T20:50:03.441374Z",
     "start_time": "2020-05-12T20:50:03.428832Z"
    }
   },
   "outputs": [],
   "source": [
    "# msi_genes = g19_genes.loc[msi_genes]\n",
    "# msi_genes = msi_genes.sort_values(by=[\"seqname\", \"start\"])\n",
    "\n",
    "# msi_genes[\"filter_region\"] = msi_genes[\"seqname\"].astype(\n",
    "#     str) + \":\" + msi_genes[\"start\"].astype(str) + \"-\" + msi_genes[\"end\"].astype(str)\n",
    "\n",
    "regions_1 = \",\".join(exon_slices[:250])\n",
    "regions_2 = \",\".join(exon_slices[250:])\n",
    "\n",
    "with open(\"../scripts/7_fetch-msi-slices.sh\", \"w\") as f:\n",
    "    for sra_id, ach_id in zip(list(ccle_wgs_sra[\"Run\"]), list(ccle_wgs_sra[\"ach_id\"])):\n",
    "\n",
    "        aligned_arg = \"--aligned-region \" + regions_1 + \" \"\n",
    "        output_arg = \"--outfile ../data/raw/WGS_slices/\" + ach_id + \"_1.sam \"\n",
    "\n",
    "        f.write(\"sra-pileup \" + aligned_arg + output_arg + sra_id + \"\\n\")\n",
    "        \n",
    "        aligned_arg = \"--aligned-region \" + regions_2 + \" \"\n",
    "        output_arg = \"--outfile ../data/raw/WGS_slices/\" + ach_id + \"_2.sam \"\n",
    "\n",
    "        f.write(\"sra-pileup \" + aligned_arg + output_arg + sra_id + \"\\n\")"
   ]
  }
 ],
 "metadata": {
  "kernelspec": {
   "display_name": "Python 3",
   "language": "python",
   "name": "python3"
  },
  "language_info": {
   "codemirror_mode": {
    "name": "ipython",
    "version": 3
   },
   "file_extension": ".py",
   "mimetype": "text/x-python",
   "name": "python",
   "nbconvert_exporter": "python",
   "pygments_lexer": "ipython3",
   "version": "3.7.7"
  },
  "toc": {
   "base_numbering": 1,
   "nav_menu": {},
   "number_sections": true,
   "sideBar": true,
   "skip_h1_title": false,
   "title_cell": "Table of Contents",
   "title_sidebar": "Contents",
   "toc_cell": false,
   "toc_position": {},
   "toc_section_display": true,
   "toc_window_display": false
  }
 },
 "nbformat": 4,
 "nbformat_minor": 4
}
