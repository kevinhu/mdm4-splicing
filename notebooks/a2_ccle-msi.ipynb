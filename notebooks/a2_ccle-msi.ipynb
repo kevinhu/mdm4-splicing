{
 "cells": [
  {
   "cell_type": "code",
   "execution_count": 3,
   "metadata": {
    "ExecuteTime": {
     "end_time": "2020-05-14T17:11:27.147143Z",
     "start_time": "2020-05-14T17:11:25.956147Z"
    }
   },
   "outputs": [],
   "source": [
    "import numpy as np\n",
    "import pandas as pd\n",
    "\n",
    "import matplotlib.pyplot as plt\n",
    "import matplotlib as mpl\n",
    "import seaborn as sns\n",
    "\n",
    "import sys\n",
    "import os\n",
    "\n",
    "sys.path.append(os.path.relpath(\"../../huygens\"))\n",
    "sys.path.append(os.path.relpath(\"../../galileo\"))\n",
    "\n",
    "import galileo as gal\n",
    "import huygens as huy"
   ]
  },
  {
   "cell_type": "markdown",
   "metadata": {},
   "source": [
    "# Load annotations"
   ]
  },
  {
   "cell_type": "code",
   "execution_count": 9,
   "metadata": {
    "ExecuteTime": {
     "end_time": "2020-05-09T13:02:53.241327Z",
     "start_time": "2020-05-09T13:02:47.086706Z"
    }
   },
   "outputs": [],
   "source": [
    "ccle_genex = pd.read_hdf(\n",
    "    \"../../data/processed/ccle/CCLE_RNAseq_rsem_genes_tpm_20180929.hdf\", key=\"ccle_genex\")\n",
    "ccle_transcripts = pd.read_hdf(\"../../data/processed/ccle/CCLE_RNAseq_rsem_transcripts_tpm_20180929.hdf\",\n",
    "                        key=\"ccle_transcripts\")\n",
    "exonusage = pd.read_hdf(\n",
    "    \"../../data/processed/ccle/CCLE_RNAseq_ExonUsageRatio_20180929.hdf\", key=\"exonusage\")\n",
    "\n",
    "ms_prot = pd.read_hdf(\"../../data/processed/ccle/ms_prot.h5\",key=\"ms_prot\")\n",
    "rppa = pd.read_hdf(\"../../data/processed/ccle/CCLE_RPPA_20181003.hdf\",key=\"rppa\")"
   ]
  },
  {
   "cell_type": "code",
   "execution_count": 98,
   "metadata": {
    "ExecuteTime": {
     "end_time": "2020-05-14T22:23:23.242951Z",
     "start_time": "2020-05-14T22:23:22.878838Z"
    }
   },
   "outputs": [],
   "source": [
    "msi = pd.read_excel(\"../data/external/ccle2/41586_2019_1186_MOESM10_ESM.xlsx\",sheet_name=\"MSI calls\")\n",
    "msi = msi.set_index(\"depMapID\")\n",
    "msi[\"GDSC_msi\"] = msi[\"GDSC.msi.call\"].replace({\"MSI-H\":True,\"MSS/MSI-L\":False})\n",
    "msi[\"CCLE_msi\"] = msi[\"CCLE.MSI.call\"].replace({\"inferred-MSI\":True,\"inferred-MSS\":False,\"undetermined\":np.nan})\n",
    "\n",
    "msi = msi.dropna(subset=[\"GDSC_msi\",\"CCLE_msi\"],how=\"all\")\n",
    "\n",
    "msi[\"MSI\"] = msi[\"GDSC_msi\"] | msi[\"CCLE_msi\"]\n",
    "name_map = dict(zip(msi[\"CCLE_ID\"],msi.index))\n",
    "name_map[\"HS294T_SKIN\"] = \"ACH-000014\""
   ]
  },
  {
   "cell_type": "markdown",
   "metadata": {},
   "source": [
    "# Compute differences"
   ]
  },
  {
   "cell_type": "code",
   "execution_count": null,
   "metadata": {
    "ExecuteTime": {
     "end_time": "2020-05-07T17:54:41.424788Z",
     "start_time": "2020-05-07T17:53:20.862980Z"
    }
   },
   "outputs": [],
   "source": [
    "msi_prot_diffs = gal.mat_mwus_naive(ms_prot,msi[\"MSI\"],pbar=True)\n",
    "msi_prot_diffs.to_csv(\"../data/intermediate/msi_prot_diffs.txt\",sep=\"\\t\")\n",
    "\n",
    "msi_exon_diffs = gal.mat_mwus_naive(exonusage,msi[\"MSI\"],pbar=True,effect=\"mean\")\n",
    "msi_exon_diffs.to_csv(\"../data/intermediate/msi_exon_diffs.txt\",sep=\"\\t\")"
   ]
  },
  {
   "cell_type": "markdown",
   "metadata": {},
   "source": [
    "# Mutations"
   ]
  },
  {
   "cell_type": "code",
   "execution_count": 4,
   "metadata": {
    "ExecuteTime": {
     "end_time": "2020-05-14T17:11:34.405322Z",
     "start_time": "2020-05-14T17:11:33.721327Z"
    }
   },
   "outputs": [],
   "source": [
    "msi_prot_diffs = pd.read_csv(\"../data/intermediate/msi_prot_diffs.txt\",sep=\"\\t\")\n",
    "msi_exon_diffs = pd.read_csv(\"../data/intermediate/msi_exon_diffs.txt\",sep=\"\\t\",index_col=0)"
   ]
  },
  {
   "cell_type": "markdown",
   "metadata": {},
   "source": [
    "## Storage bucket info"
   ]
  },
  {
   "cell_type": "code",
   "execution_count": 15,
   "metadata": {
    "ExecuteTime": {
     "end_time": "2020-05-14T17:18:02.483439Z",
     "start_time": "2020-05-14T17:18:02.301337Z"
    }
   },
   "outputs": [],
   "source": [
    "ccle_samples = pd.read_csv(\"../data/raw/fullccle_samples.csv\")\n",
    "wgs_samples = ccle_samples[ccle_samples[\"datatype\"]==\"wgs\"]\n",
    "wgs_samples = wgs_samples.sort_values(by=[\"arxspan_id\",\"version\",\"size\"])\n",
    "wgs_samples = wgs_samples.drop_duplicates(subset=[\"arxspan_id\"],keep=\"first\")"
   ]
  },
  {
   "cell_type": "markdown",
   "metadata": {},
   "source": [
    "## Gene intervals"
   ]
  },
  {
   "cell_type": "code",
   "execution_count": 93,
   "metadata": {
    "ExecuteTime": {
     "end_time": "2020-05-14T20:49:10.144126Z",
     "start_time": "2020-05-14T20:49:09.760732Z"
    }
   },
   "outputs": [],
   "source": [
    "msi_exons = msi_exon_diffs.copy()[msi_exon_diffs[\"qval\"]>=4]\n",
    "\n",
    "msi_exons[\"gene\"] = msi_exons.index.map(lambda x: x.split(\"_\")[-1])\n",
    "msi_exons[\"exon_chrom\"] = msi_exons.index.map(lambda x: x.split(\"_\")[-4][3:])\n",
    "msi_exons[\"exon_start\"] = msi_exons.index.map(lambda x: x.split(\"_\")[-3])\n",
    "msi_exons[\"exon_end\"] = msi_exons.index.map(lambda x: x.split(\"_\")[-2])\n",
    "\n",
    "msi_exons[\"exon\"] = msi_exons[\"exon_chrom\"] + \"_\" + msi_exons[\"exon_start\"] + \"_\" + msi_exons[\"exon_end\"]\n",
    "\n",
    "msi_exons[\"exon_start\"] = msi_exons[\"exon_start\"].astype(int)\n",
    "msi_exons[\"exon_end\"] = msi_exons[\"exon_end\"].astype(int)\n",
    "\n",
    "msi_exons = msi_exons.drop_duplicates(subset=[\"exon\"])"
   ]
  },
  {
   "cell_type": "code",
   "execution_count": 94,
   "metadata": {
    "ExecuteTime": {
     "end_time": "2020-05-14T20:49:11.139279Z",
     "start_time": "2020-05-14T20:49:10.513112Z"
    }
   },
   "outputs": [],
   "source": [
    "def get_exon_bounds(row,padding=250):\n",
    "    \n",
    "    if row[\"exon_start\"] < row[\"exon_end\"]:\n",
    "        row[\"bound_start\"] = row[\"exon_start\"]-padding\n",
    "        row[\"bound_end\"] = row[\"exon_end\"]+padding\n",
    "    \n",
    "    elif row[\"exon_start\"] > row[\"exon_end\"]:\n",
    "        row[\"bound_start\"] = row[\"exon_end\"]-padding\n",
    "        row[\"bound_end\"] = row[\"exon_start\"]+padding\n",
    "        \n",
    "    return row\n",
    "    \n",
    "msi_exons = msi_exons.apply(get_exon_bounds,axis=1)"
   ]
  },
  {
   "cell_type": "code",
   "execution_count": 107,
   "metadata": {
    "ExecuteTime": {
     "end_time": "2020-05-14T23:16:40.468249Z",
     "start_time": "2020-05-14T23:16:40.442488Z"
    }
   },
   "outputs": [],
   "source": [
    "msi_exons[[\"exon_chrom\",\"bound_start\",\"bound_end\"]].to_csv(\"../scripts/MSI_exon_bounds.bed\",sep=\"\\t\",header=False,index=False)\n",
    "msi_exons[[\"exon_chrom\",\"bound_start\",\"bound_end\"]].to_csv(\"../data/raw/MSI_exon_bounds.bed\",sep=\"\\t\",header=False,index=False)"
   ]
  },
  {
   "cell_type": "code",
   "execution_count": 89,
   "metadata": {
    "ExecuteTime": {
     "end_time": "2020-05-14T20:27:12.636204Z",
     "start_time": "2020-05-14T20:27:12.602002Z"
    }
   },
   "outputs": [],
   "source": [
    "with open(\"../scripts/wgs_paths.txt\",\"w\") as f:\n",
    "    for bam_path in list(wgs_samples[\"internal_bam_filepath\"]):\n",
    "        f.write(bam_path+\"\\n\")\n",
    "        \n",
    "with open(\"../scripts/wgs_ids.txt\",\"w\") as f:\n",
    "    for bam_path in list(wgs_samples[\"arxspan_id\"]):\n",
    "        f.write(bam_path+\"\\n\")"
   ]
  },
  {
   "cell_type": "code",
   "execution_count": 79,
   "metadata": {
    "ExecuteTime": {
     "end_time": "2020-05-14T18:33:48.692042Z",
     "start_time": "2020-05-14T18:33:48.675109Z"
    }
   },
   "outputs": [],
   "source": [
    "with open(\"../scripts/7_fetch-msi-slices.sh\", \"w\") as f:\n",
    "    for bam_path, ach_id in zip(list(wgs_samples[\"internal_bam_filepath\"]), list(wgs_samples[\"arxspan_id\"])):\n",
    "\n",
    "        f.write(\"export GCS_OAUTH_TOKEN=$(gcloud auth application-default print-access-token) && samtools view -b -h -M -L ../data/raw/MSI_exon_bounds.bed {} > ../data/raw/WGS_slices/{}.bam\\n\".format(bam_path, ach_id))"
   ]
  }
 ],
 "metadata": {
  "kernelspec": {
   "display_name": "Python 3",
   "language": "python",
   "name": "python3"
  },
  "language_info": {
   "codemirror_mode": {
    "name": "ipython",
    "version": 3
   },
   "file_extension": ".py",
   "mimetype": "text/x-python",
   "name": "python",
   "nbconvert_exporter": "python",
   "pygments_lexer": "ipython3",
   "version": "3.7.7"
  },
  "toc": {
   "base_numbering": 1,
   "nav_menu": {},
   "number_sections": true,
   "sideBar": true,
   "skip_h1_title": false,
   "title_cell": "Table of Contents",
   "title_sidebar": "Contents",
   "toc_cell": false,
   "toc_position": {},
   "toc_section_display": true,
   "toc_window_display": false
  }
 },
 "nbformat": 4,
 "nbformat_minor": 4
}
