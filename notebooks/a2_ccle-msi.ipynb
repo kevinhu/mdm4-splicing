{
 "cells": [
  {
   "cell_type": "code",
   "execution_count": 6,
   "metadata": {
    "ExecuteTime": {
     "end_time": "2020-05-29T19:23:06.061022Z",
     "start_time": "2020-05-29T19:23:06.054487Z"
    }
   },
   "outputs": [],
   "source": [
    "import numpy as np\n",
    "import pandas as pd\n",
    "\n",
    "import matplotlib.pyplot as plt\n",
    "import matplotlib as mpl\n",
    "import seaborn as sns\n",
    "\n",
    "import sys\n",
    "import os\n",
    "\n",
    "sys.path.append(os.path.relpath(\"../../huygens\"))\n",
    "sys.path.append(os.path.relpath(\"../../galileo\"))\n",
    "\n",
    "import galileo as gal\n",
    "import huygens as huy"
   ]
  },
  {
   "cell_type": "markdown",
   "metadata": {},
   "source": [
    "# Load annotations"
   ]
  },
  {
   "cell_type": "code",
   "execution_count": 9,
   "metadata": {
    "ExecuteTime": {
     "end_time": "2020-05-29T19:24:23.842124Z",
     "start_time": "2020-05-29T19:24:18.425403Z"
    }
   },
   "outputs": [],
   "source": [
    "ccle_genex = pd.read_hdf(\n",
    "    \"../../data/processed/ccle/CCLE_RNAseq_rsem_genes_tpm_20180929.hdf\", key=\"ccle_genex\")\n",
    "ccle_transcripts = pd.read_hdf(\"../../data/processed/ccle/CCLE_RNAseq_rsem_transcripts_tpm_20180929.hdf\",\n",
    "                               key=\"ccle_transcripts\")\n",
    "exonusage = pd.read_hdf(\n",
    "    \"../../data/processed/ccle/CCLE_RNAseq_ExonUsageRatio_20180929.hdf\", key=\"exonusage\")\n",
    "\n",
    "ms_prot = pd.read_hdf(\"../../data/processed/ccle/ms_prot.h5\", key=\"ms_prot\")\n",
    "rppa = pd.read_hdf(\n",
    "    \"../../data/processed/ccle/CCLE_RPPA_20181003.hdf\", key=\"rppa\")\n",
    "\n",
    "primary_logfold = pd.read_hdf(\n",
    "    \"../../data/processed/depmap/primary_logfold.h5\", key=\"primary_logfold\")\n",
    "secondary_logfold = pd.read_hdf(\n",
    "    \"../../data/processed/depmap/secondary_logfold.h5\", key=\"secondary_logfold\")"
   ]
  },
  {
   "cell_type": "code",
   "execution_count": 58,
   "metadata": {
    "ExecuteTime": {
     "end_time": "2020-05-15T18:59:27.865750Z",
     "start_time": "2020-05-15T18:59:27.605626Z"
    }
   },
   "outputs": [],
   "source": [
    "msi = pd.read_excel(\"../data/external/ccle2/41586_2019_1186_MOESM10_ESM.xlsx\",sheet_name=\"MSI calls\")\n",
    "msi = msi.set_index(\"depMapID\")\n",
    "msi[\"GDSC_msi\"] = msi[\"GDSC.msi.call\"].replace({\"MSI-H\":True,\"MSS/MSI-L\":False})\n",
    "msi[\"CCLE_msi\"] = msi[\"CCLE.MSI.call\"].replace({\"inferred-MSI\":True,\"inferred-MSS\":False,\"undetermined\":np.nan})\n",
    "\n",
    "msi = msi.dropna(subset=[\"GDSC_msi\",\"CCLE_msi\"],how=\"all\")\n",
    "\n",
    "msi[\"MSI\"] = msi[\"GDSC_msi\"] | msi[\"CCLE_msi\"]\n",
    "name_map = dict(zip(msi[\"CCLE_ID\"],msi.index))\n",
    "name_map[\"HS294T_SKIN\"] = \"ACH-000014\""
   ]
  },
  {
   "cell_type": "markdown",
   "metadata": {},
   "source": [
    "# Compute differences"
   ]
  },
  {
   "cell_type": "code",
   "execution_count": null,
   "metadata": {
    "ExecuteTime": {
     "end_time": "2020-05-07T17:54:41.424788Z",
     "start_time": "2020-05-07T17:53:20.862980Z"
    }
   },
   "outputs": [],
   "source": [
    "msi_prot_diffs = gal.mat_mwus_naive(ms_prot,msi[\"MSI\"],pbar=True)\n",
    "msi_prot_diffs.to_csv(\"../data/intermediate/msi_prot_diffs.txt\",sep=\"\\t\")\n",
    "\n",
    "msi_exon_diffs = gal.mat_mwus_naive(exonusage,msi[\"MSI\"],pbar=True,effect=\"mean\")\n",
    "msi_exon_diffs.to_csv(\"../data/intermediate/msi_exon_diffs.txt\",sep=\"\\t\")"
   ]
  },
  {
   "cell_type": "markdown",
   "metadata": {},
   "source": [
    "# Mutations"
   ]
  },
  {
   "cell_type": "code",
   "execution_count": 3,
   "metadata": {
    "ExecuteTime": {
     "end_time": "2020-05-16T19:35:12.337645Z",
     "start_time": "2020-05-16T19:35:11.648812Z"
    }
   },
   "outputs": [],
   "source": [
    "msi_prot_diffs = pd.read_csv(\"../data/intermediate/msi_prot_diffs.txt\",sep=\"\\t\")\n",
    "msi_exon_diffs = pd.read_csv(\"../data/intermediate/msi_exon_diffs.txt\",sep=\"\\t\",index_col=0)"
   ]
  },
  {
   "cell_type": "markdown",
   "metadata": {},
   "source": [
    "## Storage bucket info"
   ]
  },
  {
   "cell_type": "code",
   "execution_count": 16,
   "metadata": {
    "ExecuteTime": {
     "end_time": "2020-05-15T18:46:47.197746Z",
     "start_time": "2020-05-15T18:46:47.007146Z"
    }
   },
   "outputs": [],
   "source": [
    "ccle_samples = pd.read_csv(\"../data/raw/fullccle_samples.csv\")\n",
    "wgs_samples = ccle_samples[ccle_samples[\"datatype\"]==\"wgs\"]\n",
    "wgs_samples = wgs_samples.sort_values(by=[\"arxspan_id\",\"version\",\"size\"])\n",
    "wgs_samples = wgs_samples.drop_duplicates(subset=[\"arxspan_id\"],keep=\"first\")"
   ]
  },
  {
   "cell_type": "markdown",
   "metadata": {},
   "source": [
    "## Gene intervals"
   ]
  },
  {
   "cell_type": "code",
   "execution_count": 68,
   "metadata": {
    "ExecuteTime": {
     "end_time": "2020-05-15T19:10:17.064305Z",
     "start_time": "2020-05-15T19:10:16.943985Z"
    }
   },
   "outputs": [],
   "source": [
    "msi_exons = msi_exon_diffs.copy()[msi_exon_diffs[\"qval\"]>=4]\n",
    "\n",
    "msi_exons[\"gene\"] = msi_exons.index.map(lambda x: x.split(\"_\")[-1])\n",
    "msi_exons[\"exon_chrom\"] = msi_exons.index.map(lambda x: x.split(\"_\")[-4][3:])\n",
    "msi_exons[\"exon_start\"] = msi_exons.index.map(lambda x: x.split(\"_\")[-3])\n",
    "msi_exons[\"exon_end\"] = msi_exons.index.map(lambda x: x.split(\"_\")[-2])\n",
    "\n",
    "msi_exons[\"exon\"] = msi_exons[\"exon_chrom\"] + \"_\" + msi_exons[\"exon_start\"] + \"_\" + msi_exons[\"exon_end\"]\n",
    "\n",
    "msi_exons[\"exon_start\"] = msi_exons[\"exon_start\"].astype(int)\n",
    "msi_exons[\"exon_end\"] = msi_exons[\"exon_end\"].astype(int)\n",
    "\n",
    "msi_exons = msi_exons.drop_duplicates(subset=[\"exon\"])"
   ]
  },
  {
   "cell_type": "code",
   "execution_count": 69,
   "metadata": {
    "ExecuteTime": {
     "end_time": "2020-05-15T19:10:23.240311Z",
     "start_time": "2020-05-15T19:10:22.633326Z"
    }
   },
   "outputs": [],
   "source": [
    "def get_exon_bounds(row,padding=1000):\n",
    "    \n",
    "    if row[\"exon_start\"] < row[\"exon_end\"]:\n",
    "        row[\"bound_start\"] = row[\"exon_start\"]-padding\n",
    "        row[\"bound_end\"] = row[\"exon_end\"]+padding\n",
    "    \n",
    "    elif row[\"exon_start\"] > row[\"exon_end\"]:\n",
    "        row[\"bound_start\"] = row[\"exon_end\"]-padding\n",
    "        row[\"bound_end\"] = row[\"exon_start\"]+padding\n",
    "        \n",
    "    return row\n",
    "    \n",
    "msi_exons = msi_exons.apply(get_exon_bounds,axis=1)"
   ]
  },
  {
   "cell_type": "code",
   "execution_count": 70,
   "metadata": {
    "ExecuteTime": {
     "end_time": "2020-05-15T19:10:24.543974Z",
     "start_time": "2020-05-15T19:10:24.529197Z"
    }
   },
   "outputs": [],
   "source": [
    "msi_exons[[\"exon_chrom\",\"bound_start\",\"bound_end\"]].to_csv(\"../scripts/MSI_exon_bounds.bed\",sep=\"\\t\",header=False,index=False)\n",
    "msi_exons[[\"exon_chrom\",\"bound_start\",\"bound_end\"]].to_csv(\"../data/raw/MSI_exon_bounds.bed\",sep=\"\\t\",header=False,index=False)"
   ]
  },
  {
   "cell_type": "code",
   "execution_count": 71,
   "metadata": {
    "ExecuteTime": {
     "end_time": "2020-05-15T19:10:25.753474Z",
     "start_time": "2020-05-15T19:10:25.745189Z"
    }
   },
   "outputs": [],
   "source": [
    "with open(\"../scripts/wgs_paths.txt\",\"w\") as f:\n",
    "    for bam_path in list(wgs_samples[\"internal_bam_filepath\"]):\n",
    "        f.write(bam_path+\"\\n\")\n",
    "        \n",
    "with open(\"../scripts/wgs_ids.txt\",\"w\") as f:\n",
    "    for bam_path in list(wgs_samples[\"arxspan_id\"]):\n",
    "        f.write(bam_path+\"\\n\")"
   ]
  },
  {
   "cell_type": "code",
   "execution_count": 72,
   "metadata": {
    "ExecuteTime": {
     "end_time": "2020-05-15T19:10:26.911384Z",
     "start_time": "2020-05-15T19:10:26.904560Z"
    }
   },
   "outputs": [],
   "source": [
    "with open(\"../scripts/7_fetch-msi-slices.sh\", \"w\") as f:\n",
    "    for bam_path, ach_id in zip(list(wgs_samples[\"internal_bam_filepath\"]), list(wgs_samples[\"arxspan_id\"])):\n",
    "\n",
    "        f.write(\"export GCS_OAUTH_TOKEN=$(gcloud auth application-default print-access-token) && samtools view -b -h -M -L ../data/raw/MSI_exon_bounds.bed {} > ../data/raw/WGS_slices/{}.bam\\n\".format(bam_path, ach_id))"
   ]
  },
  {
   "cell_type": "markdown",
   "metadata": {},
   "source": [
    "## Load mutations"
   ]
  },
  {
   "cell_type": "code",
   "execution_count": 25,
   "metadata": {
    "ExecuteTime": {
     "end_time": "2020-05-15T18:49:32.231459Z",
     "start_time": "2020-05-15T18:49:32.104667Z"
    }
   },
   "outputs": [],
   "source": [
    "msi_exon_muts = pd.read_csv(\"../data/intermediate/msi_exon_calls_filtered.txt\",\n",
    "                            sep=\"\\t\",\n",
    "                            names=[\"chrom\",\"pos\",\"sample\",\"ref\",\"alt\",\"genotype\"]\n",
    "                           )\n",
    "\n",
    "wgs_sample_ids = pd.read_csv(\"../scripts/wgs_ids_samples.txt\",sep=\"\\t\",names=[\"ach_id\",\"sample_name\",\"cn_bi\"])\n",
    "wgs_sample_map = dict(zip(wgs_sample_ids[\"sample_name\"],wgs_sample_ids[\"ach_id\"]))\n",
    "wgs_sample_map[\"Detroit 562\"] = \"ACH-000207\"\n",
    "\n",
    "msi_exon_muts[\"ach_id\"] = msi_exon_muts[\"sample\"].apply(lambda x: wgs_sample_map[x])"
   ]
  },
  {
   "cell_type": "code",
   "execution_count": 28,
   "metadata": {
    "ExecuteTime": {
     "end_time": "2020-05-15T18:52:12.031636Z",
     "start_time": "2020-05-15T18:52:10.555707Z"
    }
   },
   "outputs": [],
   "source": [
    "msi_exon_muts[\"mut_site\"] = msi_exon_muts[\"chrom\"] + \"_\" + msi_exon_muts[\"pos\"].astype(str)\n",
    "msi_exon_muts[\"value\"] = 1\n",
    "msi_exon_mut_mat = pd.pivot_table(msi_exon_muts, values=\"value\", index=[\n",
    "                            \"ach_id\"], columns=\"mut_site\", fill_value=0)"
   ]
  },
  {
   "cell_type": "code",
   "execution_count": 120,
   "metadata": {
    "ExecuteTime": {
     "end_time": "2020-05-15T19:48:59.078058Z",
     "start_time": "2020-05-15T19:48:58.834892Z"
    }
   },
   "outputs": [
    {
     "name": "stderr",
     "output_type": "stream",
     "text": [
      "../../galileo/galileo/categorical_categorical.py:241: RuntimeWarning: divide by zero encountered in true_divide\n",
      "  oddsrs = (AB/Ab)/(aB/ab)\n",
      "../../galileo/galileo/categorical_categorical.py:241: RuntimeWarning: invalid value encountered in true_divide\n",
      "  oddsrs = (AB/Ab)/(aB/ab)\n"
     ]
    }
   ],
   "source": [
    "res = gal.mat_fishers(msi[\"MSI\"],msi_exon_mut_mat)\n",
    "msi_muts = res[(res[\"oddsr\"]>=8)|(res[\"oddsr\"]<=1/8)]"
   ]
  },
  {
   "cell_type": "code",
   "execution_count": 151,
   "metadata": {
    "ExecuteTime": {
     "end_time": "2020-05-15T20:59:32.153975Z",
     "start_time": "2020-05-15T20:59:31.197534Z"
    }
   },
   "outputs": [],
   "source": [
    "res = gal.mat_corrs_nan(avana[\"WRN_7486\"],ms_prot)"
   ]
  },
  {
   "cell_type": "code",
   "execution_count": 15,
   "metadata": {
    "ExecuteTime": {
     "end_time": "2020-05-16T19:37:09.902858Z",
     "start_time": "2020-05-16T19:37:09.701140Z"
    }
   },
   "outputs": [
    {
     "data": {
      "text/plain": [
       "<matplotlib.axes._subplots.AxesSubplot at 0x122ce97d0>"
      ]
     },
     "execution_count": 15,
     "metadata": {},
     "output_type": "execute_result"
    },
    {
     "data": {
      "image/png": "[encoded data removed]",
      "text/plain": [
       "<Figure size 432x288 with 1 Axes>"
      ]
     },
     "metadata": {
      "needs_background": "light"
     },
     "output_type": "display_data"
    }
   ],
   "source": [
    "huy.regression(exonusage[\"UBAP2L_5p_chr1_154242676_154243329_ENSG00000143569.14\"],\n",
    "              ccle_transcripts[\"UBAP2L_ENST00000495676.1\"]\n",
    "             )"
   ]
  },
  {
   "cell_type": "code",
   "execution_count": 16,
   "metadata": {
    "ExecuteTime": {
     "end_time": "2020-05-16T19:37:52.478574Z",
     "start_time": "2020-05-16T19:37:29.275866Z"
    }
   },
   "outputs": [],
   "source": [
    "corrs = gal.mat_corrs_nan(exonusage[\"UBAP2L_5p_chr1_154242676_154243329_ENSG00000143569.14\"],\n",
    "              ccle_transcripts)"
   ]
  },
  {
   "cell_type": "code",
   "execution_count": 183,
   "metadata": {
    "ExecuteTime": {
     "end_time": "2020-05-16T16:40:36.815013Z",
     "start_time": "2020-05-16T16:40:36.801503Z"
    }
   },
   "outputs": [
    {
     "data": {
      "text/html": [
       "<div>\n",
       "<style scoped>\n",
       "    .dataframe tbody tr th:only-of-type {\n",
       "        vertical-align: middle;\n",
       "    }\n",
       "\n",
       "    .dataframe tbody tr th {\n",
       "        vertical-align: top;\n",
       "    }\n",
       "\n",
       "    .dataframe thead th {\n",
       "        text-align: right;\n",
       "    }\n",
       "</style>\n",
       "<table border=\"1\" class=\"dataframe\">\n",
       "  <thead>\n",
       "    <tr style=\"text-align: right;\">\n",
       "      <th></th>\n",
       "      <th>corr</th>\n",
       "      <th>pval</th>\n",
       "      <th>pos_n</th>\n",
       "      <th>neg_n</th>\n",
       "      <th>qval</th>\n",
       "      <th>gene</th>\n",
       "      <th>exon_chrom</th>\n",
       "      <th>exon_start</th>\n",
       "      <th>exon_end</th>\n",
       "      <th>exon</th>\n",
       "      <th>bound_start</th>\n",
       "      <th>bound_end</th>\n",
       "    </tr>\n",
       "  </thead>\n",
       "  <tbody>\n",
       "    <tr>\n",
       "      <th>RAB3GAP2_5p_chr1_220369740_220369592_ENSG00000118873.11</th>\n",
       "      <td>-0.633488</td>\n",
       "      <td>15.526574</td>\n",
       "      <td>51.0</td>\n",
       "      <td>890.0</td>\n",
       "      <td>11.867673</td>\n",
       "      <td>ENSG00000118873.11</td>\n",
       "      <td>1</td>\n",
       "      <td>220369740</td>\n",
       "      <td>220369592</td>\n",
       "      <td>1_220369740_220369592</td>\n",
       "      <td>220368592</td>\n",
       "      <td>220370740</td>\n",
       "    </tr>\n",
       "  </tbody>\n",
       "</table>\n",
       "</div>"
      ],
      "text/plain": [
       "                                                        corr       pval  \\\n",
       "RAB3GAP2_5p_chr1_220369740_220369592_ENSG000001... -0.633488  15.526574   \n",
       "\n",
       "                                                    pos_n  neg_n       qval  \\\n",
       "RAB3GAP2_5p_chr1_220369740_220369592_ENSG000001...   51.0  890.0  11.867673   \n",
       "\n",
       "                                                                  gene  \\\n",
       "RAB3GAP2_5p_chr1_220369740_220369592_ENSG000001...  ENSG00000118873.11   \n",
       "\n",
       "                                                   exon_chrom  exon_start  \\\n",
       "RAB3GAP2_5p_chr1_220369740_220369592_ENSG000001...          1   220369740   \n",
       "\n",
       "                                                     exon_end  \\\n",
       "RAB3GAP2_5p_chr1_220369740_220369592_ENSG000001...  220369592   \n",
       "\n",
       "                                                                     exon  \\\n",
       "RAB3GAP2_5p_chr1_220369740_220369592_ENSG000001...  1_220369740_220369592   \n",
       "\n",
       "                                                    bound_start  bound_end  \n",
       "RAB3GAP2_5p_chr1_220369740_220369592_ENSG000001...    220368592  220370740  "
      ]
     },
     "execution_count": 183,
     "metadata": {},
     "output_type": "execute_result"
    }
   ],
   "source": [
    "msi_exons[msi_exons.index.map(lambda x: \"RAB3\" in x)]"
   ]
  }
 ],
 "metadata": {
  "kernelspec": {
   "display_name": "Python 3",
   "language": "python",
   "name": "python3"
  },
  "language_info": {
   "codemirror_mode": {
    "name": "ipython",
    "version": 3
   },
   "file_extension": ".py",
   "mimetype": "text/x-python",
   "name": "python",
   "nbconvert_exporter": "python",
   "pygments_lexer": "ipython3",
   "version": "3.7.7"
  },
  "toc": {
   "base_numbering": 1,
   "nav_menu": {},
   "number_sections": true,
   "sideBar": true,
   "skip_h1_title": false,
   "title_cell": "Table of Contents",
   "title_sidebar": "Contents",
   "toc_cell": false,
   "toc_position": {},
   "toc_section_display": true,
   "toc_window_display": false
  }
 },
 "nbformat": 4,
 "nbformat_minor": 4
}
