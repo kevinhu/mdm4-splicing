{
 "cells": [
  {
   "cell_type": "code",
   "execution_count": 8,
   "metadata": {
    "ExecuteTime": {
     "end_time": "2020-05-09T13:02:46.436361Z",
     "start_time": "2020-05-09T13:02:46.431472Z"
    }
   },
   "outputs": [],
   "source": [
    "import numpy as np\n",
    "import pandas as pd\n",
    "\n",
    "import matplotlib.pyplot as plt\n",
    "import matplotlib as mpl\n",
    "import seaborn as sns\n",
    "\n",
    "import sys\n",
    "import os\n",
    "\n",
    "sys.path.append(os.path.relpath(\"../../huygens\"))\n",
    "sys.path.append(os.path.relpath(\"../../galileo\"))\n",
    "\n",
    "import galileo as gal\n",
    "import huygens as huy"
   ]
  },
  {
   "cell_type": "markdown",
   "metadata": {},
   "source": [
    "# Load annotations"
   ]
  },
  {
   "cell_type": "code",
   "execution_count": 9,
   "metadata": {
    "ExecuteTime": {
     "end_time": "2020-05-09T13:02:53.241327Z",
     "start_time": "2020-05-09T13:02:47.086706Z"
    }
   },
   "outputs": [],
   "source": [
    "ccle_genex = pd.read_hdf(\n",
    "    \"../../data/processed/ccle/CCLE_RNAseq_rsem_genes_tpm_20180929.hdf\", key=\"ccle_genex\")\n",
    "ccle_transcripts = pd.read_hdf(\"../../data/processed/ccle/CCLE_RNAseq_rsem_transcripts_tpm_20180929.hdf\",\n",
    "                        key=\"ccle_transcripts\")\n",
    "exonusage = pd.read_hdf(\n",
    "    \"../../data/processed/ccle/CCLE_RNAseq_ExonUsageRatio_20180929.hdf\", key=\"exonusage\")\n",
    "\n",
    "ms_prot = pd.read_hdf(\"../../data/processed/ccle/ms_prot.h5\",key=\"ms_prot\")\n",
    "rppa = pd.read_hdf(\"../../data/processed/ccle/CCLE_RPPA_20181003.hdf\",key=\"rppa\")"
   ]
  },
  {
   "cell_type": "code",
   "execution_count": 10,
   "metadata": {
    "ExecuteTime": {
     "end_time": "2020-05-09T13:02:54.389765Z",
     "start_time": "2020-05-09T13:02:53.244272Z"
    }
   },
   "outputs": [],
   "source": [
    "msi = pd.read_excel(\"../data/external/ccle2/41586_2019_1186_MOESM10_ESM.xlsx\",sheet_name=\"MSI calls\")\n",
    "msi = msi.set_index(\"depMapID\")\n",
    "msi[\"GDSC_msi\"] = msi[\"GDSC.msi.call\"].replace({\"MSI-H\":True,\"MSS/MSI-L\":False})\n",
    "msi[\"CCLE_msi\"] = msi[\"CCLE.MSI.call\"].replace({\"inferred-MSI\":True,\"inferred-MSS\":False,\"undetermined\":np.nan})\n",
    "\n",
    "msi = msi.dropna(subset=[\"GDSC_msi\",\"CCLE_msi\"],how=\"all\")\n",
    "\n",
    "msi[\"MSI\"] = msi[\"GDSC_msi\"] | msi[\"CCLE_msi\"]"
   ]
  },
  {
   "cell_type": "markdown",
   "metadata": {},
   "source": [
    "# Compute differences"
   ]
  },
  {
   "cell_type": "code",
   "execution_count": null,
   "metadata": {
    "ExecuteTime": {
     "end_time": "2020-05-07T17:54:41.424788Z",
     "start_time": "2020-05-07T17:53:20.862980Z"
    }
   },
   "outputs": [],
   "source": [
    "msi_prot_diffs = gal.mat_mwus_naive(ms_prot,msi[\"MSI\"],pbar=True)\n",
    "msi_prot_diffs.to_csv(\"../data/intermediate/msi_prot_diffs.txt\",sep=\"\\t\")\n",
    "\n",
    "msi_exon_diffs = gal.mat_mwus_naive(exonusage,msi[\"MSI\"],pbar=True,effect=\"mean\")\n",
    "msi_exon_diffs.to_csv(\"../data/intermediate/msi_exon_diffs.txt\",sep=\"\\t\")"
   ]
  },
  {
   "cell_type": "markdown",
   "metadata": {},
   "source": [
    "# Mutations"
   ]
  },
  {
   "cell_type": "code",
   "execution_count": 11,
   "metadata": {
    "ExecuteTime": {
     "end_time": "2020-05-09T13:02:57.841021Z",
     "start_time": "2020-05-09T13:02:57.115378Z"
    }
   },
   "outputs": [],
   "source": [
    "msi_prot_diffs = pd.read_csv(\"../data/intermediate/msi_prot_diffs.txt\",sep=\"\\t\")\n",
    "msi_exon_diffs = pd.read_csv(\"../data/intermediate/msi_exon_diffs.txt\",sep=\"\\t\",index_col=0)"
   ]
  }
 ],
 "metadata": {
  "kernelspec": {
   "display_name": "Python 3",
   "language": "python",
   "name": "python3"
  },
  "language_info": {
   "codemirror_mode": {
    "name": "ipython",
    "version": 3
   },
   "file_extension": ".py",
   "mimetype": "text/x-python",
   "name": "python",
   "nbconvert_exporter": "python",
   "pygments_lexer": "ipython3",
   "version": "3.7.7"
  },
  "toc": {
   "base_numbering": 1,
   "nav_menu": {},
   "number_sections": true,
   "sideBar": true,
   "skip_h1_title": false,
   "title_cell": "Table of Contents",
   "title_sidebar": "Contents",
   "toc_cell": false,
   "toc_position": {},
   "toc_section_display": true,
   "toc_window_display": false
  }
 },
 "nbformat": 4,
 "nbformat_minor": 4
}
