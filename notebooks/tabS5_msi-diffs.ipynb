{
 "cells": [
  {
   "cell_type": "code",
   "execution_count": 2,
   "id": "11b581bb",
   "metadata": {
    "ExecuteTime": {
     "end_time": "2021-05-09T18:17:53.541270Z",
     "start_time": "2021-05-09T18:17:51.541762Z"
    }
   },
   "outputs": [],
   "source": [
    "import pandas as pd\n",
    "\n",
    "import cancer_data\n",
    "import many"
   ]
  },
  {
   "cell_type": "code",
   "execution_count": 2,
   "id": "302789bd",
   "metadata": {
    "ExecuteTime": {
     "end_time": "2021-05-04T17:27:59.090050Z",
     "start_time": "2021-05-04T17:27:36.083839Z"
    }
   },
   "outputs": [
    {
     "name": "stderr",
     "output_type": "stream",
     "text": [
      "INFO:numexpr.utils:Note: NumExpr detected 16 cores but \"NUMEXPR_MAX_THREADS\" not set, so enforcing safe limit of 8.\n",
      "INFO:numexpr.utils:NumExpr defaulting to 8 threads.\n"
     ]
    }
   ],
   "source": [
    "ccle_exonusage = cancer_data.load(\"ccle_exonusage\")\n",
    "ccle_proteomics = cancer_data.load(\"ccle_proteomics\")\n",
    "\n",
    "merged_ccle_info = pd.read_csv(\"../data/supplementary/S1_merged-ccle-info.txt\",sep=\"\\t\",index_col=0)"
   ]
  },
  {
   "cell_type": "markdown",
   "id": "37c35498",
   "metadata": {},
   "source": [
    "# Compute differences"
   ]
  },
  {
   "cell_type": "code",
   "execution_count": 3,
   "id": "451b3325",
   "metadata": {
    "ExecuteTime": {
     "end_time": "2021-05-04T17:38:16.064191Z",
     "start_time": "2021-05-04T17:27:59.094034Z"
    }
   },
   "outputs": [
    {
     "data": {
      "application/vnd.jupyter.widget-view+json": {
       "model_id": "7d2998fd75d84e8fa3b6852f3c58b9b9",
       "version_major": 2,
       "version_minor": 0
      },
      "text/plain": [
       "  0%|          | 0/12755 [00:00<?, ?it/s]"
      ]
     },
     "metadata": {},
     "output_type": "display_data"
    },
    {
     "data": {
      "application/vnd.jupyter.widget-view+json": {
       "model_id": "f983942a3ba9472f995eeff47e8f1004",
       "version_major": 2,
       "version_minor": 0
      },
      "text/plain": [
       "  0%|          | 0/310754 [00:00<?, ?it/s]"
      ]
     },
     "metadata": {},
     "output_type": "display_data"
    }
   ],
   "source": [
    "msi_prot_diffs = many.stats.mat_mwu_naive(\n",
    "    ccle_proteomics, merged_ccle_info[\"MSI\"], effect=\"rank_biserial\", melt=True, pbar=True\n",
    ")\n",
    "msi_prot_diffs = msi_prot_diffs.reset_index()\n",
    "msi_prot_diffs = msi_prot_diffs.rename({\"a_col\":\"protein\"},axis=1).drop(\"b_col\",axis=1)\n",
    "msi_prot_diffs.to_csv(\"../data/supplementary/S5-a__msi-prot-diffs.txt\", sep=\"\\t\")\n",
    "\n",
    "msi_exon_diffs = many.stats.mat_mwu_naive(\n",
    "    ccle_exonusage, merged_ccle_info[\"MSI\"], effect=\"rank_biserial\", melt=True, pbar=True\n",
    ")\n",
    "msi_exon_diffs = msi_exon_diffs.reset_index()\n",
    "msi_exon_diffs = msi_exon_diffs.rename({\"a_col\":\"exon\"},axis=1).drop(\"b_col\",axis=1)\n",
    "msi_exon_diffs.to_csv(\"../data/intermediate/S5-b_msi-exon-diffs.txt\", sep=\"\\t\")"
   ]
  },
  {
   "cell_type": "markdown",
   "id": "27244ff9",
   "metadata": {},
   "source": [
    "# CCLE BAMs"
   ]
  },
  {
   "cell_type": "code",
   "execution_count": 4,
   "id": "d6ff9b94",
   "metadata": {
    "ExecuteTime": {
     "end_time": "2021-05-04T17:38:16.222328Z",
     "start_time": "2021-05-04T17:38:16.066249Z"
    }
   },
   "outputs": [],
   "source": [
    "ccle_samples = pd.read_csv(\"../data/raw/fullccle_samples.csv\")\n",
    "wgs_samples = ccle_samples[ccle_samples[\"datatype\"] == \"wgs\"]\n",
    "wgs_samples = wgs_samples.sort_values(by=[\"arxspan_id\", \"version\", \"size\"])\n",
    "wgs_samples = wgs_samples.drop_duplicates(subset=[\"arxspan_id\"], keep=\"first\")"
   ]
  },
  {
   "cell_type": "code",
   "execution_count": 5,
   "id": "891457b8",
   "metadata": {
    "ExecuteTime": {
     "end_time": "2021-05-04T17:38:16.251555Z",
     "start_time": "2021-05-04T17:38:16.223886Z"
    }
   },
   "outputs": [],
   "source": [
    "msi_exons = msi_exon_diffs.copy()[msi_exon_diffs[\"qval\"] >= 4]\n",
    "\n",
    "msi_exons[\"gene\"] = msi_exons[\"exon\"].map(lambda x: x.split(\"_\")[-1])\n",
    "msi_exons[\"exon_chrom\"] = msi_exons[\"exon\"].map(lambda x: x.split(\"_\")[-4][3:])\n",
    "msi_exons[\"exon_start\"] = msi_exons[\"exon\"].map(lambda x: x.split(\"_\")[-3])\n",
    "msi_exons[\"exon_end\"] = msi_exons[\"exon\"].map(lambda x: x.split(\"_\")[-2])\n",
    "\n",
    "msi_exons[\"exon\"] = (\n",
    "    msi_exons[\"exon_chrom\"]\n",
    "    + \"_\"\n",
    "    + msi_exons[\"exon_start\"]\n",
    "    + \"_\"\n",
    "    + msi_exons[\"exon_end\"]\n",
    ")\n",
    "\n",
    "msi_exons[\"exon_start\"] = msi_exons[\"exon_start\"].astype(int)\n",
    "msi_exons[\"exon_end\"] = msi_exons[\"exon_end\"].astype(int)\n",
    "\n",
    "msi_exons = msi_exons.drop_duplicates(subset=[\"exon\"])"
   ]
  },
  {
   "cell_type": "code",
   "execution_count": 14,
   "id": "58c84734",
   "metadata": {
    "ExecuteTime": {
     "end_time": "2021-05-04T17:45:14.040916Z",
     "start_time": "2021-05-04T17:45:13.913121Z"
    }
   },
   "outputs": [],
   "source": [
    "def get_exon_bounds(row, padding=1000):\n",
    "\n",
    "    if row[\"exon_start\"] <= row[\"exon_end\"]:\n",
    "        row[\"bound_start\"] = row[\"exon_start\"] - padding\n",
    "        row[\"bound_end\"] = row[\"exon_end\"] + padding\n",
    "\n",
    "    elif row[\"exon_start\"] >= row[\"exon_end\"]:\n",
    "        row[\"bound_start\"] = row[\"exon_end\"] - padding\n",
    "        row[\"bound_end\"] = row[\"exon_start\"] + padding\n",
    "\n",
    "    return row\n",
    "\n",
    "\n",
    "msi_exons = msi_exons.apply(get_exon_bounds, axis=1)"
   ]
  },
  {
   "cell_type": "code",
   "execution_count": 15,
   "id": "c9acb95d",
   "metadata": {
    "ExecuteTime": {
     "end_time": "2021-05-04T17:45:16.004982Z",
     "start_time": "2021-05-04T17:45:15.994616Z"
    }
   },
   "outputs": [],
   "source": [
    "msi_exons[[\"exon_chrom\", \"bound_start\", \"bound_end\"]].to_csv(\n",
    "    \"../scripts/MSI_exon_bounds.bed\", sep=\"\\t\", header=False, index=False\n",
    ")\n",
    "msi_exons[[\"exon_chrom\", \"bound_start\", \"bound_end\"]].to_csv(\n",
    "    \"../data/raw/MSI_exon_bounds.bed\", sep=\"\\t\", header=False, index=False\n",
    ")"
   ]
  },
  {
   "cell_type": "code",
   "execution_count": 16,
   "id": "58e9916f",
   "metadata": {
    "ExecuteTime": {
     "end_time": "2021-05-04T17:45:18.113842Z",
     "start_time": "2021-05-04T17:45:18.109548Z"
    }
   },
   "outputs": [],
   "source": [
    "with open(\"../scripts/wgs_paths.txt\", \"w\") as f:\n",
    "    for bam_path in list(wgs_samples[\"internal_bam_filepath\"]):\n",
    "        f.write(bam_path + \"\\n\")\n",
    "\n",
    "with open(\"../scripts/wgs_ids.txt\", \"w\") as f:\n",
    "    for bam_path in list(wgs_samples[\"arxspan_id\"]):\n",
    "        f.write(bam_path + \"\\n\")"
   ]
  },
  {
   "cell_type": "code",
   "execution_count": 17,
   "id": "637c437d",
   "metadata": {
    "ExecuteTime": {
     "end_time": "2021-05-04T17:45:19.663423Z",
     "start_time": "2021-05-04T17:45:19.658720Z"
    }
   },
   "outputs": [],
   "source": [
    "with open(\"../scripts/7_fetch-msi-slices.sh\", \"w\") as f:\n",
    "    for bam_path, ach_id in zip(\n",
    "        list(wgs_samples[\"internal_bam_filepath\"]), list(wgs_samples[\"arxspan_id\"])\n",
    "    ):\n",
    "\n",
    "        f.write(\n",
    "            \"GCS_OAUTH_TOKEN=$(gcloud auth application-default print-access-token) samtools view -b -h -M -L ../data/raw/MSI_exon_bounds.bed {} > ../data/raw/WGS_slices/{}.bam\\n\".format(\n",
    "                bam_path, ach_id\n",
    "            )\n",
    "        )"
   ]
  },
  {
   "cell_type": "markdown",
   "id": "244e215a",
   "metadata": {},
   "source": [
    "# Read mutations"
   ]
  },
  {
   "cell_type": "code",
   "execution_count": 5,
   "id": "f3bd7777",
   "metadata": {
    "ExecuteTime": {
     "end_time": "2021-05-09T18:18:25.738840Z",
     "start_time": "2021-05-09T18:18:25.662908Z"
    }
   },
   "outputs": [],
   "source": [
    "msi_exon_calls = pd.read_csv(\n",
    "    \"../data/intermediate/msi_exon_calls/msi_exon_calls_filtered.txt\",\n",
    "    sep=\"\\t\",\n",
    "    names=[\"chrom\", \"pos\", \"sample\", \"ref\", \"alt\", \"genotype\"],\n",
    ")"
   ]
  },
  {
   "cell_type": "code",
   "execution_count": null,
   "id": "f8b967d0",
   "metadata": {},
   "outputs": [],
   "source": [
    "msi_exon_calls[\"ref_len\"] = msi_exon_calls[\"\"]"
   ]
  },
  {
   "cell_type": "code",
   "execution_count": 6,
   "id": "add0333f",
   "metadata": {
    "ExecuteTime": {
     "end_time": "2021-05-09T18:18:26.514800Z",
     "start_time": "2021-05-09T18:18:26.503425Z"
    }
   },
   "outputs": [
    {
     "data": {
      "text/html": [
       "<div>\n",
       "<style scoped>\n",
       "    .dataframe tbody tr th:only-of-type {\n",
       "        vertical-align: middle;\n",
       "    }\n",
       "\n",
       "    .dataframe tbody tr th {\n",
       "        vertical-align: top;\n",
       "    }\n",
       "\n",
       "    .dataframe thead th {\n",
       "        text-align: right;\n",
       "    }\n",
       "</style>\n",
       "<table border=\"1\" class=\"dataframe\">\n",
       "  <thead>\n",
       "    <tr style=\"text-align: right;\">\n",
       "      <th></th>\n",
       "      <th>chrom</th>\n",
       "      <th>pos</th>\n",
       "      <th>sample</th>\n",
       "      <th>ref</th>\n",
       "      <th>alt</th>\n",
       "      <th>genotype</th>\n",
       "    </tr>\n",
       "  </thead>\n",
       "  <tbody>\n",
       "    <tr>\n",
       "      <th>0</th>\n",
       "      <td>1</td>\n",
       "      <td>1274541</td>\n",
       "      <td>MDA-MB-157</td>\n",
       "      <td>G</td>\n",
       "      <td>A</td>\n",
       "      <td>0/1</td>\n",
       "    </tr>\n",
       "    <tr>\n",
       "      <th>1</th>\n",
       "      <td>1</td>\n",
       "      <td>1274541</td>\n",
       "      <td>HCC70</td>\n",
       "      <td>G</td>\n",
       "      <td>A</td>\n",
       "      <td>0/1</td>\n",
       "    </tr>\n",
       "    <tr>\n",
       "      <th>2</th>\n",
       "      <td>1</td>\n",
       "      <td>1274541</td>\n",
       "      <td>MDA-MB-175-VII</td>\n",
       "      <td>G</td>\n",
       "      <td>A</td>\n",
       "      <td>1/1</td>\n",
       "    </tr>\n",
       "    <tr>\n",
       "      <th>3</th>\n",
       "      <td>1</td>\n",
       "      <td>1274541</td>\n",
       "      <td>SCaBER</td>\n",
       "      <td>G</td>\n",
       "      <td>A</td>\n",
       "      <td>0/1</td>\n",
       "    </tr>\n",
       "    <tr>\n",
       "      <th>4</th>\n",
       "      <td>1</td>\n",
       "      <td>1274541</td>\n",
       "      <td>5637</td>\n",
       "      <td>G</td>\n",
       "      <td>A</td>\n",
       "      <td>0/1</td>\n",
       "    </tr>\n",
       "    <tr>\n",
       "      <th>...</th>\n",
       "      <td>...</td>\n",
       "      <td>...</td>\n",
       "      <td>...</td>\n",
       "      <td>...</td>\n",
       "      <td>...</td>\n",
       "      <td>...</td>\n",
       "    </tr>\n",
       "    <tr>\n",
       "      <th>128489</th>\n",
       "      <td>X</td>\n",
       "      <td>129339168</td>\n",
       "      <td>AN3 CA</td>\n",
       "      <td>A</td>\n",
       "      <td>G</td>\n",
       "      <td>0/1</td>\n",
       "    </tr>\n",
       "    <tr>\n",
       "      <th>128490</th>\n",
       "      <td>X</td>\n",
       "      <td>129339267</td>\n",
       "      <td>NCI-H841</td>\n",
       "      <td>G</td>\n",
       "      <td>A</td>\n",
       "      <td>0/1</td>\n",
       "    </tr>\n",
       "    <tr>\n",
       "      <th>128491</th>\n",
       "      <td>X</td>\n",
       "      <td>129339267</td>\n",
       "      <td>LN-229</td>\n",
       "      <td>G</td>\n",
       "      <td>A</td>\n",
       "      <td>0/1</td>\n",
       "    </tr>\n",
       "    <tr>\n",
       "      <th>128492</th>\n",
       "      <td>X</td>\n",
       "      <td>129339267</td>\n",
       "      <td>COLO 829</td>\n",
       "      <td>G</td>\n",
       "      <td>A</td>\n",
       "      <td>1/1</td>\n",
       "    </tr>\n",
       "    <tr>\n",
       "      <th>128493</th>\n",
       "      <td>X</td>\n",
       "      <td>129339267</td>\n",
       "      <td>OVCAR-8</td>\n",
       "      <td>G</td>\n",
       "      <td>A</td>\n",
       "      <td>0/1</td>\n",
       "    </tr>\n",
       "  </tbody>\n",
       "</table>\n",
       "<p>128494 rows × 6 columns</p>\n",
       "</div>"
      ],
      "text/plain": [
       "       chrom        pos          sample ref alt genotype\n",
       "0          1    1274541      MDA-MB-157   G   A      0/1\n",
       "1          1    1274541           HCC70   G   A      0/1\n",
       "2          1    1274541  MDA-MB-175-VII   G   A      1/1\n",
       "3          1    1274541          SCaBER   G   A      0/1\n",
       "4          1    1274541            5637   G   A      0/1\n",
       "...      ...        ...             ...  ..  ..      ...\n",
       "128489     X  129339168          AN3 CA   A   G      0/1\n",
       "128490     X  129339267        NCI-H841   G   A      0/1\n",
       "128491     X  129339267          LN-229   G   A      0/1\n",
       "128492     X  129339267        COLO 829   G   A      1/1\n",
       "128493     X  129339267         OVCAR-8   G   A      0/1\n",
       "\n",
       "[128494 rows x 6 columns]"
      ]
     },
     "execution_count": 6,
     "metadata": {},
     "output_type": "execute_result"
    }
   ],
   "source": [
    "msi_exon_calls[\"truncated\"] = msi_exon_calls[msi_exon_calls[\"alt\"]]"
   ]
  }
 ],
 "metadata": {
  "kernelspec": {
   "display_name": "Python 3",
   "language": "python",
   "name": "python3"
  },
  "language_info": {
   "codemirror_mode": {
    "name": "ipython",
    "version": 3
   },
   "file_extension": ".py",
   "mimetype": "text/x-python",
   "name": "python",
   "nbconvert_exporter": "python",
   "pygments_lexer": "ipython3",
   "version": "3.9.4"
  },
  "toc": {
   "base_numbering": 1,
   "nav_menu": {},
   "number_sections": true,
   "sideBar": true,
   "skip_h1_title": false,
   "title_cell": "Table of Contents",
   "title_sidebar": "Contents",
   "toc_cell": false,
   "toc_position": {},
   "toc_section_display": true,
   "toc_window_display": false
  }
 },
 "nbformat": 4,
 "nbformat_minor": 5
}
