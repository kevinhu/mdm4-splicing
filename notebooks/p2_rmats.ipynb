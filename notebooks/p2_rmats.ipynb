{
 "cells": [
  {
   "cell_type": "code",
   "execution_count": 1,
   "metadata": {
    "ExecuteTime": {
     "end_time": "2020-04-27T19:44:58.153789Z",
     "start_time": "2020-04-27T19:44:57.468781Z"
    }
   },
   "outputs": [],
   "source": [
    "import pandas as pd\n",
    "import numpy as np\n",
    "\n",
    "import matplotlib.pyplot as plt\n",
    "\n",
    "from functools import reduce"
   ]
  },
  {
   "cell_type": "markdown",
   "metadata": {},
   "source": [
    "# Experimental setup"
   ]
  },
  {
   "cell_type": "code",
   "execution_count": 2,
   "metadata": {
    "ExecuteTime": {
     "end_time": "2020-04-27T19:44:58.347624Z",
     "start_time": "2020-04-27T19:44:58.342064Z"
    }
   },
   "outputs": [],
   "source": [
    "with open(\"experiments.json\",\"r\") as f:\n",
    "    exp = json.load(f)\n",
    "    \n",
    "    experiments = exp[\"experiments\"]\n",
    "    experiment_ids = exp[\"experiment_ids\"]\n",
    "\n",
    "splice_types = [\"A3SS\",\"A5SS\",\"MXE\",\"RI\",\"SE\"]"
   ]
  },
  {
   "cell_type": "markdown",
   "metadata": {},
   "source": [
    "# Transcripts to genes"
   ]
  },
  {
   "cell_type": "code",
   "execution_count": 3,
   "metadata": {
    "ExecuteTime": {
     "end_time": "2020-04-27T19:45:00.455778Z",
     "start_time": "2020-04-27T19:44:59.671654Z"
    }
   },
   "outputs": [
    {
     "name": "stderr",
     "output_type": "stream",
     "text": [
      "/Users/khu/anaconda3/envs/cenv/lib/python3.7/site-packages/IPython/core/interactiveshell.py:3063: DtypeWarning: Columns (0,4) have mixed types. Specify dtype option on import or set low_memory=False.\n",
      "  interactivity=interactivity, compiler=compiler, result=result)\n"
     ]
    }
   ],
   "source": [
    "t2g = pd.read_csv(\"../data/intermediate/sleuth_diff/ensembl_t2g.csv\",\n",
    "                  names=[\"transcript_id\", \"gene_id\", \"gene_name\",\"entrez_id\",\"duplicate\"]\n",
    "                  )\n",
    "t2g = t2g.dropna()\n",
    "t2g = t2g.astype(str)\n",
    "\n",
    "t2g[\"format_transcript_id\"] = t2g[\"gene_name\"] + \"_\" + t2g[\"transcript_id\"]\n",
    "t2g[\"format_gene_id\"] = t2g[\"gene_name\"] + \"_\" + t2g[\"gene_id\"]\n",
    "t2g[\"gene_id_stable\"] = t2g[\"gene_id\"].str.split(\".\").str[0]\n",
    "\n",
    "gene_name_map = dict(zip(t2g[\"gene_id_stable\"], t2g[\"gene_name\"]))\n"
   ]
  },
  {
   "cell_type": "markdown",
   "metadata": {},
   "source": [
    "# Merge splice types"
   ]
  },
  {
   "cell_type": "code",
   "execution_count": 4,
   "metadata": {
    "ExecuteTime": {
     "end_time": "2020-04-27T19:45:01.558014Z",
     "start_time": "2020-04-27T19:45:01.536002Z"
    }
   },
   "outputs": [],
   "source": [
    "def compute_medians(splices, experiment):\n",
    "    splices[\"control_median\"] = splices[experiments[experiment][0]].median(axis=1)\n",
    "    splices[\"treatment_median\"] = splices[experiments[experiment][1]].median(axis=1)\n",
    "    splices[\"median_foldchange\"] = splices[\"treatment_median\"]/splices[\"control_median\"]\n",
    "\n",
    "def concat_cols(df, cols, delim):\n",
    "    cols_str = [df[x].astype(str) for x in cols]\n",
    "\n",
    "    return reduce(lambda a, b: a + delim + b, cols_str)\n",
    "\n",
    "\n",
    "def load_splices(experiment):\n",
    "    \n",
    "    controls = experiments[experiment][0]\n",
    "    treatments = experiments[experiment][1]\n",
    "    \n",
    "    A3SS = pd.read_csv(\"../data/raw/rmats_output/\"+experiment +\n",
    "                       \"/A3SS.MATS.JC.txt\", sep=\"\\t\", index_col=0)\n",
    "    A5SS = pd.read_csv(\"../data/raw/rmats_output/\"+experiment +\n",
    "                       \"/A5SS.MATS.JC.txt\", sep=\"\\t\", index_col=0)\n",
    "    MXE = pd.read_csv(\"../data/raw/rmats_output/\"+experiment +\n",
    "                      \"/MXE.MATS.JC.txt\", sep=\"\\t\", index_col=0)\n",
    "    RI = pd.read_csv(\"../data/raw/rmats_output/\"+experiment +\n",
    "                     \"/RI.MATS.JC.txt\", sep=\"\\t\", index_col=0)\n",
    "    SE = pd.read_csv(\"../data/raw/rmats_output/\"+experiment +\n",
    "                     \"/SE.MATS.JC.txt\", sep=\"\\t\", index_col=0)\n",
    "\n",
    "    A3SS[\"gene_id\"] = A3SS[\"geneSymbol\"] + \"_\" + A3SS[\"GeneID\"]\n",
    "    A5SS[\"gene_id\"] = A5SS[\"geneSymbol\"] + \"_\" + A5SS[\"GeneID\"]\n",
    "    MXE[\"gene_id\"] = MXE[\"geneSymbol\"] + \"_\" + MXE[\"GeneID\"]\n",
    "    RI[\"gene_id\"] = RI[\"geneSymbol\"] + \"_\" + RI[\"GeneID\"]\n",
    "    SE[\"gene_id\"] = SE[\"geneSymbol\"] + \"_\" + SE[\"GeneID\"]\n",
    "\n",
    "    A3SS[\"exon_id\"] = concat_cols(\n",
    "        A3SS, ['longExonStart_0base',\n",
    "       'longExonEnd', 'shortES', 'shortEE', 'flankingES', 'flankingEE'], \"_\")\n",
    "    A5SS[\"exon_id\"] = concat_cols(\n",
    "        A5SS, ['longExonStart_0base',\n",
    "       'longExonEnd', 'shortES', 'shortEE', 'flankingES', 'flankingEE'], \"_\")\n",
    "    MXE[\"exon_id\"] = concat_cols(\n",
    "        MXE, ['1stExonStart_0base',\n",
    "       '1stExonEnd', '2ndExonStart_0base', '2ndExonEnd', 'upstreamES',\n",
    "       'upstreamEE', 'downstreamES', 'downstreamEE'], \"_\")\n",
    "    RI[\"exon_id\"] = concat_cols(\n",
    "        RI, ['riExonStart_0base',\n",
    "       'riExonEnd', 'upstreamES', 'upstreamEE', 'downstreamES', 'downstreamEE'], \"_\")\n",
    "    SE[\"exon_id\"] = concat_cols(\n",
    "        SE, ['exonStart_0base', 'exonEnd',\n",
    "       'upstreamES', 'upstreamEE', 'downstreamES', 'downstreamEE'], \"_\")\n",
    "\n",
    "    A3SS[\"exon_gene_id\"] = A3SS[\"gene_id\"] + \"_\" + A3SS[\"exon_id\"]\n",
    "    A5SS[\"exon_gene_id\"] = A5SS[\"gene_id\"] + \"_\" + A5SS[\"exon_id\"]\n",
    "    MXE[\"exon_gene_id\"] = MXE[\"gene_id\"] + \"_\" + MXE[\"exon_id\"]\n",
    "    RI[\"exon_gene_id\"] = RI[\"gene_id\"] + \"_\" + RI[\"exon_id\"]\n",
    "    SE[\"exon_gene_id\"] = SE[\"gene_id\"] + \"_\" + SE[\"exon_id\"]\n",
    "\n",
    "    A3SS = A3SS.set_index(\"exon_gene_id\")\n",
    "    A5SS = A5SS.set_index(\"exon_gene_id\")\n",
    "    MXE = MXE.set_index(\"exon_gene_id\")\n",
    "    RI = RI.set_index(\"exon_gene_id\")\n",
    "    SE = SE.set_index(\"exon_gene_id\")\n",
    "\n",
    "    A3SS[\"splice_type\"] = \"A3SS\"\n",
    "    A5SS[\"splice_type\"] = \"A5SS\"\n",
    "    MXE[\"splice_type\"] = \"MXE\"\n",
    "    RI[\"splice_type\"] = \"RI\"\n",
    "    SE[\"splice_type\"] = \"SE\"\n",
    "\n",
    "    merged_cols = [\"splice_type\", \"GeneID\", \"geneSymbol\",\n",
    "                   \"PValue\", \"FDR\", \"IncLevel1\", \"IncLevel2\", \"gene_id\"]\n",
    "\n",
    "    merged_splices = pd.concat([A3SS[merged_cols],\n",
    "                                A5SS[merged_cols],\n",
    "                                MXE[merged_cols],\n",
    "                                RI[merged_cols],\n",
    "                                SE[merged_cols],\n",
    "                                ], axis=0)\n",
    "    \n",
    "    nan_replace = lambda x: x.replace(\"NA\",\"nan\")\n",
    "    \n",
    "    merged_splices[\"IncLevel1\"] = merged_splices[\"IncLevel1\"].apply(nan_replace)\n",
    "    merged_splices[\"IncLevel2\"] = merged_splices[\"IncLevel2\"].apply(nan_replace)\n",
    "    \n",
    "    control_split = merged_splices[\"IncLevel1\"].str.split(\",\").str\n",
    "    treatment_split = merged_splices[\"IncLevel2\"].str.split(\",\").str\n",
    "    \n",
    "    for i in range(len(controls)):\n",
    "        merged_splices[controls[i]] = control_split[i].astype(np.float32)\n",
    "        \n",
    "    for i in range(len(treatments)):\n",
    "        merged_splices[treatments[i]] = treatment_split[i].astype(np.float32)\n",
    "        \n",
    "    merged_splices = merged_splices.drop([\"IncLevel1\", \"IncLevel2\"],axis=1)\n",
    "    \n",
    "    compute_medians(merged_splices,experiment)\n",
    "    \n",
    "    merged_splices = merged_splices.sort_values(by=\"FDR\")\n",
    "\n",
    "    return merged_splices"
   ]
  },
  {
   "cell_type": "code",
   "execution_count": 5,
   "metadata": {
    "ExecuteTime": {
     "end_time": "2020-04-27T19:45:28.647632Z",
     "start_time": "2020-04-27T19:45:18.801728Z"
    }
   },
   "outputs": [],
   "source": [
    "rpl22_oe_rmats = load_splices(\"rpl22_oe\")\n",
    "rpl22l1_oe_rmats = load_splices(\"rpl22l1_oe\")\n",
    "rpl22l1_kd1_rmats = load_splices(\"rpl22l1_kd1\")\n",
    "rpl22l1_kd2_rmats = load_splices(\"rpl22l1_kd2\")\n",
    "rpl22_a_ko1_rmats = load_splices(\"rpl22_a_ko1\")\n",
    "rpl22_a_ko2_rmats = load_splices(\"rpl22_a_ko2\")\n",
    "rpl22_b_ko1_rmats = load_splices(\"rpl22_b_ko1\")\n",
    "rpl22_b_ko2_rmats = load_splices(\"rpl22_b_ko2\")"
   ]
  },
  {
   "cell_type": "code",
   "execution_count": 6,
   "metadata": {
    "ExecuteTime": {
     "end_time": "2020-04-27T19:45:39.848651Z",
     "start_time": "2020-04-27T19:45:33.175069Z"
    }
   },
   "outputs": [],
   "source": [
    "rpl22_oe_rmats.to_csv(\"../data/processed/rmats_merge/rpl22_oe.txt\",sep=\"\\t\")\n",
    "rpl22l1_oe_rmats.to_csv(\"../data/processed/rmats_merge/rpl22l1_oe.txt\",sep=\"\\t\")\n",
    "rpl22l1_kd1_rmats.to_csv(\"../data/processed/rmats_merge/rpl22l1_kd1.txt\",sep=\"\\t\")\n",
    "rpl22l1_kd2_rmats.to_csv(\"../data/processed/rmats_merge/rpl22l1_kd2.txt\",sep=\"\\t\")\n",
    "rpl22_a_ko1_rmats.to_csv(\"../data/processed/rmats_merge/rpl22_a_ko1.txt\",sep=\"\\t\")\n",
    "rpl22_a_ko2_rmats.to_csv(\"../data/processed/rmats_merge/rpl22_a_ko2.txt\",sep=\"\\t\")\n",
    "rpl22_b_ko1_rmats.to_csv(\"../data/processed/rmats_merge/rpl22_b_ko1.txt\",sep=\"\\t\")\n",
    "rpl22_b_ko2_rmats.to_csv(\"../data/processed/rmats_merge/rpl22_b_ko2.txt\",sep=\"\\t\")"
   ]
  }
 ],
 "metadata": {
  "kernelspec": {
   "display_name": "Python 3",
   "language": "python",
   "name": "python3"
  },
  "language_info": {
   "codemirror_mode": {
    "name": "ipython",
    "version": 3
   },
   "file_extension": ".py",
   "mimetype": "text/x-python",
   "name": "python",
   "nbconvert_exporter": "python",
   "pygments_lexer": "ipython3",
   "version": "3.7.7"
  },
  "toc": {
   "base_numbering": 1,
   "nav_menu": {},
   "number_sections": true,
   "sideBar": true,
   "skip_h1_title": false,
   "title_cell": "Table of Contents",
   "title_sidebar": "Contents",
   "toc_cell": false,
   "toc_position": {},
   "toc_section_display": true,
   "toc_window_display": true
  }
 },
 "nbformat": 4,
 "nbformat_minor": 2
}
