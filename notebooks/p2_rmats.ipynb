{
 "cells": [
  {
   "cell_type": "code",
   "execution_count": 1,
   "metadata": {
    "ExecuteTime": {
     "end_time": "2019-11-06T20:45:26.724824Z",
     "start_time": "2019-11-06T20:45:24.528417Z"
    }
   },
   "outputs": [],
   "source": [
    "import pandas as pd\n",
    "import numpy as np\n",
    "\n",
    "import matplotlib.pyplot as plt\n",
    "\n",
    "from functools import reduce"
   ]
  },
  {
   "cell_type": "markdown",
   "metadata": {},
   "source": [
    "# Experimental setup"
   ]
  },
  {
   "cell_type": "code",
   "execution_count": 2,
   "metadata": {
    "ExecuteTime": {
     "end_time": "2019-11-06T20:45:27.248340Z",
     "start_time": "2019-11-06T20:45:27.242978Z"
    }
   },
   "outputs": [],
   "source": [
    "experiments = {\"rpl22_oe\": [\n",
    "    ['LNCaP_GFP_1',\n",
    "     'LNCaP_GFP_2',\n",
    "     'LNCaP_GFP_3'],\n",
    "    ['LNCaP_RPL22_1',\n",
    "     'LNCaP_RPL22_2',\n",
    "     'LNCaP_RPL22_3']\n",
    "],\n",
    "    \"rpl22l1_oe\": [\n",
    "    ['CAL851_GFP_1',\n",
    "     'CAL851_GFP_2',\n",
    "     'CAL851_GFP_3'],\n",
    "    ['CAL851_RPL22L1_1',\n",
    "     'CAL851_RPL22L1_2',\n",
    "     'CAL851_RPL22L1_3']\n",
    "],\n",
    "    \"sh704\": [\n",
    "    ['LNCaP_shLuc_1',\n",
    "     'LNCaP_shLuc_2',\n",
    "     'LNCaP_shLuc_3'],\n",
    "    ['LNCaP_sh704_1',\n",
    "     'LNCaP_sh704_2',\n",
    "     'LNCaP_sh704_3']\n",
    "],\n",
    "    \"sh705\": [\n",
    "    ['LNCaP_shLuc_1',\n",
    "     'LNCaP_shLuc_2',\n",
    "     'LNCaP_shLuc_3'],\n",
    "    ['LNCaP_sh705_1',\n",
    "     'LNCaP_sh705_2',\n",
    "     'LNCaP_sh705_3']\n",
    "]\n",
    "}\n",
    "\n",
    "experiment_ids = [\"rpl22_oe\",\"rpl22l1_oe\",\"sh704\",\"sh705\"]\n",
    "\n",
    "splice_types = [\"A3SS\",\"A5SS\",\"MXE\",\"RI\",\"SE\"]"
   ]
  },
  {
   "cell_type": "markdown",
   "metadata": {},
   "source": [
    "# Transcripts to genes"
   ]
  },
  {
   "cell_type": "code",
   "execution_count": 56,
   "metadata": {
    "ExecuteTime": {
     "end_time": "2019-10-31T20:43:21.725087Z",
     "start_time": "2019-10-31T20:43:20.869748Z"
    }
   },
   "outputs": [],
   "source": [
    "t2g = pd.read_csv(\"../data/raw/kallisto_homo_sapiens/transcripts_to_genes.txt\",\n",
    "                  sep=\"\\t\",\n",
    "                  names=[\"transcript_id\", \"gene_id\", \"gene_name\"]\n",
    "                  )\n",
    "\n",
    "\n",
    "t2g[\"format_transcript_id\"] = t2g[\"gene_name\"] + \"_\" + t2g[\"transcript_id\"]\n",
    "t2g[\"format_gene_id\"] = t2g[\"gene_name\"] + \"_\" + t2g[\"gene_id\"]\n",
    "t2g[\"gene_id_stable\"] = t2g[\"gene_id\"].str.split(\".\").str[0]\n",
    "\n",
    "gene_name_map = dict(zip(t2g[\"gene_id_stable\"], t2g[\"gene_name\"]))\n"
   ]
  },
  {
   "cell_type": "markdown",
   "metadata": {},
   "source": [
    "# Merge splice types"
   ]
  },
  {
   "cell_type": "code",
   "execution_count": 4,
   "metadata": {
    "ExecuteTime": {
     "end_time": "2019-11-07T00:33:10.363571Z",
     "start_time": "2019-11-07T00:33:10.101657Z"
    }
   },
   "outputs": [],
   "source": [
    "experiment = \"sh704\"\n",
    "\n",
    "A3SS = pd.read_csv(\"../data/intermediate/rmats_output/\"+experiment +\n",
    "                   \"/A3SS.MATS.JC.txt\", sep=\"\\t\", index_col=0)\n",
    "A5SS = pd.read_csv(\"../data/intermediate/rmats_output/\"+experiment +\n",
    "                   \"/A5SS.MATS.JC.txt\", sep=\"\\t\", index_col=0)\n",
    "MXE = pd.read_csv(\"../data/intermediate/rmats_output/\"+experiment +\n",
    "                  \"/MXE.MATS.JC.txt\", sep=\"\\t\", index_col=0)\n",
    "RI = pd.read_csv(\"../data/intermediate/rmats_output/\"+experiment +\n",
    "                 \"/RI.MATS.JC.txt\", sep=\"\\t\", index_col=0)\n",
    "SE = pd.read_csv(\"../data/intermediate/rmats_output/\"+experiment +\n",
    "                 \"/SE.MATS.JC.txt\", sep=\"\\t\", index_col=0)"
   ]
  },
  {
   "cell_type": "code",
   "execution_count": 12,
   "metadata": {
    "ExecuteTime": {
     "end_time": "2019-11-07T00:34:52.351363Z",
     "start_time": "2019-11-07T00:34:52.331074Z"
    }
   },
   "outputs": [],
   "source": [
    "def concat_cols(df, cols, delim):\n",
    "    cols_str = [df[x].astype(str) for x in cols]\n",
    "\n",
    "    return reduce(lambda a, b: a + delim + b, cols_str)\n",
    "\n",
    "\n",
    "def load_splices(experiment):\n",
    "    \n",
    "    controls = experiments[experiment][0]\n",
    "    treatments = experiments[experiment][1]\n",
    "    \n",
    "    A3SS = pd.read_csv(\"../data/intermediate/rmats_output/\"+experiment +\n",
    "                       \"/A3SS.MATS.JC.txt\", sep=\"\\t\", index_col=0)\n",
    "    A5SS = pd.read_csv(\"../data/intermediate/rmats_output/\"+experiment +\n",
    "                       \"/A5SS.MATS.JC.txt\", sep=\"\\t\", index_col=0)\n",
    "    MXE = pd.read_csv(\"../data/intermediate/rmats_output/\"+experiment +\n",
    "                      \"/MXE.MATS.JC.txt\", sep=\"\\t\", index_col=0)\n",
    "    RI = pd.read_csv(\"../data/intermediate/rmats_output/\"+experiment +\n",
    "                     \"/RI.MATS.JC.txt\", sep=\"\\t\", index_col=0)\n",
    "    SE = pd.read_csv(\"../data/intermediate/rmats_output/\"+experiment +\n",
    "                     \"/SE.MATS.JC.txt\", sep=\"\\t\", index_col=0)\n",
    "\n",
    "    A3SS[\"gene_id\"] = A3SS[\"geneSymbol\"] + \"_\" + A3SS[\"GeneID\"]\n",
    "    A5SS[\"gene_id\"] = A5SS[\"geneSymbol\"] + \"_\" + A5SS[\"GeneID\"]\n",
    "    MXE[\"gene_id\"] = MXE[\"geneSymbol\"] + \"_\" + MXE[\"GeneID\"]\n",
    "    RI[\"gene_id\"] = RI[\"geneSymbol\"] + \"_\" + RI[\"GeneID\"]\n",
    "    SE[\"gene_id\"] = SE[\"geneSymbol\"] + \"_\" + SE[\"GeneID\"]\n",
    "\n",
    "    A3SS[\"exon_id\"] = concat_cols(\n",
    "        A3SS, ['longExonStart_0base',\n",
    "       'longExonEnd', 'shortES', 'shortEE', 'flankingES', 'flankingEE'], \"_\")\n",
    "    A5SS[\"exon_id\"] = concat_cols(\n",
    "        A5SS, ['longExonStart_0base',\n",
    "       'longExonEnd', 'shortES', 'shortEE', 'flankingES', 'flankingEE'], \"_\")\n",
    "    MXE[\"exon_id\"] = concat_cols(\n",
    "        MXE, ['1stExonStart_0base',\n",
    "       '1stExonEnd', '2ndExonStart_0base', '2ndExonEnd', 'upstreamES',\n",
    "       'upstreamEE', 'downstreamES', 'downstreamEE'], \"_\")\n",
    "    RI[\"exon_id\"] = concat_cols(\n",
    "        RI, ['riExonStart_0base',\n",
    "       'riExonEnd', 'upstreamES', 'upstreamEE', 'downstreamES', 'downstreamEE'], \"_\")\n",
    "    SE[\"exon_id\"] = concat_cols(\n",
    "        SE, ['exonStart_0base', 'exonEnd',\n",
    "       'upstreamES', 'upstreamEE', 'downstreamES', 'downstreamEE'], \"_\")\n",
    "\n",
    "    A3SS[\"exon_gene_id\"] = A3SS[\"gene_id\"] + \"_\" + A3SS[\"exon_id\"]\n",
    "    A5SS[\"exon_gene_id\"] = A5SS[\"gene_id\"] + \"_\" + A5SS[\"exon_id\"]\n",
    "    MXE[\"exon_gene_id\"] = MXE[\"gene_id\"] + \"_\" + MXE[\"exon_id\"]\n",
    "    RI[\"exon_gene_id\"] = RI[\"gene_id\"] + \"_\" + RI[\"exon_id\"]\n",
    "    SE[\"exon_gene_id\"] = SE[\"gene_id\"] + \"_\" + SE[\"exon_id\"]\n",
    "\n",
    "    A3SS = A3SS.set_index(\"exon_gene_id\")\n",
    "    A5SS = A5SS.set_index(\"exon_gene_id\")\n",
    "    MXE = MXE.set_index(\"exon_gene_id\")\n",
    "    RI = RI.set_index(\"exon_gene_id\")\n",
    "    SE = SE.set_index(\"exon_gene_id\")\n",
    "\n",
    "    A3SS[\"splice_type\"] = \"A3SS\"\n",
    "    A5SS[\"splice_type\"] = \"A5SS\"\n",
    "    MXE[\"splice_type\"] = \"MXE\"\n",
    "    RI[\"splice_type\"] = \"RI\"\n",
    "    SE[\"splice_type\"] = \"SE\"\n",
    "\n",
    "    merged_cols = [\"splice_type\", \"GeneID\", \"geneSymbol\",\n",
    "                   \"PValue\", \"FDR\", \"IncLevel1\", \"IncLevel2\", \"gene_id\"]\n",
    "\n",
    "    merged_splices = pd.concat([A3SS[merged_cols],\n",
    "                                A5SS[merged_cols],\n",
    "                                MXE[merged_cols],\n",
    "                                RI[merged_cols],\n",
    "                                SE[merged_cols],\n",
    "                                ], axis=0)\n",
    "    \n",
    "    nan_replace = lambda x: x.replace(\"NA\",\"nan\")\n",
    "    \n",
    "    merged_splices[\"IncLevel1\"] = merged_splices[\"IncLevel1\"].apply(nan_replace)\n",
    "    merged_splices[\"IncLevel2\"] = merged_splices[\"IncLevel2\"].apply(nan_replace)\n",
    "    \n",
    "    control_split = merged_splices[\"IncLevel1\"].str.split(\",\").str\n",
    "    treatment_split = merged_splices[\"IncLevel2\"].str.split(\",\").str\n",
    "    \n",
    "    for i in range(len(controls)):\n",
    "        merged_splices[controls[i]] = control_split[i].astype(np.float32)\n",
    "        \n",
    "    for i in range(len(treatments)):\n",
    "        merged_splices[treatments[i]] = treatment_split[i].astype(np.float32)\n",
    "        \n",
    "    merged_splices = merged_splices.drop([\"IncLevel1\", \"IncLevel2\"],axis=1)\n",
    "    \n",
    "    merged_splices = merged_splices.sort_values(by=\"FDR\")\n",
    "\n",
    "    return merged_splices"
   ]
  },
  {
   "cell_type": "code",
   "execution_count": 13,
   "metadata": {
    "ExecuteTime": {
     "end_time": "2019-11-07T00:34:58.475638Z",
     "start_time": "2019-11-07T00:34:54.168868Z"
    }
   },
   "outputs": [],
   "source": [
    "rpl22_oe_rmats = load_splices(\"rpl22_oe\")\n",
    "rpl22l1_oe_rmats = load_splices(\"rpl22l1_oe\")\n",
    "sh704_rmats = load_splices(\"sh704\")\n",
    "sh705_rmats = load_splices(\"sh705\")"
   ]
  },
  {
   "cell_type": "code",
   "execution_count": 14,
   "metadata": {
    "ExecuteTime": {
     "end_time": "2019-11-07T00:35:07.059757Z",
     "start_time": "2019-11-07T00:35:04.951827Z"
    }
   },
   "outputs": [],
   "source": [
    "rpl22_oe_rmats.to_csv(\"../data/processed/rmats_merge/rpl22_oe.txt\",sep=\"\\t\")\n",
    "rpl22l1_oe_rmats.to_csv(\"../data/processed/rmats_merge/rpl22l1_oe.txt\",sep=\"\\t\")\n",
    "sh704_rmats.to_csv(\"../data/processed/rmats_merge/sh704.txt\",sep=\"\\t\")\n",
    "sh705_rmats.to_csv(\"../data/processed/rmats_merge/sh705.txt\",sep=\"\\t\")"
   ]
  }
 ],
 "metadata": {
  "kernelspec": {
   "display_name": "Python 3",
   "language": "python",
   "name": "python3"
  },
  "language_info": {
   "codemirror_mode": {
    "name": "ipython",
    "version": 3
   },
   "file_extension": ".py",
   "mimetype": "text/x-python",
   "name": "python",
   "nbconvert_exporter": "python",
   "pygments_lexer": "ipython3",
   "version": "3.7.4"
  },
  "toc": {
   "base_numbering": 1,
   "nav_menu": {},
   "number_sections": true,
   "sideBar": true,
   "skip_h1_title": false,
   "title_cell": "Table of Contents",
   "title_sidebar": "Contents",
   "toc_cell": false,
   "toc_position": {},
   "toc_section_display": true,
   "toc_window_display": true
  }
 },
 "nbformat": 4,
 "nbformat_minor": 2
}
