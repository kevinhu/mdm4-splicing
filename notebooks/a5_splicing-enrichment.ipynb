{
 "cells": [
  {
   "cell_type": "code",
   "execution_count": 1,
   "metadata": {
    "ExecuteTime": {
     "end_time": "2020-11-01T03:35:52.608611Z",
     "start_time": "2020-11-01T03:35:50.004497Z"
    }
   },
   "outputs": [],
   "source": [
    "from functools import reduce\n",
    "\n",
    "import ujson\n",
    "import pandas as pd\n",
    "\n",
    "import matplotlib.pyplot as plt\n",
    "from matplotlib_venn import venn2\n",
    "\n",
    "import config\n",
    "config.config_visuals()"
   ]
  },
  {
   "cell_type": "markdown",
   "metadata": {},
   "source": [
    "# Load splicing results"
   ]
  },
  {
   "cell_type": "code",
   "execution_count": 40,
   "metadata": {
    "ExecuteTime": {
     "end_time": "2020-11-01T04:08:16.445486Z",
     "start_time": "2020-11-01T04:08:11.741160Z"
    }
   },
   "outputs": [],
   "source": [
    "def concat_cols(df, cols, delim):\n",
    "    cols_str = [df[x].astype(str) for x in cols]\n",
    "\n",
    "    return reduce(lambda a, b: a + delim + b, cols_str)\n",
    "\n",
    "\n",
    "def load_se(experiment):\n",
    "    se = pd.read_csv(\n",
    "        f\"../data/raw/rmats_output/{experiment}/SE.MATS.JC.txt\", sep=\"\\t\", index_col=0\n",
    "    )\n",
    "\n",
    "    se[\"exon_length\"] = se[\"exonEnd\"] - se[\"exonStart_0base\"]\n",
    "\n",
    "    se[\"exon_id\"] = concat_cols(\n",
    "        se,\n",
    "        [\n",
    "            \"chr\",\n",
    "            \"exonStart_0base\",\n",
    "            \"exonEnd\",\n",
    "            \"upstreamES\",\n",
    "            \"upstreamEE\",\n",
    "            \"downstreamES\",\n",
    "            \"downstreamEE\",\n",
    "        ],\n",
    "        \"_\",\n",
    "    )\n",
    "\n",
    "    se = se.set_index(\"exon_id\")\n",
    "    se = se.sort_values(by=\"FDR\")\n",
    "\n",
    "    return se\n",
    "\n",
    "\n",
    "def load_mxe(experiment):\n",
    "    mxe = pd.read_csv(\n",
    "        f\"../data/raw/rmats_output/{experiment}/MXE.MATS.JC.txt\", sep=\"\\t\", index_col=0\n",
    "    )\n",
    "\n",
    "    mxe[\"exon_length\"] = mxe[\"2ndExonEnd\"] - mxe[\"1stExonStart_0base\"]\n",
    "\n",
    "    mxe[\"exon_id\"] = concat_cols(\n",
    "        mxe,\n",
    "        [\n",
    "            \"chr\",\n",
    "            \"1stExonStart_0base\",\n",
    "            \"1stExonEnd\",\n",
    "            \"2ndExonStart_0base\",\n",
    "            \"2ndExonEnd\",\n",
    "            \"upstreamES\",\n",
    "            \"upstreamEE\",\n",
    "            \"downstreamES\",\n",
    "            \"downstreamEE\",\n",
    "        ],\n",
    "        \"_\",\n",
    "    )\n",
    "\n",
    "    mxe = mxe.set_index(\"exon_id\")\n",
    "    mxe = mxe.sort_values(by=\"FDR\")\n",
    "\n",
    "    return mxe\n",
    "\n",
    "\n",
    "rpl22_oe_se = load_se(\"rpl22_oe\")\n",
    "rpl22l1_oe_se = load_se(\"rpl22l1_oe\")\n",
    "rpl22l1_kd1_se = load_se(\"rpl22l1_kd1\")\n",
    "rpl22l1_kd2_se = load_se(\"rpl22l1_kd2\")\n",
    "rpl22_a_ko1_se = load_se(\"rpl22_a_ko1\")\n",
    "rpl22_a_ko2_se = load_se(\"rpl22_a_ko2\")\n",
    "rpl22_b_ko1_se = load_se(\"rpl22_b_ko1\")\n",
    "rpl22_b_ko2_se = load_se(\"rpl22_b_ko2\")\n",
    "\n",
    "rpl22l1_oe_mxe = load_mxe(\"rpl22l1_oe\")"
   ]
  },
  {
   "cell_type": "code",
   "execution_count": 37,
   "metadata": {
    "ExecuteTime": {
     "end_time": "2020-11-01T04:05:58.300092Z",
     "start_time": "2020-11-01T04:05:58.258770Z"
    }
   },
   "outputs": [],
   "source": [
    "mxe = pd.read_csv(f\"../data/raw/rmats_output/{'rpl22l1_oe'}/MXE.MATS.JC.txt\", sep=\"\\t\", index_col=0)"
   ]
  },
  {
   "cell_type": "code",
   "execution_count": 44,
   "metadata": {
    "ExecuteTime": {
     "end_time": "2020-11-01T04:08:40.765692Z",
     "start_time": "2020-11-01T04:08:40.508816Z"
    }
   },
   "outputs": [
    {
     "data": {
      "text/plain": [
       "(array([5.202e+03, 2.890e+02, 8.400e+01, 3.200e+01, 1.500e+01, 1.400e+01,\n",
       "        7.000e+00, 1.000e+00, 0.000e+00, 3.000e+00]),\n",
       " array([1.130000e+02, 1.939570e+04, 3.867840e+04, 5.796110e+04,\n",
       "        7.724380e+04, 9.652650e+04, 1.158092e+05, 1.350919e+05,\n",
       "        1.543746e+05, 1.736573e+05, 1.929400e+05]),\n",
       " <BarContainer object of 10 artists>)"
      ]
     },
     "execution_count": 44,
     "metadata": {},
     "output_type": "execute_result"
    },
    {
     "data": {
      "image/png": "[encoded data removed]",
      "text/plain": [
       "<Figure size 432x288 with 1 Axes>"
      ]
     },
     "metadata": {},
     "output_type": "display_data"
    }
   ],
   "source": [
    "plt.hist(rpl22l1_oe_mxe[\"exon_length\"])"
   ]
  },
  {
   "cell_type": "markdown",
   "metadata": {},
   "source": [
    "# Extract SE intervals"
   ]
  },
  {
   "cell_type": "code",
   "execution_count": 30,
   "metadata": {
    "ExecuteTime": {
     "end_time": "2020-11-01T03:55:13.576281Z",
     "start_time": "2020-11-01T03:55:12.323425Z"
    }
   },
   "outputs": [
    {
     "name": "stdout",
     "output_type": "stream",
     "text": [
      "Positive exons: 1362\n",
      "Negative exons: 38296\n"
     ]
    },
    {
     "name": "stderr",
     "output_type": "stream",
     "text": [
      "<ipython-input-30-d40287f445d6>:11: UserWarning: Boolean Series key will be reindexed to match DataFrame index.\n",
      "  pos_exons = exon_set[filter_set]\n",
      "<ipython-input-30-d40287f445d6>:12: UserWarning: Boolean Series key will be reindexed to match DataFrame index.\n",
      "  neg_exons = exon_set[~filter_set]\n"
     ]
    },
    {
     "name": "stdout",
     "output_type": "stream",
     "text": [
      "Positive exons: 109\n",
      "Negative exons: 36360\n"
     ]
    },
    {
     "name": "stderr",
     "output_type": "stream",
     "text": [
      "<ipython-input-30-d40287f445d6>:11: UserWarning: Boolean Series key will be reindexed to match DataFrame index.\n",
      "  pos_exons = exon_set[filter_set]\n",
      "<ipython-input-30-d40287f445d6>:12: UserWarning: Boolean Series key will be reindexed to match DataFrame index.\n",
      "  neg_exons = exon_set[~filter_set]\n"
     ]
    },
    {
     "name": "stdout",
     "output_type": "stream",
     "text": [
      "Positive exons: 161\n",
      "Negative exons: 59646\n",
      "Positive exons: 82\n",
      "Negative exons: 54268\n"
     ]
    },
    {
     "name": "stderr",
     "output_type": "stream",
     "text": [
      "<ipython-input-30-d40287f445d6>:11: UserWarning: Boolean Series key will be reindexed to match DataFrame index.\n",
      "  pos_exons = exon_set[filter_set]\n",
      "<ipython-input-30-d40287f445d6>:12: UserWarning: Boolean Series key will be reindexed to match DataFrame index.\n",
      "  neg_exons = exon_set[~filter_set]\n"
     ]
    }
   ],
   "source": [
    "def output_diff_se(exon_set, filter_set, output_name, padding):\n",
    "\n",
    "    exon_set = exon_set.copy(deep=True)\n",
    "\n",
    "    # remove \"chr\" prefixes\n",
    "    exon_set[\"chr\"] = exon_set[\"chr\"].apply(lambda x: x[3:])\n",
    "    exon_set[\"start\"] = exon_set[\"exonStart_0base\"] - padding\n",
    "    exon_set[\"end\"] = exon_set[\"exonEnd\"] + padding\n",
    "    exon_set[\"id\"] = range(len(exon_set))\n",
    "    exon_set[\"id\"] = exon_set[\"geneSymbol\"] + \"_\" + exon_set[\"id\"].astype(str)\n",
    "\n",
    "    pos_exons = exon_set[filter_set]\n",
    "    neg_exons = exon_set[~filter_set]\n",
    "\n",
    "    print(f\"Positive exons: {len(pos_exons)}\")\n",
    "    print(f\"Negative exons: {len(neg_exons)}\")\n",
    "\n",
    "    pos_exons[[\"chr\", \"start\", \"end\", \"id\", \"exon_length\", \"strand\"]].to_csv(\n",
    "        f\"../data/intermediate/extracted_sequences/{output_name}_pos.bed\",\n",
    "        sep=\"\\t\",\n",
    "        header=False,\n",
    "        index=False,\n",
    "    )\n",
    "    neg_exons[[\"chr\", \"start\", \"end\", \"id\", \"exon_length\", \"strand\"]].to_csv(\n",
    "        f\"../data/intermediate/extracted_sequences/{output_name}_neg.bed\",\n",
    "        sep=\"\\t\",\n",
    "        header=False,\n",
    "        index=False,\n",
    "    )\n",
    "\n",
    "    \n",
    "\n",
    "\n",
    "output_diff_se(\n",
    "    rpl22l1_oe_se,\n",
    "    rpl22l1_oe_se[\"FDR\"] < 0.01,\n",
    "    \"RPL22L1_OE_SE\",\n",
    "    padding=100,\n",
    ")\n",
    "output_diff_se(\n",
    "    rpl22l1_kd1_se,\n",
    "    (rpl22l1_kd1_se[\"FDR\"] < 0.01) & (rpl22l1_kd2_se[\"FDR\"] < 0.01),\n",
    "    \"RPL22L1_KD_SE\",\n",
    "    padding=100,\n",
    ")\n",
    "output_diff_se(\n",
    "    rpl22_a_ko1_se,\n",
    "    (rpl22_a_ko1_se[\"FDR\"] < 0.01) & (rpl22_a_ko2_se[\"FDR\"] < 0.01),\n",
    "    \"RPL22_A_KO_SE\",\n",
    "    padding=100,\n",
    ")\n",
    "output_diff_se(\n",
    "    rpl22_b_ko1_se,\n",
    "    (rpl22_b_ko1_se[\"FDR\"] < 0.01) & (rpl22_b_ko2_se[\"FDR\"] < 0.01),\n",
    "    \"RPL22_B_KO_SE\",\n",
    "    padding=100,\n",
    ")"
   ]
  },
  {
   "cell_type": "code",
   "execution_count": 49,
   "metadata": {
    "ExecuteTime": {
     "end_time": "2020-11-01T04:17:58.739265Z",
     "start_time": "2020-11-01T04:17:58.614005Z"
    }
   },
   "outputs": [
    {
     "name": "stdout",
     "output_type": "stream",
     "text": [
      "Positive exons: 2572\n",
      "Negative exons: 8722\n"
     ]
    }
   ],
   "source": [
    "def output_diff_mxe(exon_set, filter_set, output_name, padding):\n",
    "\n",
    "    exon_set = exon_set.copy(deep=True)\n",
    "\n",
    "    # remove \"chr\" prefixes\n",
    "    exon_set[\"chr\"] = exon_set[\"chr\"].apply(lambda x: x[3:])\n",
    "    exon_set[\"start_1\"] = exon_set[\"1stExonStart_0base\"] - padding\n",
    "    exon_set[\"end_1\"] = exon_set[\"1stExonEnd\"] + padding\n",
    "    exon_set[\"start_2\"] = exon_set[\"2ndExonStart_0base\"] - padding\n",
    "    exon_set[\"end_2\"] = exon_set[\"2ndExonEnd\"] + padding\n",
    "    exon_set[\"id\"] = range(len(exon_set))\n",
    "    exon_set[\"id\"] = exon_set[\"geneSymbol\"] + \"_\" + exon_set[\"id\"].astype(str)\n",
    "\n",
    "    pos_exons = exon_set[filter_set]\n",
    "    neg_exons = exon_set[~filter_set]\n",
    "\n",
    "    pos_exons_1 = pos_exons.drop([\"start_2\", \"end_2\"],axis=1)\n",
    "    pos_exons_1 = pos_exons_1.rename({\"start_1\": \"start\", \"end_1\": \"end\"}, axis=1)\n",
    "    pos_exons_2 = pos_exons.drop([\"start_1\", \"end_1\"],axis=1)\n",
    "    pos_exons_2 = pos_exons_2.rename({\"start_2\": \"start\", \"end_2\": \"end\"}, axis=1)\n",
    "\n",
    "    neg_exons_1 = neg_exons.drop([\"start_2\", \"end_2\"],axis=1)\n",
    "    neg_exons_1 = neg_exons_1.rename({\"start_1\": \"start\", \"end_1\": \"end\"}, axis=1)\n",
    "    neg_exons_2 = neg_exons.drop([\"start_1\", \"end_1\"],axis=1)\n",
    "    neg_exons_2 = neg_exons_2.rename({\"start_2\": \"start\", \"end_2\": \"end\"}, axis=1)\n",
    "\n",
    "    pos_exons = pd.concat([pos_exons_1, pos_exons_2], axis=0)\n",
    "    pos_exons[\"id\"] = range(len(pos_exons))\n",
    "    pos_exons[\"id\"] = (\n",
    "        pos_exons[\"geneSymbol\"] + \"_\" + pos_exons[\"id\"].astype(str) + \"_pos\"\n",
    "    )\n",
    "    neg_exons = pd.concat([neg_exons_1, neg_exons_2], axis=0)\n",
    "    neg_exons[\"id\"] = range(len(neg_exons))\n",
    "    neg_exons[\"id\"] = (\n",
    "        neg_exons[\"geneSymbol\"] + \"_\" + neg_exons[\"id\"].astype(str) + \"_pos\"\n",
    "    )\n",
    "\n",
    "    print(f\"Positive exons: {len(pos_exons)}\")\n",
    "    print(f\"Negative exons: {len(neg_exons)}\")\n",
    "\n",
    "    pos_exons[[\"chr\", \"start\", \"end\", \"id\", \"exon_length\", \"strand\"]].to_csv(\n",
    "        f\"../data/intermediate/extracted_sequences/{output_name}_pos.bed\",\n",
    "        sep=\"\\t\",\n",
    "        header=False,\n",
    "        index=False,\n",
    "    )\n",
    "    neg_exons[[\"chr\", \"start\", \"end\", \"id\", \"exon_length\", \"strand\"]].to_csv(\n",
    "        f\"../data/intermediate/extracted_sequences/{output_name}_neg.bed\",\n",
    "        sep=\"\\t\",\n",
    "        header=False,\n",
    "        index=False,\n",
    "    )\n",
    "    \n",
    "output_diff_mxe(\n",
    "    rpl22l1_oe_mxe,\n",
    "    rpl22l1_oe_mxe[\"FDR\"] < 0.01,\n",
    "    \"RPL22L1_OE_MXE\",\n",
    "    padding=100,\n",
    ")"
   ]
  },
  {
   "cell_type": "markdown",
   "metadata": {},
   "source": [
    "# Extract output sequences"
   ]
  },
  {
   "cell_type": "code",
   "execution_count": null,
   "metadata": {
    "ExecuteTime": {
     "start_time": "2020-11-01T04:20:19.394Z"
    }
   },
   "outputs": [],
   "source": [
    "output_names = [\"RPL22L1_OE_SE\",\"RPL22L1_KD_SE\",\"RPL22_A_KO_SE\",\"RPL22_B_KO_SE\",\"RPL22L1_OE_MXE\"]\n",
    "\n",
    "for name in output_names:\n",
    "    !bedtools getfasta -s -name \\\n",
    "    -fi ../data/raw/reference/hg19.fa -bed \\\n",
    "    ../data/intermediate/extracted_sequences/{name}_pos.bed \\\n",
    "    > ../data/intermediate/extracted_sequences/{name}_pos.fasta\n",
    "\n",
    "    !bedtools getfasta -s -name \\\n",
    "        -fi ../data/raw/reference/hg19.fa -bed \\\n",
    "        ../data/intermediate/extracted_sequences/{name}_neg.bed \\\n",
    "        > ../data/intermediate/extracted_sequences/{name}_neg.fasta"
   ]
  }
 ],
 "metadata": {
  "kernelspec": {
   "display_name": "Python 3",
   "language": "python",
   "name": "python3"
  },
  "language_info": {
   "codemirror_mode": {
    "name": "ipython",
    "version": 3
   },
   "file_extension": ".py",
   "mimetype": "text/x-python",
   "name": "python",
   "nbconvert_exporter": "python",
   "pygments_lexer": "ipython3",
   "version": "3.8.3"
  },
  "toc": {
   "base_numbering": 1,
   "nav_menu": {},
   "number_sections": true,
   "sideBar": true,
   "skip_h1_title": false,
   "title_cell": "Table of Contents",
   "title_sidebar": "Contents",
   "toc_cell": false,
   "toc_position": {},
   "toc_section_display": true,
   "toc_window_display": false
  }
 },
 "nbformat": 4,
 "nbformat_minor": 4
}
