{
 "cells": [
  {
   "cell_type": "code",
   "execution_count": 1,
   "metadata": {
    "ExecuteTime": {
     "end_time": "2020-11-01T03:35:52.608611Z",
     "start_time": "2020-11-01T03:35:50.004497Z"
    }
   },
   "outputs": [],
   "source": [
    "import ujson\n",
    "import pandas as pd\n",
    "\n",
    "import matplotlib.pyplot as plt\n",
    "from matplotlib_venn import venn2\n",
    "\n",
    "import config\n",
    "config.config_visuals()"
   ]
  },
  {
   "cell_type": "code",
   "execution_count": 2,
   "metadata": {
    "ExecuteTime": {
     "end_time": "2020-11-01T03:35:55.658935Z",
     "start_time": "2020-11-01T03:35:54.155520Z"
    }
   },
   "outputs": [],
   "source": [
    "rpl22_oe_rmats = pd.read_hdf(\"../data/processed/rmats_merge/rpl22_oe.h5\", key=\"rmats\")\n",
    "rpl22l1_oe_rmats = pd.read_hdf(\n",
    "    \"../data/processed/rmats_merge/rpl22l1_oe.h5\", key=\"rmats\"\n",
    ")\n",
    "rpl22l1_kd1_rmats = pd.read_hdf(\n",
    "    \"../data/processed/rmats_merge/rpl22l1_kd1.h5\", key=\"rmats\"\n",
    ")\n",
    "rpl22l1_kd2_rmats = pd.read_hdf(\n",
    "    \"../data/processed/rmats_merge/rpl22l1_kd2.h5\", key=\"rmats\"\n",
    ")\n",
    "rpl22_a_ko1_rmats = pd.read_hdf(\n",
    "    \"../data/processed/rmats_merge/rpl22_a_ko1.h5\", key=\"rmats\"\n",
    ")\n",
    "rpl22_a_ko2_rmats = pd.read_hdf(\n",
    "    \"../data/processed/rmats_merge/rpl22_a_ko2.h5\", key=\"rmats\"\n",
    ")\n",
    "rpl22_b_ko1_rmats = pd.read_hdf(\n",
    "    \"../data/processed/rmats_merge/rpl22_b_ko1.h5\", key=\"rmats\"\n",
    ")\n",
    "rpl22_b_ko2_rmats = pd.read_hdf(\n",
    "    \"../data/processed/rmats_merge/rpl22_b_ko2.h5\", key=\"rmats\"\n",
    ")\n",
    "\n",
    "rpl22_oe_rmats = rpl22_oe_rmats.rename({\"PValue\": \"pval\", \"FDR\": \"qval\"}, axis=1)\n",
    "rpl22l1_oe_rmats = rpl22l1_oe_rmats.rename({\"PValue\": \"pval\", \"FDR\": \"qval\"}, axis=1)\n",
    "rpl22l1_kd1_rmats = rpl22l1_kd1_rmats.rename({\"PValue\": \"pval\", \"FDR\": \"qval\"}, axis=1)\n",
    "rpl22l1_kd2_rmats = rpl22l1_kd2_rmats.rename({\"PValue\": \"pval\", \"FDR\": \"qval\"}, axis=1)\n",
    "rpl22_a_ko1_rmats = rpl22_a_ko1_rmats.rename({\"PValue\": \"pval\", \"FDR\": \"qval\"}, axis=1)\n",
    "rpl22_a_ko2_rmats = rpl22_a_ko2_rmats.rename({\"PValue\": \"pval\", \"FDR\": \"qval\"}, axis=1)\n",
    "rpl22_b_ko1_rmats = rpl22_b_ko1_rmats.rename({\"PValue\": \"pval\", \"FDR\": \"qval\"}, axis=1)\n",
    "rpl22_b_ko2_rmats = rpl22_b_ko2_rmats.rename({\"PValue\": \"pval\", \"FDR\": \"qval\"}, axis=1)"
   ]
  },
  {
   "cell_type": "code",
   "execution_count": 10,
   "metadata": {
    "ExecuteTime": {
     "end_time": "2020-11-01T03:39:45.826162Z",
     "start_time": "2020-11-01T03:39:41.393892Z"
    }
   },
   "outputs": [],
   "source": [
    "from functools import reduce\n",
    "def concat_cols(df, cols, delim):\n",
    "    cols_str = [df[x].astype(str) for x in cols]\n",
    "\n",
    "    return reduce(lambda a, b: a + delim + b, cols_str)\n",
    "def load_se(experiment):\n",
    "    se = pd.read_csv(\"../data/raw/rmats_output/\"+ experiment +\n",
    "                     \"/SE.MATS.JC.txt\", sep=\"\\t\", index_col=0)\n",
    "    \n",
    "    se[\"exon_length\"] = se[\"exonEnd\"]-se[\"exonStart_0base\"]\n",
    "    \n",
    "    se[\"exon_id\"] = concat_cols(\n",
    "        se, ['chr','exonStart_0base', 'exonEnd',\n",
    "       'upstreamES', 'upstreamEE', 'downstreamES', 'downstreamEE'], \"_\")\n",
    "    \n",
    "    se = se.set_index(\"exon_id\")\n",
    "    se = se.sort_values(by=\"FDR\")\n",
    "    \n",
    "    return se\n",
    "\n",
    "rpl22_oe_se = load_se(\"rpl22_oe\")\n",
    "rpl22l1_oe_se = load_se(\"rpl22l1_oe\")\n",
    "rpl22l1_kd1_se = load_se(\"rpl22l1_kd1\")\n",
    "rpl22l1_kd2_se = load_se(\"rpl22l1_kd2\")\n",
    "rpl22_a_ko1_se = load_se(\"rpl22_a_ko1\")\n",
    "rpl22_a_ko2_se = load_se(\"rpl22_a_ko2\")\n",
    "rpl22_b_ko1_se = load_se(\"rpl22_b_ko1\")\n",
    "rpl22_b_ko2_se = load_se(\"rpl22_b_ko2\")\n",
    "\n"
   ]
  },
  {
   "cell_type": "code",
   "execution_count": 21,
   "metadata": {
    "ExecuteTime": {
     "end_time": "2020-11-01T03:44:06.963794Z",
     "start_time": "2020-11-01T03:44:06.781679Z"
    }
   },
   "outputs": [
    {
     "name": "stdout",
     "output_type": "stream",
     "text": [
      "1362 38296\n"
     ]
    }
   ],
   "source": [
    "diff_exons = rpl22l1_oe_se[\"FDR\"] < 0.01\n",
    "# diff_exons = (rpl22l1_oe_se[\"FDR\"] < 0.01) & ((rpl22_a_ko2_se[\"FDR\"] < 0.01))\n",
    "\n",
    "padding = 100\n",
    "# max_len = 10000\n",
    "\n",
    "exon_set = rpl22l1_oe_se[\n",
    "    [\"chr\", \"exonStart_0base\", \"exonEnd\", \"strand\", \"exon_length\", \"geneSymbol\"]\n",
    "].copy(deep=True)\n",
    "# exon_set = exon_set[exon_set[\"exon_length\"] <= max_len]\n",
    "\n",
    "exon_set[\"chr\"] = exon_set[\"chr\"].apply(lambda x: x[3:])\n",
    "exon_set[\"start\"] = exon_set[\"exonStart_0base\"] - padding\n",
    "exon_set[\"end\"] = exon_set[\"exonEnd\"] + padding\n",
    "exon_set[\"id\"] = range(len(exon_set))\n",
    "exon_set[\"id\"] = exon_set[\"geneSymbol\"] + \"_\" + exon_set[\"id\"].astype(str)\n",
    "\n",
    "pos_exons = exon_set[diff_exons]\n",
    "neg_exons = exon_set[~diff_exons]\n",
    "\n",
    "print(len(pos_exons),len(neg_exons))\n",
    "\n",
    "pos_exons[[\"chr\", \"start\", \"end\", \"id\", \"exon_length\", \"strand\"]].to_csv(\n",
    "    \"../data/intermediate/diff_exons_pos.bed\", sep=\"\\t\", header=False, index=False\n",
    ")\n",
    "neg_exons[[\"chr\", \"start\", \"end\", \"id\", \"exon_length\", \"strand\"]].to_csv(\n",
    "    \"../data/intermediate/diff_exons_neg.bed\", sep=\"\\t\", header=False, index=False\n",
    ")"
   ]
  },
  {
   "cell_type": "code",
   "execution_count": 22,
   "metadata": {
    "ExecuteTime": {
     "end_time": "2020-11-01T03:44:12.120916Z",
     "start_time": "2020-11-01T03:44:08.543266Z"
    }
   },
   "outputs": [],
   "source": [
    "!bedtools getfasta -s -name \\\n",
    "    -fi ../data/raw/reference/hg19.fa -bed \\\n",
    "    ../data/intermediate/diff_exons_pos.bed \\\n",
    "    > ../data/intermediate/diff_exons_pos.fasta\n",
    "\n",
    "!bedtools getfasta -s -name \\\n",
    "    -fi ../data/raw/reference/hg19.fa -bed \\\n",
    "    ../data/intermediate/diff_exons_neg.bed \\\n",
    "    > ../data/intermediate/diff_exons_neg.fasta"
   ]
  }
 ],
 "metadata": {
  "kernelspec": {
   "display_name": "Python 3",
   "language": "python",
   "name": "python3"
  },
  "language_info": {
   "codemirror_mode": {
    "name": "ipython",
    "version": 3
   },
   "file_extension": ".py",
   "mimetype": "text/x-python",
   "name": "python",
   "nbconvert_exporter": "python",
   "pygments_lexer": "ipython3",
   "version": "3.8.3"
  },
  "toc": {
   "base_numbering": 1,
   "nav_menu": {},
   "number_sections": true,
   "sideBar": true,
   "skip_h1_title": false,
   "title_cell": "Table of Contents",
   "title_sidebar": "Contents",
   "toc_cell": false,
   "toc_position": {},
   "toc_section_display": true,
   "toc_window_display": false
  }
 },
 "nbformat": 4,
 "nbformat_minor": 4
}
