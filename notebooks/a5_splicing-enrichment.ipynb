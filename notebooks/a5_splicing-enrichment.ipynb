{
 "cells": [
  {
   "cell_type": "code",
   "execution_count": 1,
   "metadata": {
    "ExecuteTime": {
     "end_time": "2020-11-01T03:35:52.608611Z",
     "start_time": "2020-11-01T03:35:50.004497Z"
    }
   },
   "outputs": [],
   "source": [
    "import ujson\n",
    "import pandas as pd\n",
    "\n",
    "import matplotlib.pyplot as plt\n",
    "from matplotlib_venn import venn2\n",
    "\n",
    "import config\n",
    "config.config_visuals()"
   ]
  },
  {
   "cell_type": "markdown",
   "metadata": {},
   "source": [
    "# Load splicing results"
   ]
  },
  {
   "cell_type": "code",
   "execution_count": 10,
   "metadata": {
    "ExecuteTime": {
     "end_time": "2020-11-01T03:39:45.826162Z",
     "start_time": "2020-11-01T03:39:41.393892Z"
    }
   },
   "outputs": [],
   "source": [
    "from functools import reduce\n",
    "def concat_cols(df, cols, delim):\n",
    "    cols_str = [df[x].astype(str) for x in cols]\n",
    "\n",
    "    return reduce(lambda a, b: a + delim + b, cols_str)\n",
    "\n",
    "def load_se(experiment):\n",
    "    se = pd.read_csv(\"../data/raw/rmats_output/\"+ experiment +\n",
    "                     \"/SE.MATS.JC.txt\", sep=\"\\t\", index_col=0)\n",
    "    \n",
    "    se[\"exon_length\"] = se[\"exonEnd\"]-se[\"exonStart_0base\"]\n",
    "    \n",
    "    se[\"exon_id\"] = concat_cols(\n",
    "        se, ['chr','exonStart_0base', 'exonEnd',\n",
    "       'upstreamES', 'upstreamEE', 'downstreamES', 'downstreamEE'], \"_\")\n",
    "    \n",
    "    se = se.set_index(\"exon_id\")\n",
    "    se = se.sort_values(by=\"FDR\")\n",
    "    \n",
    "    return se\n",
    "\n",
    "rpl22_oe_se = load_se(\"rpl22_oe\")\n",
    "rpl22l1_oe_se = load_se(\"rpl22l1_oe\")\n",
    "rpl22l1_kd1_se = load_se(\"rpl22l1_kd1\")\n",
    "rpl22l1_kd2_se = load_se(\"rpl22l1_kd2\")\n",
    "rpl22_a_ko1_se = load_se(\"rpl22_a_ko1\")\n",
    "rpl22_a_ko2_se = load_se(\"rpl22_a_ko2\")\n",
    "rpl22_b_ko1_se = load_se(\"rpl22_b_ko1\")\n",
    "rpl22_b_ko2_se = load_se(\"rpl22_b_ko2\")\n",
    "\n"
   ]
  },
  {
   "cell_type": "markdown",
   "metadata": {},
   "source": [
    "# Extract exon intervals"
   ]
  },
  {
   "cell_type": "code",
   "execution_count": 30,
   "metadata": {
    "ExecuteTime": {
     "end_time": "2020-11-01T03:55:13.576281Z",
     "start_time": "2020-11-01T03:55:12.323425Z"
    }
   },
   "outputs": [
    {
     "name": "stdout",
     "output_type": "stream",
     "text": [
      "Positive exons: 1362\n",
      "Negative exons: 38296\n"
     ]
    },
    {
     "name": "stderr",
     "output_type": "stream",
     "text": [
      "<ipython-input-30-d40287f445d6>:11: UserWarning: Boolean Series key will be reindexed to match DataFrame index.\n",
      "  pos_exons = exon_set[filter_set]\n",
      "<ipython-input-30-d40287f445d6>:12: UserWarning: Boolean Series key will be reindexed to match DataFrame index.\n",
      "  neg_exons = exon_set[~filter_set]\n"
     ]
    },
    {
     "name": "stdout",
     "output_type": "stream",
     "text": [
      "Positive exons: 109\n",
      "Negative exons: 36360\n"
     ]
    },
    {
     "name": "stderr",
     "output_type": "stream",
     "text": [
      "<ipython-input-30-d40287f445d6>:11: UserWarning: Boolean Series key will be reindexed to match DataFrame index.\n",
      "  pos_exons = exon_set[filter_set]\n",
      "<ipython-input-30-d40287f445d6>:12: UserWarning: Boolean Series key will be reindexed to match DataFrame index.\n",
      "  neg_exons = exon_set[~filter_set]\n"
     ]
    },
    {
     "name": "stdout",
     "output_type": "stream",
     "text": [
      "Positive exons: 161\n",
      "Negative exons: 59646\n",
      "Positive exons: 82\n",
      "Negative exons: 54268\n"
     ]
    },
    {
     "name": "stderr",
     "output_type": "stream",
     "text": [
      "<ipython-input-30-d40287f445d6>:11: UserWarning: Boolean Series key will be reindexed to match DataFrame index.\n",
      "  pos_exons = exon_set[filter_set]\n",
      "<ipython-input-30-d40287f445d6>:12: UserWarning: Boolean Series key will be reindexed to match DataFrame index.\n",
      "  neg_exons = exon_set[~filter_set]\n"
     ]
    }
   ],
   "source": [
    "def output_diff_exons(exon_set, filter_set, output_name, start_col, end_col, padding):\n",
    "\n",
    "    exon_set = exon_set.copy(deep=True)\n",
    "\n",
    "    exon_set[\"chr\"] = exon_set[\"chr\"].apply(lambda x: x[3:])\n",
    "    exon_set[\"start\"] = exon_set[start_col] - padding\n",
    "    exon_set[\"end\"] = exon_set[end_col] + padding\n",
    "    exon_set[\"id\"] = range(len(exon_set))\n",
    "    exon_set[\"id\"] = exon_set[\"geneSymbol\"] + \"_\" + exon_set[\"id\"].astype(str)\n",
    "\n",
    "    pos_exons = exon_set[filter_set]\n",
    "    neg_exons = exon_set[~filter_set]\n",
    "\n",
    "    print(f\"Positive exons: {len(pos_exons)}\")\n",
    "    print(f\"Negative exons: {len(neg_exons)}\")\n",
    "\n",
    "    pos_exons[[\"chr\", \"start\", \"end\", \"id\", \"exon_length\", \"strand\"]].to_csv(\n",
    "        f\"../data/intermediate/extracted_sequences/{output_name}_pos.bed\",\n",
    "        sep=\"\\t\",\n",
    "        header=False,\n",
    "        index=False,\n",
    "    )\n",
    "    neg_exons[[\"chr\", \"start\", \"end\", \"id\", \"exon_length\", \"strand\"]].to_csv(\n",
    "        f\"../data/intermediate/extracted_sequences/{output_name}_neg.bed\",\n",
    "        sep=\"\\t\",\n",
    "        header=False,\n",
    "        index=False,\n",
    "    )\n",
    "\n",
    "\n",
    "output_diff_exons(\n",
    "    rpl22l1_oe_se,\n",
    "    rpl22l1_oe_se[\"FDR\"] < 0.01,\n",
    "    \"RPL22L1_OE_SE\",\n",
    "    \"exonStart_0base\",\n",
    "    \"exonEnd\",\n",
    "    padding=100,\n",
    ")\n",
    "output_diff_exons(\n",
    "    rpl22l1_kd1_se,\n",
    "    (rpl22l1_kd1_se[\"FDR\"] < 0.01) & (rpl22l1_kd2_se[\"FDR\"] < 0.01),\n",
    "    \"RPL22L1_KD_SE\",\n",
    "    \"exonStart_0base\",\n",
    "    \"exonEnd\",\n",
    "    padding=100,\n",
    ")\n",
    "output_diff_exons(\n",
    "    rpl22_a_ko1_se,\n",
    "    (rpl22_a_ko1_se[\"FDR\"] < 0.01) & (rpl22_a_ko2_se[\"FDR\"] < 0.01),\n",
    "    \"RPL22_A_KO_SE\",\n",
    "    \"exonStart_0base\",\n",
    "    \"exonEnd\",\n",
    "    padding=100,\n",
    ")\n",
    "output_diff_exons(\n",
    "    rpl22_b_ko1_se,\n",
    "    (rpl22_b_ko1_se[\"FDR\"] < 0.01) & (rpl22_b_ko2_se[\"FDR\"] < 0.01),\n",
    "    \"RPL22_B_KO_SE\",\n",
    "    \"exonStart_0base\",\n",
    "    \"exonEnd\",\n",
    "    padding=100,\n",
    ")"
   ]
  },
  {
   "cell_type": "markdown",
   "metadata": {},
   "source": [
    "# Extract output sequences"
   ]
  },
  {
   "cell_type": "code",
   "execution_count": 35,
   "metadata": {
    "ExecuteTime": {
     "end_time": "2020-11-01T03:58:26.773092Z",
     "start_time": "2020-11-01T03:58:21.223073Z"
    }
   },
   "outputs": [],
   "source": [
    "output_names = [\"RPL22L1_OE_SE\",\"RPL22L1_KD_SE\",\"RPL22_A_KO_SE\",\"RPL22_B_KO_SE\"]\n",
    "\n",
    "for name in output_names:\n",
    "    !bedtools getfasta -s -name \\\n",
    "    -fi ../data/raw/reference/hg19.fa -bed \\\n",
    "    ../data/intermediate/extracted_sequences/{name}_pos.bed \\\n",
    "    > ../data/intermediate/extracted_sequences/{name}_pos.fasta\n",
    "\n",
    "    !bedtools getfasta -s -name \\\n",
    "        -fi ../data/raw/reference/hg19.fa -bed \\\n",
    "        ../data/intermediate/extracted_sequences/{name}_neg.bed \\\n",
    "        > ../data/intermediate/extracted_sequences/{name}_neg.fasta"
   ]
  }
 ],
 "metadata": {
  "kernelspec": {
   "display_name": "Python 3",
   "language": "python",
   "name": "python3"
  },
  "language_info": {
   "codemirror_mode": {
    "name": "ipython",
    "version": 3
   },
   "file_extension": ".py",
   "mimetype": "text/x-python",
   "name": "python",
   "nbconvert_exporter": "python",
   "pygments_lexer": "ipython3",
   "version": "3.8.3"
  },
  "toc": {
   "base_numbering": 1,
   "nav_menu": {},
   "number_sections": true,
   "sideBar": true,
   "skip_h1_title": false,
   "title_cell": "Table of Contents",
   "title_sidebar": "Contents",
   "toc_cell": false,
   "toc_position": {},
   "toc_section_display": true,
   "toc_window_display": false
  }
 },
 "nbformat": 4,
 "nbformat_minor": 4
}
