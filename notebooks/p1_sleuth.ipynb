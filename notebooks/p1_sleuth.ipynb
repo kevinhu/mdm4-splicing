{
 "cells": [
  {
   "cell_type": "code",
   "execution_count": 1,
   "metadata": {
    "ExecuteTime": {
     "end_time": "2020-10-09T20:39:13.593452Z",
     "start_time": "2020-10-09T20:36:45.344Z"
    },
    "vscode": {
     "languageId": "r"
    }
   },
   "outputs": [
    {
     "name": "stderr",
     "output_type": "stream",
     "text": [
      "'getOption(\"repos\")' replaces Bioconductor standard repositories, see\n",
      "'?repositories' for details\n",
      "\n",
      "replacement repositories:\n",
      "    CRAN: https://cran.r-project.org\n",
      "\n",
      "\n",
      "Bioconductor version 3.14 (BiocManager 1.30.16), R 4.1.2 (2021-11-01)\n",
      "\n",
      "Warning message:\n",
      "“package(s) not installed when version(s) same as current; use `force = TRUE` to\n",
      "  re-install: 'biomaRt'”\n",
      "Old packages: 'AnnotationHub', 'ape', 'aplot', 'BiocFileCache', 'BiocManager',\n",
      "  'blob', 'brew', 'Cairo', 'checkmate', 'class', 'clipr', 'cluster', 'desc',\n",
      "  'DT', 'EnrichmentBrowser', 'enrichplot', 'ensembldb', 'evaluate', 'foreign',\n",
      "  'formatR', 'gdata', 'GenomeInfoDb', 'GenomicFeatures', 'gert', 'ggfun',\n",
      "  'git2r', 'gplots', 'gtools', 'httr', 'hwriter', 'igraph', 'knitr', 'leaflet',\n",
      "  'limma', 'locfit', 'MASS', 'Matrix', 'mgcv', 'mockery', 'nlme', 'nnet',\n",
      "  'openssl', 'parsedate', 'pbdZMQ', 'pkgdown', 'processx', 'ps', 'raster',\n",
      "  'RcppArmadillo', 'RcppEigen', 'RCurl', 'rmarkdown', 'roxygen2', 'rpart',\n",
      "  'rprojroot', 'RSQLite', 'S4Vectors', 'shadowtext', 'sp', 'spatial',\n",
      "  'survival', 'terra', 'testthat', 'tidygraph', 'tidytree', 'tinytex', 'uuid',\n",
      "  'VennDiagram', 'waldo', 'webshot', 'xfun', 'XML', 'yaml'\n",
      "\n",
      "'getOption(\"repos\")' replaces Bioconductor standard repositories, see\n",
      "'?repositories' for details\n",
      "\n",
      "replacement repositories:\n",
      "    CRAN: https://cran.r-project.org\n",
      "\n",
      "\n",
      "Bioconductor version 3.14 (BiocManager 1.30.16), R 4.1.2 (2021-11-01)\n",
      "\n",
      "Warning message:\n",
      "“package(s) not installed when version(s) same as current; use `force = TRUE` to\n",
      "  re-install: 'devtools'”\n",
      "Old packages: 'AnnotationHub', 'ape', 'aplot', 'BiocFileCache', 'BiocManager',\n",
      "  'blob', 'brew', 'Cairo', 'checkmate', 'class', 'clipr', 'cluster', 'desc',\n",
      "  'DT', 'EnrichmentBrowser', 'enrichplot', 'ensembldb', 'evaluate', 'foreign',\n",
      "  'formatR', 'gdata', 'GenomeInfoDb', 'GenomicFeatures', 'gert', 'ggfun',\n",
      "  'git2r', 'gplots', 'gtools', 'httr', 'hwriter', 'igraph', 'knitr', 'leaflet',\n",
      "  'limma', 'locfit', 'MASS', 'Matrix', 'mgcv', 'mockery', 'nlme', 'nnet',\n",
      "  'openssl', 'parsedate', 'pbdZMQ', 'pkgdown', 'processx', 'ps', 'raster',\n",
      "  'RcppArmadillo', 'RcppEigen', 'RCurl', 'rmarkdown', 'roxygen2', 'rpart',\n",
      "  'rprojroot', 'RSQLite', 'S4Vectors', 'shadowtext', 'sp', 'spatial',\n",
      "  'survival', 'terra', 'testthat', 'tidygraph', 'tidytree', 'tinytex', 'uuid',\n",
      "  'VennDiagram', 'waldo', 'webshot', 'xfun', 'XML', 'yaml'\n",
      "\n",
      "Skipping install of 'sleuth' from a github remote, the SHA1 (1f3760a8) has not changed since last install.\n",
      "  Use `force = TRUE` to force installation\n",
      "\n"
     ]
    }
   ],
   "source": [
    "# install packages\n",
    "if (!requireNamespace(\"BiocManager\", quietly = TRUE))\n",
    "  install.packages(\"BiocManager\")\n",
    "\n",
    "BiocManager::install(\"biomaRt\")\n",
    "BiocManager::install(\"devtools\")\n",
    "devtools::install_github(\"pachterlab/sleuth\")\n"
   ]
  },
  {
   "cell_type": "code",
   "execution_count": 2,
   "metadata": {
    "ExecuteTime": {
     "end_time": "2020-10-09T22:50:44.114373Z",
     "start_time": "2020-10-09T22:50:43.835Z"
    },
    "vscode": {
     "languageId": "r"
    }
   },
   "outputs": [],
   "source": [
    "# load packages\n",
    "library(sleuth)\n",
    "library(\"biomaRt\")\n",
    "\n",
    "# set working directory\n",
    "setwd(\"../data/intermediate/kallisto_quant/\")"
   ]
  },
  {
   "cell_type": "code",
   "execution_count": 3,
   "metadata": {
    "ExecuteTime": {
     "end_time": "2020-10-09T22:50:50.633081Z",
     "start_time": "2020-10-09T22:50:50.563Z"
    },
    "vscode": {
     "languageId": "r"
    }
   },
   "outputs": [],
   "source": [
    "# define experiments\n",
    "experiment_setup <- read.table(file.path(\"../experiment_setup.txt\"), header = TRUE, stringsAsFactors=FALSE)\n",
    "experiment_setup <- dplyr::mutate(experiment_setup, path = experiment_setup$sample)\n",
    "\n",
    "# make experiment summaries\n",
    "rpl22_oe_setup <- experiment_setup[c(1,2,3,4,5,6),]\n",
    "rpl22l1_oe_setup <- experiment_setup[c(7,8,9,10,11,12),]\n",
    "sh704_setup <- experiment_setup[c(13,14,15,16,17,18),]\n",
    "sh705_setup <- experiment_setup[c(13,14,15,19,20,21),]\n",
    "rpl22_a_ko1_setup <- experiment_setup[c(22,23,24,25,26,27),]\n",
    "rpl22_a_ko2_setup <- experiment_setup[c(22,23,24,28,29,30),]\n",
    "rpl22_b_ko1_setup <- experiment_setup[c(31,32,33,34,35,36),]\n",
    "rpl22_b_ko2_setup <- experiment_setup[c(31,32,33,37,38,39),]"
   ]
  },
  {
   "cell_type": "code",
   "execution_count": null,
   "metadata": {
    "vscode": {
     "languageId": "r"
    }
   },
   "outputs": [],
   "source": [
    "# add Ensembl gene-to-transcript mappings\n",
    "mart <- biomaRt::useMart(biomart = \"ENSEMBL_MART_ENSEMBL\",\n",
    "                         host=\"feb2014.archive.ensembl.org\",\n",
    "                         dataset = \"hsapiens_gene_ensembl\")\n",
    "\n",
    "t2g <- biomaRt::getBM(attributes = c(\"ensembl_transcript_id\", \n",
    "                                     \"ensembl_gene_id\",\n",
    "                                     \"ensembl_peptide_id\",\n",
    "                                     \"hgnc_symbol\",\n",
    "                                     \"entrezgene\",\n",
    "                                     \"transcript_biotype\"), \n",
    "                      mart = mart)\n",
    "\n",
    "t2g <- dplyr::rename(t2g, \n",
    "                     target_id = ensembl_transcript_id,\n",
    "                     ens_gene = ensembl_gene_id, \n",
    "                     hgnc_gene = hgnc_symbol, \n",
    "                     entrez_gene = entrezgene)\n",
    "t2g <- dplyr::select(t2g, c('target_id', 'ens_gene', 'hgnc_gene', 'entrez_gene', 'transcript_biotype'))\n",
    "\n",
    "t2g$duplicate_transcript <- duplicated(t2g$target_id)\n",
    "\n",
    "t2g <- t2g[which(!t2g$duplicate_transcript),]\n",
    "\n",
    "write.table(t2g, file = \"../sleuth_diff/ensembl_t2g.csv\", sep=\",\",col.names=TRUE, row.names=TRUE)"
   ]
  },
  {
   "cell_type": "code",
   "execution_count": null,
   "metadata": {
    "vscode": {
     "languageId": "r"
    }
   },
   "outputs": [],
   "source": [
    "run_sleuth <- function(setup, condition_name, output_name){\n",
    "  \n",
    "  # make Sleuth object\n",
    "  so <- sleuth_prep(setup, \n",
    "                    extra_bootstrap_summary = TRUE, \n",
    "                    read_bootstrap_tpm=TRUE,\n",
    "                    target_mapping = t2g,\n",
    "                    aggregation_column = 'entrez_gene'\n",
    "  )\n",
    "  \n",
    "  # fit models\n",
    "  so <- sleuth_fit(so, ~condition, 'full')\n",
    "  so <- sleuth_fit(so, ~1, 'reduced')\n",
    "  \n",
    "  # run likelihood ratio tests\n",
    "  so <- sleuth_wt(so, condition_name)\n",
    "  \n",
    "  # extract and save gene results\n",
    "  table <- sleuth_results(so, condition_name, 'wt', show_all = TRUE)\n",
    "  write.table(table, \n",
    "              file = paste(\"../sleuth_diff/\",output_name,\"_genes.csv\",sep=\"\"),\n",
    "              sep=\",\",\n",
    "              col.names=TRUE,\n",
    "              row.names=TRUE\n",
    "              )\n",
    "  \n",
    "  # extract and save transcript results\n",
    "  table <- sleuth_results(so, condition_name, 'wt', show_all = TRUE, pval_aggregate=FALSE)\n",
    "  write.table(table, \n",
    "              file = paste(\"../sleuth_diff/\",output_name,\"_transcripts.csv\",sep=\"\"),\n",
    "              sep=\",\",\n",
    "              col.names=TRUE,\n",
    "              row.names=TRUE\n",
    "              )\n",
    "}"
   ]
  },
  {
   "cell_type": "code",
   "execution_count": null,
   "metadata": {
    "vscode": {
     "languageId": "r"
    }
   },
   "outputs": [],
   "source": [
    "# run sleuth\n",
    "run_sleuth(rpl22_oe_setup,'conditionLNCaP_RPL22','rpl22_oe')\n",
    "run_sleuth(rpl22l1_oe_setup,'conditionCAL851_RPL22L1','rpl22l1_oe')\n",
    "run_sleuth(sh704_setup,'conditionLNCaP_shLuc','rpl22l1_kd1')\n",
    "run_sleuth(sh705_setup,'conditionLNCaP_shLuc','rpl22l1_kd2')\n",
    "run_sleuth(rpl22_a_ko1_setup,'conditionNCIH2110_RPL22-1A1','rpl22_a_ko1')\n",
    "run_sleuth(rpl22_a_ko2_setup,'conditionNCIH2110_RPL22-4A1','rpl22_a_ko2')\n",
    "run_sleuth(rpl22_b_ko1_setup,'conditionZR751_RPL22-1A1','rpl22_b_ko1')\n",
    "run_sleuth(rpl22_b_ko2_setup,'conditionZR751_RPL22-4A1','rpl22_b_ko2')\n"
   ]
  }
 ],
 "metadata": {
  "kernelspec": {
   "display_name": "R",
   "language": "R",
   "name": "ir"
  },
  "language_info": {
   "codemirror_mode": "r",
   "file_extension": ".r",
   "mimetype": "text/x-r-source",
   "name": "R",
   "pygments_lexer": "r",
   "version": "4.1.2"
  },
  "toc": {
   "base_numbering": 1,
   "nav_menu": {},
   "number_sections": true,
   "sideBar": true,
   "skip_h1_title": false,
   "title_cell": "Table of Contents",
   "title_sidebar": "Contents",
   "toc_cell": false,
   "toc_position": {},
   "toc_section_display": true,
   "toc_window_display": false
  }
 },
 "nbformat": 4,
 "nbformat_minor": 4
}
