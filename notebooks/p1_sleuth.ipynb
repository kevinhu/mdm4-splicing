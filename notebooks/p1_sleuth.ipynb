{
 "cells": [
  {
   "cell_type": "code",
   "execution_count": null,
   "metadata": {
    "ExecuteTime": {
     "end_time": "2020-10-09T20:39:13.593452Z",
     "start_time": "2020-10-09T20:36:45.344Z"
    }
   },
   "outputs": [],
   "source": [
    "# install packages\n",
    "if (!requireNamespace(\"BiocManager\", quietly = TRUE))\n",
    "  install.packages(\"BiocManager\")\n",
    "\n",
    "BiocManager::install(\"biomaRt\")\n",
    "BiocManager::install(\"devtools\")\n",
    "BiocManager::install(\"pachterlab/sleuth\")\n"
   ]
  },
  {
   "cell_type": "code",
   "execution_count": null,
   "metadata": {
    "ExecuteTime": {
     "end_time": "2020-10-09T22:50:44.114373Z",
     "start_time": "2020-10-09T22:50:43.835Z"
    }
   },
   "outputs": [],
   "source": [
    "# load packages\n",
    "library(sleuth)\n",
    "library(\"biomaRt\")\n",
    "\n",
    "# set working directory\n",
    "setwd(\"../data/intermediate/kallisto_quant/\")"
   ]
  },
  {
   "cell_type": "code",
   "execution_count": null,
   "metadata": {
    "ExecuteTime": {
     "end_time": "2020-10-09T22:50:50.633081Z",
     "start_time": "2020-10-09T22:50:50.563Z"
    }
   },
   "outputs": [],
   "source": [
    "# define experiments\n",
    "experiment_setup <- read.table(file.path(\"../experiment_setup.txt\"), header = TRUE, stringsAsFactors=FALSE)\n",
    "experiment_setup <- dplyr::mutate(experiment_setup, path = experiment_setup$sample)\n",
    "\n",
    "# make experiment summaries\n",
    "rpl22_oe_setup <- experiment_setup[c(1,2,3,4,5,6),]\n",
    "rpl22l1_oe_setup <- experiment_setup[c(7,8,9,10,11,12),]\n",
    "sh704_setup <- experiment_setup[c(13,14,15,16,17,18),]\n",
    "sh705_setup <- experiment_setup[c(13,14,15,19,20,21),]\n",
    "rpl22_a_ko1_setup <- experiment_setup[c(22,23,24,25,26,27),]\n",
    "rpl22_a_ko2_setup <- experiment_setup[c(22,23,24,28,29,30),]\n",
    "rpl22_b_ko1_setup <- experiment_setup[c(31,32,33,34,35,36),]\n",
    "rpl22_b_ko2_setup <- experiment_setup[c(31,32,33,37,38,39),]"
   ]
  },
  {
   "cell_type": "code",
   "execution_count": null,
   "metadata": {},
   "outputs": [],
   "source": [
    "# add Ensembl gene-to-transcript mappings\n",
    "mart <- biomaRt::useMart(biomart = \"ENSEMBL_MART_ENSEMBL\",\n",
    "                         host=\"feb2014.archive.ensembl.org\",\n",
    "                         dataset = \"hsapiens_gene_ensembl\")\n",
    "\n",
    "t2g <- biomaRt::getBM(attributes = c(\"ensembl_transcript_id\", \n",
    "                                     \"ensembl_gene_id\",\n",
    "                                     \"ensembl_peptide_id\",\n",
    "                                     \"hgnc_symbol\",\n",
    "                                     \"entrezgene\",\n",
    "                                     \"transcript_biotype\"), \n",
    "                      mart = mart)\n",
    "\n",
    "t2g <- dplyr::rename(t2g, \n",
    "                     target_id = ensembl_transcript_id,\n",
    "                     ens_gene = ensembl_gene_id, \n",
    "                     hgnc_gene = hgnc_symbol, \n",
    "                     entrez_gene = entrezgene)\n",
    "t2g <- dplyr::select(t2g, c('target_id', 'ens_gene', 'hgnc_gene', 'entrez_gene', 'transcript_biotype'))\n",
    "\n",
    "t2g$duplicate_transcript <- duplicated(t2g$target_id)\n",
    "\n",
    "t2g <- t2g[which(!t2g$duplicate_transcript),]\n",
    "\n",
    "write.table(t2g, file = \"../sleuth_diff/ensembl_t2g.csv\", sep=\",\",col.names=TRUE, row.names=TRUE)"
   ]
  },
  {
   "cell_type": "code",
   "execution_count": null,
   "metadata": {},
   "outputs": [],
   "source": [
    "run_sleuth <- function(setup, condition_name, output_name){\n",
    "  \n",
    "  # make Sleuth object\n",
    "  so <- sleuth_prep(setup, \n",
    "                    extra_bootstrap_summary = TRUE, \n",
    "                    read_bootstrap_tpm=TRUE,\n",
    "                    target_mapping = t2g,\n",
    "                    aggregation_column = 'entrez_gene'\n",
    "  )\n",
    "  \n",
    "  # fit models\n",
    "  so <- sleuth_fit(so, ~condition, 'full')\n",
    "  so <- sleuth_fit(so, ~1, 'reduced')\n",
    "  \n",
    "  # run likelihood ratio tests\n",
    "  so <- sleuth_wt(so, condition_name)\n",
    "  \n",
    "  # extract and save gene results\n",
    "  table <- sleuth_results(so, condition_name, 'wt', show_all = TRUE)\n",
    "  write.table(table, \n",
    "              file = paste(\"../sleuth_diff/\",output_name,\"_genes.csv\",sep=\"\"),\n",
    "              sep=\",\",\n",
    "              col.names=TRUE,\n",
    "              row.names=TRUE\n",
    "              )\n",
    "  \n",
    "  # extract and save transcript results\n",
    "  table <- sleuth_results(so, condition_name, 'wt', show_all = TRUE, pval_aggregate=FALSE)\n",
    "  write.table(table, \n",
    "              file = paste(\"../sleuth_diff/\",output_name,\"_transcripts.csv\",sep=\"\"),\n",
    "              sep=\",\",\n",
    "              col.names=TRUE,\n",
    "              row.names=TRUE\n",
    "              )\n",
    "}"
   ]
  },
  {
   "cell_type": "code",
   "execution_count": null,
   "metadata": {},
   "outputs": [],
   "source": [
    "# run sleuth\n",
    "run_sleuth(rpl22_oe_setup,'conditionLNCaP_RPL22','rpl22_oe')\n",
    "run_sleuth(rpl22l1_oe_setup,'conditionCAL851_RPL22L1','rpl22l1_oe')\n",
    "run_sleuth(sh704_setup,'conditionLNCaP_shLuc','rpl22l1_kd1')\n",
    "run_sleuth(sh705_setup,'conditionLNCaP_shLuc','rpl22l1_kd2')\n",
    "run_sleuth(rpl22_a_ko1_setup,'conditionNCIH2110_RPL22-1A1','rpl22_a_ko1')\n",
    "run_sleuth(rpl22_a_ko2_setup,'conditionNCIH2110_RPL22-4A1','rpl22_a_ko2')\n",
    "run_sleuth(rpl22_b_ko1_setup,'conditionZR751_RPL22-1A1','rpl22_b_ko1')\n",
    "run_sleuth(rpl22_b_ko2_setup,'conditionZR751_RPL22-4A1','rpl22_b_ko2')\n"
   ]
  }
 ],
 "metadata": {
  "kernelspec": {
   "display_name": "R",
   "language": "R",
   "name": "ir"
  },
  "language_info": {
   "codemirror_mode": "r",
   "file_extension": ".r",
   "mimetype": "text/x-r-source",
   "name": "R",
   "pygments_lexer": "r",
   "version": "3.6.0"
  },
  "toc": {
   "base_numbering": 1,
   "nav_menu": {},
   "number_sections": true,
   "sideBar": true,
   "skip_h1_title": false,
   "title_cell": "Table of Contents",
   "title_sidebar": "Contents",
   "toc_cell": false,
   "toc_position": {},
   "toc_section_display": true,
   "toc_window_display": false
  }
 },
 "nbformat": 4,
 "nbformat_minor": 4
}
