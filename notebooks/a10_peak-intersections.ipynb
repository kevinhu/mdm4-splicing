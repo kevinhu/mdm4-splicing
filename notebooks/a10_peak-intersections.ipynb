{
 "cells": [
  {
   "cell_type": "code",
   "execution_count": 1,
   "id": "06e24a30",
   "metadata": {
    "ExecuteTime": {
     "end_time": "2022-01-15T01:24:18.697538Z",
     "start_time": "2022-01-15T01:24:16.827014Z"
    }
   },
   "outputs": [],
   "source": [
    "import pandas as pd"
   ]
  },
  {
   "cell_type": "code",
   "execution_count": 12,
   "id": "ad6affff",
   "metadata": {
    "ExecuteTime": {
     "end_time": "2022-01-15T01:27:05.325616Z",
     "start_time": "2022-01-15T01:27:05.263682Z"
    }
   },
   "outputs": [],
   "source": [
    "peak_anno = pd.read_csv(\"../data/raw/peak_anno.csv\", index_col=0)\n",
    "annotations_edb = pd.read_csv(\"../data/raw/peak_gene_ids.csv\", index_col=0)\n",
    "\n",
    "entrez_to_ensembl = dict(zip(annotations_edb[\"ENTREZID\"], annotations_edb[\"GENEID\"]))\n",
    "entrez_to_name = dict(zip(annotations_edb[\"ENTREZID\"], annotations_edb[\"GENENAME\"]))\n",
    "\n",
    "peak_anno[\"ensembl_gene\"] = peak_anno[\"geneId\"].apply(entrez_to_ensembl.get)\n",
    "peak_anno[\"gene_name\"] = peak_anno[\"geneId\"].apply(entrez_to_name.get)\n",
    "\n",
    "peak_ensembl_genes = set(peak_anno[\"ensembl_gene\"])"
   ]
  }
 ],
 "metadata": {
  "kernelspec": {
   "display_name": "Python 3 (ipykernel)",
   "language": "python",
   "name": "python3"
  },
  "language_info": {
   "codemirror_mode": {
    "name": "ipython",
    "version": 3
   },
   "file_extension": ".py",
   "mimetype": "text/x-python",
   "name": "python",
   "nbconvert_exporter": "python",
   "pygments_lexer": "ipython3",
   "version": "3.9.9"
  },
  "toc": {
   "base_numbering": 1,
   "nav_menu": {},
   "number_sections": true,
   "sideBar": true,
   "skip_h1_title": false,
   "title_cell": "Table of Contents",
   "title_sidebar": "Contents",
   "toc_cell": false,
   "toc_position": {},
   "toc_section_display": true,
   "toc_window_display": false
  }
 },
 "nbformat": 4,
 "nbformat_minor": 5
}
