{
 "cells": [
  {
   "cell_type": "code",
   "execution_count": 1,
   "metadata": {
    "ExecuteTime": {
     "end_time": "2020-11-15T00:57:24.741604Z",
     "start_time": "2020-11-15T00:57:23.482516Z"
    }
   },
   "outputs": [],
   "source": [
    "import numpy as np\n",
    "import pandas as pd\n",
    "\n",
    "import matplotlib.pyplot as plt\n",
    "import matplotlib as mpl\n",
    "import seaborn as sns\n",
    "\n",
    "import cancer_data"
   ]
  },
  {
   "cell_type": "code",
   "execution_count": 52,
   "metadata": {
    "ExecuteTime": {
     "end_time": "2020-11-15T01:16:33.888625Z",
     "start_time": "2020-11-15T01:16:33.884652Z"
    }
   },
   "outputs": [],
   "source": [
    "def process_tcga_splicing(tcga_splicing):\n",
    "    \n",
    "    # keep first four identifier fields\n",
    "    tcga_splicing.index = tcga_splicing.index.map(lambda x: \"-\".join(x.split(\"-\")[:4]))\n",
    "    # remove last letter\n",
    "    tcga_splicing.index = tcga_splicing.index.map(lambda x: x[:-1])\n",
    "    tcga_splicing = tcga_splicing[tcga_splicing.index.map(lambda x: x[-2:] != \"11\")]\n",
    "\n",
    "    tcga_splicing = tcga_splicing.loc[~tcga_splicing.index.duplicated(keep=\"first\")]\n",
    "    \n",
    "    return tcga_splicing"
   ]
  },
  {
   "cell_type": "code",
   "execution_count": 53,
   "metadata": {
    "ExecuteTime": {
     "end_time": "2020-11-15T01:20:31.668396Z",
     "start_time": "2020-11-15T01:16:34.791721Z"
    }
   },
   "outputs": [],
   "source": [
    "tcga_se = cancer_data.load(\"tcga_se\")\n",
    "tcga_a3ss = cancer_data.load(\"tcga_a3ss\")\n",
    "\n",
    "tcga_genex = cancer_data.load(\"tcga_normalized_gene_expression\")\n",
    "tcga_cn_continuous = cancer_data.load(\"tcga_cn_continuous\")\n",
    "tcga_cn_thresholded = cancer_data.load(\"tcga_cn_thresholded\")\n",
    "tcga_mutations = cancer_data.load(\"tcga_mutations\")\n",
    "tcga_msi = cancer_data.load(\"tcga_msi\")\n",
    "\n",
    "tcga_annotations = cancer_data.load(\"tcga_annotations\")\n",
    "\n",
    "tcga_se = process_tcga_splicing(tcga_se)\n",
    "tcga_a3ss = process_tcga_splicing(tcga_a3ss)"
   ]
  },
  {
   "cell_type": "code",
   "execution_count": 54,
   "metadata": {
    "ExecuteTime": {
     "end_time": "2020-11-15T01:21:14.029327Z",
     "start_time": "2020-11-15T01:21:13.945349Z"
    }
   },
   "outputs": [],
   "source": [
    "rpl22_tcga = pd.read_csv(\"../data/raw/rpl22.tcga.data.csv\")\n",
    "\n",
    "rpl22_tcga = rpl22_tcga.dropna(subset=[\"sampleid\"])\n",
    "rpl22_tcga = rpl22_tcga.set_index(\"sampleid\")\n",
    "rpl22_tcga.index = rpl22_tcga.index.map(lambda x: x[:15])\n",
    "\n",
    "rpl22_mut = rpl22_tcga[\"rpl22mut.mc3.k15\"].dropna()"
   ]
  },
  {
   "cell_type": "markdown",
   "metadata": {},
   "source": [
    "# Aggregate attributes"
   ]
  },
  {
   "cell_type": "markdown",
   "metadata": {},
   "source": [
    "## Tumor sample info"
   ]
  },
  {
   "cell_type": "code",
   "execution_count": 55,
   "metadata": {
    "ExecuteTime": {
     "end_time": "2020-11-15T01:21:15.356395Z",
     "start_time": "2020-11-15T01:21:15.352352Z"
    }
   },
   "outputs": [],
   "source": [
    "select_sample_info = tcga_annotations[\n",
    "    [\"sample_type\", \"_primary_disease\", \"abbreviated_disease\"]\n",
    "]\n",
    "\n",
    "select_sample_info.columns = [\"Sample_type\", \"Primary_disease\", \"Abbreviated_disease\"]"
   ]
  },
  {
   "cell_type": "markdown",
   "metadata": {},
   "source": [
    "## Mutations"
   ]
  },
  {
   "cell_type": "code",
   "execution_count": 56,
   "metadata": {
    "ExecuteTime": {
     "end_time": "2020-11-15T01:21:16.646278Z",
     "start_time": "2020-11-15T01:21:16.641094Z"
    }
   },
   "outputs": [],
   "source": [
    "select_mutations = rpl22_tcga[[\"TP53mut\", \"rpl22mut.mc3.k15\", \"rpl22mut.mc3.all\"]]\n",
    "select_mutations.columns = [\n",
    "    \"TP53_mutation_type\",\n",
    "    \"RPL22_k15fs_mutation\",\n",
    "    \"RPL22_any_mutation\",\n",
    "]"
   ]
  },
  {
   "cell_type": "markdown",
   "metadata": {},
   "source": [
    "## MSI"
   ]
  },
  {
   "cell_type": "code",
   "execution_count": 57,
   "metadata": {
    "ExecuteTime": {
     "end_time": "2020-11-15T01:21:18.323848Z",
     "start_time": "2020-11-15T01:21:18.313806Z"
    }
   },
   "outputs": [],
   "source": [
    "select_msi = tcga_msi[[\"MANTIS Score\"]].copy()\n",
    "select_msi[\"MSI\"] = select_msi[\"MANTIS Score\"] > 0.4\n",
    "\n",
    "select_msi.columns = [\"MANTIS_score\", \"MSI\"]"
   ]
  },
  {
   "cell_type": "markdown",
   "metadata": {},
   "source": [
    "## Exonusage"
   ]
  },
  {
   "cell_type": "code",
   "execution_count": 58,
   "metadata": {
    "ExecuteTime": {
     "end_time": "2020-11-15T01:21:19.714539Z",
     "start_time": "2020-11-15T01:21:19.575727Z"
    }
   },
   "outputs": [],
   "source": [
    "select_se = [\n",
    "    \"ENSG00000198625.8_ES_1_204501318:204501374:204506557:204506625:204507336:204507436_204506557:204506625\",\n",
    "    \"ENSG00000143569.14_ES_1_154241382:154241430:154241837:154241888:154242675:154243040_154241837:154241888\",\n",
    "]\n",
    "\n",
    "select_a3ss = [\n",
    "    \"ENSG00000163584.13_A3_3_170586086:170586168:170585801:170585923:170585801:170585990_170585923:170585990\",\n",
    "]\n",
    "\n",
    "select_exonusage = pd.concat([tcga_se[select_se],tcga_a3ss[select_a3ss]],axis=1)\n",
    "select_exonusage.columns = [\n",
    "    \"MDM4_exon_6_inclusion\",\n",
    "    \"RPL22L1_exon_3A_inclusion\",\n",
    "    \"UBAP2L_exon_29_inclusion\",\n",
    "]\n",
    "\n",
    "select_exonusage[\"RPL22L1_exon_3A_inclusion\"] = 1-select_exonusage[\"RPL22L1_exon_3A_inclusion\"]"
   ]
  },
  {
   "cell_type": "markdown",
   "metadata": {},
   "source": [
    "## Gene expression"
   ]
  },
  {
   "cell_type": "code",
   "execution_count": 59,
   "metadata": {
    "ExecuteTime": {
     "end_time": "2020-11-15T01:21:21.539126Z",
     "start_time": "2020-11-15T01:21:21.528558Z"
    }
   },
   "outputs": [],
   "source": [
    "select_genex_genes = [\"MDM2_10743\", \"MDM4_10744\", \"RPL22_15208\", \"RPL22L1_15209\"]\n",
    "\n",
    "select_genex = tcga_genex[select_genex_genes]\n",
    "select_genex.columns = [\"MDM2_mRNA\", \"MDM4_mRNA\", \"RPL22_mRNA\", \"RPL22L1_mRNA\"]"
   ]
  },
  {
   "cell_type": "markdown",
   "metadata": {},
   "source": [
    "# Copy number"
   ]
  },
  {
   "cell_type": "markdown",
   "metadata": {},
   "source": [
    "## Continuous"
   ]
  },
  {
   "cell_type": "code",
   "execution_count": 60,
   "metadata": {
    "ExecuteTime": {
     "end_time": "2020-11-15T01:21:24.052042Z",
     "start_time": "2020-11-15T01:21:24.037355Z"
    }
   },
   "outputs": [],
   "source": [
    "select_copynumber_genes = [\n",
    "    \"TP53\",\n",
    "    \"MDM2\",\n",
    "    \"MDM4\",\n",
    "    \"RPL22\",\n",
    "    \"RPL22L1\",\n",
    "]\n",
    "\n",
    "select_copynumber = tcga_cn_continuous[select_copynumber_genes]\n",
    "select_copynumber.columns = [\n",
    "    \"TP53_copy_number\",\n",
    "    \"MDM2_copy_number\",\n",
    "    \"MDM4_copy_number\",\n",
    "    \"RPL22_copy_number\",\n",
    "    \"RPL22L1_copy_number\",\n",
    "]"
   ]
  },
  {
   "cell_type": "markdown",
   "metadata": {},
   "source": [
    "## Thresholded"
   ]
  },
  {
   "cell_type": "code",
   "execution_count": 61,
   "metadata": {
    "ExecuteTime": {
     "end_time": "2020-11-15T01:21:25.322284Z",
     "start_time": "2020-11-15T01:21:25.308540Z"
    }
   },
   "outputs": [],
   "source": [
    "select_copynumber_thresholded_genes = [\"TP53\", \"MDM2\", \"MDM4\", \"RPL22\", \"RPL22L1\"]\n",
    "\n",
    "select_copynumber_thresholded = tcga_cn_thresholded[select_copynumber_thresholded_genes]\n",
    "\n",
    "select_copynumber_thresholded.columns = [\n",
    "    \"TP53_copy_number_thresholded\",\n",
    "    \"MDM2_copy_number_thresholded\",\n",
    "    \"MDM4_copy_number_thresholded\",\n",
    "    \"RPL22_copy_number_thresholded\",\n",
    "    \"RPL22L1_copy_number_thresholded\",\n",
    "]"
   ]
  },
  {
   "cell_type": "code",
   "execution_count": 62,
   "metadata": {
    "ExecuteTime": {
     "end_time": "2020-11-15T01:21:26.644148Z",
     "start_time": "2020-11-15T01:21:26.597477Z"
    }
   },
   "outputs": [],
   "source": [
    "merged_tcga_info = pd.concat(\n",
    "    [\n",
    "        select_sample_info,\n",
    "        select_mutations,\n",
    "        select_msi,\n",
    "        select_exonusage,\n",
    "        select_genex,\n",
    "        select_copynumber,\n",
    "        select_copynumber_thresholded,\n",
    "    ],\n",
    "    join=\"outer\",\n",
    "    axis=1,\n",
    "    sort=True,\n",
    ")"
   ]
  },
  {
   "cell_type": "code",
   "execution_count": 63,
   "metadata": {
    "ExecuteTime": {
     "end_time": "2020-11-15T01:21:28.992371Z",
     "start_time": "2020-11-15T01:21:28.726441Z"
    }
   },
   "outputs": [],
   "source": [
    "merged_tcga_info.to_csv(\"../data/supplementary/S2_merged-tcga-info.txt\", sep=\"\\t\")"
   ]
  }
 ],
 "metadata": {
  "kernelspec": {
   "display_name": "Python 3",
   "language": "python",
   "name": "python3"
  },
  "language_info": {
   "codemirror_mode": {
    "name": "ipython",
    "version": 3
   },
   "file_extension": ".py",
   "mimetype": "text/x-python",
   "name": "python",
   "nbconvert_exporter": "python",
   "pygments_lexer": "ipython3",
   "version": "3.8.6"
  },
  "toc": {
   "base_numbering": 1,
   "nav_menu": {},
   "number_sections": true,
   "sideBar": true,
   "skip_h1_title": false,
   "title_cell": "Table of Contents",
   "title_sidebar": "Contents",
   "toc_cell": false,
   "toc_position": {},
   "toc_section_display": true,
   "toc_window_display": false
  }
 },
 "nbformat": 4,
 "nbformat_minor": 4
}
