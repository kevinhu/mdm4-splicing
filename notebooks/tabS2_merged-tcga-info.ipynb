{
 "cells": [
  {
   "cell_type": "code",
   "execution_count": 1,
   "metadata": {
    "ExecuteTime": {
     "end_time": "2020-06-25T03:13:12.392771Z",
     "start_time": "2020-06-25T03:13:10.834022Z"
    }
   },
   "outputs": [],
   "source": [
    "import numpy as np\n",
    "import pandas as pd\n",
    "\n",
    "import matplotlib.pyplot as plt\n",
    "import matplotlib as mpl\n",
    "import seaborn as sns\n",
    "\n",
    "import sys\n",
    "import os\n",
    "\n",
    "sys.path.append(os.path.relpath(\"../../huygens\"))\n",
    "sys.path.append(os.path.relpath(\"../../galileo\"))\n",
    "\n",
    "import galileo as gal\n",
    "import huygens as huy"
   ]
  },
  {
   "cell_type": "code",
   "execution_count": 45,
   "metadata": {
    "ExecuteTime": {
     "end_time": "2020-06-25T03:39:06.416623Z",
     "start_time": "2020-06-25T03:39:00.747964Z"
    }
   },
   "outputs": [],
   "source": [
    "tcga_cn_thresholded = pd.read_hdf(\"../../data/processed/TCGA/tcga_cn_thresholded.hdf\",\n",
    "                                  key=\"tcga_cn_thresholded\")"
   ]
  },
  {
   "cell_type": "code",
   "execution_count": 2,
   "metadata": {
    "ExecuteTime": {
     "end_time": "2020-06-25T03:14:29.040183Z",
     "start_time": "2020-06-25T03:13:12.395157Z"
    }
   },
   "outputs": [],
   "source": [
    "tcga_genex = pd.read_hdf(\n",
    "    \"../../data/processed/TCGA/TCGA_genex_norm.h5\", key=\"tcga_genex\")\n",
    "\n",
    "tcga_splicing = pd.read_hdf(\n",
    "    \"../../data/processed/TCGA/merged.h5\", key=\"tcga_splicing\")\n",
    "tcga_splicing.index = tcga_splicing.index.map(lambda x: x[:15])\n",
    "tcga_splicing = tcga_splicing[~tcga_splicing.index.duplicated(keep=\"first\")]\n",
    "\n",
    "tcga_cn = pd.read_hdf(\n",
    "    \"../../data/processed/TCGA/tcga_cn_whitelisted.hdf\", key=\"tcga_cn\")\n",
    "tcga_cn_thresholded = pd.read_hdf(\"../../data/processed/TCGA/tcga_cn_thresholded.hdf\",\n",
    "                                  key=\"tcga_cn_thresholded\")\n",
    "\n",
    "tcga_mut_mat = pd.read_hdf(\n",
    "    \"../../data/processed/TCGA/tcga_mut_mat.hdf\", key=\"tcga_mut_mat\")\n",
    "tcga_msi = pd.read_hdf(\"../../data/processed/tcga/tcga_msi.h5\", key=\"tcga_msi\")"
   ]
  },
  {
   "cell_type": "code",
   "execution_count": 3,
   "metadata": {
    "ExecuteTime": {
     "end_time": "2020-06-25T03:14:29.365890Z",
     "start_time": "2020-06-25T03:14:29.051696Z"
    }
   },
   "outputs": [],
   "source": [
    "rpl22_tcga = pd.read_csv(\"../data/raw/rpl22.tcga.data.csv\")\n",
    "\n",
    "rpl22_tcga = rpl22_tcga.dropna(subset=[\"sampleid\"])\n",
    "rpl22_tcga = rpl22_tcga.set_index(\"sampleid\")\n",
    "rpl22_tcga.index = rpl22_tcga.index.map(lambda x: x[:15])\n",
    "\n",
    "rpl22_mut = rpl22_tcga[\"rpl22mut.mc3.k15\"].dropna()\n",
    "\n",
    "tcga_mut_mat[\"RPL22_chr1_6257785_6257785_T_-\"] = rpl22_mut"
   ]
  },
  {
   "cell_type": "code",
   "execution_count": 4,
   "metadata": {
    "ExecuteTime": {
     "end_time": "2020-06-25T03:14:29.415865Z",
     "start_time": "2020-06-25T03:14:29.370065Z"
    }
   },
   "outputs": [],
   "source": [
    "tcga_sample_info = pd.read_hdf(\n",
    "    \"../../data/processed/TCGA/tcga_sample_info.hdf\", key=\"tcga_sample_info\")"
   ]
  },
  {
   "cell_type": "markdown",
   "metadata": {},
   "source": [
    "# Aggregate attributes"
   ]
  },
  {
   "cell_type": "markdown",
   "metadata": {},
   "source": [
    "## Tumor sample info"
   ]
  },
  {
   "cell_type": "code",
   "execution_count": 38,
   "metadata": {
    "ExecuteTime": {
     "end_time": "2020-06-25T03:32:14.021623Z",
     "start_time": "2020-06-25T03:32:14.016921Z"
    }
   },
   "outputs": [],
   "source": [
    "select_sample_info = tcga_sample_info[[\n",
    "    \"sample_type\",\n",
    "    \"_primary_disease\",\n",
    "    \"abbreviated_disease\"]]\n",
    "\n",
    "select_sample_info.columns = [\n",
    "    \"Sample_type\",\n",
    "    \"Primary_disease\",\n",
    "    \"Abbreviated_disease\"\n",
    "]"
   ]
  },
  {
   "cell_type": "markdown",
   "metadata": {},
   "source": [
    "## Mutations"
   ]
  },
  {
   "cell_type": "code",
   "execution_count": 6,
   "metadata": {
    "ExecuteTime": {
     "end_time": "2020-06-25T03:22:25.018118Z",
     "start_time": "2020-06-25T03:22:25.009596Z"
    }
   },
   "outputs": [],
   "source": [
    "select_mutations = rpl22_tcga[[\"TP53mut\", \"rpl22mut.mc3.k15\"]]\n",
    "select_mutations.columns = [\"TP53_mutation_type\", \"RPL22_k15fs_mutation\"]"
   ]
  },
  {
   "cell_type": "markdown",
   "metadata": {},
   "source": [
    "## MSI"
   ]
  },
  {
   "cell_type": "code",
   "execution_count": 25,
   "metadata": {
    "ExecuteTime": {
     "end_time": "2020-06-25T03:29:45.498901Z",
     "start_time": "2020-06-25T03:29:45.493138Z"
    }
   },
   "outputs": [],
   "source": [
    "select_msi = tcga_msi[[\"MANTIS Score\"]].copy()\n",
    "select_msi[\"MSI\"] = select_msi[\"MANTIS Score\"] > 0.4\n",
    "\n",
    "select_msi.columns = [\"MANTIS_score\", \"MSI\"]"
   ]
  },
  {
   "cell_type": "markdown",
   "metadata": {},
   "source": [
    "## Exonusage"
   ]
  },
  {
   "cell_type": "code",
   "execution_count": 8,
   "metadata": {
    "ExecuteTime": {
     "end_time": "2020-06-25T03:22:28.315460Z",
     "start_time": "2020-06-25T03:22:28.290561Z"
    }
   },
   "outputs": [],
   "source": [
    "select_exons = [\n",
    "    \"MDM4_ENSG00000198625_ENSG00000198625.8_ES_1_204501318:204501374:204506557:204506625:204507336:204507436_204506557:204506625\",\n",
    "    \"RPL22L1_ENSG00000163584_ENSG00000163584.13_A3_3_170586086:170586168:170585801:170585923:170585801:170585990_170585923:170585990\",\n",
    "    \"UBAP2L_ENSG00000143569_ENSG00000143569.14_ES_1_154241382:154241430:154241837:154241888:154242675:154243040_154241837:154241888\"\n",
    "]\n",
    "\n",
    "select_exonusage = tcga_splicing[select_exons]\n",
    "select_exonusage.columns = [\n",
    "    \"MDM4_exon_6_inclusion\",\n",
    "    \"RPL22L1_exon_3A_inclusion\",\n",
    "    \"UBAP2L_exon_9_inclusion\"\n",
    "]"
   ]
  },
  {
   "cell_type": "markdown",
   "metadata": {},
   "source": [
    "## Gene expression"
   ]
  },
  {
   "cell_type": "code",
   "execution_count": 9,
   "metadata": {
    "ExecuteTime": {
     "end_time": "2020-06-25T03:22:29.502897Z",
     "start_time": "2020-06-25T03:22:29.490906Z"
    }
   },
   "outputs": [],
   "source": [
    "select_genex_genes = [\n",
    "    \"MDM2_10743\",\n",
    "    \"MDM4_10744\",\n",
    "    \"RPL22_15208\",\n",
    "    \"RPL22L1_15209\"\n",
    "]\n",
    "\n",
    "select_genex = tcga_genex[select_genex_genes]\n",
    "select_genex.columns = [\n",
    "    \"MDM2_mRNA\", \n",
    "    \"MDM4_mRNA\", \n",
    "    \"RPL22_mRNA\", \n",
    "    \"RPL22L1_mRNA\"\n",
    "]"
   ]
  },
  {
   "cell_type": "markdown",
   "metadata": {},
   "source": [
    "# Copy number"
   ]
  },
  {
   "cell_type": "markdown",
   "metadata": {},
   "source": [
    "## Continuous"
   ]
  },
  {
   "cell_type": "code",
   "execution_count": 32,
   "metadata": {
    "ExecuteTime": {
     "end_time": "2020-06-25T03:31:04.839321Z",
     "start_time": "2020-06-25T03:31:04.834671Z"
    }
   },
   "outputs": [],
   "source": [
    "select_copynumber_genes = [\n",
    "    \"MDM2_chr12_69201952_69244466\",\n",
    "    \"MDM4_chr1_204485507_204527248\",\n",
    "    \"RPL22_chr1_6241329_6260902\",\n",
    "    \"RPL22L1_chr3_170582664_170588272\"\n",
    "]\n",
    "\n",
    "select_copynumber = tcga_cn[select_copynumber_genes]\n",
    "select_copynumber.columns = [\n",
    "    \"MDM2_copy_number\",\n",
    "    \"MDM4_copy_number\",\n",
    "    \"RPL22_copy_number\",\n",
    "    \"RPL22L1_copy_number\"\n",
    "]"
   ]
  },
  {
   "cell_type": "markdown",
   "metadata": {},
   "source": [
    "## Thresholded"
   ]
  },
  {
   "cell_type": "code",
   "execution_count": 48,
   "metadata": {
    "ExecuteTime": {
     "end_time": "2020-06-25T03:41:09.604604Z",
     "start_time": "2020-06-25T03:41:09.599380Z"
    }
   },
   "outputs": [],
   "source": [
    "select_copynumber_thresholded_genes = [\n",
    "    \"MDM2\",\n",
    "    \"MDM4\",\n",
    "    \"RPL22\",\n",
    "    \"RPL22L1\"\n",
    "]\n",
    "\n",
    "select_copynumber_thresholded = tcga_cn_thresholded[select_copynumber_thresholded_genes]\n",
    "\n",
    "select_copynumber_thresholded.columns = [\n",
    "    \"MDM2_copy_number_thresholded\",\n",
    "    \"MDM4_copy_number_thresholded\",\n",
    "    \"RPL22_copy_number_thresholded\",\n",
    "    \"RPL22L1_copy_number_thresholded\"\n",
    "]"
   ]
  },
  {
   "cell_type": "code",
   "execution_count": 49,
   "metadata": {
    "ExecuteTime": {
     "end_time": "2020-06-25T03:41:15.590992Z",
     "start_time": "2020-06-25T03:41:15.550088Z"
    }
   },
   "outputs": [],
   "source": [
    "merged_tcga_info = pd.concat([\n",
    "    select_sample_info,\n",
    "    select_mutations,\n",
    "    select_msi,\n",
    "    select_exonusage,\n",
    "    select_genex,\n",
    "    select_copynumber,\n",
    "    select_copynumber_thresholded\n",
    "], join=\"outer\", axis=1, sort=True)"
   ]
  },
  {
   "cell_type": "code",
   "execution_count": 50,
   "metadata": {
    "ExecuteTime": {
     "end_time": "2020-06-25T03:41:17.082024Z",
     "start_time": "2020-06-25T03:41:16.870052Z"
    }
   },
   "outputs": [],
   "source": [
    "merged_tcga_info.to_csv(\"../data/supplementary/S2_merged-tcga-info.txt\",sep=\"\\t\")"
   ]
  }
 ],
 "metadata": {
  "kernelspec": {
   "display_name": "Python 3",
   "language": "python",
   "name": "python3"
  },
  "language_info": {
   "codemirror_mode": {
    "name": "ipython",
    "version": 3
   },
   "file_extension": ".py",
   "mimetype": "text/x-python",
   "name": "python",
   "nbconvert_exporter": "python",
   "pygments_lexer": "ipython3",
   "version": "3.7.7"
  },
  "toc": {
   "base_numbering": 1,
   "nav_menu": {},
   "number_sections": true,
   "sideBar": true,
   "skip_h1_title": false,
   "title_cell": "Table of Contents",
   "title_sidebar": "Contents",
   "toc_cell": false,
   "toc_position": {},
   "toc_section_display": true,
   "toc_window_display": false
  }
 },
 "nbformat": 4,
 "nbformat_minor": 4
}
