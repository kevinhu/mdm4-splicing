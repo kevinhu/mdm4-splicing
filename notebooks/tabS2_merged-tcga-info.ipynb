{
 "cells": [
  {
   "cell_type": "code",
   "execution_count": 1,
   "metadata": {
    "ExecuteTime": {
     "end_time": "2020-12-17T23:52:48.435393Z",
     "start_time": "2020-12-17T23:52:47.099635Z"
    }
   },
   "outputs": [],
   "source": [
    "import numpy as np\n",
    "import pandas as pd\n",
    "\n",
    "import cancer_data"
   ]
  },
  {
   "cell_type": "code",
   "execution_count": 2,
   "metadata": {
    "ExecuteTime": {
     "end_time": "2020-12-17T23:52:48.440822Z",
     "start_time": "2020-12-17T23:52:48.437441Z"
    }
   },
   "outputs": [],
   "source": [
    "def process_tcga_splicing(tcga_splicing):\n",
    "    \n",
    "    # keep first four identifier fields\n",
    "    tcga_splicing.index = tcga_splicing.index.map(lambda x: \"-\".join(x.split(\"-\")[:4]))\n",
    "    # remove last letter\n",
    "    tcga_splicing.index = tcga_splicing.index.map(lambda x: x[:-1])\n",
    "    tcga_splicing = tcga_splicing[tcga_splicing.index.map(lambda x: x[-2:] != \"11\")]\n",
    "\n",
    "    tcga_splicing = tcga_splicing.loc[~tcga_splicing.index.duplicated(keep=\"first\")]\n",
    "    \n",
    "    return tcga_splicing"
   ]
  },
  {
   "cell_type": "code",
   "execution_count": 3,
   "metadata": {
    "ExecuteTime": {
     "end_time": "2020-12-17T23:56:39.900548Z",
     "start_time": "2020-12-17T23:52:48.442433Z"
    }
   },
   "outputs": [],
   "source": [
    "tcga_se = cancer_data.load(\"tcga_se\")\n",
    "tcga_a3ss = cancer_data.load(\"tcga_a3ss\")\n",
    "\n",
    "tcga_genex = cancer_data.load(\"tcga_normalized_gene_expression\")\n",
    "tcga_cn_continuous = cancer_data.load(\"tcga_cn_continuous\")\n",
    "tcga_cn_thresholded = cancer_data.load(\"tcga_cn_thresholded\")\n",
    "tcga_mutations = cancer_data.load(\"tcga_mutations\")\n",
    "tcga_msi = cancer_data.load(\"tcga_msi\")\n",
    "\n",
    "tcga_annotations = cancer_data.load(\"tcga_annotations\")\n",
    "\n",
    "tcga_se = process_tcga_splicing(tcga_se)\n",
    "tcga_a3ss = process_tcga_splicing(tcga_a3ss)"
   ]
  },
  {
   "cell_type": "code",
   "execution_count": 4,
   "metadata": {
    "ExecuteTime": {
     "end_time": "2020-12-17T23:56:40.046788Z",
     "start_time": "2020-12-17T23:56:39.912017Z"
    }
   },
   "outputs": [],
   "source": [
    "rpl22_tcga = pd.read_csv(\"../data/raw/rpl22.tcga.data.csv\")\n",
    "\n",
    "rpl22_tcga = rpl22_tcga.dropna(subset=[\"sampleid\"])\n",
    "rpl22_tcga = rpl22_tcga.set_index(\"sampleid\")\n",
    "rpl22_tcga.index = rpl22_tcga.index.map(lambda x: x[:15])\n",
    "\n",
    "rpl22_mut = rpl22_tcga[\"rpl22mut.mc3.k15\"].dropna()"
   ]
  },
  {
   "cell_type": "code",
   "execution_count": 5,
   "metadata": {
    "ExecuteTime": {
     "end_time": "2020-12-17T23:56:40.088954Z",
     "start_time": "2020-12-17T23:56:40.049083Z"
    }
   },
   "outputs": [],
   "source": [
    "cbp_alterations = pd.read_csv(\"../data/external/cbioportal/tp53_rpl22.tsv\",sep=\"\\t\")\n",
    "cbp_alterations = cbp_alterations.set_index(\"Sample ID\")"
   ]
  },
  {
   "cell_type": "markdown",
   "metadata": {},
   "source": [
    "# Aggregate attributes"
   ]
  },
  {
   "cell_type": "markdown",
   "metadata": {},
   "source": [
    "## Tumor sample info"
   ]
  },
  {
   "cell_type": "code",
   "execution_count": 6,
   "metadata": {
    "ExecuteTime": {
     "end_time": "2020-12-17T23:56:40.098782Z",
     "start_time": "2020-12-17T23:56:40.093578Z"
    }
   },
   "outputs": [],
   "source": [
    "select_sample_info = tcga_annotations[\n",
    "    [\"sample_type\", \"_primary_disease\", \"abbreviated_disease\"]\n",
    "]\n",
    "\n",
    "select_sample_info.columns = [\"Sample_type\", \"Primary_disease\", \"Abbreviated_disease\"]"
   ]
  },
  {
   "cell_type": "markdown",
   "metadata": {},
   "source": [
    "## Mutations"
   ]
  },
  {
   "cell_type": "code",
   "execution_count": 7,
   "metadata": {
    "ExecuteTime": {
     "end_time": "2020-12-17T23:56:40.107011Z",
     "start_time": "2020-12-17T23:56:40.101045Z"
    }
   },
   "outputs": [],
   "source": [
    "rpl22_tcga[\"TP53mut\"] = rpl22_tcga[\"TP53mut\"].fillna(\"WT\")\n",
    "select_mutations = rpl22_tcga[[\"TP53mut\", \"rpl22mut.mc3.k15\", \"rpl22mut.mc3.all\"]]\n",
    "select_mutations.columns = [\n",
    "    \"TP53_mutation_type\",\n",
    "    \"RPL22_k15fs_mutation\",\n",
    "    \"RPL22_any_mutation\",\n",
    "]"
   ]
  },
  {
   "cell_type": "markdown",
   "metadata": {},
   "source": [
    "## cbioportal alterations"
   ]
  },
  {
   "cell_type": "code",
   "execution_count": 8,
   "metadata": {
    "ExecuteTime": {
     "end_time": "2020-12-17T23:56:40.128800Z",
     "start_time": "2020-12-17T23:56:40.108824Z"
    }
   },
   "outputs": [],
   "source": [
    "select_cbp = cbp_alterations[\n",
    "    [\"RPL22: MUT\", \"RPL22: HOMDEL\", \"TP53: MUT\", \"TP53: HOMDEL\"]\n",
    "].replace({\"not profiled\":np.nan})\n",
    "select_cbp.columns = [\n",
    "    \"RPL22_mutation_cbioportal\",\n",
    "    \"RPL22_homdel_cbioportal\",\n",
    "    \"TP53_mutation_cbioportal\",\n",
    "    \"TP53_homdel_cbioportal\",\n",
    "]"
   ]
  },
  {
   "cell_type": "markdown",
   "metadata": {},
   "source": [
    "## MSI"
   ]
  },
  {
   "cell_type": "code",
   "execution_count": 9,
   "metadata": {
    "ExecuteTime": {
     "end_time": "2020-12-17T23:56:40.138369Z",
     "start_time": "2020-12-17T23:56:40.130808Z"
    }
   },
   "outputs": [],
   "source": [
    "select_msi = tcga_msi[[\"MANTIS Score\"]].copy()\n",
    "select_msi[\"MSI\"] = select_msi[\"MANTIS Score\"] > 0.4\n",
    "\n",
    "select_msi.columns = [\"MANTIS_score\", \"MSI\"]"
   ]
  },
  {
   "cell_type": "markdown",
   "metadata": {},
   "source": [
    "## Exonusage"
   ]
  },
  {
   "cell_type": "code",
   "execution_count": 10,
   "metadata": {
    "ExecuteTime": {
     "end_time": "2020-12-17T23:56:40.272883Z",
     "start_time": "2020-12-17T23:56:40.139850Z"
    }
   },
   "outputs": [],
   "source": [
    "select_se = [\n",
    "    \"ENSG00000198625.8_ES_1_204501318:204501374:204506557:204506625:204507336:204507436_204506557:204506625\",\n",
    "    \"ENSG00000143569.14_ES_1_154241382:154241430:154241837:154241888:154242675:154243040_154241837:154241888\",\n",
    "]\n",
    "\n",
    "select_a3ss = [\n",
    "    \"ENSG00000163584.13_A3_3_170586086:170586168:170585801:170585923:170585801:170585990_170585923:170585990\",\n",
    "]\n",
    "\n",
    "                        \n",
    "select_exonusage = pd.concat([tcga_se[select_se],tcga_a3ss[select_a3ss]],axis=1)\n",
    "select_exonusage.columns = [\n",
    "    \"MDM4_exon_6_inclusion\",\n",
    "    \"UBAP2L_exon_29_inclusion\",\n",
    "    \"RPL22L1_exon_3A_inclusion\",\n",
    "]\n",
    "\n",
    "select_exonusage[\"RPL22L1_exon_3A_inclusion\"] = 1-select_exonusage[\"RPL22L1_exon_3A_inclusion\"]"
   ]
  },
  {
   "cell_type": "markdown",
   "metadata": {},
   "source": [
    "## Gene expression"
   ]
  },
  {
   "cell_type": "code",
   "execution_count": 11,
   "metadata": {
    "ExecuteTime": {
     "end_time": "2020-12-17T23:56:40.284905Z",
     "start_time": "2020-12-17T23:56:40.275040Z"
    }
   },
   "outputs": [],
   "source": [
    "select_genex_genes = [\"MDM2_10743\", \"MDM4_10744\", \"RPL22_15208\", \"RPL22L1_15209\"]\n",
    "\n",
    "select_genex = tcga_genex[select_genex_genes]\n",
    "select_genex.columns = [\"MDM2_mRNA\", \"MDM4_mRNA\", \"RPL22_mRNA\", \"RPL22L1_mRNA\"]"
   ]
  },
  {
   "cell_type": "markdown",
   "metadata": {},
   "source": [
    "# Copy number"
   ]
  },
  {
   "cell_type": "markdown",
   "metadata": {},
   "source": [
    "## Continuous"
   ]
  },
  {
   "cell_type": "code",
   "execution_count": 12,
   "metadata": {
    "ExecuteTime": {
     "end_time": "2020-12-17T23:56:40.302873Z",
     "start_time": "2020-12-17T23:56:40.286765Z"
    }
   },
   "outputs": [],
   "source": [
    "select_copynumber_genes = [\n",
    "    \"TP53\",\n",
    "    \"MDM2\",\n",
    "    \"MDM4\",\n",
    "    \"RPL22\",\n",
    "    \"RPL22L1\",\n",
    "]\n",
    "\n",
    "select_copynumber = tcga_cn_continuous[select_copynumber_genes]\n",
    "select_copynumber.columns = [\n",
    "    \"TP53_copy_number\",\n",
    "    \"MDM2_copy_number\",\n",
    "    \"MDM4_copy_number\",\n",
    "    \"RPL22_copy_number\",\n",
    "    \"RPL22L1_copy_number\",\n",
    "]"
   ]
  },
  {
   "cell_type": "markdown",
   "metadata": {},
   "source": [
    "## Thresholded"
   ]
  },
  {
   "cell_type": "code",
   "execution_count": 13,
   "metadata": {
    "ExecuteTime": {
     "end_time": "2020-12-17T23:56:40.319399Z",
     "start_time": "2020-12-17T23:56:40.304787Z"
    }
   },
   "outputs": [],
   "source": [
    "select_copynumber_thresholded_genes = [\"TP53\", \"MDM2\", \"MDM4\", \"RPL22\", \"RPL22L1\"]\n",
    "\n",
    "select_copynumber_thresholded = tcga_cn_thresholded[select_copynumber_thresholded_genes]\n",
    "\n",
    "select_copynumber_thresholded.columns = [\n",
    "    \"TP53_copy_number_thresholded\",\n",
    "    \"MDM2_copy_number_thresholded\",\n",
    "    \"MDM4_copy_number_thresholded\",\n",
    "    \"RPL22_copy_number_thresholded\",\n",
    "    \"RPL22L1_copy_number_thresholded\",\n",
    "]"
   ]
  },
  {
   "cell_type": "markdown",
   "metadata": {},
   "source": [
    "# Merge"
   ]
  },
  {
   "cell_type": "code",
   "execution_count": 14,
   "metadata": {
    "ExecuteTime": {
     "end_time": "2020-12-17T23:56:40.366054Z",
     "start_time": "2020-12-17T23:56:40.321244Z"
    }
   },
   "outputs": [],
   "source": [
    "merged_tcga_info = pd.concat(\n",
    "    [\n",
    "        select_sample_info,\n",
    "        select_mutations,\n",
    "        select_msi,\n",
    "        select_exonusage,\n",
    "        select_genex,\n",
    "        select_copynumber,\n",
    "        select_copynumber_thresholded,\n",
    "        select_cbp,\n",
    "    ],\n",
    "    join=\"outer\",\n",
    "    axis=1,\n",
    "    sort=True,\n",
    ")"
   ]
  },
  {
   "cell_type": "code",
   "execution_count": 15,
   "metadata": {
    "ExecuteTime": {
     "end_time": "2020-12-17T23:56:40.738353Z",
     "start_time": "2020-12-17T23:56:40.368146Z"
    }
   },
   "outputs": [],
   "source": [
    "merged_tcga_info.to_csv(\"../data/supplementary/S2_merged-tcga-info.txt\", sep=\"\\t\")"
   ]
  }
 ],
 "metadata": {
  "kernelspec": {
   "display_name": "Python 3 (ipykernel)",
   "language": "python",
   "name": "python3"
  },
  "language_info": {
   "codemirror_mode": {
    "name": "ipython",
    "version": 3
   },
   "file_extension": ".py",
   "mimetype": "text/x-python",
   "name": "python",
   "nbconvert_exporter": "python",
   "pygments_lexer": "ipython3",
   "version": "3.9.9"
  },
  "toc": {
   "base_numbering": 1,
   "nav_menu": {},
   "number_sections": true,
   "sideBar": true,
   "skip_h1_title": false,
   "title_cell": "Table of Contents",
   "title_sidebar": "Contents",
   "toc_cell": false,
   "toc_position": {},
   "toc_section_display": true,
   "toc_window_display": true
  }
 },
 "nbformat": 4,
 "nbformat_minor": 4
}
