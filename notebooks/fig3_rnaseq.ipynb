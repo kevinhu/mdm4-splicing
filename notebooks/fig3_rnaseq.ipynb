{
 "cells": [
  {
   "cell_type": "code",
   "execution_count": 696,
   "metadata": {
    "ExecuteTime": {
     "end_time": "2019-11-09T18:49:15.535056Z",
     "start_time": "2019-11-09T18:49:15.530021Z"
    }
   },
   "outputs": [],
   "source": [
    "import numpy as np\n",
    "import pandas as pd\n",
    "\n",
    "import seaborn as sns\n",
    "import matplotlib.pyplot as plt\n",
    "from matplotlib.collections import PatchCollection\n",
    "from matplotlib.patches import Rectangle\n",
    "import matplotlib.font_manager as fm\n",
    "\n",
    "prop = fm.FontProperties(fname='../plots/arial.ttf')\n",
    "\n",
    "plt.rcParams['ps.useafm'] = True\n",
    "plt.rcParams['font.family'] = 'Arial'\n",
    "plt.rcParams['pdf.fonttype'] = 42\n",
    "plt.rcParams['ps.fonttype'] = 42\n",
    "\n",
    "from statsmodels.stats.multitest import multipletests\n"
   ]
  },
  {
   "cell_type": "markdown",
   "metadata": {},
   "source": [
    "# Define experiments"
   ]
  },
  {
   "cell_type": "code",
   "execution_count": 558,
   "metadata": {
    "ExecuteTime": {
     "end_time": "2019-11-08T01:41:51.742621Z",
     "start_time": "2019-11-08T01:41:51.725080Z"
    }
   },
   "outputs": [],
   "source": [
    "experiments = {\"rpl22_oe\": [\n",
    "    ['LNCaP_GFP_1',\n",
    "     'LNCaP_GFP_2',\n",
    "     'LNCaP_GFP_3'],\n",
    "    ['LNCaP_RPL22_1',\n",
    "     'LNCaP_RPL22_2',\n",
    "     'LNCaP_RPL22_3']\n",
    "],\n",
    "    \"rpl22l1_oe\": [\n",
    "    ['CAL851_GFP_1',\n",
    "     'CAL851_GFP_2',\n",
    "     'CAL851_GFP_3'],\n",
    "    ['CAL851_RPL22L1_1',\n",
    "     'CAL851_RPL22L1_2',\n",
    "     'CAL851_RPL22L1_3']\n",
    "],\n",
    "    \"sh704\": [\n",
    "    ['LNCaP_shLuc_1',\n",
    "     'LNCaP_shLuc_2',\n",
    "     'LNCaP_shLuc_3'],\n",
    "    ['LNCaP_sh704_1',\n",
    "     'LNCaP_sh704_2',\n",
    "     'LNCaP_sh704_3']\n",
    "],\n",
    "    \"sh705\": [\n",
    "    ['LNCaP_shLuc_1',\n",
    "     'LNCaP_shLuc_2',\n",
    "     'LNCaP_shLuc_3'],\n",
    "    ['LNCaP_sh705_1',\n",
    "     'LNCaP_sh705_2',\n",
    "     'LNCaP_sh705_3']\n",
    "]\n",
    "}\n",
    "\n",
    "experiment_ids = [\"rpl22_oe\",\"rpl22l1_oe\",\"sh704\",\"sh705\"]"
   ]
  },
  {
   "cell_type": "markdown",
   "metadata": {},
   "source": [
    "# Load TPMS and sleuth results"
   ]
  },
  {
   "cell_type": "code",
   "execution_count": 561,
   "metadata": {
    "ExecuteTime": {
     "end_time": "2019-11-08T01:42:50.975313Z",
     "start_time": "2019-11-08T01:42:49.264146Z"
    }
   },
   "outputs": [],
   "source": [
    "kallisto_sleuth_path = \"../data/processed/kallisto_sleuth_merge/\"\n",
    "\n",
    "rpl22_oe_genes = pd.read_csv(kallisto_sleuth_path + \"rpl22_oe_genes.txt\", sep=\"\\t\", index_col=0)\n",
    "rpl22l1_oe_genes = pd.read_csv(kallisto_sleuth_path + \"rpl22l1_oe_genes.txt\", sep=\"\\t\", index_col=0)\n",
    "sh704_genes = pd.read_csv(kallisto_sleuth_path + \"sh704_genes.txt\", sep=\"\\t\", index_col=0)\n",
    "sh705_genes = pd.read_csv(kallisto_sleuth_path + \"sh705_genes.txt\", sep=\"\\t\", index_col=0)\n",
    "\n",
    "rpl22_oe_transcripts = pd.read_csv(kallisto_sleuth_path + \"rpl22_oe_transcripts.txt\", sep=\"\\t\", index_col=0)\n",
    "rpl22l1_oe_transcripts = pd.read_csv(kallisto_sleuth_path + \"rpl22l1_oe_transcripts.txt\", sep=\"\\t\", index_col=0)\n",
    "sh704_transcripts = pd.read_csv(kallisto_sleuth_path + \"sh704_transcripts.txt\", sep=\"\\t\", index_col=0)\n",
    "sh705_transcripts = pd.read_csv(kallisto_sleuth_path + \"sh705_transcripts.txt\", sep=\"\\t\", index_col=0)"
   ]
  },
  {
   "cell_type": "markdown",
   "metadata": {},
   "source": [
    "# Differential expression"
   ]
  },
  {
   "cell_type": "code",
   "execution_count": 103,
   "metadata": {
    "ExecuteTime": {
     "end_time": "2019-11-06T20:51:17.842007Z",
     "start_time": "2019-11-06T20:51:17.838004Z"
    }
   },
   "outputs": [],
   "source": [
    "def as_si(x, ndp):\n",
    "    \"\"\"\n",
    "    Convert a number to scientific notation\n",
    "\n",
    "    Parameters\n",
    "    ----------\n",
    "    x : float\n",
    "        number to convert\n",
    "    ndp: float\n",
    "        number of decimal places\n",
    "\n",
    "    Returns\n",
    "    -------\n",
    "    x_si : string\n",
    "        x formatted in scientific notation\n",
    "    \"\"\"\n",
    "\n",
    "    s = '{x:0.{ndp:d}e}'.format(x=x, ndp=ndp)\n",
    "    m, e = s.split('e')\n",
    "    x_si = r'{m:s} × $10^{{{e:d}}}$'.format(m=m, e=int(e))\n",
    "\n",
    "    return x_si"
   ]
  },
  {
   "cell_type": "code",
   "execution_count": 720,
   "metadata": {
    "ExecuteTime": {
     "end_time": "2019-11-09T18:53:00.252935Z",
     "start_time": "2019-11-09T18:53:00.228528Z"
    }
   },
   "outputs": [],
   "source": [
    "control_color = \"#393e46\"\n",
    "treatment_color = \"#f67280\"\n",
    "alpha = 0.5\n",
    "\n",
    "def bars(annotation_id, experiment_id, diff_results, ax=None, xlabel=None, ylabel=None):\n",
    "\n",
    "    if ax is None:\n",
    "        ax = plt.subplot(111)\n",
    "\n",
    "    if xlabel is None:\n",
    "        xlabel = experiment_id\n",
    "\n",
    "    if ylabel is None:\n",
    "        ylabel = \"mRNA expression, log2(TPM + 1)\"\n",
    "        \n",
    "    # get experiment controls and treatments\n",
    "    select_abundance = diff_results.loc[annotation_id]\n",
    "\n",
    "    controls = experiments[experiment_id][0]\n",
    "    treatments = experiments[experiment_id][1]\n",
    "\n",
    "    # extract control and treatment values\n",
    "    control_values = np.log2(select_abundance[controls].astype(np.float64)+1)\n",
    "    treatment_values = np.log2(\n",
    "        select_abundance[treatments].astype(np.float64)+1)\n",
    "\n",
    "    control_mean = np.mean(control_values)\n",
    "    treatment_mean = np.mean(treatment_values)\n",
    "\n",
    "    # draw bars based on means\n",
    "    offset = 0.05\n",
    "    width = 0.4\n",
    "\n",
    "    control_rect = Rectangle([offset, 0],\n",
    "                             width,\n",
    "                             control_mean,\n",
    "                             color=control_color,\n",
    "                             alpha=1,\n",
    "                             linewidth=0,\n",
    "                             zorder=-100\n",
    "                             )\n",
    "    ax.add_patch(control_rect)\n",
    "\n",
    "    treatment_rect = Rectangle([0.5+offset, 0],\n",
    "                               width,\n",
    "                               treatment_mean,\n",
    "                               color=treatment_color,\n",
    "                               alpha=1,\n",
    "                               linewidth=0,\n",
    "                               zorder=-100\n",
    "                               )\n",
    "    ax.add_patch(treatment_rect)\n",
    "\n",
    "    # draw the points themselves\n",
    "    ax.scatter([0.25-width/4, 0.25, 0.25+width/4],\n",
    "               control_values,\n",
    "               color=\"white\",\n",
    "               linewidth=1,\n",
    "               s=32,\n",
    "               edgecolor=control_color\n",
    "               )\n",
    "    ax.scatter([0.75-width/4, 0.75, 0.75+width/4],\n",
    "               treatment_values,\n",
    "               color=\"white\",\n",
    "               linewidth=1,\n",
    "               s=32,\n",
    "               edgecolor=treatment_color\n",
    "               )\n",
    "\n",
    "    # figure formatting\n",
    "    ax.spines['top'].set_visible(False)\n",
    "    ax.spines['right'].set_visible(False)\n",
    "    ax.set_xticks([])\n",
    "    ax.set_xlabel(xlabel)\n",
    "    ax.set_ylabel(ylabel)\n",
    "\n",
    "    # space out axes\n",
    "    ax.spines['bottom'].set_position(('axes', 0))\n",
    "    ax.spines['left'].set_position(('axes', -0.05))\n",
    "\n",
    "    # set y minimum to 0\n",
    "    plt.ylim(-0.01)\n",
    "\n",
    "    y_max = max(list(control_values)+list(treatment_values))\n",
    "    \n",
    "    pval = select_abundance[\"pval\"]\n",
    "\n",
    "    if not np.isnan(pval):\n",
    "\n",
    "        if pval < 0.001:\n",
    "            compare_text = \"**\"\n",
    "        elif pval < 0.01:\n",
    "            compare_text = \"*\"\n",
    "        else:\n",
    "            compare_text = \"n.s\"\n",
    "            \n",
    "        ax.text(0.5, \n",
    "                0.9, \n",
    "                compare_text, \n",
    "                ha=\"center\", \n",
    "                fontsize=12,\n",
    "                transform=ax.transAxes\n",
    "               )\n",
    "\n",
    "    return ax, y_max\n",
    "\n",
    "\n",
    "def all_bars(annotation_id, annotation_type, legend=False):\n",
    "\n",
    "    f, axes = plt.subplots(1, 4, sharey=True, figsize=(4.5, 3))\n",
    "\n",
    "    maxes = []\n",
    "\n",
    "    if annotation_type == \"transcript\":\n",
    "        sleuth_sets = [rpl22_oe_transcripts,\n",
    "                       rpl22l1_oe_transcripts,\n",
    "                       sh704_transcripts,\n",
    "                       sh705_transcripts\n",
    "                       ]\n",
    "\n",
    "    elif annotation_type == \"gene\":\n",
    "        sleuth_sets = [rpl22_oe_genes,\n",
    "                       rpl22l1_oe_genes,\n",
    "                       sh704_genes,\n",
    "                       sh705_genes\n",
    "                       ]\n",
    "        \n",
    "    elif annotation_type == \"splicing\":\n",
    "        sleuth_sets = [rpl22_oe_rmats,\n",
    "                       rpl22l1_oe_rmats,\n",
    "                       sh704_rmats,\n",
    "                       sh705_rmats\n",
    "                       ]\n",
    "\n",
    "    for sleuth_idx, sleuth_set in enumerate(sleuth_sets):\n",
    "        ax = axes[sleuth_idx]\n",
    "\n",
    "        ax, y_max = bars(annotation_id,\n",
    "                         experiment_ids[sleuth_idx],\n",
    "                         sleuth_set,\n",
    "                         ax=ax,\n",
    "                         ylabel=\"\")\n",
    "\n",
    "        maxes.append(y_max)\n",
    "\n",
    "        if sleuth_idx > 0:\n",
    "\n",
    "            ax.spines[\"left\"].set_visible(False)\n",
    "            ax.tick_params(axis='y', which='both', right=False,\n",
    "                           left=False, labelleft=False)\n",
    "\n",
    "    axes[0].set_xlabel(\"+RPL22\")\n",
    "    axes[1].set_xlabel(\"+RPL22L1\")\n",
    "    axes[2].set_xlabel(\"shRPL22L11\")\n",
    "    axes[3].set_xlabel(\"shRPL22L12\")\n",
    "    \n",
    "    if annotation_type == \"transcript\" or annotation_type == \"gene\":\n",
    "\n",
    "        axes[0].set_ylabel(\"mRNA expression, log2(TPM+1)\")\n",
    "        \n",
    "    elif annotation_type == \"splicing\":\n",
    "        \n",
    "        axes[0].set_ylabel(\"Exon inclusion proportion\")\n",
    "\n",
    "    plt.ylim(0, max(maxes)*1.25)\n",
    "\n",
    "    plt.subplots_adjust(wspace=0.25)\n",
    "    \n",
    "    if legend:\n",
    "\n",
    "        legend_background = \"#eaeaea\"\n",
    "\n",
    "        legend_elements = [Patch(label='Control',\n",
    "                                 color=control_color, alpha=1),\n",
    "                           Patch(label='Treatment',\n",
    "                                 color=treatment_color, alpha=1)]\n",
    "\n",
    "        legend = plt.legend(handles=legend_elements,\n",
    "                            loc='upper left', bbox_to_anchor=(1, 1),)\n",
    "        frame = legend.get_frame()\n",
    "        frame.set_facecolor(legend_background)\n",
    "        frame.set_edgecolor(legend_background)\n",
    "    \n",
    "    return axes"
   ]
  },
  {
   "cell_type": "code",
   "execution_count": 721,
   "metadata": {
    "ExecuteTime": {
     "end_time": "2019-11-09T18:53:02.735696Z",
     "start_time": "2019-11-09T18:53:02.202305Z"
    }
   },
   "outputs": [
    {
     "data": {
      "image/png": "[encoded data removed]",
      "text/plain": [
       "<Figure size 324x216 with 4 Axes>"
      ]
     },
     "metadata": {
      "needs_background": "light"
     },
     "output_type": "display_data"
    }
   ],
   "source": [
    "all_bars(\"ENSG00000163584\",\"gene\")\n",
    "\n",
    "plt.savefig(\"../plots/RPL22L1_ENSG00000163584_expression.pdf\",bbox_inches=\"tight\",background=\"transparent\")"
   ]
  },
  {
   "cell_type": "code",
   "execution_count": 722,
   "metadata": {
    "ExecuteTime": {
     "end_time": "2019-11-09T18:53:04.471715Z",
     "start_time": "2019-11-09T18:53:03.922465Z"
    }
   },
   "outputs": [
    {
     "data": {
      "image/png": "[encoded data removed]",
      "text/plain": [
       "<Figure size 324x216 with 4 Axes>"
      ]
     },
     "metadata": {
      "needs_background": "light"
     },
     "output_type": "display_data"
    }
   ],
   "source": [
    "all_bars(\"ENSG00000116251\",\"gene\")\n",
    "\n",
    "plt.savefig(\"../plots/RPL22_ENSG00000116251_expression.pdf\",bbox_inches=\"tight\",background=\"transparent\")"
   ]
  },
  {
   "cell_type": "code",
   "execution_count": 723,
   "metadata": {
    "ExecuteTime": {
     "end_time": "2019-11-09T18:53:06.599709Z",
     "start_time": "2019-11-09T18:53:06.081351Z"
    }
   },
   "outputs": [
    {
     "data": {
      "image/png": "[encoded data removed]",
      "text/plain": [
       "<Figure size 324x216 with 4 Axes>"
      ]
     },
     "metadata": {
      "needs_background": "light"
     },
     "output_type": "display_data"
    }
   ],
   "source": [
    "all_bars(\"ENSG00000135679\",\"gene\")\n",
    "\n",
    "plt.savefig(\"../plots/MDM2_ENSG00000135679_expression.pdf\",bbox_inches=\"tight\",background=\"transparent\")"
   ]
  },
  {
   "cell_type": "code",
   "execution_count": 724,
   "metadata": {
    "ExecuteTime": {
     "end_time": "2019-11-09T18:53:08.464682Z",
     "start_time": "2019-11-09T18:53:07.929121Z"
    }
   },
   "outputs": [
    {
     "data": {
      "image/png": "[encoded data removed]",
      "text/plain": [
       "<Figure size 324x216 with 4 Axes>"
      ]
     },
     "metadata": {
      "needs_background": "light"
     },
     "output_type": "display_data"
    }
   ],
   "source": [
    "all_bars(\"ENSG00000198625\",\"gene\")\n",
    "\n",
    "plt.savefig(\"../plots/MDM4_ENSG00000198625_expression.pdf\",bbox_inches=\"tight\",background=\"transparent\")"
   ]
  },
  {
   "cell_type": "code",
   "execution_count": 725,
   "metadata": {
    "ExecuteTime": {
     "end_time": "2019-11-09T18:53:10.501099Z",
     "start_time": "2019-11-09T18:53:10.194840Z"
    }
   },
   "outputs": [
    {
     "data": {
      "text/plain": [
       "array([<matplotlib.axes._subplots.AxesSubplot object at 0x1a31a2e750>,\n",
       "       <matplotlib.axes._subplots.AxesSubplot object at 0x1a367c46d0>,\n",
       "       <matplotlib.axes._subplots.AxesSubplot object at 0x1a367e4290>,\n",
       "       <matplotlib.axes._subplots.AxesSubplot object at 0x1a367e3d50>],\n",
       "      dtype=object)"
      ]
     },
     "execution_count": 725,
     "metadata": {},
     "output_type": "execute_result"
    },
    {
     "data": {
      "image/png": "[encoded data removed]",
      "text/plain": [
       "<Figure size 324x216 with 4 Axes>"
      ]
     },
     "metadata": {
      "needs_background": "light"
     },
     "output_type": "display_data"
    }
   ],
   "source": [
    "all_bars(\"ENSG00000135679\",\"gene\")\n"
   ]
  },
  {
   "cell_type": "code",
   "execution_count": 726,
   "metadata": {
    "ExecuteTime": {
     "end_time": "2019-11-09T18:53:12.648562Z",
     "start_time": "2019-11-09T18:53:12.306524Z"
    }
   },
   "outputs": [
    {
     "data": {
      "text/plain": [
       "array([<matplotlib.axes._subplots.AxesSubplot object at 0x1a31a76650>,\n",
       "       <matplotlib.axes._subplots.AxesSubplot object at 0x1a31a70fd0>,\n",
       "       <matplotlib.axes._subplots.AxesSubplot object at 0x1a31a65990>,\n",
       "       <matplotlib.axes._subplots.AxesSubplot object at 0x1a33fcac50>],\n",
       "      dtype=object)"
      ]
     },
     "execution_count": 726,
     "metadata": {},
     "output_type": "execute_result"
    },
    {
     "data": {
      "image/png": "[encoded data removed]",
      "text/plain": [
       "<Figure size 324x216 with 4 Axes>"
      ]
     },
     "metadata": {
      "needs_background": "light"
     },
     "output_type": "display_data"
    }
   ],
   "source": [
    "all_bars(\"ENSG00000124762\",\"gene\")\n"
   ]
  },
  {
   "cell_type": "markdown",
   "metadata": {},
   "source": [
    "## Volcano plots"
   ]
  },
  {
   "cell_type": "markdown",
   "metadata": {},
   "source": [
    "# Differential splicing"
   ]
  },
  {
   "cell_type": "code",
   "execution_count": 519,
   "metadata": {
    "ExecuteTime": {
     "end_time": "2019-11-07T02:21:53.598584Z",
     "start_time": "2019-11-07T02:21:52.893855Z"
    }
   },
   "outputs": [],
   "source": [
    "rpl22_oe_rmats = pd.read_csv(\"../data/processed/rmats_merge/rpl22_oe.txt\",sep=\"\\t\",index_col=0)\n",
    "rpl22l1_oe_rmats = pd.read_csv(\"../data/processed/rmats_merge/rpl22l1_oe.txt\",sep=\"\\t\",index_col=0)\n",
    "sh704_rmats = pd.read_csv(\"../data/processed/rmats_merge/sh704.txt\",sep=\"\\t\",index_col=0)\n",
    "sh705_rmats = pd.read_csv(\"../data/processed/rmats_merge/sh705.txt\",sep=\"\\t\",index_col=0)"
   ]
  },
  {
   "cell_type": "code",
   "execution_count": 520,
   "metadata": {
    "ExecuteTime": {
     "end_time": "2019-11-07T02:21:53.775760Z",
     "start_time": "2019-11-07T02:21:53.710679Z"
    }
   },
   "outputs": [],
   "source": [
    "rpl22_oe_rmats = rpl22_oe_rmats.rename({\"PValue\":\"pval\"},axis=1)\n",
    "rpl22l1_oe_rmats = rpl22l1_oe_rmats.rename({\"PValue\":\"pval\"},axis=1)\n",
    "sh704_rmats = sh704_rmats.rename({\"PValue\":\"pval\"},axis=1)\n",
    "sh705_rmats = sh705_rmats.rename({\"PValue\":\"pval\"},axis=1)"
   ]
  },
  {
   "cell_type": "code",
   "execution_count": null,
   "metadata": {
    "ExecuteTime": {
     "start_time": "2019-11-09T18:53:15.201Z"
    }
   },
   "outputs": [],
   "source": [
    "all_bars(\"UBAP2L_ENSG00000143569_154241837_154241888_154241232_154241430_154243356_154243649\", \n",
    "     \"splicing\")\n",
    "\n",
    "plt.savefig(\"../plots/UBAP2L_splicing.pdf\",bbox_inches=\"tight\",background=\"transparent\")"
   ]
  },
  {
   "cell_type": "code",
   "execution_count": 714,
   "metadata": {
    "ExecuteTime": {
     "end_time": "2019-11-09T18:51:10.891713Z",
     "start_time": "2019-11-09T18:51:10.343293Z"
    }
   },
   "outputs": [
    {
     "data": {
      "image/png": "[encoded data removed]",
      "text/plain": [
       "<Figure size 324x216 with 4 Axes>"
      ]
     },
     "metadata": {
      "needs_background": "light"
     },
     "output_type": "display_data"
    }
   ],
   "source": [
    "axes = all_bars(\"RPL22L1_ENSG00000163584_170585801_170585990_170585801_170585923_170586086_170586176\", \n",
    "     \"splicing\")\n",
    "\n",
    "plt.savefig(\"../plots/RPL22L1_3A_splicing.pdf\",bbox_inches=\"tight\",background=\"transparent\")"
   ]
  },
  {
   "cell_type": "code",
   "execution_count": 715,
   "metadata": {
    "ExecuteTime": {
     "end_time": "2019-11-09T18:51:13.630255Z",
     "start_time": "2019-11-09T18:51:13.093610Z"
    }
   },
   "outputs": [
    {
     "data": {
      "image/png": "[encoded data removed]",
      "text/plain": [
       "<Figure size 324x216 with 4 Axes>"
      ]
     },
     "metadata": {
      "needs_background": "light"
     },
     "output_type": "display_data"
    }
   ],
   "source": [
    "axes = all_bars(\"MDM4_ENSG00000198625_204506557_204506625_204501318_204501374_204507336_204507436\", \n",
    "     \"splicing\")\n",
    "\n",
    "plt.savefig(\"../plots/MDM4_6_splicing.pdf\",bbox_inches=\"tight\",background=\"transparent\")"
   ]
  }
 ],
 "metadata": {
  "kernelspec": {
   "display_name": "Python 3",
   "language": "python",
   "name": "python3"
  },
  "language_info": {
   "codemirror_mode": {
    "name": "ipython",
    "version": 3
   },
   "file_extension": ".py",
   "mimetype": "text/x-python",
   "name": "python",
   "nbconvert_exporter": "python",
   "pygments_lexer": "ipython3",
   "version": "3.7.4"
  },
  "toc": {
   "base_numbering": 1,
   "nav_menu": {},
   "number_sections": true,
   "sideBar": true,
   "skip_h1_title": false,
   "title_cell": "Table of Contents",
   "title_sidebar": "Contents",
   "toc_cell": false,
   "toc_position": {},
   "toc_section_display": true,
   "toc_window_display": true
  }
 },
 "nbformat": 4,
 "nbformat_minor": 2
}
