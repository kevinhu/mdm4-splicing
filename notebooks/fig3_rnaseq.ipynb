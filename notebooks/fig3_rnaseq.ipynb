{
 "cells": [
  {
   "cell_type": "code",
   "execution_count": 1,
   "metadata": {
    "ExecuteTime": {
     "end_time": "2019-10-30T17:58:38.021938Z",
     "start_time": "2019-10-30T17:58:36.503990Z"
    }
   },
   "outputs": [],
   "source": [
    "import numpy as np\n",
    "import pandas as pd\n",
    "\n",
    "import seaborn as sns\n",
    "import matplotlib.pyplot as plt"
   ]
  },
  {
   "cell_type": "markdown",
   "metadata": {},
   "source": [
    "# Load TPMS and sleuth results"
   ]
  },
  {
   "cell_type": "code",
   "execution_count": 13,
   "metadata": {
    "ExecuteTime": {
     "end_time": "2019-10-30T18:09:36.597385Z",
     "start_time": "2019-10-30T18:09:36.205650Z"
    }
   },
   "outputs": [],
   "source": [
    "named_tpms = pd.read_hdf(\"../data/processed/tpm_matrix_named.hdf\",key=\"named_tpms\")\n",
    "\n",
    "rpl22_oe = pd.read_hdf(\"../data/intermediate/kallisto_sleuth/RPL22_oe.hdf\", key=\"rpl22_oe\")\n",
    "rpl22l1_oe = pd.read_hdf(\"../data/intermediate/kallisto_sleuth/RPL22L1_oe.hdf\", key=\"rpl22l1_oe\")\n",
    "sh704 = pd.read_hdf(\"../data/intermediate/kallisto_sleuth/sh704.hdf\", key=\"sh704\")\n",
    "sh705 = pd.read_hdf(\"../data/intermediate/kallisto_sleuth/sh705.hdf\", key=\"sh705\")"
   ]
  },
  {
   "cell_type": "code",
   "execution_count": 31,
   "metadata": {
    "ExecuteTime": {
     "end_time": "2019-10-30T18:17:04.307040Z",
     "start_time": "2019-10-30T18:17:04.301937Z"
    }
   },
   "outputs": [],
   "source": [
    "experiments = ['LNCaP_GFP_1',\n",
    "               'LNCaP_GFP_2',\n",
    "               'LNCaP_GFP_3',\n",
    "               'LNCaP_RPL22_1',\n",
    "               'LNCaP_RPL22_2',\n",
    "               'LNCaP_RPL22_3',\n",
    "               'CAL851_GFP_1',\n",
    "               'CAL851_GFP_2',\n",
    "               'CAL851_GFP_3',\n",
    "               'CAL851_RPL22L1_1',\n",
    "               'CAL851_RPL22L1_2',\n",
    "               'CAL851_RPL22L1_3',\n",
    "               'LNCaP_shLuc_1',\n",
    "               'LNCaP_shLuc_2',\n",
    "               'LNCaP_shLuc_3',\n",
    "               'LNCaP_sh704_1',\n",
    "               'LNCaP_sh704_2',\n",
    "               'LNCaP_sh704_3',\n",
    "               'LNCaP_sh705_1',\n",
    "               'LNCaP_sh705_2',\n",
    "               'LNCaP_sh705_3']\n",
    "\n",
    "controls = ['LNCaP_GFP_1',\n",
    "            'LNCaP_GFP_2',\n",
    "            'LNCaP_GFP_3',\n",
    "            'CAL851_GFP_1',\n",
    "            'CAL851_GFP_2',\n",
    "            'CAL851_GFP_3',\n",
    "            'LNCaP_shLuc_1',\n",
    "            'LNCaP_shLuc_2',\n",
    "            'LNCaP_shLuc_3',\n",
    "            'LNCaP_shLuc_1',\n",
    "            'LNCaP_shLuc_2',\n",
    "            'LNCaP_shLuc_3',\n",
    "            ]\n",
    "\n",
    "experiments = ['LNCaP_RPL22_1',\n",
    "               'LNCaP_RPL22_2',\n",
    "               'LNCaP_RPL22_3',\n",
    "               'CAL851_RPL22L1_1',\n",
    "               'CAL851_RPL22L1_2',\n",
    "               'CAL851_RPL22L1_3',\n",
    "               'LNCaP_sh704_1',\n",
    "               'LNCaP_sh704_2',\n",
    "               'LNCaP_sh704_3',\n",
    "               'LNCaP_sh705_1',\n",
    "               'LNCaP_sh705_2',\n",
    "               'LNCaP_sh705_3']"
   ]
  },
  {
   "cell_type": "code",
   "execution_count": 34,
   "metadata": {
    "ExecuteTime": {
     "end_time": "2019-10-30T18:17:46.292505Z",
     "start_time": "2019-10-30T18:17:46.284165Z"
    }
   },
   "outputs": [],
   "source": [
    "def plot_tpm_dist(transcript_id):\n",
    "    \n",
    "    select_abundance = named_tpms[transcript_id]\n",
    "\n",
    "    expression_df = pd.DataFrame(index = controls+experiments)\n",
    "\n",
    "    expression_df[\"Gene TPM\"] = np.log2(select_abundance.loc[expression_df.index]+1)\n",
    "\n",
    "    expression_df[\"treatment\"] = [\"Control\"]*12 + [\"Treatment\"]*12\n",
    "\n",
    "    expression_df[\"Experiment\"] = (\n",
    "        [\"RPL22++\"]*3 + [\"RPL22L1++\"]*3 + [\"sh704\"]*3 + [\"sh705\"]*3)*2\n",
    "\n",
    "    plt.figure(figsize=(4, 2.5))\n",
    "\n",
    "    sns.barplot(x=\"Experiment\",\n",
    "                y=\"Gene TPM\",\n",
    "                data=expression_df,\n",
    "                hue=\"treatment\",\n",
    "                palette={\"Control\": \"#e3e3e3\", \"Treatment\": \"#286DC0\"},\n",
    "                ci=None)\n",
    "\n",
    "    ax = sns.stripplot(x=\"Experiment\",\n",
    "                       y=\"Gene TPM\",\n",
    "                       data=expression_df,\n",
    "                       hue=\"treatment\",\n",
    "                       dodge=True,\n",
    "                       palette={\"Control\": \"#e3e3e3\", \"Treatment\": \"#286DC0\"},\n",
    "                       size=8,\n",
    "                       jitter=False,\n",
    "                       linewidth=2,\n",
    "                       edgecolor=\"black\",\n",
    "                       alpha=0.75\n",
    "                      )\n",
    "\n",
    "    ax.get_legend().remove()\n",
    "\n",
    "    ax.spines['top'].set_visible(False)\n",
    "    ax.spines['right'].set_visible(False)\n",
    "    \n",
    "    plt.ylim(0)\n",
    "    \n",
    "    plt.title(transcript_id.split(\"_\")[0])\n",
    "    \n",
    "#     plt.savefig(\"../plots/\"+gene_id+\"_expression_distribution.pdf\",bbox_inches=\"tight\")\n"
   ]
  },
  {
   "cell_type": "code",
   "execution_count": null,
   "metadata": {},
   "outputs": [],
   "source": [
    "named_tpms[\"RPL22L1_ENST00000295830.13\"]"
   ]
  },
  {
   "cell_type": "code",
   "execution_count": 35,
   "metadata": {
    "ExecuteTime": {
     "end_time": "2019-10-30T18:17:48.685706Z",
     "start_time": "2019-10-30T18:17:48.524448Z"
    }
   },
   "outputs": [
    {
     "data": {
      "image/png": "[encoded data removed]",
      "text/plain": [
       "<Figure size 288x180 with 1 Axes>"
      ]
     },
     "metadata": {
      "needs_background": "light"
     },
     "output_type": "display_data"
    }
   ],
   "source": [
    "plot_tpm_dist(\"RPL22L1_ENST00000295830.13\")"
   ]
  },
  {
   "cell_type": "code",
   "execution_count": null,
   "metadata": {},
   "outputs": [],
   "source": [
    "plot_tpm_dist(\"RPL22L1_ENST00000295830.13\")"
   ]
  }
 ],
 "metadata": {
  "kernelspec": {
   "display_name": "Python 3",
   "language": "python",
   "name": "python3"
  },
  "language_info": {
   "codemirror_mode": {
    "name": "ipython",
    "version": 3
   },
   "file_extension": ".py",
   "mimetype": "text/x-python",
   "name": "python",
   "nbconvert_exporter": "python",
   "pygments_lexer": "ipython3",
   "version": "3.7.4"
  },
  "toc": {
   "base_numbering": 1,
   "nav_menu": {},
   "number_sections": true,
   "sideBar": true,
   "skip_h1_title": false,
   "title_cell": "Table of Contents",
   "title_sidebar": "Contents",
   "toc_cell": false,
   "toc_position": {},
   "toc_section_display": true,
   "toc_window_display": false
  }
 },
 "nbformat": 4,
 "nbformat_minor": 2
}
