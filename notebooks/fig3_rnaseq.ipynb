{
 "cells": [
  {
   "cell_type": "code",
   "execution_count": 86,
   "metadata": {
    "ExecuteTime": {
     "end_time": "2019-11-06T20:45:29.874198Z",
     "start_time": "2019-11-06T20:45:29.867879Z"
    }
   },
   "outputs": [],
   "source": [
    "import numpy as np\n",
    "import pandas as pd\n",
    "\n",
    "import seaborn as sns\n",
    "import matplotlib.pyplot as plt\n",
    "from matplotlib.lines import Line2D\n",
    "\n",
    "from statsmodels.stats.multitest import multipletests"
   ]
  },
  {
   "cell_type": "markdown",
   "metadata": {},
   "source": [
    "# Define experiments"
   ]
  },
  {
   "cell_type": "code",
   "execution_count": 87,
   "metadata": {
    "ExecuteTime": {
     "end_time": "2019-11-06T20:45:30.523311Z",
     "start_time": "2019-11-06T20:45:30.513855Z"
    }
   },
   "outputs": [],
   "source": [
    "experiments = {\"rpl22_oe\": [\n",
    "    ['LNCaP_GFP_1',\n",
    "     'LNCaP_GFP_2',\n",
    "     'LNCaP_GFP_3'],\n",
    "    ['LNCaP_RPL22_1',\n",
    "     'LNCaP_RPL22_2',\n",
    "     'LNCaP_RPL22_3']\n",
    "],\n",
    "    \"rpl22l1_oe\": [\n",
    "    ['CAL851_GFP_1',\n",
    "     'CAL851_GFP_2',\n",
    "     'CAL851_GFP_3'],\n",
    "    ['CAL851_RPL22L1_1',\n",
    "     'CAL851_RPL22L1_2',\n",
    "     'CAL851_RPL22L1_3']\n",
    "],\n",
    "    \"sh704\": [\n",
    "    ['LNCaP_shLuc_1',\n",
    "     'LNCaP_shLuc_2',\n",
    "     'LNCaP_shLuc_3'],\n",
    "    ['LNCaP_sh704_1',\n",
    "     'LNCaP_sh704_2',\n",
    "     'LNCaP_sh704_3']\n",
    "],\n",
    "    \"sh705\": [\n",
    "    ['LNCaP_shLuc_1',\n",
    "     'LNCaP_shLuc_2',\n",
    "     'LNCaP_shLuc_3'],\n",
    "    ['LNCaP_sh705_1',\n",
    "     'LNCaP_sh705_2',\n",
    "     'LNCaP_sh705_3']\n",
    "]\n",
    "}\n",
    "\n",
    "experiment_ids = [\"rpl22_oe\",\"rpl22l1_oe\",\"sh704\",\"sh705\"]"
   ]
  },
  {
   "cell_type": "markdown",
   "metadata": {},
   "source": [
    "# Load TPMS and sleuth results"
   ]
  },
  {
   "cell_type": "code",
   "execution_count": 102,
   "metadata": {
    "ExecuteTime": {
     "end_time": "2019-11-06T20:51:15.909048Z",
     "start_time": "2019-11-06T20:51:13.294107Z"
    }
   },
   "outputs": [],
   "source": [
    "kallisto_sleuth_path = \"../data/processed/kallisto_sleuth_merge/\"\n",
    "\n",
    "rpl22_oe_genes = pd.read_csv(kallisto_sleuth_path + \"rpl22_oe_genes.txt\", sep=\"\\t\", index_col=0)\n",
    "rpl22l1_oe_genes = pd.read_csv(kallisto_sleuth_path + \"rpl22l1_oe_genes.txt\", sep=\"\\t\", index_col=0)\n",
    "sh704_genes = pd.read_csv(kallisto_sleuth_path + \"sh704_genes.txt\", sep=\"\\t\", index_col=0)\n",
    "sh705_genes = pd.read_csv(kallisto_sleuth_path + \"sh705_genes.txt\", sep=\"\\t\", index_col=0)\n",
    "\n",
    "rpl22_oe_transcripts = pd.read_csv(kallisto_sleuth_path + \"rpl22_oe_transcripts.txt\", sep=\"\\t\", index_col=0)\n",
    "rpl22l1_oe_transcripts = pd.read_csv(kallisto_sleuth_path + \"rpl22l1_oe_transcripts.txt\", sep=\"\\t\", index_col=0)\n",
    "sh704_transcripts = pd.read_csv(kallisto_sleuth_path + \"sh704_transcripts.txt\", sep=\"\\t\", index_col=0)\n",
    "sh705_transcripts = pd.read_csv(kallisto_sleuth_path + \"sh705_transcripts.txt\", sep=\"\\t\", index_col=0)"
   ]
  },
  {
   "cell_type": "markdown",
   "metadata": {},
   "source": [
    "# Differential expression"
   ]
  },
  {
   "cell_type": "code",
   "execution_count": 103,
   "metadata": {
    "ExecuteTime": {
     "end_time": "2019-11-06T20:51:17.842007Z",
     "start_time": "2019-11-06T20:51:17.838004Z"
    }
   },
   "outputs": [],
   "source": [
    "def as_si(x, ndp):\n",
    "    \"\"\"\n",
    "    Convert a number to scientific notation\n",
    "\n",
    "    Parameters\n",
    "    ----------\n",
    "    x : float\n",
    "        number to convert\n",
    "    ndp: float\n",
    "        number of decimal places\n",
    "\n",
    "    Returns\n",
    "    -------\n",
    "    x_si : string\n",
    "        x formatted in scientific notation\n",
    "    \"\"\"\n",
    "\n",
    "    s = '{x:0.{ndp:d}e}'.format(x=x, ndp=ndp)\n",
    "    m, e = s.split('e')\n",
    "    x_si = r'{m:s} × $10^{{{e:d}}}$'.format(m=m, e=int(e))\n",
    "\n",
    "    return x_si"
   ]
  },
  {
   "cell_type": "code",
   "execution_count": 116,
   "metadata": {
    "ExecuteTime": {
     "end_time": "2019-11-06T20:58:20.142144Z",
     "start_time": "2019-11-06T20:58:20.120294Z"
    }
   },
   "outputs": [],
   "source": [
    "control_color = \"grey\"\n",
    "treatment_color = \"red\"\n",
    "alpha = 0.5\n",
    "\n",
    "\n",
    "def plot_tpm_dist(transcript_id, experiment_id, diff_results, ax=None, pal=None, xlabel=None, ylabel=None):\n",
    "\n",
    "    if ax is None:\n",
    "        ax = plt.subplot(111)\n",
    "\n",
    "    if pal is None:\n",
    "        pal = sns.color_palette([control_color, treatment_color])\n",
    "\n",
    "    if xlabel is None:\n",
    "        xlabel = experiment_id\n",
    "\n",
    "    if ylabel is None:\n",
    "        ylabel = \"mRNA expression, log2(TPM + 1)\"\n",
    "\n",
    "    select_abundance = diff_results.loc[transcript_id]\n",
    "\n",
    "    controls = experiments[experiment_id][0]\n",
    "    treatments = experiments[experiment_id][1]\n",
    "\n",
    "    tpms = np.log2(select_abundance[controls+treatments].astype(np.float64)+1)\n",
    "\n",
    "    expression_df = pd.DataFrame(index=controls+treatments)\n",
    "\n",
    "    expression_df[\"tpm\"] = tpms\n",
    "    expression_df[\"treatment\"] = [\"control\"] * \\\n",
    "        len(controls)+[\"treatment\"]*len(treatments)\n",
    "\n",
    "    sns.swarmplot(x=\"treatment\",\n",
    "                  y=\"tpm\",\n",
    "                  data=expression_df,\n",
    "                  ax=ax,\n",
    "                  palette=pal,\n",
    "                  s=6,\n",
    "                  alpha=1,\n",
    "                  edgecolor=\"black\",\n",
    "                  )\n",
    "\n",
    "    sns.barplot(x=\"treatment\",\n",
    "                y=\"tpm\",\n",
    "                data=expression_df,\n",
    "                ax=ax,\n",
    "                palette=pal,\n",
    "                alpha=alpha/2,\n",
    "                linewidth=1,\n",
    "                ci=None\n",
    "                )\n",
    "\n",
    "    means = expression_df.groupby(\"treatment\")[\"tpm\"].mean()\n",
    "\n",
    "    ax.axhline(means[\"control\"], 0.1, 0.4,\n",
    "               linewidth=1, color=\"black\", zorder=100)\n",
    "    ax.axhline(means[\"treatment\"], 0.6, 0.9,\n",
    "               linewidth=1, color=\"black\", zorder=100)\n",
    "\n",
    "    ax.spines['top'].set_visible(False)\n",
    "    ax.spines['right'].set_visible(False)\n",
    "    ax.set_xticks([])\n",
    "    ax.set_xlabel(xlabel)\n",
    "    ax.set_ylabel(ylabel)\n",
    "\n",
    "    ax.spines['bottom'].set_position(('axes', -0.05))\n",
    "    ax.spines['left'].set_position(('axes', -0.05))\n",
    "\n",
    "    plt.ylim(0)\n",
    "\n",
    "    y_max = max(tpms)\n",
    "\n",
    "    if not np.isnan(select_abundance[\"qval\"]):\n",
    "\n",
    "        qval = as_si(select_abundance[\"qval\"], 0)\n",
    "        ax.text(0.5, y_max*1.2, qval, ha=\"center\", fontsize=8)\n",
    "\n",
    "    return ax, y_max\n",
    "\n",
    "\n",
    "def plot_tpm_dist_all(annotation_id,annotation_type):\n",
    "\n",
    "    f, axes = plt.subplots(1, 4, sharey=True, figsize=(4, 3))\n",
    "\n",
    "    maxes = []\n",
    "    \n",
    "    if annotation_type == \"transcript\":\n",
    "\n",
    "        sleuth_sets = [rpl22_oe_transcripts,\n",
    "                       rpl22l1_oe_transcripts,\n",
    "                       sh704_transcripts,\n",
    "                       sh705_transcripts\n",
    "                       ]\n",
    "        \n",
    "    elif annotation_type == \"gene\":\n",
    "        \n",
    "        sleuth_sets = [rpl22_oe_genes,\n",
    "                       rpl22l1_oe_genes,\n",
    "                       sh704_genes,\n",
    "                       sh705_genes\n",
    "                       ]\n",
    "\n",
    "    for sleuth_idx, sleuth_set in enumerate(sleuth_sets):\n",
    "        ax = axes[sleuth_idx]\n",
    "        \n",
    "        ax, y_max = plot_tpm_dist(annotation_id, \n",
    "                                  experiment_ids[sleuth_idx], \n",
    "                                  sleuth_set, \n",
    "                                  ax=ax, \n",
    "                                  ylabel=\"\")\n",
    "        \n",
    "        maxes.append(y_max)\n",
    "    \n",
    "        if sleuth_idx > 0:\n",
    "    \n",
    "            ax.spines[\"left\"].set_visible(False)\n",
    "            ax.tick_params(axis='y', which='both', right=False,\n",
    "                           left=False, labelleft=False)\n",
    "            \n",
    "    axes[0].set_xlabel(\"RPL22++\")\n",
    "    axes[1].set_xlabel(\"RPL22L1++\")\n",
    "    \n",
    "\n",
    "    plt.ylim(-0.1, max(maxes)*1.25)\n",
    "\n",
    "    plt.subplots_adjust(wspace=0.4)\n",
    "\n",
    "    legend_elements = [Line2D([0], [0], marker='o', color=\"white\", label='Control',\n",
    "                              markerfacecolor=control_color, markersize=8, alpha=alpha),\n",
    "                       Line2D([0], [0], marker='o', color=\"white\", label='Treatment',\n",
    "                              markerfacecolor=treatment_color, markersize=8, alpha=alpha)]\n",
    "\n",
    "    plt.legend(handles=legend_elements,\n",
    "               loc='upper left', bbox_to_anchor=(1, 1))"
   ]
  },
  {
   "cell_type": "code",
   "execution_count": 117,
   "metadata": {
    "ExecuteTime": {
     "end_time": "2019-11-06T20:58:26.756277Z",
     "start_time": "2019-11-06T20:58:26.351533Z"
    }
   },
   "outputs": [
    {
     "data": {
      "image/png": "[encoded data removed]",
      "text/plain": [
       "<Figure size 288x216 with 4 Axes>"
      ]
     },
     "metadata": {
      "needs_background": "light"
     },
     "output_type": "display_data"
    }
   ],
   "source": [
    "plot_tpm_dist_all(\"ENST00000463836\",\"transcript\")"
   ]
  },
  {
   "cell_type": "code",
   "execution_count": 120,
   "metadata": {
    "ExecuteTime": {
     "end_time": "2019-11-06T20:59:17.495405Z",
     "start_time": "2019-11-06T20:59:16.942461Z"
    }
   },
   "outputs": [
    {
     "data": {
      "image/png": "[encoded data removed]",
      "text/plain": [
       "<Figure size 288x216 with 4 Axes>"
      ]
     },
     "metadata": {
      "needs_background": "light"
     },
     "output_type": "display_data"
    }
   ],
   "source": [
    "plot_tpm_dist_all(\"ENSG00000163584\",\"gene\")"
   ]
  },
  {
   "cell_type": "markdown",
   "metadata": {},
   "source": [
    "## Volcano plots"
   ]
  },
  {
   "cell_type": "code",
   "execution_count": 96,
   "metadata": {
    "ExecuteTime": {
     "end_time": "2019-11-06T20:49:04.790577Z",
     "start_time": "2019-11-06T20:49:04.786202Z"
    }
   },
   "outputs": [],
   "source": [
    "def compute_medians(sleuth_diff, experiment):\n",
    "    sleuth_diff[\"control_median\"] = sleuth_diff[experiments[experiment][0]].median(axis=1)\n",
    "    sleuth_diff[\"treatment_median\"] = sleuth_diff[experiments[experiment][1]].median(axis=1)\n",
    "    sleuth_diff[\"median_foldchange\"] = sleuth_diff[\"treatment_median\"]/sleuth_diff[\"control_median\"]"
   ]
  },
  {
   "cell_type": "code",
   "execution_count": 97,
   "metadata": {
    "ExecuteTime": {
     "end_time": "2019-11-06T20:49:06.471320Z",
     "start_time": "2019-11-06T20:49:05.673860Z"
    }
   },
   "outputs": [],
   "source": [
    "compute_medians(rpl22_oe_genes,\"rpl22_oe\")\n",
    "compute_medians(rpl22l1_oe_genes,\"rpl22l1_oe\")\n",
    "compute_medians(sh704_genes,\"sh704\")\n",
    "compute_medians(sh705_genes,\"sh705\")\n",
    "\n",
    "compute_medians(rpl22_oe_transcripts,\"rpl22_oe\")\n",
    "compute_medians(rpl22l1_oe_transcripts,\"rpl22l1_oe\")\n",
    "compute_medians(sh704_transcripts,\"sh704\")\n",
    "compute_medians(sh705_transcripts,\"sh705\")"
   ]
  },
  {
   "cell_type": "markdown",
   "metadata": {},
   "source": [
    "# Differential splicing"
   ]
  },
  {
   "cell_type": "code",
   "execution_count": 26,
   "metadata": {
    "ExecuteTime": {
     "end_time": "2019-11-02T17:17:07.232847Z",
     "start_time": "2019-11-02T17:17:06.733253Z"
    }
   },
   "outputs": [],
   "source": [
    "rpl22_oe_rmats = pd.read_csv(\"../data/processed/rmats_merge/rpl22_oe.txt\",sep=\"\\t\")\n",
    "rpl22l1_oe_rmats = pd.read_csv(\"../data/processed/rmats_merge/rpl22l1_oe.txt\",sep=\"\\t\")\n",
    "sh704_rmats = pd.read_csv(\"../data/processed/rmats_merge/sh704.txt\",sep=\"\\t\")\n",
    "sh705_rmats = pd.read_csv(\"../data/processed/rmats_merge/sh705.txt\",sep=\"\\t\")"
   ]
  },
  {
   "cell_type": "code",
   "execution_count": 27,
   "metadata": {
    "ExecuteTime": {
     "end_time": "2019-11-02T17:17:08.081513Z",
     "start_time": "2019-11-02T17:17:08.069410Z"
    }
   },
   "outputs": [],
   "source": [
    "def plot_psi_dist(exon_id, experiment_id, diff_results, ax=None, pal=None, xlabel=None, ylabel=None):\n",
    "\n",
    "    if ax is None:\n",
    "        ax = plt.subplot(111)\n",
    "\n",
    "    if pal is None:\n",
    "        pal = sns.color_palette([control_color, treatment_color])\n",
    "\n",
    "    if xlabel is None:\n",
    "        xlabel = experiment_id\n",
    "\n",
    "    if ylabel is None:\n",
    "        ylabel = \"mRNA expression, log2(TPM + 1)\"\n",
    "\n",
    "    select_abundance = diff_results.loc[exon_id]\n",
    "\n",
    "    controls = experiments[experiment_id][0]\n",
    "    treatments = experiments[experiment_id][1]\n",
    "\n",
    "    tpms = np.log2(select_abundance[controls+treatments].astype(np.float64)+1)\n",
    "\n",
    "    expression_df = pd.DataFrame(index=controls+treatments)\n",
    "\n",
    "    expression_df[\"tpm\"] = tpms\n",
    "    expression_df[\"treatment\"] = [\"control\"] * \\\n",
    "        len(controls)+[\"treatment\"]*len(treatments)\n",
    "\n",
    "    sns.swarmplot(x=\"treatment\",\n",
    "                  y=\"tpm\",\n",
    "                  data=expression_df,\n",
    "                  ax=ax,\n",
    "                  palette=pal,\n",
    "                  s=6,\n",
    "                  alpha=alpha,\n",
    "                  linewidth=1,\n",
    "                  edgecolor=\"black\",\n",
    "                  )\n",
    "    \n",
    "    means = expression_df.groupby(\"treatment\")[\"tpm\"].mean()\n",
    "    \n",
    "    ax.axhline(means[\"control\"], 0.15,0.35, linewidth=2, color=\"black\", zorder=100)\n",
    "    ax.axhline(means[\"treatment\"], 0.65,0.85, linewidth=2, color=\"black\", zorder=100)\n",
    "\n",
    "    ax.spines['top'].set_visible(False)\n",
    "    ax.spines['right'].set_visible(False)\n",
    "    ax.set_xticks([])\n",
    "    ax.set_xlabel(xlabel)\n",
    "    ax.set_ylabel(ylabel)\n",
    "\n",
    "    ax.spines['bottom'].set_position(('axes', -0.05))\n",
    "    ax.spines['left'].set_position(('axes', -0.05))\n",
    "    \n",
    "    plt.ylim(0)\n",
    "    \n",
    "    y_max = max(tpms)\n",
    "    \n",
    "    if not np.isnan(select_abundance[\"qval\"]):\n",
    "    \n",
    "        qval = as_si(select_abundance[\"qval\"],0)\n",
    "        ax.text(0.5, y_max*1.2, qval,ha=\"center\",fontsize=8)\n",
    "\n",
    "    return ax, y_max\n"
   ]
  }
 ],
 "metadata": {
  "kernelspec": {
   "display_name": "Python 3",
   "language": "python",
   "name": "python3"
  },
  "language_info": {
   "codemirror_mode": {
    "name": "ipython",
    "version": 3
   },
   "file_extension": ".py",
   "mimetype": "text/x-python",
   "name": "python",
   "nbconvert_exporter": "python",
   "pygments_lexer": "ipython3",
   "version": "3.7.4"
  },
  "toc": {
   "base_numbering": 1,
   "nav_menu": {},
   "number_sections": true,
   "sideBar": true,
   "skip_h1_title": false,
   "title_cell": "Table of Contents",
   "title_sidebar": "Contents",
   "toc_cell": false,
   "toc_position": {},
   "toc_section_display": true,
   "toc_window_display": true
  }
 },
 "nbformat": 4,
 "nbformat_minor": 2
}
