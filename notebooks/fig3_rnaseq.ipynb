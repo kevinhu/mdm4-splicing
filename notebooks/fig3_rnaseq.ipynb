{
 "cells": [
  {
   "cell_type": "code",
   "execution_count": 202,
   "metadata": {
    "ExecuteTime": {
     "end_time": "2020-04-10T00:02:33.105444Z",
     "start_time": "2020-04-10T00:02:33.098980Z"
    }
   },
   "outputs": [],
   "source": [
    "import numpy as np\n",
    "import pandas as pd\n",
    "\n",
    "import seaborn as sns\n",
    "import matplotlib.pyplot as plt\n",
    "import matplotlib as mpl\n",
    "from matplotlib.collections import PatchCollection\n",
    "from matplotlib.patches import Rectangle\n",
    "import matplotlib.font_manager as fm\n",
    "from textwrap import wrap\n",
    "\n",
    "\n",
    "prop = fm.FontProperties(fname='../plots/arial.ttf')\n",
    "\n",
    "plt.rcParams['ps.useafm'] = True\n",
    "plt.rcParams['font.family'] = 'Arial'\n",
    "plt.rcParams['pdf.fonttype'] = 42\n",
    "plt.rcParams['ps.fonttype'] = 42\n",
    "\n",
    "from statsmodels.stats.multitest import multipletests\n",
    "\n",
    "import sys\n",
    "import os\n",
    "\n",
    "sys.path.append(os.path.relpath(\"../../huygens\"))\n",
    "sys.path.append(os.path.relpath(\"../../galileo\"))\n",
    "import galileo as gal\n",
    "import huygens as huy"
   ]
  },
  {
   "cell_type": "markdown",
   "metadata": {},
   "source": [
    "# Define experiments"
   ]
  },
  {
   "cell_type": "code",
   "execution_count": 203,
   "metadata": {
    "ExecuteTime": {
     "end_time": "2020-04-10T00:02:35.062480Z",
     "start_time": "2020-04-10T00:02:35.058615Z"
    }
   },
   "outputs": [],
   "source": [
    "with open(\"experiments.json\",\"r\") as f:\n",
    "    exp = json.load(f)\n",
    "    \n",
    "    experiments = exp[\"experiments\"]\n",
    "    experiment_ids = exp[\"experiment_ids\"]\n",
    "    display_names = exp[\"display_names\"]\n",
    "    display_groups = exp[\"display_groups\"]\n"
   ]
  },
  {
   "cell_type": "markdown",
   "metadata": {},
   "source": [
    "# Load TPMS and sleuth results"
   ]
  },
  {
   "cell_type": "code",
   "execution_count": 182,
   "metadata": {
    "ExecuteTime": {
     "end_time": "2020-04-09T23:53:47.511580Z",
     "start_time": "2020-04-09T23:53:45.095682Z"
    }
   },
   "outputs": [],
   "source": [
    "kallisto_sleuth_path = \"../data/processed/kallisto_sleuth_merge/\"\n",
    "\n",
    "rpl22_oe_genes = pd.read_csv(kallisto_sleuth_path + \"rpl22_oe_genes.txt\", sep=\"\\t\", index_col=0)\n",
    "rpl22l1_oe_genes = pd.read_csv(kallisto_sleuth_path + \"rpl22l1_oe_genes.txt\", sep=\"\\t\", index_col=0)\n",
    "rpl22l1_kd1_genes = pd.read_csv(kallisto_sleuth_path + \"rpl22l1_kd1_genes.txt\", sep=\"\\t\", index_col=0)\n",
    "rpl22l1_kd2_genes = pd.read_csv(kallisto_sleuth_path + \"rpl22l1_kd2_genes.txt\", sep=\"\\t\", index_col=0)\n",
    "rpl22_ko1_genes = pd.read_csv(kallisto_sleuth_path + \"rpl22_ko1_genes.txt\", sep=\"\\t\", index_col=0)\n",
    "rpl22_ko2_genes = pd.read_csv(kallisto_sleuth_path + \"rpl22_ko2_genes.txt\", sep=\"\\t\", index_col=0)\n",
    "\n",
    "rpl22_oe_transcripts = pd.read_csv(kallisto_sleuth_path + \"rpl22_oe_transcripts.txt\", sep=\"\\t\", index_col=0)\n",
    "rpl22l1_oe_transcripts = pd.read_csv(kallisto_sleuth_path + \"rpl22l1_oe_transcripts.txt\", sep=\"\\t\", index_col=0)\n",
    "rpl22l1_kd1_transcripts = pd.read_csv(kallisto_sleuth_path + \"rpl22l1_kd1_transcripts.txt\", sep=\"\\t\", index_col=0)\n",
    "rpl22l1_kd2_transcripts = pd.read_csv(kallisto_sleuth_path + \"rpl22l1_kd2_transcripts.txt\", sep=\"\\t\", index_col=0)\n",
    "rpl22_ko1_transcripts = pd.read_csv(kallisto_sleuth_path + \"rpl22_ko1_transcripts.txt\", sep=\"\\t\", index_col=0)\n",
    "rpl22_ko2_transcripts = pd.read_csv(kallisto_sleuth_path + \"rpl22_ko2_transcripts.txt\", sep=\"\\t\", index_col=0)"
   ]
  },
  {
   "cell_type": "markdown",
   "metadata": {},
   "source": [
    "# Differential expression"
   ]
  },
  {
   "cell_type": "code",
   "execution_count": 183,
   "metadata": {
    "ExecuteTime": {
     "end_time": "2020-04-09T23:53:48.164501Z",
     "start_time": "2020-04-09T23:53:48.160194Z"
    }
   },
   "outputs": [],
   "source": [
    "def as_si(x, ndp):\n",
    "    \"\"\"\n",
    "    Convert a number to scientific notation\n",
    "\n",
    "    Parameters\n",
    "    ----------\n",
    "    x : float\n",
    "        number to convert\n",
    "    ndp: float\n",
    "        number of decimal places\n",
    "\n",
    "    Returns\n",
    "    -------\n",
    "    x_si : string\n",
    "        x formatted in scientific notation\n",
    "    \"\"\"\n",
    "\n",
    "    s = '{x:0.{ndp:d}e}'.format(x=x, ndp=ndp)\n",
    "    m, e = s.split('e')\n",
    "    x_si = r'{m:s} × $10^{{{e:d}}}$'.format(m=m, e=int(e))\n",
    "\n",
    "    return x_si"
   ]
  },
  {
   "cell_type": "code",
   "execution_count": 184,
   "metadata": {
    "ExecuteTime": {
     "end_time": "2020-04-09T23:53:51.076271Z",
     "start_time": "2020-04-09T23:53:51.057922Z"
    }
   },
   "outputs": [],
   "source": [
    "def three_bars(annotation_id, experiment_id_1, experiment_id_2, diff_results_1, diff_results_2, ax=None, xlabel=None, ylabel=None):\n",
    "\n",
    "    if ax is None:\n",
    "        ax = plt.subplot(111)\n",
    "\n",
    "    if xlabel is None:\n",
    "        xlabel = experiment_id_1\n",
    "\n",
    "    if ylabel is None:\n",
    "        ylabel = \"mRNA expression, log2(TPM + 1)\"\n",
    "\n",
    "    # get experiment controls and treatments\n",
    "    select_abundance_1 = diff_results_1.loc[annotation_id]\n",
    "    select_abundance_2 = diff_results_2.loc[annotation_id]\n",
    "\n",
    "    controls = experiments[experiment_id_1][0]\n",
    "    treatments_1 = experiments[experiment_id_1][1]\n",
    "    treatments_2 = experiments[experiment_id_2][1]\n",
    "\n",
    "    # extract control and treatment values\n",
    "    control_values = np.log2(select_abundance_1[controls].astype(np.float64)+1)\n",
    "    treatment_1_values = np.log2(\n",
    "        select_abundance_1[treatments_1].astype(np.float64)+1)\n",
    "    treatment_2_values = np.log2(\n",
    "        select_abundance_2[treatments_2].astype(np.float64)+1)\n",
    "\n",
    "    control_mean = np.mean(control_values)\n",
    "    treatment_1_mean = np.mean(treatment_1_values)\n",
    "    treatment_2_mean = np.mean(treatment_2_values)\n",
    "\n",
    "    # draw bars based on means\n",
    "    offset = 0.05\n",
    "    width = 0.4\n",
    "\n",
    "    control_rect = Rectangle([offset, 0],\n",
    "                             width,\n",
    "                             control_mean,\n",
    "                             color=control_color,\n",
    "                             alpha=1,\n",
    "                             linewidth=0,\n",
    "                             zorder=-100\n",
    "                             )\n",
    "    ax.add_patch(control_rect)\n",
    "\n",
    "    treatment_1_rect = Rectangle([0.5+offset, 0],\n",
    "                               width,\n",
    "                               treatment_1_mean,\n",
    "                               color=treatment_color,\n",
    "                               alpha=1,\n",
    "                               linewidth=0,\n",
    "                               zorder=-100\n",
    "                               )\n",
    "    ax.add_patch(treatment_1_rect)\n",
    "    \n",
    "    treatment_2_rect = Rectangle([1+offset, 0],\n",
    "                               width,\n",
    "                               treatment_2_mean,\n",
    "                               color=treatment_color,\n",
    "                               alpha=1,\n",
    "                               linewidth=0,\n",
    "                               zorder=-100\n",
    "                               )\n",
    "    ax.add_patch(treatment_2_rect)\n",
    "\n",
    "    # draw the points themselves\n",
    "    ax.scatter([0.25-width/4, 0.25, 0.25+width/4],\n",
    "               control_values,\n",
    "               color=\"white\",\n",
    "               linewidth=1,\n",
    "               s=32,\n",
    "               edgecolor=control_color\n",
    "               )\n",
    "    ax.scatter([0.75-width/4, 0.75, 0.75+width/4],\n",
    "               treatment_1_values,\n",
    "               color=\"white\",\n",
    "               linewidth=1,\n",
    "               s=32,\n",
    "               edgecolor=treatment_color\n",
    "               )\n",
    "    ax.scatter([1.25-width/4, 1.25, 1.25+width/4],\n",
    "               treatment_2_values,\n",
    "               color=\"white\",\n",
    "               linewidth=1,\n",
    "               s=32,\n",
    "               edgecolor=treatment_color\n",
    "               )\n",
    "\n",
    "    # figure formatting\n",
    "    ax.spines['top'].set_visible(False)\n",
    "    ax.spines['right'].set_visible(False)\n",
    "    ax.set_xticks([0.25, 0.75, 1.25])\n",
    "    ax.set_xticklabels([\"\", \"\"])\n",
    "    ax.set_xlabel(xlabel, rotation=45)\n",
    "    ax.set_ylabel(ylabel)\n",
    "\n",
    "    # space out axes\n",
    "    ax.spines['bottom'].set_position(('axes', 0))\n",
    "    ax.spines['left'].set_position(('axes', -0.25))\n",
    "\n",
    "    # set y minimum to 0\n",
    "    plt.ylim(-0.01)\n",
    "\n",
    "    y_max = max(list(control_values)+list(treatment_1_values)+list(treatment_2_values))\n",
    "\n",
    "    qval_1 = select_abundance_1[\"qval\"]\n",
    "    qval_2 = select_abundance_2[\"qval\"]\n",
    "\n",
    "    if not np.isnan(qval_1):\n",
    "\n",
    "        if qval_1 < 0.001:\n",
    "            compare_text = \"**\"\n",
    "        elif qval_1 < 0.01:\n",
    "            compare_text = \"*\"\n",
    "        else:\n",
    "            compare_text = \"n.s\"\n",
    "\n",
    "        ax.text(0.75,\n",
    "                treatment_1_mean+1,\n",
    "                compare_text,\n",
    "                ha=\"center\",\n",
    "                fontsize=12,\n",
    "                )\n",
    "        \n",
    "    if not np.isnan(qval_2):\n",
    "\n",
    "        if qval_2 < 0.001:\n",
    "            compare_text = \"**\"\n",
    "        elif qval_2 < 0.01:\n",
    "            compare_text = \"*\"\n",
    "        else:\n",
    "            compare_text = \"n.s\"\n",
    "\n",
    "        ax.text(1.25,\n",
    "                treatment_2_mean+1,\n",
    "                compare_text,\n",
    "                ha=\"center\",\n",
    "                fontsize=12,\n",
    "                )\n",
    "\n",
    "    return ax, y_max"
   ]
  },
  {
   "cell_type": "code",
   "execution_count": 186,
   "metadata": {
    "ExecuteTime": {
     "end_time": "2020-04-09T23:54:04.614563Z",
     "start_time": "2020-04-09T23:54:04.440338Z"
    }
   },
   "outputs": [
    {
     "data": {
      "text/plain": [
       "(<matplotlib.axes._subplots.AxesSubplot at 0x15185c910>, 10.169049306625007)"
      ]
     },
     "execution_count": 186,
     "metadata": {},
     "output_type": "execute_result"
    },
    {
     "data": {
      "image/png": "[encoded data removed]",
      "text/plain": [
       "<Figure size 432x288 with 1 Axes>"
      ]
     },
     "metadata": {
      "needs_background": "light"
     },
     "output_type": "display_data"
    }
   ],
   "source": [
    "three_bars(\"ENSG00000163584\",\n",
    "           \"rpl22l1_kd1\",\n",
    "           \"rpl22l1_kd2\",\n",
    "           sh704_genes,\n",
    "           sh705_genes,\n",
    "           ylabel=\"\")"
   ]
  },
  {
   "cell_type": "code",
   "execution_count": 238,
   "metadata": {
    "ExecuteTime": {
     "end_time": "2020-04-10T00:22:49.094381Z",
     "start_time": "2020-04-10T00:22:49.066069Z"
    }
   },
   "outputs": [],
   "source": [
    "control_color = \"#393e46\"\n",
    "treatment_color = \"#f67280\"\n",
    "alpha = 0.5\n",
    "\n",
    "\n",
    "def bars(annotation_id, experiment_id, diff_results, ax=None, xlabel=None, ylabel=None):\n",
    "\n",
    "    if ax is None:\n",
    "        ax = plt.subplot(111)\n",
    "\n",
    "    if xlabel is None:\n",
    "        xlabel = experiment_id\n",
    "\n",
    "    if ylabel is None:\n",
    "        ylabel = \"mRNA expression, log2(TPM + 1)\"\n",
    "\n",
    "    # get experiment controls and treatments\n",
    "    select_abundance = diff_results.loc[annotation_id]\n",
    "\n",
    "    controls = experiments[experiment_id][0]\n",
    "    treatments = experiments[experiment_id][1]\n",
    "\n",
    "    # extract control and treatment values\n",
    "    control_values = np.log2(select_abundance[controls].astype(np.float64)+1)\n",
    "    treatment_values = np.log2(\n",
    "        select_abundance[treatments].astype(np.float64)+1)\n",
    "\n",
    "    control_mean = np.mean(control_values)\n",
    "    treatment_mean = np.mean(treatment_values)\n",
    "\n",
    "    # draw bars based on means\n",
    "    offset = 0.05\n",
    "    width = 0.4\n",
    "\n",
    "    control_rect = Rectangle([offset, 0],\n",
    "                             width,\n",
    "                             control_mean,\n",
    "                             color=control_color,\n",
    "                             alpha=1,\n",
    "                             linewidth=0,\n",
    "                             zorder=-100\n",
    "                             )\n",
    "    ax.add_patch(control_rect)\n",
    "\n",
    "    treatment_rect = Rectangle([0.5+offset, 0],\n",
    "                               width,\n",
    "                               treatment_mean,\n",
    "                               color=treatment_color,\n",
    "                               alpha=1,\n",
    "                               linewidth=0,\n",
    "                               zorder=-100\n",
    "                               )\n",
    "    ax.add_patch(treatment_rect)\n",
    "\n",
    "    # draw the points themselves\n",
    "    ax.scatter([0.25-width/4, 0.25, 0.25+width/4],\n",
    "               control_values,\n",
    "               color=\"white\",\n",
    "               linewidth=1,\n",
    "               s=32,\n",
    "               edgecolor=control_color\n",
    "               )\n",
    "    ax.scatter([0.75-width/4, 0.75, 0.75+width/4],\n",
    "               treatment_values,\n",
    "               color=\"white\",\n",
    "               linewidth=1,\n",
    "               s=32,\n",
    "               edgecolor=treatment_color\n",
    "               )\n",
    "\n",
    "    # figure formatting\n",
    "    ax.spines['top'].set_visible(False)\n",
    "    ax.spines['right'].set_visible(False)\n",
    "    ax.set_xticks([0.25, 0.75])\n",
    "    ax.set_xticklabels([\"\", \"\"])\n",
    "    ax.set_xlabel(xlabel, rotation=45)\n",
    "    ax.set_ylabel(ylabel)\n",
    "\n",
    "    # space out axes\n",
    "    ax.spines['bottom'].set_position(('axes', 0))\n",
    "    ax.spines['left'].set_position(('axes', -0.25))\n",
    "\n",
    "    # set y minimum to 0\n",
    "    plt.ylim(-0.01)\n",
    "\n",
    "    y_max = max(list(control_values)+list(treatment_values))\n",
    "\n",
    "    qval = select_abundance[\"qval\"]\n",
    "\n",
    "    if not np.isnan(qval):\n",
    "\n",
    "        if qval < 0.001:\n",
    "            compare_text = \"**\"\n",
    "        elif qval < 0.01:\n",
    "            compare_text = \"*\"\n",
    "        else:\n",
    "            compare_text = \"n.s\"\n",
    "\n",
    "        ax.text(0.5,\n",
    "                0.9,\n",
    "                compare_text,\n",
    "                ha=\"center\",\n",
    "                fontsize=12,\n",
    "                transform=ax.transAxes\n",
    "                )\n",
    "\n",
    "    return ax, y_max\n",
    "\n",
    "\n",
    "def all_bars(annotation_id, annotation_type, legend=False):\n",
    "    \n",
    "    plt.figure(figsize=(4, 2))\n",
    "\n",
    "    axes_widths = [2,2,3,3]\n",
    "    total_width = sum(axes_widths)\n",
    "\n",
    "    cumulative_widths = [sum(axes_widths[:x]) for x in range(len(axes_widths))]\n",
    "\n",
    "    axes = [plt.subplot2grid((1,total_width), (0,cumulative_widths[x]),\n",
    "                             colspan=axes_widths[x]) for x in range(len(axes_widths))]\n",
    "\n",
    "    maxes = []\n",
    "\n",
    "    if annotation_type == \"transcript\":\n",
    "        sleuth_sets = [rpl22_oe_transcripts,\n",
    "                       rpl22l1_oe_transcripts,\n",
    "                       [rpl22l1_kd1_transcripts,\n",
    "                        rpl22l1_kd2_transcripts],\n",
    "                       [rpl22_ko1_transcripts,\n",
    "                        rpl22_ko2_transcripts]\n",
    "                       ]\n",
    "\n",
    "    elif annotation_type == \"gene\":\n",
    "        sleuth_sets = [rpl22_oe_genes,\n",
    "                       rpl22l1_oe_genes,\n",
    "                       [rpl22l1_kd1_genes,\n",
    "                        rpl22l1_kd2_genes],\n",
    "                       [rpl22_ko1_genes,\n",
    "                        rpl22_ko2_genes]\n",
    "                       ]\n",
    "\n",
    "    elif annotation_type == \"splicing\":\n",
    "        sleuth_sets = [rpl22_oe_rmats,\n",
    "                       rpl22l1_oe_rmats,\n",
    "                       [rpl22l1_kd1_rmats,\n",
    "                        rpl22l1_kd2_rmats],\n",
    "                       [rpl22_ko1_rmats,\n",
    "                        rpl22_ko2_rmats]\n",
    "                       ]\n",
    "\n",
    "    for sleuth_idx, sleuth_set in enumerate(sleuth_sets[:2]):\n",
    "        ax = axes[sleuth_idx]\n",
    "\n",
    "        ax, y_max = bars(annotation_id,\n",
    "                         experiment_ids[sleuth_idx],\n",
    "                         sleuth_set,\n",
    "                         ax=ax,\n",
    "                         ylabel=\"\")\n",
    "\n",
    "        maxes.append(y_max)\n",
    "\n",
    "        if sleuth_idx > 0:\n",
    "\n",
    "            ax.spines[\"left\"].set_visible(False)\n",
    "            ax.tick_params(axis='y', which='both', right=False,\n",
    "                           left=False, labelleft=False)\n",
    "            \n",
    "        ax.set_ylim(0)\n",
    "\n",
    "        ax.set_xticklabels(display_groups[sleuth_idx], rotation=45, ha=\"right\")\n",
    "        ax.set_xlabel(\"\")\n",
    "\n",
    "    for sleuth_idx, sleuth_set in enumerate(sleuth_sets[2:]):\n",
    "        ax = axes[2+sleuth_idx]\n",
    "        \n",
    "        ax, y_max = three_bars(annotation_id,\n",
    "                               experiment_ids[2+sleuth_idx*2],\n",
    "                               experiment_ids[2+sleuth_idx*2+1],\n",
    "                               sleuth_set[0],\n",
    "                               sleuth_set[1],\n",
    "                               ax=ax,\n",
    "                               ylabel=\"\")\n",
    "\n",
    "        maxes.append(y_max)\n",
    "\n",
    "        ax.spines[\"left\"].set_visible(False)\n",
    "        ax.tick_params(axis='y', which='both', right=False,\n",
    "                       left=False, labelleft=False)\n",
    "        \n",
    "        ax.set_ylim(0)\n",
    "\n",
    "        ax.set_xticklabels(display_groups[2+sleuth_idx], rotation=45, ha=\"right\")\n",
    "        ax.set_xlabel(\"\")\n",
    "\n",
    "    if annotation_type == \"transcript\" or annotation_type == \"gene\":\n",
    "        axes[0].set_ylabel(\"mRNA expression, log2(TPM+1)\")\n",
    "\n",
    "    elif annotation_type == \"splicing\":\n",
    "        axes[0].set_ylabel(\"Exon inclusion proportion\")\n",
    "\n",
    "    y_max = max(maxes)\n",
    "    \n",
    "    for ax in axes:\n",
    "        ax.set_ylim(0,y_max*1.25)\n",
    "        \n",
    "    plt.subplots_adjust(wspace=0.25)\n",
    "\n",
    "    if legend:\n",
    "\n",
    "        legend_background = \"#eaeaea\"\n",
    "\n",
    "        legend_elements = [Patch(label='Control',\n",
    "                                 color=control_color, alpha=1),\n",
    "                           Patch(label='Treatment',\n",
    "                                 color=treatment_color, alpha=1)]\n",
    "\n",
    "        legend = plt.legend(handles=legend_elements,\n",
    "                            loc='upper left', bbox_to_anchor=(1, 1),)\n",
    "        frame = legend.get_frame()\n",
    "        frame.set_facecolor(legend_background)\n",
    "        frame.set_edgecolor(legend_background)\n",
    "\n",
    "    return axes"
   ]
  },
  {
   "cell_type": "code",
   "execution_count": 256,
   "metadata": {
    "ExecuteTime": {
     "end_time": "2020-04-10T14:37:23.206071Z",
     "start_time": "2020-04-10T14:37:23.173021Z"
    }
   },
   "outputs": [
    {
     "data": {
      "text/html": [
       "<div>\n",
       "<style scoped>\n",
       "    .dataframe tbody tr th:only-of-type {\n",
       "        vertical-align: middle;\n",
       "    }\n",
       "\n",
       "    .dataframe tbody tr th {\n",
       "        vertical-align: top;\n",
       "    }\n",
       "\n",
       "    .dataframe thead th {\n",
       "        text-align: right;\n",
       "    }\n",
       "</style>\n",
       "<table border=\"1\" class=\"dataframe\">\n",
       "  <thead>\n",
       "    <tr style=\"text-align: right;\">\n",
       "      <th></th>\n",
       "      <th>target_id</th>\n",
       "      <th>ens_gene</th>\n",
       "      <th>hgnc_gene</th>\n",
       "      <th>entrez_gene</th>\n",
       "      <th>duplicate_transcript</th>\n",
       "      <th>pval</th>\n",
       "      <th>qval</th>\n",
       "      <th>b</th>\n",
       "      <th>se_b</th>\n",
       "      <th>mean_obs</th>\n",
       "      <th>...</th>\n",
       "      <th>NCIH2110_GFP_3</th>\n",
       "      <th>NCIH2110_RPL22-1A1_1</th>\n",
       "      <th>NCIH2110_RPL22-1A1_2</th>\n",
       "      <th>NCIH2110_RPL22-1A1_3</th>\n",
       "      <th>control_median</th>\n",
       "      <th>treatment_median</th>\n",
       "      <th>median_foldchange</th>\n",
       "      <th>-log_pval</th>\n",
       "      <th>treatment_increase</th>\n",
       "      <th>signed_pval</th>\n",
       "    </tr>\n",
       "  </thead>\n",
       "  <tbody>\n",
       "    <tr>\n",
       "      <th>ENST00000470797</th>\n",
       "      <td>5719</td>\n",
       "      <td>ENSG00000198625</td>\n",
       "      <td>MDM4</td>\n",
       "      <td>4194</td>\n",
       "      <td>False</td>\n",
       "      <td>0.657470</td>\n",
       "      <td>0.999744</td>\n",
       "      <td>0.396486</td>\n",
       "      <td>0.894176</td>\n",
       "      <td>2.220007</td>\n",
       "      <td>...</td>\n",
       "      <td>0.732926</td>\n",
       "      <td>0.410186</td>\n",
       "      <td>1.592350</td>\n",
       "      <td>2.268220</td>\n",
       "      <td>0.767217</td>\n",
       "      <td>1.592350</td>\n",
       "      <td>2.075488</td>\n",
       "      <td>0.182124</td>\n",
       "      <td>1</td>\n",
       "      <td>0.182124</td>\n",
       "    </tr>\n",
       "    <tr>\n",
       "      <th>ENST00000367182</th>\n",
       "      <td>5720</td>\n",
       "      <td>ENSG00000198625</td>\n",
       "      <td>MDM4</td>\n",
       "      <td>4194</td>\n",
       "      <td>False</td>\n",
       "      <td>0.115061</td>\n",
       "      <td>0.999744</td>\n",
       "      <td>0.215578</td>\n",
       "      <td>0.136801</td>\n",
       "      <td>6.255046</td>\n",
       "      <td>...</td>\n",
       "      <td>3.114720</td>\n",
       "      <td>4.717300</td>\n",
       "      <td>3.507970</td>\n",
       "      <td>4.073320</td>\n",
       "      <td>3.400980</td>\n",
       "      <td>4.073320</td>\n",
       "      <td>1.197690</td>\n",
       "      <td>0.939071</td>\n",
       "      <td>1</td>\n",
       "      <td>0.939071</td>\n",
       "    </tr>\n",
       "    <tr>\n",
       "      <th>ENST00000463049</th>\n",
       "      <td>5721</td>\n",
       "      <td>ENSG00000198625</td>\n",
       "      <td>MDM4</td>\n",
       "      <td>4194</td>\n",
       "      <td>False</td>\n",
       "      <td>0.673741</td>\n",
       "      <td>0.999744</td>\n",
       "      <td>0.822563</td>\n",
       "      <td>1.953743</td>\n",
       "      <td>2.601961</td>\n",
       "      <td>...</td>\n",
       "      <td>0.402319</td>\n",
       "      <td>0.763880</td>\n",
       "      <td>1.688440</td>\n",
       "      <td>0.005257</td>\n",
       "      <td>0.342356</td>\n",
       "      <td>0.763880</td>\n",
       "      <td>2.231245</td>\n",
       "      <td>0.171507</td>\n",
       "      <td>1</td>\n",
       "      <td>0.171507</td>\n",
       "    </tr>\n",
       "    <tr>\n",
       "      <th>ENST00000470908</th>\n",
       "      <td>5722</td>\n",
       "      <td>ENSG00000198625</td>\n",
       "      <td>MDM4</td>\n",
       "      <td>4194</td>\n",
       "      <td>False</td>\n",
       "      <td>0.021822</td>\n",
       "      <td>0.999744</td>\n",
       "      <td>-2.868944</td>\n",
       "      <td>1.250933</td>\n",
       "      <td>1.360225</td>\n",
       "      <td>...</td>\n",
       "      <td>2.017300</td>\n",
       "      <td>0.310265</td>\n",
       "      <td>0.000000</td>\n",
       "      <td>0.000000</td>\n",
       "      <td>2.017300</td>\n",
       "      <td>0.000000</td>\n",
       "      <td>0.000000</td>\n",
       "      <td>1.661096</td>\n",
       "      <td>-1</td>\n",
       "      <td>-1.661096</td>\n",
       "    </tr>\n",
       "    <tr>\n",
       "      <th>ENST00000507825</th>\n",
       "      <td>5723</td>\n",
       "      <td>ENSG00000198625</td>\n",
       "      <td>MDM4</td>\n",
       "      <td>4194</td>\n",
       "      <td>False</td>\n",
       "      <td>0.665802</td>\n",
       "      <td>0.999744</td>\n",
       "      <td>-0.456603</td>\n",
       "      <td>1.057155</td>\n",
       "      <td>1.737425</td>\n",
       "      <td>...</td>\n",
       "      <td>0.787141</td>\n",
       "      <td>1.451050</td>\n",
       "      <td>0.328482</td>\n",
       "      <td>0.170462</td>\n",
       "      <td>0.752830</td>\n",
       "      <td>0.328482</td>\n",
       "      <td>0.436330</td>\n",
       "      <td>0.176655</td>\n",
       "      <td>-1</td>\n",
       "      <td>-0.176655</td>\n",
       "    </tr>\n",
       "    <tr>\n",
       "      <th>ENST00000454264</th>\n",
       "      <td>5724</td>\n",
       "      <td>ENSG00000198625</td>\n",
       "      <td>MDM4</td>\n",
       "      <td>4194</td>\n",
       "      <td>False</td>\n",
       "      <td>0.021822</td>\n",
       "      <td>0.999744</td>\n",
       "      <td>2.899523</td>\n",
       "      <td>1.264264</td>\n",
       "      <td>1.314529</td>\n",
       "      <td>...</td>\n",
       "      <td>0.128907</td>\n",
       "      <td>0.708757</td>\n",
       "      <td>1.074780</td>\n",
       "      <td>0.850024</td>\n",
       "      <td>0.000000</td>\n",
       "      <td>0.850024</td>\n",
       "      <td>inf</td>\n",
       "      <td>1.661101</td>\n",
       "      <td>1</td>\n",
       "      <td>1.661101</td>\n",
       "    </tr>\n",
       "    <tr>\n",
       "      <th>ENST00000391947</th>\n",
       "      <td>5725</td>\n",
       "      <td>ENSG00000198625</td>\n",
       "      <td>MDM4</td>\n",
       "      <td>4194</td>\n",
       "      <td>False</td>\n",
       "      <td>0.572704</td>\n",
       "      <td>0.999744</td>\n",
       "      <td>0.436099</td>\n",
       "      <td>0.773123</td>\n",
       "      <td>3.457294</td>\n",
       "      <td>...</td>\n",
       "      <td>2.869980</td>\n",
       "      <td>1.301600</td>\n",
       "      <td>1.555780</td>\n",
       "      <td>6.434750</td>\n",
       "      <td>2.646920</td>\n",
       "      <td>1.555780</td>\n",
       "      <td>0.587770</td>\n",
       "      <td>0.242070</td>\n",
       "      <td>-1</td>\n",
       "      <td>-0.242070</td>\n",
       "    </tr>\n",
       "    <tr>\n",
       "      <th>ENST00000462012</th>\n",
       "      <td>63768</td>\n",
       "      <td>ENSG00000198625</td>\n",
       "      <td>MDM4</td>\n",
       "      <td>4194</td>\n",
       "      <td>False</td>\n",
       "      <td>0.997842</td>\n",
       "      <td>0.999789</td>\n",
       "      <td>-0.002896</td>\n",
       "      <td>1.070402</td>\n",
       "      <td>1.500950</td>\n",
       "      <td>...</td>\n",
       "      <td>1.082680</td>\n",
       "      <td>0.195621</td>\n",
       "      <td>2.152890</td>\n",
       "      <td>1.094360</td>\n",
       "      <td>0.745551</td>\n",
       "      <td>1.094360</td>\n",
       "      <td>1.467854</td>\n",
       "      <td>0.000938</td>\n",
       "      <td>1</td>\n",
       "      <td>0.000938</td>\n",
       "    </tr>\n",
       "  </tbody>\n",
       "</table>\n",
       "<p>8 rows × 27 columns</p>\n",
       "</div>"
      ],
      "text/plain": [
       "                 target_id         ens_gene hgnc_gene  entrez_gene  \\\n",
       "ENST00000470797       5719  ENSG00000198625      MDM4         4194   \n",
       "ENST00000367182       5720  ENSG00000198625      MDM4         4194   \n",
       "ENST00000463049       5721  ENSG00000198625      MDM4         4194   \n",
       "ENST00000470908       5722  ENSG00000198625      MDM4         4194   \n",
       "ENST00000507825       5723  ENSG00000198625      MDM4         4194   \n",
       "ENST00000454264       5724  ENSG00000198625      MDM4         4194   \n",
       "ENST00000391947       5725  ENSG00000198625      MDM4         4194   \n",
       "ENST00000462012      63768  ENSG00000198625      MDM4         4194   \n",
       "\n",
       "                 duplicate_transcript      pval      qval         b      se_b  \\\n",
       "ENST00000470797                 False  0.657470  0.999744  0.396486  0.894176   \n",
       "ENST00000367182                 False  0.115061  0.999744  0.215578  0.136801   \n",
       "ENST00000463049                 False  0.673741  0.999744  0.822563  1.953743   \n",
       "ENST00000470908                 False  0.021822  0.999744 -2.868944  1.250933   \n",
       "ENST00000507825                 False  0.665802  0.999744 -0.456603  1.057155   \n",
       "ENST00000454264                 False  0.021822  0.999744  2.899523  1.264264   \n",
       "ENST00000391947                 False  0.572704  0.999744  0.436099  0.773123   \n",
       "ENST00000462012                 False  0.997842  0.999789 -0.002896  1.070402   \n",
       "\n",
       "                 mean_obs  ...  NCIH2110_GFP_3  NCIH2110_RPL22-1A1_1  \\\n",
       "ENST00000470797  2.220007  ...        0.732926              0.410186   \n",
       "ENST00000367182  6.255046  ...        3.114720              4.717300   \n",
       "ENST00000463049  2.601961  ...        0.402319              0.763880   \n",
       "ENST00000470908  1.360225  ...        2.017300              0.310265   \n",
       "ENST00000507825  1.737425  ...        0.787141              1.451050   \n",
       "ENST00000454264  1.314529  ...        0.128907              0.708757   \n",
       "ENST00000391947  3.457294  ...        2.869980              1.301600   \n",
       "ENST00000462012  1.500950  ...        1.082680              0.195621   \n",
       "\n",
       "                 NCIH2110_RPL22-1A1_2  NCIH2110_RPL22-1A1_3  control_median  \\\n",
       "ENST00000470797              1.592350              2.268220        0.767217   \n",
       "ENST00000367182              3.507970              4.073320        3.400980   \n",
       "ENST00000463049              1.688440              0.005257        0.342356   \n",
       "ENST00000470908              0.000000              0.000000        2.017300   \n",
       "ENST00000507825              0.328482              0.170462        0.752830   \n",
       "ENST00000454264              1.074780              0.850024        0.000000   \n",
       "ENST00000391947              1.555780              6.434750        2.646920   \n",
       "ENST00000462012              2.152890              1.094360        0.745551   \n",
       "\n",
       "                 treatment_median  median_foldchange  -log_pval  \\\n",
       "ENST00000470797          1.592350           2.075488   0.182124   \n",
       "ENST00000367182          4.073320           1.197690   0.939071   \n",
       "ENST00000463049          0.763880           2.231245   0.171507   \n",
       "ENST00000470908          0.000000           0.000000   1.661096   \n",
       "ENST00000507825          0.328482           0.436330   0.176655   \n",
       "ENST00000454264          0.850024                inf   1.661101   \n",
       "ENST00000391947          1.555780           0.587770   0.242070   \n",
       "ENST00000462012          1.094360           1.467854   0.000938   \n",
       "\n",
       "                 treatment_increase  signed_pval  \n",
       "ENST00000470797                   1     0.182124  \n",
       "ENST00000367182                   1     0.939071  \n",
       "ENST00000463049                   1     0.171507  \n",
       "ENST00000470908                  -1    -1.661096  \n",
       "ENST00000507825                  -1    -0.176655  \n",
       "ENST00000454264                   1     1.661101  \n",
       "ENST00000391947                  -1    -0.242070  \n",
       "ENST00000462012                   1     0.000938  \n",
       "\n",
       "[8 rows x 27 columns]"
      ]
     },
     "execution_count": 256,
     "metadata": {},
     "output_type": "execute_result"
    }
   ],
   "source": [
    "rpl22_ko1_transcripts[rpl22_ko1_transcripts[\"hgnc_gene\"]==\"MDM4\"]"
   ]
  },
  {
   "cell_type": "code",
   "execution_count": 257,
   "metadata": {
    "ExecuteTime": {
     "end_time": "2020-04-10T14:37:27.796991Z",
     "start_time": "2020-04-10T14:37:27.766268Z"
    }
   },
   "outputs": [
    {
     "data": {
      "text/html": [
       "<div>\n",
       "<style scoped>\n",
       "    .dataframe tbody tr th:only-of-type {\n",
       "        vertical-align: middle;\n",
       "    }\n",
       "\n",
       "    .dataframe tbody tr th {\n",
       "        vertical-align: top;\n",
       "    }\n",
       "\n",
       "    .dataframe thead th {\n",
       "        text-align: right;\n",
       "    }\n",
       "</style>\n",
       "<table border=\"1\" class=\"dataframe\">\n",
       "  <thead>\n",
       "    <tr style=\"text-align: right;\">\n",
       "      <th></th>\n",
       "      <th>target_id</th>\n",
       "      <th>ens_gene</th>\n",
       "      <th>hgnc_gene</th>\n",
       "      <th>entrez_gene</th>\n",
       "      <th>duplicate_transcript</th>\n",
       "      <th>pval</th>\n",
       "      <th>qval</th>\n",
       "      <th>b</th>\n",
       "      <th>se_b</th>\n",
       "      <th>mean_obs</th>\n",
       "      <th>...</th>\n",
       "      <th>NCIH2110_GFP_3</th>\n",
       "      <th>NCIH2110_RPL22-4A1_1</th>\n",
       "      <th>NCIH2110_RPL22-4A1_2</th>\n",
       "      <th>NCIH2110_RPL22-4A1_3</th>\n",
       "      <th>control_median</th>\n",
       "      <th>treatment_median</th>\n",
       "      <th>median_foldchange</th>\n",
       "      <th>-log_pval</th>\n",
       "      <th>treatment_increase</th>\n",
       "      <th>signed_pval</th>\n",
       "    </tr>\n",
       "  </thead>\n",
       "  <tbody>\n",
       "    <tr>\n",
       "      <th>ENST00000470797</th>\n",
       "      <td>5701</td>\n",
       "      <td>ENSG00000198625</td>\n",
       "      <td>MDM4</td>\n",
       "      <td>4194</td>\n",
       "      <td>False</td>\n",
       "      <td>0.894491</td>\n",
       "      <td>0.999972</td>\n",
       "      <td>0.113998</td>\n",
       "      <td>0.859559</td>\n",
       "      <td>2.120899</td>\n",
       "      <td>...</td>\n",
       "      <td>0.732926</td>\n",
       "      <td>0.318772</td>\n",
       "      <td>1.470830</td>\n",
       "      <td>1.380900</td>\n",
       "      <td>0.767217</td>\n",
       "      <td>1.380900</td>\n",
       "      <td>1.799882</td>\n",
       "      <td>0.048424</td>\n",
       "      <td>1</td>\n",
       "      <td>0.048424</td>\n",
       "    </tr>\n",
       "    <tr>\n",
       "      <th>ENST00000367182</th>\n",
       "      <td>5702</td>\n",
       "      <td>ENSG00000198625</td>\n",
       "      <td>MDM4</td>\n",
       "      <td>4194</td>\n",
       "      <td>False</td>\n",
       "      <td>0.023855</td>\n",
       "      <td>0.999972</td>\n",
       "      <td>0.240855</td>\n",
       "      <td>0.106599</td>\n",
       "      <td>6.312702</td>\n",
       "      <td>...</td>\n",
       "      <td>3.114720</td>\n",
       "      <td>4.288490</td>\n",
       "      <td>3.803090</td>\n",
       "      <td>4.916090</td>\n",
       "      <td>3.400980</td>\n",
       "      <td>4.288490</td>\n",
       "      <td>1.260957</td>\n",
       "      <td>1.622419</td>\n",
       "      <td>1</td>\n",
       "      <td>1.622419</td>\n",
       "    </tr>\n",
       "    <tr>\n",
       "      <th>ENST00000463049</th>\n",
       "      <td>5703</td>\n",
       "      <td>ENSG00000198625</td>\n",
       "      <td>MDM4</td>\n",
       "      <td>4194</td>\n",
       "      <td>False</td>\n",
       "      <td>0.564107</td>\n",
       "      <td>0.999972</td>\n",
       "      <td>-1.209380</td>\n",
       "      <td>2.096882</td>\n",
       "      <td>1.621567</td>\n",
       "      <td>...</td>\n",
       "      <td>0.402319</td>\n",
       "      <td>0.000000</td>\n",
       "      <td>1.004690</td>\n",
       "      <td>0.000034</td>\n",
       "      <td>0.342356</td>\n",
       "      <td>0.000034</td>\n",
       "      <td>0.000098</td>\n",
       "      <td>0.248638</td>\n",
       "      <td>-1</td>\n",
       "      <td>-0.248638</td>\n",
       "    </tr>\n",
       "    <tr>\n",
       "      <th>ENST00000470908</th>\n",
       "      <td>5704</td>\n",
       "      <td>ENSG00000198625</td>\n",
       "      <td>MDM4</td>\n",
       "      <td>4194</td>\n",
       "      <td>False</td>\n",
       "      <td>0.074303</td>\n",
       "      <td>0.999972</td>\n",
       "      <td>-2.275781</td>\n",
       "      <td>1.275129</td>\n",
       "      <td>1.700464</td>\n",
       "      <td>...</td>\n",
       "      <td>2.017300</td>\n",
       "      <td>0.000000</td>\n",
       "      <td>2.282100</td>\n",
       "      <td>0.000000</td>\n",
       "      <td>2.017300</td>\n",
       "      <td>0.000000</td>\n",
       "      <td>0.000000</td>\n",
       "      <td>1.128996</td>\n",
       "      <td>-1</td>\n",
       "      <td>-1.128996</td>\n",
       "    </tr>\n",
       "    <tr>\n",
       "      <th>ENST00000367180</th>\n",
       "      <td>5705</td>\n",
       "      <td>ENSG00000198625</td>\n",
       "      <td>MDM4</td>\n",
       "      <td>4194</td>\n",
       "      <td>False</td>\n",
       "      <td>0.307113</td>\n",
       "      <td>0.999972</td>\n",
       "      <td>1.055155</td>\n",
       "      <td>1.033151</td>\n",
       "      <td>1.514002</td>\n",
       "      <td>...</td>\n",
       "      <td>1.436930</td>\n",
       "      <td>1.516730</td>\n",
       "      <td>2.514780</td>\n",
       "      <td>1.021390</td>\n",
       "      <td>0.314707</td>\n",
       "      <td>1.516730</td>\n",
       "      <td>4.819499</td>\n",
       "      <td>0.512702</td>\n",
       "      <td>1</td>\n",
       "      <td>0.512702</td>\n",
       "    </tr>\n",
       "    <tr>\n",
       "      <th>ENST00000507825</th>\n",
       "      <td>5706</td>\n",
       "      <td>ENSG00000198625</td>\n",
       "      <td>MDM4</td>\n",
       "      <td>4194</td>\n",
       "      <td>False</td>\n",
       "      <td>0.737685</td>\n",
       "      <td>0.999972</td>\n",
       "      <td>0.262432</td>\n",
       "      <td>0.783565</td>\n",
       "      <td>2.138917</td>\n",
       "      <td>...</td>\n",
       "      <td>0.787141</td>\n",
       "      <td>1.157380</td>\n",
       "      <td>0.845331</td>\n",
       "      <td>0.995662</td>\n",
       "      <td>0.752830</td>\n",
       "      <td>0.995662</td>\n",
       "      <td>1.322559</td>\n",
       "      <td>0.132129</td>\n",
       "      <td>1</td>\n",
       "      <td>0.132129</td>\n",
       "    </tr>\n",
       "    <tr>\n",
       "      <th>ENST00000391947</th>\n",
       "      <td>5707</td>\n",
       "      <td>ENSG00000198625</td>\n",
       "      <td>MDM4</td>\n",
       "      <td>4194</td>\n",
       "      <td>False</td>\n",
       "      <td>0.666732</td>\n",
       "      <td>0.999972</td>\n",
       "      <td>-0.403840</td>\n",
       "      <td>0.937771</td>\n",
       "      <td>3.081182</td>\n",
       "      <td>...</td>\n",
       "      <td>2.869980</td>\n",
       "      <td>0.461736</td>\n",
       "      <td>0.823757</td>\n",
       "      <td>2.744380</td>\n",
       "      <td>2.646920</td>\n",
       "      <td>0.823757</td>\n",
       "      <td>0.311213</td>\n",
       "      <td>0.176049</td>\n",
       "      <td>-1</td>\n",
       "      <td>-0.176049</td>\n",
       "    </tr>\n",
       "  </tbody>\n",
       "</table>\n",
       "<p>7 rows × 27 columns</p>\n",
       "</div>"
      ],
      "text/plain": [
       "                 target_id         ens_gene hgnc_gene  entrez_gene  \\\n",
       "ENST00000470797       5701  ENSG00000198625      MDM4         4194   \n",
       "ENST00000367182       5702  ENSG00000198625      MDM4         4194   \n",
       "ENST00000463049       5703  ENSG00000198625      MDM4         4194   \n",
       "ENST00000470908       5704  ENSG00000198625      MDM4         4194   \n",
       "ENST00000367180       5705  ENSG00000198625      MDM4         4194   \n",
       "ENST00000507825       5706  ENSG00000198625      MDM4         4194   \n",
       "ENST00000391947       5707  ENSG00000198625      MDM4         4194   \n",
       "\n",
       "                 duplicate_transcript      pval      qval         b      se_b  \\\n",
       "ENST00000470797                 False  0.894491  0.999972  0.113998  0.859559   \n",
       "ENST00000367182                 False  0.023855  0.999972  0.240855  0.106599   \n",
       "ENST00000463049                 False  0.564107  0.999972 -1.209380  2.096882   \n",
       "ENST00000470908                 False  0.074303  0.999972 -2.275781  1.275129   \n",
       "ENST00000367180                 False  0.307113  0.999972  1.055155  1.033151   \n",
       "ENST00000507825                 False  0.737685  0.999972  0.262432  0.783565   \n",
       "ENST00000391947                 False  0.666732  0.999972 -0.403840  0.937771   \n",
       "\n",
       "                 mean_obs  ...  NCIH2110_GFP_3  NCIH2110_RPL22-4A1_1  \\\n",
       "ENST00000470797  2.120899  ...        0.732926              0.318772   \n",
       "ENST00000367182  6.312702  ...        3.114720              4.288490   \n",
       "ENST00000463049  1.621567  ...        0.402319              0.000000   \n",
       "ENST00000470908  1.700464  ...        2.017300              0.000000   \n",
       "ENST00000367180  1.514002  ...        1.436930              1.516730   \n",
       "ENST00000507825  2.138917  ...        0.787141              1.157380   \n",
       "ENST00000391947  3.081182  ...        2.869980              0.461736   \n",
       "\n",
       "                 NCIH2110_RPL22-4A1_2  NCIH2110_RPL22-4A1_3  control_median  \\\n",
       "ENST00000470797              1.470830              1.380900        0.767217   \n",
       "ENST00000367182              3.803090              4.916090        3.400980   \n",
       "ENST00000463049              1.004690              0.000034        0.342356   \n",
       "ENST00000470908              2.282100              0.000000        2.017300   \n",
       "ENST00000367180              2.514780              1.021390        0.314707   \n",
       "ENST00000507825              0.845331              0.995662        0.752830   \n",
       "ENST00000391947              0.823757              2.744380        2.646920   \n",
       "\n",
       "                 treatment_median  median_foldchange  -log_pval  \\\n",
       "ENST00000470797          1.380900           1.799882   0.048424   \n",
       "ENST00000367182          4.288490           1.260957   1.622419   \n",
       "ENST00000463049          0.000034           0.000098   0.248638   \n",
       "ENST00000470908          0.000000           0.000000   1.128996   \n",
       "ENST00000367180          1.516730           4.819499   0.512702   \n",
       "ENST00000507825          0.995662           1.322559   0.132129   \n",
       "ENST00000391947          0.823757           0.311213   0.176049   \n",
       "\n",
       "                 treatment_increase  signed_pval  \n",
       "ENST00000470797                   1     0.048424  \n",
       "ENST00000367182                   1     1.622419  \n",
       "ENST00000463049                  -1    -0.248638  \n",
       "ENST00000470908                  -1    -1.128996  \n",
       "ENST00000367180                   1     0.512702  \n",
       "ENST00000507825                   1     0.132129  \n",
       "ENST00000391947                  -1    -0.176049  \n",
       "\n",
       "[7 rows x 27 columns]"
      ]
     },
     "execution_count": 257,
     "metadata": {},
     "output_type": "execute_result"
    }
   ],
   "source": [
    "rpl22_ko2_transcripts[rpl22_ko2_transcripts[\"hgnc_gene\"]==\"MDM4\"]"
   ]
  },
  {
   "cell_type": "code",
   "execution_count": 258,
   "metadata": {
    "ExecuteTime": {
     "end_time": "2020-04-10T14:39:59.720513Z",
     "start_time": "2020-04-10T14:39:59.678846Z"
    }
   },
   "outputs": [
    {
     "data": {
      "text/html": [
       "<div>\n",
       "<style scoped>\n",
       "    .dataframe tbody tr th:only-of-type {\n",
       "        vertical-align: middle;\n",
       "    }\n",
       "\n",
       "    .dataframe tbody tr th {\n",
       "        vertical-align: top;\n",
       "    }\n",
       "\n",
       "    .dataframe thead th {\n",
       "        text-align: right;\n",
       "    }\n",
       "</style>\n",
       "<table border=\"1\" class=\"dataframe\">\n",
       "  <thead>\n",
       "    <tr style=\"text-align: right;\">\n",
       "      <th></th>\n",
       "      <th>target_id</th>\n",
       "      <th>ens_gene</th>\n",
       "      <th>hgnc_gene</th>\n",
       "      <th>entrez_gene</th>\n",
       "      <th>duplicate_transcript</th>\n",
       "      <th>pval</th>\n",
       "      <th>qval</th>\n",
       "      <th>b</th>\n",
       "      <th>se_b</th>\n",
       "      <th>mean_obs</th>\n",
       "      <th>...</th>\n",
       "      <th>NCIH2110_GFP_3</th>\n",
       "      <th>NCIH2110_RPL22-4A1_1</th>\n",
       "      <th>NCIH2110_RPL22-4A1_2</th>\n",
       "      <th>NCIH2110_RPL22-4A1_3</th>\n",
       "      <th>control_median</th>\n",
       "      <th>treatment_median</th>\n",
       "      <th>median_foldchange</th>\n",
       "      <th>-log_pval</th>\n",
       "      <th>treatment_increase</th>\n",
       "      <th>signed_pval</th>\n",
       "    </tr>\n",
       "  </thead>\n",
       "  <tbody>\n",
       "    <tr>\n",
       "      <th>ENST00000295830</th>\n",
       "      <td>1</td>\n",
       "      <td>ENSG00000163584</td>\n",
       "      <td>RPL22L1</td>\n",
       "      <td>200916</td>\n",
       "      <td>False</td>\n",
       "      <td>1.290557e-56</td>\n",
       "      <td>8.376874e-52</td>\n",
       "      <td>2.896048</td>\n",
       "      <td>0.182654</td>\n",
       "      <td>5.508186</td>\n",
       "      <td>...</td>\n",
       "      <td>2.11737</td>\n",
       "      <td>40.067200</td>\n",
       "      <td>28.1098</td>\n",
       "      <td>42.356100</td>\n",
       "      <td>2.11737</td>\n",
       "      <td>40.067200</td>\n",
       "      <td>18.923098</td>\n",
       "      <td>55.889223</td>\n",
       "      <td>1</td>\n",
       "      <td>55.889223</td>\n",
       "    </tr>\n",
       "    <tr>\n",
       "      <th>ENST00000463836</th>\n",
       "      <td>5</td>\n",
       "      <td>ENSG00000163584</td>\n",
       "      <td>RPL22L1</td>\n",
       "      <td>200916</td>\n",
       "      <td>False</td>\n",
       "      <td>7.615356e-11</td>\n",
       "      <td>9.886102e-07</td>\n",
       "      <td>3.940224</td>\n",
       "      <td>0.605442</td>\n",
       "      <td>5.613982</td>\n",
       "      <td>...</td>\n",
       "      <td>11.77760</td>\n",
       "      <td>540.061000</td>\n",
       "      <td>521.6860</td>\n",
       "      <td>440.915000</td>\n",
       "      <td>11.77760</td>\n",
       "      <td>521.686000</td>\n",
       "      <td>44.294763</td>\n",
       "      <td>10.118310</td>\n",
       "      <td>1</td>\n",
       "      <td>10.118310</td>\n",
       "    </tr>\n",
       "    <tr>\n",
       "      <th>ENST00000466674</th>\n",
       "      <td>12</td>\n",
       "      <td>ENSG00000163584</td>\n",
       "      <td>RPL22L1</td>\n",
       "      <td>200916</td>\n",
       "      <td>False</td>\n",
       "      <td>4.672376e-06</td>\n",
       "      <td>2.527327e-02</td>\n",
       "      <td>2.515943</td>\n",
       "      <td>0.549454</td>\n",
       "      <td>4.594711</td>\n",
       "      <td>...</td>\n",
       "      <td>2.29307</td>\n",
       "      <td>53.898100</td>\n",
       "      <td>71.7685</td>\n",
       "      <td>113.997000</td>\n",
       "      <td>7.24723</td>\n",
       "      <td>71.768500</td>\n",
       "      <td>9.902887</td>\n",
       "      <td>5.330462</td>\n",
       "      <td>1</td>\n",
       "      <td>5.330462</td>\n",
       "    </tr>\n",
       "    <tr>\n",
       "      <th>ENST00000475836</th>\n",
       "      <td>26620</td>\n",
       "      <td>ENSG00000163584</td>\n",
       "      <td>RPL22L1</td>\n",
       "      <td>200916</td>\n",
       "      <td>False</td>\n",
       "      <td>8.224270e-02</td>\n",
       "      <td>9.999724e-01</td>\n",
       "      <td>-0.394114</td>\n",
       "      <td>0.226786</td>\n",
       "      <td>5.026632</td>\n",
       "      <td>...</td>\n",
       "      <td>32.39590</td>\n",
       "      <td>34.011700</td>\n",
       "      <td>18.8326</td>\n",
       "      <td>23.904400</td>\n",
       "      <td>34.86690</td>\n",
       "      <td>23.904400</td>\n",
       "      <td>0.685590</td>\n",
       "      <td>1.084903</td>\n",
       "      <td>-1</td>\n",
       "      <td>-1.084903</td>\n",
       "    </tr>\n",
       "    <tr>\n",
       "      <th>ENST00000494771</th>\n",
       "      <td>26621</td>\n",
       "      <td>ENSG00000163584</td>\n",
       "      <td>RPL22L1</td>\n",
       "      <td>200916</td>\n",
       "      <td>False</td>\n",
       "      <td>1.696118e-01</td>\n",
       "      <td>9.999724e-01</td>\n",
       "      <td>-1.612162</td>\n",
       "      <td>1.173803</td>\n",
       "      <td>1.510163</td>\n",
       "      <td>...</td>\n",
       "      <td>2.28702</td>\n",
       "      <td>0.665155</td>\n",
       "      <td>0.0000</td>\n",
       "      <td>0.744969</td>\n",
       "      <td>2.10666</td>\n",
       "      <td>0.665155</td>\n",
       "      <td>0.315739</td>\n",
       "      <td>0.770544</td>\n",
       "      <td>-1</td>\n",
       "      <td>-0.770544</td>\n",
       "    </tr>\n",
       "  </tbody>\n",
       "</table>\n",
       "<p>5 rows × 27 columns</p>\n",
       "</div>"
      ],
      "text/plain": [
       "                 target_id         ens_gene hgnc_gene  entrez_gene  \\\n",
       "ENST00000295830          1  ENSG00000163584   RPL22L1       200916   \n",
       "ENST00000463836          5  ENSG00000163584   RPL22L1       200916   \n",
       "ENST00000466674         12  ENSG00000163584   RPL22L1       200916   \n",
       "ENST00000475836      26620  ENSG00000163584   RPL22L1       200916   \n",
       "ENST00000494771      26621  ENSG00000163584   RPL22L1       200916   \n",
       "\n",
       "                 duplicate_transcript          pval          qval         b  \\\n",
       "ENST00000295830                 False  1.290557e-56  8.376874e-52  2.896048   \n",
       "ENST00000463836                 False  7.615356e-11  9.886102e-07  3.940224   \n",
       "ENST00000466674                 False  4.672376e-06  2.527327e-02  2.515943   \n",
       "ENST00000475836                 False  8.224270e-02  9.999724e-01 -0.394114   \n",
       "ENST00000494771                 False  1.696118e-01  9.999724e-01 -1.612162   \n",
       "\n",
       "                     se_b  mean_obs  ...  NCIH2110_GFP_3  \\\n",
       "ENST00000295830  0.182654  5.508186  ...         2.11737   \n",
       "ENST00000463836  0.605442  5.613982  ...        11.77760   \n",
       "ENST00000466674  0.549454  4.594711  ...         2.29307   \n",
       "ENST00000475836  0.226786  5.026632  ...        32.39590   \n",
       "ENST00000494771  1.173803  1.510163  ...         2.28702   \n",
       "\n",
       "                 NCIH2110_RPL22-4A1_1  NCIH2110_RPL22-4A1_2  \\\n",
       "ENST00000295830             40.067200               28.1098   \n",
       "ENST00000463836            540.061000              521.6860   \n",
       "ENST00000466674             53.898100               71.7685   \n",
       "ENST00000475836             34.011700               18.8326   \n",
       "ENST00000494771              0.665155                0.0000   \n",
       "\n",
       "                 NCIH2110_RPL22-4A1_3  control_median  treatment_median  \\\n",
       "ENST00000295830             42.356100         2.11737         40.067200   \n",
       "ENST00000463836            440.915000        11.77760        521.686000   \n",
       "ENST00000466674            113.997000         7.24723         71.768500   \n",
       "ENST00000475836             23.904400        34.86690         23.904400   \n",
       "ENST00000494771              0.744969         2.10666          0.665155   \n",
       "\n",
       "                 median_foldchange  -log_pval  treatment_increase  signed_pval  \n",
       "ENST00000295830          18.923098  55.889223                   1    55.889223  \n",
       "ENST00000463836          44.294763  10.118310                   1    10.118310  \n",
       "ENST00000466674           9.902887   5.330462                   1     5.330462  \n",
       "ENST00000475836           0.685590   1.084903                  -1    -1.084903  \n",
       "ENST00000494771           0.315739   0.770544                  -1    -0.770544  \n",
       "\n",
       "[5 rows x 27 columns]"
      ]
     },
     "execution_count": 258,
     "metadata": {},
     "output_type": "execute_result"
    }
   ],
   "source": [
    "rpl22_ko2_transcripts[rpl22_ko2_transcripts[\"hgnc_gene\"]==\"RPL22L1\"]"
   ]
  },
  {
   "cell_type": "code",
   "execution_count": 239,
   "metadata": {
    "ExecuteTime": {
     "end_time": "2020-04-10T00:22:51.151141Z",
     "start_time": "2020-04-10T00:22:50.809205Z"
    }
   },
   "outputs": [
    {
     "data": {
      "text/plain": [
       "[<matplotlib.axes._subplots.AxesSubplot at 0x145f79ad0>,\n",
       " <matplotlib.axes._subplots.AxesSubplot at 0x14f493b10>,\n",
       " <matplotlib.axes._subplots.AxesSubplot at 0x14e675fd0>,\n",
       " <matplotlib.axes._subplots.AxesSubplot at 0x152fd9350>]"
      ]
     },
     "execution_count": 239,
     "metadata": {},
     "output_type": "execute_result"
    },
    {
     "data": {
      "image/png": "[encoded data removed]",
      "text/plain": [
       "<Figure size 288x144 with 4 Axes>"
      ]
     },
     "metadata": {
      "needs_background": "light"
     },
     "output_type": "display_data"
    }
   ],
   "source": [
    "all_bars(\"ENSG00000163584\",\"gene\")\n",
    "\n",
    "# plt.savefig(\"../plots/RPL22L1_ENSG00000163584_expression.pdf\",bbox_inches=\"tight\",background=\"transparent\")"
   ]
  },
  {
   "cell_type": "code",
   "execution_count": 240,
   "metadata": {
    "ExecuteTime": {
     "end_time": "2020-04-10T00:23:25.289021Z",
     "start_time": "2020-04-10T00:23:24.936369Z"
    }
   },
   "outputs": [
    {
     "data": {
      "text/plain": [
       "[<matplotlib.axes._subplots.AxesSubplot at 0x148be4210>,\n",
       " <matplotlib.axes._subplots.AxesSubplot at 0x136cfe810>,\n",
       " <matplotlib.axes._subplots.AxesSubplot at 0x14f49c910>,\n",
       " <matplotlib.axes._subplots.AxesSubplot at 0x12b096b90>]"
      ]
     },
     "execution_count": 240,
     "metadata": {},
     "output_type": "execute_result"
    },
    {
     "data": {
      "image/png": "[encoded data removed]",
      "text/plain": [
       "<Figure size 288x144 with 4 Axes>"
      ]
     },
     "metadata": {
      "needs_background": "light"
     },
     "output_type": "display_data"
    }
   ],
   "source": [
    "all_bars(\"ENSG00000116251\",\"gene\")"
   ]
  },
  {
   "cell_type": "code",
   "execution_count": 57,
   "metadata": {
    "ExecuteTime": {
     "end_time": "2020-04-09T17:56:27.213469Z",
     "start_time": "2020-04-09T17:56:26.397835Z"
    }
   },
   "outputs": [
    {
     "data": {
      "image/png": "[encoded data removed]",
      "text/plain": [
       "<Figure size 288x144 with 6 Axes>"
      ]
     },
     "metadata": {
      "needs_background": "light"
     },
     "output_type": "display_data"
    }
   ],
   "source": [
    "all_bars(\"ENSG00000116251\",\"gene\")\n",
    "\n",
    "plt.savefig(\"../plots/RPL22_ENSG00000116251_expression.pdf\",bbox_inches=\"tight\",background=\"transparent\")"
   ]
  },
  {
   "cell_type": "code",
   "execution_count": 241,
   "metadata": {
    "ExecuteTime": {
     "end_time": "2020-04-10T00:23:30.101556Z",
     "start_time": "2020-04-10T00:23:29.728008Z"
    }
   },
   "outputs": [
    {
     "data": {
      "text/plain": [
       "[<matplotlib.axes._subplots.AxesSubplot at 0x136754d50>,\n",
       " <matplotlib.axes._subplots.AxesSubplot at 0x14c172650>,\n",
       " <matplotlib.axes._subplots.AxesSubplot at 0x14e628e90>,\n",
       " <matplotlib.axes._subplots.AxesSubplot at 0x152dcc050>]"
      ]
     },
     "execution_count": 241,
     "metadata": {},
     "output_type": "execute_result"
    },
    {
     "data": {
      "image/png": "[encoded data removed]",
      "text/plain": [
       "<Figure size 288x144 with 4 Axes>"
      ]
     },
     "metadata": {
      "needs_background": "light"
     },
     "output_type": "display_data"
    }
   ],
   "source": [
    "all_bars(\"ENSG00000135679\",\"gene\")\n"
   ]
  },
  {
   "cell_type": "code",
   "execution_count": 58,
   "metadata": {
    "ExecuteTime": {
     "end_time": "2020-04-09T17:56:40.513205Z",
     "start_time": "2020-04-09T17:56:39.662659Z"
    }
   },
   "outputs": [
    {
     "data": {
      "image/png": "[encoded data removed]",
      "text/plain": [
       "<Figure size 288x144 with 6 Axes>"
      ]
     },
     "metadata": {
      "needs_background": "light"
     },
     "output_type": "display_data"
    }
   ],
   "source": [
    "all_bars(\"ENSG00000135679\",\"gene\")\n",
    "\n",
    "plt.savefig(\"../plots/MDM2_ENSG00000135679_expression.pdf\",bbox_inches=\"tight\",background=\"transparent\")"
   ]
  },
  {
   "cell_type": "code",
   "execution_count": 59,
   "metadata": {
    "ExecuteTime": {
     "end_time": "2020-04-09T17:56:43.232082Z",
     "start_time": "2020-04-09T17:56:42.309656Z"
    }
   },
   "outputs": [
    {
     "data": {
      "image/png": "[encoded data removed]",
      "text/plain": [
       "<Figure size 288x144 with 6 Axes>"
      ]
     },
     "metadata": {
      "needs_background": "light"
     },
     "output_type": "display_data"
    }
   ],
   "source": [
    "all_bars(\"ENSG00000198625\",\"gene\")\n",
    "\n",
    "plt.savefig(\"../plots/MDM4_ENSG00000198625_expression.pdf\",bbox_inches=\"tight\",background=\"transparent\")"
   ]
  },
  {
   "cell_type": "code",
   "execution_count": 242,
   "metadata": {
    "ExecuteTime": {
     "end_time": "2020-04-10T00:24:10.321358Z",
     "start_time": "2020-04-10T00:24:09.951429Z"
    }
   },
   "outputs": [
    {
     "data": {
      "text/plain": [
       "[<matplotlib.axes._subplots.AxesSubplot at 0x14c0d6110>,\n",
       " <matplotlib.axes._subplots.AxesSubplot at 0x139bfed90>,\n",
       " <matplotlib.axes._subplots.AxesSubplot at 0x12b18a610>,\n",
       " <matplotlib.axes._subplots.AxesSubplot at 0x136c70e50>]"
      ]
     },
     "execution_count": 242,
     "metadata": {},
     "output_type": "execute_result"
    },
    {
     "data": {
      "image/png": "[encoded data removed]",
      "text/plain": [
       "<Figure size 288x144 with 4 Axes>"
      ]
     },
     "metadata": {
      "needs_background": "light"
     },
     "output_type": "display_data"
    }
   ],
   "source": [
    "all_bars(\"ENSG00000143569\",\"gene\")"
   ]
  },
  {
   "cell_type": "code",
   "execution_count": 112,
   "metadata": {
    "ExecuteTime": {
     "end_time": "2020-04-09T18:37:07.880313Z",
     "start_time": "2020-04-09T18:37:06.956906Z"
    }
   },
   "outputs": [
    {
     "data": {
      "image/png": "[encoded data removed]",
      "text/plain": [
       "<Figure size 288x144 with 6 Axes>"
      ]
     },
     "metadata": {
      "needs_background": "light"
     },
     "output_type": "display_data"
    }
   ],
   "source": [
    "all_bars(\"ENSG00000143569\",\"gene\")\n",
    "\n",
    "plt.savefig(\"../plots/UBAP2L_ENSG00000143569_expression.pdf\",bbox_inches=\"tight\",background=\"transparent\")"
   ]
  },
  {
   "cell_type": "code",
   "execution_count": 116,
   "metadata": {
    "ExecuteTime": {
     "end_time": "2020-04-09T18:38:52.568412Z",
     "start_time": "2020-04-09T18:38:51.704729Z"
    }
   },
   "outputs": [
    {
     "data": {
      "image/png": "[encoded data removed]",
      "text/plain": [
       "<Figure size 288x144 with 6 Axes>"
      ]
     },
     "metadata": {
      "needs_background": "light"
     },
     "output_type": "display_data"
    }
   ],
   "source": [
    "all_bars(\"ENST00000484819\",\"transcript\")\n",
    "\n",
    "plt.savefig(\"../plots/UBAP2L_ENST00000484819_expression.pdf\",bbox_inches=\"tight\",background=\"transparent\")"
   ]
  },
  {
   "cell_type": "code",
   "execution_count": 117,
   "metadata": {
    "ExecuteTime": {
     "end_time": "2020-04-09T18:39:00.721421Z",
     "start_time": "2020-04-09T18:38:59.872543Z"
    }
   },
   "outputs": [
    {
     "data": {
      "image/png": "[encoded data removed]",
      "text/plain": [
       "<Figure size 288x144 with 6 Axes>"
      ]
     },
     "metadata": {
      "needs_background": "light"
     },
     "output_type": "display_data"
    }
   ],
   "source": [
    "all_bars(\"ENST00000433615\",\"transcript\")\n",
    "\n",
    "plt.savefig(\"../plots/UBAP2L_ENST00000433615_expression.pdf\",bbox_inches=\"tight\",background=\"transparent\")"
   ]
  },
  {
   "cell_type": "markdown",
   "metadata": {},
   "source": [
    "## Volcano plots"
   ]
  },
  {
   "cell_type": "markdown",
   "metadata": {},
   "source": [
    "# Differential splicing"
   ]
  },
  {
   "cell_type": "code",
   "execution_count": 245,
   "metadata": {
    "ExecuteTime": {
     "end_time": "2020-04-10T00:27:13.114717Z",
     "start_time": "2020-04-10T00:27:11.737229Z"
    }
   },
   "outputs": [],
   "source": [
    "rpl22_oe_rmats = pd.read_csv(\"../data/processed/rmats_merge/rpl22_oe.txt\",sep=\"\\t\",index_col=0)\n",
    "rpl22l1_oe_rmats = pd.read_csv(\"../data/processed/rmats_merge/rpl22l1_oe.txt\",sep=\"\\t\",index_col=0)\n",
    "rpl22l1_kd1_rmats = pd.read_csv(\"../data/processed/rmats_merge/rpl22l1_kd1.txt\",sep=\"\\t\",index_col=0)\n",
    "rpl22l1_kd2_rmats = pd.read_csv(\"../data/processed/rmats_merge/rpl22l1_kd2.txt\",sep=\"\\t\",index_col=0)\n",
    "rpl22_ko1_rmats = pd.read_csv(\"../data/processed/rmats_merge/rpl22_ko1.txt\",sep=\"\\t\",index_col=0)\n",
    "rpl22_ko2_rmats = pd.read_csv(\"../data/processed/rmats_merge/rpl22_ko2.txt\",sep=\"\\t\",index_col=0)\n",
    "\n",
    "rpl22_oe_rmats = rpl22_oe_rmats.rename({\"PValue\":\"pval\",\"FDR\":\"qval\"},axis=1)\n",
    "rpl22l1_oe_rmats = rpl22l1_oe_rmats.rename({\"PValue\":\"pval\",\"FDR\":\"qval\"},axis=1)\n",
    "rpl22l1_kd1_rmats = rpl22l1_kd1_rmats.rename({\"PValue\":\"pval\",\"FDR\":\"qval\"},axis=1)\n",
    "rpl22l1_kd2_rmats = rpl22l1_kd2_rmats.rename({\"PValue\":\"pval\",\"FDR\":\"qval\"},axis=1)\n",
    "rpl22_ko1_rmats = rpl22_ko1_rmats.rename({\"PValue\":\"pval\",\"FDR\":\"qval\"},axis=1)\n",
    "rpl22_ko2_rmats = rpl22_ko2_rmats.rename({\"PValue\":\"pval\",\"FDR\":\"qval\"},axis=1)\n",
    "\n",
    "splice_types = [\"A3SS\",\"A5SS\",\"MXE\",\"RI\",\"SE\"]"
   ]
  },
  {
   "cell_type": "code",
   "execution_count": 246,
   "metadata": {
    "ExecuteTime": {
     "end_time": "2020-04-10T00:27:15.447586Z",
     "start_time": "2020-04-10T00:27:15.007097Z"
    }
   },
   "outputs": [
    {
     "data": {
      "text/plain": [
       "[<matplotlib.axes._subplots.AxesSubplot at 0x14c3384d0>,\n",
       " <matplotlib.axes._subplots.AxesSubplot at 0x1442030d0>,\n",
       " <matplotlib.axes._subplots.AxesSubplot at 0x144292910>,\n",
       " <matplotlib.axes._subplots.AxesSubplot at 0x1442cf190>]"
      ]
     },
     "execution_count": 246,
     "metadata": {},
     "output_type": "execute_result"
    },
    {
     "data": {
      "image/png": "[encoded data removed]",
      "text/plain": [
       "<Figure size 288x144 with 4 Axes>"
      ]
     },
     "metadata": {
      "needs_background": "light"
     },
     "output_type": "display_data"
    }
   ],
   "source": [
    "all_bars(\"UBAP2L_ENSG00000143569_154241837_154241888_154241232_154241430_154243356_154243649\", \n",
    "     \"splicing\")"
   ]
  },
  {
   "cell_type": "code",
   "execution_count": 60,
   "metadata": {
    "ExecuteTime": {
     "end_time": "2020-04-09T17:56:49.048231Z",
     "start_time": "2020-04-09T17:56:48.165597Z"
    }
   },
   "outputs": [
    {
     "data": {
      "image/png": "[encoded data removed]",
      "text/plain": [
       "<Figure size 288x144 with 6 Axes>"
      ]
     },
     "metadata": {
      "needs_background": "light"
     },
     "output_type": "display_data"
    }
   ],
   "source": [
    "all_bars(\"UBAP2L_ENSG00000143569_154241837_154241888_154241232_154241430_154243356_154243649\", \n",
    "     \"splicing\")\n",
    "\n",
    "plt.savefig(\"../plots/UBAP2L_splicing.pdf\",bbox_inches=\"tight\",background=\"transparent\")"
   ]
  },
  {
   "cell_type": "code",
   "execution_count": 247,
   "metadata": {
    "ExecuteTime": {
     "end_time": "2020-04-10T00:27:37.378448Z",
     "start_time": "2020-04-10T00:27:37.040953Z"
    }
   },
   "outputs": [
    {
     "data": {
      "image/png": "[encoded data removed]",
      "text/plain": [
       "<Figure size 288x144 with 4 Axes>"
      ]
     },
     "metadata": {
      "needs_background": "light"
     },
     "output_type": "display_data"
    }
   ],
   "source": [
    "axes = all_bars(\"RPL22L1_ENSG00000163584_170585801_170585990_170585801_170585923_170586086_170586176\", \n",
    "     \"splicing\")"
   ]
  },
  {
   "cell_type": "code",
   "execution_count": 65,
   "metadata": {
    "ExecuteTime": {
     "end_time": "2020-04-09T17:57:52.917963Z",
     "start_time": "2020-04-09T17:57:52.068587Z"
    }
   },
   "outputs": [
    {
     "data": {
      "image/png": "[encoded data removed]",
      "text/plain": [
       "<Figure size 288x144 with 6 Axes>"
      ]
     },
     "metadata": {
      "needs_background": "light"
     },
     "output_type": "display_data"
    }
   ],
   "source": [
    "axes = all_bars(\"RPL22L1_ENSG00000163584_170585801_170585990_170585801_170585923_170586086_170586176\", \n",
    "     \"splicing\")\n",
    "plt.suptitle(\"RPL22L1 exon 3A\")\n",
    "\n",
    "plt.savefig(\"../plots/RPL22L1_3A_splicing.pdf\",bbox_inches=\"tight\",background=\"transparent\")"
   ]
  },
  {
   "cell_type": "code",
   "execution_count": 248,
   "metadata": {
    "ExecuteTime": {
     "end_time": "2020-04-10T00:28:52.844310Z",
     "start_time": "2020-04-10T00:28:52.496226Z"
    }
   },
   "outputs": [
    {
     "data": {
      "image/png": "[encoded data removed]",
      "text/plain": [
       "<Figure size 288x144 with 4 Axes>"
      ]
     },
     "metadata": {
      "needs_background": "light"
     },
     "output_type": "display_data"
    }
   ],
   "source": [
    "axes = all_bars(\"MDM4_ENSG00000198625_204506557_204506625_204501318_204501374_204507336_204507436\", \n",
    "     \"splicing\")"
   ]
  },
  {
   "cell_type": "code",
   "execution_count": 70,
   "metadata": {
    "ExecuteTime": {
     "end_time": "2020-04-09T18:00:47.179763Z",
     "start_time": "2020-04-09T18:00:46.221547Z"
    }
   },
   "outputs": [
    {
     "data": {
      "image/png": "[encoded data removed]",
      "text/plain": [
       "<Figure size 288x144 with 6 Axes>"
      ]
     },
     "metadata": {
      "needs_background": "light"
     },
     "output_type": "display_data"
    }
   ],
   "source": [
    "axes = all_bars(\"MDM4_ENSG00000198625_204506557_204506625_204501318_204501374_204507336_204507436\", \n",
    "     \"splicing\")\n",
    "\n",
    "plt.suptitle(\"MDM4 exon 6\")\n",
    "plt.savefig(\"../plots/MDM4_6_splicing.pdf\",bbox_inches=\"tight\",background=\"transparent\")"
   ]
  },
  {
   "cell_type": "markdown",
   "metadata": {},
   "source": [
    "## Splicing types"
   ]
  },
  {
   "cell_type": "code",
   "execution_count": 41,
   "metadata": {
    "ExecuteTime": {
     "end_time": "2020-04-09T17:54:21.191094Z",
     "start_time": "2020-04-09T17:54:21.179915Z"
    }
   },
   "outputs": [],
   "source": [
    "def plot_splice_types(rmats_diffs, qval_cutoff=0.01, ax=None,legend=False):\n",
    "    \n",
    "    if ax is None:\n",
    "        ax = plt.subplot(111)\n",
    "\n",
    "    significants = rmats_diffs.copy(\n",
    "        deep=True)[rmats_diffs[\"qval\"] < qval_cutoff]\n",
    "\n",
    "    significants[\"treatment_increase\"] = significants[\"treatment_median\"] > significants[\"control_median\"]\n",
    "\n",
    "    significants[\"treatment_increase\"] = significants[\"treatment_increase\"].replace({True: \"Inclusion\",\n",
    "                                                                                     False: \"Exclusion\"})\n",
    "\n",
    "    significants = significants.groupby(\n",
    "        \"splice_type\")[\"treatment_increase\"].value_counts()\n",
    "    significants = significants.unstack()\n",
    "\n",
    "    significants, _ = significants.align(\n",
    "        pd.Series(index=splice_types), join=\"right\", axis=0)\n",
    "    significants = significants.fillna(0)\n",
    "\n",
    "    significants[\"splice_type\"] = significants.index\n",
    "    \n",
    "    significants.columns.name = \"\"\n",
    "    \n",
    "    significants.plot(x=\"splice_type\",\n",
    "                      y=[\"Exclusion\", \"Inclusion\"],\n",
    "                      kind=\"bar\",\n",
    "                      cmap=mpl.colors.ListedColormap(\n",
    "                          [\"#dbe2ef\", \"#3f72af\"]),\n",
    "                      ax=ax,\n",
    "                      stacked=True,\n",
    "                      width=0.5,\n",
    "                      legend=legend\n",
    "                      )\n",
    "    \n",
    "    plt.ylabel(\"Frequency\")\n",
    "    plt.xlabel(\"Splice type\")\n",
    "    \n",
    "    plt.xticks(rotation=45,ha=\"right\")\n",
    "\n",
    "    ax.spines[\"top\"].set_visible(False)\n",
    "    ax.spines[\"right\"].set_visible(False)\n",
    "    ax.spines['left'].set_position(('axes', -0.05))"
   ]
  },
  {
   "cell_type": "code",
   "execution_count": 249,
   "metadata": {
    "ExecuteTime": {
     "end_time": "2020-04-10T00:29:40.155995Z",
     "start_time": "2020-04-10T00:29:38.538415Z"
    }
   },
   "outputs": [
    {
     "data": {
      "image/png": "[encoded data removed]",
      "text/plain": [
       "<Figure size 1152x144 with 6 Axes>"
      ]
     },
     "metadata": {
      "needs_background": "light"
     },
     "output_type": "display_data"
    }
   ],
   "source": [
    "plt.figure(figsize=(16,2))\n",
    "    \n",
    "for experiment_idx, experiment in enumerate([rpl22_oe_rmats,\n",
    "                                             rpl22l1_oe_rmats,\n",
    "                                             rpl22l1_kd1_rmats,\n",
    "                                             rpl22l1_kd1_rmats,\n",
    "                                             rpl22_ko1_rmats,\n",
    "                                             rpl22_ko2_rmats\n",
    "                                            ]):\n",
    "\n",
    "    ax = plt.subplot(1,6,experiment_idx+1)\n",
    "    plot_splice_types(experiment,ax=ax,legend=experiment_idx<1)\n",
    "    \n",
    "    if experiment_idx > 0:\n",
    "        plt.ylabel(\"\")\n",
    "        \n",
    "    ax.set_title(display_names[experiment_idx])\n",
    "        \n",
    "plt.subplots_adjust(wspace=0.3)\n",
    "\n",
    "plt.savefig(\"../plots/significant_splice_types.pdf\",bbox_inches=\"tight\",background=\"transparent\")"
   ]
  },
  {
   "cell_type": "markdown",
   "metadata": {},
   "source": [
    "# fgsea results"
   ]
  },
  {
   "cell_type": "code",
   "execution_count": 884,
   "metadata": {
    "ExecuteTime": {
     "end_time": "2019-11-10T03:02:18.175392Z",
     "start_time": "2019-11-10T03:02:18.049262Z"
    }
   },
   "outputs": [],
   "source": [
    "rpl22_oe_fgsea = pd.read_csv(\"../data/processed/fgsea_results/rpl22_oe.txt\",sep=\"\\t\",index_col=0)\n",
    "rpl22l1_oe_fgsea = pd.read_csv(\"../data/processed/fgsea_results/rpl22l1_oe.txt\",sep=\"\\t\",index_col=0)\n",
    "sh704_fgsea = pd.read_csv(\"../data/processed/fgsea_results/sh704.txt\",sep=\"\\t\",index_col=0)\n",
    "sh705_fgsea = pd.read_csv(\"../data/processed/fgsea_results/sh705.txt\",sep=\"\\t\",index_col=0)\n",
    "\n",
    "def preprocess_fgsea(fgsea):\n",
    "    fgsea.sort_values(by=\"padj\",inplace=True)\n",
    "    fgsea.index = fgsea[\"pathway\"]\n",
    "    fgsea[\"gene_set\"] = fgsea[\"pathway\"].str.split(\"_\").str[0]\n",
    "    fgsea[\"direction\"] = fgsea[\"NES\"] > 0\n",
    "    \n",
    "preprocess_fgsea(rpl22_oe_fgsea)\n",
    "preprocess_fgsea(rpl22l1_oe_fgsea)\n",
    "preprocess_fgsea(sh704_fgsea)\n",
    "preprocess_fgsea(sh705_fgsea)"
   ]
  },
  {
   "cell_type": "code",
   "execution_count": 1089,
   "metadata": {
    "ExecuteTime": {
     "end_time": "2019-11-10T04:44:43.784823Z",
     "start_time": "2019-11-10T04:44:43.779829Z"
    }
   },
   "outputs": [],
   "source": [
    "def get_top_n(fgsea, n=4):\n",
    "#     positives = fgsea[fgsea[\"direction\"]==True].head(n)\n",
    "#     negatives = fgsea[fgsea[\"direction\"]==False].head(n)\n",
    "\n",
    "    return fgsea.head(n*2)\n",
    "    \n",
    "#     return pd.concat([positives,negatives],axis=0).sort_values(by=\"pval\")\n",
    "\n",
    "rpl22_oe_fgsea_top = get_top_n(rpl22_oe_fgsea)\n",
    "rpl22l1_oe_fgsea_top = get_top_n(rpl22l1_oe_fgsea)\n",
    "sh704_fgsea_top = get_top_n(sh704_fgsea)\n",
    "sh705_fgsea_top = get_top_n(sh705_fgsea)"
   ]
  },
  {
   "cell_type": "code",
   "execution_count": 1109,
   "metadata": {
    "ExecuteTime": {
     "end_time": "2019-11-10T05:16:10.523058Z",
     "start_time": "2019-11-10T05:16:10.513046Z"
    }
   },
   "outputs": [],
   "source": [
    "fgsea = rpl22l1_oe_fgsea_top\n",
    "\n",
    "\n",
    "def plot_top(fgsea_top, ax=None, legend=False):\n",
    "\n",
    "    if ax is None:\n",
    "\n",
    "        ax = plt.subplot(111)\n",
    "\n",
    "    g = sns.scatterplot(\n",
    "        -np.log10(fgsea_top[\"padj\"]),\n",
    "        np.arange(8),\n",
    "        size=fgsea_top[\"size\"].rename(\"Gene set size\"),\n",
    "        hue=(fgsea_top[\"NES\"] > 0).replace(\n",
    "            {True: \"Upregulated\", False: \"Downregulated\"}).rename(\"Expression change,\\ntreatment\"),\n",
    "        sizes=(40, 250),\n",
    "        size_norm=(0, 500),\n",
    "        palette={\"Upregulated\": \"#3f72af\", \"Downregulated\": \"#e23e57\"},\n",
    "        ax=ax,\n",
    "        legend=legend\n",
    "    )\n",
    "    \n",
    "    if legend:\n",
    "        g.legend(loc='center left', bbox_to_anchor=(1.25, 0.5), ncol=1)   \n",
    "\n",
    "    ax.set_xlim(0, plt.xlim()[1]*1.1)\n",
    "\n",
    "\n",
    "    ax.spines[\"top\"].set_visible(False)\n",
    "    ax.spines[\"right\"].set_visible(False)\n",
    "\n",
    "    ax.spines['bottom'].set_position(('axes', -0.025))\n",
    "    ax.spines['left'].set_position(('axes', -0.05))\n",
    "\n",
    "    ax.set_xlabel(\"-log10(q-value)\")\n",
    "    ax.set_yticks(np.arange(8))\n",
    "    \n",
    "    ylabels = fgsea_top[\"pathway\"].apply(\n",
    "        lambda x: x.replace(\"_\", \" \").capitalize())\n",
    "    \n",
    "    ylabels = ylabels.apply(lambda x: x.replace(\"Go \",\"\").replace(\" process\",\"\").capitalize())\n",
    "    \n",
    "    ax.set_yticklabels(ylabels)\n",
    "\n",
    "    return ax"
   ]
  },
  {
   "cell_type": "code",
   "execution_count": 1110,
   "metadata": {
    "ExecuteTime": {
     "end_time": "2019-11-10T05:16:12.301855Z",
     "start_time": "2019-11-10T05:16:11.319186Z"
    }
   },
   "outputs": [
    {
     "data": {
      "image/png": "[encoded data removed]",
      "text/plain": [
       "<Figure size 864x216 with 4 Axes>"
      ]
     },
     "metadata": {
      "needs_background": "light"
     },
     "output_type": "display_data"
    }
   ],
   "source": [
    "plt.figure(figsize=(12,3))\n",
    "plot_top(rpl22_oe_fgsea_top,plt.subplot(141))\n",
    "plot_top(rpl22l1_oe_fgsea_top,plt.subplot(142))\n",
    "plot_top(sh704_fgsea_top,plt.subplot(143))\n",
    "plot_top(sh705_fgsea_top,plt.subplot(144),legend='brief')\n",
    "\n",
    "plt.subplots_adjust(wspace=1)\n",
    "\n",
    "plt.savefig(\"../plots/fgsea_top.pdf\",bbox_inches=\"tight\",background=\"transparent\")"
   ]
  }
 ],
 "metadata": {
  "kernelspec": {
   "display_name": "Python 3",
   "language": "python",
   "name": "python3"
  },
  "language_info": {
   "codemirror_mode": {
    "name": "ipython",
    "version": 3
   },
   "file_extension": ".py",
   "mimetype": "text/x-python",
   "name": "python",
   "nbconvert_exporter": "python",
   "pygments_lexer": "ipython3",
   "version": "3.7.7"
  },
  "toc": {
   "base_numbering": 1,
   "nav_menu": {},
   "number_sections": true,
   "sideBar": true,
   "skip_h1_title": false,
   "title_cell": "Table of Contents",
   "title_sidebar": "Contents",
   "toc_cell": false,
   "toc_position": {},
   "toc_section_display": true,
   "toc_window_display": true
  }
 },
 "nbformat": 4,
 "nbformat_minor": 2
}
