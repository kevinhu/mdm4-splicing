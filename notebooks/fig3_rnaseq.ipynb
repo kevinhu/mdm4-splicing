{
 "cells": [
  {
   "cell_type": "code",
   "execution_count": 1,
   "metadata": {
    "ExecuteTime": {
     "end_time": "2019-10-30T17:58:38.021938Z",
     "start_time": "2019-10-30T17:58:36.503990Z"
    }
   },
   "outputs": [],
   "source": [
    "import numpy as np\n",
    "import pandas as pd\n",
    "\n",
    "import seaborn as sns\n",
    "import matplotlib.pyplot as plt"
   ]
  },
  {
   "cell_type": "markdown",
   "metadata": {},
   "source": [
    "# Define experiments"
   ]
  },
  {
   "cell_type": "code",
   "execution_count": 63,
   "metadata": {
    "ExecuteTime": {
     "end_time": "2019-10-31T18:44:28.374916Z",
     "start_time": "2019-10-31T18:44:28.367980Z"
    }
   },
   "outputs": [],
   "source": [
    "experiments = {\"rpl22_oe\": [\n",
    "    ['LNCaP_GFP_1',\n",
    "     'LNCaP_GFP_2',\n",
    "     'LNCaP_GFP_3'],\n",
    "    ['LNCaP_RPL22_1',\n",
    "     'LNCaP_RPL22_2',\n",
    "     'LNCaP_RPL22_3']\n",
    "],\n",
    "    \"rpl22l1_oe\": [\n",
    "    ['CAL851_GFP_1',\n",
    "     'CAL851_GFP_2',\n",
    "     'CAL851_GFP_3'],\n",
    "    ['CAL851_RPL22L1_1',\n",
    "     'CAL851_RPL22L1_2',\n",
    "     'CAL851_RPL22L1_3']\n",
    "],\n",
    "    \"sh704\": [\n",
    "    ['LNCaP_shLuc_1',\n",
    "     'LNCaP_shLuc_2',\n",
    "     'LNCaP_shLuc_3'],\n",
    "    ['LNCaP_sh704_1',\n",
    "     'LNCaP_sh704_2',\n",
    "     'LNCaP_sh704_3']\n",
    "],\n",
    "    \"sh705\": [\n",
    "    ['LNCaP_shLuc_1',\n",
    "     'LNCaP_shLuc_2',\n",
    "     'LNCaP_shLuc_3'],\n",
    "    ['LNCaP_sh705_1',\n",
    "     'LNCaP_sh705_2',\n",
    "     'LNCaP_sh705_3']\n",
    "]\n",
    "}"
   ]
  },
  {
   "cell_type": "markdown",
   "metadata": {},
   "source": [
    "# Load TPMS and sleuth results"
   ]
  },
  {
   "cell_type": "code",
   "execution_count": 58,
   "metadata": {
    "ExecuteTime": {
     "end_time": "2019-10-31T17:57:23.809603Z",
     "start_time": "2019-10-31T17:57:22.539998Z"
    }
   },
   "outputs": [],
   "source": [
    "named_tpms = pd.read_hdf(\"../data/processed/tpm_matrix_named.hdf\",key=\"named_tpms\")\n",
    "\n",
    "rpl22_oe_tpms = pd.read_hdf(\"../data/intermediate/kallisto_sleuth/RPL22_oe.hdf\", key=\"rpl22_oe\")\n",
    "rpl22l1_oe_tpms = pd.read_hdf(\"../data/intermediate/kallisto_sleuth/RPL22L1_oe.hdf\", key=\"rpl22l1_oe\")\n",
    "sh704_tpms = pd.read_hdf(\"../data/intermediate/kallisto_sleuth/sh704.hdf\", key=\"sh704\")\n",
    "sh705_tpms = pd.read_hdf(\"../data/intermediate/kallisto_sleuth/sh705.hdf\", key=\"sh705\")"
   ]
  },
  {
   "cell_type": "markdown",
   "metadata": {},
   "source": [
    "# Differential expression"
   ]
  },
  {
   "cell_type": "code",
   "execution_count": 71,
   "metadata": {
    "ExecuteTime": {
     "end_time": "2019-10-31T18:47:39.819411Z",
     "start_time": "2019-10-31T18:47:39.808510Z"
    }
   },
   "outputs": [
    {
     "name": "stdout",
     "output_type": "stream",
     "text": [
      "              Gene TPM\n",
      "LNCaP_GFP_1    48.1414\n",
      "LNCaP_GFP_2    43.2876\n",
      "LNCaP_GFP_3    45.3857\n",
      "LNCaP_RPL22_1  9.21116\n",
      "LNCaP_RPL22_2  7.97729\n",
      "LNCaP_RPL22_3  10.1963\n"
     ]
    }
   ],
   "source": [
    "def plot_tpm_dist(transcript_id,experiment_id,diff_results):\n",
    "    \n",
    "    select_abundance = diff_results.loc[transcript_id]\n",
    "    \n",
    "    controls = experiments[experiment_id][0]\n",
    "    treatments = experiments[experiment_id][1]\n",
    "    \n",
    "    tpms = select_abundance[controls+treatments]\n",
    "\n",
    "    expression_df = pd.DataFrame(index = controls+treatments)\n",
    "    \n",
    "    expression_df[\"Gene TPM\"] = tpms\n",
    "    \n",
    "    print(expression_df)\n",
    "\n",
    "#     expression_df[\"treatment\"] = [\"Control\"]*12 + [\"Treatment\"]*12\n",
    "\n",
    "#     expression_df[\"Experiment\"] = (\n",
    "#         [\"RPL22++\"]*3 + [\"RPL22L1++\"]*3 + [\"sh704\"]*3 + [\"sh705\"]*3)*2\n",
    "\n",
    "#     plt.figure(figsize=(4, 2.5))\n",
    "\n",
    "# #     sns.barplot(x=\"Experiment\",\n",
    "# #                 y=\"Gene TPM\",\n",
    "# #                 data=expression_df,\n",
    "# #                 hue=\"treatment\",\n",
    "# #                 palette={\"Control\": \"#e3e3e3\", \"Treatment\": \"#286DC0\"},\n",
    "# #                 ci=None)\n",
    "\n",
    "#     ax = sns.stripplot(x=\"Experiment\",\n",
    "#                        y=\"Gene TPM\",\n",
    "#                        data=expression_df,\n",
    "#                        hue=\"treatment\",\n",
    "#                        dodge=True,\n",
    "#                        palette={\"Control\": \"#e3e3e3\", \"Treatment\": \"#286DC0\"},\n",
    "#                        size=8,\n",
    "#                        jitter=False,\n",
    "#                        linewidth=2,\n",
    "#                        edgecolor=\"black\",\n",
    "#                        alpha=0.75\n",
    "#                       )\n",
    "\n",
    "#     ax.get_legend().remove()\n",
    "\n",
    "#     ax.spines['top'].set_visible(False)\n",
    "#     ax.spines['right'].set_visible(False)\n",
    "    \n",
    "#     plt.ylim(0)\n",
    "    \n",
    "#     plt.title(transcript_id.split(\"_\")[0])\n",
    "    \n",
    "#     plt.savefig(\"../plots/\"+gene_id+\"_expression_distribution.pdf\",bbox_inches=\"tight\")\n",
    "\n",
    "plot_tpm_dist(\"ENST00000295830.13\",\"rpl22_oe\",rpl22_oe_tpms)"
   ]
  },
  {
   "cell_type": "code",
   "execution_count": 73,
   "metadata": {
    "ExecuteTime": {
     "end_time": "2019-10-31T18:47:44.945844Z",
     "start_time": "2019-10-31T18:47:44.936587Z"
    }
   },
   "outputs": [
    {
     "ename": "TypeError",
     "evalue": "plot_tpm_dist() missing 2 required positional arguments: 'experiment_id' and 'diff_results'",
     "output_type": "error",
     "traceback": [
      "\u001b[0;31m---------------------------------------------------------------------------\u001b[0m",
      "\u001b[0;31mTypeError\u001b[0m                                 Traceback (most recent call last)",
      "\u001b[0;32m<ipython-input-73-b5850c2e79af>\u001b[0m in \u001b[0;36m<module>\u001b[0;34m\u001b[0m\n\u001b[0;32m----> 1\u001b[0;31m \u001b[0mplot_tpm_dist\u001b[0m\u001b[0;34m(\u001b[0m\u001b[0;34m\"RPL22L1_ENST00000295830.13\"\u001b[0m\u001b[0;34m)\u001b[0m\u001b[0;34m\u001b[0m\u001b[0;34m\u001b[0m\u001b[0m\n\u001b[0m",
      "\u001b[0;31mTypeError\u001b[0m: plot_tpm_dist() missing 2 required positional arguments: 'experiment_id' and 'diff_results'"
     ]
    }
   ],
   "source": [
    "plot_tpm_dist(\"RPL22L1_ENST00000295830.13\")"
   ]
  },
  {
   "cell_type": "markdown",
   "metadata": {},
   "source": [
    "# Differential splicing"
   ]
  },
  {
   "cell_type": "code",
   "execution_count": 57,
   "metadata": {
    "ExecuteTime": {
     "end_time": "2019-10-31T17:57:05.521397Z",
     "start_time": "2019-10-31T17:57:04.700932Z"
    }
   },
   "outputs": [],
   "source": [
    "rpl22_oe_exons = pd.read_hdf(\"../data/intermediate/kallisto_sleuth/RPL22_oe.hdf\", key=\"rpl22_oe\")\n",
    "rpl22l1_oe_exons = pd.read_hdf(\"../data/intermediate/kallisto_sleuth/RPL22L1_oe.hdf\", key=\"rpl22l1_oe\")\n",
    "sh704_exons = pd.read_hdf(\"../data/intermediate/kallisto_sleuth/sh704.hdf\", key=\"sh704\")\n",
    "sh705_exons = pd.read_hdf(\"../data/intermediate/kallisto_sleuth/sh705.hdf\", key=\"sh705\")"
   ]
  },
  {
   "cell_type": "code",
   "execution_count": 46,
   "metadata": {
    "ExecuteTime": {
     "end_time": "2019-10-30T18:59:23.433380Z",
     "start_time": "2019-10-30T18:59:23.425390Z"
    }
   },
   "outputs": [],
   "source": [
    "def plot_psi_dist(exon_id):\n",
    "    \n",
    "    select_abundance = exon_psis[exon_id]\n",
    "\n",
    "    expression_df = pd.DataFrame(index = controls+experiments)\n",
    "\n",
    "    expression_df[\"Gene TPM\"] = np.log2(select_abundance.loc[expression_df.index]+1)\n",
    "\n",
    "    expression_df[\"treatment\"] = [\"Control\"]*12 + [\"Treatment\"]*12\n",
    "\n",
    "    expression_df[\"Experiment\"] = (\n",
    "        [\"RPL22++\"]*3 + [\"RPL22L1++\"]*3 + [\"sh704\"]*3 + [\"sh705\"]*3)*2\n",
    "\n",
    "    plt.figure(figsize=(4, 2.5))\n",
    "\n",
    "    sns.barplot(x=\"Experiment\",\n",
    "                y=\"Gene TPM\",\n",
    "                data=expression_df,\n",
    "                hue=\"treatment\",\n",
    "                palette={\"Control\": \"#e3e3e3\", \"Treatment\": \"#286DC0\"},\n",
    "                ci=None)\n",
    "\n",
    "    ax = sns.stripplot(x=\"Experiment\",\n",
    "                       y=\"Gene TPM\",\n",
    "                       data=expression_df,\n",
    "                       hue=\"treatment\",\n",
    "                       dodge=True,\n",
    "                       palette={\"Control\": \"#e3e3e3\", \"Treatment\": \"#286DC0\"},\n",
    "                       size=8,\n",
    "                       jitter=False,\n",
    "                       linewidth=2,\n",
    "                       edgecolor=\"black\",\n",
    "                       alpha=0.75\n",
    "                      )\n",
    "\n",
    "    ax.get_legend().remove()\n",
    "\n",
    "    ax.spines['top'].set_visible(False)\n",
    "    ax.spines['right'].set_visible(False)\n",
    "    \n",
    "    plt.ylim(0)\n",
    "    \n",
    "    plt.title(exon_id.split(\"_\")[0])\n",
    "    \n",
    "#     plt.savefig(\"../plots/\"+gene_id+\"_expression_distribution.pdf\",bbox_inches=\"tight\")\n"
   ]
  },
  {
   "cell_type": "code",
   "execution_count": 55,
   "metadata": {
    "ExecuteTime": {
     "end_time": "2019-10-30T19:00:45.341994Z",
     "start_time": "2019-10-30T19:00:45.171100Z"
    }
   },
   "outputs": [
    {
     "data": {
      "image/png": "[encoded data removed]",
      "text/plain": [
       "<Figure size 288x180 with 1 Axes>"
      ]
     },
     "metadata": {
      "needs_background": "light"
     },
     "output_type": "display_data"
    }
   ],
   "source": [
    "plot_psi_dist(\"ENSG00000163584;A3:3:170868390-170870159:170868387-170870159:-\")"
   ]
  },
  {
   "cell_type": "code",
   "execution_count": 51,
   "metadata": {
    "ExecuteTime": {
     "end_time": "2019-10-30T19:00:11.398733Z",
     "start_time": "2019-10-30T19:00:11.357732Z"
    }
   },
   "outputs": [
    {
     "data": {
      "text/plain": [
       "['ENSG00000163584;A3:3:170868201-170868298:170868134-170868298:-',\n",
       " 'ENSG00000163584;A3:3:170868390-170870159:170868387-170870159:-',\n",
       " 'ENSG00000163584;AF:3:170868390-170869965:170870033:170868390-170870159:170870195:-']"
      ]
     },
     "execution_count": 51,
     "metadata": {},
     "output_type": "execute_result"
    }
   ],
   "source": [
    "[x for x in exon_psis.columns if \"ENSG00000163584\" in x]"
   ]
  }
 ],
 "metadata": {
  "kernelspec": {
   "display_name": "Python 3",
   "language": "python",
   "name": "python3"
  },
  "language_info": {
   "codemirror_mode": {
    "name": "ipython",
    "version": 3
   },
   "file_extension": ".py",
   "mimetype": "text/x-python",
   "name": "python",
   "nbconvert_exporter": "python",
   "pygments_lexer": "ipython3",
   "version": "3.7.4"
  },
  "toc": {
   "base_numbering": 1,
   "nav_menu": {},
   "number_sections": true,
   "sideBar": true,
   "skip_h1_title": false,
   "title_cell": "Table of Contents",
   "title_sidebar": "Contents",
   "toc_cell": false,
   "toc_position": {},
   "toc_section_display": true,
   "toc_window_display": true
  }
 },
 "nbformat": 4,
 "nbformat_minor": 2
}
