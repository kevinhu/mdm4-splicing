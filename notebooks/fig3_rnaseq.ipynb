{
 "cells": [
  {
   "cell_type": "code",
   "execution_count": 11,
   "metadata": {
    "ExecuteTime": {
     "end_time": "2019-11-02T17:15:31.207176Z",
     "start_time": "2019-11-02T17:15:31.200900Z"
    }
   },
   "outputs": [],
   "source": [
    "import numpy as np\n",
    "import pandas as pd\n",
    "\n",
    "import seaborn as sns\n",
    "import matplotlib.pyplot as plt\n",
    "from matplotlib.lines import Line2D\n",
    "\n",
    "from statsmodels.stats.multitest import multipletests"
   ]
  },
  {
   "cell_type": "markdown",
   "metadata": {},
   "source": [
    "# Define experiments"
   ]
  },
  {
   "cell_type": "code",
   "execution_count": 12,
   "metadata": {
    "ExecuteTime": {
     "end_time": "2019-11-02T17:15:31.861345Z",
     "start_time": "2019-11-02T17:15:31.856321Z"
    }
   },
   "outputs": [],
   "source": [
    "experiments = {\"rpl22_oe\": [\n",
    "    ['LNCaP_GFP_1',\n",
    "     'LNCaP_GFP_2',\n",
    "     'LNCaP_GFP_3'],\n",
    "    ['LNCaP_RPL22_1',\n",
    "     'LNCaP_RPL22_2',\n",
    "     'LNCaP_RPL22_3']\n",
    "],\n",
    "    \"rpl22l1_oe\": [\n",
    "    ['CAL851_GFP_1',\n",
    "     'CAL851_GFP_2',\n",
    "     'CAL851_GFP_3'],\n",
    "    ['CAL851_RPL22L1_1',\n",
    "     'CAL851_RPL22L1_2',\n",
    "     'CAL851_RPL22L1_3']\n",
    "],\n",
    "    \"sh704\": [\n",
    "    ['LNCaP_shLuc_1',\n",
    "     'LNCaP_shLuc_2',\n",
    "     'LNCaP_shLuc_3'],\n",
    "    ['LNCaP_sh704_1',\n",
    "     'LNCaP_sh704_2',\n",
    "     'LNCaP_sh704_3']\n",
    "],\n",
    "    \"sh705\": [\n",
    "    ['LNCaP_shLuc_1',\n",
    "     'LNCaP_shLuc_2',\n",
    "     'LNCaP_shLuc_3'],\n",
    "    ['LNCaP_sh705_1',\n",
    "     'LNCaP_sh705_2',\n",
    "     'LNCaP_sh705_3']\n",
    "]\n",
    "}\n",
    "\n",
    "experiment_ids = [\"rpl22_oe\",\"rpl22l1_oe\",\"sh704\",\"sh705\"]"
   ]
  },
  {
   "cell_type": "markdown",
   "metadata": {},
   "source": [
    "# Load TPMS and sleuth results"
   ]
  },
  {
   "cell_type": "code",
   "execution_count": 16,
   "metadata": {
    "ExecuteTime": {
     "end_time": "2019-11-02T17:15:57.584167Z",
     "start_time": "2019-11-02T17:15:55.224932Z"
    }
   },
   "outputs": [],
   "source": [
    "rpl22_oe_sleuth = pd.read_csv(\"../data/processed/kallisto_sleuth_merge/rpl22_oe.txt\", sep=\"\\t\", index_col=0)\n",
    "rpl22l1_oe_sleuth = pd.read_csv(\"../data/processed/kallisto_sleuth_merge/rpl22l1_oe.txt\", sep=\"\\t\", index_col=0)\n",
    "sh704_sleuth = pd.read_csv(\"../data/processed/kallisto_sleuth_merge/sh704.txt\", sep=\"\\t\", index_col=0)\n",
    "sh705_sleuth = pd.read_csv(\"../data/processed/kallisto_sleuth_merge/sh705.txt\", sep=\"\\t\", index_col=0)"
   ]
  },
  {
   "cell_type": "markdown",
   "metadata": {},
   "source": [
    "# Differential expression"
   ]
  },
  {
   "cell_type": "code",
   "execution_count": 17,
   "metadata": {
    "ExecuteTime": {
     "end_time": "2019-11-02T17:16:00.018250Z",
     "start_time": "2019-11-02T17:16:00.009503Z"
    }
   },
   "outputs": [],
   "source": [
    "def as_si(x, ndp):\n",
    "    \"\"\"\n",
    "    Convert a number to scientific notation\n",
    "\n",
    "    Parameters\n",
    "    ----------\n",
    "    x : float\n",
    "        number to convert\n",
    "    ndp: float\n",
    "        number of decimal places\n",
    "\n",
    "    Returns\n",
    "    -------\n",
    "    x_si : string\n",
    "        x formatted in scientific notation\n",
    "    \"\"\"\n",
    "\n",
    "    s = '{x:0.{ndp:d}e}'.format(x=x, ndp=ndp)\n",
    "    m, e = s.split('e')\n",
    "    x_si = r'{m:s} × $10^{{{e:d}}}$'.format(m=m, e=int(e))\n",
    "\n",
    "    return x_si"
   ]
  },
  {
   "cell_type": "code",
   "execution_count": 23,
   "metadata": {
    "ExecuteTime": {
     "end_time": "2019-11-02T17:16:52.091687Z",
     "start_time": "2019-11-02T17:16:52.070322Z"
    }
   },
   "outputs": [],
   "source": [
    "control_color = \"grey\"\n",
    "treatment_color = \"red\"\n",
    "alpha = 0.5\n",
    "\n",
    "\n",
    "def plot_tpm_dist(transcript_id, experiment_id, diff_results, ax=None, pal=None, xlabel=None, ylabel=None):\n",
    "\n",
    "    if ax is None:\n",
    "        ax = plt.subplot(111)\n",
    "\n",
    "    if pal is None:\n",
    "        pal = sns.color_palette([control_color, treatment_color])\n",
    "\n",
    "    if xlabel is None:\n",
    "        xlabel = experiment_id\n",
    "\n",
    "    if ylabel is None:\n",
    "        ylabel = \"mRNA expression, log2(TPM + 1)\"\n",
    "\n",
    "    select_abundance = diff_results.loc[transcript_id]\n",
    "\n",
    "    controls = experiments[experiment_id][0]\n",
    "    treatments = experiments[experiment_id][1]\n",
    "\n",
    "    tpms = np.log2(select_abundance[controls+treatments].astype(np.float64)+1)\n",
    "\n",
    "    expression_df = pd.DataFrame(index=controls+treatments)\n",
    "\n",
    "    expression_df[\"tpm\"] = tpms\n",
    "    expression_df[\"treatment\"] = [\"control\"] * \\\n",
    "        len(controls)+[\"treatment\"]*len(treatments)\n",
    "\n",
    "    sns.swarmplot(x=\"treatment\",\n",
    "                  y=\"tpm\",\n",
    "                  data=expression_df,\n",
    "                  ax=ax,\n",
    "                  palette=pal,\n",
    "                  s=6,\n",
    "                  alpha=alpha,\n",
    "                  edgecolor=\"black\",\n",
    "                  )\n",
    "\n",
    "    sns.barplot(x=\"treatment\",\n",
    "                y=\"tpm\",\n",
    "                data=expression_df,\n",
    "                ax=ax,\n",
    "                palette=pal,\n",
    "                alpha=alpha/2,\n",
    "                linewidth=1,\n",
    "                ci=None\n",
    "                )\n",
    "\n",
    "    means = expression_df.groupby(\"treatment\")[\"tpm\"].mean()\n",
    "\n",
    "    ax.axhline(means[\"control\"], 0.1, 0.4,\n",
    "               linewidth=1, color=\"black\", zorder=100)\n",
    "    ax.axhline(means[\"treatment\"], 0.6, 0.9,\n",
    "               linewidth=1, color=\"black\", zorder=100)\n",
    "\n",
    "    ax.spines['top'].set_visible(False)\n",
    "    ax.spines['right'].set_visible(False)\n",
    "    ax.set_xticks([])\n",
    "    ax.set_xlabel(xlabel)\n",
    "    ax.set_ylabel(ylabel)\n",
    "\n",
    "    ax.spines['bottom'].set_position(('axes', -0.05))\n",
    "    ax.spines['left'].set_position(('axes', -0.05))\n",
    "\n",
    "    plt.ylim(0)\n",
    "\n",
    "    y_max = max(tpms)\n",
    "\n",
    "    if not np.isnan(select_abundance[\"qval\"]):\n",
    "\n",
    "        qval = as_si(select_abundance[\"qval\"], 0)\n",
    "        ax.text(0.5, y_max*1.2, qval, ha=\"center\", fontsize=8)\n",
    "\n",
    "    return ax, y_max\n",
    "\n",
    "\n",
    "def plot_tpm_dist_all(transcript_id):\n",
    "\n",
    "    f, axes = plt.subplots(1, 4, sharey=True, figsize=(4, 3))\n",
    "\n",
    "    maxes = []\n",
    "\n",
    "    ax = axes[0]\n",
    "    ax, y_max = plot_tpm_dist(transcript_id, \"rpl22_oe\", rpl22_oe_sleuth, ax=ax)\n",
    "    maxes.append(y_max)\n",
    "    ax.set_xlabel(\"RPL22++\")\n",
    "\n",
    "    ax = axes[1]\n",
    "    ax, y_max = plot_tpm_dist(\n",
    "        transcript_id, \"rpl22l1_oe\", rpl22l1_oe_sleuth, ax=ax, ylabel=\"\")\n",
    "    maxes.append(y_max)\n",
    "    ax.spines[\"left\"].set_visible(False)\n",
    "    ax.tick_params(axis='y', which='both', right=False,\n",
    "                   left=False, labelleft=False)\n",
    "    ax.set_xlabel(\"RPL22L1++\")\n",
    "\n",
    "    ax = axes[2]\n",
    "    ax, y_max = plot_tpm_dist(transcript_id, \"sh704\",\n",
    "                              sh704_sleuth, ax=ax, ylabel=\"\")\n",
    "    maxes.append(y_max)\n",
    "    ax.spines[\"left\"].set_visible(False)\n",
    "    ax.tick_params(axis='y', which='both', right=False,\n",
    "                   left=False, labelleft=False)\n",
    "\n",
    "    ax = axes[3]\n",
    "    ax, y_max = plot_tpm_dist(transcript_id, \"sh705\",\n",
    "                              sh705_sleuth, ax=ax, ylabel=\"\")\n",
    "    maxes.append(y_max)\n",
    "    ax.spines[\"left\"].set_visible(False)\n",
    "    ax.tick_params(axis='y', which='both', right=False,\n",
    "                   left=False, labelleft=False)\n",
    "\n",
    "    plt.ylim(-0.1, max(maxes)*1.25)\n",
    "\n",
    "    plt.subplots_adjust(wspace=0.4)\n",
    "\n",
    "    legend_elements = [Line2D([0], [0], marker='o', color=\"white\", label='Control',\n",
    "                              markerfacecolor=control_color, markersize=8, alpha=alpha),\n",
    "                       Line2D([0], [0], marker='o', color=\"white\", label='Treatment',\n",
    "                              markerfacecolor=treatment_color, markersize=8, alpha=alpha)]\n",
    "\n",
    "    plt.legend(handles=legend_elements,\n",
    "               loc='upper left', bbox_to_anchor=(1, 1))"
   ]
  },
  {
   "cell_type": "code",
   "execution_count": 25,
   "metadata": {
    "ExecuteTime": {
     "end_time": "2019-11-02T17:16:57.736405Z",
     "start_time": "2019-11-02T17:16:57.166229Z"
    }
   },
   "outputs": [
    {
     "data": {
      "image/png": "[encoded data removed]",
      "text/plain": [
       "<Figure size 288x216 with 4 Axes>"
      ]
     },
     "metadata": {
      "needs_background": "light"
     },
     "output_type": "display_data"
    }
   ],
   "source": [
    "plot_tpm_dist_all(\"ENST00000463836\")"
   ]
  },
  {
   "cell_type": "markdown",
   "metadata": {},
   "source": [
    "# Differential splicing"
   ]
  },
  {
   "cell_type": "code",
   "execution_count": 26,
   "metadata": {
    "ExecuteTime": {
     "end_time": "2019-11-02T17:17:07.232847Z",
     "start_time": "2019-11-02T17:17:06.733253Z"
    }
   },
   "outputs": [],
   "source": [
    "rpl22_oe_rmats = pd.read_csv(\"../data/processed/rmats_merge/rpl22_oe.txt\",sep=\"\\t\")\n",
    "rpl22l1_oe_rmats = pd.read_csv(\"../data/processed/rmats_merge/rpl22l1_oe.txt\",sep=\"\\t\")\n",
    "sh704_rmats = pd.read_csv(\"../data/processed/rmats_merge/sh704.txt\",sep=\"\\t\")\n",
    "sh705_rmats = pd.read_csv(\"../data/processed/rmats_merge/sh705.txt\",sep=\"\\t\")"
   ]
  },
  {
   "cell_type": "code",
   "execution_count": 27,
   "metadata": {
    "ExecuteTime": {
     "end_time": "2019-11-02T17:17:08.081513Z",
     "start_time": "2019-11-02T17:17:08.069410Z"
    }
   },
   "outputs": [],
   "source": [
    "def plot_psi_dist(exon_id, experiment_id, diff_results, ax=None, pal=None, xlabel=None, ylabel=None):\n",
    "\n",
    "    if ax is None:\n",
    "        ax = plt.subplot(111)\n",
    "\n",
    "    if pal is None:\n",
    "        pal = sns.color_palette([control_color, treatment_color])\n",
    "\n",
    "    if xlabel is None:\n",
    "        xlabel = experiment_id\n",
    "\n",
    "    if ylabel is None:\n",
    "        ylabel = \"mRNA expression, log2(TPM + 1)\"\n",
    "\n",
    "    select_abundance = diff_results.loc[exon_id]\n",
    "\n",
    "    controls = experiments[experiment_id][0]\n",
    "    treatments = experiments[experiment_id][1]\n",
    "\n",
    "    tpms = np.log2(select_abundance[controls+treatments].astype(np.float64)+1)\n",
    "\n",
    "    expression_df = pd.DataFrame(index=controls+treatments)\n",
    "\n",
    "    expression_df[\"tpm\"] = tpms\n",
    "    expression_df[\"treatment\"] = [\"control\"] * \\\n",
    "        len(controls)+[\"treatment\"]*len(treatments)\n",
    "\n",
    "    sns.swarmplot(x=\"treatment\",\n",
    "                  y=\"tpm\",\n",
    "                  data=expression_df,\n",
    "                  ax=ax,\n",
    "                  palette=pal,\n",
    "                  s=6,\n",
    "                  alpha=alpha,\n",
    "                  linewidth=1,\n",
    "                  edgecolor=\"black\",\n",
    "                  )\n",
    "    \n",
    "    means = expression_df.groupby(\"treatment\")[\"tpm\"].mean()\n",
    "    \n",
    "    ax.axhline(means[\"control\"], 0.15,0.35, linewidth=2, color=\"black\", zorder=100)\n",
    "    ax.axhline(means[\"treatment\"], 0.65,0.85, linewidth=2, color=\"black\", zorder=100)\n",
    "\n",
    "    ax.spines['top'].set_visible(False)\n",
    "    ax.spines['right'].set_visible(False)\n",
    "    ax.set_xticks([])\n",
    "    ax.set_xlabel(xlabel)\n",
    "    ax.set_ylabel(ylabel)\n",
    "\n",
    "    ax.spines['bottom'].set_position(('axes', -0.05))\n",
    "    ax.spines['left'].set_position(('axes', -0.05))\n",
    "    \n",
    "    plt.ylim(0)\n",
    "    \n",
    "    y_max = max(tpms)\n",
    "    \n",
    "    if not np.isnan(select_abundance[\"qval\"]):\n",
    "    \n",
    "        qval = as_si(select_abundance[\"qval\"],0)\n",
    "        ax.text(0.5, y_max*1.2, qval,ha=\"center\",fontsize=8)\n",
    "\n",
    "    return ax, y_max\n"
   ]
  }
 ],
 "metadata": {
  "kernelspec": {
   "display_name": "Python 3",
   "language": "python",
   "name": "python3"
  },
  "language_info": {
   "codemirror_mode": {
    "name": "ipython",
    "version": 3
   },
   "file_extension": ".py",
   "mimetype": "text/x-python",
   "name": "python",
   "nbconvert_exporter": "python",
   "pygments_lexer": "ipython3",
   "version": "3.7.4"
  },
  "toc": {
   "base_numbering": 1,
   "nav_menu": {},
   "number_sections": true,
   "sideBar": true,
   "skip_h1_title": false,
   "title_cell": "Table of Contents",
   "title_sidebar": "Contents",
   "toc_cell": false,
   "toc_position": {},
   "toc_section_display": true,
   "toc_window_display": true
  }
 },
 "nbformat": 4,
 "nbformat_minor": 2
}
