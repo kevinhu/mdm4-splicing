{
 "cells": [
  {
   "cell_type": "code",
   "execution_count": 265,
   "metadata": {
    "ExecuteTime": {
     "end_time": "2019-10-31T20:48:28.718464Z",
     "start_time": "2019-10-31T20:48:28.624397Z"
    }
   },
   "outputs": [],
   "source": [
    "import numpy as np\n",
    "import pandas as pd\n",
    "\n",
    "import seaborn as sns\n",
    "import matplotlib.pyplot as plt\n",
    "from matplotlib.lines import Line2D\n",
    "\n",
    "from statsmodels.stats.multitest import multipletests"
   ]
  },
  {
   "cell_type": "markdown",
   "metadata": {},
   "source": [
    "# Define experiments"
   ]
  },
  {
   "cell_type": "code",
   "execution_count": 126,
   "metadata": {
    "ExecuteTime": {
     "end_time": "2019-10-31T19:06:00.458988Z",
     "start_time": "2019-10-31T19:06:00.454098Z"
    }
   },
   "outputs": [],
   "source": [
    "experiments = {\"rpl22_oe\": [\n",
    "    ['LNCaP_GFP_1',\n",
    "     'LNCaP_GFP_2',\n",
    "     'LNCaP_GFP_3'],\n",
    "    ['LNCaP_RPL22_1',\n",
    "     'LNCaP_RPL22_2',\n",
    "     'LNCaP_RPL22_3']\n",
    "],\n",
    "    \"rpl22l1_oe\": [\n",
    "    ['CAL851_GFP_1',\n",
    "     'CAL851_GFP_2',\n",
    "     'CAL851_GFP_3'],\n",
    "    ['CAL851_RPL22L1_1',\n",
    "     'CAL851_RPL22L1_2',\n",
    "     'CAL851_RPL22L1_3']\n",
    "],\n",
    "    \"sh704\": [\n",
    "    ['LNCaP_shLuc_1',\n",
    "     'LNCaP_shLuc_2',\n",
    "     'LNCaP_shLuc_3'],\n",
    "    ['LNCaP_sh704_1',\n",
    "     'LNCaP_sh704_2',\n",
    "     'LNCaP_sh704_3']\n",
    "],\n",
    "    \"sh705\": [\n",
    "    ['LNCaP_shLuc_1',\n",
    "     'LNCaP_shLuc_2',\n",
    "     'LNCaP_shLuc_3'],\n",
    "    ['LNCaP_sh705_1',\n",
    "     'LNCaP_sh705_2',\n",
    "     'LNCaP_sh705_3']\n",
    "]\n",
    "}\n",
    "\n",
    "experiment_ids = [\"rpl22_oe\",\"rpl22l1_oe\",\"sh704\",\"sh705\"]"
   ]
  },
  {
   "cell_type": "markdown",
   "metadata": {},
   "source": [
    "# Load TPMS and sleuth results"
   ]
  },
  {
   "cell_type": "code",
   "execution_count": 74,
   "metadata": {
    "ExecuteTime": {
     "end_time": "2019-10-31T18:51:05.134094Z",
     "start_time": "2019-10-31T18:51:03.370449Z"
    }
   },
   "outputs": [],
   "source": [
    "named_tpms = pd.read_hdf(\"../data/processed/tpm_matrix_named.hdf\",key=\"named_tpms\")\n",
    "\n",
    "rpl22_oe_tpms = pd.read_hdf(\"../data/intermediate/kallisto_sleuth/RPL22_oe.hdf\", key=\"rpl22_oe\")\n",
    "rpl22l1_oe_tpms = pd.read_hdf(\"../data/intermediate/kallisto_sleuth/RPL22L1_oe.hdf\", key=\"rpl22l1_oe\")\n",
    "sh704_tpms = pd.read_hdf(\"../data/intermediate/kallisto_sleuth/sh704.hdf\", key=\"sh704\")\n",
    "sh705_tpms = pd.read_hdf(\"../data/intermediate/kallisto_sleuth/sh705.hdf\", key=\"sh705\")"
   ]
  },
  {
   "cell_type": "markdown",
   "metadata": {},
   "source": [
    "# Differential expression"
   ]
  },
  {
   "cell_type": "code",
   "execution_count": 166,
   "metadata": {
    "ExecuteTime": {
     "end_time": "2019-10-31T20:00:57.101146Z",
     "start_time": "2019-10-31T20:00:57.094629Z"
    }
   },
   "outputs": [],
   "source": [
    "def as_si(x, ndp):\n",
    "    \"\"\"\n",
    "    Convert a number to scientific notation\n",
    "\n",
    "    Parameters\n",
    "    ----------\n",
    "    x : float\n",
    "        number to convert\n",
    "    ndp: float\n",
    "        number of decimal places\n",
    "\n",
    "    Returns\n",
    "    -------\n",
    "    x_si : string\n",
    "        x formatted in scientific notation\n",
    "    \"\"\"\n",
    "\n",
    "    s = '{x:0.{ndp:d}e}'.format(x=x, ndp=ndp)\n",
    "    m, e = s.split('e')\n",
    "    x_si = r'{m:s} × $10^{{{e:d}}}$'.format(m=m, e=int(e))\n",
    "\n",
    "    return x_si"
   ]
  },
  {
   "cell_type": "code",
   "execution_count": 302,
   "metadata": {
    "ExecuteTime": {
     "end_time": "2019-11-01T19:47:26.717178Z",
     "start_time": "2019-11-01T19:47:26.695283Z"
    }
   },
   "outputs": [],
   "source": [
    "control_color = \"grey\"\n",
    "treatment_color = \"red\"\n",
    "alpha = 0.5\n",
    "\n",
    "\n",
    "def plot_tpm_dist(transcript_id, experiment_id, diff_results, ax=None, pal=None, xlabel=None, ylabel=None):\n",
    "\n",
    "    if ax is None:\n",
    "        ax = plt.subplot(111)\n",
    "\n",
    "    if pal is None:\n",
    "        pal = sns.color_palette([control_color, treatment_color])\n",
    "\n",
    "    if xlabel is None:\n",
    "        xlabel = experiment_id\n",
    "\n",
    "    if ylabel is None:\n",
    "        ylabel = \"mRNA expression, log2(TPM + 1)\"\n",
    "\n",
    "    select_abundance = diff_results.loc[transcript_id]\n",
    "\n",
    "    controls = experiments[experiment_id][0]\n",
    "    treatments = experiments[experiment_id][1]\n",
    "\n",
    "    tpms = np.log2(select_abundance[controls+treatments].astype(np.float64)+1)\n",
    "\n",
    "    expression_df = pd.DataFrame(index=controls+treatments)\n",
    "\n",
    "    expression_df[\"tpm\"] = tpms\n",
    "    expression_df[\"treatment\"] = [\"control\"] * \\\n",
    "        len(controls)+[\"treatment\"]*len(treatments)\n",
    "\n",
    "    sns.swarmplot(x=\"treatment\",\n",
    "                  y=\"tpm\",\n",
    "                  data=expression_df,\n",
    "                  ax=ax,\n",
    "                  palette=pal,\n",
    "                  s=6,\n",
    "                  alpha=alpha,\n",
    "                  edgecolor=\"black\",\n",
    "                  )\n",
    "\n",
    "    sns.barplot(x=\"treatment\",\n",
    "                y=\"tpm\",\n",
    "                data=expression_df,\n",
    "                ax=ax,\n",
    "                palette=pal,\n",
    "                alpha=alpha/2,\n",
    "                linewidth=1,\n",
    "                ci=None\n",
    "                )\n",
    "\n",
    "    means = expression_df.groupby(\"treatment\")[\"tpm\"].mean()\n",
    "\n",
    "    ax.axhline(means[\"control\"], 0.1, 0.4,\n",
    "               linewidth=2, color=\"black\", zorder=100)\n",
    "    ax.axhline(means[\"treatment\"], 0.6, 0.9,\n",
    "               linewidth=2, color=\"black\", zorder=100)\n",
    "\n",
    "    ax.spines['top'].set_visible(False)\n",
    "    ax.spines['right'].set_visible(False)\n",
    "    ax.set_xticks([])\n",
    "    ax.set_xlabel(xlabel)\n",
    "    ax.set_ylabel(ylabel)\n",
    "\n",
    "    ax.spines['bottom'].set_position(('axes', -0.05))\n",
    "    ax.spines['left'].set_position(('axes', -0.05))\n",
    "\n",
    "    plt.ylim(0)\n",
    "\n",
    "    y_max = max(tpms)\n",
    "\n",
    "    if not np.isnan(select_abundance[\"qval\"]):\n",
    "\n",
    "        qval = as_si(select_abundance[\"qval\"], 0)\n",
    "        ax.text(0.5, y_max*1.2, qval, ha=\"center\", fontsize=8)\n",
    "\n",
    "    return ax, y_max\n",
    "\n",
    "\n",
    "def plot_tpm_dist_all(transcript_id):\n",
    "\n",
    "    f, axes = plt.subplots(1, 4, sharey=True, figsize=(4, 3))\n",
    "\n",
    "    maxes = []\n",
    "\n",
    "    ax = axes[0]\n",
    "    ax, y_max = plot_tpm_dist(transcript_id, \"rpl22_oe\", rpl22_oe_tpms, ax=ax)\n",
    "    maxes.append(y_max)\n",
    "    ax.set_xlabel(\"RPL22++\")\n",
    "\n",
    "    ax = axes[1]\n",
    "    ax, y_max = plot_tpm_dist(\n",
    "        transcript_id, \"rpl22l1_oe\", rpl22l1_oe_tpms, ax=ax, ylabel=\"\")\n",
    "    maxes.append(y_max)\n",
    "    ax.spines[\"left\"].set_visible(False)\n",
    "    ax.tick_params(axis='y', which='both', right=False,\n",
    "                   left=False, labelleft=False)\n",
    "    ax.set_xlabel(\"RPL22L1++\")\n",
    "\n",
    "    ax = axes[2]\n",
    "    ax, y_max = plot_tpm_dist(transcript_id, \"sh704\",\n",
    "                              sh704_tpms, ax=ax, ylabel=\"\")\n",
    "    maxes.append(y_max)\n",
    "    ax.spines[\"left\"].set_visible(False)\n",
    "    ax.tick_params(axis='y', which='both', right=False,\n",
    "                   left=False, labelleft=False)\n",
    "\n",
    "    ax = axes[3]\n",
    "    ax, y_max = plot_tpm_dist(transcript_id, \"sh705\",\n",
    "                              sh705_tpms, ax=ax, ylabel=\"\")\n",
    "    maxes.append(y_max)\n",
    "    ax.spines[\"left\"].set_visible(False)\n",
    "    ax.tick_params(axis='y', which='both', right=False,\n",
    "                   left=False, labelleft=False)\n",
    "\n",
    "    plt.ylim(-0.1, max(maxes)*1.25)\n",
    "\n",
    "    plt.subplots_adjust(wspace=0.4)\n",
    "\n",
    "    legend_elements = [Line2D([0], [0], marker='o', color=\"white\", label='Control',\n",
    "                              markerfacecolor=control_color, markersize=8, alpha=alpha),\n",
    "                       Line2D([0], [0], marker='o', color=\"white\", label='Treatment',\n",
    "                              markerfacecolor=treatment_color, markersize=8, alpha=alpha)]\n",
    "\n",
    "    plt.legend(handles=legend_elements,\n",
    "               loc='upper left', bbox_to_anchor=(1, 1))"
   ]
  },
  {
   "cell_type": "code",
   "execution_count": 303,
   "metadata": {
    "ExecuteTime": {
     "end_time": "2019-11-01T19:47:28.671304Z",
     "start_time": "2019-11-01T19:47:28.262178Z"
    }
   },
   "outputs": [
    {
     "data": {
      "image/png": "[encoded data removed]",
      "text/plain": [
       "<Figure size 288x216 with 4 Axes>"
      ]
     },
     "metadata": {
      "needs_background": "light"
     },
     "output_type": "display_data"
    }
   ],
   "source": [
    "plot_tpm_dist_all(\"ENST00000463836.1\")"
   ]
  },
  {
   "cell_type": "markdown",
   "metadata": {},
   "source": [
    "# Differential splicing"
   ]
  },
  {
   "cell_type": "code",
   "execution_count": 251,
   "metadata": {
    "ExecuteTime": {
     "end_time": "2019-10-31T20:46:02.813115Z",
     "start_time": "2019-10-31T20:45:59.923957Z"
    }
   },
   "outputs": [],
   "source": [
    "rpl22_oe_exons = pd.read_hdf(\"../data/processed/exon_psi_diffs/RPL22_oe.hdf\", key=\"rpl22_oe\")\n",
    "rpl22l1_oe_exons = pd.read_hdf(\"../data/processed/exon_psi_diffs/RPL22L1_oe.hdf\", key=\"rpl22l1_oe\")\n",
    "sh704_exons = pd.read_hdf(\"../data/processed/exon_psi_diffs/sh704.hdf\", key=\"sh704\")\n",
    "sh705_exons = pd.read_hdf(\"../data/processed/exon_psi_diffs/sh705.hdf\", key=\"sh705\")"
   ]
  },
  {
   "cell_type": "code",
   "execution_count": 268,
   "metadata": {
    "ExecuteTime": {
     "end_time": "2019-10-31T20:49:09.042353Z",
     "start_time": "2019-10-31T20:49:09.030375Z"
    }
   },
   "outputs": [],
   "source": [
    "def plot_psi_dist(exon_id, experiment_id, diff_results, ax=None, pal=None, xlabel=None, ylabel=None):\n",
    "\n",
    "    if ax is None:\n",
    "        ax = plt.subplot(111)\n",
    "\n",
    "    if pal is None:\n",
    "        pal = sns.color_palette([control_color, treatment_color])\n",
    "\n",
    "    if xlabel is None:\n",
    "        xlabel = experiment_id\n",
    "\n",
    "    if ylabel is None:\n",
    "        ylabel = \"mRNA expression, log2(TPM + 1)\"\n",
    "\n",
    "    select_abundance = diff_results.loc[exon_id]\n",
    "\n",
    "    controls = experiments[experiment_id][0]\n",
    "    treatments = experiments[experiment_id][1]\n",
    "\n",
    "    tpms = np.log2(select_abundance[controls+treatments].astype(np.float64)+1)\n",
    "\n",
    "    expression_df = pd.DataFrame(index=controls+treatments)\n",
    "\n",
    "    expression_df[\"tpm\"] = tpms\n",
    "    expression_df[\"treatment\"] = [\"control\"] * \\\n",
    "        len(controls)+[\"treatment\"]*len(treatments)\n",
    "\n",
    "    sns.swarmplot(x=\"treatment\",\n",
    "                  y=\"tpm\",\n",
    "                  data=expression_df,\n",
    "                  ax=ax,\n",
    "                  palette=pal,\n",
    "                  s=6,\n",
    "                  alpha=alpha,\n",
    "                  linewidth=1,\n",
    "                  edgecolor=\"black\",\n",
    "                  )\n",
    "    \n",
    "    means = expression_df.groupby(\"treatment\")[\"tpm\"].mean()\n",
    "    \n",
    "    ax.axhline(means[\"control\"], 0.15,0.35, linewidth=2, color=\"black\", zorder=100)\n",
    "    ax.axhline(means[\"treatment\"], 0.65,0.85, linewidth=2, color=\"black\", zorder=100)\n",
    "\n",
    "    ax.spines['top'].set_visible(False)\n",
    "    ax.spines['right'].set_visible(False)\n",
    "    ax.set_xticks([])\n",
    "    ax.set_xlabel(xlabel)\n",
    "    ax.set_ylabel(ylabel)\n",
    "\n",
    "    ax.spines['bottom'].set_position(('axes', -0.05))\n",
    "    ax.spines['left'].set_position(('axes', -0.05))\n",
    "    \n",
    "    plt.ylim(0)\n",
    "    \n",
    "    y_max = max(tpms)\n",
    "    \n",
    "    if not np.isnan(select_abundance[\"qval\"]):\n",
    "    \n",
    "        qval = as_si(select_abundance[\"qval\"],0)\n",
    "        ax.text(0.5, y_max*1.2, qval,ha=\"center\",fontsize=8)\n",
    "\n",
    "    return ax, y_max\n"
   ]
  },
  {
   "cell_type": "code",
   "execution_count": 272,
   "metadata": {
    "ExecuteTime": {
     "end_time": "2019-10-31T20:49:23.281470Z",
     "start_time": "2019-10-31T20:49:23.262771Z"
    }
   },
   "outputs": [],
   "source": [
    "rpl22_oe_exons[\"qval\"] = multipletests(rpl22_oe_exons[\"pval\"], alpha=0.01, method=\"fdr_bh\")[1]"
   ]
  },
  {
   "cell_type": "code",
   "execution_count": 281,
   "metadata": {
    "ExecuteTime": {
     "end_time": "2019-10-31T21:00:16.983621Z",
     "start_time": "2019-10-31T21:00:16.737968Z"
    }
   },
   "outputs": [
    {
     "ename": "KeyError",
     "evalue": "'qval'",
     "output_type": "error",
     "traceback": [
      "\u001b[0;31m---------------------------------------------------------------------------\u001b[0m",
      "\u001b[0;31mTypeError\u001b[0m                                 Traceback (most recent call last)",
      "\u001b[0;32m~/anaconda3/envs/cenv/lib/python3.7/site-packages/pandas/core/indexes/base.py\u001b[0m in \u001b[0;36mget_value\u001b[0;34m(self, series, key)\u001b[0m\n\u001b[1;32m   4728\u001b[0m             \u001b[0;32mtry\u001b[0m\u001b[0;34m:\u001b[0m\u001b[0;34m\u001b[0m\u001b[0;34m\u001b[0m\u001b[0m\n\u001b[0;32m-> 4729\u001b[0;31m                 \u001b[0;32mreturn\u001b[0m \u001b[0mlibindex\u001b[0m\u001b[0;34m.\u001b[0m\u001b[0mget_value_box\u001b[0m\u001b[0;34m(\u001b[0m\u001b[0ms\u001b[0m\u001b[0;34m,\u001b[0m \u001b[0mkey\u001b[0m\u001b[0;34m)\u001b[0m\u001b[0;34m\u001b[0m\u001b[0;34m\u001b[0m\u001b[0m\n\u001b[0m\u001b[1;32m   4730\u001b[0m             \u001b[0;32mexcept\u001b[0m \u001b[0mIndexError\u001b[0m\u001b[0;34m:\u001b[0m\u001b[0;34m\u001b[0m\u001b[0;34m\u001b[0m\u001b[0m\n",
      "\u001b[0;32mpandas/_libs/index.pyx\u001b[0m in \u001b[0;36mpandas._libs.index.get_value_box\u001b[0;34m()\u001b[0m\n",
      "\u001b[0;32mpandas/_libs/index.pyx\u001b[0m in \u001b[0;36mpandas._libs.index.get_value_at\u001b[0;34m()\u001b[0m\n",
      "\u001b[0;32mpandas/_libs/util.pxd\u001b[0m in \u001b[0;36mpandas._libs.util.get_value_at\u001b[0;34m()\u001b[0m\n",
      "\u001b[0;32mpandas/_libs/util.pxd\u001b[0m in \u001b[0;36mpandas._libs.util.validate_indexer\u001b[0;34m()\u001b[0m\n",
      "\u001b[0;31mTypeError\u001b[0m: 'str' object cannot be interpreted as an integer",
      "\nDuring handling of the above exception, another exception occurred:\n",
      "\u001b[0;31mKeyError\u001b[0m                                  Traceback (most recent call last)",
      "\u001b[0;32m<ipython-input-281-26a11df5958c>\u001b[0m in \u001b[0;36m<module>\u001b[0;34m\u001b[0m\n\u001b[0;32m----> 1\u001b[0;31m \u001b[0mplot_psi_dist\u001b[0m\u001b[0;34m(\u001b[0m\u001b[0;34m\"ENSG00000198625;SE:1:204532246-204537459:204537497-204538209:+\"\u001b[0m\u001b[0;34m,\u001b[0m\u001b[0;34m\"sh705\"\u001b[0m\u001b[0;34m,\u001b[0m\u001b[0msh705_exons\u001b[0m\u001b[0;34m)\u001b[0m\u001b[0;34m\u001b[0m\u001b[0;34m\u001b[0m\u001b[0m\n\u001b[0m",
      "\u001b[0;32m<ipython-input-268-d269e89499fe>\u001b[0m in \u001b[0;36mplot_psi_dist\u001b[0;34m(exon_id, experiment_id, diff_results, ax, pal, xlabel, ylabel)\u001b[0m\n\u001b[1;32m     55\u001b[0m     \u001b[0my_max\u001b[0m \u001b[0;34m=\u001b[0m \u001b[0mmax\u001b[0m\u001b[0;34m(\u001b[0m\u001b[0mtpms\u001b[0m\u001b[0;34m)\u001b[0m\u001b[0;34m\u001b[0m\u001b[0;34m\u001b[0m\u001b[0m\n\u001b[1;32m     56\u001b[0m \u001b[0;34m\u001b[0m\u001b[0m\n\u001b[0;32m---> 57\u001b[0;31m     \u001b[0;32mif\u001b[0m \u001b[0;32mnot\u001b[0m \u001b[0mnp\u001b[0m\u001b[0;34m.\u001b[0m\u001b[0misnan\u001b[0m\u001b[0;34m(\u001b[0m\u001b[0mselect_abundance\u001b[0m\u001b[0;34m[\u001b[0m\u001b[0;34m\"qval\"\u001b[0m\u001b[0;34m]\u001b[0m\u001b[0;34m)\u001b[0m\u001b[0;34m:\u001b[0m\u001b[0;34m\u001b[0m\u001b[0;34m\u001b[0m\u001b[0m\n\u001b[0m\u001b[1;32m     58\u001b[0m \u001b[0;34m\u001b[0m\u001b[0m\n\u001b[1;32m     59\u001b[0m         \u001b[0mqval\u001b[0m \u001b[0;34m=\u001b[0m \u001b[0mas_si\u001b[0m\u001b[0;34m(\u001b[0m\u001b[0mselect_abundance\u001b[0m\u001b[0;34m[\u001b[0m\u001b[0;34m\"qval\"\u001b[0m\u001b[0;34m]\u001b[0m\u001b[0;34m,\u001b[0m\u001b[0;36m0\u001b[0m\u001b[0;34m)\u001b[0m\u001b[0;34m\u001b[0m\u001b[0;34m\u001b[0m\u001b[0m\n",
      "\u001b[0;32m~/anaconda3/envs/cenv/lib/python3.7/site-packages/pandas/core/series.py\u001b[0m in \u001b[0;36m__getitem__\u001b[0;34m(self, key)\u001b[0m\n\u001b[1;32m   1062\u001b[0m         \u001b[0mkey\u001b[0m \u001b[0;34m=\u001b[0m \u001b[0mcom\u001b[0m\u001b[0;34m.\u001b[0m\u001b[0mapply_if_callable\u001b[0m\u001b[0;34m(\u001b[0m\u001b[0mkey\u001b[0m\u001b[0;34m,\u001b[0m \u001b[0mself\u001b[0m\u001b[0;34m)\u001b[0m\u001b[0;34m\u001b[0m\u001b[0;34m\u001b[0m\u001b[0m\n\u001b[1;32m   1063\u001b[0m         \u001b[0;32mtry\u001b[0m\u001b[0;34m:\u001b[0m\u001b[0;34m\u001b[0m\u001b[0;34m\u001b[0m\u001b[0m\n\u001b[0;32m-> 1064\u001b[0;31m             \u001b[0mresult\u001b[0m \u001b[0;34m=\u001b[0m \u001b[0mself\u001b[0m\u001b[0;34m.\u001b[0m\u001b[0mindex\u001b[0m\u001b[0;34m.\u001b[0m\u001b[0mget_value\u001b[0m\u001b[0;34m(\u001b[0m\u001b[0mself\u001b[0m\u001b[0;34m,\u001b[0m \u001b[0mkey\u001b[0m\u001b[0;34m)\u001b[0m\u001b[0;34m\u001b[0m\u001b[0;34m\u001b[0m\u001b[0m\n\u001b[0m\u001b[1;32m   1065\u001b[0m \u001b[0;34m\u001b[0m\u001b[0m\n\u001b[1;32m   1066\u001b[0m             \u001b[0;32mif\u001b[0m \u001b[0;32mnot\u001b[0m \u001b[0mis_scalar\u001b[0m\u001b[0;34m(\u001b[0m\u001b[0mresult\u001b[0m\u001b[0;34m)\u001b[0m\u001b[0;34m:\u001b[0m\u001b[0;34m\u001b[0m\u001b[0;34m\u001b[0m\u001b[0m\n",
      "\u001b[0;32m~/anaconda3/envs/cenv/lib/python3.7/site-packages/pandas/core/indexes/base.py\u001b[0m in \u001b[0;36mget_value\u001b[0;34m(self, series, key)\u001b[0m\n\u001b[1;32m   4735\u001b[0m                     \u001b[0;32mraise\u001b[0m \u001b[0mInvalidIndexError\u001b[0m\u001b[0;34m(\u001b[0m\u001b[0mkey\u001b[0m\u001b[0;34m)\u001b[0m\u001b[0;34m\u001b[0m\u001b[0;34m\u001b[0m\u001b[0m\n\u001b[1;32m   4736\u001b[0m                 \u001b[0;32melse\u001b[0m\u001b[0;34m:\u001b[0m\u001b[0;34m\u001b[0m\u001b[0;34m\u001b[0m\u001b[0m\n\u001b[0;32m-> 4737\u001b[0;31m                     \u001b[0;32mraise\u001b[0m \u001b[0me1\u001b[0m\u001b[0;34m\u001b[0m\u001b[0;34m\u001b[0m\u001b[0m\n\u001b[0m\u001b[1;32m   4738\u001b[0m             \u001b[0;32mexcept\u001b[0m \u001b[0mException\u001b[0m\u001b[0;34m:\u001b[0m  \u001b[0;31m# pragma: no cover\u001b[0m\u001b[0;34m\u001b[0m\u001b[0;34m\u001b[0m\u001b[0m\n\u001b[1;32m   4739\u001b[0m                 \u001b[0;32mraise\u001b[0m \u001b[0me1\u001b[0m\u001b[0;34m\u001b[0m\u001b[0;34m\u001b[0m\u001b[0m\n",
      "\u001b[0;32m~/anaconda3/envs/cenv/lib/python3.7/site-packages/pandas/core/indexes/base.py\u001b[0m in \u001b[0;36mget_value\u001b[0;34m(self, series, key)\u001b[0m\n\u001b[1;32m   4721\u001b[0m         \u001b[0mk\u001b[0m \u001b[0;34m=\u001b[0m \u001b[0mself\u001b[0m\u001b[0;34m.\u001b[0m\u001b[0m_convert_scalar_indexer\u001b[0m\u001b[0;34m(\u001b[0m\u001b[0mk\u001b[0m\u001b[0;34m,\u001b[0m \u001b[0mkind\u001b[0m\u001b[0;34m=\u001b[0m\u001b[0;34m\"getitem\"\u001b[0m\u001b[0;34m)\u001b[0m\u001b[0;34m\u001b[0m\u001b[0;34m\u001b[0m\u001b[0m\n\u001b[1;32m   4722\u001b[0m         \u001b[0;32mtry\u001b[0m\u001b[0;34m:\u001b[0m\u001b[0;34m\u001b[0m\u001b[0;34m\u001b[0m\u001b[0m\n\u001b[0;32m-> 4723\u001b[0;31m             \u001b[0;32mreturn\u001b[0m \u001b[0mself\u001b[0m\u001b[0;34m.\u001b[0m\u001b[0m_engine\u001b[0m\u001b[0;34m.\u001b[0m\u001b[0mget_value\u001b[0m\u001b[0;34m(\u001b[0m\u001b[0ms\u001b[0m\u001b[0;34m,\u001b[0m \u001b[0mk\u001b[0m\u001b[0;34m,\u001b[0m \u001b[0mtz\u001b[0m\u001b[0;34m=\u001b[0m\u001b[0mgetattr\u001b[0m\u001b[0;34m(\u001b[0m\u001b[0mseries\u001b[0m\u001b[0;34m.\u001b[0m\u001b[0mdtype\u001b[0m\u001b[0;34m,\u001b[0m \u001b[0;34m\"tz\"\u001b[0m\u001b[0;34m,\u001b[0m \u001b[0;32mNone\u001b[0m\u001b[0;34m)\u001b[0m\u001b[0;34m)\u001b[0m\u001b[0;34m\u001b[0m\u001b[0;34m\u001b[0m\u001b[0m\n\u001b[0m\u001b[1;32m   4724\u001b[0m         \u001b[0;32mexcept\u001b[0m \u001b[0mKeyError\u001b[0m \u001b[0;32mas\u001b[0m \u001b[0me1\u001b[0m\u001b[0;34m:\u001b[0m\u001b[0;34m\u001b[0m\u001b[0;34m\u001b[0m\u001b[0m\n\u001b[1;32m   4725\u001b[0m             \u001b[0;32mif\u001b[0m \u001b[0mlen\u001b[0m\u001b[0;34m(\u001b[0m\u001b[0mself\u001b[0m\u001b[0;34m)\u001b[0m \u001b[0;34m>\u001b[0m \u001b[0;36m0\u001b[0m \u001b[0;32mand\u001b[0m \u001b[0;34m(\u001b[0m\u001b[0mself\u001b[0m\u001b[0;34m.\u001b[0m\u001b[0mholds_integer\u001b[0m\u001b[0;34m(\u001b[0m\u001b[0;34m)\u001b[0m \u001b[0;32mor\u001b[0m \u001b[0mself\u001b[0m\u001b[0;34m.\u001b[0m\u001b[0mis_boolean\u001b[0m\u001b[0;34m(\u001b[0m\u001b[0;34m)\u001b[0m\u001b[0;34m)\u001b[0m\u001b[0;34m:\u001b[0m\u001b[0;34m\u001b[0m\u001b[0;34m\u001b[0m\u001b[0m\n",
      "\u001b[0;32mpandas/_libs/index.pyx\u001b[0m in \u001b[0;36mpandas._libs.index.IndexEngine.get_value\u001b[0;34m()\u001b[0m\n",
      "\u001b[0;32mpandas/_libs/index.pyx\u001b[0m in \u001b[0;36mpandas._libs.index.IndexEngine.get_value\u001b[0;34m()\u001b[0m\n",
      "\u001b[0;32mpandas/_libs/index.pyx\u001b[0m in \u001b[0;36mpandas._libs.index.IndexEngine.get_loc\u001b[0;34m()\u001b[0m\n",
      "\u001b[0;32mpandas/_libs/hashtable_class_helper.pxi\u001b[0m in \u001b[0;36mpandas._libs.hashtable.PyObjectHashTable.get_item\u001b[0;34m()\u001b[0m\n",
      "\u001b[0;32mpandas/_libs/hashtable_class_helper.pxi\u001b[0m in \u001b[0;36mpandas._libs.hashtable.PyObjectHashTable.get_item\u001b[0;34m()\u001b[0m\n",
      "\u001b[0;31mKeyError\u001b[0m: 'qval'"
     ]
    },
    {
     "data": {
      "image/png": "[encoded data removed]",
      "text/plain": [
       "<Figure size 432x288 with 1 Axes>"
      ]
     },
     "metadata": {
      "needs_background": "light"
     },
     "output_type": "display_data"
    }
   ],
   "source": [
    "plot_psi_dist(\"ENSG00000198625;SE:1:204532246-204537459:204537497-204538209:+\",\"sh705\",sh705_exons)"
   ]
  },
  {
   "cell_type": "code",
   "execution_count": null,
   "metadata": {},
   "outputs": [],
   "source": [
    "rpl22_oe_exons[\"qval\"] = rpl22_oe_exons[\"pval\"]"
   ]
  },
  {
   "cell_type": "code",
   "execution_count": 287,
   "metadata": {
    "ExecuteTime": {
     "end_time": "2019-10-31T21:24:13.499362Z",
     "start_time": "2019-10-31T21:24:13.417345Z"
    }
   },
   "outputs": [
    {
     "data": {
      "text/html": [
       "<div>\n",
       "<style scoped>\n",
       "    .dataframe tbody tr th:only-of-type {\n",
       "        vertical-align: middle;\n",
       "    }\n",
       "\n",
       "    .dataframe tbody tr th {\n",
       "        vertical-align: top;\n",
       "    }\n",
       "\n",
       "    .dataframe thead th {\n",
       "        text-align: right;\n",
       "    }\n",
       "</style>\n",
       "<table border=\"1\" class=\"dataframe\">\n",
       "  <thead>\n",
       "    <tr style=\"text-align: right;\">\n",
       "      <th></th>\n",
       "      <th>difference</th>\n",
       "      <th>pval</th>\n",
       "      <th>type</th>\n",
       "      <th>LNCaP_GFP_1</th>\n",
       "      <th>LNCaP_GFP_2</th>\n",
       "      <th>LNCaP_GFP_3</th>\n",
       "      <th>LNCaP_RPL22_1</th>\n",
       "      <th>LNCaP_RPL22_2</th>\n",
       "      <th>LNCaP_RPL22_3</th>\n",
       "      <th>gene_names</th>\n",
       "      <th>qval</th>\n",
       "    </tr>\n",
       "    <tr>\n",
       "      <th>Event_id</th>\n",
       "      <th></th>\n",
       "      <th></th>\n",
       "      <th></th>\n",
       "      <th></th>\n",
       "      <th></th>\n",
       "      <th></th>\n",
       "      <th></th>\n",
       "      <th></th>\n",
       "      <th></th>\n",
       "      <th></th>\n",
       "      <th></th>\n",
       "    </tr>\n",
       "  </thead>\n",
       "  <tbody>\n",
       "    <tr>\n",
       "      <th>ENSG00000198625;A3:1:204532246-204537430:204532246-204537459:+</th>\n",
       "      <td>-0.169158</td>\n",
       "      <td>0.070929</td>\n",
       "      <td>A3</td>\n",
       "      <td>0.717680</td>\n",
       "      <td>0.822244</td>\n",
       "      <td>0.754712</td>\n",
       "      <td>0.506379</td>\n",
       "      <td>0.607380</td>\n",
       "      <td>0.673405</td>\n",
       "      <td>MDM4</td>\n",
       "      <td>0.79777</td>\n",
       "    </tr>\n",
       "    <tr>\n",
       "      <th>ENSG00000198625;AL:1:204538308-204542784:204542931:204538308-204546797:204546834:+</th>\n",
       "      <td>-0.135927</td>\n",
       "      <td>0.204795</td>\n",
       "      <td>AL</td>\n",
       "      <td>1.000000</td>\n",
       "      <td>1.000000</td>\n",
       "      <td>1.000000</td>\n",
       "      <td>1.000000</td>\n",
       "      <td>0.592219</td>\n",
       "      <td>1.000000</td>\n",
       "      <td>MDM4</td>\n",
       "      <td>0.79777</td>\n",
       "    </tr>\n",
       "    <tr>\n",
       "      <th>ENSG00000198625;MX:1:204525596-204526360:204526434-204538209:204525596-204537459:204537497-204538209:+</th>\n",
       "      <td>NaN</td>\n",
       "      <td>1.000000</td>\n",
       "      <td>MX</td>\n",
       "      <td>0.000000</td>\n",
       "      <td>0.000000</td>\n",
       "      <td>NaN</td>\n",
       "      <td>0.000000</td>\n",
       "      <td>NaN</td>\n",
       "      <td>NaN</td>\n",
       "      <td>MDM4</td>\n",
       "      <td>1.00000</td>\n",
       "    </tr>\n",
       "    <tr>\n",
       "      <th>ENSG00000198625;SE:1:204532246-204537430:204537497-204538209:+</th>\n",
       "      <td>-0.491305</td>\n",
       "      <td>0.004995</td>\n",
       "      <td>SE</td>\n",
       "      <td>1.000000</td>\n",
       "      <td>1.000000</td>\n",
       "      <td>1.000000</td>\n",
       "      <td>0.303315</td>\n",
       "      <td>0.506652</td>\n",
       "      <td>0.716118</td>\n",
       "      <td>MDM4</td>\n",
       "      <td>0.79777</td>\n",
       "    </tr>\n",
       "    <tr>\n",
       "      <th>ENSG00000198625;SE:1:204532246-204537459:204537497-204538209:+</th>\n",
       "      <td>-0.584274</td>\n",
       "      <td>0.015485</td>\n",
       "      <td>SE</td>\n",
       "      <td>1.000000</td>\n",
       "      <td>1.000000</td>\n",
       "      <td>1.000000</td>\n",
       "      <td>0.297950</td>\n",
       "      <td>0.398984</td>\n",
       "      <td>0.550245</td>\n",
       "      <td>MDM4</td>\n",
       "      <td>0.79777</td>\n",
       "    </tr>\n",
       "    <tr>\n",
       "      <th>ENSG00000198625;SE:1:204532246-204538209:204538308-204546797:+</th>\n",
       "      <td>NaN</td>\n",
       "      <td>1.000000</td>\n",
       "      <td>SE</td>\n",
       "      <td>NaN</td>\n",
       "      <td>NaN</td>\n",
       "      <td>NaN</td>\n",
       "      <td>NaN</td>\n",
       "      <td>1.000000</td>\n",
       "      <td>NaN</td>\n",
       "      <td>MDM4</td>\n",
       "      <td>1.00000</td>\n",
       "    </tr>\n",
       "    <tr>\n",
       "      <th>ENSG00000198625;SE:1:204538308-204542784:204542944-204546797:+</th>\n",
       "      <td>NaN</td>\n",
       "      <td>1.000000</td>\n",
       "      <td>SE</td>\n",
       "      <td>1.000000</td>\n",
       "      <td>NaN</td>\n",
       "      <td>NaN</td>\n",
       "      <td>1.000000</td>\n",
       "      <td>0.000000</td>\n",
       "      <td>NaN</td>\n",
       "      <td>MDM4</td>\n",
       "      <td>1.00000</td>\n",
       "    </tr>\n",
       "    <tr>\n",
       "      <th>ENSG00000198625;SE:1:204542944-204544535:204544684-204546797:+</th>\n",
       "      <td>-0.010293</td>\n",
       "      <td>0.330170</td>\n",
       "      <td>SE</td>\n",
       "      <td>0.791074</td>\n",
       "      <td>1.000000</td>\n",
       "      <td>0.910475</td>\n",
       "      <td>0.782167</td>\n",
       "      <td>0.905547</td>\n",
       "      <td>0.982955</td>\n",
       "      <td>MDM4</td>\n",
       "      <td>0.79777</td>\n",
       "    </tr>\n",
       "  </tbody>\n",
       "</table>\n",
       "</div>"
      ],
      "text/plain": [
       "                                                    difference      pval type  \\\n",
       "Event_id                                                                        \n",
       "ENSG00000198625;A3:1:204532246-204537430:204532...   -0.169158  0.070929   A3   \n",
       "ENSG00000198625;AL:1:204538308-204542784:204542...   -0.135927  0.204795   AL   \n",
       "ENSG00000198625;MX:1:204525596-204526360:204526...         NaN  1.000000   MX   \n",
       "ENSG00000198625;SE:1:204532246-204537430:204537...   -0.491305  0.004995   SE   \n",
       "ENSG00000198625;SE:1:204532246-204537459:204537...   -0.584274  0.015485   SE   \n",
       "ENSG00000198625;SE:1:204532246-204538209:204538...         NaN  1.000000   SE   \n",
       "ENSG00000198625;SE:1:204538308-204542784:204542...         NaN  1.000000   SE   \n",
       "ENSG00000198625;SE:1:204542944-204544535:204544...   -0.010293  0.330170   SE   \n",
       "\n",
       "                                                    LNCaP_GFP_1  LNCaP_GFP_2  \\\n",
       "Event_id                                                                       \n",
       "ENSG00000198625;A3:1:204532246-204537430:204532...     0.717680     0.822244   \n",
       "ENSG00000198625;AL:1:204538308-204542784:204542...     1.000000     1.000000   \n",
       "ENSG00000198625;MX:1:204525596-204526360:204526...     0.000000     0.000000   \n",
       "ENSG00000198625;SE:1:204532246-204537430:204537...     1.000000     1.000000   \n",
       "ENSG00000198625;SE:1:204532246-204537459:204537...     1.000000     1.000000   \n",
       "ENSG00000198625;SE:1:204532246-204538209:204538...          NaN          NaN   \n",
       "ENSG00000198625;SE:1:204538308-204542784:204542...     1.000000          NaN   \n",
       "ENSG00000198625;SE:1:204542944-204544535:204544...     0.791074     1.000000   \n",
       "\n",
       "                                                    LNCaP_GFP_3  \\\n",
       "Event_id                                                          \n",
       "ENSG00000198625;A3:1:204532246-204537430:204532...     0.754712   \n",
       "ENSG00000198625;AL:1:204538308-204542784:204542...     1.000000   \n",
       "ENSG00000198625;MX:1:204525596-204526360:204526...          NaN   \n",
       "ENSG00000198625;SE:1:204532246-204537430:204537...     1.000000   \n",
       "ENSG00000198625;SE:1:204532246-204537459:204537...     1.000000   \n",
       "ENSG00000198625;SE:1:204532246-204538209:204538...          NaN   \n",
       "ENSG00000198625;SE:1:204538308-204542784:204542...          NaN   \n",
       "ENSG00000198625;SE:1:204542944-204544535:204544...     0.910475   \n",
       "\n",
       "                                                    LNCaP_RPL22_1  \\\n",
       "Event_id                                                            \n",
       "ENSG00000198625;A3:1:204532246-204537430:204532...       0.506379   \n",
       "ENSG00000198625;AL:1:204538308-204542784:204542...       1.000000   \n",
       "ENSG00000198625;MX:1:204525596-204526360:204526...       0.000000   \n",
       "ENSG00000198625;SE:1:204532246-204537430:204537...       0.303315   \n",
       "ENSG00000198625;SE:1:204532246-204537459:204537...       0.297950   \n",
       "ENSG00000198625;SE:1:204532246-204538209:204538...            NaN   \n",
       "ENSG00000198625;SE:1:204538308-204542784:204542...       1.000000   \n",
       "ENSG00000198625;SE:1:204542944-204544535:204544...       0.782167   \n",
       "\n",
       "                                                    LNCaP_RPL22_2  \\\n",
       "Event_id                                                            \n",
       "ENSG00000198625;A3:1:204532246-204537430:204532...       0.607380   \n",
       "ENSG00000198625;AL:1:204538308-204542784:204542...       0.592219   \n",
       "ENSG00000198625;MX:1:204525596-204526360:204526...            NaN   \n",
       "ENSG00000198625;SE:1:204532246-204537430:204537...       0.506652   \n",
       "ENSG00000198625;SE:1:204532246-204537459:204537...       0.398984   \n",
       "ENSG00000198625;SE:1:204532246-204538209:204538...       1.000000   \n",
       "ENSG00000198625;SE:1:204538308-204542784:204542...       0.000000   \n",
       "ENSG00000198625;SE:1:204542944-204544535:204544...       0.905547   \n",
       "\n",
       "                                                    LNCaP_RPL22_3 gene_names  \\\n",
       "Event_id                                                                       \n",
       "ENSG00000198625;A3:1:204532246-204537430:204532...       0.673405       MDM4   \n",
       "ENSG00000198625;AL:1:204538308-204542784:204542...       1.000000       MDM4   \n",
       "ENSG00000198625;MX:1:204525596-204526360:204526...            NaN       MDM4   \n",
       "ENSG00000198625;SE:1:204532246-204537430:204537...       0.716118       MDM4   \n",
       "ENSG00000198625;SE:1:204532246-204537459:204537...       0.550245       MDM4   \n",
       "ENSG00000198625;SE:1:204532246-204538209:204538...            NaN       MDM4   \n",
       "ENSG00000198625;SE:1:204538308-204542784:204542...            NaN       MDM4   \n",
       "ENSG00000198625;SE:1:204542944-204544535:204544...       0.982955       MDM4   \n",
       "\n",
       "                                                       qval  \n",
       "Event_id                                                     \n",
       "ENSG00000198625;A3:1:204532246-204537430:204532...  0.79777  \n",
       "ENSG00000198625;AL:1:204538308-204542784:204542...  0.79777  \n",
       "ENSG00000198625;MX:1:204525596-204526360:204526...  1.00000  \n",
       "ENSG00000198625;SE:1:204532246-204537430:204537...  0.79777  \n",
       "ENSG00000198625;SE:1:204532246-204537459:204537...  0.79777  \n",
       "ENSG00000198625;SE:1:204532246-204538209:204538...  1.00000  \n",
       "ENSG00000198625;SE:1:204538308-204542784:204542...  1.00000  \n",
       "ENSG00000198625;SE:1:204542944-204544535:204544...  0.79777  "
      ]
     },
     "execution_count": 287,
     "metadata": {},
     "output_type": "execute_result"
    }
   ],
   "source": [
    "rpl22_oe_exons[rpl22_oe_exons[\"gene_names\"].apply(lambda x: \"MDM4\" in x)]"
   ]
  }
 ],
 "metadata": {
  "kernelspec": {
   "display_name": "Python 3",
   "language": "python",
   "name": "python3"
  },
  "language_info": {
   "codemirror_mode": {
    "name": "ipython",
    "version": 3
   },
   "file_extension": ".py",
   "mimetype": "text/x-python",
   "name": "python",
   "nbconvert_exporter": "python",
   "pygments_lexer": "ipython3",
   "version": "3.7.4"
  },
  "toc": {
   "base_numbering": 1,
   "nav_menu": {},
   "number_sections": true,
   "sideBar": true,
   "skip_h1_title": false,
   "title_cell": "Table of Contents",
   "title_sidebar": "Contents",
   "toc_cell": false,
   "toc_position": {},
   "toc_section_display": true,
   "toc_window_display": true
  }
 },
 "nbformat": 4,
 "nbformat_minor": 2
}
