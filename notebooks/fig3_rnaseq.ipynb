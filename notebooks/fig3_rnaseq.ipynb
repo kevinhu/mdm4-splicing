{
 "cells": [
  {
   "cell_type": "code",
   "execution_count": 326,
   "metadata": {
    "ExecuteTime": {
     "end_time": "2019-11-06T23:40:55.908070Z",
     "start_time": "2019-11-06T23:40:55.904502Z"
    }
   },
   "outputs": [],
   "source": [
    "import numpy as np\n",
    "import pandas as pd\n",
    "\n",
    "import seaborn as sns\n",
    "import matplotlib.pyplot as plt\n",
    "from matplotlib.collections import PatchCollection\n",
    "from matplotlib.patches import Rectangle\n",
    "\n",
    "from statsmodels.stats.multitest import multipletests"
   ]
  },
  {
   "cell_type": "markdown",
   "metadata": {},
   "source": [
    "# Define experiments"
   ]
  },
  {
   "cell_type": "code",
   "execution_count": 87,
   "metadata": {
    "ExecuteTime": {
     "end_time": "2019-11-06T20:45:30.523311Z",
     "start_time": "2019-11-06T20:45:30.513855Z"
    }
   },
   "outputs": [],
   "source": [
    "experiments = {\"rpl22_oe\": [\n",
    "    ['LNCaP_GFP_1',\n",
    "     'LNCaP_GFP_2',\n",
    "     'LNCaP_GFP_3'],\n",
    "    ['LNCaP_RPL22_1',\n",
    "     'LNCaP_RPL22_2',\n",
    "     'LNCaP_RPL22_3']\n",
    "],\n",
    "    \"rpl22l1_oe\": [\n",
    "    ['CAL851_GFP_1',\n",
    "     'CAL851_GFP_2',\n",
    "     'CAL851_GFP_3'],\n",
    "    ['CAL851_RPL22L1_1',\n",
    "     'CAL851_RPL22L1_2',\n",
    "     'CAL851_RPL22L1_3']\n",
    "],\n",
    "    \"sh704\": [\n",
    "    ['LNCaP_shLuc_1',\n",
    "     'LNCaP_shLuc_2',\n",
    "     'LNCaP_shLuc_3'],\n",
    "    ['LNCaP_sh704_1',\n",
    "     'LNCaP_sh704_2',\n",
    "     'LNCaP_sh704_3']\n",
    "],\n",
    "    \"sh705\": [\n",
    "    ['LNCaP_shLuc_1',\n",
    "     'LNCaP_shLuc_2',\n",
    "     'LNCaP_shLuc_3'],\n",
    "    ['LNCaP_sh705_1',\n",
    "     'LNCaP_sh705_2',\n",
    "     'LNCaP_sh705_3']\n",
    "]\n",
    "}\n",
    "\n",
    "experiment_ids = [\"rpl22_oe\",\"rpl22l1_oe\",\"sh704\",\"sh705\"]"
   ]
  },
  {
   "cell_type": "markdown",
   "metadata": {},
   "source": [
    "# Load TPMS and sleuth results"
   ]
  },
  {
   "cell_type": "code",
   "execution_count": 102,
   "metadata": {
    "ExecuteTime": {
     "end_time": "2019-11-06T20:51:15.909048Z",
     "start_time": "2019-11-06T20:51:13.294107Z"
    }
   },
   "outputs": [],
   "source": [
    "kallisto_sleuth_path = \"../data/processed/kallisto_sleuth_merge/\"\n",
    "\n",
    "rpl22_oe_genes = pd.read_csv(kallisto_sleuth_path + \"rpl22_oe_genes.txt\", sep=\"\\t\", index_col=0)\n",
    "rpl22l1_oe_genes = pd.read_csv(kallisto_sleuth_path + \"rpl22l1_oe_genes.txt\", sep=\"\\t\", index_col=0)\n",
    "sh704_genes = pd.read_csv(kallisto_sleuth_path + \"sh704_genes.txt\", sep=\"\\t\", index_col=0)\n",
    "sh705_genes = pd.read_csv(kallisto_sleuth_path + \"sh705_genes.txt\", sep=\"\\t\", index_col=0)\n",
    "\n",
    "rpl22_oe_transcripts = pd.read_csv(kallisto_sleuth_path + \"rpl22_oe_transcripts.txt\", sep=\"\\t\", index_col=0)\n",
    "rpl22l1_oe_transcripts = pd.read_csv(kallisto_sleuth_path + \"rpl22l1_oe_transcripts.txt\", sep=\"\\t\", index_col=0)\n",
    "sh704_transcripts = pd.read_csv(kallisto_sleuth_path + \"sh704_transcripts.txt\", sep=\"\\t\", index_col=0)\n",
    "sh705_transcripts = pd.read_csv(kallisto_sleuth_path + \"sh705_transcripts.txt\", sep=\"\\t\", index_col=0)"
   ]
  },
  {
   "cell_type": "markdown",
   "metadata": {},
   "source": [
    "# Differential expression"
   ]
  },
  {
   "cell_type": "code",
   "execution_count": 103,
   "metadata": {
    "ExecuteTime": {
     "end_time": "2019-11-06T20:51:17.842007Z",
     "start_time": "2019-11-06T20:51:17.838004Z"
    }
   },
   "outputs": [],
   "source": [
    "def as_si(x, ndp):\n",
    "    \"\"\"\n",
    "    Convert a number to scientific notation\n",
    "\n",
    "    Parameters\n",
    "    ----------\n",
    "    x : float\n",
    "        number to convert\n",
    "    ndp: float\n",
    "        number of decimal places\n",
    "\n",
    "    Returns\n",
    "    -------\n",
    "    x_si : string\n",
    "        x formatted in scientific notation\n",
    "    \"\"\"\n",
    "\n",
    "    s = '{x:0.{ndp:d}e}'.format(x=x, ndp=ndp)\n",
    "    m, e = s.split('e')\n",
    "    x_si = r'{m:s} × $10^{{{e:d}}}$'.format(m=m, e=int(e))\n",
    "\n",
    "    return x_si"
   ]
  },
  {
   "cell_type": "code",
   "execution_count": 333,
   "metadata": {
    "ExecuteTime": {
     "end_time": "2019-11-06T23:42:45.440244Z",
     "start_time": "2019-11-06T23:42:45.316985Z"
    }
   },
   "outputs": [
    {
     "data": {
      "image/png": "[encoded data removed]",
      "text/plain": [
       "<Figure size 432x288 with 1 Axes>"
      ]
     },
     "metadata": {
      "needs_background": "light"
     },
     "output_type": "display_data"
    }
   ],
   "source": [
    "ax = plt.subplot(111)\n",
    "\n",
    "control_rect = Rectangle([0.1,0],0.3,0.5)\n",
    "ax.add_patch(control_rect)\n",
    "\n",
    "treatment_rect = Rectangle([0.6,0],0.3,0.8)\n",
    "ax.add_patch(treatment_rect)\n",
    "\n",
    "plt.show()"
   ]
  },
  {
   "cell_type": "code",
   "execution_count": 370,
   "metadata": {
    "ExecuteTime": {
     "end_time": "2019-11-06T23:54:42.185363Z",
     "start_time": "2019-11-06T23:54:42.054090Z"
    }
   },
   "outputs": [
    {
     "data": {
      "text/plain": [
       "(<matplotlib.axes._subplots.AxesSubplot at 0x1a53081a10>, 9.284031840259944)"
      ]
     },
     "execution_count": 370,
     "metadata": {},
     "output_type": "execute_result"
    },
    {
     "data": {
      "image/png": "[encoded data removed]",
      "text/plain": [
       "<Figure size 432x288 with 1 Axes>"
      ]
     },
     "metadata": {
      "needs_background": "light"
     },
     "output_type": "display_data"
    }
   ],
   "source": [
    "bars(\"ENSG00000163584\",\n",
    "              \"rpl22_oe\",\n",
    "              rpl22_oe_genes,\n",
    "              ylabel=\"\")"
   ]
  },
  {
   "cell_type": "code",
   "execution_count": 383,
   "metadata": {
    "ExecuteTime": {
     "end_time": "2019-11-06T23:58:12.628265Z",
     "start_time": "2019-11-06T23:58:12.606486Z"
    }
   },
   "outputs": [],
   "source": [
    "control_color = \"#393e46\"\n",
    "treatment_color = \"#e23e57\"\n",
    "alpha = 0.5\n",
    "\n",
    "\n",
    "def bars(transcript_id, experiment_id, diff_results, ax=None, pal=None, xlabel=None, ylabel=None):\n",
    "\n",
    "    if ax is None:\n",
    "        ax = plt.subplot(111)\n",
    "\n",
    "    if pal is None:\n",
    "        pal = sns.color_palette([control_color, treatment_color])\n",
    "\n",
    "    if xlabel is None:\n",
    "        xlabel = experiment_id\n",
    "\n",
    "    if ylabel is None:\n",
    "        ylabel = \"mRNA expression, log2(TPM + 1)\"\n",
    "\n",
    "    select_abundance = diff_results.loc[transcript_id]\n",
    "\n",
    "    controls = experiments[experiment_id][0]\n",
    "    treatments = experiments[experiment_id][1]\n",
    "\n",
    "    control_tpms = np.log2(select_abundance[controls].astype(np.float64)+1)\n",
    "    treatment_tpms = np.log2(select_abundance[treatments].astype(np.float64)+1)\n",
    "\n",
    "    control_mean = np.mean(control_tpms)\n",
    "    treatment_mean = np.mean(treatment_tpms)\n",
    "\n",
    "    offset = 0.05\n",
    "    width = 0.4\n",
    "\n",
    "    control_rect = Rectangle([offset, 0],\n",
    "                             width,\n",
    "                             control_mean,\n",
    "                             color=control_color,\n",
    "                             alpha=alpha,\n",
    "                             linewidth=0\n",
    "                             )\n",
    "    ax.add_patch(control_rect)\n",
    "\n",
    "    treatment_rect = Rectangle([0.5+offset, 0],\n",
    "                               width,\n",
    "                               treatment_mean,\n",
    "                               color=treatment_color,\n",
    "                               alpha=alpha,\n",
    "                               linewidth=0)\n",
    "    ax.add_patch(treatment_rect)\n",
    "    \n",
    "    ax.scatter([0.25-width/3,0.25,0.25+width/3], \n",
    "               control_tpms,\n",
    "               color=control_color,\n",
    "               linewidth=1,\n",
    "               s=32,\n",
    "#                alpha=alpha,\n",
    "               edgecolor=\"black\"\n",
    "              )\n",
    "    ax.scatter([0.75-width/3,0.75,0.75+width/3], \n",
    "               treatment_tpms,\n",
    "               color=treatment_color,\n",
    "               linewidth=1,\n",
    "               s=32,\n",
    "#                alpha=alpha,\n",
    "               edgecolor=\"black\"\n",
    "              )\n",
    "\n",
    "    ax.axhline(control_mean, offset, offset+width,\n",
    "               linewidth=2, color=control_color, zorder=0)\n",
    "    ax.axhline(treatment_mean, 0.5+offset, 0.5+offset+width,\n",
    "               linewidth=2, color=treatment_color, zorder=0)\n",
    "\n",
    "    ax.spines['top'].set_visible(False)\n",
    "    ax.spines['right'].set_visible(False)\n",
    "    ax.set_xticks([])\n",
    "    ax.set_xlabel(xlabel)\n",
    "    ax.set_ylabel(ylabel)\n",
    "\n",
    "    ax.spines['bottom'].set_position(('axes', -0.025))\n",
    "    ax.spines['left'].set_position(('axes', -0.05))\n",
    "\n",
    "    plt.ylim(0)\n",
    "\n",
    "    y_max = max(list(control_tpms)+list(treatment_tpms))\n",
    "\n",
    "    if not np.isnan(select_abundance[\"qval\"]):\n",
    "\n",
    "        qval = as_si(select_abundance[\"qval\"], 0)\n",
    "        ax.text(0.5, y_max*1.2, qval, ha=\"center\", fontsize=8)\n",
    "\n",
    "    return ax, y_max\n",
    "\n",
    "\n",
    "def plot_tpm_dist_all(annotation_id, annotation_type):\n",
    "\n",
    "    f, axes = plt.subplots(1, 4, sharey=True, figsize=(4.5, 3))\n",
    "\n",
    "    maxes = []\n",
    "\n",
    "    if annotation_type == \"transcript\":\n",
    "\n",
    "        sleuth_sets = [rpl22_oe_transcripts,\n",
    "                       rpl22l1_oe_transcripts,\n",
    "                       sh704_transcripts,\n",
    "                       sh705_transcripts\n",
    "                       ]\n",
    "\n",
    "    elif annotation_type == \"gene\":\n",
    "\n",
    "        sleuth_sets = [rpl22_oe_genes,\n",
    "                       rpl22l1_oe_genes,\n",
    "                       sh704_genes,\n",
    "                       sh705_genes\n",
    "                       ]\n",
    "\n",
    "    for sleuth_idx, sleuth_set in enumerate(sleuth_sets):\n",
    "        ax = axes[sleuth_idx]\n",
    "\n",
    "        ax, y_max = bars(annotation_id,\n",
    "                                  experiment_ids[sleuth_idx],\n",
    "                                  sleuth_set,\n",
    "                                  ax=ax,\n",
    "                                  ylabel=\"\")\n",
    "\n",
    "        maxes.append(y_max)\n",
    "\n",
    "        if sleuth_idx > 0:\n",
    "\n",
    "            ax.spines[\"left\"].set_visible(False)\n",
    "            ax.tick_params(axis='y', which='both', right=False,\n",
    "                           left=False, labelleft=False)\n",
    "\n",
    "    axes[0].set_xlabel(\"RPL22++\")\n",
    "    axes[1].set_xlabel(\"RPL22L1++\")\n",
    "    axes[2].set_xlabel(\"shRPL22L1_1\")\n",
    "    axes[3].set_xlabel(\"shRPL22L1_2\")\n",
    "\n",
    "    axes[0].set_ylabel(\"mRNA expression, log2(TPM+1)\")\n",
    "\n",
    "    plt.ylim(0, max(maxes)*1.25)\n",
    "\n",
    "    plt.subplots_adjust(wspace=0.25)\n",
    "\n",
    "    legend_background = \"#eaeaea\"\n",
    "\n",
    "    legend_elements = [Patch(label='Control',\n",
    "                             color=control_color, alpha=alpha),\n",
    "                       Patch(label='Treatment',\n",
    "                             color=treatment_color, alpha=alpha)]\n",
    "\n",
    "    legend = plt.legend(handles=legend_elements,\n",
    "                        loc='upper left', bbox_to_anchor=(1, 1),)\n",
    "    frame = legend.get_frame()\n",
    "    frame.set_facecolor(legend_background)\n",
    "    frame.set_edgecolor(legend_background)"
   ]
  },
  {
   "cell_type": "code",
   "execution_count": 384,
   "metadata": {
    "ExecuteTime": {
     "end_time": "2019-11-06T23:58:14.506929Z",
     "start_time": "2019-11-06T23:58:14.125396Z"
    }
   },
   "outputs": [
    {
     "data": {
      "image/png": "[encoded data removed]",
      "text/plain": [
       "<Figure size 324x216 with 4 Axes>"
      ]
     },
     "metadata": {
      "needs_background": "light"
     },
     "output_type": "display_data"
    }
   ],
   "source": [
    "plot_tpm_dist_all(\"ENST00000463836\",\"transcript\")\n"
   ]
  },
  {
   "cell_type": "code",
   "execution_count": 380,
   "metadata": {
    "ExecuteTime": {
     "end_time": "2019-11-06T23:57:48.467099Z",
     "start_time": "2019-11-06T23:57:48.072313Z"
    }
   },
   "outputs": [
    {
     "data": {
      "image/png": "[encoded data removed]",
      "text/plain": [
       "<Figure size 324x216 with 4 Axes>"
      ]
     },
     "metadata": {
      "needs_background": "light"
     },
     "output_type": "display_data"
    }
   ],
   "source": [
    "plot_tpm_dist_all(\"ENSG00000163584\",\"gene\")\n",
    "\n",
    "plt.savefig(\"../plots/rpl22l1_ENSG00000163584_expression.pdf\",bbox_inches=\"tight\",background=\"transparent\")"
   ]
  },
  {
   "cell_type": "code",
   "execution_count": 385,
   "metadata": {
    "ExecuteTime": {
     "end_time": "2019-11-06T23:58:51.822409Z",
     "start_time": "2019-11-06T23:58:51.141699Z"
    }
   },
   "outputs": [
    {
     "data": {
      "image/png": "[encoded data removed]",
      "text/plain": [
       "<Figure size 324x216 with 4 Axes>"
      ]
     },
     "metadata": {
      "needs_background": "light"
     },
     "output_type": "display_data"
    }
   ],
   "source": [
    "plot_tpm_dist_all(\"ENSG00000116251\",\"gene\")\n",
    "\n",
    "plt.savefig(\"../plots/rpl22_ENSG00000116251_expression.pdf\",bbox_inches=\"tight\",background=\"transparent\")"
   ]
  },
  {
   "cell_type": "markdown",
   "metadata": {},
   "source": [
    "## Volcano plots"
   ]
  },
  {
   "cell_type": "code",
   "execution_count": 96,
   "metadata": {
    "ExecuteTime": {
     "end_time": "2019-11-06T20:49:04.790577Z",
     "start_time": "2019-11-06T20:49:04.786202Z"
    }
   },
   "outputs": [],
   "source": [
    "def compute_medians(sleuth_diff, experiment):\n",
    "    sleuth_diff[\"control_median\"] = sleuth_diff[experiments[experiment][0]].median(axis=1)\n",
    "    sleuth_diff[\"treatment_median\"] = sleuth_diff[experiments[experiment][1]].median(axis=1)\n",
    "    sleuth_diff[\"median_foldchange\"] = sleuth_diff[\"treatment_median\"]/sleuth_diff[\"control_median\"]"
   ]
  },
  {
   "cell_type": "code",
   "execution_count": 122,
   "metadata": {
    "ExecuteTime": {
     "end_time": "2019-11-06T21:01:48.042782Z",
     "start_time": "2019-11-06T21:01:47.185531Z"
    }
   },
   "outputs": [
    {
     "name": "stderr",
     "output_type": "stream",
     "text": [
      "/Users/khu/anaconda3/envs/cenv/lib/python3.7/site-packages/numpy/lib/nanfunctions.py:1115: RuntimeWarning: All-NaN slice encountered\n",
      "  overwrite_input=overwrite_input)\n"
     ]
    }
   ],
   "source": [
    "compute_medians(rpl22_oe_genes,\"rpl22_oe\")\n",
    "compute_medians(rpl22l1_oe_genes,\"rpl22l1_oe\")\n",
    "compute_medians(sh704_genes,\"sh704\")\n",
    "compute_medians(sh705_genes,\"sh705\")\n",
    "\n",
    "compute_medians(rpl22_oe_transcripts,\"rpl22_oe\")\n",
    "compute_medians(rpl22l1_oe_transcripts,\"rpl22l1_oe\")\n",
    "compute_medians(sh704_transcripts,\"sh704\")\n",
    "compute_medians(sh705_transcripts,\"sh705\")"
   ]
  },
  {
   "cell_type": "code",
   "execution_count": 136,
   "metadata": {
    "ExecuteTime": {
     "end_time": "2019-11-06T21:07:57.736902Z",
     "start_time": "2019-11-06T21:07:56.951996Z"
    }
   },
   "outputs": [
    {
     "data": {
      "text/plain": [
       "<matplotlib.collections.PathCollection at 0x1a3c6b3d50>"
      ]
     },
     "execution_count": 136,
     "metadata": {},
     "output_type": "execute_result"
    },
    {
     "data": {
      "image/png": "[encoded data removed]",
      "text/plain": [
       "<Figure size 432x288 with 1 Axes>"
      ]
     },
     "metadata": {
      "needs_background": "light"
     },
     "output_type": "display_data"
    }
   ],
   "source": [
    "sleuth_diff = rpl22_oe_transcripts\n",
    "\n",
    "plt.scatter(sleuth_diff[\"b\"],-np.log10(sleuth_diff[\"qval\"]+10**(-300)))\n",
    "\n",
    "# plt.xlim(-5,5)"
   ]
  },
  {
   "cell_type": "markdown",
   "metadata": {},
   "source": [
    "# Differential splicing"
   ]
  },
  {
   "cell_type": "code",
   "execution_count": 26,
   "metadata": {
    "ExecuteTime": {
     "end_time": "2019-11-02T17:17:07.232847Z",
     "start_time": "2019-11-02T17:17:06.733253Z"
    }
   },
   "outputs": [],
   "source": [
    "rpl22_oe_rmats = pd.read_csv(\"../data/processed/rmats_merge/rpl22_oe.txt\",sep=\"\\t\")\n",
    "rpl22l1_oe_rmats = pd.read_csv(\"../data/processed/rmats_merge/rpl22l1_oe.txt\",sep=\"\\t\")\n",
    "sh704_rmats = pd.read_csv(\"../data/processed/rmats_merge/sh704.txt\",sep=\"\\t\")\n",
    "sh705_rmats = pd.read_csv(\"../data/processed/rmats_merge/sh705.txt\",sep=\"\\t\")"
   ]
  },
  {
   "cell_type": "code",
   "execution_count": 27,
   "metadata": {
    "ExecuteTime": {
     "end_time": "2019-11-02T17:17:08.081513Z",
     "start_time": "2019-11-02T17:17:08.069410Z"
    }
   },
   "outputs": [],
   "source": [
    "def plot_psi_dist(exon_id, experiment_id, diff_results, ax=None, pal=None, xlabel=None, ylabel=None):\n",
    "\n",
    "    if ax is None:\n",
    "        ax = plt.subplot(111)\n",
    "\n",
    "    if pal is None:\n",
    "        pal = sns.color_palette([control_color, treatment_color])\n",
    "\n",
    "    if xlabel is None:\n",
    "        xlabel = experiment_id\n",
    "\n",
    "    if ylabel is None:\n",
    "        ylabel = \"mRNA expression, log2(TPM + 1)\"\n",
    "\n",
    "    select_abundance = diff_results.loc[exon_id]\n",
    "\n",
    "    controls = experiments[experiment_id][0]\n",
    "    treatments = experiments[experiment_id][1]\n",
    "\n",
    "    tpms = np.log2(select_abundance[controls+treatments].astype(np.float64)+1)\n",
    "\n",
    "    expression_df = pd.DataFrame(index=controls+treatments)\n",
    "\n",
    "    expression_df[\"tpm\"] = tpms\n",
    "    expression_df[\"treatment\"] = [\"control\"] * \\\n",
    "        len(controls)+[\"treatment\"]*len(treatments)\n",
    "\n",
    "    sns.swarmplot(x=\"treatment\",\n",
    "                  y=\"tpm\",\n",
    "                  data=expression_df,\n",
    "                  ax=ax,\n",
    "                  palette=pal,\n",
    "                  s=6,\n",
    "                  alpha=alpha,\n",
    "                  linewidth=1,\n",
    "                  edgecolor=\"black\",\n",
    "                  )\n",
    "    \n",
    "    means = expression_df.groupby(\"treatment\")[\"tpm\"].mean()\n",
    "    \n",
    "    ax.axhline(means[\"control\"], 0.15,0.35, linewidth=2, color=\"black\", zorder=100)\n",
    "    ax.axhline(means[\"treatment\"], 0.65,0.85, linewidth=2, color=\"black\", zorder=100)\n",
    "\n",
    "    ax.spines['top'].set_visible(False)\n",
    "    ax.spines['right'].set_visible(False)\n",
    "    ax.set_xticks([])\n",
    "    ax.set_xlabel(xlabel)\n",
    "    ax.set_ylabel(ylabel)\n",
    "\n",
    "    ax.spines['bottom'].set_position(('axes', -0.05))\n",
    "    ax.spines['left'].set_position(('axes', -0.05))\n",
    "    \n",
    "    plt.ylim(0)\n",
    "    \n",
    "    y_max = max(tpms)\n",
    "    \n",
    "    if not np.isnan(select_abundance[\"qval\"]):\n",
    "    \n",
    "        qval = as_si(select_abundance[\"qval\"],0)\n",
    "        ax.text(0.5, y_max*1.2, qval,ha=\"center\",fontsize=8)\n",
    "\n",
    "    return ax, y_max\n"
   ]
  },
  {
   "cell_type": "code",
   "execution_count": 141,
   "metadata": {
    "ExecuteTime": {
     "end_time": "2019-11-06T21:12:04.294153Z",
     "start_time": "2019-11-06T21:12:03.748386Z"
    }
   },
   "outputs": [
    {
     "data": {
      "image/png": "[encoded data removed]",
      "text/plain": [
       "<Figure size 432x288 with 1 Axes>"
      ]
     },
     "metadata": {
      "needs_background": "light"
     },
     "output_type": "display_data"
    }
   ],
   "source": [
    "sns.distplot(-np.log10(rpl22_oe_rmats[\"FDR\"]+10**(-30)),kde=False)\n",
    "plt.yscale(\"log\")"
   ]
  },
  {
   "cell_type": "code",
   "execution_count": 145,
   "metadata": {
    "ExecuteTime": {
     "end_time": "2019-11-06T21:14:03.341206Z",
     "start_time": "2019-11-06T21:14:03.325767Z"
    }
   },
   "outputs": [
    {
     "data": {
      "text/html": [
       "<div>\n",
       "<style scoped>\n",
       "    .dataframe tbody tr th:only-of-type {\n",
       "        vertical-align: middle;\n",
       "    }\n",
       "\n",
       "    .dataframe tbody tr th {\n",
       "        vertical-align: top;\n",
       "    }\n",
       "\n",
       "    .dataframe thead th {\n",
       "        text-align: right;\n",
       "    }\n",
       "</style>\n",
       "<table border=\"1\" class=\"dataframe\">\n",
       "  <thead>\n",
       "    <tr style=\"text-align: right;\">\n",
       "      <th></th>\n",
       "      <th>target_id</th>\n",
       "      <th>ext_gene</th>\n",
       "      <th>duplicate_transcript</th>\n",
       "      <th>num_aggregated_transcripts</th>\n",
       "      <th>sum_mean_obs_counts</th>\n",
       "      <th>pval</th>\n",
       "      <th>qval</th>\n",
       "      <th>LNCaP_shLuc_1</th>\n",
       "      <th>LNCaP_shLuc_2</th>\n",
       "      <th>LNCaP_shLuc_3</th>\n",
       "      <th>LNCaP_sh704_1</th>\n",
       "      <th>LNCaP_sh704_2</th>\n",
       "      <th>LNCaP_sh704_3</th>\n",
       "      <th>control_median</th>\n",
       "      <th>treatment_median</th>\n",
       "      <th>median_foldchange</th>\n",
       "    </tr>\n",
       "  </thead>\n",
       "  <tbody>\n",
       "    <tr>\n",
       "      <th>ENSG00000005513</th>\n",
       "      <td>1</td>\n",
       "      <td>SOX8</td>\n",
       "      <td>False</td>\n",
       "      <td>2.0</td>\n",
       "      <td>10.968773</td>\n",
       "      <td>1.160364e-252</td>\n",
       "      <td>1.951153e-248</td>\n",
       "      <td>5.295105</td>\n",
       "      <td>4.851195</td>\n",
       "      <td>4.756822</td>\n",
       "      <td>57.048750</td>\n",
       "      <td>59.529240</td>\n",
       "      <td>52.131820</td>\n",
       "      <td>4.851195</td>\n",
       "      <td>57.048750</td>\n",
       "      <td>11.759731</td>\n",
       "    </tr>\n",
       "    <tr>\n",
       "      <th>ENSG00000163584</th>\n",
       "      <td>2</td>\n",
       "      <td>RPL22L1</td>\n",
       "      <td>False</td>\n",
       "      <td>4.0</td>\n",
       "      <td>21.855229</td>\n",
       "      <td>8.229427e-191</td>\n",
       "      <td>6.918891e-187</td>\n",
       "      <td>891.159020</td>\n",
       "      <td>1150.300965</td>\n",
       "      <td>1125.603910</td>\n",
       "      <td>162.435300</td>\n",
       "      <td>164.608800</td>\n",
       "      <td>158.170470</td>\n",
       "      <td>1125.603910</td>\n",
       "      <td>162.435300</td>\n",
       "      <td>0.144309</td>\n",
       "    </tr>\n",
       "    <tr>\n",
       "      <th>ENSG00000124762</th>\n",
       "      <td>3</td>\n",
       "      <td>CDKN1A</td>\n",
       "      <td>False</td>\n",
       "      <td>5.0</td>\n",
       "      <td>21.492522</td>\n",
       "      <td>5.696871e-177</td>\n",
       "      <td>3.193096e-173</td>\n",
       "      <td>115.298309</td>\n",
       "      <td>118.203447</td>\n",
       "      <td>116.923240</td>\n",
       "      <td>506.216740</td>\n",
       "      <td>503.893448</td>\n",
       "      <td>466.437523</td>\n",
       "      <td>116.923240</td>\n",
       "      <td>503.893448</td>\n",
       "      <td>4.309609</td>\n",
       "    </tr>\n",
       "    <tr>\n",
       "      <th>ENSG00000115414</th>\n",
       "      <td>4</td>\n",
       "      <td>FN1</td>\n",
       "      <td>False</td>\n",
       "      <td>18.0</td>\n",
       "      <td>72.418226</td>\n",
       "      <td>1.295350e-176</td>\n",
       "      <td>5.445329e-173</td>\n",
       "      <td>135.805285</td>\n",
       "      <td>122.463850</td>\n",
       "      <td>111.764645</td>\n",
       "      <td>377.147100</td>\n",
       "      <td>350.762155</td>\n",
       "      <td>398.952128</td>\n",
       "      <td>122.463850</td>\n",
       "      <td>377.147100</td>\n",
       "      <td>3.079661</td>\n",
       "    </tr>\n",
       "    <tr>\n",
       "      <th>ENSG00000080546</th>\n",
       "      <td>5</td>\n",
       "      <td>SESN1</td>\n",
       "      <td>False</td>\n",
       "      <td>6.0</td>\n",
       "      <td>26.100638</td>\n",
       "      <td>4.211762e-149</td>\n",
       "      <td>1.416416e-145</td>\n",
       "      <td>62.272119</td>\n",
       "      <td>75.895400</td>\n",
       "      <td>51.547618</td>\n",
       "      <td>224.421851</td>\n",
       "      <td>225.848030</td>\n",
       "      <td>209.980600</td>\n",
       "      <td>62.272119</td>\n",
       "      <td>224.421851</td>\n",
       "      <td>3.603890</td>\n",
       "    </tr>\n",
       "  </tbody>\n",
       "</table>\n",
       "</div>"
      ],
      "text/plain": [
       "                 target_id ext_gene  duplicate_transcript  \\\n",
       "ENSG00000005513          1     SOX8                 False   \n",
       "ENSG00000163584          2  RPL22L1                 False   \n",
       "ENSG00000124762          3   CDKN1A                 False   \n",
       "ENSG00000115414          4      FN1                 False   \n",
       "ENSG00000080546          5    SESN1                 False   \n",
       "\n",
       "                 num_aggregated_transcripts  sum_mean_obs_counts  \\\n",
       "ENSG00000005513                         2.0            10.968773   \n",
       "ENSG00000163584                         4.0            21.855229   \n",
       "ENSG00000124762                         5.0            21.492522   \n",
       "ENSG00000115414                        18.0            72.418226   \n",
       "ENSG00000080546                         6.0            26.100638   \n",
       "\n",
       "                          pval           qval  LNCaP_shLuc_1  LNCaP_shLuc_2  \\\n",
       "ENSG00000005513  1.160364e-252  1.951153e-248       5.295105       4.851195   \n",
       "ENSG00000163584  8.229427e-191  6.918891e-187     891.159020    1150.300965   \n",
       "ENSG00000124762  5.696871e-177  3.193096e-173     115.298309     118.203447   \n",
       "ENSG00000115414  1.295350e-176  5.445329e-173     135.805285     122.463850   \n",
       "ENSG00000080546  4.211762e-149  1.416416e-145      62.272119      75.895400   \n",
       "\n",
       "                 LNCaP_shLuc_3  LNCaP_sh704_1  LNCaP_sh704_2  LNCaP_sh704_3  \\\n",
       "ENSG00000005513       4.756822      57.048750      59.529240      52.131820   \n",
       "ENSG00000163584    1125.603910     162.435300     164.608800     158.170470   \n",
       "ENSG00000124762     116.923240     506.216740     503.893448     466.437523   \n",
       "ENSG00000115414     111.764645     377.147100     350.762155     398.952128   \n",
       "ENSG00000080546      51.547618     224.421851     225.848030     209.980600   \n",
       "\n",
       "                 control_median  treatment_median  median_foldchange  \n",
       "ENSG00000005513        4.851195         57.048750          11.759731  \n",
       "ENSG00000163584     1125.603910        162.435300           0.144309  \n",
       "ENSG00000124762      116.923240        503.893448           4.309609  \n",
       "ENSG00000115414      122.463850        377.147100           3.079661  \n",
       "ENSG00000080546       62.272119        224.421851           3.603890  "
      ]
     },
     "execution_count": 145,
     "metadata": {},
     "output_type": "execute_result"
    }
   ],
   "source": [
    "sh704_genes.head()"
   ]
  },
  {
   "cell_type": "code",
   "execution_count": 148,
   "metadata": {
    "ExecuteTime": {
     "end_time": "2019-11-06T21:14:48.564156Z",
     "start_time": "2019-11-06T21:14:47.710831Z"
    }
   },
   "outputs": [
    {
     "data": {
      "text/plain": [
       "<matplotlib.collections.PathCollection at 0x1a3b5d1e10>"
      ]
     },
     "execution_count": 148,
     "metadata": {},
     "output_type": "execute_result"
    },
    {
     "data": {
      "image/png": "[encoded data removed]",
      "text/plain": [
       "<Figure size 432x288 with 1 Axes>"
      ]
     },
     "metadata": {
      "needs_background": "light"
     },
     "output_type": "display_data"
    }
   ],
   "source": [
    "plt.scatter(sh705_transcripts[\"b\"],-np.log10(sh705_transcripts[\"qval\"]))"
   ]
  },
  {
   "cell_type": "code",
   "execution_count": null,
   "metadata": {},
   "outputs": [],
   "source": []
  }
 ],
 "metadata": {
  "kernelspec": {
   "display_name": "Python 3",
   "language": "python",
   "name": "python3"
  },
  "language_info": {
   "codemirror_mode": {
    "name": "ipython",
    "version": 3
   },
   "file_extension": ".py",
   "mimetype": "text/x-python",
   "name": "python",
   "nbconvert_exporter": "python",
   "pygments_lexer": "ipython3",
   "version": "3.7.4"
  },
  "toc": {
   "base_numbering": 1,
   "nav_menu": {},
   "number_sections": true,
   "sideBar": true,
   "skip_h1_title": false,
   "title_cell": "Table of Contents",
   "title_sidebar": "Contents",
   "toc_cell": false,
   "toc_position": {},
   "toc_section_display": true,
   "toc_window_display": true
  }
 },
 "nbformat": 4,
 "nbformat_minor": 2
}
