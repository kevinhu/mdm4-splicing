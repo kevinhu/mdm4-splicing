{
 "cells": [
  {
   "cell_type": "code",
   "execution_count": 2,
   "metadata": {
    "ExecuteTime": {
     "end_time": "2020-05-20T18:05:03.804727Z",
     "start_time": "2020-05-20T18:05:03.053247Z"
    }
   },
   "outputs": [],
   "source": [
    "import pandas as pd\n",
    "import numpy as np\n",
    "\n",
    "import matplotlib.pyplot as plt\n",
    "\n",
    "from functools import reduce"
   ]
  },
  {
   "cell_type": "markdown",
   "metadata": {},
   "source": [
    "# Experimental setup"
   ]
  },
  {
   "cell_type": "code",
   "execution_count": 2,
   "metadata": {
    "ExecuteTime": {
     "end_time": "2020-04-30T19:14:22.106086Z",
     "start_time": "2020-04-30T19:14:22.102400Z"
    }
   },
   "outputs": [],
   "source": [
    "with open(\"experiments.json\", \"r\") as f:\n",
    "    exp = json.load(f)\n",
    "\n",
    "    experiments = exp[\"experiments\"]\n",
    "    experiment_ids = exp[\"experiment_ids\"]\n",
    "\n",
    "splice_types = [\"A3SS\", \"A5SS\", \"MXE\", \"RI\", \"SE\"]"
   ]
  },
  {
   "cell_type": "markdown",
   "metadata": {},
   "source": [
    "# Transcripts to genes"
   ]
  },
  {
   "cell_type": "code",
   "execution_count": 3,
   "metadata": {
    "ExecuteTime": {
     "end_time": "2020-04-30T19:14:22.977984Z",
     "start_time": "2020-04-30T19:14:22.108341Z"
    }
   },
   "outputs": [
    {
     "name": "stderr",
     "output_type": "stream",
     "text": [
      "/Users/khu/anaconda3/envs/cenv/lib/python3.7/site-packages/IPython/core/interactiveshell.py:3063: DtypeWarning: Columns (0,4) have mixed types. Specify dtype option on import or set low_memory=False.\n",
      "  interactivity=interactivity, compiler=compiler, result=result)\n"
     ]
    }
   ],
   "source": [
    "t2g = pd.read_csv(\n",
    "    \"../data/intermediate/sleuth_diff/ensembl_t2g.csv\",\n",
    "    names=[\"transcript_id\", \"gene_id\", \"gene_name\", \"entrez_id\", \"duplicate\"],\n",
    ")\n",
    "t2g = t2g.dropna()\n",
    "t2g = t2g.astype(str)\n",
    "\n",
    "t2g[\"format_transcript_id\"] = t2g[\"gene_name\"] + \"_\" + t2g[\"transcript_id\"]\n",
    "t2g[\"format_gene_id\"] = t2g[\"gene_name\"] + \"_\" + t2g[\"gene_id\"]\n",
    "t2g[\"gene_id_stable\"] = t2g[\"gene_id\"].str.split(\".\").str[0]\n",
    "\n",
    "gene_name_map = dict(zip(t2g[\"gene_id_stable\"], t2g[\"gene_name\"]))"
   ]
  },
  {
   "cell_type": "markdown",
   "metadata": {},
   "source": [
    "# Merge splice types"
   ]
  },
  {
   "cell_type": "code",
   "execution_count": 4,
   "metadata": {
    "ExecuteTime": {
     "end_time": "2020-04-30T19:14:23.000342Z",
     "start_time": "2020-04-30T19:14:22.980034Z"
    }
   },
   "outputs": [],
   "source": [
    "def compute_medians(splices, experiment):\n",
    "    splices[\"control_median\"] = splices[experiments[experiment][0]].median(axis=1)\n",
    "    splices[\"treatment_median\"] = splices[experiments[experiment][1]].median(axis=1)\n",
    "    splices[\"median_foldchange\"] = (\n",
    "        splices[\"treatment_median\"] / splices[\"control_median\"]\n",
    "    )\n",
    "\n",
    "\n",
    "def concat_cols(df, cols, delim):\n",
    "    cols_str = [df[x].astype(str) for x in cols]\n",
    "\n",
    "    return reduce(lambda a, b: a + delim + b, cols_str)\n",
    "\n",
    "\n",
    "def load_splices(experiment):\n",
    "\n",
    "    controls = experiments[experiment][0]\n",
    "    treatments = experiments[experiment][1]\n",
    "\n",
    "    A3SS = pd.read_csv(\n",
    "        \"../data/raw/rmats_output/\" + experiment + \"/A3SS.MATS.JC.txt\",\n",
    "        sep=\"\\t\",\n",
    "        index_col=0,\n",
    "    )\n",
    "    A5SS = pd.read_csv(\n",
    "        \"../data/raw/rmats_output/\" + experiment + \"/A5SS.MATS.JC.txt\",\n",
    "        sep=\"\\t\",\n",
    "        index_col=0,\n",
    "    )\n",
    "    MXE = pd.read_csv(\n",
    "        \"../data/raw/rmats_output/\" + experiment + \"/MXE.MATS.JC.txt\",\n",
    "        sep=\"\\t\",\n",
    "        index_col=0,\n",
    "    )\n",
    "    RI = pd.read_csv(\n",
    "        \"../data/raw/rmats_output/\" + experiment + \"/RI.MATS.JC.txt\",\n",
    "        sep=\"\\t\",\n",
    "        index_col=0,\n",
    "    )\n",
    "    SE = pd.read_csv(\n",
    "        \"../data/raw/rmats_output/\" + experiment + \"/SE.MATS.JC.txt\",\n",
    "        sep=\"\\t\",\n",
    "        index_col=0,\n",
    "    )\n",
    "\n",
    "    A3SS[\"gene_id\"] = A3SS[\"geneSymbol\"] + \"_\" + A3SS[\"GeneID\"]\n",
    "    A5SS[\"gene_id\"] = A5SS[\"geneSymbol\"] + \"_\" + A5SS[\"GeneID\"]\n",
    "    MXE[\"gene_id\"] = MXE[\"geneSymbol\"] + \"_\" + MXE[\"GeneID\"]\n",
    "    RI[\"gene_id\"] = RI[\"geneSymbol\"] + \"_\" + RI[\"GeneID\"]\n",
    "    SE[\"gene_id\"] = SE[\"geneSymbol\"] + \"_\" + SE[\"GeneID\"]\n",
    "\n",
    "    A3SS[\"exon_id\"] = concat_cols(\n",
    "        A3SS,\n",
    "        [\n",
    "            \"chr\",\n",
    "            \"longExonStart_0base\",\n",
    "            \"longExonEnd\",\n",
    "            \"shortES\",\n",
    "            \"shortEE\",\n",
    "            \"flankingES\",\n",
    "            \"flankingEE\",\n",
    "        ],\n",
    "        \"_\",\n",
    "    )\n",
    "    A5SS[\"exon_id\"] = concat_cols(\n",
    "        A5SS,\n",
    "        [\n",
    "            \"chr\",\n",
    "            \"longExonStart_0base\",\n",
    "            \"longExonEnd\",\n",
    "            \"shortES\",\n",
    "            \"shortEE\",\n",
    "            \"flankingES\",\n",
    "            \"flankingEE\",\n",
    "        ],\n",
    "        \"_\",\n",
    "    )\n",
    "    MXE[\"exon_id\"] = concat_cols(\n",
    "        MXE,\n",
    "        [\n",
    "            \"chr\",\n",
    "            \"1stExonStart_0base\",\n",
    "            \"1stExonEnd\",\n",
    "            \"2ndExonStart_0base\",\n",
    "            \"2ndExonEnd\",\n",
    "            \"upstreamES\",\n",
    "            \"upstreamEE\",\n",
    "            \"downstreamES\",\n",
    "            \"downstreamEE\",\n",
    "        ],\n",
    "        \"_\",\n",
    "    )\n",
    "    RI[\"exon_id\"] = concat_cols(\n",
    "        RI,\n",
    "        [\n",
    "            \"chr\",\n",
    "            \"riExonStart_0base\",\n",
    "            \"riExonEnd\",\n",
    "            \"upstreamES\",\n",
    "            \"upstreamEE\",\n",
    "            \"downstreamES\",\n",
    "            \"downstreamEE\",\n",
    "        ],\n",
    "        \"_\",\n",
    "    )\n",
    "    SE[\"exon_id\"] = concat_cols(\n",
    "        SE,\n",
    "        [\n",
    "            \"chr\",\n",
    "            \"exonStart_0base\",\n",
    "            \"exonEnd\",\n",
    "            \"upstreamES\",\n",
    "            \"upstreamEE\",\n",
    "            \"downstreamES\",\n",
    "            \"downstreamEE\",\n",
    "        ],\n",
    "        \"_\",\n",
    "    )\n",
    "\n",
    "    A3SS[\"exon_gene_id\"] = A3SS[\"gene_id\"] + \"_\" + A3SS[\"exon_id\"]\n",
    "    A5SS[\"exon_gene_id\"] = A5SS[\"gene_id\"] + \"_\" + A5SS[\"exon_id\"]\n",
    "    MXE[\"exon_gene_id\"] = MXE[\"gene_id\"] + \"_\" + MXE[\"exon_id\"]\n",
    "    RI[\"exon_gene_id\"] = RI[\"gene_id\"] + \"_\" + RI[\"exon_id\"]\n",
    "    SE[\"exon_gene_id\"] = SE[\"gene_id\"] + \"_\" + SE[\"exon_id\"]\n",
    "\n",
    "    A3SS = A3SS.set_index(\"exon_gene_id\")\n",
    "    A5SS = A5SS.set_index(\"exon_gene_id\")\n",
    "    MXE = MXE.set_index(\"exon_gene_id\")\n",
    "    RI = RI.set_index(\"exon_gene_id\")\n",
    "    SE = SE.set_index(\"exon_gene_id\")\n",
    "\n",
    "    A3SS[\"splice_type\"] = \"A3SS\"\n",
    "    A5SS[\"splice_type\"] = \"A5SS\"\n",
    "    MXE[\"splice_type\"] = \"MXE\"\n",
    "    RI[\"splice_type\"] = \"RI\"\n",
    "    SE[\"splice_type\"] = \"SE\"\n",
    "\n",
    "    merged_cols = [\n",
    "        \"splice_type\",\n",
    "        \"GeneID\",\n",
    "        \"geneSymbol\",\n",
    "        \"PValue\",\n",
    "        \"FDR\",\n",
    "        \"IncLevel1\",\n",
    "        \"IncLevel2\",\n",
    "        \"gene_id\",\n",
    "    ]\n",
    "\n",
    "    merged_splices = pd.concat(\n",
    "        [\n",
    "            A3SS[merged_cols],\n",
    "            A5SS[merged_cols],\n",
    "            MXE[merged_cols],\n",
    "            RI[merged_cols],\n",
    "            SE[merged_cols],\n",
    "        ],\n",
    "        axis=0,\n",
    "    )\n",
    "\n",
    "    def nan_replace(x):\n",
    "        return x.replace(\"NA\", \"nan\")\n",
    "\n",
    "    merged_splices[\"IncLevel1\"] = merged_splices[\"IncLevel1\"].apply(nan_replace)\n",
    "    merged_splices[\"IncLevel2\"] = merged_splices[\"IncLevel2\"].apply(nan_replace)\n",
    "\n",
    "    control_split = merged_splices[\"IncLevel1\"].str.split(\",\").str\n",
    "    treatment_split = merged_splices[\"IncLevel2\"].str.split(\",\").str\n",
    "\n",
    "    for i in range(len(controls)):\n",
    "        merged_splices[controls[i]] = control_split[i].astype(np.float32)\n",
    "\n",
    "    for i in range(len(treatments)):\n",
    "        merged_splices[treatments[i]] = treatment_split[i].astype(np.float32)\n",
    "\n",
    "    merged_splices = merged_splices.drop([\"IncLevel1\", \"IncLevel2\"], axis=1)\n",
    "\n",
    "    compute_medians(merged_splices, experiment)\n",
    "\n",
    "    merged_splices = merged_splices.sort_values(by=\"FDR\")\n",
    "\n",
    "    return merged_splices"
   ]
  },
  {
   "cell_type": "code",
   "execution_count": 5,
   "metadata": {
    "ExecuteTime": {
     "end_time": "2020-04-30T19:14:33.314443Z",
     "start_time": "2020-04-30T19:14:23.002658Z"
    }
   },
   "outputs": [],
   "source": [
    "rpl22_oe_rmats = load_splices(\"rpl22_oe\")\n",
    "rpl22l1_oe_rmats = load_splices(\"rpl22l1_oe\")\n",
    "rpl22l1_kd1_rmats = load_splices(\"rpl22l1_kd1\")\n",
    "rpl22l1_kd2_rmats = load_splices(\"rpl22l1_kd2\")\n",
    "rpl22_a_ko1_rmats = load_splices(\"rpl22_a_ko1\")\n",
    "rpl22_a_ko2_rmats = load_splices(\"rpl22_a_ko2\")\n",
    "rpl22_b_ko1_rmats = load_splices(\"rpl22_b_ko1\")\n",
    "rpl22_b_ko2_rmats = load_splices(\"rpl22_b_ko2\")"
   ]
  },
  {
   "cell_type": "code",
   "execution_count": 6,
   "metadata": {
    "ExecuteTime": {
     "end_time": "2020-04-30T19:14:41.017397Z",
     "start_time": "2020-04-30T19:14:33.316204Z"
    }
   },
   "outputs": [],
   "source": [
    "rpl22_oe_rmats.to_csv(\"../data/processed/rmats_merge/rpl22_oe.txt\", sep=\"\\t\")\n",
    "rpl22l1_oe_rmats.to_csv(\"../data/processed/rmats_merge/rpl22l1_oe.txt\", sep=\"\\t\")\n",
    "rpl22l1_kd1_rmats.to_csv(\"../data/processed/rmats_merge/rpl22l1_kd1.txt\", sep=\"\\t\")\n",
    "rpl22l1_kd2_rmats.to_csv(\"../data/processed/rmats_merge/rpl22l1_kd2.txt\", sep=\"\\t\")\n",
    "rpl22_a_ko1_rmats.to_csv(\"../data/processed/rmats_merge/rpl22_a_ko1.txt\", sep=\"\\t\")\n",
    "rpl22_a_ko2_rmats.to_csv(\"../data/processed/rmats_merge/rpl22_a_ko2.txt\", sep=\"\\t\")\n",
    "rpl22_b_ko1_rmats.to_csv(\"../data/processed/rmats_merge/rpl22_b_ko1.txt\", sep=\"\\t\")\n",
    "rpl22_b_ko2_rmats.to_csv(\"../data/processed/rmats_merge/rpl22_b_ko2.txt\", sep=\"\\t\")\n",
    "\n",
    "rpl22_oe_rmats.to_hdf(\n",
    "    \"../data/processed/rmats_merge/rpl22_oe.h5\", key=\"rmats\", mode=\"w\"\n",
    ")\n",
    "rpl22l1_oe_rmats.to_hdf(\n",
    "    \"../data/processed/rmats_merge/rpl22l1_oe.h5\", key=\"rmats\", mode=\"w\"\n",
    ")\n",
    "rpl22l1_kd1_rmats.to_hdf(\n",
    "    \"../data/processed/rmats_merge/rpl22l1_kd1.h5\", key=\"rmats\", mode=\"w\"\n",
    ")\n",
    "rpl22l1_kd2_rmats.to_hdf(\n",
    "    \"../data/processed/rmats_merge/rpl22l1_kd2.h5\", key=\"rmats\", mode=\"w\"\n",
    ")\n",
    "rpl22_a_ko1_rmats.to_hdf(\n",
    "    \"../data/processed/rmats_merge/rpl22_a_ko1.h5\", key=\"rmats\", mode=\"w\"\n",
    ")\n",
    "rpl22_a_ko2_rmats.to_hdf(\n",
    "    \"../data/processed/rmats_merge/rpl22_a_ko2.h5\", key=\"rmats\", mode=\"w\"\n",
    ")\n",
    "rpl22_b_ko1_rmats.to_hdf(\n",
    "    \"../data/processed/rmats_merge/rpl22_b_ko1.h5\", key=\"rmats\", mode=\"w\"\n",
    ")\n",
    "rpl22_b_ko2_rmats.to_hdf(\n",
    "    \"../data/processed/rmats_merge/rpl22_b_ko2.h5\", key=\"rmats\", mode=\"w\"\n",
    ")"
   ]
  },
  {
   "cell_type": "markdown",
   "metadata": {},
   "source": [
    "# Pull out SE events"
   ]
  },
  {
   "cell_type": "code",
   "execution_count": 53,
   "metadata": {
    "ExecuteTime": {
     "end_time": "2020-05-20T18:29:15.089870Z",
     "start_time": "2020-05-20T18:29:11.341737Z"
    }
   },
   "outputs": [],
   "source": [
    "def load_se(experiment):\n",
    "    se = pd.read_csv(\n",
    "        \"../data/raw/rmats_output/\" + experiment + \"/SE.MATS.JC.txt\",\n",
    "        sep=\"\\t\",\n",
    "        index_col=0,\n",
    "    )\n",
    "\n",
    "    se[\"exon_length\"] = se[\"exonEnd\"] - se[\"exonStart_0base\"]\n",
    "\n",
    "    se[\"exon_id\"] = concat_cols(\n",
    "        se,\n",
    "        [\n",
    "            \"chr\",\n",
    "            \"exonStart_0base\",\n",
    "            \"exonEnd\",\n",
    "            \"upstreamES\",\n",
    "            \"upstreamEE\",\n",
    "            \"downstreamES\",\n",
    "            \"downstreamEE\",\n",
    "        ],\n",
    "        \"_\",\n",
    "    )\n",
    "\n",
    "    se = se.set_index(\"exon_id\")\n",
    "    se = se.sort_values(by=\"FDR\")\n",
    "\n",
    "    return se\n",
    "\n",
    "\n",
    "rpl22_oe_se = load_se(\"rpl22_oe\")\n",
    "rpl22l1_oe_se = load_se(\"rpl22l1_oe\")\n",
    "rpl22l1_kd1_se = load_se(\"rpl22l1_kd1\")\n",
    "rpl22l1_kd2_se = load_se(\"rpl22l1_kd2\")\n",
    "rpl22_a_ko1_se = load_se(\"rpl22_a_ko1\")\n",
    "rpl22_a_ko2_se = load_se(\"rpl22_a_ko2\")\n",
    "rpl22_b_ko1_se = load_se(\"rpl22_b_ko1\")\n",
    "rpl22_b_ko2_se = load_se(\"rpl22_b_ko2\")"
   ]
  },
  {
   "cell_type": "code",
   "execution_count": 205,
   "metadata": {
    "ExecuteTime": {
     "end_time": "2020-05-20T20:52:12.685337Z",
     "start_time": "2020-05-20T20:52:12.333483Z"
    }
   },
   "outputs": [
    {
     "name": "stderr",
     "output_type": "stream",
     "text": [
      "/Users/khu/anaconda3/envs/cenv/lib/python3.7/site-packages/ipykernel_launcher.py:24: UserWarning: Boolean Series key will be reindexed to match DataFrame index.\n",
      "/Users/khu/anaconda3/envs/cenv/lib/python3.7/site-packages/ipykernel_launcher.py:25: UserWarning: Boolean Series key will be reindexed to match DataFrame index.\n"
     ]
    }
   ],
   "source": [
    "rpl22_a_exons = (rpl22_a_ko1_se[\"FDR\"] < 0.0001) & ((rpl22_a_ko2_se[\"FDR\"] < 0.0001))\n",
    "\n",
    "# rpl22_b_exons = (rpl22_b_ko1_se[\"FDR\"] < 0.0001) & (\n",
    "#     (rpl22_b_ko2_se[\"FDR\"] < 0.0001))\n",
    "\n",
    "# exon_filter = rpl22l1_oe_se[\"FDR\"] < 0.0001\n",
    "\n",
    "exon_filter = rpl22_a_exons\n",
    "\n",
    "padding = 100\n",
    "max_len = 1000\n",
    "\n",
    "exon_set = rpl22_a_ko1_se[\n",
    "    [\"chr\", \"exonStart_0base\", \"exonEnd\", \"strand\", \"exon_length\", \"geneSymbol\"]\n",
    "].copy(deep=True)\n",
    "exon_set = exon_set[exon_set[\"exon_length\"] <= max_len]\n",
    "\n",
    "exon_set[\"chr\"] = exon_set[\"chr\"].apply(lambda x: x[3:])\n",
    "exon_set[\"start\"] = exon_set[\"exonStart_0base\"] - padding\n",
    "exon_set[\"end\"] = exon_set[\"exonEnd\"] + padding\n",
    "exon_set[\"id\"] = exon_set.index\n",
    "exon_set[\"id\"] = exon_set[\"geneSymbol\"] + \"_\" + exon_set[\"id\"]\n",
    "\n",
    "pos_exons = exon_set[exon_filter]\n",
    "neg_exons = exon_set[~exon_filter].sample(5000)\n",
    "\n",
    "pos_exons[[\"chr\", \"start\", \"end\", \"id\", \"exon_length\", \"strand\"]].to_csv(\n",
    "    \"../data/intermediate/rpl22_a_ko1_se_pos.bed\", sep=\"\\t\", header=False, index=False\n",
    ")\n",
    "neg_exons[[\"chr\", \"start\", \"end\", \"id\", \"exon_length\", \"strand\"]].to_csv(\n",
    "    \"../data/intermediate/rpl22_a_ko1_se_neg.bed\", sep=\"\\t\", header=False, index=False\n",
    ")"
   ]
  },
  {
   "cell_type": "code",
   "execution_count": 206,
   "metadata": {
    "ExecuteTime": {
     "end_time": "2020-05-20T20:52:14.639068Z",
     "start_time": "2020-05-20T20:52:13.573293Z"
    }
   },
   "outputs": [],
   "source": [
    "!bedtools getfasta -s -name \\\n",
    "    -fi ../data/raw/reference/hg19.fa -bed \\\n",
    "    ../data/intermediate/rpl22_a_ko1_se_pos.bed \\\n",
    "    > ../data/intermediate/rpl22_a_ko1_se_pos.fasta\n",
    "\n",
    "!bedtools getfasta -s -name \\\n",
    "    -fi ../data/raw/reference/hg19.fa -bed \\\n",
    "    ../data/intermediate/rpl22_a_ko1_se_neg.bed \\\n",
    "    > ../data/intermediate/rpl22_a_ko1_se_neg.fasta"
   ]
  },
  {
   "cell_type": "code",
   "execution_count": 199,
   "metadata": {
    "ExecuteTime": {
     "end_time": "2020-05-20T20:50:47.834731Z",
     "start_time": "2020-05-20T20:50:47.813534Z"
    }
   },
   "outputs": [],
   "source": [
    "res = pd.read_csv(\n",
    "    \"/Users/khu/Desktop/lsgkm-master/bin/test.cvpred.txt\",\n",
    "    sep=\"\\t\",\n",
    "    names=[\"id\", \"pred\", \"true\", \"fold\"],\n",
    ")"
   ]
  }
 ],
 "metadata": {
  "kernelspec": {
   "display_name": "Python 3",
   "language": "python",
   "name": "python3"
  },
  "language_info": {
   "codemirror_mode": {
    "name": "ipython",
    "version": 3
   },
   "file_extension": ".py",
   "mimetype": "text/x-python",
   "name": "python",
   "nbconvert_exporter": "python",
   "pygments_lexer": "ipython3",
   "version": "3.8.3"
  },
  "toc": {
   "base_numbering": 1,
   "nav_menu": {},
   "number_sections": true,
   "sideBar": true,
   "skip_h1_title": false,
   "title_cell": "Table of Contents",
   "title_sidebar": "Contents",
   "toc_cell": false,
   "toc_position": {},
   "toc_section_display": true,
   "toc_window_display": true
  }
 },
 "nbformat": 4,
 "nbformat_minor": 2
}
