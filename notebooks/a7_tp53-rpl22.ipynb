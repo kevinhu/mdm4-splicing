{
 "cells": [
  {
   "cell_type": "code",
   "execution_count": 14,
   "metadata": {
    "ExecuteTime": {
     "end_time": "2020-11-24T22:12:52.293842Z",
     "start_time": "2020-11-24T22:12:52.290607Z"
    }
   },
   "outputs": [],
   "source": [
    "import numpy as np\n",
    "import pandas as pd\n",
    "\n",
    "import matplotlib.pyplot as plt\n",
    "import matplotlib as mpl\n",
    "import seaborn as sns\n",
    "\n",
    "import cancer_data\n",
    "import many\n",
    "\n",
    "import config\n",
    "\n",
    "config.config_visuals()"
   ]
  },
  {
   "cell_type": "code",
   "execution_count": 15,
   "metadata": {
    "ExecuteTime": {
     "end_time": "2020-11-24T22:12:53.228625Z",
     "start_time": "2020-11-24T22:12:53.182145Z"
    }
   },
   "outputs": [],
   "source": [
    "merged_tcga_info = pd.read_csv(\"../data/supplementary/S2_merged-tcga-info.txt\", sep=\"\\t\",index_col=0)"
   ]
  },
  {
   "cell_type": "code",
   "execution_count": 29,
   "metadata": {
    "ExecuteTime": {
     "end_time": "2020-11-24T22:16:23.795400Z",
     "start_time": "2020-11-24T22:16:23.673153Z"
    }
   },
   "outputs": [
    {
     "name": "stdout",
     "output_type": "stream",
     "text": [
      "Odds ratio: 1.9625615763546798\n",
      "P-value: 0.022752755328236868\n"
     ]
    },
    {
     "data": {
      "text/plain": [
       "<AxesSubplot:xlabel='TP53_mutation_type', ylabel='RPL22_k15fs_mutation'>"
      ]
     },
     "execution_count": 29,
     "metadata": {},
     "output_type": "execute_result"
    },
    {
     "data": {
      "image/png": "[encoded data removed]",
      "text/plain": [
       "<Figure size 288x288 with 1 Axes>"
      ]
     },
     "metadata": {},
     "output_type": "display_data"
    }
   ],
   "source": [
    "subset = merged_tcga_info[merged_tcga_info[\"Primary_disease\"]==\"stomach adenocarcinoma\"]\n",
    "\n",
    "many.visuals.binary_contingency(subset[\"RPL22_k15fs_mutation\"],\n",
    "                                subset[\"TP53_mutation_type\"].dropna()==\"WT\")"
   ]
  },
  {
   "cell_type": "code",
   "execution_count": 30,
   "metadata": {
    "ExecuteTime": {
     "end_time": "2020-11-24T22:16:41.398951Z",
     "start_time": "2020-11-24T22:16:41.287667Z"
    }
   },
   "outputs": [
    {
     "name": "stdout",
     "output_type": "stream",
     "text": [
      "Odds ratio: 1.9615384615384615\n",
      "P-value: 0.09815391299754375\n"
     ]
    },
    {
     "data": {
      "text/plain": [
       "<AxesSubplot:xlabel='TP53_mutation_type', ylabel='RPL22_k15fs_mutation'>"
      ]
     },
     "execution_count": 30,
     "metadata": {},
     "output_type": "execute_result"
    },
    {
     "data": {
      "image/png": "[encoded data removed]",
      "text/plain": [
       "<Figure size 288x288 with 1 Axes>"
      ]
     },
     "metadata": {},
     "output_type": "display_data"
    }
   ],
   "source": [
    "subset = merged_tcga_info[merged_tcga_info[\"Primary_disease\"]==\"colon adenocarcinoma\"]\n",
    "\n",
    "many.visuals.binary_contingency(subset[\"RPL22_k15fs_mutation\"],\n",
    "                                subset[\"TP53_mutation_type\"].dropna()==\"WT\")"
   ]
  },
  {
   "cell_type": "code",
   "execution_count": 32,
   "metadata": {
    "ExecuteTime": {
     "end_time": "2020-11-24T22:17:10.438019Z",
     "start_time": "2020-11-24T22:17:10.329822Z"
    }
   },
   "outputs": [
    {
     "name": "stdout",
     "output_type": "stream",
     "text": [
      "Odds ratio: 0.09184574624668826\n",
      "P-value: 0.001628620390381896\n"
     ]
    },
    {
     "data": {
      "text/plain": [
       "<AxesSubplot:xlabel='TP53_mutation_type', ylabel='RPL22_k15fs_mutation'>"
      ]
     },
     "execution_count": 32,
     "metadata": {},
     "output_type": "execute_result"
    },
    {
     "data": {
      "image/png": "[encoded data removed]",
      "text/plain": [
       "<Figure size 288x288 with 1 Axes>"
      ]
     },
     "metadata": {},
     "output_type": "display_data"
    }
   ],
   "source": [
    "subset = merged_tcga_info[merged_tcga_info[\"Primary_disease\"]==\"uterine corpus endometrioid carcinoma\"]\n",
    "\n",
    "many.visuals.binary_contingency(subset[\"RPL22_k15fs_mutation\"],\n",
    "                                subset[\"TP53_mutation_type\"].dropna()!=\"WT\")"
   ]
  },
  {
   "cell_type": "code",
   "execution_count": 84,
   "metadata": {
    "ExecuteTime": {
     "end_time": "2020-11-24T23:02:26.505326Z",
     "start_time": "2020-11-24T23:02:26.500506Z"
    }
   },
   "outputs": [
    {
     "data": {
      "text/plain": [
       "TCGA-01-0628-11      NaN\n",
       "TCGA-01-0629-11      NaN\n",
       "TCGA-01-0630-11      NaN\n",
       "TCGA-01-0631-11      NaN\n",
       "TCGA-01-0633-11      NaN\n",
       "                   ...  \n",
       "TCGA-ZS-A9CG-01    False\n",
       "TCGA-ZT-A8OM-01    False\n",
       "TCGA-ZU-A8S4-01    False\n",
       "TCGA-ZU-A8S4-11      NaN\n",
       "TCGA-ZX-AA5X-01    False\n",
       "Name: RPL22_any_mutation, Length: 12833, dtype: object"
      ]
     },
     "execution_count": 84,
     "metadata": {},
     "output_type": "execute_result"
    }
   ],
   "source": [
    "merged_tcga_info[\"RPL22_any_mutation\"]"
   ]
  },
  {
   "cell_type": "code",
   "execution_count": 130,
   "metadata": {
    "ExecuteTime": {
     "end_time": "2020-11-24T23:13:07.968146Z",
     "start_time": "2020-11-24T23:13:07.932137Z"
    }
   },
   "outputs": [
    {
     "data": {
      "text/html": [
       "<div>\n",
       "<style scoped>\n",
       "    .dataframe tbody tr th:only-of-type {\n",
       "        vertical-align: middle;\n",
       "    }\n",
       "\n",
       "    .dataframe tbody tr th {\n",
       "        vertical-align: top;\n",
       "    }\n",
       "\n",
       "    .dataframe thead th {\n",
       "        text-align: right;\n",
       "    }\n",
       "</style>\n",
       "<table border=\"1\" class=\"dataframe\">\n",
       "  <thead>\n",
       "    <tr style=\"text-align: right;\">\n",
       "      <th></th>\n",
       "      <th>Sample_type</th>\n",
       "      <th>Primary_disease</th>\n",
       "      <th>Abbreviated_disease</th>\n",
       "      <th>TP53_mutation_type</th>\n",
       "      <th>RPL22_k15fs_mutation</th>\n",
       "      <th>RPL22_any_mutation</th>\n",
       "      <th>MANTIS_score</th>\n",
       "      <th>MSI</th>\n",
       "      <th>MDM4_exon_6_inclusion</th>\n",
       "      <th>RPL22L1_exon_3A_inclusion</th>\n",
       "      <th>...</th>\n",
       "      <th>TP53_copy_number</th>\n",
       "      <th>MDM2_copy_number</th>\n",
       "      <th>MDM4_copy_number</th>\n",
       "      <th>RPL22_copy_number</th>\n",
       "      <th>RPL22L1_copy_number</th>\n",
       "      <th>TP53_copy_number_thresholded</th>\n",
       "      <th>MDM2_copy_number_thresholded</th>\n",
       "      <th>MDM4_copy_number_thresholded</th>\n",
       "      <th>RPL22_copy_number_thresholded</th>\n",
       "      <th>RPL22L1_copy_number_thresholded</th>\n",
       "    </tr>\n",
       "  </thead>\n",
       "  <tbody>\n",
       "    <tr>\n",
       "      <th>TCGA-01-0628-11</th>\n",
       "      <td>Solid Tissue Normal</td>\n",
       "      <td>ovarian serous cystadenocarcinoma</td>\n",
       "      <td>OV</td>\n",
       "      <td>NaN</td>\n",
       "      <td>NaN</td>\n",
       "      <td>NaN</td>\n",
       "      <td>NaN</td>\n",
       "      <td>NaN</td>\n",
       "      <td>NaN</td>\n",
       "      <td>NaN</td>\n",
       "      <td>...</td>\n",
       "      <td>NaN</td>\n",
       "      <td>NaN</td>\n",
       "      <td>NaN</td>\n",
       "      <td>NaN</td>\n",
       "      <td>NaN</td>\n",
       "      <td>NaN</td>\n",
       "      <td>NaN</td>\n",
       "      <td>NaN</td>\n",
       "      <td>NaN</td>\n",
       "      <td>NaN</td>\n",
       "    </tr>\n",
       "    <tr>\n",
       "      <th>TCGA-01-0629-11</th>\n",
       "      <td>NaN</td>\n",
       "      <td>ovarian serous cystadenocarcinoma</td>\n",
       "      <td>OV</td>\n",
       "      <td>NaN</td>\n",
       "      <td>NaN</td>\n",
       "      <td>NaN</td>\n",
       "      <td>NaN</td>\n",
       "      <td>NaN</td>\n",
       "      <td>NaN</td>\n",
       "      <td>NaN</td>\n",
       "      <td>...</td>\n",
       "      <td>NaN</td>\n",
       "      <td>NaN</td>\n",
       "      <td>NaN</td>\n",
       "      <td>NaN</td>\n",
       "      <td>NaN</td>\n",
       "      <td>NaN</td>\n",
       "      <td>NaN</td>\n",
       "      <td>NaN</td>\n",
       "      <td>NaN</td>\n",
       "      <td>NaN</td>\n",
       "    </tr>\n",
       "    <tr>\n",
       "      <th>TCGA-01-0630-11</th>\n",
       "      <td>Solid Tissue Normal</td>\n",
       "      <td>ovarian serous cystadenocarcinoma</td>\n",
       "      <td>OV</td>\n",
       "      <td>NaN</td>\n",
       "      <td>NaN</td>\n",
       "      <td>NaN</td>\n",
       "      <td>NaN</td>\n",
       "      <td>NaN</td>\n",
       "      <td>NaN</td>\n",
       "      <td>NaN</td>\n",
       "      <td>...</td>\n",
       "      <td>NaN</td>\n",
       "      <td>NaN</td>\n",
       "      <td>NaN</td>\n",
       "      <td>NaN</td>\n",
       "      <td>NaN</td>\n",
       "      <td>NaN</td>\n",
       "      <td>NaN</td>\n",
       "      <td>NaN</td>\n",
       "      <td>NaN</td>\n",
       "      <td>NaN</td>\n",
       "    </tr>\n",
       "    <tr>\n",
       "      <th>TCGA-01-0631-11</th>\n",
       "      <td>Solid Tissue Normal</td>\n",
       "      <td>ovarian serous cystadenocarcinoma</td>\n",
       "      <td>OV</td>\n",
       "      <td>NaN</td>\n",
       "      <td>NaN</td>\n",
       "      <td>NaN</td>\n",
       "      <td>NaN</td>\n",
       "      <td>NaN</td>\n",
       "      <td>NaN</td>\n",
       "      <td>NaN</td>\n",
       "      <td>...</td>\n",
       "      <td>NaN</td>\n",
       "      <td>NaN</td>\n",
       "      <td>NaN</td>\n",
       "      <td>NaN</td>\n",
       "      <td>NaN</td>\n",
       "      <td>NaN</td>\n",
       "      <td>NaN</td>\n",
       "      <td>NaN</td>\n",
       "      <td>NaN</td>\n",
       "      <td>NaN</td>\n",
       "    </tr>\n",
       "    <tr>\n",
       "      <th>TCGA-01-0633-11</th>\n",
       "      <td>Solid Tissue Normal</td>\n",
       "      <td>ovarian serous cystadenocarcinoma</td>\n",
       "      <td>OV</td>\n",
       "      <td>NaN</td>\n",
       "      <td>NaN</td>\n",
       "      <td>NaN</td>\n",
       "      <td>NaN</td>\n",
       "      <td>NaN</td>\n",
       "      <td>NaN</td>\n",
       "      <td>NaN</td>\n",
       "      <td>...</td>\n",
       "      <td>NaN</td>\n",
       "      <td>NaN</td>\n",
       "      <td>NaN</td>\n",
       "      <td>NaN</td>\n",
       "      <td>NaN</td>\n",
       "      <td>NaN</td>\n",
       "      <td>NaN</td>\n",
       "      <td>NaN</td>\n",
       "      <td>NaN</td>\n",
       "      <td>NaN</td>\n",
       "    </tr>\n",
       "    <tr>\n",
       "      <th>...</th>\n",
       "      <td>...</td>\n",
       "      <td>...</td>\n",
       "      <td>...</td>\n",
       "      <td>...</td>\n",
       "      <td>...</td>\n",
       "      <td>...</td>\n",
       "      <td>...</td>\n",
       "      <td>...</td>\n",
       "      <td>...</td>\n",
       "      <td>...</td>\n",
       "      <td>...</td>\n",
       "      <td>...</td>\n",
       "      <td>...</td>\n",
       "      <td>...</td>\n",
       "      <td>...</td>\n",
       "      <td>...</td>\n",
       "      <td>...</td>\n",
       "      <td>...</td>\n",
       "      <td>...</td>\n",
       "      <td>...</td>\n",
       "      <td>...</td>\n",
       "    </tr>\n",
       "    <tr>\n",
       "      <th>TCGA-ZS-A9CG-01</th>\n",
       "      <td>Primary Tumor</td>\n",
       "      <td>liver hepatocellular carcinoma</td>\n",
       "      <td>LIHC</td>\n",
       "      <td>WT</td>\n",
       "      <td>False</td>\n",
       "      <td>False</td>\n",
       "      <td>0.2993</td>\n",
       "      <td>False</td>\n",
       "      <td>NaN</td>\n",
       "      <td>0.293</td>\n",
       "      <td>...</td>\n",
       "      <td>-0.028</td>\n",
       "      <td>0.009</td>\n",
       "      <td>0.750</td>\n",
       "      <td>0.017</td>\n",
       "      <td>-0.016</td>\n",
       "      <td>0.0</td>\n",
       "      <td>0.0</td>\n",
       "      <td>1.0</td>\n",
       "      <td>0.0</td>\n",
       "      <td>0.0</td>\n",
       "    </tr>\n",
       "    <tr>\n",
       "      <th>TCGA-ZT-A8OM-01</th>\n",
       "      <td>Primary Tumor</td>\n",
       "      <td>thymoma</td>\n",
       "      <td>THYM</td>\n",
       "      <td>WT</td>\n",
       "      <td>False</td>\n",
       "      <td>False</td>\n",
       "      <td>0.3268</td>\n",
       "      <td>False</td>\n",
       "      <td>NaN</td>\n",
       "      <td>0.619</td>\n",
       "      <td>...</td>\n",
       "      <td>0.005</td>\n",
       "      <td>0.005</td>\n",
       "      <td>-0.001</td>\n",
       "      <td>-0.001</td>\n",
       "      <td>0.001</td>\n",
       "      <td>0.0</td>\n",
       "      <td>0.0</td>\n",
       "      <td>0.0</td>\n",
       "      <td>0.0</td>\n",
       "      <td>0.0</td>\n",
       "    </tr>\n",
       "    <tr>\n",
       "      <th>TCGA-ZU-A8S4-01</th>\n",
       "      <td>Primary Tumor</td>\n",
       "      <td>cholangiocarcinoma</td>\n",
       "      <td>CHOL</td>\n",
       "      <td>WT</td>\n",
       "      <td>False</td>\n",
       "      <td>False</td>\n",
       "      <td>0.3186</td>\n",
       "      <td>False</td>\n",
       "      <td>NaN</td>\n",
       "      <td>0.701</td>\n",
       "      <td>...</td>\n",
       "      <td>-0.021</td>\n",
       "      <td>0.013</td>\n",
       "      <td>-0.001</td>\n",
       "      <td>-0.318</td>\n",
       "      <td>0.002</td>\n",
       "      <td>0.0</td>\n",
       "      <td>0.0</td>\n",
       "      <td>0.0</td>\n",
       "      <td>-1.0</td>\n",
       "      <td>0.0</td>\n",
       "    </tr>\n",
       "    <tr>\n",
       "      <th>TCGA-ZU-A8S4-11</th>\n",
       "      <td>Solid Tissue Normal</td>\n",
       "      <td>cholangiocarcinoma</td>\n",
       "      <td>CHOL</td>\n",
       "      <td>NaN</td>\n",
       "      <td>NaN</td>\n",
       "      <td>NaN</td>\n",
       "      <td>NaN</td>\n",
       "      <td>NaN</td>\n",
       "      <td>NaN</td>\n",
       "      <td>NaN</td>\n",
       "      <td>...</td>\n",
       "      <td>NaN</td>\n",
       "      <td>NaN</td>\n",
       "      <td>NaN</td>\n",
       "      <td>NaN</td>\n",
       "      <td>NaN</td>\n",
       "      <td>NaN</td>\n",
       "      <td>NaN</td>\n",
       "      <td>NaN</td>\n",
       "      <td>NaN</td>\n",
       "      <td>NaN</td>\n",
       "    </tr>\n",
       "    <tr>\n",
       "      <th>TCGA-ZX-AA5X-01</th>\n",
       "      <td>Primary Tumor</td>\n",
       "      <td>cervical &amp; endocervical cancer</td>\n",
       "      <td>CESC</td>\n",
       "      <td>WT</td>\n",
       "      <td>False</td>\n",
       "      <td>False</td>\n",
       "      <td>0.3290</td>\n",
       "      <td>False</td>\n",
       "      <td>NaN</td>\n",
       "      <td>0.747</td>\n",
       "      <td>...</td>\n",
       "      <td>-0.371</td>\n",
       "      <td>-0.018</td>\n",
       "      <td>0.330</td>\n",
       "      <td>0.400</td>\n",
       "      <td>0.050</td>\n",
       "      <td>-1.0</td>\n",
       "      <td>0.0</td>\n",
       "      <td>1.0</td>\n",
       "      <td>1.0</td>\n",
       "      <td>0.0</td>\n",
       "    </tr>\n",
       "  </tbody>\n",
       "</table>\n",
       "<p>12833 rows × 25 columns</p>\n",
       "</div>"
      ],
      "text/plain": [
       "                         Sample_type                    Primary_disease  \\\n",
       "TCGA-01-0628-11  Solid Tissue Normal  ovarian serous cystadenocarcinoma   \n",
       "TCGA-01-0629-11                  NaN  ovarian serous cystadenocarcinoma   \n",
       "TCGA-01-0630-11  Solid Tissue Normal  ovarian serous cystadenocarcinoma   \n",
       "TCGA-01-0631-11  Solid Tissue Normal  ovarian serous cystadenocarcinoma   \n",
       "TCGA-01-0633-11  Solid Tissue Normal  ovarian serous cystadenocarcinoma   \n",
       "...                              ...                                ...   \n",
       "TCGA-ZS-A9CG-01        Primary Tumor     liver hepatocellular carcinoma   \n",
       "TCGA-ZT-A8OM-01        Primary Tumor                            thymoma   \n",
       "TCGA-ZU-A8S4-01        Primary Tumor                 cholangiocarcinoma   \n",
       "TCGA-ZU-A8S4-11  Solid Tissue Normal                 cholangiocarcinoma   \n",
       "TCGA-ZX-AA5X-01        Primary Tumor     cervical & endocervical cancer   \n",
       "\n",
       "                Abbreviated_disease TP53_mutation_type RPL22_k15fs_mutation  \\\n",
       "TCGA-01-0628-11                  OV                NaN                  NaN   \n",
       "TCGA-01-0629-11                  OV                NaN                  NaN   \n",
       "TCGA-01-0630-11                  OV                NaN                  NaN   \n",
       "TCGA-01-0631-11                  OV                NaN                  NaN   \n",
       "TCGA-01-0633-11                  OV                NaN                  NaN   \n",
       "...                             ...                ...                  ...   \n",
       "TCGA-ZS-A9CG-01                LIHC                 WT                False   \n",
       "TCGA-ZT-A8OM-01                THYM                 WT                False   \n",
       "TCGA-ZU-A8S4-01                CHOL                 WT                False   \n",
       "TCGA-ZU-A8S4-11                CHOL                NaN                  NaN   \n",
       "TCGA-ZX-AA5X-01                CESC                 WT                False   \n",
       "\n",
       "                RPL22_any_mutation  MANTIS_score    MSI  \\\n",
       "TCGA-01-0628-11                NaN           NaN    NaN   \n",
       "TCGA-01-0629-11                NaN           NaN    NaN   \n",
       "TCGA-01-0630-11                NaN           NaN    NaN   \n",
       "TCGA-01-0631-11                NaN           NaN    NaN   \n",
       "TCGA-01-0633-11                NaN           NaN    NaN   \n",
       "...                            ...           ...    ...   \n",
       "TCGA-ZS-A9CG-01              False        0.2993  False   \n",
       "TCGA-ZT-A8OM-01              False        0.3268  False   \n",
       "TCGA-ZU-A8S4-01              False        0.3186  False   \n",
       "TCGA-ZU-A8S4-11                NaN           NaN    NaN   \n",
       "TCGA-ZX-AA5X-01              False        0.3290  False   \n",
       "\n",
       "                 MDM4_exon_6_inclusion  RPL22L1_exon_3A_inclusion  ...  \\\n",
       "TCGA-01-0628-11                    NaN                        NaN  ...   \n",
       "TCGA-01-0629-11                    NaN                        NaN  ...   \n",
       "TCGA-01-0630-11                    NaN                        NaN  ...   \n",
       "TCGA-01-0631-11                    NaN                        NaN  ...   \n",
       "TCGA-01-0633-11                    NaN                        NaN  ...   \n",
       "...                                ...                        ...  ...   \n",
       "TCGA-ZS-A9CG-01                    NaN                      0.293  ...   \n",
       "TCGA-ZT-A8OM-01                    NaN                      0.619  ...   \n",
       "TCGA-ZU-A8S4-01                    NaN                      0.701  ...   \n",
       "TCGA-ZU-A8S4-11                    NaN                        NaN  ...   \n",
       "TCGA-ZX-AA5X-01                    NaN                      0.747  ...   \n",
       "\n",
       "                 TP53_copy_number  MDM2_copy_number  MDM4_copy_number  \\\n",
       "TCGA-01-0628-11               NaN               NaN               NaN   \n",
       "TCGA-01-0629-11               NaN               NaN               NaN   \n",
       "TCGA-01-0630-11               NaN               NaN               NaN   \n",
       "TCGA-01-0631-11               NaN               NaN               NaN   \n",
       "TCGA-01-0633-11               NaN               NaN               NaN   \n",
       "...                           ...               ...               ...   \n",
       "TCGA-ZS-A9CG-01            -0.028             0.009             0.750   \n",
       "TCGA-ZT-A8OM-01             0.005             0.005            -0.001   \n",
       "TCGA-ZU-A8S4-01            -0.021             0.013            -0.001   \n",
       "TCGA-ZU-A8S4-11               NaN               NaN               NaN   \n",
       "TCGA-ZX-AA5X-01            -0.371            -0.018             0.330   \n",
       "\n",
       "                 RPL22_copy_number  RPL22L1_copy_number  \\\n",
       "TCGA-01-0628-11                NaN                  NaN   \n",
       "TCGA-01-0629-11                NaN                  NaN   \n",
       "TCGA-01-0630-11                NaN                  NaN   \n",
       "TCGA-01-0631-11                NaN                  NaN   \n",
       "TCGA-01-0633-11                NaN                  NaN   \n",
       "...                            ...                  ...   \n",
       "TCGA-ZS-A9CG-01              0.017               -0.016   \n",
       "TCGA-ZT-A8OM-01             -0.001                0.001   \n",
       "TCGA-ZU-A8S4-01             -0.318                0.002   \n",
       "TCGA-ZU-A8S4-11                NaN                  NaN   \n",
       "TCGA-ZX-AA5X-01              0.400                0.050   \n",
       "\n",
       "                 TP53_copy_number_thresholded  MDM2_copy_number_thresholded  \\\n",
       "TCGA-01-0628-11                           NaN                           NaN   \n",
       "TCGA-01-0629-11                           NaN                           NaN   \n",
       "TCGA-01-0630-11                           NaN                           NaN   \n",
       "TCGA-01-0631-11                           NaN                           NaN   \n",
       "TCGA-01-0633-11                           NaN                           NaN   \n",
       "...                                       ...                           ...   \n",
       "TCGA-ZS-A9CG-01                           0.0                           0.0   \n",
       "TCGA-ZT-A8OM-01                           0.0                           0.0   \n",
       "TCGA-ZU-A8S4-01                           0.0                           0.0   \n",
       "TCGA-ZU-A8S4-11                           NaN                           NaN   \n",
       "TCGA-ZX-AA5X-01                          -1.0                           0.0   \n",
       "\n",
       "                 MDM4_copy_number_thresholded  RPL22_copy_number_thresholded  \\\n",
       "TCGA-01-0628-11                           NaN                            NaN   \n",
       "TCGA-01-0629-11                           NaN                            NaN   \n",
       "TCGA-01-0630-11                           NaN                            NaN   \n",
       "TCGA-01-0631-11                           NaN                            NaN   \n",
       "TCGA-01-0633-11                           NaN                            NaN   \n",
       "...                                       ...                            ...   \n",
       "TCGA-ZS-A9CG-01                           1.0                            0.0   \n",
       "TCGA-ZT-A8OM-01                           0.0                            0.0   \n",
       "TCGA-ZU-A8S4-01                           0.0                           -1.0   \n",
       "TCGA-ZU-A8S4-11                           NaN                            NaN   \n",
       "TCGA-ZX-AA5X-01                           1.0                            1.0   \n",
       "\n",
       "                 RPL22L1_copy_number_thresholded  \n",
       "TCGA-01-0628-11                              NaN  \n",
       "TCGA-01-0629-11                              NaN  \n",
       "TCGA-01-0630-11                              NaN  \n",
       "TCGA-01-0631-11                              NaN  \n",
       "TCGA-01-0633-11                              NaN  \n",
       "...                                          ...  \n",
       "TCGA-ZS-A9CG-01                              0.0  \n",
       "TCGA-ZT-A8OM-01                              0.0  \n",
       "TCGA-ZU-A8S4-01                              0.0  \n",
       "TCGA-ZU-A8S4-11                              NaN  \n",
       "TCGA-ZX-AA5X-01                              0.0  \n",
       "\n",
       "[12833 rows x 25 columns]"
      ]
     },
     "execution_count": 130,
     "metadata": {},
     "output_type": "execute_result"
    }
   ],
   "source": [
    "merged_tcga_info"
   ]
  },
  {
   "cell_type": "code",
   "execution_count": 162,
   "metadata": {
    "ExecuteTime": {
     "end_time": "2020-11-24T23:42:26.500922Z",
     "start_time": "2020-11-24T23:42:25.756707Z"
    }
   },
   "outputs": [
    {
     "data": {
      "image/png": "[encoded data removed]",
      "text/plain": [
       "<Figure size 864x432 with 3 Axes>"
      ]
     },
     "metadata": {},
     "output_type": "display_data"
    }
   ],
   "source": [
    "def plot_subset(subset_type=None, ax=None, heatmap_kwargs={}):\n",
    "\n",
    "    if ax is None:\n",
    "\n",
    "        plt.figure(figsize=(12, 2))\n",
    "        ax = plt.subplot(111)\n",
    "\n",
    "    if subset_type is None:\n",
    "\n",
    "        subset = merged_tcga_info[\n",
    "            merged_tcga_info[\"Sample_type\"] == \"Primary Tumor\"\n",
    "        ].copy()\n",
    "\n",
    "    else:\n",
    "\n",
    "        subset = merged_tcga_info[\n",
    "            (merged_tcga_info[\"Primary_disease\"] == subset_type)\n",
    "            & (merged_tcga_info[\"Sample_type\"] == \"Primary Tumor\")\n",
    "        ].copy()\n",
    "\n",
    "    # define TP53 altered\n",
    "    subset[\"TP53_mut\"] = subset[\"TP53_mutation_type\"].dropna() != \"WT\"\n",
    "    subset[\"TP53_del\"] = subset[\"TP53_copy_number_thresholded\"].dropna() <= -1\n",
    "\n",
    "    # drop missing annotations\n",
    "    subset = subset[[\"TP53_del\", \"TP53_mut\", \"RPL22_k15fs_mutation\"]].dropna()\n",
    "\n",
    "    # sort before plotting\n",
    "    subset = subset.sort_values(\n",
    "        [\"TP53_mut\", \"TP53_del\", \"RPL22_k15fs_mutation\"], ascending=False\n",
    "    )\n",
    "\n",
    "    subset[\"RPL22_k15fs_mutation\"] *= 2\n",
    "\n",
    "    sns.heatmap(\n",
    "        subset[[\"TP53_del\", \"TP53_mut\", \"RPL22_k15fs_mutation\"]].astype(int).T,\n",
    "        cbar=False,\n",
    "        xticklabels=False,\n",
    "        cmap=sns.color_palette([\"whitesmoke\", \"black\", \"#c05555\"]),\n",
    "        ax=ax,\n",
    "        **heatmap_kwargs,\n",
    "    )\n",
    "\n",
    "    # set tick labels\n",
    "    ax.set_yticklabels([\"TP53 deletion\", \"TP53 mutation\", \"RPL22 k15fs\"])\n",
    "    ax.tick_params(axis=\"both\", which=\"both\", length=0)\n",
    "\n",
    "    if subset_type:\n",
    "\n",
    "        ax.set_title(f\"{subset_type.capitalize()} (n={len(subset)})\")\n",
    "\n",
    "\n",
    "fig, axes = plt.subplots(3, 1, figsize=(12, 6))\n",
    "\n",
    "heatmap_kwargs = {\"linewidth\": 0.25}\n",
    "\n",
    "plot_subset(\"colon adenocarcinoma\", ax=axes[0], heatmap_kwargs=heatmap_kwargs)\n",
    "plot_subset(\"stomach adenocarcinoma\", ax=axes[1], heatmap_kwargs=heatmap_kwargs)\n",
    "plot_subset(\n",
    "    \"uterine corpus endometrioid carcinoma\", ax=axes[2], heatmap_kwargs=heatmap_kwargs\n",
    ")\n",
    "\n",
    "plt.subplots_adjust(hspace=0.5)\n",
    "\n",
    "plt.savefig(\"../plots/TP53-RPL22k15.pdf\", bbox_inches=\"tight\")"
   ]
  }
 ],
 "metadata": {
  "kernelspec": {
   "display_name": "Python 3",
   "language": "python",
   "name": "python3"
  },
  "language_info": {
   "codemirror_mode": {
    "name": "ipython",
    "version": 3
   },
   "file_extension": ".py",
   "mimetype": "text/x-python",
   "name": "python",
   "nbconvert_exporter": "python",
   "pygments_lexer": "ipython3",
   "version": "3.8.6"
  },
  "toc": {
   "base_numbering": 1,
   "nav_menu": {},
   "number_sections": true,
   "sideBar": true,
   "skip_h1_title": false,
   "title_cell": "Table of Contents",
   "title_sidebar": "Contents",
   "toc_cell": false,
   "toc_position": {},
   "toc_section_display": true,
   "toc_window_display": false
  }
 },
 "nbformat": 4,
 "nbformat_minor": 4
}
