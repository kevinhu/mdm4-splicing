{
 "cells": [
  {
   "cell_type": "code",
   "execution_count": 1,
   "metadata": {
    "ExecuteTime": {
     "end_time": "2021-05-02T17:00:04.055357Z",
     "start_time": "2021-05-02T17:00:02.913437Z"
    }
   },
   "outputs": [],
   "source": [
    "import numpy as np\n",
    "import pandas as pd\n",
    "\n",
    "from statsmodels.stats.multitest import multipletests\n",
    "\n",
    "import gc\n",
    "\n",
    "import matplotlib.pyplot as plt\n",
    "import matplotlib as mpl\n",
    "import seaborn as sns\n",
    "\n",
    "import cancer_data\n",
    "import many\n",
    "\n",
    "import config\n",
    "config.config_visuals()\n",
    "\n",
    "import stackprinter\n",
    "stackprinter.set_excepthook(style='lightbg')"
   ]
  },
  {
   "cell_type": "markdown",
   "metadata": {},
   "source": [
    "# Load data"
   ]
  },
  {
   "cell_type": "markdown",
   "metadata": {},
   "source": [
    "## Merged TCGA info"
   ]
  },
  {
   "cell_type": "code",
   "execution_count": 2,
   "metadata": {
    "ExecuteTime": {
     "end_time": "2021-05-02T17:00:04.263390Z",
     "start_time": "2021-05-02T17:00:04.209191Z"
    }
   },
   "outputs": [],
   "source": [
    "merged_tcga_info = pd.read_csv(\n",
    "    \"../data/supplementary/S2_merged-tcga-info.txt\", sep=\"\\t\", index_col=0\n",
    ")\n",
    "\n",
    "tcga_msi = merged_tcga_info[merged_tcga_info[\"MSI\"]==True]"
   ]
  },
  {
   "cell_type": "markdown",
   "metadata": {},
   "source": [
    "## TCGA gene expression"
   ]
  },
  {
   "cell_type": "code",
   "execution_count": 3,
   "metadata": {
    "ExecuteTime": {
     "end_time": "2021-05-02T17:00:29.252928Z",
     "start_time": "2021-05-02T17:00:05.844833Z"
    }
   },
   "outputs": [
    {
     "name": "stderr",
     "output_type": "stream",
     "text": [
      "INFO:numexpr.utils:Note: NumExpr detected 16 cores but \"NUMEXPR_MAX_THREADS\" not set, so enforcing safe limit of 8.\n",
      "INFO:numexpr.utils:NumExpr defaulting to 8 threads.\n"
     ]
    }
   ],
   "source": [
    "tcga_genex = cancer_data.load(\"tcga_normalized_gene_expression\")\n",
    "\n",
    "normal_genex = tcga_genex[tcga_genex.index.map(lambda x: x[-2:] == \"11\")]\n",
    "tcga_genex = tcga_genex[tcga_genex.index.map(lambda x: x[-2:] != \"11\")]"
   ]
  },
  {
   "cell_type": "markdown",
   "metadata": {
    "ExecuteTime": {
     "end_time": "2020-12-18T00:03:55.815489Z",
     "start_time": "2020-12-17T23:59:06.639321Z"
    }
   },
   "source": [
    "## TCGA splicing"
   ]
  },
  {
   "cell_type": "code",
   "execution_count": 4,
   "metadata": {
    "ExecuteTime": {
     "end_time": "2021-05-02T17:00:29.257670Z",
     "start_time": "2021-05-02T17:00:29.254915Z"
    }
   },
   "outputs": [],
   "source": [
    "def preprocess_splicing(df):\n",
    "    \n",
    "    df.index = df.index.map(lambda x: x[:15])\n",
    "    df = df[~df.index.duplicated(keep=\"first\")]\n",
    "    \n",
    "    # remove normals\n",
    "    df = df[df.index.map(lambda x: x[-2:] != \"11\")]\n",
    "    \n",
    "    return df"
   ]
  },
  {
   "cell_type": "code",
   "execution_count": 17,
   "metadata": {
    "ExecuteTime": {
     "end_time": "2021-05-02T16:49:19.520474Z",
     "start_time": "2021-05-02T16:49:15.219321Z"
    }
   },
   "outputs": [
    {
     "data": {
      "application/vnd.jupyter.widget-view+json": {
       "model_id": "9ef4f5e9504540df974fc33078392bd5",
       "version_major": 2,
       "version_minor": 0
      },
      "text/plain": [
       "  0%|          | 0/1000 [00:00<?, ?it/s]"
      ]
     },
     "metadata": {},
     "output_type": "display_data"
    },
    {
     "data": {
      "text/html": [
       "<div>\n",
       "<style scoped>\n",
       "    .dataframe tbody tr th:only-of-type {\n",
       "        vertical-align: middle;\n",
       "    }\n",
       "\n",
       "    .dataframe tbody tr th {\n",
       "        vertical-align: top;\n",
       "    }\n",
       "\n",
       "    .dataframe thead th {\n",
       "        text-align: right;\n",
       "    }\n",
       "</style>\n",
       "<table border=\"1\" class=\"dataframe\">\n",
       "  <thead>\n",
       "    <tr style=\"text-align: right;\">\n",
       "      <th></th>\n",
       "      <th></th>\n",
       "      <th>rank_biserial</th>\n",
       "      <th>pval</th>\n",
       "      <th>qval</th>\n",
       "      <th>pos_n</th>\n",
       "      <th>neg_n</th>\n",
       "    </tr>\n",
       "    <tr>\n",
       "      <th>a_col</th>\n",
       "      <th>b_col</th>\n",
       "      <th></th>\n",
       "      <th></th>\n",
       "      <th></th>\n",
       "      <th></th>\n",
       "      <th></th>\n",
       "    </tr>\n",
       "  </thead>\n",
       "  <tbody>\n",
       "    <tr>\n",
       "      <th>ENSG00000116786.7_ES_1_16046228:16046415:16047823:16047883:16051811:16052040_16047823:16047883</th>\n",
       "      <th>RPL22_k15fs_mutation</th>\n",
       "      <td>-0.473730</td>\n",
       "      <td>21.047830</td>\n",
       "      <td>18.047830</td>\n",
       "      <td>139.0</td>\n",
       "      <td>7806.0</td>\n",
       "    </tr>\n",
       "    <tr>\n",
       "      <th>ENSG00000160072.15_ES_1_1424583:1424654:1425071:1425191:1425636:1425751_1425071:1425191</th>\n",
       "      <th>RPL22_k15fs_mutation</th>\n",
       "      <td>-0.366600</td>\n",
       "      <td>13.401711</td>\n",
       "      <td>10.702741</td>\n",
       "      <td>144.0</td>\n",
       "      <td>7293.0</td>\n",
       "    </tr>\n",
       "    <tr>\n",
       "      <th>ENSG00000133226.12_ES_1_24989174:24989295:24989673:24989715:24993305:24993336_24989673:24989715</th>\n",
       "      <th>RPL22_k15fs_mutation</th>\n",
       "      <td>-0.346297</td>\n",
       "      <td>11.851886</td>\n",
       "      <td>9.329008</td>\n",
       "      <td>142.0</td>\n",
       "      <td>7866.0</td>\n",
       "    </tr>\n",
       "    <tr>\n",
       "      <th>ENSG00000011021.17_ES_1_11888162:11888276:11888514:11888681:11889252:11889356_11888514:11888681</th>\n",
       "      <th>RPL22_k15fs_mutation</th>\n",
       "      <td>-0.519165</td>\n",
       "      <td>9.745338</td>\n",
       "      <td>7.347398</td>\n",
       "      <td>51.0</td>\n",
       "      <td>3651.0</td>\n",
       "    </tr>\n",
       "    <tr>\n",
       "      <th>ENSG00000157870.10_ES_1_2519837:2519892:2519968:2520064:2520395:2520479_2519968:2520064</th>\n",
       "      <th>RPL22_k15fs_mutation</th>\n",
       "      <td>0.433557</td>\n",
       "      <td>9.589216</td>\n",
       "      <td>7.288186</td>\n",
       "      <td>73.0</td>\n",
       "      <td>1413.0</td>\n",
       "    </tr>\n",
       "    <tr>\n",
       "      <th>...</th>\n",
       "      <th>...</th>\n",
       "      <td>...</td>\n",
       "      <td>...</td>\n",
       "      <td>...</td>\n",
       "      <td>...</td>\n",
       "      <td>...</td>\n",
       "    </tr>\n",
       "    <tr>\n",
       "      <th>ENSG00000197530.8_ES_1_1560665:1560808:1560907:1561033:1562029:1562134_1560907:1561033</th>\n",
       "      <th>RPL22_k15fs_mutation</th>\n",
       "      <td>0.000000</td>\n",
       "      <td>-0.000000</td>\n",
       "      <td>-0.000000</td>\n",
       "      <td>0.0</td>\n",
       "      <td>144.0</td>\n",
       "    </tr>\n",
       "    <tr>\n",
       "      <th>ENSG00000162493.12_ES_1_13910764:13910836:13922321:13922479:13933667:13933716_13922321:13922479</th>\n",
       "      <th>RPL22_k15fs_mutation</th>\n",
       "      <td>0.000000</td>\n",
       "      <td>-0.000000</td>\n",
       "      <td>-0.000000</td>\n",
       "      <td>0.0</td>\n",
       "      <td>146.0</td>\n",
       "    </tr>\n",
       "    <tr>\n",
       "      <th>ENSG00000058453.12_ES_1_17248444:17248573:17249157:17249293:17250819:17250974_17249157:17249293</th>\n",
       "      <th>RPL22_k15fs_mutation</th>\n",
       "      <td>0.000000</td>\n",
       "      <td>-0.000000</td>\n",
       "      <td>-0.000000</td>\n",
       "      <td>0.0</td>\n",
       "      <td>154.0</td>\n",
       "    </tr>\n",
       "    <tr>\n",
       "      <th>ENSG00000171608.11_ES_1_9748233:9748371:9751524:9751629:9770481:9770654_9751524:9751629</th>\n",
       "      <th>RPL22_k15fs_mutation</th>\n",
       "      <td>0.000000</td>\n",
       "      <td>-0.000000</td>\n",
       "      <td>-0.000000</td>\n",
       "      <td>0.0</td>\n",
       "      <td>168.0</td>\n",
       "    </tr>\n",
       "    <tr>\n",
       "      <th>ENSG00000162493.12_ES_1_13910764:13910836:13912087:13912209:13933667:13933716_13912087:13912209</th>\n",
       "      <th>RPL22_k15fs_mutation</th>\n",
       "      <td>0.000000</td>\n",
       "      <td>-0.000000</td>\n",
       "      <td>-0.000000</td>\n",
       "      <td>0.0</td>\n",
       "      <td>184.0</td>\n",
       "    </tr>\n",
       "  </tbody>\n",
       "</table>\n",
       "<p>1000 rows × 5 columns</p>\n",
       "</div>"
      ],
      "text/plain": [
       "                                                                         rank_biserial  \\\n",
       "a_col                                              b_col                                 \n",
       "ENSG00000116786.7_ES_1_16046228:16046415:160478... RPL22_k15fs_mutation      -0.473730   \n",
       "ENSG00000160072.15_ES_1_1424583:1424654:1425071... RPL22_k15fs_mutation      -0.366600   \n",
       "ENSG00000133226.12_ES_1_24989174:24989295:24989... RPL22_k15fs_mutation      -0.346297   \n",
       "ENSG00000011021.17_ES_1_11888162:11888276:11888... RPL22_k15fs_mutation      -0.519165   \n",
       "ENSG00000157870.10_ES_1_2519837:2519892:2519968... RPL22_k15fs_mutation       0.433557   \n",
       "...                                                                                ...   \n",
       "ENSG00000197530.8_ES_1_1560665:1560808:1560907:... RPL22_k15fs_mutation       0.000000   \n",
       "ENSG00000162493.12_ES_1_13910764:13910836:13922... RPL22_k15fs_mutation       0.000000   \n",
       "ENSG00000058453.12_ES_1_17248444:17248573:17249... RPL22_k15fs_mutation       0.000000   \n",
       "ENSG00000171608.11_ES_1_9748233:9748371:9751524... RPL22_k15fs_mutation       0.000000   \n",
       "ENSG00000162493.12_ES_1_13910764:13910836:13912... RPL22_k15fs_mutation       0.000000   \n",
       "\n",
       "                                                                              pval  \\\n",
       "a_col                                              b_col                             \n",
       "ENSG00000116786.7_ES_1_16046228:16046415:160478... RPL22_k15fs_mutation  21.047830   \n",
       "ENSG00000160072.15_ES_1_1424583:1424654:1425071... RPL22_k15fs_mutation  13.401711   \n",
       "ENSG00000133226.12_ES_1_24989174:24989295:24989... RPL22_k15fs_mutation  11.851886   \n",
       "ENSG00000011021.17_ES_1_11888162:11888276:11888... RPL22_k15fs_mutation   9.745338   \n",
       "ENSG00000157870.10_ES_1_2519837:2519892:2519968... RPL22_k15fs_mutation   9.589216   \n",
       "...                                                                            ...   \n",
       "ENSG00000197530.8_ES_1_1560665:1560808:1560907:... RPL22_k15fs_mutation  -0.000000   \n",
       "ENSG00000162493.12_ES_1_13910764:13910836:13922... RPL22_k15fs_mutation  -0.000000   \n",
       "ENSG00000058453.12_ES_1_17248444:17248573:17249... RPL22_k15fs_mutation  -0.000000   \n",
       "ENSG00000171608.11_ES_1_9748233:9748371:9751524... RPL22_k15fs_mutation  -0.000000   \n",
       "ENSG00000162493.12_ES_1_13910764:13910836:13912... RPL22_k15fs_mutation  -0.000000   \n",
       "\n",
       "                                                                              qval  \\\n",
       "a_col                                              b_col                             \n",
       "ENSG00000116786.7_ES_1_16046228:16046415:160478... RPL22_k15fs_mutation  18.047830   \n",
       "ENSG00000160072.15_ES_1_1424583:1424654:1425071... RPL22_k15fs_mutation  10.702741   \n",
       "ENSG00000133226.12_ES_1_24989174:24989295:24989... RPL22_k15fs_mutation   9.329008   \n",
       "ENSG00000011021.17_ES_1_11888162:11888276:11888... RPL22_k15fs_mutation   7.347398   \n",
       "ENSG00000157870.10_ES_1_2519837:2519892:2519968... RPL22_k15fs_mutation   7.288186   \n",
       "...                                                                            ...   \n",
       "ENSG00000197530.8_ES_1_1560665:1560808:1560907:... RPL22_k15fs_mutation  -0.000000   \n",
       "ENSG00000162493.12_ES_1_13910764:13910836:13922... RPL22_k15fs_mutation  -0.000000   \n",
       "ENSG00000058453.12_ES_1_17248444:17248573:17249... RPL22_k15fs_mutation  -0.000000   \n",
       "ENSG00000171608.11_ES_1_9748233:9748371:9751524... RPL22_k15fs_mutation  -0.000000   \n",
       "ENSG00000162493.12_ES_1_13910764:13910836:13912... RPL22_k15fs_mutation  -0.000000   \n",
       "\n",
       "                                                                         pos_n  \\\n",
       "a_col                                              b_col                         \n",
       "ENSG00000116786.7_ES_1_16046228:16046415:160478... RPL22_k15fs_mutation  139.0   \n",
       "ENSG00000160072.15_ES_1_1424583:1424654:1425071... RPL22_k15fs_mutation  144.0   \n",
       "ENSG00000133226.12_ES_1_24989174:24989295:24989... RPL22_k15fs_mutation  142.0   \n",
       "ENSG00000011021.17_ES_1_11888162:11888276:11888... RPL22_k15fs_mutation   51.0   \n",
       "ENSG00000157870.10_ES_1_2519837:2519892:2519968... RPL22_k15fs_mutation   73.0   \n",
       "...                                                                        ...   \n",
       "ENSG00000197530.8_ES_1_1560665:1560808:1560907:... RPL22_k15fs_mutation    0.0   \n",
       "ENSG00000162493.12_ES_1_13910764:13910836:13922... RPL22_k15fs_mutation    0.0   \n",
       "ENSG00000058453.12_ES_1_17248444:17248573:17249... RPL22_k15fs_mutation    0.0   \n",
       "ENSG00000171608.11_ES_1_9748233:9748371:9751524... RPL22_k15fs_mutation    0.0   \n",
       "ENSG00000162493.12_ES_1_13910764:13910836:13912... RPL22_k15fs_mutation    0.0   \n",
       "\n",
       "                                                                          neg_n  \n",
       "a_col                                              b_col                         \n",
       "ENSG00000116786.7_ES_1_16046228:16046415:160478... RPL22_k15fs_mutation  7806.0  \n",
       "ENSG00000160072.15_ES_1_1424583:1424654:1425071... RPL22_k15fs_mutation  7293.0  \n",
       "ENSG00000133226.12_ES_1_24989174:24989295:24989... RPL22_k15fs_mutation  7866.0  \n",
       "ENSG00000011021.17_ES_1_11888162:11888276:11888... RPL22_k15fs_mutation  3651.0  \n",
       "ENSG00000157870.10_ES_1_2519837:2519892:2519968... RPL22_k15fs_mutation  1413.0  \n",
       "...                                                                         ...  \n",
       "ENSG00000197530.8_ES_1_1560665:1560808:1560907:... RPL22_k15fs_mutation   144.0  \n",
       "ENSG00000162493.12_ES_1_13910764:13910836:13922... RPL22_k15fs_mutation   146.0  \n",
       "ENSG00000058453.12_ES_1_17248444:17248573:17249... RPL22_k15fs_mutation   154.0  \n",
       "ENSG00000171608.11_ES_1_9748233:9748371:9751524... RPL22_k15fs_mutation   168.0  \n",
       "ENSG00000162493.12_ES_1_13910764:13910836:13912... RPL22_k15fs_mutation   184.0  \n",
       "\n",
       "[1000 rows x 5 columns]"
      ]
     },
     "execution_count": 17,
     "metadata": {},
     "output_type": "execute_result"
    }
   ],
   "source": [
    "many.stats.mat_mwu_naive(\n",
    "    tcga_se.iloc[:, :1000],\n",
    "    merged_tcga_info[[\"RPL22_k15fs_mutation\"]].dropna(),\n",
    "    **corr_kwargs,\n",
    "    pbar=True\n",
    ")"
   ]
  },
  {
   "cell_type": "code",
   "execution_count": 12,
   "metadata": {
    "ExecuteTime": {
     "end_time": "2021-05-02T17:12:18.613342Z",
     "start_time": "2021-05-02T17:07:24.204166Z"
    }
   },
   "outputs": [
    {
     "data": {
      "application/vnd.jupyter.widget-view+json": {
       "model_id": "7e77b36f6be0416c84c59a2df22c4708",
       "version_major": 2,
       "version_minor": 0
      },
      "text/plain": [
       "  0%|          | 0/70536 [00:00<?, ?it/s]"
      ]
     },
     "metadata": {},
     "output_type": "display_data"
    },
    {
     "data": {
      "text/html": [
       "<div>\n",
       "<style scoped>\n",
       "    .dataframe tbody tr th:only-of-type {\n",
       "        vertical-align: middle;\n",
       "    }\n",
       "\n",
       "    .dataframe tbody tr th {\n",
       "        vertical-align: top;\n",
       "    }\n",
       "\n",
       "    .dataframe thead th {\n",
       "        text-align: right;\n",
       "    }\n",
       "</style>\n",
       "<table border=\"1\" class=\"dataframe\">\n",
       "  <thead>\n",
       "    <tr style=\"text-align: right;\">\n",
       "      <th></th>\n",
       "      <th></th>\n",
       "      <th>rank_biserial</th>\n",
       "      <th>pval</th>\n",
       "      <th>qval</th>\n",
       "      <th>pos_n</th>\n",
       "      <th>neg_n</th>\n",
       "    </tr>\n",
       "    <tr>\n",
       "      <th>a_col</th>\n",
       "      <th>b_col</th>\n",
       "      <th></th>\n",
       "      <th></th>\n",
       "      <th></th>\n",
       "      <th></th>\n",
       "      <th></th>\n",
       "    </tr>\n",
       "  </thead>\n",
       "  <tbody>\n",
       "    <tr>\n",
       "      <th>ENSG00000123737.8_A5_4_122737926:122737995:122734909:122735202:122734909:122737602_122735202:122737602</th>\n",
       "      <th>RPL22_k15fs_mutation</th>\n",
       "      <td>0.618615</td>\n",
       "      <td>48.935217</td>\n",
       "      <td>44.086806</td>\n",
       "      <td>148.0</td>\n",
       "      <td>8182.0</td>\n",
       "    </tr>\n",
       "    <tr>\n",
       "      <th>ENSG00000205629.7_A5_16_25143722:25143844:25139795:25139887:25139795:25139891_25139887:25139891</th>\n",
       "      <th>RPL22_k15fs_mutation</th>\n",
       "      <td>-0.293018</td>\n",
       "      <td>39.225577</td>\n",
       "      <td>34.678196</td>\n",
       "      <td>145.0</td>\n",
       "      <td>8115.0</td>\n",
       "    </tr>\n",
       "    <tr>\n",
       "      <th>ENSG00000160957.8_A5_8_145738449:145738521:145738799:145738864:145738600:145738864_145738600:145738799</th>\n",
       "      <th>RPL22_k15fs_mutation</th>\n",
       "      <td>0.644800</td>\n",
       "      <td>37.246804</td>\n",
       "      <td>32.875514</td>\n",
       "      <td>136.0</td>\n",
       "      <td>6043.0</td>\n",
       "    </tr>\n",
       "    <tr>\n",
       "      <th>ENSG00000168591.11_A5_17_42266389:42266447:42264639:42264799:42264639:42265377_42264799:42265377</th>\n",
       "      <th>RPL22_k15fs_mutation</th>\n",
       "      <td>-0.633798</td>\n",
       "      <td>36.408322</td>\n",
       "      <td>32.161971</td>\n",
       "      <td>137.0</td>\n",
       "      <td>7445.0</td>\n",
       "    </tr>\n",
       "    <tr>\n",
       "      <th>ENSG00000168591.11_A5_17_42266389:42266447:42264639:42264768:42264639:42265377_42264768:42265377</th>\n",
       "      <th>RPL22_k15fs_mutation</th>\n",
       "      <td>-0.623305</td>\n",
       "      <td>34.962153</td>\n",
       "      <td>30.812712</td>\n",
       "      <td>136.0</td>\n",
       "      <td>7002.0</td>\n",
       "    </tr>\n",
       "    <tr>\n",
       "      <th>...</th>\n",
       "      <th>...</th>\n",
       "      <td>...</td>\n",
       "      <td>...</td>\n",
       "      <td>...</td>\n",
       "      <td>...</td>\n",
       "      <td>...</td>\n",
       "    </tr>\n",
       "    <tr>\n",
       "      <th>ENSG00000172005.6_A5_2_95719125:95719737:95717436:95717686:95717436:95717777_95717686:95717777</th>\n",
       "      <th>RPL22_k15fs_mutation</th>\n",
       "      <td>0.000000</td>\n",
       "      <td>-0.000000</td>\n",
       "      <td>-0.000000</td>\n",
       "      <td>0.0</td>\n",
       "      <td>86.0</td>\n",
       "    </tr>\n",
       "    <tr>\n",
       "      <th>ENSG00000075043.13_A5_20_62039765:62039889:62044802:62044934:62044760:62044934_62044760:62044802</th>\n",
       "      <th>RPL22_k15fs_mutation</th>\n",
       "      <td>0.000000</td>\n",
       "      <td>-0.000000</td>\n",
       "      <td>-0.000000</td>\n",
       "      <td>0.0</td>\n",
       "      <td>680.0</td>\n",
       "    </tr>\n",
       "    <tr>\n",
       "      <th>ENSG00000134986.9_A5_5_111092832:111092876:111093641:111093739:111093628:111093739_111093628:111093641</th>\n",
       "      <th>RPL22_k15fs_mutation</th>\n",
       "      <td>0.000000</td>\n",
       "      <td>-0.000000</td>\n",
       "      <td>-0.000000</td>\n",
       "      <td>0.0</td>\n",
       "      <td>159.0</td>\n",
       "    </tr>\n",
       "    <tr>\n",
       "      <th>ENSG00000134986.9_A5_5_111092832:111092876:111093025:111093098:111093016:111093098_111093016:111093025</th>\n",
       "      <th>RPL22_k15fs_mutation</th>\n",
       "      <td>0.000000</td>\n",
       "      <td>-0.000000</td>\n",
       "      <td>-0.000000</td>\n",
       "      <td>0.0</td>\n",
       "      <td>188.0</td>\n",
       "    </tr>\n",
       "    <tr>\n",
       "      <th>ENSG00000204304.7_A5_6_32156033:32156352:32157471:32157719:32156499:32157719_32156499:32157471</th>\n",
       "      <th>RPL22_k15fs_mutation</th>\n",
       "      <td>0.000000</td>\n",
       "      <td>-0.000000</td>\n",
       "      <td>-0.000000</td>\n",
       "      <td>0.0</td>\n",
       "      <td>92.0</td>\n",
       "    </tr>\n",
       "  </tbody>\n",
       "</table>\n",
       "<p>70536 rows × 5 columns</p>\n",
       "</div>"
      ],
      "text/plain": [
       "                                                                         rank_biserial  \\\n",
       "a_col                                              b_col                                 \n",
       "ENSG00000123737.8_A5_4_122737926:122737995:1227... RPL22_k15fs_mutation       0.618615   \n",
       "ENSG00000205629.7_A5_16_25143722:25143844:25139... RPL22_k15fs_mutation      -0.293018   \n",
       "ENSG00000160957.8_A5_8_145738449:145738521:1457... RPL22_k15fs_mutation       0.644800   \n",
       "ENSG00000168591.11_A5_17_42266389:42266447:4226... RPL22_k15fs_mutation      -0.633798   \n",
       "ENSG00000168591.11_A5_17_42266389:42266447:4226... RPL22_k15fs_mutation      -0.623305   \n",
       "...                                                                                ...   \n",
       "ENSG00000172005.6_A5_2_95719125:95719737:957174... RPL22_k15fs_mutation       0.000000   \n",
       "ENSG00000075043.13_A5_20_62039765:62039889:6204... RPL22_k15fs_mutation       0.000000   \n",
       "ENSG00000134986.9_A5_5_111092832:111092876:1110... RPL22_k15fs_mutation       0.000000   \n",
       "ENSG00000134986.9_A5_5_111092832:111092876:1110... RPL22_k15fs_mutation       0.000000   \n",
       "ENSG00000204304.7_A5_6_32156033:32156352:321574... RPL22_k15fs_mutation       0.000000   \n",
       "\n",
       "                                                                              pval  \\\n",
       "a_col                                              b_col                             \n",
       "ENSG00000123737.8_A5_4_122737926:122737995:1227... RPL22_k15fs_mutation  48.935217   \n",
       "ENSG00000205629.7_A5_16_25143722:25143844:25139... RPL22_k15fs_mutation  39.225577   \n",
       "ENSG00000160957.8_A5_8_145738449:145738521:1457... RPL22_k15fs_mutation  37.246804   \n",
       "ENSG00000168591.11_A5_17_42266389:42266447:4226... RPL22_k15fs_mutation  36.408322   \n",
       "ENSG00000168591.11_A5_17_42266389:42266447:4226... RPL22_k15fs_mutation  34.962153   \n",
       "...                                                                            ...   \n",
       "ENSG00000172005.6_A5_2_95719125:95719737:957174... RPL22_k15fs_mutation  -0.000000   \n",
       "ENSG00000075043.13_A5_20_62039765:62039889:6204... RPL22_k15fs_mutation  -0.000000   \n",
       "ENSG00000134986.9_A5_5_111092832:111092876:1110... RPL22_k15fs_mutation  -0.000000   \n",
       "ENSG00000134986.9_A5_5_111092832:111092876:1110... RPL22_k15fs_mutation  -0.000000   \n",
       "ENSG00000204304.7_A5_6_32156033:32156352:321574... RPL22_k15fs_mutation  -0.000000   \n",
       "\n",
       "                                                                              qval  \\\n",
       "a_col                                              b_col                             \n",
       "ENSG00000123737.8_A5_4_122737926:122737995:1227... RPL22_k15fs_mutation  44.086806   \n",
       "ENSG00000205629.7_A5_16_25143722:25143844:25139... RPL22_k15fs_mutation  34.678196   \n",
       "ENSG00000160957.8_A5_8_145738449:145738521:1457... RPL22_k15fs_mutation  32.875514   \n",
       "ENSG00000168591.11_A5_17_42266389:42266447:4226... RPL22_k15fs_mutation  32.161971   \n",
       "ENSG00000168591.11_A5_17_42266389:42266447:4226... RPL22_k15fs_mutation  30.812712   \n",
       "...                                                                            ...   \n",
       "ENSG00000172005.6_A5_2_95719125:95719737:957174... RPL22_k15fs_mutation  -0.000000   \n",
       "ENSG00000075043.13_A5_20_62039765:62039889:6204... RPL22_k15fs_mutation  -0.000000   \n",
       "ENSG00000134986.9_A5_5_111092832:111092876:1110... RPL22_k15fs_mutation  -0.000000   \n",
       "ENSG00000134986.9_A5_5_111092832:111092876:1110... RPL22_k15fs_mutation  -0.000000   \n",
       "ENSG00000204304.7_A5_6_32156033:32156352:321574... RPL22_k15fs_mutation  -0.000000   \n",
       "\n",
       "                                                                         pos_n  \\\n",
       "a_col                                              b_col                         \n",
       "ENSG00000123737.8_A5_4_122737926:122737995:1227... RPL22_k15fs_mutation  148.0   \n",
       "ENSG00000205629.7_A5_16_25143722:25143844:25139... RPL22_k15fs_mutation  145.0   \n",
       "ENSG00000160957.8_A5_8_145738449:145738521:1457... RPL22_k15fs_mutation  136.0   \n",
       "ENSG00000168591.11_A5_17_42266389:42266447:4226... RPL22_k15fs_mutation  137.0   \n",
       "ENSG00000168591.11_A5_17_42266389:42266447:4226... RPL22_k15fs_mutation  136.0   \n",
       "...                                                                        ...   \n",
       "ENSG00000172005.6_A5_2_95719125:95719737:957174... RPL22_k15fs_mutation    0.0   \n",
       "ENSG00000075043.13_A5_20_62039765:62039889:6204... RPL22_k15fs_mutation    0.0   \n",
       "ENSG00000134986.9_A5_5_111092832:111092876:1110... RPL22_k15fs_mutation    0.0   \n",
       "ENSG00000134986.9_A5_5_111092832:111092876:1110... RPL22_k15fs_mutation    0.0   \n",
       "ENSG00000204304.7_A5_6_32156033:32156352:321574... RPL22_k15fs_mutation    0.0   \n",
       "\n",
       "                                                                          neg_n  \n",
       "a_col                                              b_col                         \n",
       "ENSG00000123737.8_A5_4_122737926:122737995:1227... RPL22_k15fs_mutation  8182.0  \n",
       "ENSG00000205629.7_A5_16_25143722:25143844:25139... RPL22_k15fs_mutation  8115.0  \n",
       "ENSG00000160957.8_A5_8_145738449:145738521:1457... RPL22_k15fs_mutation  6043.0  \n",
       "ENSG00000168591.11_A5_17_42266389:42266447:4226... RPL22_k15fs_mutation  7445.0  \n",
       "ENSG00000168591.11_A5_17_42266389:42266447:4226... RPL22_k15fs_mutation  7002.0  \n",
       "...                                                                         ...  \n",
       "ENSG00000172005.6_A5_2_95719125:95719737:957174... RPL22_k15fs_mutation    86.0  \n",
       "ENSG00000075043.13_A5_20_62039765:62039889:6204... RPL22_k15fs_mutation   680.0  \n",
       "ENSG00000134986.9_A5_5_111092832:111092876:1110... RPL22_k15fs_mutation   159.0  \n",
       "ENSG00000134986.9_A5_5_111092832:111092876:1110... RPL22_k15fs_mutation   188.0  \n",
       "ENSG00000204304.7_A5_6_32156033:32156352:321574... RPL22_k15fs_mutation    92.0  \n",
       "\n",
       "[70536 rows x 5 columns]"
      ]
     },
     "execution_count": 12,
     "metadata": {},
     "output_type": "execute_result"
    }
   ],
   "source": [
    "corr_kwargs = {\"melt\": True, \"effect\": \"rank_biserial\",\"pbar\":True}\n",
    "\n",
    "many.stats.mat_mwu_naive(\n",
    "    tcga_a5ss,\n",
    "    merged_tcga_info[[\"RPL22_k15fs_mutation\"]],\n",
    "    **corr_kwargs,\n",
    ")"
   ]
  },
  {
   "cell_type": "code",
   "execution_count": 62,
   "metadata": {
    "ExecuteTime": {
     "end_time": "2021-05-03T17:20:49.655458Z",
     "start_time": "2021-05-03T17:20:49.647722Z"
    }
   },
   "outputs": [],
   "source": [
    "tcga_splicing_sets = [\n",
    "    \"tcga_se\",\n",
    "    \"tcga_a3ss\",\n",
    "    \"tcga_a5ss\",\n",
    "    \"tcga_ir\",\n",
    "    \"tcga_mx_1\",\n",
    "    \"tcga_mx_2\",\n",
    "    \"tcga_mx_3\",\n",
    "    \"tcga_mx_4\",\n",
    "    \"tcga_mx_5\",\n",
    "]\n",
    "\n",
    "mwu_kwargs = {\"melt\": True, \"effect\": \"rank_biserial\", \"pbar\": True}\n",
    "corr_kwargs = {\"melt\": True, \"method\": \"spearman\", \"pbar\": True}\n",
    "\n",
    "\n",
    "def splicing_vs_mutations(mut_series):\n",
    "\n",
    "    merged = []\n",
    "\n",
    "    for splicing_set in tcga_splicing_sets:\n",
    "\n",
    "        print(f\"Loading {splicing_set}\")\n",
    "\n",
    "        splicing = cancer_data.load(splicing_set)\n",
    "        splicing = preprocess_splicing(splicing)\n",
    "\n",
    "        correlations = many.stats.mat_mwu_naive(splicing, mut_series, **mwu_kwargs)\n",
    "        merged.append(correlations)\n",
    "\n",
    "        del splicing\n",
    "        gc.collect()\n",
    "\n",
    "    merged = pd.concat(merged)\n",
    "\n",
    "    return merged\n",
    "\n",
    "\n",
    "def recompute_qval(df):\n",
    "\n",
    "    df[\"qval\"] = multipletests(\n",
    "        10 ** (-df[\"pval\"]),\n",
    "        alpha=0.01,\n",
    "        method=\"fdr_bh\",\n",
    "    )[1]\n",
    "\n",
    "    return df\n",
    "\n",
    "\n",
    "def corr_splicing(series):\n",
    "\n",
    "    merged = []\n",
    "\n",
    "    for splicing_set in tcga_splicing_sets:\n",
    "\n",
    "        print(f\"Loading {splicing_set}\")\n",
    "\n",
    "        splicing = cancer_data.load(splicing_set)\n",
    "        splicing = preprocess_splicing(splicing)\n",
    "\n",
    "        correlations = many.stats.mat_corr_naive(splicing, series, **corr_kwargs)\n",
    "        merged.append(correlations)\n",
    "\n",
    "        del splicing\n",
    "        gc.collect()\n",
    "\n",
    "    merged = pd.concat(merged)\n",
    "    merged = merged[merged[\"n\"] >= 100]\n",
    "    merged = recompute_qval(merged)\n",
    "    merged = merged.sort_values(by=\"qval\", ascending=False)\n",
    "    \n",
    "    merged = merged.reset_index().rename(\n",
    "        {\n",
    "            \"a_col\": \"first_splicing_event\",\n",
    "            \"b_col\": \"second_splicing_event\",\n",
    "            \"pval\": \"-log10(P value)\",\n",
    "            \"qval\": \"-log10(Q value)\",\n",
    "        },\n",
    "        axis=1\n",
    "    )\n",
    "\n",
    "    return merged"
   ]
  },
  {
   "cell_type": "code",
   "execution_count": 31,
   "metadata": {
    "ExecuteTime": {
     "end_time": "2021-05-02T22:06:59.891098Z",
     "start_time": "2021-05-02T21:14:46.263156Z"
    }
   },
   "outputs": [
    {
     "name": "stdout",
     "output_type": "stream",
     "text": [
      "Loading tcga_se\n"
     ]
    },
    {
     "data": {
      "application/vnd.jupyter.widget-view+json": {
       "model_id": "14cc2184e59c4f3191bdbe87d52ff95c",
       "version_major": 2,
       "version_minor": 0
      },
      "text/plain": [
       "  0%|          | 0/136145 [00:00<?, ?it/s]"
      ]
     },
     "metadata": {},
     "output_type": "display_data"
    },
    {
     "name": "stdout",
     "output_type": "stream",
     "text": [
      "Loading tcga_a3ss\n"
     ]
    },
    {
     "data": {
      "application/vnd.jupyter.widget-view+json": {
       "model_id": "d8143fca1c6943008aba9316c276a8d6",
       "version_major": 2,
       "version_minor": 0
      },
      "text/plain": [
       "  0%|          | 0/96354 [00:00<?, ?it/s]"
      ]
     },
     "metadata": {},
     "output_type": "display_data"
    },
    {
     "name": "stdout",
     "output_type": "stream",
     "text": [
      "Loading tcga_a5ss\n"
     ]
    },
    {
     "data": {
      "application/vnd.jupyter.widget-view+json": {
       "model_id": "cd195b8d32e14d1cb241349f22420303",
       "version_major": 2,
       "version_minor": 0
      },
      "text/plain": [
       "  0%|          | 0/70536 [00:00<?, ?it/s]"
      ]
     },
     "metadata": {},
     "output_type": "display_data"
    },
    {
     "name": "stdout",
     "output_type": "stream",
     "text": [
      "Loading tcga_ir\n"
     ]
    },
    {
     "data": {
      "application/vnd.jupyter.widget-view+json": {
       "model_id": "777fa7612fbf4f629af502e2362eed09",
       "version_major": 2,
       "version_minor": 0
      },
      "text/plain": [
       "  0%|          | 0/91592 [00:00<?, ?it/s]"
      ]
     },
     "metadata": {},
     "output_type": "display_data"
    },
    {
     "name": "stdout",
     "output_type": "stream",
     "text": [
      "Loading tcga_mx_1\n"
     ]
    },
    {
     "data": {
      "application/vnd.jupyter.widget-view+json": {
       "model_id": "c76b381309b749e29d0bff4a05363595",
       "version_major": 2,
       "version_minor": 0
      },
      "text/plain": [
       "  0%|          | 0/200000 [00:00<?, ?it/s]"
      ]
     },
     "metadata": {},
     "output_type": "display_data"
    },
    {
     "name": "stdout",
     "output_type": "stream",
     "text": [
      "Loading tcga_mx_2\n"
     ]
    },
    {
     "data": {
      "application/vnd.jupyter.widget-view+json": {
       "model_id": "a935a74e5fae4c21bbab2da6cfae722c",
       "version_major": 2,
       "version_minor": 0
      },
      "text/plain": [
       "  0%|          | 0/200000 [00:00<?, ?it/s]"
      ]
     },
     "metadata": {},
     "output_type": "display_data"
    },
    {
     "name": "stdout",
     "output_type": "stream",
     "text": [
      "Loading tcga_mx_3\n"
     ]
    },
    {
     "data": {
      "application/vnd.jupyter.widget-view+json": {
       "model_id": "776034daa4ed4681bcaaf3da22f04749",
       "version_major": 2,
       "version_minor": 0
      },
      "text/plain": [
       "  0%|          | 0/200000 [00:00<?, ?it/s]"
      ]
     },
     "metadata": {},
     "output_type": "display_data"
    },
    {
     "name": "stdout",
     "output_type": "stream",
     "text": [
      "Loading tcga_mx_4\n"
     ]
    },
    {
     "data": {
      "application/vnd.jupyter.widget-view+json": {
       "model_id": "449d2c3f6d1444e6abb1be30e0927dcb",
       "version_major": 2,
       "version_minor": 0
      },
      "text/plain": [
       "  0%|          | 0/200000 [00:00<?, ?it/s]"
      ]
     },
     "metadata": {},
     "output_type": "display_data"
    },
    {
     "name": "stdout",
     "output_type": "stream",
     "text": [
      "Loading tcga_mx_5\n"
     ]
    },
    {
     "data": {
      "application/vnd.jupyter.widget-view+json": {
       "model_id": "a07ed242569a43b192b0179c57533f96",
       "version_major": 2,
       "version_minor": 0
      },
      "text/plain": [
       "  0%|          | 0/102293 [00:00<?, ?it/s]"
      ]
     },
     "metadata": {},
     "output_type": "display_data"
    }
   ],
   "source": [
    "tcga_mdm4_cosplicing = corr_splicing(merged_tcga_info[\"MDM4_exon_6_inclusion\"])\n",
    "tcga_rpl22l1_cosplicing = corr_splicing(merged_tcga_info[\"RPL22L1_exon_3A_inclusion\"])"
   ]
  },
  {
   "cell_type": "code",
   "execution_count": 65,
   "metadata": {
    "ExecuteTime": {
     "end_time": "2021-05-03T17:21:19.229247Z",
     "start_time": "2021-05-03T17:21:02.156427Z"
    }
   },
   "outputs": [],
   "source": [
    "tcga_mdm4_cosplicing.to_csv(\"../data/supplementary/S4-a_tcga-mdm4-cosplicing.txt\", sep=\"\\t\")\n",
    "tcga_rpl22l1_cosplicing.to_csv(\"../data/supplementary/S4-b_tcga-rpl22l1-cosplicing.txt\", sep=\"\\t\")"
   ]
  }
 ],
 "metadata": {
  "kernelspec": {
   "display_name": "Python 3",
   "language": "python",
   "name": "python3"
  },
  "language_info": {
   "codemirror_mode": {
    "name": "ipython",
    "version": 3
   },
   "file_extension": ".py",
   "mimetype": "text/x-python",
   "name": "python",
   "nbconvert_exporter": "python",
   "pygments_lexer": "ipython3",
   "version": "3.9.4"
  },
  "toc": {
   "base_numbering": 1,
   "nav_menu": {},
   "number_sections": true,
   "sideBar": true,
   "skip_h1_title": false,
   "title_cell": "Table of Contents",
   "title_sidebar": "Contents",
   "toc_cell": false,
   "toc_position": {},
   "toc_section_display": true,
   "toc_window_display": false
  }
 },
 "nbformat": 4,
 "nbformat_minor": 4
}
