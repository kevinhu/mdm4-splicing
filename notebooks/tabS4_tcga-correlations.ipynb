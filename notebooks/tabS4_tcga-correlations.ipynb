{
 "cells": [
  {
   "cell_type": "code",
   "execution_count": 42,
   "metadata": {
    "ExecuteTime": {
     "end_time": "2021-03-17T21:44:20.245980Z",
     "start_time": "2021-03-17T21:44:20.239382Z"
    }
   },
   "outputs": [],
   "source": [
    "import numpy as np\n",
    "import pandas as pd\n",
    "\n",
    "from statsmodels.stats.multitest import multipletests\n",
    "\n",
    "import gc\n",
    "\n",
    "import matplotlib.pyplot as plt\n",
    "import matplotlib as mpl\n",
    "import seaborn as sns\n",
    "\n",
    "import cancer_data\n",
    "import many\n",
    "\n",
    "import config\n",
    "config.config_visuals()\n",
    "\n",
    "import stackprinter\n",
    "stackprinter.set_excepthook(style='lightbg')"
   ]
  },
  {
   "cell_type": "markdown",
   "metadata": {},
   "source": [
    "# Load data"
   ]
  },
  {
   "cell_type": "markdown",
   "metadata": {},
   "source": [
    "## Merged TCGA info"
   ]
  },
  {
   "cell_type": "code",
   "execution_count": 43,
   "metadata": {
    "ExecuteTime": {
     "end_time": "2021-03-17T21:44:21.158247Z",
     "start_time": "2021-03-17T21:44:21.084444Z"
    }
   },
   "outputs": [],
   "source": [
    "merged_tcga_info = pd.read_csv(\n",
    "    \"../data/supplementary/S2_merged-tcga-info.txt\", sep=\"\\t\", index_col=0\n",
    ")\n",
    "\n",
    "# subset\n",
    "rpl22_cn_normal = np.abs(merged_tcga_info[\"RPL22_copy_number\"])<0.25\n",
    "rpl22_mut_wt = merged_tcga_info[\"RPL22_any_mutation\"] == False\n",
    "\n",
    "rpl22_wt_subset = merged_tcga_info[rpl22_cn_normal&rpl22_mut_wt]"
   ]
  },
  {
   "cell_type": "markdown",
   "metadata": {},
   "source": [
    "## TCGA gene expression"
   ]
  },
  {
   "cell_type": "code",
   "execution_count": 3,
   "metadata": {
    "ExecuteTime": {
     "end_time": "2020-12-17T23:59:06.637139Z",
     "start_time": "2020-12-17T23:58:38.439948Z"
    }
   },
   "outputs": [],
   "source": [
    "tcga_genex = cancer_data.load(\"tcga_normalized_gene_expression\")\n",
    "\n",
    "normal_genex = tcga_genex[tcga_genex.index.map(lambda x: x[-2:] == \"11\")]\n",
    "tcga_genex = tcga_genex[tcga_genex.index.map(lambda x: x[-2:] != \"11\")]"
   ]
  },
  {
   "cell_type": "markdown",
   "metadata": {
    "ExecuteTime": {
     "end_time": "2020-12-18T00:03:55.815489Z",
     "start_time": "2020-12-17T23:59:06.639321Z"
    }
   },
   "source": [
    "## TCGA splicing"
   ]
  },
  {
   "cell_type": "code",
   "execution_count": 47,
   "metadata": {
    "ExecuteTime": {
     "end_time": "2021-03-17T21:49:31.946308Z",
     "start_time": "2021-03-17T21:49:31.934053Z"
    }
   },
   "outputs": [],
   "source": [
    "def preprocess_splicing(df):\n",
    "    \n",
    "    df.index = df.index.map(lambda x: x[:15])\n",
    "    df = df[~df.index.duplicated(keep=\"first\")]\n",
    "    \n",
    "    # remove normals\n",
    "    df = df[df.index.map(lambda x: x[-2:] != \"11\")]\n",
    "    \n",
    "    return df"
   ]
  },
  {
   "cell_type": "code",
   "execution_count": null,
   "metadata": {
    "ExecuteTime": {
     "start_time": "2021-03-17T00:15:01.739Z"
    }
   },
   "outputs": [],
   "source": [
    "tcga_se = cancer_data.load(\"tcga_se\")\n",
    "tcga_a3ss = cancer_data.load(\"tcga_a3ss\")\n",
    "tcga_a5ss = cancer_data.load(\"tcga_a5ss\")\n",
    "tcga_ir = cancer_data.load(\"tcga_ir\")\n",
    "\n",
    "tcga_se = preprocess_splicing(tcga_se)\n",
    "tcga_a3ss = preprocess_splicing(tcga_a3ss)\n",
    "tcga_a5ss = preprocess_splicing(tcga_a5ss)\n",
    "tcga_ir = preprocess_splicing(tcga_ir)"
   ]
  },
  {
   "cell_type": "markdown",
   "metadata": {},
   "source": [
    "# Compute correlations"
   ]
  },
  {
   "cell_type": "code",
   "execution_count": 44,
   "metadata": {
    "ExecuteTime": {
     "end_time": "2021-03-17T21:44:26.321219Z",
     "start_time": "2021-03-17T21:44:26.317566Z"
    }
   },
   "outputs": [],
   "source": [
    "corr_kwargs = {\"melt\": True, \"method\": \"spearman\", \"pbar\": True}"
   ]
  },
  {
   "cell_type": "markdown",
   "metadata": {},
   "source": [
    "## MX correlations"
   ]
  },
  {
   "cell_type": "code",
   "execution_count": 45,
   "metadata": {
    "ExecuteTime": {
     "end_time": "2021-03-17T21:44:28.499040Z",
     "start_time": "2021-03-17T21:44:28.492080Z"
    }
   },
   "outputs": [],
   "source": [
    "mx_sets = [\"tcga_mx_1\",\"tcga_mx_2\",\"tcga_mx_3\",\"tcga_mx_4\",\"tcga_mx_5\"]\n",
    "\n",
    "def correlate_mx(series):\n",
    "    \n",
    "    merged = []\n",
    "    \n",
    "    for mx_set_name in mx_sets:\n",
    "        \n",
    "        print(f\"Loading {mx_set_name}\")\n",
    "\n",
    "        mx_set = cancer_data.load(mx_set_name)\n",
    "        mx_set = preprocess_splicing(mx_set)\n",
    "\n",
    "        correlations = many.stats.mat_corr_naive(series,mx_set,**corr_kwargs)\n",
    "        merged.append(correlations)\n",
    "\n",
    "        del mx_set\n",
    "        gc.collect()   \n",
    "        \n",
    "    merged = pd.concat(merged)\n",
    "    \n",
    "    return merged"
   ]
  },
  {
   "cell_type": "code",
   "execution_count": 6,
   "metadata": {
    "ExecuteTime": {
     "end_time": "2021-03-17T04:50:53.035347Z",
     "start_time": "2021-03-17T00:31:35.140999Z"
    }
   },
   "outputs": [
    {
     "name": "stdout",
     "output_type": "stream",
     "text": [
      "Loading tcga_mx_1\n"
     ]
    },
    {
     "data": {
      "application/vnd.jupyter.widget-view+json": {
       "model_id": "2954fb132e754f59ab3bd065e92fe0c1",
       "version_major": 2,
       "version_minor": 0
      },
      "text/plain": [
       "  0%|          | 0/200000 [00:00<?, ?it/s]"
      ]
     },
     "metadata": {},
     "output_type": "display_data"
    },
    {
     "name": "stdout",
     "output_type": "stream",
     "text": [
      "Loading tcga_mx_2\n"
     ]
    },
    {
     "data": {
      "application/vnd.jupyter.widget-view+json": {
       "model_id": "ae98e24f9fb845a48b8d69b2309e0633",
       "version_major": 2,
       "version_minor": 0
      },
      "text/plain": [
       "  0%|          | 0/200000 [00:00<?, ?it/s]"
      ]
     },
     "metadata": {},
     "output_type": "display_data"
    },
    {
     "name": "stdout",
     "output_type": "stream",
     "text": [
      "Loading tcga_mx_3\n"
     ]
    },
    {
     "data": {
      "application/vnd.jupyter.widget-view+json": {
       "model_id": "7ea1f6025d034eddacab85559de023de",
       "version_major": 2,
       "version_minor": 0
      },
      "text/plain": [
       "  0%|          | 0/200000 [00:00<?, ?it/s]"
      ]
     },
     "metadata": {},
     "output_type": "display_data"
    },
    {
     "name": "stdout",
     "output_type": "stream",
     "text": [
      "Loading tcga_mx_4\n"
     ]
    },
    {
     "data": {
      "application/vnd.jupyter.widget-view+json": {
       "model_id": "8365ed790fbc4702aa85868db552c6b8",
       "version_major": 2,
       "version_minor": 0
      },
      "text/plain": [
       "  0%|          | 0/200000 [00:00<?, ?it/s]"
      ]
     },
     "metadata": {},
     "output_type": "display_data"
    },
    {
     "name": "stdout",
     "output_type": "stream",
     "text": [
      "Loading tcga_mx_5\n"
     ]
    },
    {
     "data": {
      "application/vnd.jupyter.widget-view+json": {
       "model_id": "ed66be80c04c4b51930e3c4525a86f9f",
       "version_major": 2,
       "version_minor": 0
      },
      "text/plain": [
       "  0%|          | 0/102293 [00:00<?, ?it/s]"
      ]
     },
     "metadata": {},
     "output_type": "display_data"
    },
    {
     "name": "stdout",
     "output_type": "stream",
     "text": [
      "Loading tcga_mx_1\n"
     ]
    },
    {
     "data": {
      "application/vnd.jupyter.widget-view+json": {
       "model_id": "0076d8c622b244b28f41d1eafb85addb",
       "version_major": 2,
       "version_minor": 0
      },
      "text/plain": [
       "  0%|          | 0/200000 [00:00<?, ?it/s]"
      ]
     },
     "metadata": {},
     "output_type": "display_data"
    },
    {
     "name": "stdout",
     "output_type": "stream",
     "text": [
      "Loading tcga_mx_2\n"
     ]
    },
    {
     "data": {
      "application/vnd.jupyter.widget-view+json": {
       "model_id": "236697a98efa404495fc4d9881631436",
       "version_major": 2,
       "version_minor": 0
      },
      "text/plain": [
       "  0%|          | 0/200000 [00:00<?, ?it/s]"
      ]
     },
     "metadata": {},
     "output_type": "display_data"
    },
    {
     "name": "stdout",
     "output_type": "stream",
     "text": [
      "Loading tcga_mx_3\n"
     ]
    },
    {
     "data": {
      "application/vnd.jupyter.widget-view+json": {
       "model_id": "dcca9c4057ca44d9b21d97c61ea5cbec",
       "version_major": 2,
       "version_minor": 0
      },
      "text/plain": [
       "  0%|          | 0/200000 [00:00<?, ?it/s]"
      ]
     },
     "metadata": {},
     "output_type": "display_data"
    },
    {
     "name": "stdout",
     "output_type": "stream",
     "text": [
      "Loading tcga_mx_4\n"
     ]
    },
    {
     "data": {
      "application/vnd.jupyter.widget-view+json": {
       "model_id": "426eb2f82ef44b34ba134982f9fd16cc",
       "version_major": 2,
       "version_minor": 0
      },
      "text/plain": [
       "  0%|          | 0/200000 [00:00<?, ?it/s]"
      ]
     },
     "metadata": {},
     "output_type": "display_data"
    },
    {
     "name": "stdout",
     "output_type": "stream",
     "text": [
      "Loading tcga_mx_5\n"
     ]
    },
    {
     "data": {
      "application/vnd.jupyter.widget-view+json": {
       "model_id": "7a7029e0cdc741d98100513be460e80f",
       "version_major": 2,
       "version_minor": 0
      },
      "text/plain": [
       "  0%|          | 0/102293 [00:00<?, ?it/s]"
      ]
     },
     "metadata": {},
     "output_type": "display_data"
    },
    {
     "name": "stdout",
     "output_type": "stream",
     "text": [
      "Loading tcga_mx_1\n"
     ]
    },
    {
     "data": {
      "application/vnd.jupyter.widget-view+json": {
       "model_id": "f4229bd3872645c8bfb0b9ccd844a29a",
       "version_major": 2,
       "version_minor": 0
      },
      "text/plain": [
       "  0%|          | 0/200000 [00:00<?, ?it/s]"
      ]
     },
     "metadata": {},
     "output_type": "display_data"
    },
    {
     "name": "stdout",
     "output_type": "stream",
     "text": [
      "Loading tcga_mx_2\n"
     ]
    },
    {
     "data": {
      "application/vnd.jupyter.widget-view+json": {
       "model_id": "009e0b2ae70244f5a5f41309953843e1",
       "version_major": 2,
       "version_minor": 0
      },
      "text/plain": [
       "  0%|          | 0/200000 [00:00<?, ?it/s]"
      ]
     },
     "metadata": {},
     "output_type": "display_data"
    },
    {
     "name": "stdout",
     "output_type": "stream",
     "text": [
      "Loading tcga_mx_3\n"
     ]
    },
    {
     "data": {
      "application/vnd.jupyter.widget-view+json": {
       "model_id": "a9de5419108e417eae3f779811c9d7c7",
       "version_major": 2,
       "version_minor": 0
      },
      "text/plain": [
       "  0%|          | 0/200000 [00:00<?, ?it/s]"
      ]
     },
     "metadata": {},
     "output_type": "display_data"
    },
    {
     "name": "stdout",
     "output_type": "stream",
     "text": [
      "Loading tcga_mx_4\n"
     ]
    },
    {
     "data": {
      "application/vnd.jupyter.widget-view+json": {
       "model_id": "dbf4add62ca64ff795946d562f12f53d",
       "version_major": 2,
       "version_minor": 0
      },
      "text/plain": [
       "  0%|          | 0/200000 [00:00<?, ?it/s]"
      ]
     },
     "metadata": {},
     "output_type": "display_data"
    },
    {
     "name": "stdout",
     "output_type": "stream",
     "text": [
      "Loading tcga_mx_5\n"
     ]
    },
    {
     "data": {
      "application/vnd.jupyter.widget-view+json": {
       "model_id": "46559c72c61347ecaba7616ac05c0655",
       "version_major": 2,
       "version_minor": 0
      },
      "text/plain": [
       "  0%|          | 0/102293 [00:00<?, ?it/s]"
      ]
     },
     "metadata": {},
     "output_type": "display_data"
    },
    {
     "name": "stdout",
     "output_type": "stream",
     "text": [
      "Loading tcga_mx_1\n"
     ]
    },
    {
     "data": {
      "application/vnd.jupyter.widget-view+json": {
       "model_id": "268eaf55d1bf4020ad68b85814781919",
       "version_major": 2,
       "version_minor": 0
      },
      "text/plain": [
       "  0%|          | 0/200000 [00:00<?, ?it/s]"
      ]
     },
     "metadata": {},
     "output_type": "display_data"
    },
    {
     "name": "stdout",
     "output_type": "stream",
     "text": [
      "Loading tcga_mx_2\n"
     ]
    },
    {
     "data": {
      "application/vnd.jupyter.widget-view+json": {
       "model_id": "c84241998ffe4b24b333e251ac00e330",
       "version_major": 2,
       "version_minor": 0
      },
      "text/plain": [
       "  0%|          | 0/200000 [00:00<?, ?it/s]"
      ]
     },
     "metadata": {},
     "output_type": "display_data"
    },
    {
     "name": "stdout",
     "output_type": "stream",
     "text": [
      "Loading tcga_mx_3\n"
     ]
    },
    {
     "data": {
      "application/vnd.jupyter.widget-view+json": {
       "model_id": "f0feb8cb9a6c4f8697d5404b1eebcbd2",
       "version_major": 2,
       "version_minor": 0
      },
      "text/plain": [
       "  0%|          | 0/200000 [00:00<?, ?it/s]"
      ]
     },
     "metadata": {},
     "output_type": "display_data"
    },
    {
     "name": "stdout",
     "output_type": "stream",
     "text": [
      "Loading tcga_mx_4\n"
     ]
    },
    {
     "data": {
      "application/vnd.jupyter.widget-view+json": {
       "model_id": "9fb2e6a4301c4cfdb57ed14643fb81f9",
       "version_major": 2,
       "version_minor": 0
      },
      "text/plain": [
       "  0%|          | 0/200000 [00:00<?, ?it/s]"
      ]
     },
     "metadata": {},
     "output_type": "display_data"
    },
    {
     "name": "stdout",
     "output_type": "stream",
     "text": [
      "Loading tcga_mx_5\n"
     ]
    },
    {
     "data": {
      "application/vnd.jupyter.widget-view+json": {
       "model_id": "17b38b1091df4643aaedc3270d5a4283",
       "version_major": 2,
       "version_minor": 0
      },
      "text/plain": [
       "  0%|          | 0/102293 [00:00<?, ?it/s]"
      ]
     },
     "metadata": {},
     "output_type": "display_data"
    },
    {
     "name": "stdout",
     "output_type": "stream",
     "text": [
      "Loading tcga_mx_1\n"
     ]
    },
    {
     "data": {
      "application/vnd.jupyter.widget-view+json": {
       "model_id": "ae09fe59a14749aab5e6847ad4d43635",
       "version_major": 2,
       "version_minor": 0
      },
      "text/plain": [
       "  0%|          | 0/200000 [00:00<?, ?it/s]"
      ]
     },
     "metadata": {},
     "output_type": "display_data"
    },
    {
     "name": "stdout",
     "output_type": "stream",
     "text": [
      "Loading tcga_mx_2\n"
     ]
    },
    {
     "data": {
      "application/vnd.jupyter.widget-view+json": {
       "model_id": "37b437394bcb46eaaeba7aee62bd37c5",
       "version_major": 2,
       "version_minor": 0
      },
      "text/plain": [
       "  0%|          | 0/200000 [00:00<?, ?it/s]"
      ]
     },
     "metadata": {},
     "output_type": "display_data"
    },
    {
     "name": "stdout",
     "output_type": "stream",
     "text": [
      "Loading tcga_mx_3\n"
     ]
    },
    {
     "data": {
      "application/vnd.jupyter.widget-view+json": {
       "model_id": "d53fa3ec9782480abbeb653ea88a51db",
       "version_major": 2,
       "version_minor": 0
      },
      "text/plain": [
       "  0%|          | 0/200000 [00:00<?, ?it/s]"
      ]
     },
     "metadata": {},
     "output_type": "display_data"
    },
    {
     "name": "stdout",
     "output_type": "stream",
     "text": [
      "Loading tcga_mx_4\n"
     ]
    },
    {
     "data": {
      "application/vnd.jupyter.widget-view+json": {
       "model_id": "07ef36fdcdb24d96b49c612087b44eeb",
       "version_major": 2,
       "version_minor": 0
      },
      "text/plain": [
       "  0%|          | 0/200000 [00:00<?, ?it/s]"
      ]
     },
     "metadata": {},
     "output_type": "display_data"
    },
    {
     "name": "stdout",
     "output_type": "stream",
     "text": [
      "Loading tcga_mx_5\n"
     ]
    },
    {
     "data": {
      "application/vnd.jupyter.widget-view+json": {
       "model_id": "ef32d8be57fb44f6a0a71a5a3d3188e4",
       "version_major": 2,
       "version_minor": 0
      },
      "text/plain": [
       "  0%|          | 0/102293 [00:00<?, ?it/s]"
      ]
     },
     "metadata": {},
     "output_type": "display_data"
    },
    {
     "name": "stdout",
     "output_type": "stream",
     "text": [
      "Loading tcga_mx_1\n"
     ]
    },
    {
     "data": {
      "application/vnd.jupyter.widget-view+json": {
       "model_id": "c291fa3912aa40a09b29ec0a1bc5e3e7",
       "version_major": 2,
       "version_minor": 0
      },
      "text/plain": [
       "  0%|          | 0/200000 [00:00<?, ?it/s]"
      ]
     },
     "metadata": {},
     "output_type": "display_data"
    },
    {
     "name": "stdout",
     "output_type": "stream",
     "text": [
      "Loading tcga_mx_2\n"
     ]
    },
    {
     "data": {
      "application/vnd.jupyter.widget-view+json": {
       "model_id": "271c0c3dd0cf4c3caae75a6f9930255f",
       "version_major": 2,
       "version_minor": 0
      },
      "text/plain": [
       "  0%|          | 0/200000 [00:00<?, ?it/s]"
      ]
     },
     "metadata": {},
     "output_type": "display_data"
    },
    {
     "name": "stdout",
     "output_type": "stream",
     "text": [
      "Loading tcga_mx_3\n"
     ]
    },
    {
     "data": {
      "application/vnd.jupyter.widget-view+json": {
       "model_id": "fcd21e08a226403a895a2f7fcd7e784f",
       "version_major": 2,
       "version_minor": 0
      },
      "text/plain": [
       "  0%|          | 0/200000 [00:00<?, ?it/s]"
      ]
     },
     "metadata": {},
     "output_type": "display_data"
    },
    {
     "name": "stdout",
     "output_type": "stream",
     "text": [
      "Loading tcga_mx_4\n"
     ]
    },
    {
     "data": {
      "application/vnd.jupyter.widget-view+json": {
       "model_id": "26ba1d8a3a8f4c3ea1619c4c6fdcb81a",
       "version_major": 2,
       "version_minor": 0
      },
      "text/plain": [
       "  0%|          | 0/200000 [00:00<?, ?it/s]"
      ]
     },
     "metadata": {},
     "output_type": "display_data"
    },
    {
     "name": "stdout",
     "output_type": "stream",
     "text": [
      "Loading tcga_mx_5\n"
     ]
    },
    {
     "data": {
      "application/vnd.jupyter.widget-view+json": {
       "model_id": "8bb9cbea0ea749b0aa62d12fa62affa0",
       "version_major": 2,
       "version_minor": 0
      },
      "text/plain": [
       "  0%|          | 0/102293 [00:00<?, ?it/s]"
      ]
     },
     "metadata": {},
     "output_type": "display_data"
    }
   ],
   "source": [
    "rpl22l1_3a_mx_overall_corrs = correlate_mx(\n",
    "    merged_tcga_info[\"RPL22L1_exon_3A_inclusion\"]\n",
    ")\n",
    "rpl22l1_3a_mx_wt_corrs = correlate_mx(rpl22_wt_subset[\"RPL22L1_exon_3A_inclusion\"])\n",
    "mdm4_6_mx_overall_corrs = correlate_mx(merged_tcga_info[\"MDM4_exon_6_inclusion\"])\n",
    "mdm4_6_mx_wt_corrs = correlate_mx(rpl22_wt_subset[\"MDM4_exon_6_inclusion\"])\n",
    "ubap2l_29_mx_overall_corrs = correlate_mx(merged_tcga_info[\"UBAP2L_exon_29_inclusion\"])\n",
    "ubap2l_29_mx_wt_corrs = correlate_mx(rpl22_wt_subset[\"UBAP2L_exon_29_inclusion\"])"
   ]
  },
  {
   "cell_type": "code",
   "execution_count": 9,
   "metadata": {
    "ExecuteTime": {
     "end_time": "2021-03-17T06:17:34.881946Z",
     "start_time": "2021-03-17T06:16:41.881790Z"
    }
   },
   "outputs": [],
   "source": [
    "csv_kwargs = {\"sep\": \"\\t\"}\n",
    "\n",
    "rpl22l1_3a_mx_overall_corrs.to_csv(\n",
    "    f\"../data/supplementary/rpl22l1_3a_mx_overall_corrs.txt\", **csv_kwargs\n",
    ")\n",
    "rpl22l1_3a_mx_wt_corrs.to_csv(\n",
    "    f\"../data/supplementary/rpl22l1_3a_mx_wt_corrs.txt\", **csv_kwargs\n",
    ")\n",
    "mdm4_6_mx_overall_corrs.to_csv(\n",
    "    f\"../data/supplementary/mdm4_6_mx_overall_corrs.txt\", **csv_kwargs\n",
    ")\n",
    "mdm4_6_mx_wt_corrs.to_csv(\n",
    "    f\"../data/supplementary/mdm4_6_mx_wt_corrs.txt\", **csv_kwargs\n",
    ")\n",
    "ubap2l_29_mx_overall_corrs.to_csv(\n",
    "    f\"../data/supplementary/ubap2l_29_mx_overall_corrs.txt\", **csv_kwargs\n",
    ")\n",
    "ubap2l_29_mx_wt_corrs.to_csv(\n",
    "    f\"../data/supplementary/ubap2l_29_mx_wt_corrs.txt\", **csv_kwargs\n",
    ")"
   ]
  },
  {
   "cell_type": "markdown",
   "metadata": {},
   "source": [
    "## Splicing vs gene expression and splicing"
   ]
  },
  {
   "cell_type": "code",
   "execution_count": 20,
   "metadata": {
    "ExecuteTime": {
     "end_time": "2020-12-18T21:00:05.094571Z",
     "start_time": "2020-12-18T18:40:45.331339Z"
    },
    "scrolled": false
   },
   "outputs": [
    {
     "data": {
      "application/vnd.jupyter.widget-view+json": {
       "model_id": "cc28fbafe135464f8e1796cf17e6fe66",
       "version_major": 2,
       "version_minor": 0
      },
      "text/plain": [
       "HBox(children=(HTML(value=''), FloatProgress(value=0.0, max=20531.0), HTML(value='')))"
      ]
     },
     "metadata": {},
     "output_type": "display_data"
    },
    {
     "name": "stdout",
     "output_type": "stream",
     "text": [
      "\n"
     ]
    },
    {
     "data": {
      "application/vnd.jupyter.widget-view+json": {
       "model_id": "1d9cf66dd9d74a1994e0ce4138248984",
       "version_major": 2,
       "version_minor": 0
      },
      "text/plain": [
       "HBox(children=(HTML(value=''), FloatProgress(value=0.0, max=136145.0), HTML(value='')))"
      ]
     },
     "metadata": {},
     "output_type": "display_data"
    },
    {
     "name": "stdout",
     "output_type": "stream",
     "text": [
      "\n"
     ]
    },
    {
     "data": {
      "application/vnd.jupyter.widget-view+json": {
       "model_id": "c35a510d9bf64849983c6ff1126fd771",
       "version_major": 2,
       "version_minor": 0
      },
      "text/plain": [
       "HBox(children=(HTML(value=''), FloatProgress(value=0.0, max=96354.0), HTML(value='')))"
      ]
     },
     "metadata": {},
     "output_type": "display_data"
    },
    {
     "name": "stdout",
     "output_type": "stream",
     "text": [
      "\n"
     ]
    },
    {
     "data": {
      "application/vnd.jupyter.widget-view+json": {
       "model_id": "a3360304530343038f4d1fb7de547611",
       "version_major": 2,
       "version_minor": 0
      },
      "text/plain": [
       "HBox(children=(HTML(value=''), FloatProgress(value=0.0, max=70536.0), HTML(value='')))"
      ]
     },
     "metadata": {},
     "output_type": "display_data"
    },
    {
     "name": "stdout",
     "output_type": "stream",
     "text": [
      "\n"
     ]
    },
    {
     "data": {
      "application/vnd.jupyter.widget-view+json": {
       "model_id": "360ebd2e70064eaa922ed76a3aa162b8",
       "version_major": 2,
       "version_minor": 0
      },
      "text/plain": [
       "HBox(children=(HTML(value=''), FloatProgress(value=0.0, max=91592.0), HTML(value='')))"
      ]
     },
     "metadata": {},
     "output_type": "display_data"
    },
    {
     "name": "stdout",
     "output_type": "stream",
     "text": [
      "\n"
     ]
    },
    {
     "data": {
      "application/vnd.jupyter.widget-view+json": {
       "model_id": "3982127e5331458bacecee2a33a4afd4",
       "version_major": 2,
       "version_minor": 0
      },
      "text/plain": [
       "HBox(children=(HTML(value=''), FloatProgress(value=0.0, max=20531.0), HTML(value='')))"
      ]
     },
     "metadata": {},
     "output_type": "display_data"
    },
    {
     "name": "stdout",
     "output_type": "stream",
     "text": [
      "\n"
     ]
    },
    {
     "data": {
      "application/vnd.jupyter.widget-view+json": {
       "model_id": "ad7d6d7e940d4bde9836e4a64d20f87f",
       "version_major": 2,
       "version_minor": 0
      },
      "text/plain": [
       "HBox(children=(HTML(value=''), FloatProgress(value=0.0, max=136145.0), HTML(value='')))"
      ]
     },
     "metadata": {},
     "output_type": "display_data"
    },
    {
     "name": "stdout",
     "output_type": "stream",
     "text": [
      "\n"
     ]
    },
    {
     "data": {
      "application/vnd.jupyter.widget-view+json": {
       "model_id": "64bdeb323b3a4f128f3a655fb69050d7",
       "version_major": 2,
       "version_minor": 0
      },
      "text/plain": [
       "HBox(children=(HTML(value=''), FloatProgress(value=0.0, max=96354.0), HTML(value='')))"
      ]
     },
     "metadata": {},
     "output_type": "display_data"
    },
    {
     "name": "stdout",
     "output_type": "stream",
     "text": [
      "\n"
     ]
    },
    {
     "data": {
      "application/vnd.jupyter.widget-view+json": {
       "model_id": "a6b1b512d8054619a54b94a65c6367f1",
       "version_major": 2,
       "version_minor": 0
      },
      "text/plain": [
       "HBox(children=(HTML(value=''), FloatProgress(value=0.0, max=70536.0), HTML(value='')))"
      ]
     },
     "metadata": {},
     "output_type": "display_data"
    },
    {
     "name": "stdout",
     "output_type": "stream",
     "text": [
      "\n"
     ]
    },
    {
     "data": {
      "application/vnd.jupyter.widget-view+json": {
       "model_id": "0e97730898a54efead437de6b6856cab",
       "version_major": 2,
       "version_minor": 0
      },
      "text/plain": [
       "HBox(children=(HTML(value=''), FloatProgress(value=0.0, max=91592.0), HTML(value='')))"
      ]
     },
     "metadata": {},
     "output_type": "display_data"
    },
    {
     "name": "stdout",
     "output_type": "stream",
     "text": [
      "\n"
     ]
    },
    {
     "data": {
      "application/vnd.jupyter.widget-view+json": {
       "model_id": "8997adeea1c44e34a6b8e4f59b381f06",
       "version_major": 2,
       "version_minor": 0
      },
      "text/plain": [
       "HBox(children=(HTML(value=''), FloatProgress(value=0.0, max=20531.0), HTML(value='')))"
      ]
     },
     "metadata": {},
     "output_type": "display_data"
    },
    {
     "name": "stdout",
     "output_type": "stream",
     "text": [
      "\n"
     ]
    },
    {
     "data": {
      "application/vnd.jupyter.widget-view+json": {
       "model_id": "477944b6120340dda5d690c83c5d53bd",
       "version_major": 2,
       "version_minor": 0
      },
      "text/plain": [
       "HBox(children=(HTML(value=''), FloatProgress(value=0.0, max=136145.0), HTML(value='')))"
      ]
     },
     "metadata": {},
     "output_type": "display_data"
    },
    {
     "name": "stdout",
     "output_type": "stream",
     "text": [
      "\n"
     ]
    },
    {
     "data": {
      "application/vnd.jupyter.widget-view+json": {
       "model_id": "c95507029b104591ad5fc8beaaddb2cd",
       "version_major": 2,
       "version_minor": 0
      },
      "text/plain": [
       "HBox(children=(HTML(value=''), FloatProgress(value=0.0, max=96354.0), HTML(value='')))"
      ]
     },
     "metadata": {},
     "output_type": "display_data"
    },
    {
     "name": "stdout",
     "output_type": "stream",
     "text": [
      "\n"
     ]
    },
    {
     "data": {
      "application/vnd.jupyter.widget-view+json": {
       "model_id": "4c20794b537c49f3b4d74c87defdfc19",
       "version_major": 2,
       "version_minor": 0
      },
      "text/plain": [
       "HBox(children=(HTML(value=''), FloatProgress(value=0.0, max=70536.0), HTML(value='')))"
      ]
     },
     "metadata": {},
     "output_type": "display_data"
    },
    {
     "name": "stdout",
     "output_type": "stream",
     "text": [
      "\n"
     ]
    },
    {
     "data": {
      "application/vnd.jupyter.widget-view+json": {
       "model_id": "0261a87081784a59b9537584db962e8d",
       "version_major": 2,
       "version_minor": 0
      },
      "text/plain": [
       "HBox(children=(HTML(value=''), FloatProgress(value=0.0, max=91592.0), HTML(value='')))"
      ]
     },
     "metadata": {},
     "output_type": "display_data"
    },
    {
     "name": "stdout",
     "output_type": "stream",
     "text": [
      "\n"
     ]
    },
    {
     "data": {
      "application/vnd.jupyter.widget-view+json": {
       "model_id": "6b1dd8e62b8a44c6a38b1ac634a2ebb3",
       "version_major": 2,
       "version_minor": 0
      },
      "text/plain": [
       "HBox(children=(HTML(value=''), FloatProgress(value=0.0, max=20531.0), HTML(value='')))"
      ]
     },
     "metadata": {},
     "output_type": "display_data"
    },
    {
     "name": "stdout",
     "output_type": "stream",
     "text": [
      "\n"
     ]
    },
    {
     "data": {
      "application/vnd.jupyter.widget-view+json": {
       "model_id": "c979428d59db43eab8b3f7034124d092",
       "version_major": 2,
       "version_minor": 0
      },
      "text/plain": [
       "HBox(children=(HTML(value=''), FloatProgress(value=0.0, max=136145.0), HTML(value='')))"
      ]
     },
     "metadata": {},
     "output_type": "display_data"
    },
    {
     "name": "stdout",
     "output_type": "stream",
     "text": [
      "\n"
     ]
    },
    {
     "data": {
      "application/vnd.jupyter.widget-view+json": {
       "model_id": "d5decc795eea4d27838c9639cbe7e040",
       "version_major": 2,
       "version_minor": 0
      },
      "text/plain": [
       "HBox(children=(HTML(value=''), FloatProgress(value=0.0, max=96354.0), HTML(value='')))"
      ]
     },
     "metadata": {},
     "output_type": "display_data"
    },
    {
     "name": "stdout",
     "output_type": "stream",
     "text": [
      "\n"
     ]
    },
    {
     "data": {
      "application/vnd.jupyter.widget-view+json": {
       "model_id": "7e14e1baa2ab4bfaa47cc76136290fd2",
       "version_major": 2,
       "version_minor": 0
      },
      "text/plain": [
       "HBox(children=(HTML(value=''), FloatProgress(value=0.0, max=70536.0), HTML(value='')))"
      ]
     },
     "metadata": {},
     "output_type": "display_data"
    },
    {
     "name": "stdout",
     "output_type": "stream",
     "text": [
      "\n"
     ]
    },
    {
     "data": {
      "application/vnd.jupyter.widget-view+json": {
       "model_id": "82935fa04f2a43a4ba4c9b8d41598df3",
       "version_major": 2,
       "version_minor": 0
      },
      "text/plain": [
       "HBox(children=(HTML(value=''), FloatProgress(value=0.0, max=91592.0), HTML(value='')))"
      ]
     },
     "metadata": {},
     "output_type": "display_data"
    },
    {
     "name": "stdout",
     "output_type": "stream",
     "text": [
      "\n"
     ]
    },
    {
     "data": {
      "application/vnd.jupyter.widget-view+json": {
       "model_id": "d21f038145614e76b51158ce828eb016",
       "version_major": 2,
       "version_minor": 0
      },
      "text/plain": [
       "HBox(children=(HTML(value=''), FloatProgress(value=0.0, max=20531.0), HTML(value='')))"
      ]
     },
     "metadata": {},
     "output_type": "display_data"
    },
    {
     "name": "stdout",
     "output_type": "stream",
     "text": [
      "\n"
     ]
    },
    {
     "data": {
      "application/vnd.jupyter.widget-view+json": {
       "model_id": "715ca96458d14d37ba579e39435e59c5",
       "version_major": 2,
       "version_minor": 0
      },
      "text/plain": [
       "HBox(children=(HTML(value=''), FloatProgress(value=0.0, max=136145.0), HTML(value='')))"
      ]
     },
     "metadata": {},
     "output_type": "display_data"
    },
    {
     "name": "stdout",
     "output_type": "stream",
     "text": [
      "\n"
     ]
    },
    {
     "data": {
      "application/vnd.jupyter.widget-view+json": {
       "model_id": "5a750bb2b31148fcbe96e38a5569f3da",
       "version_major": 2,
       "version_minor": 0
      },
      "text/plain": [
       "HBox(children=(HTML(value=''), FloatProgress(value=0.0, max=96354.0), HTML(value='')))"
      ]
     },
     "metadata": {},
     "output_type": "display_data"
    },
    {
     "name": "stdout",
     "output_type": "stream",
     "text": [
      "\n"
     ]
    },
    {
     "data": {
      "application/vnd.jupyter.widget-view+json": {
       "model_id": "b189319481fd4f40814d0122a0f82707",
       "version_major": 2,
       "version_minor": 0
      },
      "text/plain": [
       "HBox(children=(HTML(value=''), FloatProgress(value=0.0, max=70536.0), HTML(value='')))"
      ]
     },
     "metadata": {},
     "output_type": "display_data"
    },
    {
     "name": "stdout",
     "output_type": "stream",
     "text": [
      "\n"
     ]
    },
    {
     "data": {
      "application/vnd.jupyter.widget-view+json": {
       "model_id": "615fb1692b11416c83060039cf50e798",
       "version_major": 2,
       "version_minor": 0
      },
      "text/plain": [
       "HBox(children=(HTML(value=''), FloatProgress(value=0.0, max=91592.0), HTML(value='')))"
      ]
     },
     "metadata": {},
     "output_type": "display_data"
    },
    {
     "name": "stdout",
     "output_type": "stream",
     "text": [
      "\n"
     ]
    },
    {
     "data": {
      "application/vnd.jupyter.widget-view+json": {
       "model_id": "ce12a9fd6ff743ffb263794620ebc25e",
       "version_major": 2,
       "version_minor": 0
      },
      "text/plain": [
       "HBox(children=(HTML(value=''), FloatProgress(value=0.0, max=20531.0), HTML(value='')))"
      ]
     },
     "metadata": {},
     "output_type": "display_data"
    },
    {
     "name": "stdout",
     "output_type": "stream",
     "text": [
      "\n"
     ]
    },
    {
     "data": {
      "application/vnd.jupyter.widget-view+json": {
       "model_id": "94759b8fa47844e99bfd7b68b32866c4",
       "version_major": 2,
       "version_minor": 0
      },
      "text/plain": [
       "HBox(children=(HTML(value=''), FloatProgress(value=0.0, max=136145.0), HTML(value='')))"
      ]
     },
     "metadata": {},
     "output_type": "display_data"
    },
    {
     "name": "stdout",
     "output_type": "stream",
     "text": [
      "\n"
     ]
    },
    {
     "data": {
      "application/vnd.jupyter.widget-view+json": {
       "model_id": "9a9909ddd45e4972b1f986adeaa157eb",
       "version_major": 2,
       "version_minor": 0
      },
      "text/plain": [
       "HBox(children=(HTML(value=''), FloatProgress(value=0.0, max=96354.0), HTML(value='')))"
      ]
     },
     "metadata": {},
     "output_type": "display_data"
    },
    {
     "name": "stdout",
     "output_type": "stream",
     "text": [
      "\n"
     ]
    },
    {
     "data": {
      "application/vnd.jupyter.widget-view+json": {
       "model_id": "c740420cbe06433d97c7697b8fae3939",
       "version_major": 2,
       "version_minor": 0
      },
      "text/plain": [
       "HBox(children=(HTML(value=''), FloatProgress(value=0.0, max=70536.0), HTML(value='')))"
      ]
     },
     "metadata": {},
     "output_type": "display_data"
    },
    {
     "name": "stdout",
     "output_type": "stream",
     "text": [
      "\n"
     ]
    },
    {
     "data": {
      "application/vnd.jupyter.widget-view+json": {
       "model_id": "81bd03d742c146cb86c71002159d6519",
       "version_major": 2,
       "version_minor": 0
      },
      "text/plain": [
       "HBox(children=(HTML(value=''), FloatProgress(value=0.0, max=91592.0), HTML(value='')))"
      ]
     },
     "metadata": {},
     "output_type": "display_data"
    },
    {
     "name": "stdout",
     "output_type": "stream",
     "text": [
      "\n"
     ]
    }
   ],
   "source": [
    "compare_sets = [tcga_genex, tcga_se, tcga_a3ss, tcga_a5ss, tcga_ir]\n",
    "\n",
    "(\n",
    "    rpl22l1_3a_genex_overall_corrs,\n",
    "    rpl22l1_3a_se_overall_corrs,\n",
    "    rpl22l1_3a_a3ss_overall_corrs,\n",
    "    rpl22l1_3a_a5ss_overall_corrs,\n",
    "    rpl22l1_3a_ir_overall_corrs,\n",
    ") = [\n",
    "    many.stats.mat_corr_naive(\n",
    "        merged_tcga_info[\"RPL22L1_exon_3A_inclusion\"], df, **corr_kwargs\n",
    "    )\n",
    "    for df in compare_sets\n",
    "]\n",
    "\n",
    "(\n",
    "    rpl22l1_3a_genex_wt_corrs,\n",
    "    rpl22l1_3a_se_wt_corrs,\n",
    "    rpl22l1_3a_a3ss_wt_corrs,\n",
    "    rpl22l1_3a_a5ss_wt_corrs,\n",
    "    rpl22l1_3a_ir_wt_corrs,\n",
    ") = [\n",
    "    many.stats.mat_corr_naive(\n",
    "        rpl22_wt_subset[\"RPL22L1_exon_3A_inclusion\"], df, **corr_kwargs\n",
    "    )\n",
    "    for df in compare_sets\n",
    "]\n",
    "\n",
    "(\n",
    "    mdm4_6_genex_overall_corrs,\n",
    "    mdm4_6_se_overall_corrs,\n",
    "    mdm4_6_a3ss_overall_corrs,\n",
    "    mdm4_6_a5ss_overall_corrs,\n",
    "    mdm4_6_ir_overall_corrs,\n",
    ") = [\n",
    "    many.stats.mat_corr_naive(\n",
    "        merged_tcga_info[\"MDM4_exon_6_inclusion\"], df, **corr_kwargs\n",
    "    )\n",
    "    for df in compare_sets\n",
    "]\n",
    "\n",
    "(\n",
    "    mdm4_6_genex_wt_corrs,\n",
    "    mdm4_6_se_wt_corrs,\n",
    "    mdm4_6_a3ss_wt_corrs,\n",
    "    mdm4_6_a5ss_wt_corrs,\n",
    "    mdm4_6_ir_wt_corrs,\n",
    ") = [\n",
    "    many.stats.mat_corr_naive(\n",
    "        rpl22_wt_subset[\"MDM4_exon_6_inclusion\"], df, **corr_kwargs\n",
    "    )\n",
    "    for df in compare_sets\n",
    "]\n",
    "\n",
    "(\n",
    "    ubap2l_29_genex_overall_corrs,\n",
    "    ubap2l_29_se_overall_corrs,\n",
    "    ubap2l_29_a3ss_overall_corrs,\n",
    "    ubap2l_29_a5ss_overall_corrs,\n",
    "    ubap2l_29_ir_overall_corrs,\n",
    ") = [\n",
    "    many.stats.mat_corr_naive(\n",
    "        merged_tcga_info[\"UBAP2L_exon_29_inclusion\"], df, **corr_kwargs\n",
    "    )\n",
    "    for df in compare_sets\n",
    "]\n",
    "\n",
    "(\n",
    "    ubap2l_29_genex_wt_corrs,\n",
    "    ubap2l_29_se_wt_corrs,\n",
    "    ubap2l_29_a3ss_wt_corrs,\n",
    "    ubap2l_29_a5ss_wt_corrs,\n",
    "    ubap2l_29_ir_wt_corrs,\n",
    ") = [\n",
    "    many.stats.mat_corr_naive(\n",
    "        rpl22_wt_subset[\"UBAP2L_exon_29_inclusion\"], df, **corr_kwargs\n",
    "    )\n",
    "    for df in compare_sets\n",
    "\n",
    "]"
   ]
  },
  {
   "cell_type": "markdown",
   "metadata": {},
   "source": [
    "## Merge splicing correlations"
   ]
  },
  {
   "cell_type": "code",
   "execution_count": 24,
   "metadata": {
    "ExecuteTime": {
     "end_time": "2020-12-18T21:15:30.510161Z",
     "start_time": "2020-12-18T21:15:23.790379Z"
    }
   },
   "outputs": [],
   "source": [
    "rpl22l1_3a_exonusage_overall_corrs = pd.concat(\n",
    "    [\n",
    "        rpl22l1_3a_se_overall_corrs,\n",
    "        rpl22l1_3a_a3ss_overall_corrs,\n",
    "        rpl22l1_3a_a5ss_overall_corrs,\n",
    "        rpl22l1_3a_ir_overall_corrs,\n",
    "        rpl22l1_3a_mx_overall_corrs,\n",
    "    ]\n",
    ")\n",
    "\n",
    "rpl22l1_3a_exonusage_wt_corrs = pd.concat(\n",
    "    [\n",
    "        rpl22l1_3a_se_wt_corrs,\n",
    "        rpl22l1_3a_a3ss_wt_corrs,\n",
    "        rpl22l1_3a_a5ss_wt_corrs,\n",
    "        rpl22l1_3a_ir_wt_corrs,\n",
    "        rpl22l1_3a_mx_wt_corrs,\n",
    "    ]\n",
    ")\n",
    "\n",
    "mdm4_6_exonusage_overall_corrs = pd.concat(\n",
    "    [\n",
    "        mdm4_6_se_overall_corrs,\n",
    "        mdm4_6_a3ss_overall_corrs,\n",
    "        mdm4_6_a5ss_overall_corrs,\n",
    "        mdm4_6_ir_overall_corrs,\n",
    "        mdm4_6_mx_overall_corrs,\n",
    "    ]\n",
    ")\n",
    "\n",
    "mdm4_6_exonusage_wt_corrs = pd.concat(\n",
    "    [\n",
    "        mdm4_6_se_wt_corrs,\n",
    "        mdm4_6_a3ss_wt_corrs,\n",
    "        mdm4_6_a5ss_wt_corrs,\n",
    "        mdm4_6_ir_wt_corrs,\n",
    "        mdm4_6_mx_wt_corrs,\n",
    "    ]\n",
    ")\n",
    "\n",
    "ubap2l_29_exonusage_overall_corrs = pd.concat(\n",
    "    [\n",
    "        ubap2l_29_se_overall_corrs,\n",
    "        ubap2l_29_a3ss_overall_corrs,\n",
    "        ubap2l_29_a5ss_overall_corrs,\n",
    "        ubap2l_29_ir_overall_corrs,\n",
    "        ubap2l_29_mx_overall_corrs,\n",
    "    ]\n",
    ")\n",
    "\n",
    "ubap2l_29_exonusage_wt_corrs = pd.concat(\n",
    "    [\n",
    "        ubap2l_29_se_wt_corrs,\n",
    "        ubap2l_29_a3ss_wt_corrs,\n",
    "        ubap2l_29_a5ss_wt_corrs,\n",
    "        ubap2l_29_ir_wt_corrs,\n",
    "        ubap2l_29_mx_wt_corrs,\n",
    "    ]\n",
    ")"
   ]
  },
  {
   "cell_type": "markdown",
   "metadata": {},
   "source": [
    "## Recalculate q-values"
   ]
  },
  {
   "cell_type": "code",
   "execution_count": 39,
   "metadata": {
    "ExecuteTime": {
     "end_time": "2021-03-17T21:40:37.692148Z",
     "start_time": "2021-03-17T21:40:37.686267Z"
    }
   },
   "outputs": [],
   "source": [
    "def format_exonusage(df):\n",
    "    \n",
    "    df[\"qval\"] = -np.log10(\n",
    "        multipletests(\n",
    "            10 ** (-df[\"pval\"]),\n",
    "            alpha=0.01,\n",
    "            method=\"fdr_bh\",\n",
    "        )[1]\n",
    "    )\n",
    "\n",
    "\n",
    "    df = df.sort_values(\"pval\", ascending=False)\n",
    "    df = df.reset_index(drop=True)\n",
    "    \n",
    "    return df\n",
    "\n",
    "rpl22l1_3a_exonusage_overall_corrs = format_exonusage(rpl22l1_3a_exonusage_overall_corrs)\n",
    "rpl22l1_3a_exonusage_wt_corrs = format_exonusage(rpl22l1_3a_exonusage_wt_corrs)\n",
    "mdm4_6_exonusage_overall_corrs = format_exonusage(mdm4_6_exonusage_overall_corrs)\n",
    "mdm4_6_exonusage_wt_corrs = format_exonusage(mdm4_6_exonusage_wt_corrs)\n",
    "ubap2l_29_exonusage_overall_corrs = format_exonusage(ubap2l_29_exonusage_overall_corrs)\n",
    "ubap2l_29_exonusage_wt_corrs = format_exonusage(ubap2l_29_exonusage_wt_corrs)"
   ]
  },
  {
   "cell_type": "markdown",
   "metadata": {},
   "source": [
    "## Export tables"
   ]
  },
  {
   "cell_type": "code",
   "execution_count": 26,
   "metadata": {
    "ExecuteTime": {
     "end_time": "2020-12-18T21:20:35.764305Z",
     "start_time": "2020-12-18T21:20:07.921205Z"
    }
   },
   "outputs": [],
   "source": [
    "csv_kwargs = {\"sep\": \"\\t\"}\n",
    "\n",
    "outputs = [\n",
    "    [rpl22l1_3a_genex_overall_corrs, \"S4-a_rpl22l1-3a-genex-overall-corrs\"],\n",
    "    [rpl22l1_3a_exonusage_overall_corrs, \"S4-b_rpl22l1-3a-exonusage-overall-corrs\"],\n",
    "    [rpl22l1_3a_genex_wt_corrs, \"S4-c_rpl22l1-3a-genex-wt-corrs\"],\n",
    "    [rpl22l1_3a_exonusage_wt_corrs, \"S4-d_rpl22l1-3a-exonusage-wt-corrs\"],\n",
    "    [mdm4_6_genex_overall_corrs, \"S4-e_mdm4-6-genex-overall-corrs\"],\n",
    "    [mdm4_6_exonusage_overall_corrs, \"S4-f_mdm4-6-exonusage-overall-corrs\"],\n",
    "    [mdm4_6_genex_wt_corrs, \"S4-g_mdm4-6-genex-wt-corrs\"],\n",
    "    [mdm4_6_exonusage_wt_corrs, \"S4-h_mdm4-6-exonusage-wt-corrs\"],\n",
    "    [ubap2l_29_genex_overall_corrs, \"S4-i_ubap2l-29-genex-overall-corrs\"],\n",
    "    [ubap2l_29_exonusage_overall_corrs, \"S4-j_ubap2l-29-exonusage-overall-corrs\"],\n",
    "    [ubap2l_29_genex_wt_corrs, \"S4-k_ubap2l-29-genex-wt-corrs\"],\n",
    "    [ubap2l_29_exonusage_wt_corrs, \"S4-l_ubap2l-29-exonusage-wt-corrs\"],\n",
    "]\n",
    "\n",
    "for table, stem in outputs:\n",
    "\n",
    "    table.to_csv(f\"../data/supplementary/{stem}.txt\", **csv_kwargs)"
   ]
  }
 ],
 "metadata": {
  "kernelspec": {
   "display_name": "Python 3",
   "language": "python",
   "name": "python3"
  },
  "language_info": {
   "codemirror_mode": {
    "name": "ipython",
    "version": 3
   },
   "file_extension": ".py",
   "mimetype": "text/x-python",
   "name": "python",
   "nbconvert_exporter": "python",
   "pygments_lexer": "ipython3",
   "version": "3.8.7"
  },
  "toc": {
   "base_numbering": 1,
   "nav_menu": {},
   "number_sections": true,
   "sideBar": true,
   "skip_h1_title": false,
   "title_cell": "Table of Contents",
   "title_sidebar": "Contents",
   "toc_cell": false,
   "toc_position": {},
   "toc_section_display": true,
   "toc_window_display": false
  }
 },
 "nbformat": 4,
 "nbformat_minor": 4
}
