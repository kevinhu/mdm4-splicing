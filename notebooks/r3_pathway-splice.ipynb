{
 "cells": [
  {
   "cell_type": "code",
   "execution_count": 11,
   "id": "5dfe1ae3",
   "metadata": {
    "ExecuteTime": {
     "end_time": "2022-01-24T04:53:28.300796Z",
     "start_time": "2022-01-24T04:53:28.265Z"
    }
   },
   "outputs": [
    {
     "ename": "ERROR",
     "evalue": "Error in library(PathwaySplice): there is no package called ‘PathwaySplice’\n",
     "output_type": "error",
     "traceback": [
      "Error in library(PathwaySplice): there is no package called ‘PathwaySplice’\nTraceback:\n",
      "1. library(PathwaySplice)"
     ]
    }
   ],
   "source": [
    "# library(devtools)\n",
    "# install_github(\"SCCC-BBC/PathwaySplice\",ref = 'development')\n",
    "\n",
    "library(PathwaySplice)\n",
    "library(data.table)\n",
    "\n",
    "setwd(dirname(rstudioapi::getSourceEditorContext()$path))\n"
   ]
  }
 ],
 "metadata": {
  "kernelspec": {
   "display_name": "R",
   "language": "R",
   "name": "ir"
  },
  "language_info": {
   "codemirror_mode": "r",
   "file_extension": ".r",
   "mimetype": "text/x-r-source",
   "name": "R",
   "pygments_lexer": "r",
   "version": "4.1.2"
  },
  "toc": {
   "base_numbering": 1,
   "nav_menu": {},
   "number_sections": true,
   "sideBar": true,
   "skip_h1_title": false,
   "title_cell": "Table of Contents",
   "title_sidebar": "Contents",
   "toc_cell": false,
   "toc_position": {},
   "toc_section_display": true,
   "toc_window_display": false
  }
 },
 "nbformat": 4,
 "nbformat_minor": 5
}
