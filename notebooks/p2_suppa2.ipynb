{
 "cells": [
  {
   "cell_type": "code",
   "execution_count": 3,
   "metadata": {
    "ExecuteTime": {
     "end_time": "2019-10-30T18:28:51.751006Z",
     "start_time": "2019-10-30T18:28:50.687869Z"
    }
   },
   "outputs": [],
   "source": [
    "import pandas as pd\n",
    "import numpy as np\n",
    "\n",
    "import matplotlib.pyplot as plt"
   ]
  },
  {
   "cell_type": "markdown",
   "metadata": {},
   "source": [
    "# Experimental setup"
   ]
  },
  {
   "cell_type": "code",
   "execution_count": 4,
   "metadata": {
    "ExecuteTime": {
     "end_time": "2019-10-30T18:28:51.761751Z",
     "start_time": "2019-10-30T18:28:51.753244Z"
    }
   },
   "outputs": [],
   "source": [
    "experiments = pd.read_csv(\n",
    "    \"../data/intermediate/experiment_setup.txt\", sep=\"\\t\")\n",
    "samples = list(experiments[\"sample\"])\n",
    "\n",
    "sample_groups = [samples[0:3],\n",
    "                 samples[3:6],\n",
    "                 samples[6:9],\n",
    "                 samples[9:12],\n",
    "                 samples[12:15],\n",
    "                 samples[15:18],\n",
    "                 samples[18:21],\n",
    "                 ]\n",
    "sample_names = [\"RPL22_oe_c\",\n",
    "                \"RPL22_oe_t\",\n",
    "                \"RPL22L1_oe_c\",\n",
    "                \"RPL22L1_oe_t\",\n",
    "                \"shluc\",\n",
    "                \"sh704\",\n",
    "                \"sh705\"]"
   ]
  },
  {
   "cell_type": "markdown",
   "metadata": {},
   "source": [
    "# Transcripts to genes"
   ]
  },
  {
   "cell_type": "code",
   "execution_count": 56,
   "metadata": {
    "ExecuteTime": {
     "end_time": "2019-10-31T20:43:21.725087Z",
     "start_time": "2019-10-31T20:43:20.869748Z"
    }
   },
   "outputs": [],
   "source": [
    "t2g = pd.read_csv(\"../data/raw/kallisto_homo_sapiens/transcripts_to_genes.txt\",\n",
    "                  sep=\"\\t\",\n",
    "                  names=[\"transcript_id\", \"gene_id\", \"gene_name\"]\n",
    "                  )\n",
    "\n",
    "\n",
    "t2g[\"format_transcript_id\"] = t2g[\"gene_name\"] + \"_\" + t2g[\"transcript_id\"]\n",
    "t2g[\"format_gene_id\"] = t2g[\"gene_name\"] + \"_\" + t2g[\"gene_id\"]\n",
    "t2g[\"gene_id_stable\"] = t2g[\"gene_id\"].str.split(\".\").str[0]\n",
    "\n",
    "gene_name_map = dict(zip(t2g[\"gene_id_stable\"], t2g[\"gene_name\"]))\n"
   ]
  },
  {
   "cell_type": "markdown",
   "metadata": {},
   "source": [
    "# Partitions"
   ]
  },
  {
   "cell_type": "markdown",
   "metadata": {},
   "source": [
    "## Partition exon psis"
   ]
  },
  {
   "cell_type": "code",
   "execution_count": 66,
   "metadata": {
    "ExecuteTime": {
     "end_time": "2019-10-31T21:17:21.742053Z",
     "start_time": "2019-10-31T21:17:10.875254Z"
    }
   },
   "outputs": [],
   "source": [
    "splice_types = [\"A3\", \"A5\", \"AF\", \"AL\", \"MX\", \"RI\", \"SE\"]\n",
    "\n",
    "psis = [pd.read_csv(\"../data/intermediate/suppa_exon_psis/\" +\n",
    "                    x+\".psi\", sep=\"\\t\") for x in splice_types]\n",
    "\n",
    "for splice_type, splice_psis in zip(splice_types, psis):\n",
    "\n",
    "    for sample_name, sample_group in zip(sample_names, sample_groups):\n",
    "\n",
    "        sample_psis = splice_psis[sample_group]\n",
    "        \n",
    "#         sample_psis = sample_psis.dropna(axis=0,how=\"any\")\n",
    "#         sample_psis = sample_psis.fillna(0)\n",
    "\n",
    "        sample_psis.to_csv(\"../data/intermediate/suppa_exon_psis_grouped/\"+splice_type+\"_\"+sample_name+\".psi\",\n",
    "                           sep=\"\\t\",\n",
    "                           na_rep='nan',\n",
    "                           index_label=False\n",
    "                           )\n",
    "\n",
    "exon_psis = pd.concat(psis)\n",
    "\n",
    "exon_psis.to_hdf(\"../data/processed/suppa2_exon_psis.hdf\", key=\"exon_psis\", mode=\"w\")"
   ]
  },
  {
   "cell_type": "markdown",
   "metadata": {},
   "source": [
    "## Partition transcript psis"
   ]
  },
  {
   "cell_type": "code",
   "execution_count": 20,
   "metadata": {
    "ExecuteTime": {
     "end_time": "2019-10-30T18:49:16.964026Z",
     "start_time": "2019-10-30T18:49:10.641958Z"
    }
   },
   "outputs": [],
   "source": [
    "transcript_psis = pd.read_csv(\n",
    "    \"../data/intermediate/suppa_isoforms_isoform.psi\", sep=\"\\t\")\n",
    "\n",
    "for sample_name, sample_group in zip(sample_names, sample_groups):\n",
    "\n",
    "    sample_psis = transcript_psis[sample_group]\n",
    "\n",
    "    sample_psis.to_csv(\"../data/processed/grouped_transcript_psis/\"+sample_name+\".txt\",\n",
    "                       sep=\"\\t\",\n",
    "                       na_rep='NA',\n",
    "                       index_label=False)\n",
    "\n",
    "transcript_psis.to_hdf(\n",
    "    \"../data/processed/suppa2_transcript_psis.hdf\", key=\"transcript_psis\", mode=\"w\")"
   ]
  },
  {
   "cell_type": "markdown",
   "metadata": {},
   "source": [
    "## Partition TPMs"
   ]
  },
  {
   "cell_type": "code",
   "execution_count": 82,
   "metadata": {
    "ExecuteTime": {
     "end_time": "2019-10-12T20:53:17.728866Z",
     "start_time": "2019-10-12T20:53:13.107925Z"
    }
   },
   "outputs": [],
   "source": [
    "suppa_tpms = pd.read_csv(\"../data/processed/tpm_matrix_suppa.txt\",sep=\"\\t\")\n",
    "\n",
    "for sample_name, sample_group in zip(sample_names, sample_groups):\n",
    "        \n",
    "        sample_tpms = suppa_tpms[sample_group]\n",
    "        \n",
    "        sample_tpms.to_csv(\"../data/processed/grouped_tpms/\"+sample_name+\".txt\",\n",
    "                           sep=\"\\t\",\n",
    "                           index_label=False)\n",
    "        "
   ]
  },
  {
   "cell_type": "markdown",
   "metadata": {},
   "source": [
    "# Differential exon splicing results"
   ]
  },
  {
   "cell_type": "markdown",
   "metadata": {},
   "source": [
    "## Load and merge results "
   ]
  },
  {
   "cell_type": "code",
   "execution_count": 10,
   "metadata": {
    "ExecuteTime": {
     "end_time": "2019-10-30T18:41:14.935417Z",
     "start_time": "2019-10-30T18:41:13.479349Z"
    }
   },
   "outputs": [],
   "source": [
    "experiments = [\"RPL22_oe\", \"RPL22L1_oe\", \"sh704\", \"sh705\"]\n",
    "splice_types = [\"A3\", \"A5\", \"AF\", \"AL\", \"MX\", \"RI\", \"SE\"]\n",
    "\n",
    "\n",
    "def merge_splices(exp):\n",
    "    merged_splices = []\n",
    "\n",
    "    for s in splice_types:\n",
    "        diffs = pd.read_csv(\"../data/intermediate/suppa_diff_psis/\"+s+\"_\"+exp+\".dpsi.temp.0\",\n",
    "                            sep=\"\\t\", index_col=0)\n",
    "\n",
    "        diffs.columns = [\"difference\", \"pval\"]\n",
    "        diffs[\"type\"] = s\n",
    "        merged_splices.append(diffs)\n",
    "\n",
    "    return pd.concat(merged_splices, axis=0)\n",
    "\n",
    "\n",
    "rpl22_oe = merge_splices(\"RPL22_oe\")\n",
    "rpl22l1_oe = merge_splices(\"RPL22L1_oe\")\n",
    "sh704 = merge_splices(\"sh704\")\n",
    "sh705 = merge_splices(\"sh705\")\n",
    "\n",
    "# for experiment in experiments:"
   ]
  },
  {
   "cell_type": "markdown",
   "metadata": {},
   "source": [
    "## Add control-treatment PSIs"
   ]
  },
  {
   "cell_type": "code",
   "execution_count": 25,
   "metadata": {
    "ExecuteTime": {
     "end_time": "2019-10-31T17:54:46.665892Z",
     "start_time": "2019-10-31T17:54:46.314874Z"
    }
   },
   "outputs": [],
   "source": [
    "rpl22_oe_samples = ['LNCaP_GFP_1',\n",
    "                    'LNCaP_GFP_2',\n",
    "                    'LNCaP_GFP_3',\n",
    "                    'LNCaP_RPL22_1',\n",
    "                    'LNCaP_RPL22_2',\n",
    "                    'LNCaP_RPL22_3']\n",
    "\n",
    "rpl22l1_oe_samples = ['CAL851_GFP_1',\n",
    "                      'CAL851_GFP_2',\n",
    "                      'CAL851_GFP_3',\n",
    "                      'CAL851_RPL22L1_1',\n",
    "                      'CAL851_RPL22L1_2',\n",
    "                      'CAL851_RPL22L1_3']\n",
    "\n",
    "sh704_samples = ['LNCaP_shLuc_1',\n",
    "                 'LNCaP_shLuc_2',\n",
    "                 'LNCaP_shLuc_3',\n",
    "                 'LNCaP_sh704_1',\n",
    "                 'LNCaP_sh704_2',\n",
    "                 'LNCaP_sh704_3']\n",
    "\n",
    "sh705_samples = ['LNCaP_shLuc_1',\n",
    "                 'LNCaP_shLuc_2',\n",
    "                 'LNCaP_shLuc_3',\n",
    "                 'LNCaP_sh705_1',\n",
    "                 'LNCaP_sh705_2',\n",
    "                 'LNCaP_sh705_3']\n",
    "\n",
    "rpl22_oe_psis = exon_psis.loc[rpl22_oe.index, rpl22_oe_samples]\n",
    "rpl22l1_oe_psis = exon_psis.loc[rpl22l1_oe.index, rpl22l1_oe_samples]\n",
    "sh704_psis = exon_psis.loc[sh704.index, sh704_samples]\n",
    "sh705_psis = exon_psis.loc[sh705.index, sh705_samples]\n",
    "\n",
    "rpl22_oe = pd.concat([rpl22_oe, rpl22_oe_psis], axis=1)\n",
    "rpl22l1_oe = pd.concat([rpl22l1_oe, rpl22l1_oe_psis], axis=1)\n",
    "sh704 = pd.concat([sh704, sh704_psis], axis=1)\n",
    "sh705 = pd.concat([sh705, sh705_psis], axis=1)"
   ]
  },
  {
   "cell_type": "markdown",
   "metadata": {},
   "source": [
    "## Add gene names"
   ]
  },
  {
   "cell_type": "code",
   "execution_count": 57,
   "metadata": {
    "ExecuteTime": {
     "end_time": "2019-10-31T20:43:32.121836Z",
     "start_time": "2019-10-31T20:43:29.937984Z"
    }
   },
   "outputs": [],
   "source": [
    "extract_gene_ids = lambda x: x.split(\";\")[0].split(\"_and_\")\n",
    "\n",
    "rpl22_oe[\"genes\"] = rpl22_oe.index.map(extract_gene_ids)\n",
    "rpl22l1_oe[\"genes\"] = rpl22l1_oe.index.map(extract_gene_ids)\n",
    "sh704[\"genes\"] = sh704.index.map(extract_gene_ids)\n",
    "sh705[\"genes\"] = sh705.index.map(extract_gene_ids)\n",
    "\n",
    "map_gene_names = lambda x: \";\".join([gene_name_map.get(y, \"\") for y in x])\n",
    "\n",
    "rpl22_oe[\"gene_names\"] = rpl22_oe[\"genes\"].apply(map_gene_names)\n",
    "rpl22l1_oe[\"gene_names\"] = rpl22l1_oe[\"genes\"].apply(map_gene_names)\n",
    "sh704[\"gene_names\"] = sh704[\"genes\"].apply(map_gene_names)\n",
    "sh705[\"gene_names\"] = sh705[\"genes\"].apply(map_gene_names)\n",
    "\n",
    "rpl22_oe = rpl22_oe.drop(\"genes\",axis=1)\n",
    "rpl22l1_oe = rpl22l1_oe.drop(\"genes\",axis=1)\n",
    "sh704 = sh704.drop(\"genes\",axis=1)\n",
    "sh705 = sh705.drop(\"genes\",axis=1)"
   ]
  },
  {
   "cell_type": "code",
   "execution_count": 59,
   "metadata": {
    "ExecuteTime": {
     "end_time": "2019-10-31T20:43:51.091235Z",
     "start_time": "2019-10-31T20:43:38.520985Z"
    }
   },
   "outputs": [],
   "source": [
    "rpl22_oe.to_hdf(\"../data/processed/exon_psi_diffs/rpl22_oe.hdf\",\n",
    "                key=\"rpl22_oe\", mode=\"w\")\n",
    "rpl22l1_oe.to_hdf(\"../data/processed/exon_psi_diffs/rpl22l1_oe.hdf\",\n",
    "                  key=\"rpl22l1_oe\", mode=\"w\")\n",
    "sh704.to_hdf(\"../data/processed/exon_psi_diffs/sh704.hdf\",\n",
    "             key=\"sh704\", mode=\"w\")\n",
    "sh705.to_hdf(\"../data/processed/exon_psi_diffs/sh705.hdf\",\n",
    "             key=\"sh705\", mode=\"w\")"
   ]
  }
 ],
 "metadata": {
  "kernelspec": {
   "display_name": "Python 3",
   "language": "python",
   "name": "python3"
  },
  "language_info": {
   "codemirror_mode": {
    "name": "ipython",
    "version": 3
   },
   "file_extension": ".py",
   "mimetype": "text/x-python",
   "name": "python",
   "nbconvert_exporter": "python",
   "pygments_lexer": "ipython3",
   "version": "3.7.4"
  },
  "toc": {
   "base_numbering": 1,
   "nav_menu": {},
   "number_sections": true,
   "sideBar": true,
   "skip_h1_title": false,
   "title_cell": "Table of Contents",
   "title_sidebar": "Contents",
   "toc_cell": false,
   "toc_position": {},
   "toc_section_display": true,
   "toc_window_display": true
  }
 },
 "nbformat": 4,
 "nbformat_minor": 2
}
