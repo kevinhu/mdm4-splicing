{
 "cells": [
  {
   "cell_type": "code",
   "execution_count": 1,
   "metadata": {
    "ExecuteTime": {
     "end_time": "2019-06-06T03:35:00.412306Z",
     "start_time": "2019-06-06T03:34:56.671532Z"
    }
   },
   "outputs": [
    {
     "data": {
      "text/html": [
       "<script type=\"text/javascript\">window.PlotlyConfig = {MathJaxConfig: 'local'};</script><script type=\"text/javascript\">if (window.MathJax) {MathJax.Hub.Config({SVG: {font: \"STIX-Web\"}});}</script><script>requirejs.config({paths: { 'plotly': ['https://cdn.plot.ly/plotly-latest.min']},});if(!window._Plotly) {require(['plotly'],function(plotly) {window._Plotly=plotly;});}</script>"
      ],
      "text/vnd.plotly.v1+html": [
       "<script type=\"text/javascript\">window.PlotlyConfig = {MathJaxConfig: 'local'};</script><script type=\"text/javascript\">if (window.MathJax) {MathJax.Hub.Config({SVG: {font: \"STIX-Web\"}});}</script><script>requirejs.config({paths: { 'plotly': ['https://cdn.plot.ly/plotly-latest.min']},});if(!window._Plotly) {require(['plotly'],function(plotly) {window._Plotly=plotly;});}</script>"
      ]
     },
     "metadata": {},
     "output_type": "display_data"
    },
    {
     "data": {
      "text/html": [
       "<script type=\"text/javascript\">window.PlotlyConfig = {MathJaxConfig: 'local'};</script><script type=\"text/javascript\">if (window.MathJax) {MathJax.Hub.Config({SVG: {font: \"STIX-Web\"}});}</script><script>requirejs.config({paths: { 'plotly': ['https://cdn.plot.ly/plotly-latest.min']},});if(!window._Plotly) {require(['plotly'],function(plotly) {window._Plotly=plotly;});}</script>"
      ],
      "text/vnd.plotly.v1+html": [
       "<script type=\"text/javascript\">window.PlotlyConfig = {MathJaxConfig: 'local'};</script><script type=\"text/javascript\">if (window.MathJax) {MathJax.Hub.Config({SVG: {font: \"STIX-Web\"}});}</script><script>requirejs.config({paths: { 'plotly': ['https://cdn.plot.ly/plotly-latest.min']},});if(!window._Plotly) {require(['plotly'],function(plotly) {window._Plotly=plotly;});}</script>"
      ]
     },
     "metadata": {},
     "output_type": "display_data"
    },
    {
     "data": {
      "text/html": [
       "<script type=\"text/javascript\">window.PlotlyConfig = {MathJaxConfig: 'local'};</script><script type=\"text/javascript\">if (window.MathJax) {MathJax.Hub.Config({SVG: {font: \"STIX-Web\"}});}</script><script>requirejs.config({paths: { 'plotly': ['https://cdn.plot.ly/plotly-latest.min']},});if(!window._Plotly) {require(['plotly'],function(plotly) {window._Plotly=plotly;});}</script>"
      ],
      "text/vnd.plotly.v1+html": [
       "<script type=\"text/javascript\">window.PlotlyConfig = {MathJaxConfig: 'local'};</script><script type=\"text/javascript\">if (window.MathJax) {MathJax.Hub.Config({SVG: {font: \"STIX-Web\"}});}</script><script>requirejs.config({paths: { 'plotly': ['https://cdn.plot.ly/plotly-latest.min']},});if(!window._Plotly) {require(['plotly'],function(plotly) {window._Plotly=plotly;});}</script>"
      ]
     },
     "metadata": {},
     "output_type": "display_data"
    },
    {
     "data": {
      "text/html": [
       "<script type=\"text/javascript\">window.PlotlyConfig = {MathJaxConfig: 'local'};</script><script type=\"text/javascript\">if (window.MathJax) {MathJax.Hub.Config({SVG: {font: \"STIX-Web\"}});}</script><script>requirejs.config({paths: { 'plotly': ['https://cdn.plot.ly/plotly-latest.min']},});if(!window._Plotly) {require(['plotly'],function(plotly) {window._Plotly=plotly;});}</script>"
      ],
      "text/vnd.plotly.v1+html": [
       "<script type=\"text/javascript\">window.PlotlyConfig = {MathJaxConfig: 'local'};</script><script type=\"text/javascript\">if (window.MathJax) {MathJax.Hub.Config({SVG: {font: \"STIX-Web\"}});}</script><script>requirejs.config({paths: { 'plotly': ['https://cdn.plot.ly/plotly-latest.min']},});if(!window._Plotly) {require(['plotly'],function(plotly) {window._Plotly=plotly;});}</script>"
      ]
     },
     "metadata": {},
     "output_type": "display_data"
    },
    {
     "data": {
      "text/html": [
       "<script type=\"text/javascript\">window.PlotlyConfig = {MathJaxConfig: 'local'};</script><script type=\"text/javascript\">if (window.MathJax) {MathJax.Hub.Config({SVG: {font: \"STIX-Web\"}});}</script><script>requirejs.config({paths: { 'plotly': ['https://cdn.plot.ly/plotly-latest.min']},});if(!window._Plotly) {require(['plotly'],function(plotly) {window._Plotly=plotly;});}</script>"
      ],
      "text/vnd.plotly.v1+html": [
       "<script type=\"text/javascript\">window.PlotlyConfig = {MathJaxConfig: 'local'};</script><script type=\"text/javascript\">if (window.MathJax) {MathJax.Hub.Config({SVG: {font: \"STIX-Web\"}});}</script><script>requirejs.config({paths: { 'plotly': ['https://cdn.plot.ly/plotly-latest.min']},});if(!window._Plotly) {require(['plotly'],function(plotly) {window._Plotly=plotly;});}</script>"
      ]
     },
     "metadata": {},
     "output_type": "display_data"
    },
    {
     "data": {
      "text/html": [
       "<script type=\"text/javascript\">window.PlotlyConfig = {MathJaxConfig: 'local'};</script><script type=\"text/javascript\">if (window.MathJax) {MathJax.Hub.Config({SVG: {font: \"STIX-Web\"}});}</script><script>requirejs.config({paths: { 'plotly': ['https://cdn.plot.ly/plotly-latest.min']},});if(!window._Plotly) {require(['plotly'],function(plotly) {window._Plotly=plotly;});}</script>"
      ],
      "text/vnd.plotly.v1+html": [
       "<script type=\"text/javascript\">window.PlotlyConfig = {MathJaxConfig: 'local'};</script><script type=\"text/javascript\">if (window.MathJax) {MathJax.Hub.Config({SVG: {font: \"STIX-Web\"}});}</script><script>requirejs.config({paths: { 'plotly': ['https://cdn.plot.ly/plotly-latest.min']},});if(!window._Plotly) {require(['plotly'],function(plotly) {window._Plotly=plotly;});}</script>"
      ]
     },
     "metadata": {},
     "output_type": "display_data"
    },
    {
     "data": {
      "text/html": [
       "<script type=\"text/javascript\">window.PlotlyConfig = {MathJaxConfig: 'local'};</script><script type=\"text/javascript\">if (window.MathJax) {MathJax.Hub.Config({SVG: {font: \"STIX-Web\"}});}</script><script>requirejs.config({paths: { 'plotly': ['https://cdn.plot.ly/plotly-latest.min']},});if(!window._Plotly) {require(['plotly'],function(plotly) {window._Plotly=plotly;});}</script>"
      ],
      "text/vnd.plotly.v1+html": [
       "<script type=\"text/javascript\">window.PlotlyConfig = {MathJaxConfig: 'local'};</script><script type=\"text/javascript\">if (window.MathJax) {MathJax.Hub.Config({SVG: {font: \"STIX-Web\"}});}</script><script>requirejs.config({paths: { 'plotly': ['https://cdn.plot.ly/plotly-latest.min']},});if(!window._Plotly) {require(['plotly'],function(plotly) {window._Plotly=plotly;});}</script>"
      ]
     },
     "metadata": {},
     "output_type": "display_data"
    },
    {
     "data": {
      "text/html": [
       "<script type=\"text/javascript\">window.PlotlyConfig = {MathJaxConfig: 'local'};</script><script type=\"text/javascript\">if (window.MathJax) {MathJax.Hub.Config({SVG: {font: \"STIX-Web\"}});}</script><script>requirejs.config({paths: { 'plotly': ['https://cdn.plot.ly/plotly-latest.min']},});if(!window._Plotly) {require(['plotly'],function(plotly) {window._Plotly=plotly;});}</script>"
      ],
      "text/vnd.plotly.v1+html": [
       "<script type=\"text/javascript\">window.PlotlyConfig = {MathJaxConfig: 'local'};</script><script type=\"text/javascript\">if (window.MathJax) {MathJax.Hub.Config({SVG: {font: \"STIX-Web\"}});}</script><script>requirejs.config({paths: { 'plotly': ['https://cdn.plot.ly/plotly-latest.min']},});if(!window._Plotly) {require(['plotly'],function(plotly) {window._Plotly=plotly;});}</script>"
      ]
     },
     "metadata": {},
     "output_type": "display_data"
    },
    {
     "data": {
      "text/html": [
       "<script type=\"text/javascript\">window.PlotlyConfig = {MathJaxConfig: 'local'};</script><script type=\"text/javascript\">if (window.MathJax) {MathJax.Hub.Config({SVG: {font: \"STIX-Web\"}});}</script><script>requirejs.config({paths: { 'plotly': ['https://cdn.plot.ly/plotly-latest.min']},});if(!window._Plotly) {require(['plotly'],function(plotly) {window._Plotly=plotly;});}</script>"
      ],
      "text/vnd.plotly.v1+html": [
       "<script type=\"text/javascript\">window.PlotlyConfig = {MathJaxConfig: 'local'};</script><script type=\"text/javascript\">if (window.MathJax) {MathJax.Hub.Config({SVG: {font: \"STIX-Web\"}});}</script><script>requirejs.config({paths: { 'plotly': ['https://cdn.plot.ly/plotly-latest.min']},});if(!window._Plotly) {require(['plotly'],function(plotly) {window._Plotly=plotly;});}</script>"
      ]
     },
     "metadata": {},
     "output_type": "display_data"
    }
   ],
   "source": [
    "# ! LOAD MODULES\n",
    "import seaborn as sns\n",
    "import matplotlib.pyplot as plt\n",
    "import numpy as np\n",
    "import pandas as pd\n",
    "import matplotlib as mpl\n",
    "import itertools\n",
    "import sys\n",
    "import os\n",
    "import re\n",
    "\n",
    "from os import listdir\n",
    "from os.path import isfile, join\n",
    "import os\n",
    "import sys\n",
    "\n",
    "from collections import Counter, defaultdict\n",
    "from multiprocessing import Pool\n",
    "\n",
    "from scipy.stats import pearsonr, linregress, spearmanr,zscore\n",
    "from scipy.stats import wilcoxon,mannwhitneyu,kruskal,f_oneway,ttest_ind, fisher_exact\n",
    "\n",
    "from sklearn import linear_model\n",
    "from sklearn.model_selection import train_test_split, cross_val_predict,cross_val_score,cross_validate\n",
    "from sklearn.metrics import roc_curve, precision_recall_curve, auc, make_scorer, recall_score, accuracy_score, roc_auc_score,precision_score, confusion_matrix\n",
    "from sklearn.decomposition import IncrementalPCA,PCA\n",
    "from sklearn.manifold import TSNE\n",
    "from sklearn import cluster\n",
    "\n",
    "import scipy.spatial as sp, scipy.cluster.hierarchy as hc\n",
    "from scipy import cluster,stats\n",
    "from scipy.cluster.hierarchy import fcluster\n",
    "\n",
    "import plotly as plotly\n",
    "import plotly.graph_objs as go\n",
    "import plotly.plotly as plty \n",
    "import plotly.offline as py_o\n",
    "import plotly.figure_factory as ff\n",
    "plotly.tools.set_credentials_file(username='kevin-hu', api_key='lqhCQjrtitKdFlSZmkJd')\n",
    "py_o.init_notebook_mode(connected=True)\n",
    "\n",
    "from matplotlib import rc\n",
    "plt.rcParams['ps.useafm'] = True\n",
    "plt.rcParams['font.family'] = 'Arial'\n",
    "plt.rcParams['pdf.fonttype'] = 42\n",
    "plt.rcParams['ps.fonttype'] = 42\n",
    "from matplotlib.lines import Line2D\n",
    "from matplotlib.patches import Patch\n",
    "\n",
    "sys.path.append(os.path.relpath(\"../../helper\"))\n",
    "\n",
    "import name_mappings\n",
    "import helper_stats\n",
    "import helper_plots\n",
    "\n",
    "import importlib\n",
    "importlib.reload(helper_stats)\n",
    "importlib.reload(helper_plots)\n",
    "\n",
    "sns.set_style('white', {'axes.linewidth': 0.5})\n",
    "plt.rcParams['xtick.major.size'] = 8\n",
    "plt.rcParams['xtick.major.width'] = 1\n",
    "plt.rcParams['ytick.major.size'] = 8\n",
    "plt.rcParams['ytick.major.width'] = 1\n",
    "plt.rcParams['xtick.bottom'] = True\n",
    "plt.rcParams['ytick.left'] = True\n",
    "\n",
    "sns.set_style(\"ticks\")"
   ]
  },
  {
   "cell_type": "markdown",
   "metadata": {},
   "source": [
    "# Load estimates"
   ]
  },
  {
   "cell_type": "markdown",
   "metadata": {},
   "source": [
    "## ENSEMBL transcript annotations"
   ]
  },
  {
   "cell_type": "code",
   "execution_count": 16,
   "metadata": {
    "ExecuteTime": {
     "end_time": "2019-06-06T03:39:20.416079Z",
     "start_time": "2019-06-06T03:39:19.813902Z"
    }
   },
   "outputs": [],
   "source": [
    "ensembl_transcripts = pd.read_csv(\"../data/kallisto/kallisto_files/ensembl_75_transcripts.csv\",index_col=2)\n",
    "ensembl_transcripts[\"hgnc_symbol\"] = ensembl_transcripts[\"hgnc_symbol\"].fillna(\"Unnamed\")\n",
    "\n",
    "ensembl_transcripts = ensembl_transcripts.loc[~ensembl_transcripts.index.duplicated(keep='first')]\n",
    "\n",
    "ensembl_transcripts.columns = [\"n\",\"ensembl_gene_id\"]+list(ensembl_transcripts.columns[2:])\n",
    "\n",
    "ensembl_transcripts[\"format_gene_id\"] = ensembl_transcripts[\"hgnc_symbol\"] + \\\n",
    "    \"_\" + ensembl_transcripts[\"ensembl_gene_id\"]\n",
    "\n",
    "gene_id_map = dict(zip(ensembl_transcripts[\"ensembl_gene_id\"],ensembl_transcripts[\"format_gene_id\"]))"
   ]
  },
  {
   "cell_type": "markdown",
   "metadata": {
    "ExecuteTime": {
     "end_time": "2019-06-06T03:23:56.524600Z",
     "start_time": "2019-06-06T03:23:56.522166Z"
    }
   },
   "source": [
    "## Sleuth outputs"
   ]
  },
  {
   "cell_type": "code",
   "execution_count": 174,
   "metadata": {
    "ExecuteTime": {
     "end_time": "2019-06-07T16:37:44.580343Z",
     "start_time": "2019-06-07T16:37:42.235406Z"
    }
   },
   "outputs": [],
   "source": [
    "rpl22_oe = pd.read_csv(\"../data/kallisto/kallisto_sleuth/RPL22_oe.csv\",index_col=1)\n",
    "rpl22l1_oe = pd.read_csv(\"../data/kallisto/kallisto_sleuth/RPL22L1_oe.csv\",index_col=1)\n",
    "sh704 = pd.read_csv(\"../data/kallisto/kallisto_sleuth/sh704.csv\",index_col=1)\n",
    "sh705 = pd.read_csv(\"../data/kallisto/kallisto_sleuth/sh705.csv\",index_col=1)\n",
    "\n",
    "rpl22_oe = rpl22_oe.join(ensembl_transcripts,how=\"inner\")\n",
    "rpl22l1_oe = rpl22l1_oe.join(ensembl_transcripts,how=\"inner\")\n",
    "sh704 = sh704.join(ensembl_transcripts,how=\"inner\")\n",
    "sh705 = sh705.join(ensembl_transcripts,how=\"inner\")"
   ]
  },
  {
   "cell_type": "code",
   "execution_count": 175,
   "metadata": {
    "ExecuteTime": {
     "end_time": "2019-06-07T16:38:13.627802Z",
     "start_time": "2019-06-07T16:38:13.120455Z"
    }
   },
   "outputs": [],
   "source": [
    "rpl22_oe_ranks = rpl22_oe[rpl22_oe[\"hgnc_symbol\"]!=\"Unnamed\"]\n",
    "rpl22l1_oe_ranks = rpl22l1_oe[rpl22l1_oe[\"hgnc_symbol\"]!=\"Unnamed\"]\n",
    "sh704_ranks = sh704[sh704[\"hgnc_symbol\"]!=\"Unnamed\"]\n",
    "sh705_ranks = sh705[sh705[\"hgnc_symbol\"]!=\"Unnamed\"]\n",
    "\n",
    "sh704_ranks[\"b\"] = -sh704_ranks[\"b\"]\n",
    "sh705_ranks[\"b\"] = -sh705_ranks[\"b\"]\n",
    "\n",
    "rpl22_oe_ranks = rpl22_oe_ranks.dropna(subset=[\"b\"])\n",
    "rpl22l1_oe_ranks = rpl22l1_oe_ranks.dropna(subset=[\"b\"])\n",
    "sh704_ranks = sh704_ranks.dropna(subset=[\"b\"])\n",
    "sh705_ranks = sh705_ranks.dropna(subset=[\"b\"])\n",
    "\n",
    "rpl22_oe_ranks[\"b_abs\"] = np.abs(rpl22_oe_ranks[\"b\"])\n",
    "rpl22l1_oe_ranks[\"b_abs\"] = np.abs(rpl22l1_oe_ranks[\"b\"])\n",
    "sh704_ranks[\"b_abs\"] = np.abs(sh704_ranks[\"b\"])\n",
    "sh705_ranks[\"b_abs\"] = np.abs(sh705_ranks[\"b\"])\n",
    "\n",
    "rpl22_oe_ranks = rpl22_oe_ranks.sort_values(by=\"b_abs\",ascending=False)\n",
    "rpl22l1_oe_ranks = rpl22l1_oe_ranks.sort_values(by=\"b_abs\",ascending=False)\n",
    "sh704_ranks = sh704_ranks.sort_values(by=\"b_abs\",ascending=False)\n",
    "sh705_ranks = sh705_ranks.sort_values(by=\"b_abs\",ascending=False)\n",
    "\n",
    "# rpl22_oe_ranks = rpl22_oe_ranks[rpl22_oe_ranks[\"qval\"]<0.01]\n",
    "# rpl22l1_oe_ranks = rpl22l1_oe_ranks[rpl22l1_oe_ranks[\"qval\"]<0.01]\n",
    "# sh704_ranks = sh704_ranks[sh704_ranks[\"qval\"]<0.01]\n",
    "# sh705_ranks = sh705_ranks[sh705_ranks[\"qval\"]<0.01]\n",
    "\n",
    "rpl22_oe_ranks = rpl22_oe_ranks.drop_duplicates(keep=\"first\",subset=[\"hgnc_symbol\"])\n",
    "rpl22l1_oe_ranks = rpl22l1_oe_ranks.drop_duplicates(keep=\"first\",subset=[\"hgnc_symbol\"])\n",
    "sh704_ranks = sh704_ranks.drop_duplicates(keep=\"first\",subset=[\"hgnc_symbol\"])\n",
    "sh705_ranks = sh705_ranks.drop_duplicates(keep=\"first\",subset=[\"hgnc_symbol\"])\n",
    "\n",
    "rpl22_oe_ranks = rpl22_oe_ranks.sort_values(by=\"b\",ascending=False)\n",
    "rpl22l1_oe_ranks = rpl22l1_oe_ranks.sort_values(by=\"b\",ascending=False)\n",
    "sh704_ranks = sh704_ranks.sort_values(by=\"b\",ascending=False)\n",
    "sh705_ranks = sh705_ranks.sort_values(by=\"b\",ascending=False)\n",
    "\n",
    "rpl22_oe_ranks = rpl22_oe_ranks.set_index(\"hgnc_symbol\")\n",
    "rpl22l1_oe_ranks = rpl22l1_oe_ranks.set_index(\"hgnc_symbol\")\n",
    "sh704_ranks = sh704_ranks.set_index(\"hgnc_symbol\")\n",
    "sh705_ranks = sh705_ranks.set_index(\"hgnc_symbol\")"
   ]
  },
  {
   "cell_type": "code",
   "execution_count": 177,
   "metadata": {
    "ExecuteTime": {
     "end_time": "2019-06-07T16:38:20.881465Z",
     "start_time": "2019-06-07T16:38:20.744150Z"
    }
   },
   "outputs": [],
   "source": [
    "rpl22_oe_ranks[[\"b\"]].to_csv(\"../data/gsea/rpl22_oe_ranks.csv\")\n",
    "rpl22l1_oe_ranks[[\"b\"]].to_csv(\"../data/gsea/rpl22l1_oe_ranks.csv\")\n",
    "sh704_ranks[[\"b\"]].to_csv(\"../data/gsea/sh704_ranks.csv\")\n",
    "sh705_ranks[[\"b\"]].to_csv(\"../data/gsea/sh705_ranks.csv\")"
   ]
  },
  {
   "cell_type": "code",
   "execution_count": 185,
   "metadata": {
    "ExecuteTime": {
     "end_time": "2019-06-12T03:40:36.613634Z",
     "start_time": "2019-06-12T03:40:36.528058Z"
    }
   },
   "outputs": [
    {
     "data": {
      "text/html": [
       "<div>\n",
       "<style scoped>\n",
       "    .dataframe tbody tr th:only-of-type {\n",
       "        vertical-align: middle;\n",
       "    }\n",
       "\n",
       "    .dataframe tbody tr th {\n",
       "        vertical-align: top;\n",
       "    }\n",
       "\n",
       "    .dataframe thead th {\n",
       "        text-align: right;\n",
       "    }\n",
       "</style>\n",
       "<table border=\"1\" class=\"dataframe\">\n",
       "  <thead>\n",
       "    <tr style=\"text-align: right;\">\n",
       "      <th></th>\n",
       "      <th>target_id</th>\n",
       "      <th>pval</th>\n",
       "      <th>qval</th>\n",
       "      <th>b</th>\n",
       "      <th>se_b</th>\n",
       "      <th>mean_obs</th>\n",
       "      <th>var_obs</th>\n",
       "      <th>tech_var</th>\n",
       "      <th>sigma_sq</th>\n",
       "      <th>smooth_sigma_sq</th>\n",
       "      <th>final_sigma_sq</th>\n",
       "      <th>n</th>\n",
       "      <th>ensembl_gene_id</th>\n",
       "      <th>ensembl_peptide_id</th>\n",
       "      <th>transcript_biotype</th>\n",
       "      <th>transcript_status</th>\n",
       "      <th>format_gene_id</th>\n",
       "      <th>b_abs</th>\n",
       "    </tr>\n",
       "    <tr>\n",
       "      <th>hgnc_symbol</th>\n",
       "      <th></th>\n",
       "      <th></th>\n",
       "      <th></th>\n",
       "      <th></th>\n",
       "      <th></th>\n",
       "      <th></th>\n",
       "      <th></th>\n",
       "      <th></th>\n",
       "      <th></th>\n",
       "      <th></th>\n",
       "      <th></th>\n",
       "      <th></th>\n",
       "      <th></th>\n",
       "      <th></th>\n",
       "      <th></th>\n",
       "      <th></th>\n",
       "      <th></th>\n",
       "      <th></th>\n",
       "    </tr>\n",
       "  </thead>\n",
       "  <tbody>\n",
       "    <tr>\n",
       "      <th>MDM4</th>\n",
       "      <td>4524</td>\n",
       "      <td>0.054079</td>\n",
       "      <td>0.71576</td>\n",
       "      <td>2.081809</td>\n",
       "      <td>1.080782</td>\n",
       "      <td>2.486372</td>\n",
       "      <td>2.701886</td>\n",
       "      <td>1.057806</td>\n",
       "      <td>0.694328</td>\n",
       "      <td>0.477744</td>\n",
       "      <td>0.694328</td>\n",
       "      <td>37623</td>\n",
       "      <td>ENSG00000198625</td>\n",
       "      <td>ENSP00000375811</td>\n",
       "      <td>protein_coding</td>\n",
       "      <td>KNOWN</td>\n",
       "      <td>MDM4_ENSG00000198625</td>\n",
       "      <td>2.081809</td>\n",
       "    </tr>\n",
       "  </tbody>\n",
       "</table>\n",
       "</div>"
      ],
      "text/plain": [
       "             target_id      pval     qval         b      se_b  mean_obs  \\\n",
       "hgnc_symbol                                                               \n",
       "MDM4              4524  0.054079  0.71576  2.081809  1.080782  2.486372   \n",
       "\n",
       "              var_obs  tech_var  sigma_sq  smooth_sigma_sq  final_sigma_sq  \\\n",
       "hgnc_symbol                                                                  \n",
       "MDM4         2.701886  1.057806  0.694328         0.477744        0.694328   \n",
       "\n",
       "                 n  ensembl_gene_id ensembl_peptide_id transcript_biotype  \\\n",
       "hgnc_symbol                                                                 \n",
       "MDM4         37623  ENSG00000198625    ENSP00000375811     protein_coding   \n",
       "\n",
       "            transcript_status        format_gene_id     b_abs  \n",
       "hgnc_symbol                                                    \n",
       "MDM4                    KNOWN  MDM4_ENSG00000198625  2.081809  "
      ]
     },
     "metadata": {},
     "output_type": "display_data"
    },
    {
     "data": {
      "text/html": [
       "<div>\n",
       "<style scoped>\n",
       "    .dataframe tbody tr th:only-of-type {\n",
       "        vertical-align: middle;\n",
       "    }\n",
       "\n",
       "    .dataframe tbody tr th {\n",
       "        vertical-align: top;\n",
       "    }\n",
       "\n",
       "    .dataframe thead th {\n",
       "        text-align: right;\n",
       "    }\n",
       "</style>\n",
       "<table border=\"1\" class=\"dataframe\">\n",
       "  <thead>\n",
       "    <tr style=\"text-align: right;\">\n",
       "      <th></th>\n",
       "      <th>target_id</th>\n",
       "      <th>pval</th>\n",
       "      <th>qval</th>\n",
       "      <th>b</th>\n",
       "      <th>se_b</th>\n",
       "      <th>mean_obs</th>\n",
       "      <th>var_obs</th>\n",
       "      <th>tech_var</th>\n",
       "      <th>sigma_sq</th>\n",
       "      <th>smooth_sigma_sq</th>\n",
       "      <th>final_sigma_sq</th>\n",
       "      <th>n</th>\n",
       "      <th>ensembl_gene_id</th>\n",
       "      <th>ensembl_peptide_id</th>\n",
       "      <th>transcript_biotype</th>\n",
       "      <th>transcript_status</th>\n",
       "      <th>format_gene_id</th>\n",
       "      <th>b_abs</th>\n",
       "    </tr>\n",
       "    <tr>\n",
       "      <th>hgnc_symbol</th>\n",
       "      <th></th>\n",
       "      <th></th>\n",
       "      <th></th>\n",
       "      <th></th>\n",
       "      <th></th>\n",
       "      <th></th>\n",
       "      <th></th>\n",
       "      <th></th>\n",
       "      <th></th>\n",
       "      <th></th>\n",
       "      <th></th>\n",
       "      <th></th>\n",
       "      <th></th>\n",
       "      <th></th>\n",
       "      <th></th>\n",
       "      <th></th>\n",
       "      <th></th>\n",
       "      <th></th>\n",
       "    </tr>\n",
       "  </thead>\n",
       "  <tbody>\n",
       "    <tr>\n",
       "      <th>MDM4</th>\n",
       "      <td>14221</td>\n",
       "      <td>0.03085</td>\n",
       "      <td>0.129777</td>\n",
       "      <td>1.742148</td>\n",
       "      <td>0.806922</td>\n",
       "      <td>4.564619</td>\n",
       "      <td>1.200226</td>\n",
       "      <td>0.815292</td>\n",
       "      <td>-0.453164</td>\n",
       "      <td>0.161394</td>\n",
       "      <td>0.161394</td>\n",
       "      <td>37613</td>\n",
       "      <td>ENSG00000198625</td>\n",
       "      <td>NaN</td>\n",
       "      <td>processed_transcript</td>\n",
       "      <td>KNOWN</td>\n",
       "      <td>MDM4_ENSG00000198625</td>\n",
       "      <td>1.742148</td>\n",
       "    </tr>\n",
       "  </tbody>\n",
       "</table>\n",
       "</div>"
      ],
      "text/plain": [
       "             target_id     pval      qval         b      se_b  mean_obs  \\\n",
       "hgnc_symbol                                                               \n",
       "MDM4             14221  0.03085  0.129777  1.742148  0.806922  4.564619   \n",
       "\n",
       "              var_obs  tech_var  sigma_sq  smooth_sigma_sq  final_sigma_sq  \\\n",
       "hgnc_symbol                                                                  \n",
       "MDM4         1.200226  0.815292 -0.453164         0.161394        0.161394   \n",
       "\n",
       "                 n  ensembl_gene_id ensembl_peptide_id    transcript_biotype  \\\n",
       "hgnc_symbol                                                                    \n",
       "MDM4         37613  ENSG00000198625                NaN  processed_transcript   \n",
       "\n",
       "            transcript_status        format_gene_id     b_abs  \n",
       "hgnc_symbol                                                    \n",
       "MDM4                    KNOWN  MDM4_ENSG00000198625  1.742148  "
      ]
     },
     "metadata": {},
     "output_type": "display_data"
    },
    {
     "data": {
      "text/html": [
       "<div>\n",
       "<style scoped>\n",
       "    .dataframe tbody tr th:only-of-type {\n",
       "        vertical-align: middle;\n",
       "    }\n",
       "\n",
       "    .dataframe tbody tr th {\n",
       "        vertical-align: top;\n",
       "    }\n",
       "\n",
       "    .dataframe thead th {\n",
       "        text-align: right;\n",
       "    }\n",
       "</style>\n",
       "<table border=\"1\" class=\"dataframe\">\n",
       "  <thead>\n",
       "    <tr style=\"text-align: right;\">\n",
       "      <th></th>\n",
       "      <th>target_id</th>\n",
       "      <th>pval</th>\n",
       "      <th>qval</th>\n",
       "      <th>b</th>\n",
       "      <th>se_b</th>\n",
       "      <th>mean_obs</th>\n",
       "      <th>var_obs</th>\n",
       "      <th>tech_var</th>\n",
       "      <th>sigma_sq</th>\n",
       "      <th>smooth_sigma_sq</th>\n",
       "      <th>final_sigma_sq</th>\n",
       "      <th>n</th>\n",
       "      <th>ensembl_gene_id</th>\n",
       "      <th>ensembl_peptide_id</th>\n",
       "      <th>transcript_biotype</th>\n",
       "      <th>transcript_status</th>\n",
       "      <th>format_gene_id</th>\n",
       "      <th>b_abs</th>\n",
       "    </tr>\n",
       "    <tr>\n",
       "      <th>hgnc_symbol</th>\n",
       "      <th></th>\n",
       "      <th></th>\n",
       "      <th></th>\n",
       "      <th></th>\n",
       "      <th></th>\n",
       "      <th></th>\n",
       "      <th></th>\n",
       "      <th></th>\n",
       "      <th></th>\n",
       "      <th></th>\n",
       "      <th></th>\n",
       "      <th></th>\n",
       "      <th></th>\n",
       "      <th></th>\n",
       "      <th></th>\n",
       "      <th></th>\n",
       "      <th></th>\n",
       "      <th></th>\n",
       "    </tr>\n",
       "  </thead>\n",
       "  <tbody>\n",
       "    <tr>\n",
       "      <th>MDM4</th>\n",
       "      <td>4517</td>\n",
       "      <td>0.011871</td>\n",
       "      <td>0.149865</td>\n",
       "      <td>3.214183</td>\n",
       "      <td>1.277524</td>\n",
       "      <td>0.913944</td>\n",
       "      <td>3.12496</td>\n",
       "      <td>1.066514</td>\n",
       "      <td>-1.034428</td>\n",
       "      <td>1.381586</td>\n",
       "      <td>1.381586</td>\n",
       "      <td>37617</td>\n",
       "      <td>ENSG00000198625</td>\n",
       "      <td>ENSP00000356147</td>\n",
       "      <td>protein_coding</td>\n",
       "      <td>KNOWN</td>\n",
       "      <td>MDM4_ENSG00000198625</td>\n",
       "      <td>3.214183</td>\n",
       "    </tr>\n",
       "  </tbody>\n",
       "</table>\n",
       "</div>"
      ],
      "text/plain": [
       "             target_id      pval      qval         b      se_b  mean_obs  \\\n",
       "hgnc_symbol                                                                \n",
       "MDM4              4517  0.011871  0.149865  3.214183  1.277524  0.913944   \n",
       "\n",
       "             var_obs  tech_var  sigma_sq  smooth_sigma_sq  final_sigma_sq  \\\n",
       "hgnc_symbol                                                                 \n",
       "MDM4         3.12496  1.066514 -1.034428         1.381586        1.381586   \n",
       "\n",
       "                 n  ensembl_gene_id ensembl_peptide_id transcript_biotype  \\\n",
       "hgnc_symbol                                                                 \n",
       "MDM4         37617  ENSG00000198625    ENSP00000356147     protein_coding   \n",
       "\n",
       "            transcript_status        format_gene_id     b_abs  \n",
       "hgnc_symbol                                                    \n",
       "MDM4                    KNOWN  MDM4_ENSG00000198625  3.214183  "
      ]
     },
     "metadata": {},
     "output_type": "display_data"
    },
    {
     "data": {
      "text/html": [
       "<div>\n",
       "<style scoped>\n",
       "    .dataframe tbody tr th:only-of-type {\n",
       "        vertical-align: middle;\n",
       "    }\n",
       "\n",
       "    .dataframe tbody tr th {\n",
       "        vertical-align: top;\n",
       "    }\n",
       "\n",
       "    .dataframe thead th {\n",
       "        text-align: right;\n",
       "    }\n",
       "</style>\n",
       "<table border=\"1\" class=\"dataframe\">\n",
       "  <thead>\n",
       "    <tr style=\"text-align: right;\">\n",
       "      <th></th>\n",
       "      <th>target_id</th>\n",
       "      <th>pval</th>\n",
       "      <th>qval</th>\n",
       "      <th>b</th>\n",
       "      <th>se_b</th>\n",
       "      <th>mean_obs</th>\n",
       "      <th>var_obs</th>\n",
       "      <th>tech_var</th>\n",
       "      <th>sigma_sq</th>\n",
       "      <th>smooth_sigma_sq</th>\n",
       "      <th>final_sigma_sq</th>\n",
       "      <th>n</th>\n",
       "      <th>ensembl_gene_id</th>\n",
       "      <th>ensembl_peptide_id</th>\n",
       "      <th>transcript_biotype</th>\n",
       "      <th>transcript_status</th>\n",
       "      <th>format_gene_id</th>\n",
       "      <th>b_abs</th>\n",
       "    </tr>\n",
       "    <tr>\n",
       "      <th>hgnc_symbol</th>\n",
       "      <th></th>\n",
       "      <th></th>\n",
       "      <th></th>\n",
       "      <th></th>\n",
       "      <th></th>\n",
       "      <th></th>\n",
       "      <th></th>\n",
       "      <th></th>\n",
       "      <th></th>\n",
       "      <th></th>\n",
       "      <th></th>\n",
       "      <th></th>\n",
       "      <th></th>\n",
       "      <th></th>\n",
       "      <th></th>\n",
       "      <th></th>\n",
       "      <th></th>\n",
       "      <th></th>\n",
       "    </tr>\n",
       "  </thead>\n",
       "  <tbody>\n",
       "    <tr>\n",
       "      <th>MDM4</th>\n",
       "      <td>5476</td>\n",
       "      <td>0.005736</td>\n",
       "      <td>0.067059</td>\n",
       "      <td>3.267554</td>\n",
       "      <td>1.182829</td>\n",
       "      <td>0.94063</td>\n",
       "      <td>3.207643</td>\n",
       "      <td>0.822713</td>\n",
       "      <td>-0.817002</td>\n",
       "      <td>1.275912</td>\n",
       "      <td>1.275912</td>\n",
       "      <td>37617</td>\n",
       "      <td>ENSG00000198625</td>\n",
       "      <td>ENSP00000356147</td>\n",
       "      <td>protein_coding</td>\n",
       "      <td>KNOWN</td>\n",
       "      <td>MDM4_ENSG00000198625</td>\n",
       "      <td>3.267554</td>\n",
       "    </tr>\n",
       "  </tbody>\n",
       "</table>\n",
       "</div>"
      ],
      "text/plain": [
       "             target_id      pval      qval         b      se_b  mean_obs  \\\n",
       "hgnc_symbol                                                                \n",
       "MDM4              5476  0.005736  0.067059  3.267554  1.182829   0.94063   \n",
       "\n",
       "              var_obs  tech_var  sigma_sq  smooth_sigma_sq  final_sigma_sq  \\\n",
       "hgnc_symbol                                                                  \n",
       "MDM4         3.207643  0.822713 -0.817002         1.275912        1.275912   \n",
       "\n",
       "                 n  ensembl_gene_id ensembl_peptide_id transcript_biotype  \\\n",
       "hgnc_symbol                                                                 \n",
       "MDM4         37617  ENSG00000198625    ENSP00000356147     protein_coding   \n",
       "\n",
       "            transcript_status        format_gene_id     b_abs  \n",
       "hgnc_symbol                                                    \n",
       "MDM4                    KNOWN  MDM4_ENSG00000198625  3.267554  "
      ]
     },
     "metadata": {},
     "output_type": "display_data"
    }
   ],
   "source": [
    "select_gene = \"MDM4\"\n",
    "\n",
    "display(rpl22_oe_ranks[rpl22_oe_ranks.index.map(lambda x: select_gene in x)])\n",
    "display(rpl22l1_oe_ranks[rpl22l1_oe_ranks.index.map(lambda x: select_gene in x)])\n",
    "display(sh704_ranks[sh704_ranks.index.map(lambda x: select_gene in x)])\n",
    "display(sh705_ranks[sh705_ranks.index.map(lambda x: select_gene in x)])\n"
   ]
  },
  {
   "cell_type": "markdown",
   "metadata": {},
   "source": [
    "## Kallisto estimates"
   ]
  },
  {
   "cell_type": "markdown",
   "metadata": {},
   "source": [
    "## Make transcript expression matrix"
   ]
  },
  {
   "cell_type": "code",
   "execution_count": 3,
   "metadata": {
    "ExecuteTime": {
     "end_time": "2019-06-06T03:35:12.609198Z",
     "start_time": "2019-06-06T03:35:04.233773Z"
    }
   },
   "outputs": [],
   "source": [
    "samples = pd.read_csv(\"../data/kallisto/paired_samples.txt\",names=[\"folder\"])\n",
    "samples[\"S\"] = samples[\"folder\"].apply(lambda x: int(x.split(\"_\")[-1][1:]))\n",
    "samples = samples.sort_values(by=\"S\")\n",
    "\n",
    "merged_tpms = []\n",
    "\n",
    "for sample in samples[\"folder\"]:\n",
    "    transcript_abundances = pd.read_csv(\"../data/kallisto/kallisto_quant/\"+sample+\"/abundance.tsv\",\n",
    "                                        sep=\"\\t\",\n",
    "                                        index_col=0\n",
    "                                       )\n",
    "    \n",
    "    merged_tpms.append(transcript_abundances[\"tpm\"].rename(sample))\n",
    "    \n",
    "merged_tpms = pd.concat(merged_tpms,axis=1)\n",
    "\n",
    "merged_tpms.to_csv(\"../data/kallisto/merged_tpms.csv\")"
   ]
  },
  {
   "cell_type": "markdown",
   "metadata": {},
   "source": [
    "## Make gene expression matrix"
   ]
  },
  {
   "cell_type": "code",
   "execution_count": 9,
   "metadata": {
    "ExecuteTime": {
     "end_time": "2019-06-06T03:35:51.766310Z",
     "start_time": "2019-06-06T03:35:51.528785Z"
    }
   },
   "outputs": [],
   "source": [
    "_,align_ensembl_genes = merged_tpms.align(ensembl_transcripts[\"ensembl_gene_id\"],axis=0,join=\"inner\")"
   ]
  },
  {
   "cell_type": "code",
   "execution_count": 25,
   "metadata": {
    "ExecuteTime": {
     "end_time": "2019-06-06T03:41:14.879788Z",
     "start_time": "2019-06-06T03:41:14.754997Z"
    }
   },
   "outputs": [],
   "source": [
    "gene_tpms = merged_tpms.groupby(align_ensembl_genes).sum().T\n",
    "gene_tpms.columns = gene_tpms.columns.map(lambda x: gene_id_map[x])"
   ]
  },
  {
   "cell_type": "code",
   "execution_count": 129,
   "metadata": {
    "ExecuteTime": {
     "end_time": "2019-06-06T04:27:04.403690Z",
     "start_time": "2019-06-06T04:27:04.222555Z"
    }
   },
   "outputs": [],
   "source": [
    "def plot_tpm_dist(gene_id):\n",
    "    \n",
    "    select_abundance = np.array(gene_tpms[gene_id])\n",
    "\n",
    "    expression_df = pd.DataFrame()\n",
    "\n",
    "    expression_df[\"Gene TPM\"] = list(select_abundance[[0, 1, 2, 6, 7, 8, 12, 13, 14, 12, 13, 14]]) + list(\n",
    "        select_abundance[[3, 4, 5, 9, 10, 11, 15, 16, 17, 18, 19, 20]])\n",
    "\n",
    "    expression_df[\"treatment\"] = [\"Control\"]*12 + [\"Treatment\"]*12\n",
    "\n",
    "    expression_df[\"Experiment\"] = (\n",
    "        [\"RPL22++\"]*3 + [\"RPL22L1++\"]*3 + [\"sh704\"]*3 + [\"sh705\"]*3)*2\n",
    "\n",
    "    expression_df.index = list(gene_tpms.index[[0, 1, 2, 6, 7, 8, 12, 13, 14, 12, 13, 14]]) + list(\n",
    "        gene_tpms.index[[3, 4, 5, 9, 10, 11, 15, 16, 17, 18, 19, 20]])\n",
    "    \n",
    "    plt.figure(figsize=(4, 2.5))\n",
    "\n",
    "    sns.barplot(x=\"Experiment\",\n",
    "                y=\"Gene TPM\",\n",
    "                data=expression_df,\n",
    "                hue=\"treatment\",\n",
    "                palette={\"Control\": \"#e3e3e3\", \"Treatment\": \"#286DC0\"},\n",
    "                ci=None)\n",
    "\n",
    "    ax = sns.stripplot(x=\"Experiment\",\n",
    "                       y=\"Gene TPM\",\n",
    "                       data=expression_df,\n",
    "                       hue=\"treatment\",\n",
    "                       dodge=True,\n",
    "                       palette={\"Control\": \"#e3e3e3\", \"Treatment\": \"#286DC0\"},\n",
    "                       size=8,\n",
    "                       jitter=False,\n",
    "                       linewidth=2,\n",
    "                       edgecolor=\"black\",\n",
    "                       alpha=0.75\n",
    "                      )\n",
    "\n",
    "    ax.get_legend().remove()\n",
    "\n",
    "    ax.spines['top'].set_visible(False)\n",
    "    ax.spines['right'].set_visible(False)\n",
    "    \n",
    "    plt.ylim(0)\n",
    "    \n",
    "    plt.title(gene_id.split(\"_\")[0])\n",
    "    \n",
    "    plt.savefig(\"../plots/\"+gene_id+\"_expression_distribution.pdf\",bbox_inches=\"tight\")\n"
   ]
  },
  {
   "cell_type": "code",
   "execution_count": 130,
   "metadata": {
    "ExecuteTime": {
     "end_time": "2019-06-06T04:27:06.113046Z",
     "start_time": "2019-06-06T04:27:05.080457Z"
    }
   },
   "outputs": [
    {
     "data": {
      "image/png": "[encoded data removed]",
      "text/plain": [
       "<matplotlib.figure.Figure at 0x1c36a95160>"
      ]
     },
     "metadata": {
      "needs_background": "light"
     },
     "output_type": "display_data"
    },
    {
     "data": {
      "image/png": "[encoded data removed]",
      "text/plain": [
       "<matplotlib.figure.Figure at 0x1c36abd080>"
      ]
     },
     "metadata": {
      "needs_background": "light"
     },
     "output_type": "display_data"
    },
    {
     "data": {
      "image/png": "[encoded data removed]",
      "text/plain": [
       "<matplotlib.figure.Figure at 0x1c3670ec50>"
      ]
     },
     "metadata": {
      "needs_background": "light"
     },
     "output_type": "display_data"
    },
    {
     "data": {
      "image/png": "[encoded data removed]",
      "text/plain": [
       "<matplotlib.figure.Figure at 0x1c31a86048>"
      ]
     },
     "metadata": {
      "needs_background": "light"
     },
     "output_type": "display_data"
    }
   ],
   "source": [
    "plot_tpm_dist(\"MDM4_ENSG00000198625\")\n",
    "plot_tpm_dist(\"MDM2_ENSG00000135679\")\n",
    "plot_tpm_dist(\"RPL22L1_ENSG00000163584\")\n",
    "plot_tpm_dist(\"RPL22_ENSG00000116251\")"
   ]
  }
 ],
 "metadata": {
  "kernelspec": {
   "display_name": "Python 3",
   "language": "python",
   "name": "python3"
  },
  "language_info": {
   "codemirror_mode": {
    "name": "ipython",
    "version": 3
   },
   "file_extension": ".py",
   "mimetype": "text/x-python",
   "name": "python",
   "nbconvert_exporter": "python",
   "pygments_lexer": "ipython3",
   "version": "3.7.3"
  },
  "toc": {
   "base_numbering": 1,
   "nav_menu": {},
   "number_sections": true,
   "sideBar": true,
   "skip_h1_title": false,
   "title_cell": "Table of Contents",
   "title_sidebar": "Contents",
   "toc_cell": false,
   "toc_position": {},
   "toc_section_display": true,
   "toc_window_display": true
  }
 },
 "nbformat": 4,
 "nbformat_minor": 2
}
