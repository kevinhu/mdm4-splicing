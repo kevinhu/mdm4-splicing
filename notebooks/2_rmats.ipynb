{
 "cells": [
  {
   "cell_type": "code",
   "execution_count": 3,
   "metadata": {
    "ExecuteTime": {
     "end_time": "2019-06-06T19:36:30.287124Z",
     "start_time": "2019-06-06T19:36:26.174719Z"
    }
   },
   "outputs": [
    {
     "data": {
      "text/html": [
       "<script type=\"text/javascript\">window.PlotlyConfig = {MathJaxConfig: 'local'};</script><script type=\"text/javascript\">if (window.MathJax) {MathJax.Hub.Config({SVG: {font: \"STIX-Web\"}});}</script><script>requirejs.config({paths: { 'plotly': ['https://cdn.plot.ly/plotly-latest.min']},});if(!window._Plotly) {require(['plotly'],function(plotly) {window._Plotly=plotly;});}</script>"
      ],
      "text/vnd.plotly.v1+html": [
       "<script type=\"text/javascript\">window.PlotlyConfig = {MathJaxConfig: 'local'};</script><script type=\"text/javascript\">if (window.MathJax) {MathJax.Hub.Config({SVG: {font: \"STIX-Web\"}});}</script><script>requirejs.config({paths: { 'plotly': ['https://cdn.plot.ly/plotly-latest.min']},});if(!window._Plotly) {require(['plotly'],function(plotly) {window._Plotly=plotly;});}</script>"
      ]
     },
     "metadata": {},
     "output_type": "display_data"
    },
    {
     "data": {
      "text/html": [
       "<script type=\"text/javascript\">window.PlotlyConfig = {MathJaxConfig: 'local'};</script><script type=\"text/javascript\">if (window.MathJax) {MathJax.Hub.Config({SVG: {font: \"STIX-Web\"}});}</script><script>requirejs.config({paths: { 'plotly': ['https://cdn.plot.ly/plotly-latest.min']},});if(!window._Plotly) {require(['plotly'],function(plotly) {window._Plotly=plotly;});}</script>"
      ],
      "text/vnd.plotly.v1+html": [
       "<script type=\"text/javascript\">window.PlotlyConfig = {MathJaxConfig: 'local'};</script><script type=\"text/javascript\">if (window.MathJax) {MathJax.Hub.Config({SVG: {font: \"STIX-Web\"}});}</script><script>requirejs.config({paths: { 'plotly': ['https://cdn.plot.ly/plotly-latest.min']},});if(!window._Plotly) {require(['plotly'],function(plotly) {window._Plotly=plotly;});}</script>"
      ]
     },
     "metadata": {},
     "output_type": "display_data"
    },
    {
     "data": {
      "text/html": [
       "<script type=\"text/javascript\">window.PlotlyConfig = {MathJaxConfig: 'local'};</script><script type=\"text/javascript\">if (window.MathJax) {MathJax.Hub.Config({SVG: {font: \"STIX-Web\"}});}</script><script>requirejs.config({paths: { 'plotly': ['https://cdn.plot.ly/plotly-latest.min']},});if(!window._Plotly) {require(['plotly'],function(plotly) {window._Plotly=plotly;});}</script>"
      ],
      "text/vnd.plotly.v1+html": [
       "<script type=\"text/javascript\">window.PlotlyConfig = {MathJaxConfig: 'local'};</script><script type=\"text/javascript\">if (window.MathJax) {MathJax.Hub.Config({SVG: {font: \"STIX-Web\"}});}</script><script>requirejs.config({paths: { 'plotly': ['https://cdn.plot.ly/plotly-latest.min']},});if(!window._Plotly) {require(['plotly'],function(plotly) {window._Plotly=plotly;});}</script>"
      ]
     },
     "metadata": {},
     "output_type": "display_data"
    },
    {
     "data": {
      "text/html": [
       "<script type=\"text/javascript\">window.PlotlyConfig = {MathJaxConfig: 'local'};</script><script type=\"text/javascript\">if (window.MathJax) {MathJax.Hub.Config({SVG: {font: \"STIX-Web\"}});}</script><script>requirejs.config({paths: { 'plotly': ['https://cdn.plot.ly/plotly-latest.min']},});if(!window._Plotly) {require(['plotly'],function(plotly) {window._Plotly=plotly;});}</script>"
      ],
      "text/vnd.plotly.v1+html": [
       "<script type=\"text/javascript\">window.PlotlyConfig = {MathJaxConfig: 'local'};</script><script type=\"text/javascript\">if (window.MathJax) {MathJax.Hub.Config({SVG: {font: \"STIX-Web\"}});}</script><script>requirejs.config({paths: { 'plotly': ['https://cdn.plot.ly/plotly-latest.min']},});if(!window._Plotly) {require(['plotly'],function(plotly) {window._Plotly=plotly;});}</script>"
      ]
     },
     "metadata": {},
     "output_type": "display_data"
    },
    {
     "data": {
      "text/html": [
       "<script type=\"text/javascript\">window.PlotlyConfig = {MathJaxConfig: 'local'};</script><script type=\"text/javascript\">if (window.MathJax) {MathJax.Hub.Config({SVG: {font: \"STIX-Web\"}});}</script><script>requirejs.config({paths: { 'plotly': ['https://cdn.plot.ly/plotly-latest.min']},});if(!window._Plotly) {require(['plotly'],function(plotly) {window._Plotly=plotly;});}</script>"
      ],
      "text/vnd.plotly.v1+html": [
       "<script type=\"text/javascript\">window.PlotlyConfig = {MathJaxConfig: 'local'};</script><script type=\"text/javascript\">if (window.MathJax) {MathJax.Hub.Config({SVG: {font: \"STIX-Web\"}});}</script><script>requirejs.config({paths: { 'plotly': ['https://cdn.plot.ly/plotly-latest.min']},});if(!window._Plotly) {require(['plotly'],function(plotly) {window._Plotly=plotly;});}</script>"
      ]
     },
     "metadata": {},
     "output_type": "display_data"
    },
    {
     "data": {
      "text/html": [
       "<script type=\"text/javascript\">window.PlotlyConfig = {MathJaxConfig: 'local'};</script><script type=\"text/javascript\">if (window.MathJax) {MathJax.Hub.Config({SVG: {font: \"STIX-Web\"}});}</script><script>requirejs.config({paths: { 'plotly': ['https://cdn.plot.ly/plotly-latest.min']},});if(!window._Plotly) {require(['plotly'],function(plotly) {window._Plotly=plotly;});}</script>"
      ],
      "text/vnd.plotly.v1+html": [
       "<script type=\"text/javascript\">window.PlotlyConfig = {MathJaxConfig: 'local'};</script><script type=\"text/javascript\">if (window.MathJax) {MathJax.Hub.Config({SVG: {font: \"STIX-Web\"}});}</script><script>requirejs.config({paths: { 'plotly': ['https://cdn.plot.ly/plotly-latest.min']},});if(!window._Plotly) {require(['plotly'],function(plotly) {window._Plotly=plotly;});}</script>"
      ]
     },
     "metadata": {},
     "output_type": "display_data"
    },
    {
     "data": {
      "text/html": [
       "<script type=\"text/javascript\">window.PlotlyConfig = {MathJaxConfig: 'local'};</script><script type=\"text/javascript\">if (window.MathJax) {MathJax.Hub.Config({SVG: {font: \"STIX-Web\"}});}</script><script>requirejs.config({paths: { 'plotly': ['https://cdn.plot.ly/plotly-latest.min']},});if(!window._Plotly) {require(['plotly'],function(plotly) {window._Plotly=plotly;});}</script>"
      ],
      "text/vnd.plotly.v1+html": [
       "<script type=\"text/javascript\">window.PlotlyConfig = {MathJaxConfig: 'local'};</script><script type=\"text/javascript\">if (window.MathJax) {MathJax.Hub.Config({SVG: {font: \"STIX-Web\"}});}</script><script>requirejs.config({paths: { 'plotly': ['https://cdn.plot.ly/plotly-latest.min']},});if(!window._Plotly) {require(['plotly'],function(plotly) {window._Plotly=plotly;});}</script>"
      ]
     },
     "metadata": {},
     "output_type": "display_data"
    },
    {
     "data": {
      "text/html": [
       "<script type=\"text/javascript\">window.PlotlyConfig = {MathJaxConfig: 'local'};</script><script type=\"text/javascript\">if (window.MathJax) {MathJax.Hub.Config({SVG: {font: \"STIX-Web\"}});}</script><script>requirejs.config({paths: { 'plotly': ['https://cdn.plot.ly/plotly-latest.min']},});if(!window._Plotly) {require(['plotly'],function(plotly) {window._Plotly=plotly;});}</script>"
      ],
      "text/vnd.plotly.v1+html": [
       "<script type=\"text/javascript\">window.PlotlyConfig = {MathJaxConfig: 'local'};</script><script type=\"text/javascript\">if (window.MathJax) {MathJax.Hub.Config({SVG: {font: \"STIX-Web\"}});}</script><script>requirejs.config({paths: { 'plotly': ['https://cdn.plot.ly/plotly-latest.min']},});if(!window._Plotly) {require(['plotly'],function(plotly) {window._Plotly=plotly;});}</script>"
      ]
     },
     "metadata": {},
     "output_type": "display_data"
    },
    {
     "data": {
      "text/html": [
       "<script type=\"text/javascript\">window.PlotlyConfig = {MathJaxConfig: 'local'};</script><script type=\"text/javascript\">if (window.MathJax) {MathJax.Hub.Config({SVG: {font: \"STIX-Web\"}});}</script><script>requirejs.config({paths: { 'plotly': ['https://cdn.plot.ly/plotly-latest.min']},});if(!window._Plotly) {require(['plotly'],function(plotly) {window._Plotly=plotly;});}</script>"
      ],
      "text/vnd.plotly.v1+html": [
       "<script type=\"text/javascript\">window.PlotlyConfig = {MathJaxConfig: 'local'};</script><script type=\"text/javascript\">if (window.MathJax) {MathJax.Hub.Config({SVG: {font: \"STIX-Web\"}});}</script><script>requirejs.config({paths: { 'plotly': ['https://cdn.plot.ly/plotly-latest.min']},});if(!window._Plotly) {require(['plotly'],function(plotly) {window._Plotly=plotly;});}</script>"
      ]
     },
     "metadata": {},
     "output_type": "display_data"
    }
   ],
   "source": [
    "# ! LOAD MODULES\n",
    "import seaborn as sns\n",
    "import matplotlib.pyplot as plt\n",
    "import numpy as np\n",
    "import pandas as pd\n",
    "import matplotlib as mpl\n",
    "import itertools\n",
    "import sys\n",
    "import os\n",
    "import re\n",
    "\n",
    "from os import listdir\n",
    "from os.path import isfile, join\n",
    "import os\n",
    "import sys\n",
    "\n",
    "from collections import Counter, defaultdict\n",
    "from multiprocessing import Pool\n",
    "\n",
    "from scipy.stats import pearsonr, linregress, spearmanr,zscore\n",
    "from scipy.stats import wilcoxon,mannwhitneyu,kruskal,f_oneway,ttest_ind, fisher_exact\n",
    "\n",
    "from sklearn import linear_model\n",
    "from sklearn.model_selection import train_test_split, cross_val_predict,cross_val_score,cross_validate\n",
    "from sklearn.metrics import roc_curve, precision_recall_curve, auc, make_scorer, recall_score, accuracy_score, roc_auc_score,precision_score, confusion_matrix\n",
    "from sklearn.decomposition import IncrementalPCA,PCA\n",
    "from sklearn.manifold import TSNE\n",
    "from sklearn import cluster\n",
    "\n",
    "import scipy.spatial as sp, scipy.cluster.hierarchy as hc\n",
    "from scipy import cluster,stats\n",
    "from scipy.cluster.hierarchy import fcluster\n",
    "\n",
    "import plotly as plotly\n",
    "import plotly.graph_objs as go\n",
    "import plotly.plotly as plty \n",
    "import plotly.offline as py_o\n",
    "import plotly.figure_factory as ff\n",
    "plotly.tools.set_credentials_file(username='kevin-hu', api_key='lqhCQjrtitKdFlSZmkJd')\n",
    "py_o.init_notebook_mode(connected=True)\n",
    "\n",
    "from matplotlib import rc\n",
    "plt.rcParams['ps.useafm'] = True\n",
    "plt.rcParams['font.family'] = 'Arial'\n",
    "plt.rcParams['pdf.fonttype'] = 42\n",
    "plt.rcParams['ps.fonttype'] = 42\n",
    "from matplotlib.lines import Line2D\n",
    "from matplotlib.patches import Patch\n",
    "\n",
    "sys.path.append(os.path.relpath(\"../../helper\"))\n",
    "\n",
    "import name_mappings\n",
    "import helper_stats\n",
    "import helper_plots\n",
    "\n",
    "import importlib\n",
    "importlib.reload(helper_stats)\n",
    "importlib.reload(helper_plots)\n",
    "\n",
    "sns.set_style('white', {'axes.linewidth': 0.5})\n",
    "plt.rcParams['xtick.major.size'] = 8\n",
    "plt.rcParams['xtick.major.width'] = 1\n",
    "plt.rcParams['ytick.major.size'] = 8\n",
    "plt.rcParams['ytick.major.width'] = 1\n",
    "plt.rcParams['xtick.bottom'] = True\n",
    "plt.rcParams['ytick.left'] = True\n",
    "\n",
    "sns.set_style(\"ticks\")"
   ]
  },
  {
   "cell_type": "code",
   "execution_count": 4,
   "metadata": {
    "ExecuteTime": {
     "end_time": "2019-06-06T19:36:37.330696Z",
     "start_time": "2019-06-06T19:36:36.732686Z"
    }
   },
   "outputs": [],
   "source": [
    "ensembl_transcripts = pd.read_csv(\"../data/kallisto/kallisto_files/ensembl_75_transcripts.csv\",index_col=2)\n",
    "ensembl_transcripts[\"hgnc_symbol\"] = ensembl_transcripts[\"hgnc_symbol\"].fillna(\"Unnamed\")\n",
    "\n",
    "ensembl_transcripts = ensembl_transcripts.loc[~ensembl_transcripts.index.duplicated(keep='first')]\n",
    "\n",
    "ensembl_transcripts.columns = [\"n\",\"ensembl_gene_id\"]+list(ensembl_transcripts.columns[2:])\n",
    "\n",
    "ensembl_transcripts[\"format_gene_id\"] = ensembl_transcripts[\"hgnc_symbol\"] + \\\n",
    "    \"_\" + ensembl_transcripts[\"ensembl_gene_id\"]\n",
    "\n",
    "gene_id_map = dict(zip(ensembl_transcripts[\"ensembl_gene_id\"],ensembl_transcripts[\"format_gene_id\"]))"
   ]
  },
  {
   "cell_type": "code",
   "execution_count": 56,
   "metadata": {
    "ExecuteTime": {
     "end_time": "2019-06-06T20:50:54.865233Z",
     "start_time": "2019-06-06T20:50:54.836713Z"
    }
   },
   "outputs": [],
   "source": [
    "splice_type = \"A3SS\"\n",
    "\n",
    "rpl22_oe = pd.read_table(\"../data/rmats/rMATS_output/RPL22_oe/\"+splice_type+\".MATS.JC.txt\",\n",
    "                         sep=\"\\t\",\n",
    "                         index_col=0)"
   ]
  },
  {
   "cell_type": "code",
   "execution_count": 57,
   "metadata": {
    "ExecuteTime": {
     "end_time": "2019-06-06T20:50:56.351145Z",
     "start_time": "2019-06-06T20:50:56.331397Z"
    }
   },
   "outputs": [
    {
     "data": {
      "text/html": [
       "<div>\n",
       "<style scoped>\n",
       "    .dataframe tbody tr th:only-of-type {\n",
       "        vertical-align: middle;\n",
       "    }\n",
       "\n",
       "    .dataframe tbody tr th {\n",
       "        vertical-align: top;\n",
       "    }\n",
       "\n",
       "    .dataframe thead th {\n",
       "        text-align: right;\n",
       "    }\n",
       "</style>\n",
       "<table border=\"1\" class=\"dataframe\">\n",
       "  <thead>\n",
       "    <tr style=\"text-align: right;\">\n",
       "      <th></th>\n",
       "      <th>GeneID</th>\n",
       "      <th>geneSymbol</th>\n",
       "      <th>chr</th>\n",
       "      <th>strand</th>\n",
       "      <th>longExonStart_0base</th>\n",
       "      <th>longExonEnd</th>\n",
       "      <th>shortES</th>\n",
       "      <th>shortEE</th>\n",
       "      <th>flankingES</th>\n",
       "      <th>flankingEE</th>\n",
       "      <th>...</th>\n",
       "      <th>SJC_SAMPLE_1</th>\n",
       "      <th>IJC_SAMPLE_2</th>\n",
       "      <th>SJC_SAMPLE_2</th>\n",
       "      <th>IncFormLen</th>\n",
       "      <th>SkipFormLen</th>\n",
       "      <th>PValue</th>\n",
       "      <th>FDR</th>\n",
       "      <th>IncLevel1</th>\n",
       "      <th>IncLevel2</th>\n",
       "      <th>IncLevelDifference</th>\n",
       "    </tr>\n",
       "    <tr>\n",
       "      <th>ID</th>\n",
       "      <th></th>\n",
       "      <th></th>\n",
       "      <th></th>\n",
       "      <th></th>\n",
       "      <th></th>\n",
       "      <th></th>\n",
       "      <th></th>\n",
       "      <th></th>\n",
       "      <th></th>\n",
       "      <th></th>\n",
       "      <th></th>\n",
       "      <th></th>\n",
       "      <th></th>\n",
       "      <th></th>\n",
       "      <th></th>\n",
       "      <th></th>\n",
       "      <th></th>\n",
       "      <th></th>\n",
       "      <th></th>\n",
       "      <th></th>\n",
       "      <th></th>\n",
       "    </tr>\n",
       "  </thead>\n",
       "  <tbody>\n",
       "    <tr>\n",
       "      <th>793</th>\n",
       "      <td>ENSG00000163584</td>\n",
       "      <td>RPL22L1</td>\n",
       "      <td>chr3</td>\n",
       "      <td>-</td>\n",
       "      <td>170585801</td>\n",
       "      <td>170585990</td>\n",
       "      <td>170585801</td>\n",
       "      <td>170585923</td>\n",
       "      <td>170586086</td>\n",
       "      <td>170586176</td>\n",
       "      <td>...</td>\n",
       "      <td>542,426,648</td>\n",
       "      <td>12,27,17</td>\n",
       "      <td>117,131,179</td>\n",
       "      <td>-2</td>\n",
       "      <td>-1</td>\n",
       "      <td>0.00000</td>\n",
       "      <td>0.0</td>\n",
       "      <td>0.001,0.001,0.001</td>\n",
       "      <td>0.049,0.093,0.045</td>\n",
       "      <td>-0.061</td>\n",
       "    </tr>\n",
       "    <tr>\n",
       "      <th>794</th>\n",
       "      <td>ENSG00000163584</td>\n",
       "      <td>RPL22L1</td>\n",
       "      <td>chr3</td>\n",
       "      <td>-</td>\n",
       "      <td>170586086</td>\n",
       "      <td>170586179</td>\n",
       "      <td>170586086</td>\n",
       "      <td>170586176</td>\n",
       "      <td>170587947</td>\n",
       "      <td>170587984</td>\n",
       "      <td>...</td>\n",
       "      <td>50,38,49</td>\n",
       "      <td>77,86,106</td>\n",
       "      <td>7,10,19</td>\n",
       "      <td>-2</td>\n",
       "      <td>-1</td>\n",
       "      <td>0.39036</td>\n",
       "      <td>1.0</td>\n",
       "      <td>0.761,0.751,0.778</td>\n",
       "      <td>0.846,0.811,0.736</td>\n",
       "      <td>-0.034</td>\n",
       "    </tr>\n",
       "  </tbody>\n",
       "</table>\n",
       "<p>2 rows × 22 columns</p>\n",
       "</div>"
      ],
      "text/plain": [
       "              GeneID geneSymbol   chr strand  longExonStart_0base  \\\n",
       "ID                                                                  \n",
       "793  ENSG00000163584    RPL22L1  chr3      -            170585801   \n",
       "794  ENSG00000163584    RPL22L1  chr3      -            170586086   \n",
       "\n",
       "     longExonEnd    shortES    shortEE  flankingES  flankingEE  \\\n",
       "ID                                                               \n",
       "793    170585990  170585801  170585923   170586086   170586176   \n",
       "794    170586179  170586086  170586176   170587947   170587984   \n",
       "\n",
       "           ...          SJC_SAMPLE_1 IJC_SAMPLE_2 SJC_SAMPLE_2 IncFormLen  \\\n",
       "ID         ...                                                              \n",
       "793        ...           542,426,648     12,27,17  117,131,179         -2   \n",
       "794        ...              50,38,49    77,86,106      7,10,19         -2   \n",
       "\n",
       "    SkipFormLen   PValue  FDR          IncLevel1          IncLevel2  \\\n",
       "ID                                                                    \n",
       "793          -1  0.00000  0.0  0.001,0.001,0.001  0.049,0.093,0.045   \n",
       "794          -1  0.39036  1.0  0.761,0.751,0.778  0.846,0.811,0.736   \n",
       "\n",
       "    IncLevelDifference  \n",
       "ID                      \n",
       "793             -0.061  \n",
       "794             -0.034  \n",
       "\n",
       "[2 rows x 22 columns]"
      ]
     },
     "execution_count": 57,
     "metadata": {},
     "output_type": "execute_result"
    }
   ],
   "source": [
    "rpl22_oe[rpl22_oe[\"geneSymbol\"]==\"RPL22L1\"]"
   ]
  },
  {
   "cell_type": "code",
   "execution_count": 139,
   "metadata": {
    "ExecuteTime": {
     "end_time": "2019-06-12T03:43:00.186836Z",
     "start_time": "2019-06-12T03:42:58.542434Z"
    }
   },
   "outputs": [],
   "source": [
    "splice_type = \"SE\"\n",
    "exon_id = \"MDM4_chr1_204506557_204506625\"\n",
    "\n",
    "# splice_type = \"A3SS\"\n",
    "# exon_id = \"RPL22L1_chr3_170585801_170585990\"\n",
    "\n",
    "rpl22_oe = pd.read_table(\"../data/rmats/rMATS_output/RPL22_oe/\"+splice_type+\".MATS.JC.txt\",\n",
    "                         sep=\"\\t\",\n",
    "                         index_col=0)\n",
    "\n",
    "rpl22l1_oe = pd.read_table(\"../data/rmats/rMATS_output/RPL22L1_oe/\"+splice_type+\".MATS.JC.txt\",\n",
    "                           sep=\"\\t\",\n",
    "                           index_col=0)\n",
    "\n",
    "sh704 = pd.read_table(\"../data/rmats/rMATS_output/sh704/\"+splice_type+\".MATS.JC.txt\",\n",
    "                      sep=\"\\t\",\n",
    "                      index_col=0)\n",
    "\n",
    "sh705 = pd.read_table(\"../data/rmats/rMATS_output/sh705/\"+splice_type+\".MATS.JC.txt\",\n",
    "                      sep=\"\\t\",\n",
    "                      index_col=0)\n",
    "\n",
    "rpl22_oe[\"id\"] = rpl22_oe[\"geneSymbol\"] + \"_\" + rpl22_oe[\"chr\"] + \"_\" + \\\n",
    "    rpl22_oe.iloc[:,4].astype(str) + \"_\" + rpl22_oe.iloc[:,5].astype(str)\n",
    "\n",
    "rpl22l1_oe[\"id\"] = rpl22l1_oe[\"geneSymbol\"] + \"_\" + rpl22l1_oe[\"chr\"] + \"_\" + \\\n",
    "    rpl22l1_oe.iloc[:,4].astype(str) + \"_\" + rpl22l1_oe.iloc[:,5].astype(str)\n",
    "\n",
    "sh704[\"id\"] = sh704[\"geneSymbol\"] + \"_\" + sh704[\"chr\"] + \"_\" + \\\n",
    "    sh704.iloc[:,4].astype(str) + \"_\" + sh704.iloc[:,5].astype(str)\n",
    "\n",
    "sh705[\"id\"] = sh705[\"geneSymbol\"] + \"_\" + sh705[\"chr\"] + \"_\" + \\\n",
    "    sh705.iloc[:,4].astype(str) + \"_\" + sh705.iloc[:,5].astype(str)\n",
    "\n"
   ]
  },
  {
   "cell_type": "code",
   "execution_count": 85,
   "metadata": {
    "ExecuteTime": {
     "end_time": "2019-06-06T21:00:41.785317Z",
     "start_time": "2019-06-06T21:00:41.769338Z"
    }
   },
   "outputs": [],
   "source": [
    "rpl22_oe.set_index(\"id\",inplace=True)\n",
    "rpl22l1_oe.set_index(\"id\",inplace=True)\n",
    "sh704.set_index(\"id\",inplace=True)\n",
    "sh705.set_index(\"id\",inplace=True)\n",
    "\n",
    "select_controls = [x.loc[exon_id,\"IncLevel1\"].replace(\"NA\",\"nan\").split(\",\")\n",
    "                   for x in [rpl22_oe,rpl22l1_oe,sh704,sh705]]\n",
    "select_treatments = [x.loc[exon_id,\"IncLevel2\"].replace(\"NA\",\"nan\").split(\",\")\n",
    "                     for x in [rpl22_oe,rpl22l1_oe,sh704,sh705]]\n",
    "\n",
    "select_controls = np.asarray(select_controls).astype(float).flatten()\n",
    "select_treatments = np.asarray(select_treatments).astype(float).flatten()\n",
    "\n",
    "inclusions_df = pd.DataFrame()\n",
    "inclusions_df[\"Exon inclusion\"] = list(select_controls) + list(select_treatments)\n",
    "\n",
    "inclusions_df[\"treatment\"] = [\"Control\"]*12 + [\"Treatment\"]*12\n",
    "\n",
    "inclusions_df[\"Experiment\"] = ([\"RPL22 ++\"]*3 +[\"RPL22L1 ++\"]*3 + [\"sh704\"]*3 + [\"sh705\"]*3)*2"
   ]
  },
  {
   "cell_type": "code",
   "execution_count": 86,
   "metadata": {
    "ExecuteTime": {
     "end_time": "2019-06-06T21:00:42.759153Z",
     "start_time": "2019-06-06T21:00:42.499528Z"
    }
   },
   "outputs": [
    {
     "data": {
      "image/png": "[encoded data removed]",
      "text/plain": [
       "<matplotlib.figure.Figure at 0x1c4f24ab38>"
      ]
     },
     "metadata": {
      "needs_background": "light"
     },
     "output_type": "display_data"
    }
   ],
   "source": [
    "plt.figure(figsize=(4, 2.5))\n",
    "\n",
    "sns.barplot(x=\"Experiment\",\n",
    "        y=\"Exon inclusion\",\n",
    "        data=inclusions_df,\n",
    "        hue=\"treatment\",\n",
    "        palette={\"Control\": \"#e3e3e3\", \"Treatment\": \"#e84545\"},\n",
    "        ci=None)\n",
    "\n",
    "ax = sns.stripplot(x=\"Experiment\",\n",
    "               y=\"Exon inclusion\",\n",
    "               data=inclusions_df,\n",
    "               hue=\"treatment\",\n",
    "               dodge=True,\n",
    "               palette={\"Control\": \"#e3e3e3\", \"Treatment\": \"#e84545\"},\n",
    "               size=8,\n",
    "               jitter=False,\n",
    "               linewidth=2,\n",
    "               edgecolor=\"black\",\n",
    "               alpha=0.75\n",
    "              )\n",
    "\n",
    "ax.get_legend().remove()\n",
    "\n",
    "ax.spines['top'].set_visible(False)\n",
    "ax.spines['right'].set_visible(False)\n",
    "\n",
    "plt.ylim(0)\n",
    "\n",
    "plt.savefig(\"../plots/\"+exon_id + \"_\" + splice_type+\".pdf\",bbox_inches=\"tight\")"
   ]
  },
  {
   "cell_type": "code",
   "execution_count": 93,
   "metadata": {
    "ExecuteTime": {
     "end_time": "2019-06-06T21:20:13.608075Z",
     "start_time": "2019-06-06T21:20:13.598195Z"
    }
   },
   "outputs": [],
   "source": [
    "A3SS[\"mean1\"] = A3SS[\"IncLevel1\"].apply(lambda x: np.mean(np.array(x.replace(\"NA\",\"nan\").split(\",\")).astype(float)))\n",
    "A3SS[\"mean2\"] = A3SS[\"IncLevel2\"].apply(lambda x: np.mean(np.array(x.replace(\"NA\",\"nan\").split(\",\")).astype(float)))\n",
    "A3SS[\"fc\"] = A3SS[\"mean1\"]/A3SS[\"mean2\"]"
   ]
  },
  {
   "cell_type": "code",
   "execution_count": 40,
   "metadata": {
    "ExecuteTime": {
     "end_time": "2019-06-03T19:38:24.538571Z",
     "start_time": "2019-06-03T19:38:23.207068Z"
    }
   },
   "outputs": [
    {
     "data": {
      "image/png": "[encoded data removed]",
      "text/plain": [
       "<matplotlib.figure.Figure at 0x1c2f8b6fd0>"
      ]
     },
     "metadata": {
      "needs_background": "light"
     },
     "output_type": "display_data"
    }
   ],
   "source": [
    "# for each experiment, get the differential splicing events and plot them\n",
    "for ax_idx, expr in enumerate([\n",
    "    \"RPL22_oe\",\n",
    "#     \"RPL22L1_oe\",\n",
    "#     \"sh704\",\n",
    "#     \"sh705\"\n",
    "]):\n",
    "\n",
    "    A3SS = pd.read_csv(\"../data/rmats/rMATS_output/\"+expr +\n",
    "                       \"/A3SS.MATS.JC.txt\", sep=\"\\t\", index_col=0)\n",
    "    A5SS = pd.read_csv(\"../data/rmats/rMATS_output/\"+expr +\n",
    "                       \"/A5SS.MATS.JC.txt\", sep=\"\\t\", index_col=0)\n",
    "    MXE = pd.read_csv(\"../data/rmats/rMATS_output/\"+expr +\n",
    "                      \"/MXE.MATS.JC.txt\", sep=\"\\t\", index_col=0)\n",
    "    RI = pd.read_csv(\"../data/rmats/rMATS_output/\"+expr +\n",
    "                     \"/RI.MATS.JC.txt\", sep=\"\\t\", index_col=0)\n",
    "    SE = pd.read_csv(\"../data/rmats/rMATS_output/\"+expr +\n",
    "                     \"/SE.MATS.JC.txt\", sep=\"\\t\", index_col=0)\n",
    "\n",
    "    select_cols = [\"IncLevelDifference\", \"FDR\", \"geneSymbol\"]\n",
    "\n",
    "    merged = pd.concat([A3SS[select_cols],\n",
    "                        A5SS[select_cols],\n",
    "                        MXE[select_cols],\n",
    "                        RI[select_cols],\n",
    "                        SE[select_cols]], axis=0)\n",
    "\n",
    "    x = merged[\"IncLevelDifference\"]\n",
    "    y = -np.log10(merged[\"FDR\"]+10**(-15))\n",
    "\n",
    "    labels = merged[\"geneSymbol\"]\n",
    "\n",
    "    significants = y > 6\n",
    "    \n",
    "    plt.figure(figsize=(8,6))\n",
    "\n",
    "    helper_plots.dense_plot(x, y, significants, labels)\n",
    "\n",
    "    plt.show()"
   ]
  },
  {
   "cell_type": "code",
   "execution_count": 134,
   "metadata": {
    "ExecuteTime": {
     "end_time": "2019-06-06T21:57:52.840838Z",
     "start_time": "2019-06-06T21:57:50.986515Z"
    }
   },
   "outputs": [
    {
     "data": {
      "image/png": "[encoded data removed]",
      "text/plain": [
       "<matplotlib.figure.Figure at 0x1c3c832390>"
      ]
     },
     "metadata": {
      "needs_background": "light"
     },
     "output_type": "display_data"
    }
   ],
   "source": [
    "fig, axes = plt.subplots(1, 4, figsize=(12, 3))\n",
    "plt.subplots_adjust(wspace=0.25, hspace=0.5)\n",
    "\n",
    "# for each experiment, get the differential splicing events and plot them\n",
    "for ax_idx, expr in enumerate([\"RPL22_oe\", \"RPL22L1_oe\", \"sh704\", \"sh705\"]):\n",
    "\n",
    "    A3SS = pd.read_table(\"../data/rmats/rMATS_output/\"+expr +\n",
    "                         \"/A3SS.MATS.JC.txt\", sep=\"\\t\", index_col=0)\n",
    "    A5SS = pd.read_table(\"../data/rmats/rMATS_output/\"+expr +\n",
    "                         \"/A5SS.MATS.JC.txt\", sep=\"\\t\", index_col=0)\n",
    "    MXE = pd.read_table(\"../data/rmats/rMATS_output/\"+expr +\n",
    "                        \"/MXE.MATS.JC.txt\", sep=\"\\t\", index_col=0)\n",
    "    RI = pd.read_table(\"../data/rmats/rMATS_output/\"+expr +\n",
    "                       \"/RI.MATS.JC.txt\", sep=\"\\t\", index_col=0)\n",
    "    SE = pd.read_table(\"../data/rmats/rMATS_output/\"+expr +\n",
    "                       \"/SE.MATS.JC.txt\", sep=\"\\t\", index_col=0)\n",
    "\n",
    "    # filter for only significant events with some difference\n",
    "\n",
    "    A3SS = A3SS[A3SS[\"FDR\"] < 0.01]\n",
    "    A5SS = A5SS[A5SS[\"FDR\"] < 0.01]\n",
    "    MXE = MXE[MXE[\"FDR\"] < 0.01]\n",
    "    RI = RI[RI[\"FDR\"] < 0.01]\n",
    "    SE = SE[SE[\"FDR\"] < 0.01]\n",
    "\n",
    "#     A3SS = A3SS[np.abs(A3SS[\"IncLevelDifference\"]) > 0.05]\n",
    "#     A5SS = A5SS[np.abs(A5SS[\"IncLevelDifference\"]) > 0.05]\n",
    "#     MXE = MXE[np.abs(MXE[\"IncLevelDifference\"]) > 0.05]\n",
    "#     RI = RI[np.abs(RI[\"IncLevelDifference\"]) > 0.05]\n",
    "#     SE = SE[np.abs(SE[\"IncLevelDifference\"]) > 0.05]\n",
    "\n",
    "    splice_types = pd.DataFrame()\n",
    "    splice_types[\"Splice type\"] = [\"A3SS\", \"A5SS\", \"MXE\", \"RI\", \"SE\"]*2\n",
    "    splice_types[\"Direction\"] = [\"PSI increase\"]*5 + [\"PSI decrease\"]*5\n",
    "\n",
    "    upregulated = [len(x[x[\"IncLevelDifference\"] < 0])\n",
    "                   for x in [A3SS, A5SS, MXE, RI, SE]]\n",
    "    downregulated = [len(x[x[\"IncLevelDifference\"] > 0])\n",
    "                     for x in [A3SS, A5SS, MXE, RI, SE]]\n",
    "\n",
    "    splice_types[\"Frequency\"] = upregulated+downregulated\n",
    "\n",
    "    ax = sns.barplot(x=\"Splice type\",\n",
    "                     y=\"Frequency\",\n",
    "                     data=splice_types,\n",
    "                     hue=\"Direction\",\n",
    "                     palette={\"PSI increase\": \"#ff8a5c\",\n",
    "                              \"PSI decrease\": \"#be3737\"},\n",
    "                     ax=axes[ax_idx])\n",
    "\n",
    "    ax.set_title(expr)\n",
    "\n",
    "    ax.spines['top'].set_visible(False)\n",
    "    ax.spines['right'].set_visible(False)\n",
    "    \n",
    "    ax.set_ylabel(\"\")\n",
    "    ax.get_legend().remove()\n",
    "    \n",
    "    \n",
    "plt.savefig(\"../plots/splice_type_counts.pdf\", bbox_inches=\"tight\")"
   ]
  }
 ],
 "metadata": {
  "kernelspec": {
   "display_name": "Python 3",
   "language": "python",
   "name": "python3"
  },
  "language_info": {
   "codemirror_mode": {
    "name": "ipython",
    "version": 3
   },
   "file_extension": ".py",
   "mimetype": "text/x-python",
   "name": "python",
   "nbconvert_exporter": "python",
   "pygments_lexer": "ipython3",
   "version": "3.7.3"
  },
  "toc": {
   "base_numbering": 1,
   "nav_menu": {},
   "number_sections": true,
   "sideBar": true,
   "skip_h1_title": false,
   "title_cell": "Table of Contents",
   "title_sidebar": "Contents",
   "toc_cell": false,
   "toc_position": {},
   "toc_section_display": true,
   "toc_window_display": false
  }
 },
 "nbformat": 4,
 "nbformat_minor": 2
}
